{
 "cells": [
  {
   "cell_type": "markdown",
   "metadata": {
    "school_cell_uuid": "2b122ed65394470faafd57b03e46dd1d"
   },
   "source": [
    "# 연립 방정식과 역행렬"
   ]
  },
  {
   "cell_type": "markdown",
   "metadata": {
    "school_cell_uuid": "094df8daf2c94bf8a0bebd39a51fb826"
   },
   "source": [
    "다음과 같이 $x_1, x_2, \\cdots, x_M$ 이라는 $M$ 개의 미지수를 가지는 $N$개의 방정식을 **연립 방정식(system of equations)**이라고 한다.\n",
    "\n",
    "$$\n",
    "\\begin{matrix}\n",
    "a_{11} x_1 & + \\;& a_{12} x_2   &\\; + \\cdots + \\;& a_{1M} x_M &\\; = \\;& b_1 \\\\\n",
    "a_{21} x_1 & + \\;& a_{22} x_2   &\\; + \\cdots + \\;& a_{2M} x_M &\\; = \\;& b_2 \\\\\n",
    "\\vdots\\;\\;\\; &   & \\vdots\\;\\;\\; &                & \\vdots\\;\\;\\; &     & \\;\\vdots \\\\\n",
    "a_{N1} x_1 & + \\;& a_{N2} x_2   &\\; + \\cdots + \\;& a_{NM} x_M &\\; = \\;& b_N \\\\\n",
    "\\end{matrix}\n",
    "$$\n"
   ]
  },
  {
   "cell_type": "markdown",
   "metadata": {
    "school_cell_uuid": "3b7ebaa2161e4efe8cf6f1b68264a2f3"
   },
   "source": [
    "행렬의 곱셈을 이용하면 이 연립 방정식은 다음과 같이 간단하게 쓸 수 있다.\n",
    "$$ Ax = b $$"
   ]
  },
  {
   "cell_type": "markdown",
   "metadata": {
    "school_cell_uuid": "d108adb7a427425fad3d4877327f391a"
   },
   "source": [
    "이 식에서 $A, x, b$ 는 각각 계수 행렬, 미지수 벡터, 상수 벡터라고 부르며 다음과 같이 정의한다.\n",
    "\n",
    "$$\n",
    "A = \n",
    "\\begin{bmatrix}\n",
    "a_{11} & a_{12} & \\cdots & a_{1M} \\\\\n",
    "a_{21} & a_{22} & \\cdots & a_{2M} \\\\\n",
    "\\vdots & \\vdots & \\ddots & \\vdots \\\\\n",
    "a_{N1} & a_{N2} & \\cdots & a_{NM} \\\\\n",
    "\\end{bmatrix}\n",
    "$$\n",
    "\n",
    "\n",
    "$$\n",
    "x = \n",
    "\\begin{bmatrix}\n",
    "x_1 \\\\ x_2 \\\\ \\vdots \\\\ x_M\n",
    "\\end{bmatrix}\n",
    "$$\n",
    "\n",
    "\n",
    "$$\n",
    "b=\n",
    "\\begin{bmatrix}\n",
    "b_1 \\\\ b_2 \\\\ \\vdots \\\\ b_N\n",
    "\\end{bmatrix}\n",
    "$$\n",
    "\n",
    "$$\n",
    "Ax = b \n",
    "\\;\\;\\;\\;\\;\n",
    "\\rightarrow\n",
    "\\;\\;\\;\\;\\;\n",
    "\\begin{bmatrix}\n",
    "a_{11} & a_{12} & \\cdots & a_{1M} \\\\\n",
    "a_{21} & a_{22} & \\cdots & a_{2M} \\\\\n",
    "\\vdots & \\vdots & \\ddots & \\vdots \\\\\n",
    "a_{N1} & a_{N2} & \\cdots & a_{NM} \\\\\n",
    "\\end{bmatrix}\n",
    "\\begin{bmatrix}\n",
    "x_1 \\\\ x_2 \\\\ \\vdots \\\\ x_M\n",
    "\\end{bmatrix}\n",
    "=\n",
    "\\begin{bmatrix}\n",
    "b_1 \\\\ b_2 \\\\ \\vdots \\\\ b_N\n",
    "\\end{bmatrix}\n",
    "$$\n"
   ]
  },
  {
   "cell_type": "markdown",
   "metadata": {
    "school_cell_uuid": "fa3cdca86a4e45adb21a880f4d2d5ca5"
   },
   "source": [
    "예를 들어 다음과 같은 연립 방정식은\n",
    "\n",
    "$$\n",
    "\\begin{alignat}{7}\n",
    "3x_1 &&\\; + \\;&& 2x_2             &&\\; - \\;&& x_3  &&\\; = \\;&& 1 & \\\\\n",
    "2x_1 &&\\; - \\;&& 2x_2             &&\\; + \\;&& 4x_3 &&\\; = \\;&& -2 & \\\\\n",
    "-x_1 &&\\; + \\;&& \\tfrac{1}{2} x_2 &&\\; - \\;&& x_3  &&\\; = \\;&& 0 &\n",
    "\\end{alignat}\n",
    "$$\n",
    "\n",
    "다음과 같이 쓸 수 있다.\n",
    "\n",
    "\n",
    "$$\n",
    "Ax = b, \\;\\;\\;\\;\n",
    "A = \n",
    "\\begin{bmatrix}\n",
    " 3 &  2 & -1 \\\\\n",
    " 2 & -2 &  4 \\\\\n",
    "-1 & \\tfrac{1}{2} & 1 \\\\\n",
    "\\end{bmatrix}, \\;\\;\\;\n",
    "b = \\begin{bmatrix}\n",
    "1 \\\\ -2 \\\\ 0\n",
    "\\end{bmatrix}\n",
    "$$\n"
   ]
  },
  {
   "cell_type": "markdown",
   "metadata": {
    "school_cell_uuid": "70e7bb4b9a614949aab7e6de381fa006"
   },
   "source": [
    "만약 $A, x, b$가 행렬이 아닌 실수라면 이 식은 나눗셈을 사용하여 다음과 같이 쉽게 풀 수 있을 것이다.\n",
    "\n",
    "$$ x = \\dfrac{b}{A} $$\n",
    "\n",
    "그러나 행렬은 나눗셈이 정의되지 않으므로 이 식은 사용할 수 없다. 대신 역행렬(inverse)을 사용하여 이 식을 쉽게 풀 수 있다."
   ]
  },
  {
   "cell_type": "markdown",
   "metadata": {
    "school_cell_uuid": "8566ab82c8754af7ab62087c56ffa579"
   },
   "source": [
    "## 역행렬"
   ]
  },
  {
   "cell_type": "markdown",
   "metadata": {
    "school_cell_uuid": "cdd3e29fbd7140ffb50f413103966a8e"
   },
   "source": [
    "정방 행렬 $A\\;(A \\in \\mathbb{R}^{N \\times N}) $ 에 대한 **역행렬** $A^{-1}$은 원래의 행렬 $A$와 다음 관계를 만족하는 정방 행렬을 말한다. $I$는 단위 행렬(identity matrix)이다.\n",
    "\n",
    "$$ A^{-1} A = A A^{-1} = I $$"
   ]
  },
  {
   "cell_type": "markdown",
   "metadata": {
    "school_cell_uuid": "90917773200c44e890be12fe4536ccdd"
   },
   "source": [
    "## 역행렬의 성질\n",
    "\n",
    "* 전치행렬의 역행렬은 역행렬의 전치행렬과 같다.\n",
    "\n",
    "$$ (A^{T})^{-1} = (A^{-1})^{T} $$"
   ]
  },
  {
   "cell_type": "markdown",
   "metadata": {
    "school_cell_uuid": "d2de9de3c10b4f7bb0734d4e9e046f5e"
   },
   "source": [
    "* 두 개 이상의 정방 행렬의 곱은 마찬가지로 같은 크기의 정방행렬이 되는데 이러한 행렬의 곱의 역행렬에 대해서는 다음 성질이 성립한다.\n",
    "\n",
    "$$ (AB)^{-1} = B^{-1} A^{-1} $$\n",
    "\n",
    "$$ (ABC)^{-1} = C^{-1} B^{-1} A^{-1} $$"
   ]
  },
  {
   "cell_type": "markdown",
   "metadata": {
    "school_cell_uuid": "c2a030cbe02143f38c8cdf7b0bbf8e49"
   },
   "source": [
    "* 또한 역행렬은 행렬식과 다음과 같은 관계를 가진다. 이 식에서 코팩터로 이루어진 행렬 $C$을 코팩터 행렬(matrix of cofactors, 또는 cofactor matrix, comatrix)이라고 한다.  또한 코팩터 행렬의 전치 행렬 $C^T$를 어드조인트 행렬(adjoint matrix) 또는 adjugate matrix 이라고 하며 $\\text{adj}(A)$로 표기하기도 한다.\n",
    "\n",
    "$$ A^{-1} = \\dfrac{1}{\\det A} C^T = \\dfrac{1}{\\det A} \n",
    "\\begin{bmatrix}\n",
    "C_{1,1} &\\cdots& C_{N, 1}\\\\\n",
    "\\vdots &\\ddots &\\vdots\\\\\n",
    "C_{1,N} &\\cdots &C_{N,N}\\\\\n",
    "\\end{bmatrix}\n",
    "$$\n",
    "\n",
    "위 식을 이용하면 임의의 정방행렬의 역행렬을 구할 수 있고 **역행렬은 행렬식이 0이 아닌 경우에만 존재한다**는 것을 알 수 있다."
   ]
  },
  {
   "cell_type": "markdown",
   "metadata": {
    "bootstrap": {
     "panel": {
      "class": "panel-default"
     }
    },
    "school_cell_uuid": "d0e0cffb46fe47e395c44c2d8b984de6"
   },
   "source": [
    "#### 연습 문제 1\n",
    "\n",
    "코팩터 식을 사용하여 다음 역행렬을 계산해 보아라.\n",
    "\n",
    "1. $$\n",
    "\\begin{bmatrix} \n",
    "2 & 0 \\\\\n",
    "0 & 1  \n",
    "\\end{bmatrix}^{-1}\n",
    "$$\n",
    "\n",
    "2. $$\n",
    "\\begin{bmatrix} \n",
    "\\dfrac{1}{\\sqrt{2}} & -\\dfrac{1}{\\sqrt{2}} \\\\\n",
    "\\dfrac{1}{\\sqrt{2}} &  \\dfrac{1}{\\sqrt{2}} \n",
    "\\end{bmatrix}^{-1}\n",
    "$$"
   ]
  },
  {
   "cell_type": "markdown",
   "metadata": {
    "school_cell_uuid": "80d003de22bf40bcb4de83e748a1b64d"
   },
   "source": [
    "## 역행렬과 연립 방정식의 해"
   ]
  },
  {
   "cell_type": "markdown",
   "metadata": {
    "school_cell_uuid": "ae56a2b4e21c42d5abe00dbb4d23896e"
   },
   "source": [
    "미지수의 수와 방정식의 수가 같다면 행렬 $A$ 는 정방 행렬이 된다. \n",
    "\n",
    "\n",
    "만약 행렬 $A$의 역행렬 $ A^{-1} $ 이 존재한다면 역행렬의 정의에서 연립 방정식의 해는 다음과 같이 구해진다.\n",
    "\n",
    "$$ Ax = b $$\n",
    "\n",
    "\n",
    "$$ A^{-1}Ax = A^{-1}b $$\n",
    "\n",
    "\n",
    "$$ Ix = A^{-1}b $$\n",
    "\n",
    "\n",
    "$$ x = A^{-1}b $$\n"
   ]
  },
  {
   "cell_type": "markdown",
   "metadata": {
    "school_cell_uuid": "cfe20d87a7714a7fb38322ea2f224fb6"
   },
   "source": [
    "## NumPy의 역행렬 계산"
   ]
  },
  {
   "cell_type": "markdown",
   "metadata": {
    "school_cell_uuid": "8325b4529a8046d5afeeaa75c650b742"
   },
   "source": [
    "NumPy의 linalg 서브패키지에는 역행렬을 구하는 `inv` 라는 명령어가 존재한다. 그러나 실제 계산시에는 수치해석 상의 여러가지 문제로 `inv` 명령어 보다는 `lstsq` (least square) 명령어를 사용한다."
   ]
  },
  {
   "cell_type": "code",
   "execution_count": 1,
   "metadata": {
    "school_cell_uuid": "03dae528c2b44fde84943eb24636aa35"
   },
   "outputs": [
    {
     "data": {
      "text/plain": [
       "array([[ 1,  3, -2],\n",
       "       [ 3,  5,  6],\n",
       "       [ 2,  4,  3]])"
      ]
     },
     "execution_count": 1,
     "metadata": {},
     "output_type": "execute_result"
    }
   ],
   "source": [
    "A = np.array([[1, 3, -2], [3, 5, 6], [2, 4, 3]])\n",
    "A"
   ]
  },
  {
   "cell_type": "code",
   "execution_count": 2,
   "metadata": {
    "school_cell_uuid": "2a3cf7fc5356482a9b7f35f548e8a39f"
   },
   "outputs": [
    {
     "data": {
      "text/plain": [
       "array([[5],\n",
       "       [7],\n",
       "       [8]])"
      ]
     },
     "execution_count": 2,
     "metadata": {},
     "output_type": "execute_result"
    }
   ],
   "source": [
    "b = np.array([[5], [7], [8]])\n",
    "b"
   ]
  },
  {
   "cell_type": "code",
   "execution_count": 4,
   "metadata": {
    "school_cell_uuid": "957d8ed805f44e91a5000657126af584"
   },
   "outputs": [
    {
     "data": {
      "text/plain": [
       "array([[ 2.25,  4.25, -7.  ],\n",
       "       [-0.75, -1.75,  3.  ],\n",
       "       [-0.5 , -0.5 ,  1.  ]])"
      ]
     },
     "execution_count": 4,
     "metadata": {},
     "output_type": "execute_result"
    }
   ],
   "source": [
    "Ainv = np.linalg.inv(A)\n",
    "Ainv"
   ]
  },
  {
   "cell_type": "code",
   "execution_count": 5,
   "metadata": {
    "school_cell_uuid": "d3998c66a793467e9be557975195c796"
   },
   "outputs": [
    {
     "data": {
      "text/plain": [
       "array([[-15.],\n",
       "       [  8.],\n",
       "       [  2.]])"
      ]
     },
     "execution_count": 5,
     "metadata": {},
     "output_type": "execute_result"
    }
   ],
   "source": [
    "x = np.dot(Ainv, b)\n",
    "x"
   ]
  },
  {
   "cell_type": "code",
   "execution_count": 6,
   "metadata": {
    "school_cell_uuid": "3f7280e955b44bae95a4b9c20b32c8ba"
   },
   "outputs": [
    {
     "data": {
      "text/plain": [
       "array([[ -3.55271368e-15],\n",
       "       [ -1.42108547e-14],\n",
       "       [ -1.42108547e-14]])"
      ]
     },
     "execution_count": 6,
     "metadata": {},
     "output_type": "execute_result"
    }
   ],
   "source": [
    "np.dot(A, x) - b"
   ]
  },
  {
   "cell_type": "code",
   "execution_count": 12,
   "metadata": {
    "school_cell_uuid": "28c7be2eab0e4df796af4d115b907a12"
   },
   "outputs": [
    {
     "data": {
      "text/plain": [
       "array([[-15.],\n",
       "       [  8.],\n",
       "       [  2.]])"
      ]
     },
     "execution_count": 12,
     "metadata": {},
     "output_type": "execute_result"
    }
   ],
   "source": [
    "x, resid, rank, s = np.linalg.lstsq(A, b)\n",
    "x"
   ]
  },
  {
   "cell_type": "markdown",
   "metadata": {
    "school_cell_uuid": "eb96ac6d79e141f6a74048cc55b1db76"
   },
   "source": [
    "위 해결 방법에는 두 가지 의문이 존재한다. 우선 역행렬이 존재하는지 어떻게 알 수 있는가? 또 두 번째 만약 미지수의 수와 방정식의 수가 다르다면 어떻게 되는가?"
   ]
  },
  {
   "cell_type": "markdown",
   "metadata": {
    "school_cell_uuid": "c36fae9c6255469baa42fd8c42f19d5a"
   },
   "source": [
    "## 역행렬의 존재"
   ]
  },
  {
   "cell_type": "markdown",
   "metadata": {
    "school_cell_uuid": "3d68ff59901e46e7b4343110d3cba3f3"
   },
   "source": [
    "위에서 말한 행렬식과 역행렬의 관계에서 다음을 알 수 있다.\n",
    "\n",
    "> 행렬식의 값이 0이 아니면 역행렬이 존재한다. 반대로 역행렬이 존재하면 행렬식의 값은 0이 아니다. \n",
    "\n",
    "따라서 행렬식의 값을 계산하여 역행렬의 존재 여부를 알아낸다."
   ]
  },
  {
   "cell_type": "markdown",
   "metadata": {
    "school_cell_uuid": "db5d343694e2479e8f4370e418554e19"
   },
   "source": [
    "## 최소 자승 문제"
   ]
  },
  {
   "cell_type": "markdown",
   "metadata": {
    "school_cell_uuid": "7bae01ecc57740519652cf05c7108ae6"
   },
   "source": [
    "다음으로 미지수의 수와 방정식의 수를 고려해 볼 때 연립 방정식에는 다음과 같은 세 종류가 있을 수 있다.\n",
    "\n",
    "1. 방정식의 수가 미지수의 수와 같다. ($N = M$)\n",
    "2. 방정식의 수가 미지수의 수보다 적다. ($N < M$)\n",
    "3. 방정식의 수가 미지수의 수보다 많다. ($N > M$)"
   ]
  },
  {
   "cell_type": "markdown",
   "metadata": {
    "school_cell_uuid": "74c8f71c4bde4c60b85a946e13902eb6"
   },
   "source": [
    "1번의 경우는 앞에서 다루었다. 2번의 경우에는 무수히 많은 해가 존재할 수 있다. 3번의 경우에는 2번과 반대로 모든 조건을 만족하는 해가 하나도 존재할 수 없을 수도 있다."
   ]
  },
  {
   "cell_type": "markdown",
   "metadata": {
    "school_cell_uuid": "aa286236f6454eeab7d17d6728464591"
   },
   "source": [
    "그런데 데이터 분석 문제에서는 계수 행렬 $A$ 를 특징 행렬 $X$, 미지수 벡터 $x$ 를 가중치 벡터 $w$ 라고 보았을 때 데이터의 수가 가중치의 수보다 많은 경우가 즉 3번과 같은 경우가 일반적이다. 만약 데이터의 수가 가중치의 수보다 적은 경우에는 일반적으로 데이터 분석을 할 수 없다.\n",
    "\n",
    "방정식의 수가 미지수의 수보다 많은 경우에는 정확한 해가 존재하지 않기 때문에 방정식의 우변과 좌변이 정확하게 등호를 이루기를 바라지는 않는다. 대신 좌변과 우변을 비슷하게라도 만들 수 있는 미지수를 찾을 수 있다면 아예 아무런 숫자를 찾지 못하는 것보다는 훨씬 나을 것이다.\n",
    "\n",
    "$$ Ax \\approx b $$"
   ]
  },
  {
   "cell_type": "markdown",
   "metadata": {
    "school_cell_uuid": "89e8db7955504c3a8489fcdc60896d4a"
   },
   "source": [
    "이 경우에는 좌변과 우변의 차이를 최소화하는 문제로 바꾸어 풀 수 있다. \n",
    "\n",
    "$$ e = Ax-b $$\n",
    "\n",
    "좌변과 우변의 차이 즉 잔차를 최소화 한다는 것은 잔차 벡터의 크기 즉, 놈을 최소화 하는 것과 같다.\n",
    "\n",
    "$$ e^Te = \\Vert e \\Vert^2 = (Ax-b)^T(Ax-b) $$\n",
    "\n",
    "이 값을 최소화 하는 $x$ 값을 찾는 식은 다음과 같이 표현한다.\n",
    "\n",
    "$$ x = \\text{arg} \\min_x e^Te = \\text{arg} \\min_x  \\; (Ax-b)^T(Ax-b) $$\n",
    "\n",
    "위 식에서 $ \\text{arg} \\min_x f(x) $ 는 함수 $f(x)$를 가장 작게 만드는 $x$ 값을 의미한다. \n",
    "\n",
    "이러한 문제를 **최소 자승(Least Square)** 문제라고 한다."
   ]
  },
  {
   "cell_type": "markdown",
   "metadata": {
    "school_cell_uuid": "81ff630de95041acb578560f1aa30a98"
   },
   "source": [
    "$A^TA$가 항상 정방 행렬이 된다는 점을 이용하여 다음과 같이 최소 자승 문제의 답이 어떤 형태가 되는지 살펴보자.\n",
    "\n",
    "$$ Ax \\approx b $$\n",
    "\n",
    "이 식의 양변에 $A^T$를 곱하면 각각 $ A^TAx $와 $A^Tb $ 가 된다. 이 두 개의 벡터의 값이 같다고 일단 가정해 보자. (이러한 가정이 성립할 수 있는지는 추후에 공부하게 된다.)\n",
    "\n",
    "$$ A^TAx = A^Tb $$\n",
    "\n",
    "만약 정방행렬  $A^TA$의 역행렬 $(A^TA)^{-1}$이 존재한다면\n",
    "\n",
    "$$  (A^TA)^{-1}(A^TA)x = (A^TA)^{-1}A^Tb $$\n",
    "\n",
    "$$ x = (A^TA)^{-1}A^T b $$\n",
    "\n",
    "$$ x = ((A^TA)^{-1}A^T) b $$"
   ]
  },
  {
   "cell_type": "markdown",
   "metadata": {
    "school_cell_uuid": "692be64135494b30ba2820139f59d5d6"
   },
   "source": [
    " 여기에서 행렬 $(A^TA)^{-1}A^T$ 를 행렬 $A$의 **의사 역행렬(pseudo inverse)**라고 하며 다음과 같이 $ A^{+}$ 로 표기하기도 한다. \n",
    "\n",
    "$$ A^{+} = (A^TA)^{-1}A^T $$\n",
    "\n",
    "$$ x = A^+ b $$\n",
    "이 값이 최소 자승 문제의 답이 된다는 것은 나중에 행렬의 미분을 사용하여 증명할 것이다."
   ]
  },
  {
   "cell_type": "markdown",
   "metadata": {
    "school_cell_uuid": "944ee4ba92514eb594b3efc50772e85f"
   },
   "source": [
    "NumPy의 `lstsq` 명령은 사실 이러한 최소 자승 문제를 푸는 명령이다."
   ]
  },
  {
   "cell_type": "code",
   "execution_count": 15,
   "metadata": {
    "school_cell_uuid": "6b637ab045f14c8fb6c3607739bc472d"
   },
   "outputs": [
    {
     "data": {
      "text/plain": [
       "array([[ 2,  0],\n",
       "       [-1,  1],\n",
       "       [ 0,  2]])"
      ]
     },
     "execution_count": 15,
     "metadata": {},
     "output_type": "execute_result"
    }
   ],
   "source": [
    "A = np.array([[2, 0], [-1, 1], [0, 2]])\n",
    "A"
   ]
  },
  {
   "cell_type": "code",
   "execution_count": 16,
   "metadata": {
    "school_cell_uuid": "f7841f7fee3a4154aa28b5c8c99d04d6"
   },
   "outputs": [
    {
     "data": {
      "text/plain": [
       "array([[ 1],\n",
       "       [ 0],\n",
       "       [-1]])"
      ]
     },
     "execution_count": 16,
     "metadata": {},
     "output_type": "execute_result"
    }
   ],
   "source": [
    "b = np.array([[1], [0], [-1]])\n",
    "b"
   ]
  },
  {
   "cell_type": "code",
   "execution_count": 17,
   "metadata": {
    "school_cell_uuid": "aa77a682007f47a2b816edf7a189f604"
   },
   "outputs": [
    {
     "data": {
      "text/plain": [
       "array([[ 0.41666667, -0.16666667,  0.08333333],\n",
       "       [ 0.08333333,  0.16666667,  0.41666667]])"
      ]
     },
     "execution_count": 17,
     "metadata": {},
     "output_type": "execute_result"
    }
   ],
   "source": [
    "Apinv = np.dot(np.linalg.inv(np.dot(A.T, A)), A.T)\n",
    "Apinv"
   ]
  },
  {
   "cell_type": "code",
   "execution_count": 18,
   "metadata": {
    "school_cell_uuid": "a77798c4871040da9e036aea73b0d9c6"
   },
   "outputs": [
    {
     "data": {
      "text/plain": [
       "array([[ 0.33333333],\n",
       "       [-0.33333333]])"
      ]
     },
     "execution_count": 18,
     "metadata": {},
     "output_type": "execute_result"
    }
   ],
   "source": [
    "x = np.dot(Apinv, b)\n",
    "x"
   ]
  },
  {
   "cell_type": "code",
   "execution_count": 19,
   "metadata": {
    "school_cell_uuid": "e434374930354029962fbf535fe31294"
   },
   "outputs": [
    {
     "data": {
      "text/plain": [
       "array([[-0.33333333],\n",
       "       [-0.66666667],\n",
       "       [ 0.33333333]])"
      ]
     },
     "execution_count": 19,
     "metadata": {},
     "output_type": "execute_result"
    }
   ],
   "source": [
    "np.dot(A, x) - b"
   ]
  },
  {
   "cell_type": "code",
   "execution_count": 20,
   "metadata": {
    "school_cell_uuid": "4d1e378932d9463fa667104c42524208"
   },
   "outputs": [
    {
     "data": {
      "text/plain": [
       "array([[ 0.33333333],\n",
       "       [-0.33333333]])"
      ]
     },
     "execution_count": 20,
     "metadata": {},
     "output_type": "execute_result"
    }
   ],
   "source": [
    "x, resid, rank, s = np.linalg.lstsq(A, b)\n",
    "x"
   ]
  }
 ],
 "metadata": {
  "celltoolbar": "Edit Metadata",
  "kernelspec": {
   "display_name": "Python 2",
   "language": "python",
   "name": "python2"
  },
  "language_info": {
   "codemirror_mode": {
    "name": "ipython",
    "version": 2
   },
   "file_extension": ".py",
   "mimetype": "text/x-python",
   "name": "python",
   "nbconvert_exporter": "python",
   "pygments_lexer": "ipython2",
   "version": "2.7.13"
  }
 },
 "nbformat": 4,
 "nbformat_minor": 1
}
