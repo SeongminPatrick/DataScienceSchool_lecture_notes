{
 "cells": [
  {
   "cell_type": "markdown",
   "metadata": {},
   "source": [
    "https://projecteuler.net/problem=127  \n",
    "The radical of n, rad(n), is the product of distinct prime factors of n. For example, 504 = 23 × 32 × 7, so rad(504) = 2 × 3 × 7 = 42.\n",
    "\n",
    "We shall define the triplet of positive integers (a, b, c) to be an abc-hit if:\n",
    "\n",
    "GCD(a, b) = GCD(a, c) = GCD(b, c) = 1  \n",
    "a < b  \n",
    "a + b = c  \n",
    "rad(abc) < c  \n",
    "For example, (5, 27, 32) is an abc-hit, because:  \n",
    "\n",
    "GCD(5, 27) = GCD(5, 32) = GCD(27, 32) = 1  \n",
    "5 < 27  \n",
    "5 + 27 = 32  \n",
    "rad(4320) = 30 < 32  \n",
    "It turns out that abc-hits are quite rare and there are only thirty-one abc-hits for c < 1000, with ∑c = 12523.  \n",
    "\n",
    "Find ∑c for c < 120000."
   ]
  },
  {
   "cell_type": "code",
   "execution_count": null,
   "metadata": {},
   "outputs": [],
   "source": []
  },
  {
   "cell_type": "code",
   "execution_count": null,
   "metadata": {},
   "outputs": [],
   "source": []
  },
  {
   "cell_type": "code",
   "execution_count": null,
   "metadata": {},
   "outputs": [],
   "source": []
  },
  {
   "cell_type": "code",
   "execution_count": null,
   "metadata": {},
   "outputs": [],
   "source": []
  },
  {
   "cell_type": "code",
   "execution_count": null,
   "metadata": {},
   "outputs": [],
   "source": []
  },
  {
   "cell_type": "code",
   "execution_count": null,
   "metadata": {},
   "outputs": [],
   "source": []
  },
  {
   "cell_type": "markdown",
   "metadata": {},
   "source": [
    "https://projecteuler.net/problem=437  \n",
    "When we calculate 8n modulo 11 for n=0 to 9 we get: 1, 8, 9, 6, 4, 10, 3, 2, 5, 7.  \n",
    "As we see all possible values from 1 to 10 occur. So 8 is a primitive root of 11.  \n",
    "But there is more:  \n",
    "If we take a closer look we see:  \n",
    "1+8=9  \n",
    "8+9=17≡6 mod 11  \n",
    "9+6=15≡4 mod 11  \n",
    "6+4=10  \n",
    "4+10=14≡3 mod 11  \n",
    "10+3=13≡2 mod 11  \n",
    "3+2=5  \n",
    "2+5=7  \n",
    "5+7=12≡1 mod 11.  \n",
    "\n",
    "So the powers of 8 mod 11 are cyclic with period 10, and 8n + 8n+1 ≡ 8n+2 (mod 11).  \n",
    "8 is called a Fibonacci primitive root of 11.  \n",
    "Not every prime has a Fibonacci primitive root.  \n",
    "There are 323 primes less than 10000 with one or more Fibonacci primitive roots and the sum of these primes is 1480491.  \n",
    "Find the sum of the primes less than 100,000,000 with at least one Fibonacci primitive root."
   ]
  },
  {
   "cell_type": "code",
   "execution_count": null,
   "metadata": {},
   "outputs": [],
   "source": []
  },
  {
   "cell_type": "code",
   "execution_count": null,
   "metadata": {},
   "outputs": [],
   "source": []
  },
  {
   "cell_type": "code",
   "execution_count": null,
   "metadata": {},
   "outputs": [],
   "source": []
  },
  {
   "cell_type": "code",
   "execution_count": null,
   "metadata": {},
   "outputs": [],
   "source": []
  },
  {
   "cell_type": "code",
   "execution_count": null,
   "metadata": {},
   "outputs": [],
   "source": []
  },
  {
   "cell_type": "code",
   "execution_count": null,
   "metadata": {},
   "outputs": [],
   "source": []
  },
  {
   "cell_type": "markdown",
   "metadata": {},
   "source": [
    "https://projecteuler.net/problem=122  \n",
    "The most naive way of computing n15 requires fourteen multiplications:\n",
    "\n",
    "n × n × ... × n = n15\n",
    "\n",
    "But using a \"binary\" method you can compute it in six multiplications:\n",
    "\n",
    "n × n = n2  \n",
    "n2 × n2 = n4  \n",
    "n4 × n4 = n8  \n",
    "n8 × n4 = n12  \n",
    "n12 × n2 = n14  \n",
    "n14 × n = n15  \n",
    "\n",
    "However it is yet possible to compute it in only five multiplications:\n",
    "\n",
    "n × n = n2  \n",
    "n2 × n = n3  \n",
    "n3 × n3 = n6  \n",
    "n6 × n6 = n12  \n",
    "n12 × n3 = n15  \n",
    "\n",
    "We shall define m(k) to be the minimum number of multiplications to compute nk; for example m(15) = 5.\n",
    "\n",
    "For 1 ≤ k ≤ 200, find ∑ m(k)."
   ]
  },
  {
   "cell_type": "code",
   "execution_count": null,
   "metadata": {},
   "outputs": [],
   "source": []
  },
  {
   "cell_type": "code",
   "execution_count": null,
   "metadata": {},
   "outputs": [],
   "source": []
  },
  {
   "cell_type": "code",
   "execution_count": null,
   "metadata": {},
   "outputs": [],
   "source": []
  },
  {
   "cell_type": "code",
   "execution_count": null,
   "metadata": {},
   "outputs": [],
   "source": []
  },
  {
   "cell_type": "code",
   "execution_count": null,
   "metadata": {},
   "outputs": [],
   "source": []
  },
  {
   "cell_type": "code",
   "execution_count": null,
   "metadata": {},
   "outputs": [],
   "source": []
  },
  {
   "cell_type": "code",
   "execution_count": null,
   "metadata": {},
   "outputs": [],
   "source": []
  },
  {
   "cell_type": "markdown",
   "metadata": {},
   "source": [
    "http://codingdojang.com/scode/408?answer_mode=hide\n",
    "\n",
    "1차원의 점들이 주어졌을 때, 그 중 가장 거리가 짧은 것의 쌍을 출력하는 함수를 작성하시오. (단 점들의 배열은 모두 정렬되어있다고 가정한다.)\n",
    "\n",
    "예를들어 S={1, 3, 4, 8, 13, 17, 20} 이 주어졌다면, 결과값은 (3, 4)가 될 것이다."
   ]
  },
  {
   "cell_type": "code",
   "execution_count": 75,
   "metadata": {},
   "outputs": [],
   "source": [
    "import random"
   ]
  },
  {
   "cell_type": "code",
   "execution_count": 7,
   "metadata": {},
   "outputs": [],
   "source": []
  },
  {
   "cell_type": "code",
   "execution_count": 126,
   "metadata": {},
   "outputs": [],
   "source": [
    "input_ls = []\n",
    "\n",
    "for x in range(10+1):\n",
    "    data = random.randint(1, 1000)\n",
    "    input_ls.append(data)\n",
    "    \n",
    "input_ls.sort()"
   ]
  },
  {
   "cell_type": "code",
   "execution_count": 127,
   "metadata": {},
   "outputs": [
    {
     "name": "stdout",
     "output_type": "stream",
     "text": [
      "[118, 186, 195, 392, 541, 580, 588, 589, 738, 936, 951]\n"
     ]
    }
   ],
   "source": [
    "print(input_ls)"
   ]
  },
  {
   "cell_type": "code",
   "execution_count": 128,
   "metadata": {},
   "outputs": [
    {
     "data": {
      "text/plain": [
       "[68, 9, 197, 149, 39, 8, 1, 149, 198, 15]"
      ]
     },
     "execution_count": 128,
     "metadata": {},
     "output_type": "execute_result"
    }
   ],
   "source": [
    "diff = []\n",
    "\n",
    "for index in range(10):\n",
    "    in_deduct = input_ls[index+1] - input_ls[index]\n",
    "    if in_deduct != 0:\n",
    "        diff.append(in_deduct)\n",
    "\n",
    "diff"
   ]
  },
  {
   "cell_type": "code",
   "execution_count": 129,
   "metadata": {},
   "outputs": [],
   "source": [
    "y = input_ls[10]\n",
    "for i in diff:\n",
    "    if i < input_ls[10]:\n",
    "        y = i\n",
    "\n"
   ]
  },
  {
   "cell_type": "code",
   "execution_count": 130,
   "metadata": {},
   "outputs": [
    {
     "name": "stdout",
     "output_type": "stream",
     "text": [
      "936 951\n"
     ]
    }
   ],
   "source": [
    "for idx, j in enumerate(diff):\n",
    "    if j == y:\n",
    "        print(input_ls[idx], input_ls[idx+1])\n",
    "    "
   ]
  },
  {
   "cell_type": "code",
   "execution_count": 153,
   "metadata": {},
   "outputs": [
    {
     "name": "stdout",
     "output_type": "stream",
     "text": [
      "[123, 130, 133, 163, 206, 357, 486, 549, 764, 779, 817]\n",
      "[7, 3, 30, 43, 151, 129, 63, 215, 15, 38]\n",
      "3\n",
      "130 133\n"
     ]
    }
   ],
   "source": [
    "input_ls = []\n",
    "for x in range(10+1):\n",
    "    data = random.randint(1, 1000)\n",
    "    input_ls.append(data)\n",
    "    \n",
    "input_ls.sort()\n",
    "print(input_ls)\n",
    "\n",
    "diffs = []\n",
    "for index in range(10):\n",
    "    in_deduct = input_ls[index+1] - input_ls[index]\n",
    "    if in_deduct != 0:\n",
    "        diffs.append(in_deduct)\n",
    "print(diffs)\n",
    "        \n",
    "y = input_ls[10]\n",
    "for diff in diffs:\n",
    "    if diff < y:\n",
    "        y = diff\n",
    "print(y)\n",
    "        \n",
    "\n",
    "for idx, j in enumerate(diffs):\n",
    "    if j == y:\n",
    "        print(input_ls[idx], input_ls[idx+1])\n",
    "        \n"
   ]
  },
  {
   "cell_type": "code",
   "execution_count": null,
   "metadata": {},
   "outputs": [],
   "source": []
  },
  {
   "cell_type": "code",
   "execution_count": null,
   "metadata": {},
   "outputs": [],
   "source": []
  },
  {
   "cell_type": "code",
   "execution_count": null,
   "metadata": {},
   "outputs": [],
   "source": []
  }
 ],
 "metadata": {
  "kernelspec": {
   "display_name": "Python 3",
   "language": "python",
   "name": "python3"
  },
  "language_info": {
   "codemirror_mode": {
    "name": "ipython",
    "version": 3
   },
   "file_extension": ".py",
   "mimetype": "text/x-python",
   "name": "python",
   "nbconvert_exporter": "python",
   "pygments_lexer": "ipython3",
   "version": "3.6.2"
  }
 },
 "nbformat": 4,
 "nbformat_minor": 2
}
