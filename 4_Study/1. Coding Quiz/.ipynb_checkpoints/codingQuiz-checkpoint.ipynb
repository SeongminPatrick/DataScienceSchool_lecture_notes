{
 "cells": [
  {
   "cell_type": "markdown",
   "metadata": {},
   "source": [
    "`20150111`을 출력합니다.\n",
    "\n",
    "4가지 기준만 만족하면 됩니다.\n",
    "\n",
    "- 코드 내에 숫자가 없어야 합니다.  \n",
    "- 파일 이름이나 경로를 사용해서는 안됩니다.\n",
    "- 시간, 날짜 함수를 사용해서는 안됩니다.\n",
    "- 에러 번호 출력을 이용해서는 안됩니다."
   ]
  },
  {
   "cell_type": "code",
   "execution_count": 54,
   "metadata": {},
   "outputs": [
    {
     "name": "stdout",
     "output_type": "stream",
     "text": [
      "20150111\n"
     ]
    }
   ],
   "source": [
    "a = len('a')\n",
    "\n",
    "print(str(a+a) + str(a-a) + str(a) + str(len('aaaaa')) + str(a-a) + str(a) + str(a) + str(a))\n",
    "\n"
   ]
  },
  {
   "cell_type": "markdown",
   "metadata": {},
   "source": [
    "어떤 자연수 n이 있을 때, d(n)을 n의 각 자릿수 숫자들과 n 자신을 더한 숫자라고 정의하자.\n",
    "\n",
    "예를 들어\n",
    "`d(91) = 9 + 1 + 91 = 101`\n",
    "\n",
    "이 때, n을 d(n)의 제네레이터(generator)라고 한다. 위의 예에서 91은 101의 제네레이터이다.  \n",
    "\n",
    "어떤 숫자들은 하나 이상의 제네레이터를 가지고 있는데, 101의 제네레이터는 91 뿐 아니라 100도 있다.  \n",
    "그런데 반대로, 제네레이터가 없는 숫자들도 있으며, 이런 숫자를 인도의 수학자 Kaprekar가 셀프 넘버(self-number)라 이름 붙였다.  \n",
    "예를 들어 1,3,5,7,9,20,31 은 셀프 넘버 들이다.\n",
    "\n",
    "\n",
    "1 이상이고 5000 보다 작은 모든 셀프 넘버들의 합을 구하라.\n",
    "\n"
   ]
  },
  {
   "cell_type": "code",
   "execution_count": 56,
   "metadata": {},
   "outputs": [
    {
     "name": "stdout",
     "output_type": "stream",
     "text": [
      "1227365\n"
     ]
    }
   ],
   "source": [
    "def d(number):\n",
    "    generator = number      # 초기 number 세팅\n",
    "    number = str(number)    # 초기 세팅 number 스트링 변환\n",
    "    for i in number:        \n",
    "        generator += int(i)     # number의 자릿수 숫자들을 초기세팅 number에 더해준다\n",
    "    return generator        # return generator\n",
    "\n",
    "generator_ls = []\n",
    "self_number_ls = []\n",
    "\n",
    "for num1 in range(1, 5000+1):\n",
    "    generator_ls.append(d(num1))\n",
    "\n",
    "for num2 in range(1, 5000+1):\n",
    "    if not num2 in generator_ls:\n",
    "        self_number_ls.append(num2)\n",
    "\n",
    "print(sum(not_generator_ls))"
   ]
  },
  {
   "cell_type": "code",
   "execution_count": null,
   "metadata": {},
   "outputs": [],
   "source": []
  },
  {
   "cell_type": "markdown",
   "metadata": {},
   "source": [
    "심술쟁이 수는 2,3,5의 곱으로 만들 수 있는 수이다. 다음과 같은 순서의 수가 11개의 심술쟁이 수이다.\n",
    "\n",
    "`1,2,3,4,5,6,8,9,10,12,15,....`\n",
    "\n",
    "처음 수는 1로 시작하도록 한다.  \n",
    "입력은 받지 않고, <number> 에 1500번째 심술쟁이 수가 출력되게 한다.\n",
    "    \n",
    "    \n",
    "    \n",
    "    \n",
    "```    \n",
    "Sample Output\n",
    "\n",
    "The 1500'th ugly number is <number>.\n",
    "\n",
    "답\n",
    "\n",
    "859963392\n",
    "```"
   ]
  },
  {
   "cell_type": "code",
   "execution_count": null,
   "metadata": {},
   "outputs": [],
   "source": [
    "def ugly_num():\n",
    "    ug = []\n",
    "    a, b, c= 2, 3, 5\n",
    "    for "
   ]
  },
  {
   "cell_type": "code",
   "execution_count": null,
   "metadata": {},
   "outputs": [],
   "source": []
  },
  {
   "cell_type": "code",
   "execution_count": null,
   "metadata": {},
   "outputs": [],
   "source": []
  },
  {
   "cell_type": "code",
   "execution_count": null,
   "metadata": {},
   "outputs": [],
   "source": []
  },
  {
   "cell_type": "code",
   "execution_count": null,
   "metadata": {},
   "outputs": [],
   "source": []
  },
  {
   "cell_type": "markdown",
   "metadata": {},
   "source": [
    "회사원들은 외우기 좋은 전화번호를 갖고 싶어한다. 전화번호를 외우기 쉽도록 만드는 한 방법은 기억하기 좋은 단어나 구절이 되도록 하는 것이다. 예를 들어, 워털루 대학의 전화는 TUT-GLOP으로 전화를 걸 수 있다. 때때로 번호의 일부만이 단어를 쓰기 위해 사용될 수 있다. Gino에서 피자를 주문하기 위해 310-GINO로 전화를 거는 식이다. 전화번호를 외우기 좋도록 하는 또다른 방법은 숫자들을 기억하기 좋은 방법으로 묶는 것이다. 3-10-10-10 (Three-tens)으로 전화를 걸면 피자헛에 주문을 할 수 있다.\n",
    "\n",
    "전화번호의 표준형은 세 번째 번호와 네 번째 번호 사이에 하이픈(-)을 삽입한 7개의 숫자로 구성되어 있다. (예: 888-1200). 전화기의 키패드는 다음과 같은 글자 대 숫자의 대응을 지닌다.\n",
    "\n",
    "```\n",
    "A, B, C -> 2\n",
    "D, E, F -> 3\n",
    "G, H, I -> 4\n",
    "J, K, L -> 5\n",
    "M, N, O -> 6\n",
    "P, R, S -> 7\n",
    "T, U, V -> 8\n",
    "W, X, Y -> 9\n",
    "```\n",
    "\n",
    "Q와 Z에 대한 대응관계는 존재하지 않는다. 하이픈은 전화기에 입력되지 않으며 필요에 따라 추가되거나 빠질 수 있다. TUT-GLOP의 표준형은 888-4567이고, 310-GINO의 표준형은 310-4466, 3-10-10-10의 표준형은 310-1010이다.\n",
    "\n",
    "만약 어떤 두 전화번호가 같은 표준형을 지니면 그들은 같은 번호이다.\n",
    "\n",
    "여러분의 회사는 지역 회사원들의 전화번호를 정리하고 있다. 품질 관리 과정의 일환으로, 여러분은 정리된 전화번호부의 번호 중에 같은 것이 둘 이상 있지 않은지 확인하고 싶다.\n",
    "\n",
    "<br>\n",
    "\n",
    "Input\n",
    "\n",
    "입력은 하나의 테스트 케이스로 구성된다. 입력의 첫 줄은 전화번호의 갯수(<=100,000)로 이뤄져 있다. 남은 줄들은 전화번호부 내의 전화번호들이 한 줄에 하나씩 들어 있다. 각 전화번호는 십진 숫자들과 대문자(Q,Z 제외), 하이픈으로 구성된 문자열로 이뤄져 있다. 문자열 내에서 정확히 7개의 문자들이 숫자 또는 알파벳 문자이다.\n",
    "\n",
    "Output\n",
    "\n",
    "한 번 이상 등장한 전화번호들이 출력을 구성한다. 각 줄은 표준형으로 표현된 전화번호와 출현 횟수가 하나의 공백 문자로 구분되어 있다. 출력되는 전화 번호들은 증가하는 사전식 순서로 되어 있어야 한다. 만약 입력으로 들어온 전화번호 중에 중복이 없다면 \"No duplicates.\"를 출력한다.\n",
    "\n",
    "<br>\n",
    "\n",
    "\n",
    "Sample Input\n",
    "```\n",
    "12\n",
    "4873279\n",
    "ITS-EASY\n",
    "888-4567\n",
    "3-10-10-10\n",
    "888-GLOP\n",
    "TUT-GLOP\n",
    "967-11-11\n",
    "310-GINO\n",
    "F101010\n",
    "888-1200\n",
    "-4-8-7-3-2-7-9-\n",
    "487-3279\n",
    "```\n",
    "\n",
    "Sample Output\n",
    "```\n",
    "310-1010 2\n",
    "487-3279 4\n",
    "888-4567 3\n",
    "```"
   ]
  },
  {
   "cell_type": "code",
   "execution_count": null,
   "metadata": {},
   "outputs": [],
   "source": []
  }
 ],
 "metadata": {
  "kernelspec": {
   "display_name": "Python 3",
   "language": "python",
   "name": "python3"
  },
  "language_info": {
   "codemirror_mode": {
    "name": "ipython",
    "version": 3
   },
   "file_extension": ".py",
   "mimetype": "text/x-python",
   "name": "python",
   "nbconvert_exporter": "python",
   "pygments_lexer": "ipython3",
   "version": "3.6.2"
  }
 },
 "nbformat": 4,
 "nbformat_minor": 2
}
