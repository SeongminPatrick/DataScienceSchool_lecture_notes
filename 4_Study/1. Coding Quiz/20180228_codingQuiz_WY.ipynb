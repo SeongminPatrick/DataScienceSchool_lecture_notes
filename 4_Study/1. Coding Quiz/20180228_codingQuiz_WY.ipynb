{
 "cells": [
  {
   "cell_type": "markdown",
   "metadata": {},
   "source": [
    "(재웅) https://programmers.co.kr/learn/challenge_codes/156"
   ]
  },
  {
   "cell_type": "markdown",
   "metadata": {},
   "source": [
    "수학을 공부하던 민지는 재미있는 사실을 발견하였습니다.  \n",
    "그 사실은 바로 연속된 자연수의 합으로 어떤 숫자를 표현하는 방법이 여러 가지라는 것입니다.  \n",
    "예를 들어, 15를 표현하는 방법은\n",
    "\n",
    "(1+2+3+4+5)  \n",
    "(4+5+6)  \n",
    "(7+8)  \n",
    "(15)  \n",
    "\n",
    "로 총 4가지가 존재합니다.  \n",
    "숫자를 입력받아 연속된 수로 표현하는 방법을 반환하는 expressions 함수를 만들어 민지를 도와주세요.  \n",
    "예를 들어 15가 입력된다면 4를 반환해 주면 됩니다."
   ]
  },
  {
   "cell_type": "code",
   "execution_count": null,
   "metadata": {},
   "outputs": [],
   "source": []
  },
  {
   "cell_type": "code",
   "execution_count": null,
   "metadata": {},
   "outputs": [],
   "source": []
  },
  {
   "cell_type": "code",
   "execution_count": null,
   "metadata": {},
   "outputs": [],
   "source": []
  },
  {
   "cell_type": "code",
   "execution_count": null,
   "metadata": {},
   "outputs": [],
   "source": []
  },
  {
   "cell_type": "code",
   "execution_count": null,
   "metadata": {},
   "outputs": [],
   "source": []
  },
  {
   "cell_type": "markdown",
   "metadata": {},
   "source": [
    "(준성) https://programmers.co.kr/learn/challenge_codes/84"
   ]
  },
  {
   "cell_type": "markdown",
   "metadata": {},
   "source": [
    "앞뒤를 뒤집어도 똑같은 문자열을 palindrome이라고 합니다.\n",
    "longest_palindrom함수는 문자열 s를 매개변수로 입력받습니다.\n",
    "s의 부분문자열중 가장 긴 palindrom의 길이를 리턴하는 함수를 완성하세요.\n",
    "예를들어 s가 토마토맛토마토이면 7을 리턴하고 토마토맛있어이면 3을 리턴합니다."
   ]
  },
  {
   "cell_type": "code",
   "execution_count": null,
   "metadata": {},
   "outputs": [],
   "source": [
    "def longest_palindrome(s):\n",
    "    ls = []\n",
    "\n",
    "    for i in range(len(s)):\n",
    "        for j in range(0, i):\n",
    "            sample = s[j:i + 1]\n",
    "            \n",
    "            if sample == sample[::-1]:\n",
    "                ls.append(sample)\n",
    "\n",
    "    result = max(ls, key=len)\n",
    "                \n",
    "    return len(result)"
   ]
  },
  {
   "cell_type": "code",
   "execution_count": null,
   "metadata": {},
   "outputs": [],
   "source": [
    "s = \"토마토맛토마토\""
   ]
  },
  {
   "cell_type": "code",
   "execution_count": null,
   "metadata": {},
   "outputs": [],
   "source": [
    "longest_palindrome(s)"
   ]
  },
  {
   "cell_type": "markdown",
   "metadata": {},
   "source": [
    "(원영) https://programmers.co.kr/learn/challenge_codes/130"
   ]
  },
  {
   "cell_type": "markdown",
   "metadata": {},
   "source": [
    "양의 정수 x가 하샤드 수이려면 x의 자릿수의 합으로 x가 나누어져야 합니다. 예를들어 18의 자릿수 합은 1+8=9이고, 18은 9로 나누어 떨어지므로 18은 하샤드 수입니다.\n",
    "\n",
    "Harshad함수는 양의 정수 n을 매개변수로 입력받습니다. 이 n이 하샤드수인지 아닌지 판단하는 함수를 완성하세요.\n",
    "예를들어 n이 10, 12, 18이면 True를 리턴 11, 13이면 False를 리턴하면 됩니다."
   ]
  },
  {
   "cell_type": "code",
   "execution_count": 6,
   "metadata": {},
   "outputs": [],
   "source": [
    "def Harshad(n):\n",
    "    n_2= [int(i) for i in list(str(n))]\n",
    "    n_2 = sum(n_2)\n",
    "    if int(n) % n_2 == 0:\n",
    "        return True\n",
    "    else:\n",
    "        return False"
   ]
  },
  {
   "cell_type": "code",
   "execution_count": 7,
   "metadata": {},
   "outputs": [
    {
     "name": "stdout",
     "output_type": "stream",
     "text": [
      "1.84 µs ± 32.3 ns per loop (mean ± std. dev. of 7 runs, 1000000 loops each)\n"
     ]
    }
   ],
   "source": [
    "%%timeit\n",
    "Harshad(18)"
   ]
  },
  {
   "cell_type": "code",
   "execution_count": 8,
   "metadata": {},
   "outputs": [],
   "source": [
    "# 다른 더 빠른 풀이\n",
    "\n",
    "def digit_sum(n):\n",
    "    \"\"\" Find and return the sum of the digits of integer n. \"\"\"\n",
    "\n",
    "    s_digits = list(str(n))\n",
    "    dsum = 0\n",
    "    for s_digit in s_digits:\n",
    "        dsum += int(s_digit)\n",
    "    return dsum\n",
    "\n",
    "def is_harshad(n):\n",
    "    return not n % digit_sum(n)"
   ]
  },
  {
   "cell_type": "code",
   "execution_count": 9,
   "metadata": {},
   "outputs": [
    {
     "name": "stdout",
     "output_type": "stream",
     "text": [
      "1.38 µs ± 21.8 ns per loop (mean ± std. dev. of 7 runs, 1000000 loops each)\n"
     ]
    }
   ],
   "source": [
    "%%timeit\n",
    "is_harshad(18)"
   ]
  },
  {
   "cell_type": "markdown",
   "metadata": {},
   "source": [
    "(지수) https://programmers.co.kr/learn/challenge_codes/145"
   ]
  },
  {
   "cell_type": "markdown",
   "metadata": {},
   "source": [
    "야근 지수\n",
    "회사원인 수민이는 많은 일이 쌓여 있습니다.  \n",
    "수민이는 야근을 최소화하기 위해 남은 일의 작업량을 숫자로 메기고, 일에 대한 야근 지수를 줄이기로 결정했습니다.  \n",
    "야근 지수는 남은 일의 작업량을 제곱하여 더한 값을 의미합니다.  \n",
    "수민이는 1시간 동안 남은 일 중 하나를 골라 작업량 1만큼 처리할 수 있습니다.  \n",
    "수민이의 퇴근까지 남은 N 시간과 각 일에 대한 작업량이 있을 때,  \n",
    "\n",
    "noOvertime 함수를 제작하여 수민이의 야근 지수를 최소화 한 결과를 출력해 주세요.  \n",
    "\n",
    "예를 들어, N=4 일 때, 남은 일의 작업량이 [4, 3, 3] 이라면  \n",
    "야근 지수를 최소화하기 위해 일을 한 결과는 [2, 2, 2]가 되고  \n",
    "야근 지수는 4 + 4 + 4 = 12가 되어 12를 반환해 줍니다."
   ]
  },
  {
   "cell_type": "code",
   "execution_count": 2,
   "metadata": {},
   "outputs": [],
   "source": [
    "def noOvertime(n, works):\n",
    "    while n != 0:\n",
    "        works.sort(reverse=True)\n",
    "        works[0] = works[0] - 1\n",
    "        n -=1\n",
    "\n",
    "    a= sum(ot**2 for ot in works)\n",
    "    return a"
   ]
  },
  {
   "cell_type": "code",
   "execution_count": 5,
   "metadata": {},
   "outputs": [
    {
     "name": "stdout",
     "output_type": "stream",
     "text": [
      "26.5 µs ± 1.3 µs per loop (mean ± std. dev. of 7 runs, 10000 loops each)\n"
     ]
    }
   ],
   "source": [
    "%%timeit\n",
    "noOvertime(25, [14, 12, 13, 6, 10, 7, 10, 14])"
   ]
  },
  {
   "cell_type": "code",
   "execution_count": null,
   "metadata": {},
   "outputs": [],
   "source": []
  },
  {
   "cell_type": "code",
   "execution_count": null,
   "metadata": {},
   "outputs": [],
   "source": []
  },
  {
   "cell_type": "code",
   "execution_count": null,
   "metadata": {},
   "outputs": [],
   "source": []
  }
 ],
 "metadata": {
  "kernelspec": {
   "display_name": "Python 3",
   "language": "python",
   "name": "python3"
  },
  "language_info": {
   "codemirror_mode": {
    "name": "ipython",
    "version": 3
   },
   "file_extension": ".py",
   "mimetype": "text/x-python",
   "name": "python",
   "nbconvert_exporter": "python",
   "pygments_lexer": "ipython3",
   "version": "3.6.2"
  }
 },
 "nbformat": 4,
 "nbformat_minor": 2
}
