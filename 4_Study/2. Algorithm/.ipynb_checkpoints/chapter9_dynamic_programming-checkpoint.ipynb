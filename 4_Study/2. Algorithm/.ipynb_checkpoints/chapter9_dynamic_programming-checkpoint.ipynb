{
 "cells": [
  {
   "cell_type": "markdown",
   "metadata": {},
   "source": [
    "# 동적 계획법"
   ]
  },
  {
   "cell_type": "markdown",
   "metadata": {},
   "source": [
    "프로그래밍과는 별 관계가 없다.  \n",
    "\n",
    "\n",
    "제한조건이나 목표가 주어졌을 때, \n",
    "최적해를 구하기 위해  \n",
    "큰 문제를 작은 문제로 나눠서 푼다. (핵심)"
   ]
  },
  {
   "cell_type": "markdown",
   "metadata": {},
   "source": [
    "1. 문제를 최대한 작은 부분 문제로 나눈다.\n",
    "2. 가장 작은 부분의 문제부터 답을 구한 뒤 '테이블'의 격자에 저장한다.\n",
    "3. 테이블에 저장된 작은 문제의 답을 이용하여 상위 부분 문제의 답을 구한다."
   ]
  },
  {
   "cell_type": "markdown",
   "metadata": {},
   "source": [
    "### 동적 계획 법의 예시) \n",
    "\n",
    "#### 피보나치 수열\n",
    "\n",
    "큰 문제 : 35번 째 피보나치 수열 구하기\n",
    "\n",
    "- 전통적인 피보나치 수열의 논리로 함수\n",
    "    - 1, 2, 3, ... 35번 째피보나치 수열을 순서대로 구하는 방법\n",
    "\n",
    "- 선언한 피보나치함수가 재귀되는 구조로, 시간이 굉.장.히 오래 걸린다. "
   ]
  },
  {
   "cell_type": "code",
   "execution_count": 32,
   "metadata": {},
   "outputs": [],
   "source": [
    "# 기존의 방법 (재귀)\n",
    "\n",
    "def fibo_origin(n):\n",
    "    if n <= 2:\n",
    "        return 1\n",
    "    else:\n",
    "        return fibo_origin(n-1) + fibo_origin(n-2)"
   ]
  },
  {
   "cell_type": "code",
   "execution_count": 28,
   "metadata": {},
   "outputs": [
    {
     "name": "stdout",
     "output_type": "stream",
     "text": [
      "2.96 s ± 48.6 ms per loop (mean ± std. dev. of 7 runs, 1 loop each)\n"
     ]
    }
   ],
   "source": [
    "%%timeit\n",
    "fibo_origin(35)"
   ]
  },
  {
   "cell_type": "markdown",
   "metadata": {},
   "source": [
    "#### 동적 계획법을 사용한 피보나치\n",
    "\n",
    "- 작은 문제 1: 1번 째 피보나치 수열 구하기\n",
    "- 작은 문제 2: 2번 째 피보나치 수열 구하기   \n",
    "\n",
    "구한 값을 리스트, 딕셔너리에 저장하고\n",
    "\n",
    "앞서 구한 작은 문제 1, 2의 값을 다시 꺼내, 3번 째 수를 계산한다.\n",
    "\n",
    "\n"
   ]
  },
  {
   "cell_type": "code",
   "execution_count": 12,
   "metadata": {},
   "outputs": [],
   "source": [
    "def fibo_list(n):\n",
    "    ls = [0,1]\n",
    "    for i in range(2, n+1):\n",
    "        ls.append(ls[i-1] + ls[i-2])\n",
    "    return ls[n]"
   ]
  },
  {
   "cell_type": "code",
   "execution_count": 30,
   "metadata": {},
   "outputs": [
    {
     "name": "stdout",
     "output_type": "stream",
     "text": [
      "8.46 µs ± 56.3 ns per loop (mean ± std. dev. of 7 runs, 100000 loops each)\n"
     ]
    }
   ],
   "source": [
    "%%timeit\n",
    "fibo_list(35)"
   ]
  },
  {
   "cell_type": "code",
   "execution_count": 18,
   "metadata": {},
   "outputs": [],
   "source": [
    "fibTable = {1:1, 2:1}\n",
    "def fibo_dynamic(n):\n",
    "    if n <= 2:\n",
    "        return 1\n",
    "    if n in fibTable:\n",
    "        return fibTable[n]\n",
    "    else:\n",
    "        fibTable[n] = fibo_dynamic(n-1) + fibo_dynamic(n-2)\n",
    "        return fibTable[n]"
   ]
  },
  {
   "cell_type": "code",
   "execution_count": 29,
   "metadata": {},
   "outputs": [
    {
     "name": "stdout",
     "output_type": "stream",
     "text": [
      "210 ns ± 4.92 ns per loop (mean ± std. dev. of 7 runs, 1000000 loops each)\n"
     ]
    }
   ],
   "source": [
    "%%timeit\n",
    "fibo_dynamic(35)"
   ]
  },
  {
   "cell_type": "code",
   "execution_count": null,
   "metadata": {},
   "outputs": [],
   "source": []
  }
 ],
 "metadata": {
  "kernelspec": {
   "display_name": "Python 3",
   "language": "python",
   "name": "python3"
  },
  "language_info": {
   "codemirror_mode": {
    "name": "ipython",
    "version": 3
   },
   "file_extension": ".py",
   "mimetype": "text/x-python",
   "name": "python",
   "nbconvert_exporter": "python",
   "pygments_lexer": "ipython3",
   "version": "3.6.2"
  }
 },
 "nbformat": 4,
 "nbformat_minor": 2
}
