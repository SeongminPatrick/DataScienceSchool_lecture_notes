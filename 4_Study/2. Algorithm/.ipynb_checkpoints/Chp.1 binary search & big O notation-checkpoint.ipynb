{
 "cells": [
  {
   "cell_type": "markdown",
   "metadata": {},
   "source": [
    "# 1-1. 이진탐색 _ Binary Search"
   ]
  },
  {
   "cell_type": "markdown",
   "metadata": {},
   "source": [
    "오름차순으로 정렬된 리스트에서, 특정한 값 `x`의 위치를 찾는 알고리즘.\n"
   ]
  },
  {
   "cell_type": "markdown",
   "metadata": {},
   "source": [
    "**원리:**  \n",
    "리스트가 정렬이 되었다는 전제 하에;  \n",
    "리스트의 중간 값 `n`을 임의로 선택해서, `x`와 `n`을 비교하는 과정을 거친다(1)\n",
    "\n",
    "`n`이 `x`보다 크다면, 정렬된 리스트의 새로운 최고값이  \n",
    "`n`이 `x`보다 작다면, 정렬된 리스트의 새로운 최하값으로 설정되어\n",
    "\n",
    "다시 한번 (1)의 과정을 거치는 방식이다."
   ]
  },
  {
   "cell_type": "markdown",
   "metadata": {},
   "source": [
    "**효과:**  \n",
    "정렬된 리스트의 최소값부터 하나씩 `x`와 비교하는 선형 탐색(linear search, simple search)은 최대 n번의 탐색이 필요할 수 있지만,  \n",
    "\n",
    "이진 탐색의 경우 주어진 리스트의 절반을 제외하며 최대 $\\log_{2}n$번의 탐색을 통해 `x`의 값을 찾을 수 있다."
   ]
  },
  {
   "cell_type": "markdown",
   "metadata": {},
   "source": [
    "ex) Linear search vs Binary search"
   ]
  },
  {
   "cell_type": "code",
   "execution_count": 33,
   "metadata": {},
   "outputs": [],
   "source": [
    "my_list = list(range(0, 10000000))"
   ]
  },
  {
   "cell_type": "code",
   "execution_count": 34,
   "metadata": {},
   "outputs": [],
   "source": [
    "# Linear search\n",
    "\n",
    "def linear_search(list, x):\n",
    "    low = 0\n",
    "    high = len(list)-1\n",
    "    \n",
    "    while low <= high:\n",
    "        if x != list[low]:\n",
    "            low += 1\n",
    "        else:\n",
    "            break\n",
    "    return low"
   ]
  },
  {
   "cell_type": "code",
   "execution_count": 35,
   "metadata": {},
   "outputs": [
    {
     "name": "stdout",
     "output_type": "stream",
     "text": [
      "426 ms ± 17.4 ms per loop (mean ± std. dev. of 7 runs, 1 loop each)\n"
     ]
    }
   ],
   "source": [
    "%%timeit\n",
    "linear_search(my_list, 3498534)"
   ]
  },
  {
   "cell_type": "code",
   "execution_count": 36,
   "metadata": {},
   "outputs": [],
   "source": [
    "# Binary search\n",
    "\n",
    "def binary_search(list, x):\n",
    "    low = 0\n",
    "    high = len(list)-1         # 탐색의 범위 지정; low ~ high\n",
    "    \n",
    "    while low <= high:\n",
    "        mid = (low+high)// 2     # 중간 값 n 지정\n",
    "        guess = list[mid]\n",
    "        if guess == x:\n",
    "            return mid\n",
    "        if guess > x:\n",
    "            high = mid-1\n",
    "        else:\n",
    "            low = mid + 1\n",
    "    return None"
   ]
  },
  {
   "cell_type": "code",
   "execution_count": 37,
   "metadata": {},
   "outputs": [
    {
     "name": "stdout",
     "output_type": "stream",
     "text": [
      "6.21 µs ± 204 ns per loop (mean ± std. dev. of 7 runs, 100000 loops each)\n"
     ]
    }
   ],
   "source": [
    "%%timeit\n",
    "binary_search(my_list, 3498534)"
   ]
  },
  {
   "cell_type": "code",
   "execution_count": null,
   "metadata": {},
   "outputs": [],
   "source": []
  },
  {
   "cell_type": "markdown",
   "metadata": {},
   "source": [
    "# 1-2. 빅오표기법 _ Big O Notation"
   ]
  },
  {
   "cell_type": "markdown",
   "metadata": {},
   "source": [
    "알고리즘이 얼마나 빠른지 성능을 표시하는 방법"
   ]
  },
  {
   "cell_type": "markdown",
   "metadata": {},
   "source": [
    "**표기법**  \n",
    "\n",
    "$O(n)$  \n",
    "n = 데이터의 크기"
   ]
  },
  {
   "cell_type": "markdown",
   "metadata": {},
   "source": [
    "**개념**  \n",
    "- 알고리즘의 속도는 시간이 아닌 처리 횟수로 측정한다.\n",
    "- 빅오 표기법은 최악의 경우에 대한 성능을 표기한다.\n",
    "- 속도의 측정은 입력데이터의 증가에 따른 처리속도의 차이로 계산할 수 있다"
   ]
  },
  {
   "cell_type": "markdown",
   "metadata": {},
   "source": [
    "**ex)**"
   ]
  },
  {
   "cell_type": "markdown",
   "metadata": {},
   "source": [
    "$O(n)$\n",
    "- 입력되는 데이터의 양에 따라 비례해서 처리 시간이 증가하는 알고리즘"
   ]
  },
  {
   "cell_type": "markdown",
   "metadata": {},
   "source": [
    "$O(n^2)$  \n",
    "- 입력데이터의 크기의 제곱에 비례해서 증가하는 상황"
   ]
  },
  {
   "cell_type": "markdown",
   "metadata": {},
   "source": [
    "$O(2^n)$\n",
    "- 입력 데이터가 하나 증가할 때마다 처리시간이 두배씩 증가하는 경우"
   ]
  },
  {
   "cell_type": "markdown",
   "metadata": {},
   "source": [
    "$O(\\log_{2}n)$\n",
    "- 이진 탐색에 걸리는 시간"
   ]
  },
  {
   "cell_type": "code",
   "execution_count": null,
   "metadata": {},
   "outputs": [],
   "source": []
  }
 ],
 "metadata": {
  "kernelspec": {
   "display_name": "Python 3",
   "language": "python",
   "name": "python3"
  },
  "language_info": {
   "codemirror_mode": {
    "name": "ipython",
    "version": 3
   },
   "file_extension": ".py",
   "mimetype": "text/x-python",
   "name": "python",
   "nbconvert_exporter": "python",
   "pygments_lexer": "ipython3",
   "version": "3.6.2"
  }
 },
 "nbformat": 4,
 "nbformat_minor": 2
}
