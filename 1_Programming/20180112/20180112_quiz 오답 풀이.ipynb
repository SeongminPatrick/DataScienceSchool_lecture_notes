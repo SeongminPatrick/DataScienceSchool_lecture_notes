{
 "cells": [
  {
   "cell_type": "code",
   "execution_count": 54,
   "metadata": {},
   "outputs": [
    {
     "name": "stdout",
     "output_type": "stream",
     "text": [
      "8*9=72\n",
      "8*8=64\n",
      "8*7=56\n",
      "8*6=48\n",
      "8*5=40\n",
      "8*4=32\n",
      "8*3=24\n",
      "8*2=16\n"
     ]
    }
   ],
   "source": [
    "a = [8]\n",
    "for num in reversed(range(2,10)):\n",
    "    for num3 in a:\n",
    "        print(\"8*{}={}\".format(num,num3*num))"
   ]
  },
  {
   "cell_type": "code",
   "execution_count": 52,
   "metadata": {},
   "outputs": [],
   "source": [
    "def multiplication(a):\n",
    "    a = [8]\n",
    "    for num in reversed(range(2,10)):\n",
    "        for num3 in a:\n",
    "            print(\"8*{}={}\".format(num,num3*num))\n",
    "    return"
   ]
  },
  {
   "cell_type": "code",
   "execution_count": 53,
   "metadata": {},
   "outputs": [
    {
     "name": "stdout",
     "output_type": "stream",
     "text": [
      "8*9=72\n",
      "8*8=64\n",
      "8*7=56\n",
      "8*6=48\n",
      "8*5=40\n",
      "8*4=32\n",
      "8*3=24\n",
      "8*2=16\n"
     ]
    }
   ],
   "source": [
    "multiplication(a)"
   ]
  },
  {
   "cell_type": "code",
   "execution_count": 45,
   "metadata": {},
   "outputs": [
    {
     "data": {
      "text/plain": [
       "range(2, 10)"
      ]
     },
     "execution_count": 45,
     "metadata": {},
     "output_type": "execute_result"
    }
   ],
   "source": []
  },
  {
   "cell_type": "code",
   "execution_count": null,
   "metadata": {},
   "outputs": [],
   "source": []
  },
  {
   "cell_type": "code",
   "execution_count": null,
   "metadata": {},
   "outputs": [],
   "source": []
  }
 ],
 "metadata": {
  "kernelspec": {
   "display_name": "Python 3",
   "language": "python",
   "name": "python3"
  },
  "language_info": {
   "codemirror_mode": {
    "name": "ipython",
    "version": 3
   },
   "file_extension": ".py",
   "mimetype": "text/x-python",
   "name": "python",
   "nbconvert_exporter": "python",
   "pygments_lexer": "ipython3",
   "version": "3.6.2"
  }
 },
 "nbformat": 4,
 "nbformat_minor": 2
}
