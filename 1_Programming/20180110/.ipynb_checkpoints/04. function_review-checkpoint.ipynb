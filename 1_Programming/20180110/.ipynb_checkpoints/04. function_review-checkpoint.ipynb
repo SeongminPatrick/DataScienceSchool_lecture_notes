{
 "cells": [
  {
   "cell_type": "markdown",
   "metadata": {},
   "source": [
    "# 4. Function "
   ]
  },
  {
   "cell_type": "markdown",
   "metadata": {},
   "source": [
    "<br>"
   ]
  },
  {
   "cell_type": "markdown",
   "metadata": {},
   "source": [
    "### 4.1 basic function\n",
    "\n",
    "- 반복적인 기능을 묶어줌\n",
    "- 반복적인 기능함수를 통해서 묶음으로 깔끔한 코딩 가능"
   ]
  },
  {
   "cell_type": "code",
   "execution_count": 2,
   "metadata": {},
   "outputs": [],
   "source": [
    "# 입력 받은 데이터를 세번 출력해주는 함수\n",
    "def display_three(data):\n",
    "    print(data)\n",
    "    print(data)\n",
    "    print(data)"
   ]
  },
  {
   "cell_type": "code",
   "execution_count": 5,
   "metadata": {},
   "outputs": [
    {
     "name": "stdout",
     "output_type": "stream",
     "text": [
      "['Fast', 'Campus', 'Datascience']\n",
      "['Fast', 'Campus', 'Datascience']\n",
      "['Fast', 'Campus', 'Datascience']\n",
      "Fast\n",
      "Fast\n",
      "Fast\n",
      "Campus\n",
      "Campus\n",
      "Campus\n"
     ]
    }
   ],
   "source": [
    "ls = [\"Fast\", \"Campus\", \"Datascience\"]\n",
    "\n",
    "display_three(ls)\n",
    "display_three(ls[0])\n",
    "display_three(ls[1])"
   ]
  },
  {
   "cell_type": "markdown",
   "metadata": {},
   "source": [
    "### 4.2 return\n",
    "- 함수의 마지막을 정리"
   ]
  },
  {
   "cell_type": "code",
   "execution_count": 6,
   "metadata": {},
   "outputs": [
    {
     "name": "stdout",
     "output_type": "stream",
     "text": [
      "data\n"
     ]
    }
   ],
   "source": [
    "def test_func():\n",
    "    return \"data\"\n",
    "\n",
    "s = test_func()\n",
    "print(s)"
   ]
  },
  {
   "cell_type": "code",
   "execution_count": 7,
   "metadata": {},
   "outputs": [],
   "source": [
    "def test_func(a):\n",
    "    if a < 10:\n",
    "        print(\"a < 10\")\n",
    "    else:\n",
    "        print(\"a => 10\")"
   ]
  },
  {
   "cell_type": "code",
   "execution_count": 9,
   "metadata": {},
   "outputs": [
    {
     "name": "stdout",
     "output_type": "stream",
     "text": [
      "a => 10\n"
     ]
    }
   ],
   "source": [
    "test_func(10)"
   ]
  },
  {
   "cell_type": "code",
   "execution_count": 10,
   "metadata": {},
   "outputs": [],
   "source": [
    "# 문제 숫자 리스트를 받아서 평균을 구해주는 함수를 작성\n",
    "\n",
    "def avg_func(scores):\n",
    "    total = 0\n",
    "    for score in scores:\n",
    "        total += score\n",
    "    return total / len(scores)"
   ]
  },
  {
   "cell_type": "code",
   "execution_count": 11,
   "metadata": {},
   "outputs": [
    {
     "data": {
      "text/plain": [
       "71.6"
      ]
     },
     "execution_count": 11,
     "metadata": {},
     "output_type": "execute_result"
    }
   ],
   "source": [
    "scores = [98, 56, 32, 88, 84]\n",
    "avg_func(scores)"
   ]
  },
  {
   "cell_type": "markdown",
   "metadata": {},
   "source": [
    "### 4.3 parameter & argument\n",
    "- 데이터를 넘길 때 넘기는 데이터를 parameter\n",
    "- 데이터를 받을 때 받는 데이터를 argument"
   ]
  },
  {
   "cell_type": "code",
   "execution_count": 13,
   "metadata": {},
   "outputs": [],
   "source": [
    "def test_func():\n",
    "    pass\n",
    "\n",
    "# no parameter and no return function\n",
    "# 선언만 해놓고 아무 실행도 하지 않는 것이 pass. \n",
    "# pass를 통해 미리 함수로 구조만 만들어 놓는 것도 좋은 방법"
   ]
  },
  {
   "cell_type": "code",
   "execution_count": 15,
   "metadata": {},
   "outputs": [
    {
     "ename": "TypeError",
     "evalue": "print_func() missing 1 required positional argument: 's3'",
     "output_type": "error",
     "traceback": [
      "\u001b[0;31m---------------------------------------------------------------------------\u001b[0m",
      "\u001b[0;31mTypeError\u001b[0m                                 Traceback (most recent call last)",
      "\u001b[0;32m<ipython-input-15-8dd7ebf36686>\u001b[0m in \u001b[0;36m<module>\u001b[0;34m()\u001b[0m\n\u001b[1;32m      3\u001b[0m \u001b[0;34m\u001b[0m\u001b[0m\n\u001b[1;32m      4\u001b[0m \u001b[0;34m\u001b[0m\u001b[0m\n\u001b[0;32m----> 5\u001b[0;31m \u001b[0mprint_func\u001b[0m\u001b[0;34m(\u001b[0m\u001b[0;34m\"fast\"\u001b[0m\u001b[0;34m,\u001b[0m \u001b[0;34m\"campus\"\u001b[0m\u001b[0;34m)\u001b[0m\u001b[0;34m\u001b[0m\u001b[0m\n\u001b[0m",
      "\u001b[0;31mTypeError\u001b[0m: print_func() missing 1 required positional argument: 's3'"
     ]
    }
   ],
   "source": [
    "def print_func(s1, s2, s3): # one parameter and no return function\n",
    "    print(s1, s2, s3)   "
   ]
  },
  {
   "cell_type": "code",
   "execution_count": null,
   "metadata": {},
   "outputs": [],
   "source": []
  },
  {
   "cell_type": "code",
   "execution_count": null,
   "metadata": {},
   "outputs": [],
   "source": [
    "def print_func2(s1, s2=\"no data\", s3=\"\")"
   ]
  }
 ],
 "metadata": {
  "kernelspec": {
   "display_name": "Python 3",
   "language": "python",
   "name": "python3"
  },
  "language_info": {
   "codemirror_mode": {
    "name": "ipython",
    "version": 3
   },
   "file_extension": ".py",
   "mimetype": "text/x-python",
   "name": "python",
   "nbconvert_exporter": "python",
   "pygments_lexer": "ipython3",
   "version": "3.6.2"
  }
 },
 "nbformat": 4,
 "nbformat_minor": 2
}
