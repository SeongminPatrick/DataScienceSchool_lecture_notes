{
 "cells": [
  {
   "cell_type": "markdown",
   "metadata": {},
   "source": [
    "# Quiz"
   ]
  },
  {
   "cell_type": "markdown",
   "metadata": {},
   "source": [
    "##### ?? 1. 5명의 이름을 입력 받아 kim인 성을 가진 사람의 수를 출력\n",
    "- [성(공백)이름] 형태로만 입력(ex : park doojin)"
   ]
  },
  {
   "cell_type": "code",
   "execution_count": null,
   "metadata": {},
   "outputs": [],
   "source": [
    "value = input(\"insert name : \")\n",
    "\n",
    "name_count = 1\n",
    "\n",
    "while attemp < 6\n",
    "    for name in value:\n",
    "        if value.split(\" \")[0] == \"kim \" or \"Kim \":\n",
    "            name_count = (name_count + 1)\n",
    "\n",
    "\n",
    "    print(name_count)"
   ]
  },
  {
   "cell_type": "code",
   "execution_count": null,
   "metadata": {},
   "outputs": [],
   "source": [
    "# 강사님 코드\n",
    "\n",
    "names = []\n",
    "\n",
    "for _ in range(5):\n",
    "    name = input(\"insert name : \")\n",
    "    names.append(name)\n",
    "\n",
    "# ------------------------------------------ 다섯 명을 받자    \n",
    "    \n",
    "names = ['kim sung', 'kim doojin', 'park data', 'park chanho', 'seo luca']\n",
    "\n",
    "# ------------------------------------------ 입력 받은 다섯 명 이름의 리스트\n",
    "\n",
    "count = 0\n",
    "\n",
    "# ------------------------------------------ 제일 첫 카운트는 언제나 0\n",
    "\n",
    "for name in names:\n",
    "    family_name = name.split(\" \")[0].lower()\n",
    "    if family_name == \"kim\" :\n",
    "        count += 1\n",
    "\n",
    "names, count"
   ]
  },
  {
   "cell_type": "markdown",
   "metadata": {},
   "source": []
  },
  {
   "cell_type": "markdown",
   "metadata": {},
   "source": [
    "##### OK 2. 2단에서 9단까지 구구단을 출력하는 프로그램을 작성"
   ]
  },
  {
   "cell_type": "markdown",
   "metadata": {},
   "source": [
    "- 가로로 출력"
   ]
  },
  {
   "cell_type": "code",
   "execution_count": null,
   "metadata": {},
   "outputs": [],
   "source": [
    "for a in range(2, 10):\n",
    "    print('\\n')\n",
    "    print(a,\"단\")\n",
    "    for b in range(1, 10):\n",
    "        print(a,\"x\",b, \"=\", a*b, end=\"\\t\")\n",
    " "
   ]
  },
  {
   "cell_type": "code",
   "execution_count": null,
   "metadata": {},
   "outputs": [],
   "source": [
    "# 강사님 코드\n",
    "\n",
    "for num1 in range(2,10):\n",
    "    print(\"{}단\".format(num1))\n",
    "    for num2 in range(1,10):\n",
    "        print(\"{}*{}={}\".format(num1,num2, num1*num2))\n",
    "    print()"
   ]
  },
  {
   "cell_type": "markdown",
   "metadata": {},
   "source": [
    "- 세로로 출력"
   ]
  },
  {
   "cell_type": "code",
   "execution_count": null,
   "metadata": {},
   "outputs": [],
   "source": [
    "for a in range(2, 10):\n",
    "    print('\\n')\n",
    "    print(a,\"단\")\n",
    "    for b in range(1, 11):\n",
    "        print(a,\"x\",b, \"=\", a*b)"
   ]
  },
  {
   "cell_type": "code",
   "execution_count": null,
   "metadata": {},
   "outputs": [],
   "source": [
    "# 강사님 코드 (보고 수정 필요)\n",
    "\n",
    "for num3 in range(2,11):\n",
    "    for num4 in range(1,10):\n",
    "        print(\"{}*{}={}\".format(num4, num3, num4*num3), end=\"\\t\")"
   ]
  },
  {
   "cell_type": "markdown",
   "metadata": {},
   "source": [
    "- 입력 받은 단수의 구구단을 출력"
   ]
  },
  {
   "cell_type": "code",
   "execution_count": null,
   "metadata": {},
   "outputs": [],
   "source": [
    "value = input(\"Insert number (2-9) : \")\n",
    "\n",
    "\n",
    "for number in value:\n",
    "    number = int(value)\n",
    "    print(number,\"단\")\n",
    "    for b in range(1, 10):\n",
    "        print(number, \"x\", b, \"=\", a*b)\n"
   ]
  },
  {
   "cell_type": "code",
   "execution_count": null,
   "metadata": {},
   "outputs": [],
   "source": [
    "# 강사님 코드\n",
    "\n",
    "num1 = int(input(\"insert number : \"))\n",
    "\n",
    "for num2 in range(1,10):\n",
    "    print(\"{}*{}={}\".format(num1, num2, num1*num2))"
   ]
  },
  {
   "cell_type": "markdown",
   "metadata": {},
   "source": [
    "##### ?? 4. up down으로 숫자 맞추기 게임\n",
    "- 랜덤으로 숫자(1~100)를 발생시킴\n",
    "- 숫자를 입력받아 랜덤숫자가 입력받은 숫자보다 크면 Up을 출력, 작으면 Down을 출력\n",
    "- 랜덤 숫자를 맞추면 몇번만에 맞췄는지 카운트를 알려줌\n",
    "- 랜덤수 발생 방법\n",
    "```\n",
    "import random\n",
    "random_number = random.randint(1,100)\n",
    "```"
   ]
  },
  {
   "cell_type": "code",
   "execution_count": null,
   "metadata": {},
   "outputs": [],
   "source": [
    "import random\n",
    "random_number = random.randint(1,100)\n",
    "\n",
    "\n",
    "while random_number > 0:\n",
    "    count = 0\n",
    "    guess_num = int(input(\"input number : \"))\n",
    "    \n",
    "    if guess_num > random_number:\n",
    "        print(\"Up\")\n",
    "        count += 1\n",
    "    elif guess_num < random_number:\n",
    "        print(\"Down\")\n",
    "        count += 1\n",
    "    else :\n",
    "        print(\"Correct! You tried\", count, \"attempt(s)!\")\n",
    "        \n",
    "    "
   ]
  },
  {
   "cell_type": "code",
   "execution_count": null,
   "metadata": {},
   "outputs": [],
   "source": [
    "# 강사님 코드\n",
    "\n",
    "# 랜덤 숫자 추출\n",
    "import random\n",
    "random_num = random.randint(1,100)\n",
    "\n",
    "#count 설정\n",
    "count = 0\n",
    "\n",
    "# 반복할 때는 while, true\n",
    "while True:\n",
    "    input_num = int(input(\"insert number : \"))\n",
    "\n",
    "    count += 1\n",
    "\n",
    "    if random_num < input_num:\n",
    "        print(\"Down\")\n",
    "    elif random_num > input_num:\n",
    "        print(\"Up\")\n",
    "    else:\n",
    "        print(\"{}번 만에 맞추셨습니다.\".format(count))\n",
    "        break"
   ]
  },
  {
   "cell_type": "markdown",
   "metadata": {},
   "source": [
    "##### 5. 로또번호 출력\n",
    "- 1~45의 6자리의 로또번호를 출력"
   ]
  },
  {
   "cell_type": "code",
   "execution_count": null,
   "metadata": {},
   "outputs": [],
   "source": [
    "import random\n",
    "random_number = random.sample(range(1, 46), 6)\n",
    "\n",
    "print(random_number)"
   ]
  },
  {
   "cell_type": "code",
   "execution_count": null,
   "metadata": {},
   "outputs": [],
   "source": [
    "import random\n",
    "\n",
    "lottery = []\n",
    "count = 0\n",
    "\n",
    "while True:\n",
    "    \n",
    "    count += 1\n",
    "    if count < 7:\n",
    "        random_number = random.randint(1,45)\n",
    "        lottery.append(random_number)\n",
    "    else:\n",
    "        break\n",
    "        \n",
    "lottery.sort()\n",
    "print(lottery)"
   ]
  },
  {
   "cell_type": "code",
   "execution_count": null,
   "metadata": {},
   "outputs": [],
   "source": [
    "# 강사님 코드\n",
    "\n",
    "import random\n",
    "\n",
    "result = []\n",
    "while len(result) < 6:\n",
    "    random_number = random.randint(1, 45)\n",
    "    \n",
    "    if random_number not in result:   #항상 다른, 중복되지 않는 숫자를 도출 가능  \n",
    "        result.append(random_number)\n",
    "    \n",
    "result.sort()\n",
    "result"
   ]
  },
  {
   "cell_type": "code",
   "execution_count": null,
   "metadata": {},
   "outputs": [],
   "source": [
    "import random\n",
    "\n",
    "lottery = random.sample(range(1, 45), 6)\n",
    "\n",
    "lottery.sort()\n",
    "lottery"
   ]
  },
  {
   "cell_type": "markdown",
   "metadata": {},
   "source": [
    "##### 6. FizzBuzz\n",
    "- 1에서 1씩 숫자를 입력받은 숫자까지 증가시키며 3의 배수에서는 Fizz 5의 배수에서는 Buzz 가 출력되도록 프로그램을 작성\n",
    "- 3과 5의 배수에서는 FizzBuzz가 출력"
   ]
  },
  {
   "cell_type": "code",
   "execution_count": null,
   "metadata": {},
   "outputs": [],
   "source": [
    "a = int(input(\"input number : \"))\n",
    "\n",
    "result = [\"FizzBuzz\" if a % 3 == 0 and a % 5 == 0 \n",
    "          else \"Fizz\" if a % 3 == 0 \n",
    "          else \"Buzz\" if a % 5 == 0 \n",
    "          else a for a in range(1, a)]\n",
    "\n",
    "result\n",
    "\n",
    "\n",
    "### 리스트의 대괄호를 제외하고 그대로 출력되게 만드려면?"
   ]
  },
  {
   "cell_type": "code",
   "execution_count": null,
   "metadata": {},
   "outputs": [],
   "source": [
    "# 강사님 코드\n",
    "\n",
    "number = int(input(\"input number : \"))\n",
    "\n",
    "for num in range(1, number+1):\n",
    "    if num % 3 == 0 and num % 5 == 0:\n",
    "        print(\"FizzBuzz\")\n",
    "    elif num % 3 == 0:\n",
    "        print(\"Fizz\")\n",
    "    elif num % 5 == 0:\n",
    "        print(\"Buzz\")\n",
    "    else:\n",
    "        print(num)"
   ]
  },
  {
   "cell_type": "markdown",
   "metadata": {},
   "source": [
    "##### 7. 별찍기 "
   ]
  },
  {
   "cell_type": "markdown",
   "metadata": {},
   "source": [
    "- 숫자를 입력 받아 아래와 같이 별찍기 1"
   ]
  },
  {
   "cell_type": "code",
   "execution_count": null,
   "metadata": {},
   "outputs": [],
   "source": [
    "num = int(input(\"input num : \"))\n",
    "count=0\n",
    "\n",
    "while True:\n",
    "    count += 1\n",
    "    print(\"*\" * count)\n",
    "    \n",
    "    if count < num+1:\n",
    "        continue\n",
    "    else:\n",
    "        break"
   ]
  },
  {
   "cell_type": "code",
   "execution_count": null,
   "metadata": {},
   "outputs": [],
   "source": [
    "# 강사님 코딩\n",
    "\n",
    "number = 7\n",
    "\n",
    "for star in range(1, number + 1):\n",
    "    print(\"*\" * star)"
   ]
  },
  {
   "cell_type": "markdown",
   "metadata": {},
   "source": [
    "```\n",
    "insert number : 10\n",
    "*\n",
    "**\n",
    "***\n",
    "****\n",
    "*****\n",
    "******\n",
    "*******\n",
    "********\n",
    "*********\n",
    "**********\n",
    "```"
   ]
  },
  {
   "cell_type": "markdown",
   "metadata": {},
   "source": [
    "- 숫자를 입력받아 아래와 같이 별찍기 2"
   ]
  },
  {
   "cell_type": "code",
   "execution_count": null,
   "metadata": {},
   "outputs": [],
   "source": [
    "num = int(input(\"input num : \"))\n",
    "num2 = num\n",
    "count=0\n",
    "\n",
    "while True:\n",
    "    count += 1\n",
    "    print(\" \"*(num-1) + \"*\"*count )\n",
    "    num -= 1\n",
    "    if count < num2:\n",
    "        continue\n",
    "    else:\n",
    "        break"
   ]
  },
  {
   "cell_type": "code",
   "execution_count": null,
   "metadata": {},
   "outputs": [],
   "source": [
    "# 강사님 코딩\n",
    "\n",
    "number = 10\n",
    "space = number-1 # 띄어쓰기\n",
    "\n",
    "for star in range(1, number+1):\n",
    "    print(\" \"*space + \"*\"*star)\n",
    "    space -= 1"
   ]
  },
  {
   "cell_type": "markdown",
   "metadata": {},
   "source": [
    "```\n",
    "insert number : 10\n",
    "         *\n",
    "        **\n",
    "       ***\n",
    "      ****\n",
    "     *****\n",
    "    ******\n",
    "   *******\n",
    "  ********\n",
    " *********\n",
    "**********\n",
    "```"
   ]
  },
  {
   "cell_type": "markdown",
   "metadata": {},
   "source": [
    "- 홀수를 입력 받아 아래와 같이 별을 찍으세요 3"
   ]
  },
  {
   "cell_type": "code",
   "execution_count": null,
   "metadata": {},
   "outputs": [],
   "source": [
    "num = int(input(\"input num : \"))\n",
    "\n",
    "for i in range(1, num+1, 2):\n",
    "    print(\" \"*(num-4) + i*\"*\")\n",
    "    num = num - 1"
   ]
  },
  {
   "cell_type": "code",
   "execution_count": null,
   "metadata": {},
   "outputs": [],
   "source": [
    "#강사님 코딩\n",
    "\n",
    "number = 7\n",
    "space = number // 2\n",
    "\n",
    "for star in range(1, number + 1, 2):\n",
    "    print(\" \" * space + \"*\" * star)\n",
    "    space -= 1"
   ]
  },
  {
   "cell_type": "markdown",
   "metadata": {},
   "source": [
    "```\n",
    "insert number : 7\n",
    "   *\n",
    "  ***\n",
    " *****\n",
    "*******\n",
    "```"
   ]
  },
  {
   "cell_type": "markdown",
   "metadata": {},
   "source": [
    "- 홀수를 입력 받아 아래와 같이 별을 찍으세요 4"
   ]
  },
  {
   "cell_type": "code",
   "execution_count": null,
   "metadata": {},
   "outputs": [],
   "source": [
    "num = int(input(\"input num : \"))\n",
    "\n",
    "for i in range(num, 0, -2):\n",
    "    print(\" \"*(num-7) + i*\"*\")\n",
    "    num = num + 1"
   ]
  },
  {
   "cell_type": "code",
   "execution_count": null,
   "metadata": {},
   "outputs": [],
   "source": [
    "# 강사님 코드\n",
    "\n",
    "number = 7\n",
    "space = 0\n",
    "\n",
    "for star in range(number, 0, -2):\n",
    "    print(\" \" * space + \"*\" * star)\n",
    "    space += 1"
   ]
  },
  {
   "cell_type": "markdown",
   "metadata": {},
   "source": [
    "```\n",
    "insert number : 7\n",
    "*******\n",
    " *****\n",
    "  ***\n",
    "   *\n",
    "```"
   ]
  },
  {
   "cell_type": "markdown",
   "metadata": {},
   "source": [
    "\n",
    "- 홀수의 숫자를 입력받아 다이아몬드 형태의 별을 찍음 5"
   ]
  },
  {
   "cell_type": "code",
   "execution_count": null,
   "metadata": {},
   "outputs": [],
   "source": [
    "# 강사님 코드\n",
    "\n",
    "# 위 아래 합친다\n",
    "\n",
    "number = 11\n",
    "\n",
    "space = number // 2\n",
    "for star in range(1, number + 1, 2):\n",
    "    print(\" \" * space + \"*\" * star)\n",
    "    space -= 1\n",
    "    \n",
    "space = 1\n",
    "for star in range(number-2, 0, -2):\n",
    "    print(\" \" * space + \"*\" * star)\n",
    "    space += 1\n"
   ]
  },
  {
   "cell_type": "markdown",
   "metadata": {},
   "source": [
    "```\n",
    "insert number : 7\n",
    "   *\n",
    "  ***\n",
    " *****\n",
    "*******\n",
    " *****\n",
    "  ***\n",
    "   *\n",
    "```"
   ]
  },
  {
   "cell_type": "markdown",
   "metadata": {},
   "source": [
    "##### 8. 보어 구하기\n",
    "- complement (보어)를 구하시오\n",
    "- 50의 이진수는 110010\n",
    "- 이진수 110010의 보어는 001101 (0을 1로바꾸고 1을 0으로 바꿈)\n",
    "- 입력된 숫자의 보어를 10진수로 나타내시오\n",
    "\n",
    "결과 예시\n",
    "- 50 -> 13\n",
    "- 100 -> 27\n",
    "\n",
    "힌트\n",
    "- 10진수를 2진수로 변환 : bin(n)\n",
    "- 2진수를 10진수로 변환 : int(n,2)"
   ]
  },
  {
   "cell_type": "code",
   "execution_count": null,
   "metadata": {
    "scrolled": false
   },
   "outputs": [],
   "source": [
    "number = input(\"input num : \")\n",
    "\n",
    "for num in number:\n",
    "    print(bin(int(num)).split(\"b\")[1])"
   ]
  },
  {
   "cell_type": "code",
   "execution_count": null,
   "metadata": {},
   "outputs": [],
   "source": []
  },
  {
   "cell_type": "code",
   "execution_count": null,
   "metadata": {},
   "outputs": [],
   "source": [
    "num = int(input(\"input num : \"))\n",
    "print(bin(num).split(\"b\")[1])"
   ]
  },
  {
   "cell_type": "code",
   "execution_count": null,
   "metadata": {},
   "outputs": [],
   "source": [
    "# 강사님 코드\n",
    "number = 10000\n",
    "number = bin(number)[2:]          # 2진수로 변환\n",
    "number = [num for num in number]\n",
    "number = [\"0\" if num == \"1\" else \"1\" for num in number]  #1이 0, 0이 1이 되는 마법 ...\n",
    "number = \"\".join(number)    # 리스트로 합쳐줌\n",
    "number = int(number, 2)     # 2진수를 10진수로 변환\n",
    "\n",
    "\n",
    "\n",
    "number"
   ]
  },
  {
   "cell_type": "code",
   "execution_count": null,
   "metadata": {},
   "outputs": [],
   "source": [
    "# XOR 비트 연산자\n",
    "\n",
    "number = 50\n",
    "data, num = 0, 0     # data = 비트연산자, num = 자리수 하나씩 증가할 때 사용하는 용도\n",
    "\n",
    "while data < number:\n",
    "    data += 2**num\n",
    "    num += 1\n",
    "    \n",
    "number^data          # XOR 연산자"
   ]
  },
  {
   "cell_type": "markdown",
   "metadata": {},
   "source": [
    "##### 9. Bit Manipulation: Lonely Integer\n",
    "- https://www.hackerrank.com/challenges/ctci-lonely-integer/problem\n",
    "- 리스트에 하나만 있는 데이터 찾아내서 출력하기\n",
    "- ls 리스트에 있는 데이터의 카운트를 세서 딕셔너리 형태로 바꿔줌\n",
    "```\n",
    "from collections import Counter \n",
    "d = dict(Counter(ls))\n",
    "```\n",
    "- [1,1,2,2,3] (입력) -> 3 (결과)\n",
    "- [1,1,2,2] (입력) -> None (결과)"
   ]
  },
  {
   "cell_type": "code",
   "execution_count": null,
   "metadata": {},
   "outputs": [],
   "source": [
    "from collections import Counter \n",
    "\n",
    "ls = [1,1,2,5,2,2,3]\n",
    "d = dict(Counter(ls))\n",
    "d\n",
    "\n",
    "# items 사용"
   ]
  },
  {
   "cell_type": "code",
   "execution_count": null,
   "metadata": {},
   "outputs": [],
   "source": []
  },
  {
   "cell_type": "code",
   "execution_count": null,
   "metadata": {},
   "outputs": [],
   "source": [
    "result = []\n",
    "for key, value in d.items():\n",
    "    print(key, value)\n",
    "    if value == 1:\n",
    "        result.append(key)\n",
    "        \n",
    "result"
   ]
  },
  {
   "cell_type": "markdown",
   "metadata": {},
   "source": [
    "##### 10. Recursion: Fibonacci Numbers\n",
    "- https://www.hackerrank.com/challenges/ctci-fibonacci-numbers/problem\n",
    "- 피보나치 수열 초기값 a=0, b=1 에서 a는 b값이 되고 b는 a+b가 되는 a를 나열한 수열"
   ]
  },
  {
   "cell_type": "code",
   "execution_count": null,
   "metadata": {},
   "outputs": [],
   "source": [
    "# n 번째 피보나치 수열의 숫자\n",
    "n = 10\n",
    "a, b = 0, 1\n",
    "# TODO"
   ]
  },
  {
   "cell_type": "code",
   "execution_count": null,
   "metadata": {},
   "outputs": [],
   "source": [
    "# n 까지 피보나치 수열의 숫자들\n",
    "n = 1000\n",
    "a, b = 0, 1\n",
    "# TODO"
   ]
  },
  {
   "cell_type": "code",
   "execution_count": null,
   "metadata": {},
   "outputs": [],
   "source": []
  },
  {
   "cell_type": "code",
   "execution_count": 1,
   "metadata": {},
   "outputs": [
    {
     "ename": "SyntaxError",
     "evalue": "can't assign to operator (<ipython-input-1-79bcaf5a90d6>, line 12)",
     "output_type": "error",
     "traceback": [
      "\u001b[0;36m  File \u001b[0;32m\"<ipython-input-1-79bcaf5a90d6>\"\u001b[0;36m, line \u001b[0;32m12\u001b[0m\n\u001b[0;31m    a + b = c\u001b[0m\n\u001b[0m    ^\u001b[0m\n\u001b[0;31mSyntaxError\u001b[0m\u001b[0;31m:\u001b[0m can't assign to operator\n"
     ]
    }
   ],
   "source": [
    "\n",
    "\n",
    "\n",
    "count = 1\n",
    "ls = []\n",
    "\n",
    "def fib(n):\n",
    "\n",
    "    a, b = 0, 1\n",
    "    while count < n+1:\n",
    "        ls.append(a, b)\n",
    "        a + b = c\n",
    "        b = a\n",
    "        c = b\n",
    "        count += 1\n",
    "        if count == 10:\n",
    "            break\n",
    "        \n",
    "print(ls)"
   ]
  },
  {
   "cell_type": "code",
   "execution_count": 2,
   "metadata": {},
   "outputs": [
    {
     "ename": "NameError",
     "evalue": "name 'b' is not defined",
     "output_type": "error",
     "traceback": [
      "\u001b[0;31m---------------------------------------------------------------------------\u001b[0m",
      "\u001b[0;31mNameError\u001b[0m                                 Traceback (most recent call last)",
      "\u001b[0;32m<ipython-input-2-f7e6465cb9a9>\u001b[0m in \u001b[0;36m<module>\u001b[0;34m()\u001b[0m\n\u001b[1;32m      4\u001b[0m \u001b[0;34m\u001b[0m\u001b[0m\n\u001b[1;32m      5\u001b[0m \u001b[0;32mfor\u001b[0m \u001b[0m_\u001b[0m \u001b[0;32min\u001b[0m \u001b[0mrange\u001b[0m\u001b[0;34m(\u001b[0m\u001b[0mn\u001b[0m\u001b[0;34m+\u001b[0m\u001b[0;36m1\u001b[0m\u001b[0;34m)\u001b[0m\u001b[0;34m:\u001b[0m\u001b[0;34m\u001b[0m\u001b[0m\n\u001b[0;32m----> 6\u001b[0;31m     \u001b[0ma\u001b[0m\u001b[0;34m,\u001b[0m \u001b[0mb\u001b[0m \u001b[0;34m=\u001b[0m \u001b[0mb\u001b[0m\u001b[0;34m,\u001b[0m \u001b[0ma\u001b[0m \u001b[0;34m+\u001b[0m \u001b[0mb\u001b[0m\u001b[0;34m\u001b[0m\u001b[0m\n\u001b[0m\u001b[1;32m      7\u001b[0m     \u001b[0mresult\u001b[0m \u001b[0;34m=\u001b[0m \u001b[0ma\u001b[0m\u001b[0;34m\u001b[0m\u001b[0m\n\u001b[1;32m      8\u001b[0m \u001b[0;34m\u001b[0m\u001b[0m\n",
      "\u001b[0;31mNameError\u001b[0m: name 'b' is not defined"
     ]
    }
   ],
   "source": [
    "n = 10\n",
    "\n",
    "result = 0\n",
    "\n",
    "for _ in range(n+1):\n",
    "    a, b = b, a + b\n",
    "    result = a\n",
    "\n",
    "result"
   ]
  },
  {
   "cell_type": "code",
   "execution_count": 3,
   "metadata": {},
   "outputs": [
    {
     "name": "stdout",
     "output_type": "stream",
     "text": [
      "0 \n",
      "1 \n",
      "1 \n",
      "2 \n",
      "3 \n",
      "5 \n",
      "8 \n",
      "13 \n",
      "21 \n",
      "34 \n",
      "55 \n",
      "89 \n",
      "144 \n",
      "233 \n",
      "377 \n",
      "610 \n",
      "987 \n"
     ]
    }
   ],
   "source": [
    "def fib(n):\n",
    "    a, b = 0, 1\n",
    "    while a < n:\n",
    "        print(a, end=' ')\n",
    "        a, b = b, a+b\n",
    "        print()\n",
    "fib(1000)"
   ]
  },
  {
   "cell_type": "code",
   "execution_count": null,
   "metadata": {},
   "outputs": [],
   "source": []
  },
  {
   "cell_type": "code",
   "execution_count": null,
   "metadata": {},
   "outputs": [],
   "source": [
    "n=100\n",
    "\n",
    "result=[0,1]\n",
    "\n",
    "while 1:\n",
    "    temp = result[-1]+result[-2]\n",
    "    if temp < n: \n",
    "        result.append(temp)\n",
    "    else:\n",
    "        break\n",
    "\n",
    "print(result)"
   ]
  },
  {
   "cell_type": "code",
   "execution_count": null,
   "metadata": {},
   "outputs": [],
   "source": [
    "n = int(input())\n",
    "result = [0, 1]\n",
    "\n",
    "while 1:\n",
    "    current = result[]"
   ]
  },
  {
   "cell_type": "code",
   "execution_count": null,
   "metadata": {},
   "outputs": [],
   "source": []
  },
  {
   "cell_type": "code",
   "execution_count": null,
   "metadata": {},
   "outputs": [],
   "source": []
  },
  {
   "cell_type": "markdown",
   "metadata": {},
   "source": [
    "**피보나치킨**"
   ]
  },
  {
   "cell_type": "markdown",
   "metadata": {},
   "source": [
    "1 - 1\n",
    "2 - 1\n",
    "3 - 2\n",
    "4 - 3\n",
    "5 - 3\n",
    "6 - 4\n",
    "7 - 4\n",
    "8 - 5\n",
    "9 - 6\n",
    "10- 6\n",
    "11- 7\n",
    "12- 8\n",
    "13- 8\n",
    "14- 9\n",
    "15- 9\n",
    "16- 10\n",
    "17- 11\n",
    "18- 11\n",
    "19- 12\n",
    "20- 12\n",
    "21- 13\n",
    "\n"
   ]
  },
  {
   "cell_type": "code",
   "execution_count": 10,
   "metadata": {},
   "outputs": [],
   "source": [
    "def is_fib(num):\n",
    "    a, b = 0, 1\n",
    "    while a < num:\n",
    "        a, b = b, a+b\n",
    "    return a == num\n",
    "\n",
    "def prev_fibo(num):\n",
    "    a, b = 0, 1\n",
    "    while a < num:\n",
    "        prev = a\n",
    "        a, b = b, a+b\n",
    "    return 1 if prev == 0 else prev"
   ]
  },
  {
   "cell_type": "code",
   "execution_count": 13,
   "metadata": {},
   "outputs": [],
   "source": [
    "def fib_chicken(person):\n",
    "    \n",
    "    idx, ls, prev = 0, [], 1\n",
    "    \n",
    "    for num in range(1, person+1):\n",
    "        if is_fib(num):\n",
    "            prev = prev_fibo(num)\n",
    "            ls.append(prev)\n",
    "            idx = 0\n",
    "        else:\n",
    "            number = prev + ls[idx]\n",
    "            ls.append(number)\n",
    "            idx += 1\n",
    "    \n",
    "    return ls[-1:][0]"
   ]
  },
  {
   "cell_type": "code",
   "execution_count": 20,
   "metadata": {},
   "outputs": [
    {
     "data": {
      "text/plain": [
       "26"
      ]
     },
     "execution_count": 20,
     "metadata": {},
     "output_type": "execute_result"
    }
   ],
   "source": [
    "fib_chicken(42)"
   ]
  },
  {
   "cell_type": "code",
   "execution_count": null,
   "metadata": {},
   "outputs": [],
   "source": []
  },
  {
   "cell_type": "code",
   "execution_count": null,
   "metadata": {},
   "outputs": [],
   "source": []
  },
  {
   "cell_type": "markdown",
   "metadata": {},
   "source": [
    "##### String Transformation\n",
    "\n",
    "문자열에서 문자를 한칸씩 이동하면서 해당 문자열이 앞에서 나온 수만큼 뒤로 이동한다. (z + 1 => a) 로 순환해야 한다.\n",
    "문자열은 소문자만 사용한다.\n",
    "\n",
    "결과 예시\n",
    "- s = xyzxyzxyz (입력)\n",
    "- s[0] 은 x이다 s[0] 앞에 x 문자가 0개 나왔으므로 x + 0 => x를 출력\n",
    "- s[1] 은 y이다 s[1] 앞에 y 문자가 0개 나왔으므로 y + 0 => y를 출력\n",
    "- s[2] 은 z이다 s[2] 앞에 z 문자가 0개 나왔으므로 z + 0 => z를 출력\n",
    "- s[3] 은 x이다 s[3] 앞에 x 문자가 1개 나왔으므로 x + 1 => y를 출력\n",
    "- s[4] 은 x이다 s[4] 앞에 y 문자가 1개 나왔으므로 y + 1 => z를 출력\n",
    "- s[5] 은 y이다 s[5] 앞에 z 문자가 1개 나왔으므로 z + 1 => a를 출력\n",
    "- s[6] 은 z이다 s[6] 앞에 x 문자가 2개 나왔으므로 x + 2 => z를 출력\n",
    "- s[7] 은 x이다 s[7] 앞에 y 문자가 2개 나왔으므로 y + 2 => a를 출력\n",
    "- s[8] 은 x이다 s[8] 앞에 z 문자가 2개 나왔으므로 z + 2 => b를 출력\n",
    "- xyzyzazab (출력)\n",
    "\n",
    "힌트\n",
    "- 문자를 숫자로 변환 : ord('a')\n",
    "- 숫자를 문자로 변환 : chr(97)\n",
    "- a ~ z는 숫자로 변환하면 97 ~ 122 이다\n",
    "\n",
    "성능\n",
    "- 10000개의 문자열을 transfomation 하는데 500ms 이하의 속도가 되어야 한다."
   ]
  },
  {
   "cell_type": "code",
   "execution_count": null,
   "metadata": {},
   "outputs": [],
   "source": [
    "from collections import Counter\n",
    "s = \"asdfqwera\"\n",
    "counter = Counter(s)\n",
    "counter"
   ]
  },
  {
   "cell_type": "code",
   "execution_count": null,
   "metadata": {},
   "outputs": [],
   "source": []
  }
 ],
 "metadata": {
  "kernelspec": {
   "display_name": "Python 3",
   "language": "python",
   "name": "python3"
  },
  "language_info": {
   "codemirror_mode": {
    "name": "ipython",
    "version": 3
   },
   "file_extension": ".py",
   "mimetype": "text/x-python",
   "name": "python",
   "nbconvert_exporter": "python",
   "pygments_lexer": "ipython3",
   "version": "3.6.2"
  }
 },
 "nbformat": 4,
 "nbformat_minor": 2
}
