{
 "cells": [
  {
   "cell_type": "code",
   "execution_count": 2,
   "metadata": {},
   "outputs": [
    {
     "name": "stdout",
     "output_type": "stream",
     "text": [
      "Overwriting disp.py\n"
     ]
    }
   ],
   "source": [
    "%%writefile disp.py\n",
    "def disp_star1(number):\n",
    "    \n",
    "    for star in range(1, number + 1):\n",
    "        print(\"*\" * star)\n",
    "\n",
    "def disp_star2(number):\n",
    "    \n",
    "    for star in range(1, number + 1):\n",
    "        print(\" \" * (number - star) + \"*\" * star)\n",
    "        \n",
    "def disp_star3(number):\n",
    "    \n",
    "    space = number // 2\n",
    "    \n",
    "    for star in range(1, number + 1, 2):\n",
    "        print(\" \" * space + \"*\" * star)\n",
    "        space -= 1\n",
    "\n",
    "def disp_star4(number):\n",
    "    \n",
    "    space = 0\n",
    "    \n",
    "    for star in range(number, 0, -2):\n",
    "        print(\" \" * space + \"*\" * star)\n",
    "        space += 1\n",
    "\n",
    "def disp_star5(number):\n",
    "    \n",
    "    space = number // 2\n",
    "    \n",
    "    for star in range(1, number, 2):\n",
    "        print(\" \" * space + \"*\" * star)\n",
    "        space -= 1\n",
    "        \n",
    "    for star in range(number, 0, -2):\n",
    "        print(\" \" * space + \"*\" * star)\n",
    "        space += 1"
   ]
  },
  {
   "cell_type": "code",
   "execution_count": null,
   "metadata": {},
   "outputs": [],
   "source": []
  }
 ],
 "metadata": {
  "kernelspec": {
   "display_name": "Python 3",
   "language": "python",
   "name": "python3"
  },
  "language_info": {
   "codemirror_mode": {
    "name": "ipython",
    "version": 3
   },
   "file_extension": ".py",
   "mimetype": "text/x-python",
   "name": "python",
   "nbconvert_exporter": "python",
   "pygments_lexer": "ipython3",
   "version": "3.6.4"
  }
 },
 "nbformat": 4,
 "nbformat_minor": 2
}
