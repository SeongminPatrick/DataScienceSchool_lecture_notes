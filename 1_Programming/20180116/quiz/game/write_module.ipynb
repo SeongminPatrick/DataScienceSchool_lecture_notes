{
 "cells": [
  {
   "cell_type": "code",
   "execution_count": 3,
   "metadata": {},
   "outputs": [
    {
     "name": "stdout",
     "output_type": "stream",
     "text": [
      "Overwriting lotto.py\n"
     ]
    }
   ],
   "source": [
    "%%writefile lotto.py\n",
    "\n",
    "import random\n",
    "\n",
    "def get_lotto_number():\n",
    "    \n",
    "    lotto_numbers = []\n",
    "    \n",
    "    while len(lotto_numbers) < 6:\n",
    "        \n",
    "        number = random.randint(1, 45)\n",
    "        \n",
    "        if number not in lotto_numbers:\n",
    "            lotto_numbers.append(number)        \n",
    "            \n",
    "    lotto_numbers.sort()\n",
    "    \n",
    "    return lotto_numbers"
   ]
  },
  {
   "cell_type": "code",
   "execution_count": 4,
   "metadata": {},
   "outputs": [
    {
     "name": "stdout",
     "output_type": "stream",
     "text": [
      "Overwriting random_number.py\n"
     ]
    }
   ],
   "source": [
    "%%writefile random_number.py\n",
    "\n",
    "import random\n",
    "\n",
    "def start():\n",
    "    random_number = random.randint(1, 100)\n",
    "    count = 0\n",
    "    while True:\n",
    "        number = int(input(\"insert number : \"))\n",
    "        count += 1\n",
    "        if number < random_number:\n",
    "            print(\"Up\")\n",
    "        elif number > random_number:\n",
    "            print(\"Down\")\n",
    "        else:\n",
    "            print(\"random number is {} - count : {}\".format(random_number, count))\n",
    "            break"
   ]
  },
  {
   "cell_type": "code",
   "execution_count": null,
   "metadata": {},
   "outputs": [],
   "source": []
  }
 ],
 "metadata": {
  "kernelspec": {
   "display_name": "Python 3",
   "language": "python",
   "name": "python3"
  },
  "language_info": {
   "codemirror_mode": {
    "name": "ipython",
    "version": 3
   },
   "file_extension": ".py",
   "mimetype": "text/x-python",
   "name": "python",
   "nbconvert_exporter": "python",
   "pygments_lexer": "ipython3",
   "version": "3.6.4"
  }
 },
 "nbformat": 4,
 "nbformat_minor": 2
}
