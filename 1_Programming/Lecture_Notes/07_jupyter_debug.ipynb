{
 "cells": [
  {
   "cell_type": "markdown",
   "metadata": {},
   "source": [
    "##### pdb\n",
    "- jupyter notebook debug\n",
    "- https://pypi.python.org/pypi/ipdb\n",
    "- http://frid.github.io/blog/2014/06/05/python-ipdb-cheatsheet/\n",
    "- $ pip3 install ipdb\n",
    "- jupyter notebook에서 디버깅을 할 때, 이것을 사용하면 한 줄 한 줄 실행하며 무엇이 잘 못 됐는지 추적이 가능하다."
   ]
  },
  {
   "cell_type": "code",
   "execution_count": null,
   "metadata": {},
   "outputs": [],
   "source": [
    "import ipdb"
   ]
  },
  {
   "cell_type": "code",
   "execution_count": null,
   "metadata": {},
   "outputs": [],
   "source": [
    "# h : help\n",
    "# q : quit\n",
    "# n : next line\n",
    "# u : one level up"
   ]
  },
  {
   "cell_type": "code",
   "execution_count": null,
   "metadata": {},
   "outputs": [],
   "source": [
    "def test(total=0, start=1, end=3):\n",
    "    for idx in range(start, end):\n",
    "        ipdb.set_trace()   # ipdb.set_trace 이 부분에서부터 trace를 하겠다. 라는 명령어. 이 줄부터 한 줄 한 줄 점검을 한다\n",
    "        total += idx\n",
    "        print(idx, total)\n",
    "    return idx, total"
   ]
  },
  {
   "cell_type": "code",
   "execution_count": null,
   "metadata": {},
   "outputs": [],
   "source": [
    "test()"
   ]
  },
  {
   "cell_type": "code",
   "execution_count": null,
   "metadata": {},
   "outputs": [],
   "source": []
  }
 ],
 "metadata": {
  "kernelspec": {
   "display_name": "Python 3",
   "language": "python",
   "name": "python3"
  },
  "language_info": {
   "codemirror_mode": {
    "name": "ipython",
    "version": 3
   },
   "file_extension": ".py",
   "mimetype": "text/x-python",
   "name": "python",
   "nbconvert_exporter": "python",
   "pygments_lexer": "ipython3",
   "version": "3.6.2"
  }
 },
 "nbformat": 4,
 "nbformat_minor": 2
}
