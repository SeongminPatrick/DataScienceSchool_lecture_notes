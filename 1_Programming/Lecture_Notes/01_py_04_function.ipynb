{
 "cells": [
  {
   "cell_type": "markdown",
   "metadata": {},
   "source": [
    "# 3. Function\n",
    "- function structure\n",
    "```\n",
    "def <function_name>(<parameter_name_1>,<parameter_name_2> ...):\n",
    "    code_1\n",
    "    code_2\n",
    "```\n",
    "- return\n",
    "- parameter & argument\n",
    "- *args\n",
    "- **kwargs\n",
    "- docstring\n",
    "- global (scope)\n",
    "- inner function ( closure )\n",
    "- lambda function\n",
    "- map\n",
    "- filter\n",
    "- reduce\n",
    "- decorlator"
   ]
  },
  {
   "cell_type": "markdown",
   "metadata": {},
   "source": [
    "### basic function\n",
    "- Grouping repetitive operations with single function...?\n",
    "- It can take up less memories and spaces."
   ]
  },
  {
   "cell_type": "code",
   "execution_count": 1,
   "metadata": {},
   "outputs": [
    {
     "name": "stdout",
     "output_type": "stream",
     "text": [
      "dss\n",
      "dss\n",
      "dss\n",
      "data\n",
      "data\n",
      "data\n",
      "science\n",
      "science\n",
      "science\n"
     ]
    }
   ],
   "source": [
    "# print each elements 3 times\n",
    "l = [\"dss\", \"data\", \"science\"]\n",
    "print(l[0])\n",
    "print(l[0])\n",
    "print(l[0])\n",
    "print(l[1])\n",
    "print(l[1])\n",
    "print(l[1])\n",
    "print(l[2])\n",
    "print(l[2])\n",
    "print(l[2])"
   ]
  },
  {
   "cell_type": "code",
   "execution_count": 2,
   "metadata": {},
   "outputs": [],
   "source": [
    "# printing values in data for 3 times each\n",
    "def three_disp(data):\n",
    "    print(data)\n",
    "    print(data)\n",
    "    print(data)"
   ]
  },
  {
   "cell_type": "code",
   "execution_count": 3,
   "metadata": {},
   "outputs": [
    {
     "name": "stdout",
     "output_type": "stream",
     "text": [
      "dss\n",
      "dss\n",
      "dss\n",
      "data\n",
      "data\n",
      "data\n",
      "science\n",
      "science\n",
      "science\n"
     ]
    }
   ],
   "source": [
    "ls = [\"dss\", \"data\", \"science\"]\n",
    "three_disp(ls[0])\n",
    "three_disp(ls[1])\n",
    "three_disp(ls[2])"
   ]
  },
  {
   "cell_type": "markdown",
   "metadata": {},
   "source": [
    "### return"
   ]
  },
  {
   "cell_type": "code",
   "execution_count": 4,
   "metadata": {},
   "outputs": [
    {
     "name": "stdout",
     "output_type": "stream",
     "text": [
      "data\n"
     ]
    }
   ],
   "source": [
    "def test_func():\n",
    "    return \"data\"\n",
    "\n",
    "s = test_func()\n",
    "print(s)"
   ]
  },
  {
   "cell_type": "code",
   "execution_count": 5,
   "metadata": {},
   "outputs": [],
   "source": [
    "def test_func(a):\n",
    "    if a < 10:\n",
    "        print(\"a < 10\")\n",
    "    else:\n",
    "        print (\"a >= 10\")"
   ]
  },
  {
   "cell_type": "code",
   "execution_count": 6,
   "metadata": {},
   "outputs": [
    {
     "name": "stdout",
     "output_type": "stream",
     "text": [
      "a >= 10\n"
     ]
    }
   ],
   "source": [
    "test_func(13)"
   ]
  },
  {
   "cell_type": "code",
   "execution_count": 7,
   "metadata": {},
   "outputs": [],
   "source": [
    "# function : to return the average value of the values inside the list\n",
    "def avg(points):\n",
    "    total = 0\n",
    "    for point in points:\n",
    "        total += point\n",
    "    return total / len(points)"
   ]
  },
  {
   "cell_type": "code",
   "execution_count": 8,
   "metadata": {},
   "outputs": [
    {
     "data": {
      "text/plain": [
       "250.0"
      ]
     },
     "execution_count": 8,
     "metadata": {},
     "output_type": "execute_result"
    }
   ],
   "source": [
    "points = [100, 200, 300, 400]\n",
    "avg(points)"
   ]
  },
  {
   "cell_type": "code",
   "execution_count": 9,
   "metadata": {},
   "outputs": [],
   "source": [
    "def avg(numbers):\n",
    "    total = 0\n",
    "    for number in numbers:\n",
    "        total += number\n",
    "    return total  / len(numbers)"
   ]
  },
  {
   "cell_type": "code",
   "execution_count": 10,
   "metadata": {},
   "outputs": [
    {
     "data": {
      "text/plain": [
       "5.5"
      ]
     },
     "execution_count": 10,
     "metadata": {},
     "output_type": "execute_result"
    }
   ],
   "source": [
    "numbers = [1, 2, 3, 4, 5, 6, 7, 8, 9, 10]\n",
    "avg(numbers)"
   ]
  },
  {
   "cell_type": "markdown",
   "metadata": {},
   "source": [
    "### parameter & argument\n",
    "- Parameter : function definition\n",
    "- Argument : function call"
   ]
  },
  {
   "cell_type": "code",
   "execution_count": 11,
   "metadata": {},
   "outputs": [],
   "source": [
    "def test_func(): # no parameter and no return function\n",
    "    pass         # does nothing with the funciton"
   ]
  },
  {
   "cell_type": "code",
   "execution_count": 12,
   "metadata": {},
   "outputs": [
    {
     "name": "stdout",
     "output_type": "stream",
     "text": [
      "fast_campus dss class\n"
     ]
    }
   ],
   "source": [
    "def print_func(s, s1, s2): # one parmeter and no return function     #parameter\n",
    "    print(s, s1, s2)\n",
    "    \n",
    "print_func(\"fast_campus\", \"dss\", \"class\")                            #argument"
   ]
  },
  {
   "cell_type": "code",
   "execution_count": 13,
   "metadata": {},
   "outputs": [
    {
     "name": "stdout",
     "output_type": "stream",
     "text": [
      "data_science fast campus\n",
      "fast_campus no_data nodata\n",
      "fast_campus data_science nodata\n",
      "science data nodata\n"
     ]
    }
   ],
   "source": [
    "def print_func(s1, s2=\"no_data\", s3=\"nodata\"): #s1:default argument # s2:set basic parameter\n",
    "    print(\"{} {} {}\".format(s1, s2, s3))\n",
    "    \n",
    "print_func(s2 = \"fast\", s3 = \"campus\", s1 = \"data_science\")\n",
    "    \n",
    "print_func(\"fast_campus\")\n",
    "print_func(\"fast_campus\", \"data_science\") # position arguments\n",
    "print_func(s2=\"data\", s1=\"science\") # keyword arguments "
   ]
  },
  {
   "cell_type": "markdown",
   "metadata": {},
   "source": [
    "### round"
   ]
  },
  {
   "cell_type": "code",
   "execution_count": 14,
   "metadata": {},
   "outputs": [],
   "source": [
    "def avg_func(korean, english, math):\n",
    "    return (korean + english + math) / 3"
   ]
  },
  {
   "cell_type": "code",
   "execution_count": 15,
   "metadata": {},
   "outputs": [
    {
     "name": "stdout",
     "output_type": "stream",
     "text": [
      "avg: 83.33\n"
     ]
    }
   ],
   "source": [
    "a = avg_func(100, 70, 80)\n",
    "# print(\"avg : {}\".format(round(a,2)))\n",
    "\n",
    "print(\"avg: {}\".format(round(a,2)))"
   ]
  },
  {
   "cell_type": "code",
   "execution_count": 16,
   "metadata": {},
   "outputs": [],
   "source": [
    "def total_function(korean, english, math):\n",
    "    return korean + english + math"
   ]
  },
  {
   "cell_type": "code",
   "execution_count": 17,
   "metadata": {},
   "outputs": [
    {
     "data": {
      "text/plain": [
       "180"
      ]
     },
     "execution_count": 17,
     "metadata": {},
     "output_type": "execute_result"
    }
   ],
   "source": [
    "total_function(50, 60, 70)"
   ]
  },
  {
   "cell_type": "code",
   "execution_count": 18,
   "metadata": {},
   "outputs": [
    {
     "name": "stdout",
     "output_type": "stream",
     "text": [
      "250\n"
     ]
    }
   ],
   "source": [
    "def func_param(total_function):\n",
    "    result = total_function(100, 70, 80)\n",
    "    print(result)\n",
    "\n",
    "func_param(total_function)"
   ]
  },
  {
   "cell_type": "markdown",
   "metadata": {},
   "source": [
    "### *args\n",
    "- arguments\n",
    "- receives all (`*`) arguments at once, in tuple data type."
   ]
  },
  {
   "cell_type": "code",
   "execution_count": 19,
   "metadata": {},
   "outputs": [
    {
     "name": "stdout",
     "output_type": "stream",
     "text": [
      "(1, 2, 3, 4, 'fast', 'campus', {'data': 'science'}, ['data', 'science', 'school'])\n",
      "<class 'tuple'>\n",
      "fast\n",
      "a\n"
     ]
    }
   ],
   "source": [
    "def print_args(*args):\n",
    "    print(args)\n",
    "    print(type(args))\n",
    "    print(args[4])\n",
    "    print(args[5][1])\n",
    "    \n",
    "print_args(1, 2, 3, 4, \"fast\", \"campus\", {\"data\": \"science\"}, [\"data\", \"science\", \"school\"])\n",
    "# print_args(1, 2, 3, \"fast\", \"campus\", [\"data\", \"science\"])     # *args 는 이와 같이 여러 타입을 튜플 타입으로 모두 받는다"
   ]
  },
  {
   "cell_type": "code",
   "execution_count": 20,
   "metadata": {},
   "outputs": [],
   "source": [
    "def avg_func(*args):\n",
    "    return sum(args) / len(args)"
   ]
  },
  {
   "cell_type": "code",
   "execution_count": 21,
   "metadata": {},
   "outputs": [
    {
     "name": "stdout",
     "output_type": "stream",
     "text": [
      "avg : 83.33\n"
     ]
    }
   ],
   "source": [
    "a = avg_func(100, 70, 80)\n",
    "print(\"avg : {}\".format(round(a,2)))"
   ]
  },
  {
   "cell_type": "markdown",
   "metadata": {},
   "source": [
    "### **kwargs\n",
    "- keyword argument\n",
    "- receives all `**` parameters in key-value form (dictionary data type)"
   ]
  },
  {
   "cell_type": "code",
   "execution_count": 22,
   "metadata": {},
   "outputs": [],
   "source": [
    "def avg_func(**kwargs):\n",
    "    print(kwargs)\n",
    "    print(type(kwargs))\n",
    "    \n",
    "    total, count = 0, 0\n",
    "    for subject, point in kwargs.items():\n",
    "        print(subject, point)\n",
    "        total += point\n",
    "        count += 1\n",
    "    return total / count"
   ]
  },
  {
   "cell_type": "code",
   "execution_count": 23,
   "metadata": {},
   "outputs": [
    {
     "name": "stdout",
     "output_type": "stream",
     "text": [
      "{'korean': 100, 'english': 70, 'math': 80}\n",
      "<class 'dict'>\n",
      "korean 100\n",
      "english 70\n",
      "math 80\n"
     ]
    },
    {
     "data": {
      "text/plain": [
       "83.33"
      ]
     },
     "execution_count": 23,
     "metadata": {},
     "output_type": "execute_result"
    }
   ],
   "source": [
    "b = avg_func(korean=100, english=70, math=80)\n",
    "\n",
    "round(b,2)"
   ]
  },
  {
   "cell_type": "code",
   "execution_count": 24,
   "metadata": {},
   "outputs": [
    {
     "name": "stdout",
     "output_type": "stream",
     "text": [
      "{'korean': 100, 'english': 70, 'math': 80}\n",
      "<class 'dict'>\n",
      "korean 100\n",
      "english 70\n",
      "math 80\n",
      "avg : 83.33\n"
     ]
    }
   ],
   "source": [
    "a = avg_func(korean=100, english=70, math=80)\n",
    "print(\"avg : {}\".format(round(a,2)))"
   ]
  },
  {
   "cell_type": "code",
   "execution_count": 25,
   "metadata": {},
   "outputs": [],
   "source": [
    "# use args, kwargs together\n",
    "\n",
    "def test_func(*args, **kwargs):\n",
    "    print(args)\n",
    "    print(kwargs)"
   ]
  },
  {
   "cell_type": "code",
   "execution_count": 26,
   "metadata": {},
   "outputs": [
    {
     "name": "stdout",
     "output_type": "stream",
     "text": [
      "(1, 2, 3, 'fastcampus', 'datascience')\n",
      "{}\n"
     ]
    }
   ],
   "source": [
    "test_func(1, 2, 3, \"fastcampus\", \"datascience\")   # list, tuple --> goes to args"
   ]
  },
  {
   "cell_type": "code",
   "execution_count": 27,
   "metadata": {},
   "outputs": [
    {
     "name": "stdout",
     "output_type": "stream",
     "text": [
      "()\n",
      "{'korean': 100, 'english': 70, 'math': 80}\n"
     ]
    }
   ],
   "source": [
    "test_func(korean=100, english=70, math=80)    # dictionary --> kwargs"
   ]
  },
  {
   "cell_type": "code",
   "execution_count": 28,
   "metadata": {},
   "outputs": [
    {
     "name": "stdout",
     "output_type": "stream",
     "text": [
      "(1, 2, 3, 'fastcampus', 'datascience')\n",
      "{'korean': 100, 'english': 70, 'math': 80}\n"
     ]
    }
   ],
   "source": [
    "test_func(1, 2, 3, \"fastcampus\", \"datascience\", korean=100, english=70, math=80)"
   ]
  },
  {
   "cell_type": "markdown",
   "metadata": {},
   "source": [
    "### docstring\n",
    "- readability counts (PEP 20:Zen of Python)"
   ]
  },
  {
   "cell_type": "code",
   "execution_count": 29,
   "metadata": {},
   "outputs": [],
   "source": [
    "def echo(anything):\n",
    "    'echo returns its input argument'    # docstring is useful when describing functions\n",
    "    return anything\n",
    "\n",
    "def echo2(anything):\n",
    "    '''\n",
    "    echo returns its input argument\n",
    "    The operation is:\n",
    "        1. print anything parameter\n",
    "        2. return anything parameter\n",
    "    '''\n",
    "    print(\"echo2 function : {}\".format(anything))\n",
    "    return anything"
   ]
  },
  {
   "cell_type": "code",
   "execution_count": 30,
   "metadata": {},
   "outputs": [
    {
     "name": "stdout",
     "output_type": "stream",
     "text": [
      "echo2 function : data_science\n",
      "data_science data_science\n"
     ]
    }
   ],
   "source": [
    "result1 = echo(\"data_science\")\n",
    "result2 = echo2(\"data_science\")\n",
    "print(result1, result2)"
   ]
  },
  {
   "cell_type": "markdown",
   "metadata": {},
   "source": [
    "### how to check functions <br>\n"
   ]
  },
  {
   "cell_type": "code",
   "execution_count": 31,
   "metadata": {},
   "outputs": [
    {
     "name": "stdout",
     "output_type": "stream",
     "text": [
      "Help on function echo in module __main__:\n",
      "\n",
      "echo(anything)\n",
      "    echo returns its input argument\n",
      "\n"
     ]
    }
   ],
   "source": [
    "help(echo)    # access to docstring of functions description"
   ]
  },
  {
   "cell_type": "code",
   "execution_count": 32,
   "metadata": {},
   "outputs": [
    {
     "name": "stdout",
     "output_type": "stream",
     "text": [
      "Help on function echo2 in module __main__:\n",
      "\n",
      "echo2(anything)\n",
      "    echo returns its input argument\n",
      "    The operation is:\n",
      "        1. print anything parameter\n",
      "        2. return anything parameter\n",
      "\n"
     ]
    }
   ],
   "source": [
    "help(echo2)"
   ]
  },
  {
   "cell_type": "code",
   "execution_count": 33,
   "metadata": {},
   "outputs": [
    {
     "name": "stdout",
     "output_type": "stream",
     "text": [
      "echo returns its input argument\n"
     ]
    }
   ],
   "source": [
    "print(echo.__doc__)     # read only docstring"
   ]
  },
  {
   "cell_type": "code",
   "execution_count": 34,
   "metadata": {},
   "outputs": [
    {
     "data": {
      "text/plain": [
       "<function __main__.echo>"
      ]
     },
     "execution_count": 34,
     "metadata": {},
     "output_type": "execute_result"
    }
   ],
   "source": [
    "echo # shift + tab"
   ]
  },
  {
   "cell_type": "code",
   "execution_count": 35,
   "metadata": {},
   "outputs": [],
   "source": [
    "echo2?"
   ]
  },
  {
   "cell_type": "markdown",
   "metadata": {},
   "source": [
    "### global\n",
    "- function scope\n",
    "    - locals variable (claimed within the function)\n",
    "    - globals variable (claimed outside of function)\n",
    "- how to change global variable ?"
   ]
  },
  {
   "cell_type": "code",
   "execution_count": 36,
   "metadata": {},
   "outputs": [
    {
     "name": "stdout",
     "output_type": "stream",
     "text": [
      "10\n"
     ]
    }
   ],
   "source": [
    "gv = 10\n",
    "def print_gv():\n",
    "    print(gv)\n",
    "    \n",
    "print_gv()"
   ]
  },
  {
   "cell_type": "code",
   "execution_count": 37,
   "metadata": {},
   "outputs": [],
   "source": [
    "gv1 = 1\n",
    "gv2 = 2\n",
    "\n",
    "def print_globals():\n",
    "    gv1 = 10\n",
    "    gv2 = 20\n",
    "    print(globals())\n",
    "\n",
    "def print_locals():\n",
    "    gv1 = 10\n",
    "    gv2 = 20\n",
    "    print(locals())\n",
    "    print(locals)['gv2']\n",
    "    \n",
    "    \n",
    "# print_globals()\n",
    "# print_locals() \n",
    "# globals()['gv2']"
   ]
  },
  {
   "cell_type": "code",
   "execution_count": 38,
   "metadata": {},
   "outputs": [
    {
     "name": "stdout",
     "output_type": "stream",
     "text": [
      "{'__name__': '__main__', '__doc__': 'Automatically created module for IPython interactive environment', '__package__': None, '__loader__': None, '__spec__': None, '__builtin__': <module 'builtins' (built-in)>, '__builtins__': <module 'builtins' (built-in)>, '_ih': ['', '# print each elements 3 times\\nl = [\"dss\", \"data\", \"science\"]\\nprint(l[0])\\nprint(l[0])\\nprint(l[0])\\nprint(l[1])\\nprint(l[1])\\nprint(l[1])\\nprint(l[2])\\nprint(l[2])\\nprint(l[2])', '# printing values in data for 3 times each\\ndef three_disp(data):\\n    print(data)\\n    print(data)\\n    print(data)', 'ls = [\"dss\", \"data\", \"science\"]\\nthree_disp(ls[0])\\nthree_disp(ls[1])\\nthree_disp(ls[2])', 'def test_func():\\n    return \"data\"\\n\\ns = test_func()\\nprint(s)', 'def test_func(a):\\n    if a < 10:\\n        print(\"a < 10\")\\n    else:\\n        print (\"a >= 10\")', 'test_func(13)', '# function : to return the average value of the values inside the list\\ndef avg(points):\\n    total = 0\\n    for point in points:\\n        total += point\\n    return total / len(points)', 'points = [100, 200, 300, 400]\\navg(points)', 'def avg(numbers):\\n    total = 0\\n    for number in numbers:\\n        total += number\\n    return total  / len(numbers)', 'numbers = [1, 2, 3, 4, 5, 6, 7, 8, 9, 10]\\navg(numbers)', 'def test_func(): # no parameter and no return function\\n    pass         # does nothing with the funciton', 'def print_func(s, s1, s2): # one parmeter and no return function     #parameter\\n    print(s, s1, s2)\\n    \\nprint_func(\"fast_campus\", \"dss\", \"class\")                            #argument', 'def print_func(s1, s2=\"no_data\", s3=\"nodata\"): #s1:default argument # s2:set basic parameter\\n    print(\"{} {} {}\".format(s1, s2, s3))\\n    \\nprint_func(s2 = \"fast\", s3 = \"campus\", s1 = \"data_science\")\\n    \\nprint_func(\"fast_campus\")\\nprint_func(\"fast_campus\", \"data_science\") # position arguments\\nprint_func(s2=\"data\", s1=\"science\") # keyword arguments ', 'def avg_func(korean, english, math):\\n    return (korean + english + math) / 3', 'a = avg_func(100, 70, 80)\\n# print(\"avg : {}\".format(round(a,2)))\\n\\nprint(\"avg: {}\".format(round(a,2)))', 'def total_function(korean, english, math):\\n    return korean + english + math', 'total_function(50, 60, 70)', 'def func_param(total_function):\\n    result = total_function(100, 70, 80)\\n    print(result)\\n\\nfunc_param(total_function)', 'def print_args(*args):\\n    print(args)\\n    print(type(args))\\n    print(args[4])\\n    print(args[5][1])\\n    \\nprint_args(1, 2, 3, 4, \"fast\", \"campus\", {\"data\": \"science\"}, [\"data\", \"science\", \"school\"])\\n# print_args(1, 2, 3, \"fast\", \"campus\", [\"data\", \"science\"])     # *args 는 이와 같이 여러 타입을 튜플 타입으로 모두 받는다', 'def avg_func(*args):\\n    return sum(args) / len(args)', 'a = avg_func(100, 70, 80)\\nprint(\"avg : {}\".format(round(a,2)))', 'def avg_func(**kwargs):\\n    print(kwargs)\\n    print(type(kwargs))\\n    \\n    total, count = 0, 0\\n    for subject, point in kwargs.items():\\n        print(subject, point)\\n        total += point\\n        count += 1\\n    return total / count', 'b = avg_func(korean=100, english=70, math=80)\\n\\nround(b,2)', 'a = avg_func(korean=100, english=70, math=80)\\nprint(\"avg : {}\".format(round(a,2)))', '# use args, kwargs together\\n\\ndef test_func(*args, **kwargs):\\n    print(args)\\n    print(kwargs)', 'test_func(1, 2, 3, \"fastcampus\", \"datascience\")   # list, tuple --> goes to args', 'test_func(korean=100, english=70, math=80)    # dictionary --> kwargs', 'test_func(1, 2, 3, \"fastcampus\", \"datascience\", korean=100, english=70, math=80)', 'def echo(anything):\\n    \\'echo returns its input argument\\'    # docstring is useful when describing functions\\n    return anything\\n\\ndef echo2(anything):\\n    \\'\\'\\'\\n    echo returns its input argument\\n    The operation is:\\n        1. print anything parameter\\n        2. return anything parameter\\n    \\'\\'\\'\\n    print(\"echo2 function : {}\".format(anything))\\n    return anything', 'result1 = echo(\"data_science\")\\nresult2 = echo2(\"data_science\")\\nprint(result1, result2)', 'help(echo)    # access to docstring of functions description', 'help(echo2)', 'print(echo.__doc__)     # read only docstring', 'echo # shift + tab', \"get_ipython().run_line_magic('pinfo', 'echo2')\", 'gv = 10\\ndef print_gv():\\n    print(gv)\\n    \\nprint_gv()', \"gv1 = 1\\ngv2 = 2\\n\\ndef print_globals():\\n    gv1 = 10\\n    gv2 = 20\\n    print(globals())\\n\\ndef print_locals():\\n    gv1 = 10\\n    gv2 = 20\\n    print(locals())\\n    print(locals)['gv2']\\n    \\n    \\n# print_globals()\\n# print_locals() \\n# globals()['gv2']\", 'print_globals()'], '_oh': {8: 250.0, 10: 5.5, 17: 180, 23: 83.33, 34: <function echo at 0x1148ff488>}, '_dh': ['/Users/Seoluca/Data_Analytics/FastCampus/Data_Science_School/1.Programming/대정리'], 'In': ['', '# print each elements 3 times\\nl = [\"dss\", \"data\", \"science\"]\\nprint(l[0])\\nprint(l[0])\\nprint(l[0])\\nprint(l[1])\\nprint(l[1])\\nprint(l[1])\\nprint(l[2])\\nprint(l[2])\\nprint(l[2])', '# printing values in data for 3 times each\\ndef three_disp(data):\\n    print(data)\\n    print(data)\\n    print(data)', 'ls = [\"dss\", \"data\", \"science\"]\\nthree_disp(ls[0])\\nthree_disp(ls[1])\\nthree_disp(ls[2])', 'def test_func():\\n    return \"data\"\\n\\ns = test_func()\\nprint(s)', 'def test_func(a):\\n    if a < 10:\\n        print(\"a < 10\")\\n    else:\\n        print (\"a >= 10\")', 'test_func(13)', '# function : to return the average value of the values inside the list\\ndef avg(points):\\n    total = 0\\n    for point in points:\\n        total += point\\n    return total / len(points)', 'points = [100, 200, 300, 400]\\navg(points)', 'def avg(numbers):\\n    total = 0\\n    for number in numbers:\\n        total += number\\n    return total  / len(numbers)', 'numbers = [1, 2, 3, 4, 5, 6, 7, 8, 9, 10]\\navg(numbers)', 'def test_func(): # no parameter and no return function\\n    pass         # does nothing with the funciton', 'def print_func(s, s1, s2): # one parmeter and no return function     #parameter\\n    print(s, s1, s2)\\n    \\nprint_func(\"fast_campus\", \"dss\", \"class\")                            #argument', 'def print_func(s1, s2=\"no_data\", s3=\"nodata\"): #s1:default argument # s2:set basic parameter\\n    print(\"{} {} {}\".format(s1, s2, s3))\\n    \\nprint_func(s2 = \"fast\", s3 = \"campus\", s1 = \"data_science\")\\n    \\nprint_func(\"fast_campus\")\\nprint_func(\"fast_campus\", \"data_science\") # position arguments\\nprint_func(s2=\"data\", s1=\"science\") # keyword arguments ', 'def avg_func(korean, english, math):\\n    return (korean + english + math) / 3', 'a = avg_func(100, 70, 80)\\n# print(\"avg : {}\".format(round(a,2)))\\n\\nprint(\"avg: {}\".format(round(a,2)))', 'def total_function(korean, english, math):\\n    return korean + english + math', 'total_function(50, 60, 70)', 'def func_param(total_function):\\n    result = total_function(100, 70, 80)\\n    print(result)\\n\\nfunc_param(total_function)', 'def print_args(*args):\\n    print(args)\\n    print(type(args))\\n    print(args[4])\\n    print(args[5][1])\\n    \\nprint_args(1, 2, 3, 4, \"fast\", \"campus\", {\"data\": \"science\"}, [\"data\", \"science\", \"school\"])\\n# print_args(1, 2, 3, \"fast\", \"campus\", [\"data\", \"science\"])     # *args 는 이와 같이 여러 타입을 튜플 타입으로 모두 받는다', 'def avg_func(*args):\\n    return sum(args) / len(args)', 'a = avg_func(100, 70, 80)\\nprint(\"avg : {}\".format(round(a,2)))', 'def avg_func(**kwargs):\\n    print(kwargs)\\n    print(type(kwargs))\\n    \\n    total, count = 0, 0\\n    for subject, point in kwargs.items():\\n        print(subject, point)\\n        total += point\\n        count += 1\\n    return total / count', 'b = avg_func(korean=100, english=70, math=80)\\n\\nround(b,2)', 'a = avg_func(korean=100, english=70, math=80)\\nprint(\"avg : {}\".format(round(a,2)))', '# use args, kwargs together\\n\\ndef test_func(*args, **kwargs):\\n    print(args)\\n    print(kwargs)', 'test_func(1, 2, 3, \"fastcampus\", \"datascience\")   # list, tuple --> goes to args', 'test_func(korean=100, english=70, math=80)    # dictionary --> kwargs', 'test_func(1, 2, 3, \"fastcampus\", \"datascience\", korean=100, english=70, math=80)', 'def echo(anything):\\n    \\'echo returns its input argument\\'    # docstring is useful when describing functions\\n    return anything\\n\\ndef echo2(anything):\\n    \\'\\'\\'\\n    echo returns its input argument\\n    The operation is:\\n        1. print anything parameter\\n        2. return anything parameter\\n    \\'\\'\\'\\n    print(\"echo2 function : {}\".format(anything))\\n    return anything', 'result1 = echo(\"data_science\")\\nresult2 = echo2(\"data_science\")\\nprint(result1, result2)', 'help(echo)    # access to docstring of functions description', 'help(echo2)', 'print(echo.__doc__)     # read only docstring', 'echo # shift + tab', \"get_ipython().run_line_magic('pinfo', 'echo2')\", 'gv = 10\\ndef print_gv():\\n    print(gv)\\n    \\nprint_gv()', \"gv1 = 1\\ngv2 = 2\\n\\ndef print_globals():\\n    gv1 = 10\\n    gv2 = 20\\n    print(globals())\\n\\ndef print_locals():\\n    gv1 = 10\\n    gv2 = 20\\n    print(locals())\\n    print(locals)['gv2']\\n    \\n    \\n# print_globals()\\n# print_locals() \\n# globals()['gv2']\", 'print_globals()'], 'Out': {8: 250.0, 10: 5.5, 17: 180, 23: 83.33, 34: <function echo at 0x1148ff488>}, 'get_ipython': <bound method InteractiveShell.get_ipython of <ipykernel.zmqshell.ZMQInteractiveShell object at 0x106537ba8>>, 'exit': <IPython.core.autocall.ZMQExitAutocall object at 0x10658f4a8>, 'quit': <IPython.core.autocall.ZMQExitAutocall object at 0x10658f4a8>, '_': <function echo at 0x1148ff488>, '__': 83.33, '___': 180, 'np': <module 'numpy' from '/Library/Frameworks/Python.framework/Versions/3.6/lib/python3.6/site-packages/numpy/__init__.py'>, 'sp': <module 'scipy' from '/Library/Frameworks/Python.framework/Versions/3.6/lib/python3.6/site-packages/scipy/__init__.py'>, 'pd': <module 'pandas' from '/Library/Frameworks/Python.framework/Versions/3.6/lib/python3.6/site-packages/pandas/__init__.py'>, 'sm': <module 'statsmodels.api' from '/Library/Frameworks/Python.framework/Versions/3.6/lib/python3.6/site-packages/statsmodels/api.py'>, 'smf': <module 'statsmodels.formula.api' from '/Library/Frameworks/Python.framework/Versions/3.6/lib/python3.6/site-packages/statsmodels/formula/api.py'>, 'sms': <module 'statsmodels.stats.api' from '/Library/Frameworks/Python.framework/Versions/3.6/lib/python3.6/site-packages/statsmodels/stats/api.py'>, 'sk': <module 'sklearn' from '/Library/Frameworks/Python.framework/Versions/3.6/lib/python3.6/site-packages/sklearn/__init__.py'>, 'mpl': <module 'matplotlib' from '/Library/Frameworks/Python.framework/Versions/3.6/lib/python3.6/site-packages/matplotlib/__init__.py'>, 'plt': <module 'matplotlib.pyplot' from '/Library/Frameworks/Python.framework/Versions/3.6/lib/python3.6/site-packages/matplotlib/pyplot.py'>, 'plb': <module 'matplotlib.pylab' from '/Library/Frameworks/Python.framework/Versions/3.6/lib/python3.6/site-packages/matplotlib/pylab.py'>, 'Axes3D': <class 'mpl_toolkits.mplot3d.axes3d.Axes3D'>, 'sns': <module 'seaborn' from '/Library/Frameworks/Python.framework/Versions/3.6/lib/python3.6/site-packages/seaborn/__init__.py'>, '_i': \"gv1 = 1\\ngv2 = 2\\n\\ndef print_globals():\\n    gv1 = 10\\n    gv2 = 20\\n    print(globals())\\n\\ndef print_locals():\\n    gv1 = 10\\n    gv2 = 20\\n    print(locals())\\n    print(locals)['gv2']\\n    \\n    \\n# print_globals()\\n# print_locals() \\n# globals()['gv2']\", '_ii': 'gv = 10\\ndef print_gv():\\n    print(gv)\\n    \\nprint_gv()', '_iii': 'echo2?', '_i1': '# print each elements 3 times\\nl = [\"dss\", \"data\", \"science\"]\\nprint(l[0])\\nprint(l[0])\\nprint(l[0])\\nprint(l[1])\\nprint(l[1])\\nprint(l[1])\\nprint(l[2])\\nprint(l[2])\\nprint(l[2])', 'l': ['dss', 'data', 'science'], '_i2': '# printing values in data for 3 times each\\ndef three_disp(data):\\n    print(data)\\n    print(data)\\n    print(data)', 'three_disp': <function three_disp at 0x1148c6730>, '_i3': 'ls = [\"dss\", \"data\", \"science\"]\\nthree_disp(ls[0])\\nthree_disp(ls[1])\\nthree_disp(ls[2])', 'ls': ['dss', 'data', 'science'], '_i4': 'def test_func():\\n    return \"data\"\\n\\ns = test_func()\\nprint(s)', 'test_func': <function test_func at 0x1148c6950>, 's': 'data', '_i5': 'def test_func(a):\\n    if a < 10:\\n        print(\"a < 10\")\\n    else:\\n        print (\"a >= 10\")', '_i6': 'test_func(13)', '_i7': '# function : to return the average value of the values inside the list\\ndef avg(points):\\n    total = 0\\n    for point in points:\\n        total += point\\n    return total / len(points)', 'avg': <function avg at 0x1148c6d08>, '_i8': 'points = [100, 200, 300, 400]\\navg(points)', 'points': [100, 200, 300, 400], '_8': 250.0, '_i9': 'def avg(numbers):\\n    total = 0\\n    for number in numbers:\\n        total += number\\n    return total  / len(numbers)', '_i10': 'numbers = [1, 2, 3, 4, 5, 6, 7, 8, 9, 10]\\navg(numbers)', 'numbers': [1, 2, 3, 4, 5, 6, 7, 8, 9, 10], '_10': 5.5, '_i11': 'def test_func(): # no parameter and no return function\\n    pass         # does nothing with the funciton', '_i12': 'def print_func(s, s1, s2): # one parmeter and no return function     #parameter\\n    print(s, s1, s2)\\n    \\nprint_func(\"fast_campus\", \"dss\", \"class\")                            #argument', 'print_func': <function print_func at 0x1148df598>, '_i13': 'def print_func(s1, s2=\"no_data\", s3=\"nodata\"): #s1:default argument # s2:set basic parameter\\n    print(\"{} {} {}\".format(s1, s2, s3))\\n    \\nprint_func(s2 = \"fast\", s3 = \"campus\", s1 = \"data_science\")\\n    \\nprint_func(\"fast_campus\")\\nprint_func(\"fast_campus\", \"data_science\") # position arguments\\nprint_func(s2=\"data\", s1=\"science\") # keyword arguments ', '_i14': 'def avg_func(korean, english, math):\\n    return (korean + english + math) / 3', 'avg_func': <function avg_func at 0x1148df730>, '_i15': 'a = avg_func(100, 70, 80)\\n# print(\"avg : {}\".format(round(a,2)))\\n\\nprint(\"avg: {}\".format(round(a,2)))', 'a': 83.33333333333333, '_i16': 'def total_function(korean, english, math):\\n    return korean + english + math', 'total_function': <function total_function at 0x1148dfd90>, '_i17': 'total_function(50, 60, 70)', '_17': 180, '_i18': 'def func_param(total_function):\\n    result = total_function(100, 70, 80)\\n    print(result)\\n\\nfunc_param(total_function)', 'func_param': <function func_param at 0x1148dfea0>, '_i19': 'def print_args(*args):\\n    print(args)\\n    print(type(args))\\n    print(args[4])\\n    print(args[5][1])\\n    \\nprint_args(1, 2, 3, 4, \"fast\", \"campus\", {\"data\": \"science\"}, [\"data\", \"science\", \"school\"])\\n# print_args(1, 2, 3, \"fast\", \"campus\", [\"data\", \"science\"])     # *args 는 이와 같이 여러 타입을 튜플 타입으로 모두 받는다', 'print_args': <function print_args at 0x1147bfea0>, '_i20': 'def avg_func(*args):\\n    return sum(args) / len(args)', '_i21': 'a = avg_func(100, 70, 80)\\nprint(\"avg : {}\".format(round(a,2)))', '_i22': 'def avg_func(**kwargs):\\n    print(kwargs)\\n    print(type(kwargs))\\n    \\n    total, count = 0, 0\\n    for subject, point in kwargs.items():\\n        print(subject, point)\\n        total += point\\n        count += 1\\n    return total / count', '_i23': 'b = avg_func(korean=100, english=70, math=80)\\n\\nround(b,2)', 'b': 83.33333333333333, '_23': 83.33, '_i24': 'a = avg_func(korean=100, english=70, math=80)\\nprint(\"avg : {}\".format(round(a,2)))', '_i25': '# use args, kwargs together\\n\\ndef test_func(*args, **kwargs):\\n    print(args)\\n    print(kwargs)', '_i26': 'test_func(1, 2, 3, \"fastcampus\", \"datascience\")   # list, tuple --> goes to args', '_i27': 'test_func(korean=100, english=70, math=80)    # dictionary --> kwargs', '_i28': 'test_func(1, 2, 3, \"fastcampus\", \"datascience\", korean=100, english=70, math=80)', '_i29': 'def echo(anything):\\n    \\'echo returns its input argument\\'    # docstring is useful when describing functions\\n    return anything\\n\\ndef echo2(anything):\\n    \\'\\'\\'\\n    echo returns its input argument\\n    The operation is:\\n        1. print anything parameter\\n        2. return anything parameter\\n    \\'\\'\\'\\n    print(\"echo2 function : {}\".format(anything))\\n    return anything', 'echo': <function echo at 0x1148ff488>, 'echo2': <function echo2 at 0x1148ff510>, '_i30': 'result1 = echo(\"data_science\")\\nresult2 = echo2(\"data_science\")\\nprint(result1, result2)', 'result1': 'data_science', 'result2': 'data_science', '_i31': 'help(echo)    # access to docstring of functions description', '_i32': 'help(echo2)', '_i33': 'print(echo.__doc__)     # read only docstring', '_i34': 'echo # shift + tab', '_34': <function echo at 0x1148ff488>, '_i35': 'echo2?', '_i36': 'gv = 10\\ndef print_gv():\\n    print(gv)\\n    \\nprint_gv()', 'gv': 10, 'print_gv': <function print_gv at 0x1148df620>, '_i37': \"gv1 = 1\\ngv2 = 2\\n\\ndef print_globals():\\n    gv1 = 10\\n    gv2 = 20\\n    print(globals())\\n\\ndef print_locals():\\n    gv1 = 10\\n    gv2 = 20\\n    print(locals())\\n    print(locals)['gv2']\\n    \\n    \\n# print_globals()\\n# print_locals() \\n# globals()['gv2']\", 'gv1': 1, 'gv2': 2, 'print_globals': <function print_globals at 0x1148df2f0>, 'print_locals': <function print_locals at 0x1148df488>, '_i38': 'print_globals()'}\n"
     ]
    }
   ],
   "source": [
    "print_globals()"
   ]
  },
  {
   "cell_type": "code",
   "execution_count": 39,
   "metadata": {},
   "outputs": [
    {
     "name": "stdout",
     "output_type": "stream",
     "text": [
      "{'gv2': 20, 'gv1': 10}\n",
      "<built-in function locals>\n"
     ]
    },
    {
     "ename": "TypeError",
     "evalue": "'NoneType' object is not subscriptable",
     "output_type": "error",
     "traceback": [
      "\u001b[0;31m---------------------------------------------------------------------------\u001b[0m",
      "\u001b[0;31mTypeError\u001b[0m                                 Traceback (most recent call last)",
      "\u001b[0;32m<ipython-input-39-c27287facb99>\u001b[0m in \u001b[0;36m<module>\u001b[0;34m()\u001b[0m\n\u001b[0;32m----> 1\u001b[0;31m \u001b[0mprint_locals\u001b[0m\u001b[0;34m(\u001b[0m\u001b[0;34m)\u001b[0m     \u001b[0;31m# 이거 뭐지 ?\u001b[0m\u001b[0;34m\u001b[0m\u001b[0m\n\u001b[0m",
      "\u001b[0;32m<ipython-input-37-eeba8e0919bf>\u001b[0m in \u001b[0;36mprint_locals\u001b[0;34m()\u001b[0m\n\u001b[1;32m     11\u001b[0m     \u001b[0mgv2\u001b[0m \u001b[0;34m=\u001b[0m \u001b[0;36m20\u001b[0m\u001b[0;34m\u001b[0m\u001b[0m\n\u001b[1;32m     12\u001b[0m     \u001b[0mprint\u001b[0m\u001b[0;34m(\u001b[0m\u001b[0mlocals\u001b[0m\u001b[0;34m(\u001b[0m\u001b[0;34m)\u001b[0m\u001b[0;34m)\u001b[0m\u001b[0;34m\u001b[0m\u001b[0m\n\u001b[0;32m---> 13\u001b[0;31m     \u001b[0mprint\u001b[0m\u001b[0;34m(\u001b[0m\u001b[0mlocals\u001b[0m\u001b[0;34m)\u001b[0m\u001b[0;34m[\u001b[0m\u001b[0;34m'gv2'\u001b[0m\u001b[0;34m]\u001b[0m\u001b[0;34m\u001b[0m\u001b[0m\n\u001b[0m\u001b[1;32m     14\u001b[0m \u001b[0;34m\u001b[0m\u001b[0m\n\u001b[1;32m     15\u001b[0m \u001b[0;34m\u001b[0m\u001b[0m\n",
      "\u001b[0;31mTypeError\u001b[0m: 'NoneType' object is not subscriptable"
     ]
    }
   ],
   "source": [
    "print_locals()     # 이거 뭐지 ?"
   ]
  },
  {
   "cell_type": "code",
   "execution_count": 40,
   "metadata": {},
   "outputs": [
    {
     "name": "stdout",
     "output_type": "stream",
     "text": [
      "10\n",
      "10\n"
     ]
    }
   ],
   "source": [
    "gv = 10        # state as global vriable\n",
    "def change_gv(data):\n",
    "    gv = data  \n",
    "\n",
    "print(gv)\n",
    "(change_gv(100))\n",
    "print(gv)"
   ]
  },
  {
   "cell_type": "code",
   "execution_count": null,
   "metadata": {},
   "outputs": [],
   "source": [
    "# although palced within function as local, it can still be used as global variable\n",
    "gv = 10\n",
    "def change_gv(data):\n",
    "    global gv    \n",
    "    gv = data\n",
    "    \n",
    "print(gv)\n",
    "change_gv(100)\n",
    "print(gv)"
   ]
  },
  {
   "cell_type": "markdown",
   "metadata": {},
   "source": [
    "### inner function"
   ]
  },
  {
   "cell_type": "code",
   "execution_count": 41,
   "metadata": {},
   "outputs": [],
   "source": [
    "def outer(a, b):\n",
    "    \n",
    "    def inner(c, d):\n",
    "        return c + d\n",
    "    \n",
    "    return inner(a, b)   # outer function --> call out inner function --> \n",
    "\n",
    "# anonymous functions\n",
    "# takes up cpu if called global variable, therefore inner functions can sav up memory space\n",
    "\n",
    "# apply global variable, local variable, inner funcitons stratically. "
   ]
  },
  {
   "cell_type": "code",
   "execution_count": 42,
   "metadata": {},
   "outputs": [
    {
     "data": {
      "text/plain": [
       "11"
      ]
     },
     "execution_count": 42,
     "metadata": {},
     "output_type": "execute_result"
    }
   ],
   "source": [
    "outer(4,7)"
   ]
  },
  {
   "cell_type": "code",
   "execution_count": 43,
   "metadata": {},
   "outputs": [
    {
     "data": {
      "text/plain": [
       "11"
      ]
     },
     "execution_count": 43,
     "metadata": {},
     "output_type": "execute_result"
    }
   ],
   "source": [
    "a = outer(5, 6)\n",
    "a"
   ]
  },
  {
   "cell_type": "markdown",
   "metadata": {},
   "source": [
    "### lambda function\n",
    "- anonymous function\n",
    "- lamda is an anonymous functions\n",
    "- for one-time use. once used, it is no longer effective\n",
    "- takes up small memory space\n",
    "- use it if possible (recommended)"
   ]
  },
  {
   "cell_type": "code",
   "execution_count": null,
   "metadata": {},
   "outputs": [],
   "source": [
    "def sum_func(x, y):\n",
    "    return x + y"
   ]
  },
  {
   "cell_type": "code",
   "execution_count": null,
   "metadata": {},
   "outputs": [],
   "source": [
    "sum_func(5,6)"
   ]
  },
  {
   "cell_type": "code",
   "execution_count": null,
   "metadata": {},
   "outputs": [],
   "source": [
    "sum_func2 = lambda x, y : x + y      # undefined"
   ]
  },
  {
   "cell_type": "code",
   "execution_count": null,
   "metadata": {},
   "outputs": [],
   "source": [
    "sum_func2(5,6)"
   ]
  },
  {
   "cell_type": "code",
   "execution_count": null,
   "metadata": {},
   "outputs": [],
   "source": [
    "sum_func3 = lambda x=1, y=2 : x + y    # defined"
   ]
  },
  {
   "cell_type": "code",
   "execution_count": null,
   "metadata": {},
   "outputs": [],
   "source": [
    "sum_func3()"
   ]
  },
  {
   "cell_type": "code",
   "execution_count": null,
   "metadata": {},
   "outputs": [],
   "source": [
    "sum_func3(5)"
   ]
  },
  {
   "cell_type": "code",
   "execution_count": null,
   "metadata": {},
   "outputs": [],
   "source": [
    "sum_func3(5, 9)"
   ]
  },
  {
   "cell_type": "code",
   "execution_count": null,
   "metadata": {},
   "outputs": [],
   "source": [
    "def sum_func4(f, x, y):\n",
    "    return f(x,y)"
   ]
  },
  {
   "cell_type": "code",
   "execution_count": null,
   "metadata": {},
   "outputs": [],
   "source": [
    "sum_func4(lambda x,y:x+y, 5, 7)"
   ]
  },
  {
   "cell_type": "code",
   "execution_count": null,
   "metadata": {},
   "outputs": [],
   "source": [
    "sum_func4(lambda x,y:x+y, 7, 8)"
   ]
  },
  {
   "cell_type": "code",
   "execution_count": null,
   "metadata": {},
   "outputs": [],
   "source": []
  },
  {
   "cell_type": "markdown",
   "metadata": {},
   "source": [
    "### map\n",
    "- map은 함수와 반복가능한 자료형을 받아 각 요소가 함수에 의해 수행된 결과를 리스트 형태의 자료형으로 리턴하는 함수\n",
    "- map(f, iterable) 형태로 사용 (f: 함수, iterable: 반복가능한 자료형)\n",
    "- 각 요소별로 반복문을 만들어서 "
   ]
  },
  {
   "cell_type": "code",
   "execution_count": null,
   "metadata": {},
   "outputs": [],
   "source": [
    "def sum_two(numberList):\n",
    "    result = []\n",
    "    for number in numberList:\n",
    "        result.append(number + 2)\n",
    "    return result"
   ]
  },
  {
   "cell_type": "code",
   "execution_count": null,
   "metadata": {},
   "outputs": [],
   "source": [
    "numberList = range(1,10)\n",
    "print(\"numberList :\", list(numberList))\n",
    "sum_two(numberList)"
   ]
  },
  {
   "cell_type": "code",
   "execution_count": null,
   "metadata": {},
   "outputs": [],
   "source": [
    "# map으로 구현\n",
    "def sum_two_map(number):\n",
    "    return number + 2"
   ]
  },
  {
   "cell_type": "code",
   "execution_count": null,
   "metadata": {},
   "outputs": [],
   "source": [
    "numberList = range(1,10)\n",
    "print(\"numberList :\", list(numberList))\n",
    "list(map(sum_two_map, numberList))"
   ]
  },
  {
   "cell_type": "code",
   "execution_count": null,
   "metadata": {},
   "outputs": [],
   "source": [
    "# map과 lambda로 구현\n",
    "numberList = range(1,10)\n",
    "print(\"numberList :\", list(numberList))\n",
    "list(map(lambda number : number + 2, numberList))"
   ]
  },
  {
   "cell_type": "code",
   "execution_count": null,
   "metadata": {},
   "outputs": [],
   "source": [
    "# lambda에 if else 추가\n",
    "# 홀수에는 곱하기2 짝수에는 더하기2\n",
    "numberList = range(1,10)\n",
    "print(\"numberList :\", list(numberList))\n",
    "list(map(lambda number : number + 2 if number%2 == 0 else number * 2, numberList))"
   ]
  },
  {
   "cell_type": "code",
   "execution_count": null,
   "metadata": {},
   "outputs": [],
   "source": [
    "# lambda에서 여러개의 리스트를 받아서 데이터 처리\n",
    "# 리스트의 수가 작은 데이터길이로 결과가 잘린다.\n",
    "numbers_1, numbers_2 = range(5), range(5,12)\n",
    "print(list(numbers_1), list(numbers_2))\n",
    "list(map(lambda n1, n2: n1 + n2, numbers_1, numbers_2))"
   ]
  },
  {
   "cell_type": "code",
   "execution_count": null,
   "metadata": {},
   "outputs": [],
   "source": [
    "# 문제\n",
    "# map을 사용하여 사람이름에서 성만 결과로 출력하는 코드를 작성\n",
    "nameList = [\"Kim kildong\", \"Lee jeawoo\", \"Park sangjin\", \"Kim kilsoo\", \"Lee sungsim\"]\n",
    "result = list(map(lambda name : name.split(\" \")[0], nameList))\n",
    "result"
   ]
  },
  {
   "cell_type": "code",
   "execution_count": null,
   "metadata": {},
   "outputs": [],
   "source": [
    "### map 직접 구현\n",
    "def mp(func, dataList):\n",
    "    for idx, data in enumerate(dataList):\n",
    "        dataList[idx] = func(data)\n",
    "    return dataList\n",
    "\n",
    "list(mp(lambda name : name.split(\" \")[0], nameList))"
   ]
  },
  {
   "cell_type": "markdown",
   "metadata": {},
   "source": [
    "### filter\n",
    "- 특정 조건에 맞는 데이터만 가져오는 함수"
   ]
  },
  {
   "cell_type": "code",
   "execution_count": null,
   "metadata": {},
   "outputs": [],
   "source": [
    "# 리스트에서 짝수 데이터만 가져오기\n",
    "def get_odd(numberList):\n",
    "    result = []\n",
    "    for number in numberList:\n",
    "        if number%2 == 0:\n",
    "            result.append(number)\n",
    "    return result\n",
    "\n",
    "numberList = range(10)\n",
    "get_odd(numberList)"
   ]
  },
  {
   "cell_type": "code",
   "execution_count": null,
   "metadata": {},
   "outputs": [],
   "source": [
    "def odd1(number):\n",
    "    if number%2 == 0:\n",
    "        return True\n",
    "    return False\n",
    "\n",
    "def odd2(number):\n",
    "    return True if number%2 == 0 else False\n",
    "\n",
    "numberList = range(10)\n",
    "list(filter(odd1, numberList)), list(filter(odd2, numberList))"
   ]
  },
  {
   "cell_type": "code",
   "execution_count": null,
   "metadata": {},
   "outputs": [],
   "source": [
    "numberList = range(10)\n",
    "list(filter(lambda number : number % 2 == 0, numberList))"
   ]
  },
  {
   "cell_type": "code",
   "execution_count": null,
   "metadata": {},
   "outputs": [],
   "source": [
    "# 문제\n",
    "# filter를 사용하여 사람 이름에서 성이 Lee인 사람의 이름만 결과로 출력하는 코드 작성\n",
    "nameList = [\"Kim kildong\", \"Lee jeawoo\", \"Park sangjin\", \"Kim kilsoo\", \"Lee sungsim\"]\n",
    "result = list(filter(lambda name : name.split(\" \")[0] == \"Lee\", nameList))\n",
    "result"
   ]
  },
  {
   "cell_type": "code",
   "execution_count": null,
   "metadata": {},
   "outputs": [],
   "source": [
    "# filter를 직접구현\n",
    "def ft(func, dataList):\n",
    "    result = []\n",
    "    for data in dataList:\n",
    "        if func(data):\n",
    "            result.append(data)\n",
    "    return result\n",
    "\n",
    "list(filter(lambda name : name.split(\" \")[0] == \"Lee\", nameList))"
   ]
  },
  {
   "cell_type": "markdown",
   "metadata": {},
   "source": [
    "### reduce\n",
    "- 처음 값부터 순차적으로지정된 함수를 처리해주는 함수"
   ]
  },
  {
   "cell_type": "code",
   "execution_count": null,
   "metadata": {},
   "outputs": [],
   "source": [
    "from functools import reduce"
   ]
  },
  {
   "cell_type": "code",
   "execution_count": null,
   "metadata": {},
   "outputs": [],
   "source": [
    "a = [3, 1, 5, 2, 4]\n",
    "reduce(lambda x, y: x + y, a)"
   ]
  },
  {
   "cell_type": "code",
   "execution_count": null,
   "metadata": {},
   "outputs": [],
   "source": [
    "# 가장 큰수를 구하기\n",
    "a = [3, 1, 5, 2, 4]\n",
    "reduce(lambda x, y: x if x > y else y, a)"
   ]
  },
  {
   "cell_type": "code",
   "execution_count": null,
   "metadata": {},
   "outputs": [],
   "source": [
    "# 문제\n",
    "# reduce를 사용하여 이름의 길이가 가장 긴 사람을 출력하는 코드 작성\n",
    "nameList = [\"Kim kildong\", \"Lee jeawoo\", \"Park sangjin\", \"Kim kilsoo\", \"Lee sungsim\"]\n",
    "result = reduce(lambda name1, name2 : name1 if len(name1) > len(name2) else name2, nameList)\n",
    "print(result)"
   ]
  },
  {
   "cell_type": "code",
   "execution_count": null,
   "metadata": {},
   "outputs": [],
   "source": [
    "# map을 이용하여 이름과 이름의 글자수를 출력하는 코드작성\n",
    "list(map(lambda name: name + \" : \" + str(len(name)), nameList))"
   ]
  },
  {
   "cell_type": "code",
   "execution_count": null,
   "metadata": {},
   "outputs": [],
   "source": [
    "# reduce를 직접 구현\n",
    "def rd(func, dataList):\n",
    "    result = dataList[0]\n",
    "    del dataList[0]\n",
    "    for data in dataList:\n",
    "        result = func(result, data)\n",
    "    return result\n",
    "\n",
    "rd(lambda name1, name2 : name1 if len(name1) > len(name2) else name2, nameList)"
   ]
  },
  {
   "cell_type": "markdown",
   "metadata": {},
   "source": [
    "### decorator\n",
    "- 코드를 바꾸지 않고 사용하고 있는 함수를 수정하고 싶을 때 사용\n",
    "- `*args`, `**kwargs`, 내부함수, 함수인자 사용"
   ]
  },
  {
   "cell_type": "code",
   "execution_count": null,
   "metadata": {},
   "outputs": [],
   "source": [
    "def disp_func(func):\n",
    "    def new_func(*args, **kwargs):\n",
    "        print(\"running function :\", func.__name__)\n",
    "        print(\"args :\", args)\n",
    "        print(\"kwargs :\", kwargs)\n",
    "        result = func(*args, **kwargs) # running func\n",
    "        print(\"result :\", result)\n",
    "        return result\n",
    "    return new_func"
   ]
  },
  {
   "cell_type": "code",
   "execution_count": null,
   "metadata": {},
   "outputs": [],
   "source": [
    "def sum_int(a, b):\n",
    "    return a + b\n",
    "sum_int(5, 7)"
   ]
  },
  {
   "cell_type": "code",
   "execution_count": null,
   "metadata": {},
   "outputs": [],
   "source": [
    "# 수동으로 선언\n",
    "new_sum_int = disp_func(sum_int)\n",
    "new_sum_int(5,7)"
   ]
  },
  {
   "cell_type": "code",
   "execution_count": null,
   "metadata": {},
   "outputs": [],
   "source": [
    "@disp_func\n",
    "def sum_int2(a, b):\n",
    "    return a + b\n",
    "sum_int2(5, 7)"
   ]
  },
  {
   "cell_type": "markdown",
   "metadata": {},
   "source": [
    "##### 함수의 실행 시간을 알려주는 decorator"
   ]
  },
  {
   "cell_type": "code",
   "execution_count": null,
   "metadata": {},
   "outputs": [],
   "source": [
    "import time\n",
    "def timer(func):\n",
    "    def wrapper(*args, **kwargs): # 함수 정의부 packing\n",
    "        print(\"function name :\", func.__name__)\n",
    "        start_time = time.time()\n",
    "        result = func(*args, **kwargs) # 함수 호출부 unpacking\n",
    "        print(\"result :\", result)\n",
    "        end_time = time.time()\n",
    "        print(\"time : {time}\".format(time = end_time - start_time))\n",
    "        return result\n",
    "    return wrapper # 새로운 함수를 만들고, 그 함수를 return 하는 함수 => decorator 함수"
   ]
  },
  {
   "cell_type": "code",
   "execution_count": null,
   "metadata": {},
   "outputs": [],
   "source": [
    "@timer\n",
    "def sum_func_1(start_number, last_number):\n",
    "    data = range(start_number, last_number + 1)\n",
    "    return sum(data)\n",
    "\n",
    "@timer\n",
    "def sum_func_2(start_number, last_number):\n",
    "    result = 0\n",
    "    for num in range(start_number, last_number + 1):\n",
    "        result += num\n",
    "    return result\n",
    "\n",
    "@timer\n",
    "def sum_func_3(start_number, last_number):\n",
    "    number_list = [ num for num in range(start_number, last_number + 1)]\n",
    "    return sum(number_list)"
   ]
  },
  {
   "cell_type": "code",
   "execution_count": null,
   "metadata": {},
   "outputs": [],
   "source": [
    "start_number, last_number = 1, 10000000\n",
    "sum_func_1(start_number, last_number)\n",
    "sum_func_2(start_number, last_number)\n",
    "sum_func_3(start_number, last_number)"
   ]
  }
 ],
 "metadata": {
  "kernelspec": {
   "display_name": "Python 3",
   "language": "python",
   "name": "python3"
  },
  "language_info": {
   "codemirror_mode": {
    "name": "ipython",
    "version": 3
   },
   "file_extension": ".py",
   "mimetype": "text/x-python",
   "name": "python",
   "nbconvert_exporter": "python",
   "pygments_lexer": "ipython3",
   "version": "3.6.2"
  }
 },
 "nbformat": 4,
 "nbformat_minor": 2
}
