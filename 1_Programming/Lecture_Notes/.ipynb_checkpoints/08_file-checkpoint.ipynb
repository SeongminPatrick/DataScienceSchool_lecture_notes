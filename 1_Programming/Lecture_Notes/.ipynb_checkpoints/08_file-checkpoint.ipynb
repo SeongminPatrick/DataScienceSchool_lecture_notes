{
 "cells": [
  {
   "cell_type": "markdown",
   "metadata": {},
   "source": [
    "### File\n",
    "- 파일 쓰기 (w) : 파일이 존재하면 덮어씀 (주의!!!!)\n",
    "- 파일 쓰기 (x) : 파일이 존재하지 않을때만 생성, 파일이 이미 존재하면 에러가 뜸\n",
    "- 파일 읽기 (r)\n",
    "- 파일 추가 (a)\n",
    "\n",
    "<br>\n",
    "- 텍스트 타입 (t)   --> 일반적인 작성 타입\n",
    "- 이진 타입 (b)     --> 리스트, 객체, 변수 등은 바이너리로 저장"
   ]
  },
  {
   "cell_type": "markdown",
   "metadata": {},
   "source": [
    "##### 파일 쓰기\n",
    "- 텍스트"
   ]
  },
  {
   "cell_type": "code",
   "execution_count": 1,
   "metadata": {},
   "outputs": [],
   "source": [
    "# write\n",
    "s = \"\"\"datascicence\n",
    "fast campus write\"\"\"\n",
    "f = open(\"/Users/Seoluca/Data_Analytics/FastCampus/Data_Science_School/1.Programming/file.txt\", 'wt') # 1. 경로찾기,  2. 취하려는 액션\n",
    "f.write(s)\n",
    "f.close()     # 마지막에는 항상 close를 해서, file과의 연결을 해제. 자원 절약"
   ]
  },
  {
   "cell_type": "code",
   "execution_count": null,
   "metadata": {},
   "outputs": [],
   "source": []
  },
  {
   "cell_type": "code",
   "execution_count": 2,
   "metadata": {},
   "outputs": [],
   "source": [
    "# print\n",
    "s = \"\"\"datascicence\n",
    "fast campus print\n",
    "fighting!!!\"\"\"\n",
    "f = open(\"/Users/Seoluca/Data_Analytics/FastCampus/Data_Science_School/1.Programming/file1.txt\", 'wt')\n",
    "print(s, file=f, end=\"\")    # 키워드와 함께 넘긴다, end를 꼭 지정해줘야 한다. \n",
    "f.close()"
   ]
  },
  {
   "cell_type": "code",
   "execution_count": 3,
   "metadata": {},
   "outputs": [],
   "source": [
    "# print\n",
    "s = \"\"\"datascicence\n",
    "fast campus print\n",
    "fighting!!!\n",
    "\"\"\"\n",
    "f = open(\"/Users/Seoluca/Data_Analytics/FastCampus/Data_Science_School/1.Programming/file.txt\", 'wt')\n",
    "print(s, file=f)    # end 가 없다면\n",
    "f.close()\n",
    "\n",
    "\n",
    "# line3이 생겨버림"
   ]
  },
  {
   "cell_type": "code",
   "execution_count": 15,
   "metadata": {},
   "outputs": [],
   "source": [
    "# write\n",
    "s = \"\"\"datascicence\n",
    "fast campus write x\"\"\"\n",
    "f = open(\"/Users/Seoluca/Data_Analytics/FastCampus/Data_Science_School/1.Programming/file.txt\", 'wt')\n",
    "f.write(s)\n",
    "f.close()"
   ]
  },
  {
   "cell_type": "markdown",
   "metadata": {},
   "source": [
    "- 이진\n",
    " - bytes : 이진데이터로 형변환 시켜줌"
   ]
  },
  {
   "cell_type": "code",
   "execution_count": 7,
   "metadata": {},
   "outputs": [],
   "source": [
    "data = bytes(range(0, 10))\n",
    "f = open(\"/Users/Seoluca/Data_Analytics/FastCampus/Data_Science_School/1.Programming/b_range.b\", 'wb')   # write, binary\n",
    "f.write(data)\n",
    "f.close()"
   ]
  },
  {
   "cell_type": "code",
   "execution_count": 8,
   "metadata": {},
   "outputs": [
    {
     "data": {
      "text/plain": [
       "b'\\x00\\x01\\x02\\x03\\x04\\x05\\x06\\x07\\x08\\t'"
      ]
     },
     "execution_count": 8,
     "metadata": {},
     "output_type": "execute_result"
    }
   ],
   "source": [
    "data"
   ]
  },
  {
   "cell_type": "markdown",
   "metadata": {},
   "source": [
    "##### 파일 읽기"
   ]
  },
  {
   "cell_type": "markdown",
   "metadata": {},
   "source": [
    "- 텍스트"
   ]
  },
  {
   "cell_type": "code",
   "execution_count": 9,
   "metadata": {},
   "outputs": [
    {
     "name": "stdout",
     "output_type": "stream",
     "text": [
      "\u0000\u0001\u0002\u0003\u0004\u0005\u0006\u0007\b\t\n"
     ]
    }
   ],
   "source": [
    "# 모두 읽기\n",
    "f = open(\"/Users/Seoluca/Data_Analytics/FastCampus/Data_Science_School/1.Programming/file.txt\", 'rt')\n",
    "s = f.read()\n",
    "print(s)\n",
    "f.close()"
   ]
  },
  {
   "cell_type": "code",
   "execution_count": 12,
   "metadata": {},
   "outputs": [
    {
     "name": "stdout",
     "output_type": "stream",
     "text": [
      "\n"
     ]
    }
   ],
   "source": [
    "f = open(\"/Users/Seoluca/Data_Analytics/FastCampus/Data_Science_School/1.Programming/file1.txt\", 'rt')\n",
    "s = f.read()\n",
    "print(s)\n",
    "f.close()"
   ]
  },
  {
   "cell_type": "code",
   "execution_count": 13,
   "metadata": {},
   "outputs": [
    {
     "name": "stdout",
     "output_type": "stream",
     "text": [
      "\n"
     ]
    }
   ],
   "source": [
    "# 일부만 읽기\n",
    "f = open(\"/Users/Seoluca/Data_Analytics/FastCampus/Data_Science_School/1.Programming/file1.txt\", 'rt')\n",
    "s = f.read(10) # 10자만 읽어옴\n",
    "print(s)\n",
    "f.close()"
   ]
  },
  {
   "cell_type": "code",
   "execution_count": 25,
   "metadata": {},
   "outputs": [
    {
     "name": "stdout",
     "output_type": "stream",
     "text": [
      "datascicence\n",
      "\n"
     ]
    }
   ],
   "source": [
    "# 한줄만 읽기\n",
    "f = open(\"/Users/Seoluca/Data_Analytics/FastCampus/Data_Science_School/1.Programming/file.txt\", 'rt')\n",
    "s = f.readline()    # 가장 위 1줄만\n",
    "print(s)\n",
    "f.close()"
   ]
  },
  {
   "cell_type": "code",
   "execution_count": 26,
   "metadata": {},
   "outputs": [
    {
     "name": "stdout",
     "output_type": "stream",
     "text": [
      "datascicence\n",
      "fast campus print"
     ]
    }
   ],
   "source": [
    "# 2줄 읽기\n",
    "f = open(\"/Users/Seoluca/Data_Analytics/FastCampus/Data_Science_School/1.Programming/file1.txt\", 'rt')\n",
    "for _ in range(2):\n",
    "    s = f.readline()\n",
    "    print(s, end=\"\")\n",
    "f.close()"
   ]
  },
  {
   "cell_type": "code",
   "execution_count": 29,
   "metadata": {},
   "outputs": [
    {
     "name": "stdout",
     "output_type": "stream",
     "text": [
      "datascicence\n",
      "fast campus print\n",
      "fighting!!!"
     ]
    }
   ],
   "source": [
    "# 끝까지 읽기\n",
    "f = open(\"/Users/Seoluca/Data_Analytics/FastCampus/Data_Science_School/1.Programming/file1.txt\", 'rt')\n",
    "while True:\n",
    "    s = f.readline()\n",
    "    if not s:\n",
    "        break\n",
    "    print(s, end=\"\")\n",
    "f.close()"
   ]
  },
  {
   "cell_type": "code",
   "execution_count": 30,
   "metadata": {},
   "outputs": [
    {
     "name": "stdout",
     "output_type": "stream",
     "text": [
      "['datascicence\\n', 'fast campus print\\n', 'fighting!!!']\n"
     ]
    }
   ],
   "source": [
    "# 여러줄을 리스트로 읽어오기  # readlines\n",
    "f = open(\"/Users/Seoluca/Data_Analytics/FastCampus/Data_Science_School/1.Programming/file1.txt\", 'rt')\n",
    "s = f.readlines()\n",
    "print(s)\n",
    "f.close()"
   ]
  },
  {
   "cell_type": "markdown",
   "metadata": {},
   "source": [
    "- 이진"
   ]
  },
  {
   "cell_type": "code",
   "execution_count": 34,
   "metadata": {},
   "outputs": [
    {
     "name": "stdout",
     "output_type": "stream",
     "text": [
      "b'\\x00\\x01\\x02\\x03\\x04\\x05\\x06\\x07\\x08\\t'\n"
     ]
    }
   ],
   "source": [
    "f = open(\"/Users/Seoluca/Data_Analytics/FastCampus/Data_Science_School/1.Programming/b_range.b\", 'rb')\n",
    "data = f.read()\n",
    "print(list(data))\n",
    "f.close()"
   ]
  },
  {
   "cell_type": "markdown",
   "metadata": {},
   "source": [
    "##### 파일 추가"
   ]
  },
  {
   "cell_type": "code",
   "execution_count": 35,
   "metadata": {},
   "outputs": [],
   "source": [
    "s = \"\\nschool\"    # \\n 주의 !\n",
    "f = open(\"/Users/Seoluca/Data_Analytics/FastCampus/Data_Science_School/1.Programming/file.txt\", 'at')\n",
    "f.write(s)\n",
    "f.close()"
   ]
  },
  {
   "cell_type": "markdown",
   "metadata": {},
   "source": [
    "##### with\n",
    "- 자동으로 파일 닫기"
   ]
  },
  {
   "cell_type": "code",
   "execution_count": 37,
   "metadata": {},
   "outputs": [
    {
     "name": "stdout",
     "output_type": "stream",
     "text": [
      "datascicence\n",
      "fast campus print\n",
      "fighting!!!\n",
      "\n",
      "\n",
      "school\n"
     ]
    }
   ],
   "source": [
    "# with를 쓸 때는 close를 안써도 된다. 더 편리.\n",
    "with open(\"/Users/Seoluca/Data_Analytics/FastCampus/Data_Science_School/1.Programming/file.txt\", 'rt') as f: \n",
    "    s = f.read()\n",
    "    print(s)"
   ]
  },
  {
   "cell_type": "markdown",
   "metadata": {},
   "source": [
    "### Pickle\n",
    "- 객체를 파일로 저장하는것을 직렬화(serialization) 이라고 함\n",
    "- 파이썬에서 직렬화를 통해 바이너리 형태의 데이터를 저장하고 복원하는 모듈\n",
    "- 피클을 사용하면 굳이 b, t 등을 사용하지 않아도 된다\n"
   ]
  },
  {
   "cell_type": "code",
   "execution_count": 38,
   "metadata": {},
   "outputs": [],
   "source": [
    "import pickle"
   ]
  },
  {
   "cell_type": "code",
   "execution_count": 39,
   "metadata": {},
   "outputs": [],
   "source": [
    "class A():\n",
    "    def __init__(self, data):\n",
    "        self.data = data\n",
    "    def disp(self):        # 저장되어 있는 함수 오픈\n",
    "        print(self.data)"
   ]
  },
  {
   "cell_type": "code",
   "execution_count": 40,
   "metadata": {},
   "outputs": [
    {
     "name": "stdout",
     "output_type": "stream",
     "text": [
      "pickle test\n"
     ]
    }
   ],
   "source": [
    "a = A(\"pickle test\")\n",
    "a.disp()"
   ]
  },
  {
   "cell_type": "code",
   "execution_count": 41,
   "metadata": {},
   "outputs": [],
   "source": [
    "# 저장\n",
    "f = open(\"/Users/Seoluca/Data_Analytics/FastCampus/Data_Science_School/1.Programming/obj.p\", \"wb\")\n",
    "pickle.dump(a, f)\n",
    "f.close()\n"
   ]
  },
  {
   "cell_type": "code",
   "execution_count": 43,
   "metadata": {},
   "outputs": [],
   "source": [
    "f = open(\"/Users/Seoluca/Data_Analytics/FastCampus/Data_Science_School/1.Programming/obj.p\", \"rb\")\n",
    "load_a = pickle.load(f)\n",
    "f.close()"
   ]
  },
  {
   "cell_type": "code",
   "execution_count": 44,
   "metadata": {},
   "outputs": [
    {
     "name": "stdout",
     "output_type": "stream",
     "text": [
      "pickle test\n"
     ]
    }
   ],
   "source": [
    "load_a.disp()"
   ]
  },
  {
   "cell_type": "code",
   "execution_count": 49,
   "metadata": {},
   "outputs": [
    {
     "data": {
      "text/plain": [
       "'pickle test'"
      ]
     },
     "execution_count": 49,
     "metadata": {},
     "output_type": "execute_result"
    }
   ],
   "source": [
    "load_a.data"
   ]
  },
  {
   "cell_type": "code",
   "execution_count": 46,
   "metadata": {},
   "outputs": [],
   "source": [
    "# 보안에 좋은 것은 아님.\n",
    "# 직렬화\n",
    "# 객체 내 패스워드 같은 민감한 내용이 있다면, 이렇게 pickle 방식으로 저장 후 불러와서 사용을 하는 방법이 있다."
   ]
  },
  {
   "cell_type": "code",
   "execution_count": null,
   "metadata": {},
   "outputs": [],
   "source": []
  }
 ],
 "metadata": {
  "kernelspec": {
   "display_name": "Python 3",
   "language": "python",
   "name": "python3"
  },
  "language_info": {
   "codemirror_mode": {
    "name": "ipython",
    "version": 3
   },
   "file_extension": ".py",
   "mimetype": "text/x-python",
   "name": "python",
   "nbconvert_exporter": "python",
   "pygments_lexer": "ipython3",
   "version": "3.6.2"
  }
 },
 "nbformat": 4,
 "nbformat_minor": 2
}
