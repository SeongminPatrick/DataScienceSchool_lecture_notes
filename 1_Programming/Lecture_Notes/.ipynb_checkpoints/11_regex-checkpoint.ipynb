{
 "cells": [
  {
   "cell_type": "markdown",
   "metadata": {},
   "source": [
    "# 정규표현식 (Regex)\n",
    "- match\n",
    "- search\n",
    "- findall\n",
    "- split\n",
    "- sub\n",
    "- pattern"
   ]
  },
  {
   "cell_type": "code",
   "execution_count": 3,
   "metadata": {},
   "outputs": [],
   "source": [
    "import re"
   ]
  },
  {
   "cell_type": "code",
   "execution_count": 4,
   "metadata": {},
   "outputs": [],
   "source": [
    "s = \"fast campus datascience fighting. datascience fighting. fast campus fighting.\""
   ]
  },
  {
   "cell_type": "markdown",
   "metadata": {},
   "source": [
    "##### match\n",
    "- 문자열의 가장 앞에서 부터 일치하는 패턴찾기"
   ]
  },
  {
   "cell_type": "code",
   "execution_count": 5,
   "metadata": {},
   "outputs": [
    {
     "name": "stdout",
     "output_type": "stream",
     "text": [
      "result1 : <_sre.SRE_Match object; span=(0, 4), match='fast'>\n",
      "result2 : None\n"
     ]
    }
   ],
   "source": [
    "result1 = re.match('fast', s)\n",
    "result2 = re.match('campus', s)\n",
    "print(\"result1 :\", result1)\n",
    "print(\"result2 :\", result2)"
   ]
  },
  {
   "cell_type": "code",
   "execution_count": 6,
   "metadata": {},
   "outputs": [
    {
     "name": "stdout",
     "output_type": "stream",
     "text": [
      "fast 0 4 (0, 4)\n"
     ]
    }
   ],
   "source": [
    "if result1:\n",
    "    print(result1.group(), result1.start(), result1.end(), result1.span())"
   ]
  },
  {
   "cell_type": "code",
   "execution_count": 7,
   "metadata": {},
   "outputs": [],
   "source": [
    "if result2:\n",
    "    print(result2.group(), result2.start(), result2.end(), result2.span())"
   ]
  },
  {
   "cell_type": "markdown",
   "metadata": {},
   "source": [
    "##### search\n",
    "- 문자열에서 가장 첫번째로 일치하는 패턴찾기"
   ]
  },
  {
   "cell_type": "code",
   "execution_count": 8,
   "metadata": {},
   "outputs": [
    {
     "name": "stdout",
     "output_type": "stream",
     "text": [
      "result3 : <_sre.SRE_Match object; span=(0, 4), match='fast'>\n",
      "result4 : <_sre.SRE_Match object; span=(5, 11), match='campus'>\n"
     ]
    }
   ],
   "source": [
    "result3 = re.search('fast', s)\n",
    "result4 = re.search('campus', s)\n",
    "print(\"result3 :\", result3)\n",
    "print(\"result4 :\", result4)"
   ]
  },
  {
   "cell_type": "code",
   "execution_count": 9,
   "metadata": {},
   "outputs": [
    {
     "name": "stdout",
     "output_type": "stream",
     "text": [
      "fast 0 4 (0, 4)\n"
     ]
    }
   ],
   "source": [
    "if result3:\n",
    "    print(result3.group(), result3.start(), result3.end(), result3.span())"
   ]
  },
  {
   "cell_type": "code",
   "execution_count": 10,
   "metadata": {},
   "outputs": [
    {
     "name": "stdout",
     "output_type": "stream",
     "text": [
      "campus 5 11 (5, 11)\n"
     ]
    }
   ],
   "source": [
    "if result4:\n",
    "    print(result4.group(), result4.start(), result4.end(), result4.span())"
   ]
  },
  {
   "cell_type": "markdown",
   "metadata": {},
   "source": [
    "##### findall\n",
    "- 일치하는 모든 패턴찾기"
   ]
  },
  {
   "cell_type": "code",
   "execution_count": 11,
   "metadata": {},
   "outputs": [
    {
     "name": "stdout",
     "output_type": "stream",
     "text": [
      "result5 : ['fast', 'fast'] 2\n",
      "result6 : ['fighting', 'fighting', 'fighting'] 3\n"
     ]
    }
   ],
   "source": [
    "result5 = re.findall('fast', s)\n",
    "result6 = re.findall('fighting', s)\n",
    "print(\"result5 :\", result5, len(result5))\n",
    "print(\"result6 :\", result6, len(result6))"
   ]
  },
  {
   "cell_type": "markdown",
   "metadata": {},
   "source": [
    "##### split\n",
    "- 패턴으로 나누기\n",
    "- 문자열을 특정 패턴으로 나누기"
   ]
  },
  {
   "cell_type": "code",
   "execution_count": 12,
   "metadata": {},
   "outputs": [
    {
     "name": "stdout",
     "output_type": "stream",
     "text": [
      "result7 : ['fast ', 'ampus datas', 'ien', 'e s', 'hool fighting!']\n"
     ]
    }
   ],
   "source": [
    "s1 = \"fast campus datascience school fighting!\"\n",
    "result7 = re.split('c', s1)\n",
    "print(\"result7 :\", result7)"
   ]
  },
  {
   "cell_type": "markdown",
   "metadata": {},
   "source": [
    "##### sub\n",
    "- 일치하는 패턴 대체하기"
   ]
  },
  {
   "cell_type": "code",
   "execution_count": 13,
   "metadata": {},
   "outputs": [
    {
     "name": "stdout",
     "output_type": "stream",
     "text": [
      "result8 : fast campus datascience school fighting! fast campus datascience school fighting!\n"
     ]
    }
   ],
   "source": [
    "s2 = \"slow campus datascience school fighting! slow campus datascience school fighting!\"\n",
    "result8 = re.sub('slow', 'fast', s2)\n",
    "print(\"result8 :\", result8)"
   ]
  },
  {
   "cell_type": "markdown",
   "metadata": {},
   "source": [
    "##### pattern"
   ]
  },
  {
   "cell_type": "markdown",
   "metadata": {},
   "source": [
    "문자\n",
    "- `\\d` : 숫자\n",
    "- `\\D` : 비숫자\n",
    "- `\\w` : 숫자 문자 _(언더스코어)\n",
    "- `\\W` : 비알파벳 문자\n",
    "- `\\s` : 공백 문자\n",
    "- `\\S` : 비공백 문자\n",
    "\n",
    "지정자\n",
    "- `[]` : 문자\n",
    "- `-` : 범위\n",
    "- `.` : 하나의 문자\n",
    "- `?` : 0회 또는 1회 반복\n",
    "- `*` : 0회 이상 반복\n",
    "- `+` : 1회 이상 반복\n",
    "- `{m,n}` : m~n회 반복\n",
    "- `()` : 그룹핑\n"
   ]
  },
  {
   "cell_type": "code",
   "execution_count": 14,
   "metadata": {},
   "outputs": [],
   "source": [
    "import string"
   ]
  },
  {
   "cell_type": "code",
   "execution_count": 15,
   "metadata": {},
   "outputs": [
    {
     "data": {
      "text/plain": [
       "(100,\n",
       " '0123456789abcdefghijklmnopqrstuvwxyzABCDEFGHIJKLMNOPQRSTUVWXYZ!\"#$%&\\'()*+,-./:;<=>?@[\\\\]^_`{|}~ \\t\\n\\r\\x0b\\x0c')"
      ]
     },
     "execution_count": 15,
     "metadata": {},
     "output_type": "execute_result"
    }
   ],
   "source": [
    "# 사용가능한 모든 문자\n",
    "pt = string.printable\n",
    "len(pt), pt"
   ]
  },
  {
   "cell_type": "code",
   "execution_count": 16,
   "metadata": {},
   "outputs": [
    {
     "name": "stdout",
     "output_type": "stream",
     "text": [
      "0123456789\n",
      "abcdefghijklmnopqrstuvwxyzABCDEFGHIJKLMNOPQRSTUVWXYZ!\"#$%&'()*+,-./:;<=>?@[\\]^_`{|}~ \t\n",
      "\r",
      "\u000b",
      "\f",
      "\n"
     ]
    }
   ],
   "source": [
    "# 숫자와 비숫자를 모두 찾기\n",
    "result = re.findall('\\d', pt) # 숫자\n",
    "print(''.join(result))\n",
    "result = re.findall('\\D', pt) # 비숫자\n",
    "print(''.join(result))"
   ]
  },
  {
   "cell_type": "code",
   "execution_count": 17,
   "metadata": {},
   "outputs": [
    {
     "name": "stdout",
     "output_type": "stream",
     "text": [
      "0123456789abcdefghijklmnopqrstuvwxyzABCDEFGHIJKLMNOPQRSTUVWXYZ_\n",
      "!\"#$%&'()*+,-./:;<=>?@[\\]^`{|}~ \t\n",
      "\r",
      "\u000b",
      "\f",
      "\n"
     ]
    }
   ],
   "source": [
    "result = re.findall('\\w', pt) # 문자 + _ : 식별자로 사용할수 있는 문자들\n",
    "print(''.join(result))\n",
    "result = re.findall('\\W', pt) # 비문자 + _\n",
    "print(''.join(result))"
   ]
  },
  {
   "cell_type": "code",
   "execution_count": 18,
   "metadata": {},
   "outputs": [
    {
     "name": "stdout",
     "output_type": "stream",
     "text": [
      "[' ', '\\t', '\\n', '\\r', '\\x0b', '\\x0c']\n",
      "['0', '1', '2', '3', '4', '5', '6', '7', '8', '9', 'a', 'b', 'c', 'd', 'e', 'f', 'g', 'h', 'i', 'j', 'k', 'l', 'm', 'n', 'o', 'p', 'q', 'r', 's', 't', 'u', 'v', 'w', 'x', 'y', 'z', 'A', 'B', 'C', 'D', 'E', 'F', 'G', 'H', 'I', 'J', 'K', 'L', 'M', 'N', 'O', 'P', 'Q', 'R', 'S', 'T', 'U', 'V', 'W', 'X', 'Y', 'Z', '!', '\"', '#', '$', '%', '&', \"'\", '(', ')', '*', '+', ',', '-', '.', '/', ':', ';', '<', '=', '>', '?', '@', '[', '\\\\', ']', '^', '_', '`', '{', '|', '}', '~']\n"
     ]
    }
   ],
   "source": [
    "result = re.findall('\\s',pt) # 공백문자\n",
    "print(result)\n",
    "result = re.findall('\\S',pt) # 비공백문자\n",
    "print(result)"
   ]
  },
  {
   "cell_type": "markdown",
   "metadata": {},
   "source": [
    "##### `-` 범위"
   ]
  },
  {
   "cell_type": "code",
   "execution_count": 19,
   "metadata": {},
   "outputs": [
    {
     "name": "stdout",
     "output_type": "stream",
     "text": [
      "0123456789\n"
     ]
    }
   ],
   "source": [
    "# [0-9] : 숫자 모두\n",
    "result = re.findall('[0-9]', pt)\n",
    "print(''.join(result))"
   ]
  },
  {
   "cell_type": "code",
   "execution_count": 20,
   "metadata": {},
   "outputs": [
    {
     "name": "stdout",
     "output_type": "stream",
     "text": [
      "abcdefghijklmnopqrstuvwxyz\n"
     ]
    }
   ],
   "source": [
    "# [a-z] : 알파벳 소문자\n",
    "result = re.findall('[a-z]', pt)\n",
    "print(''.join(result))"
   ]
  },
  {
   "cell_type": "code",
   "execution_count": 21,
   "metadata": {},
   "outputs": [
    {
     "name": "stdout",
     "output_type": "stream",
     "text": [
      "abcdefghijklmnopqrstuvwxyzABCDEFGHIJKLMNOPQRSTUVWXYZ\n",
      "\n"
     ]
    }
   ],
   "source": [
    "# [a-zA-Z] : 알파벳 모두\n",
    "result = re.findall('[a-zA-Z]', pt)\n",
    "print(''.join(result), end=\"\\n\\n\")"
   ]
  },
  {
   "cell_type": "code",
   "execution_count": 22,
   "metadata": {},
   "outputs": [
    {
     "name": "stdout",
     "output_type": "stream",
     "text": [
      "012345\n",
      "012345\n",
      "\n"
     ]
    }
   ],
   "source": [
    "# [012345] == [0-5]\n",
    "result = re.findall('[012345]', pt)\n",
    "print(''.join(result))\n",
    "result = re.findall('[0-5]', pt)\n",
    "print(''.join(result), end=\"\\n\\n\")"
   ]
  },
  {
   "cell_type": "code",
   "execution_count": 23,
   "metadata": {},
   "outputs": [
    {
     "name": "stdout",
     "output_type": "stream",
     "text": [
      "234789\n",
      "234789\n",
      "\n"
     ]
    }
   ],
   "source": [
    "# [234789] = [2-47-9]\n",
    "result = re.findall('[234789]', pt)\n",
    "print(''.join(result))\n",
    "result = re.findall('[2-47-9]', pt)\n",
    "print(''.join(result), end=\"\\n\\n\")"
   ]
  },
  {
   "cell_type": "code",
   "execution_count": 24,
   "metadata": {},
   "outputs": [
    {
     "name": "stdout",
     "output_type": "stream",
     "text": [
      "bcde\n",
      "bcde\n",
      "bcde\n",
      "\n"
     ]
    }
   ],
   "source": [
    "# [bcde] == [bc-e] = [b-e]\n",
    "result = re.findall('[bcde]', pt)\n",
    "print(''.join(result))\n",
    "result = re.findall('[bc-e]', pt)\n",
    "print(''.join(result))\n",
    "result = re.findall('[b-e]', pt)\n",
    "print(''.join(result), end=\"\\n\\n\")"
   ]
  },
  {
   "cell_type": "markdown",
   "metadata": {},
   "source": [
    "##### `.` 문자 하나"
   ]
  },
  {
   "cell_type": "code",
   "execution_count": 25,
   "metadata": {},
   "outputs": [
    {
     "name": "stdout",
     "output_type": "stream",
     "text": [
      "aab ['aab']\n",
      "a0b ['a0b']\n",
      "abc []\n"
     ]
    }
   ],
   "source": [
    "ls = [\"aab\", \"a0b\", \"abc\"]\n",
    "for s in ls:\n",
    "    result = re.findall('a.b', s) # a + 모든문자하나 + b\n",
    "    print(s, result)"
   ]
  },
  {
   "cell_type": "markdown",
   "metadata": {},
   "source": [
    "##### `?` 0회 또는 1회 반복"
   ]
  },
  {
   "cell_type": "code",
   "execution_count": 26,
   "metadata": {},
   "outputs": [
    {
     "name": "stdout",
     "output_type": "stream",
     "text": [
      "aab ['aab']\n",
      "a3b ['a3b']\n",
      "abc ['ab']\n",
      "accb []\n"
     ]
    }
   ],
   "source": [
    "l = [\"aab\", \"a3b\", \"abc\", \"accb\"]\n",
    "for s in l:\n",
    "    result = re.findall('a.?b', s) # a + 모든문자0개 또는 1개 + b\n",
    "    print(s, result)"
   ]
  },
  {
   "cell_type": "code",
   "execution_count": 27,
   "metadata": {},
   "outputs": [
    {
     "name": "stdout",
     "output_type": "stream",
     "text": [
      "aab ['ab']\n",
      "a3b ['a3b']\n",
      "a8b []\n",
      "abc ['ab']\n",
      "accb []\n"
     ]
    }
   ],
   "source": [
    "l = [\"aab\", \"a3b\", \"a8b\", \"abc\", \"accb\"]\n",
    "for s in l:\n",
    "    result = re.findall('a[0-4]?b', s) # a + 0-4숫자 0개 또는 1개 + b\n",
    "    print(s, result)"
   ]
  },
  {
   "cell_type": "markdown",
   "metadata": {},
   "source": [
    "##### `*` : 0회 이상 반복"
   ]
  },
  {
   "cell_type": "code",
   "execution_count": 28,
   "metadata": {},
   "outputs": [
    {
     "name": "stdout",
     "output_type": "stream",
     "text": [
      "ac ['ac']\n",
      "abc ['abc']\n",
      "abbbbc ['abbbbc']\n",
      "a3bec []\n"
     ]
    }
   ],
   "source": [
    "l = [\"ac\",\"abc\",\"abbbbc\",\"a3bec\"]\n",
    "for s in l:\n",
    "    result = re.findall('ab*c', s) # a + b가 0회이상 반복 + c\n",
    "    print(s, result)"
   ]
  },
  {
   "cell_type": "markdown",
   "metadata": {},
   "source": [
    "##### `+` : 1회 이상 반복"
   ]
  },
  {
   "cell_type": "code",
   "execution_count": 33,
   "metadata": {},
   "outputs": [
    {
     "name": "stdout",
     "output_type": "stream",
     "text": [
      "ac []\n",
      "abc ['abc']\n",
      "abbbbc ['abbbbc']\n",
      "a3bec []\n"
     ]
    }
   ],
   "source": [
    "l = [\"ac\",\"abc\",\"abbbbc\",\"a3bec\"]\n",
    "for s in l:\n",
    "    result = re.findall('ab+c', s) # a + b가 1회이상 반복 + c\n",
    "    print(s, result)"
   ]
  },
  {
   "cell_type": "markdown",
   "metadata": {},
   "source": [
    "##### `{m,n}` : m~n회 반복"
   ]
  },
  {
   "cell_type": "code",
   "execution_count": 29,
   "metadata": {},
   "outputs": [
    {
     "name": "stdout",
     "output_type": "stream",
     "text": [
      "ac []\n",
      "abcasd ['abc']\n",
      "abbc ['abbc']\n",
      "abbbc ['abbbc']\n",
      "abbbbbbc []\n"
     ]
    }
   ],
   "source": [
    "l = [\"ac\",\"abcasd\",\"abbc\",\"abbbc\",\"abbbbbbc\"]\n",
    "for s in l:\n",
    "    result = re.findall('ab{1,3}c', s) # a + b가 1회~3회 반복 + c\n",
    "    print(s, result)"
   ]
  },
  {
   "cell_type": "markdown",
   "metadata": {},
   "source": [
    "##### `()` : 그룹핑"
   ]
  },
  {
   "cell_type": "code",
   "execution_count": 35,
   "metadata": {},
   "outputs": [
    {
     "name": "stdout",
     "output_type": "stream",
     "text": [
      "aaa5.djfi [('5', 'dj')]\n",
      "abdddc5 []\n",
      "1abbbbc []\n",
      "a3.bec [('3', 'be')]\n"
     ]
    }
   ],
   "source": [
    "l = [\"aaa5.djfi\",\"abdddc5\",\"1abbbbc\",\"a3.bec\"]\n",
    "for s in l:\n",
    "    result = re.findall('([0-9]+)[.]([a-z]{2})', s) # 숫자 1회이상 + . + 문자 2회\n",
    "    print(s, result)"
   ]
  },
  {
   "cell_type": "markdown",
   "metadata": {},
   "source": [
    "##### example"
   ]
  },
  {
   "cell_type": "code",
   "execution_count": 25,
   "metadata": {},
   "outputs": [
    {
     "name": "stdout",
     "output_type": "stream",
     "text": [
      "True ['pdj1224@daum.com', 'radajin1224@gmail.com']\n",
      "False []\n"
     ]
    }
   ],
   "source": [
    "# 이메일주소 찾기\n",
    "s = \"저의 이메일 주소는 pdj1224@daum.com 입니다. 또한 radajin1224@gmail.com 역시 마찬가지 입니다.\" \n",
    "p = \"[0-9a-zA-Z]+@[0-9a-z]+\\.[0-9a-z]+\"\n",
    "result = True if re.search(p, s) else False\n",
    "print(result, re.findall(p, s))\n",
    "\n",
    "s = \"저의 이메일 주소는 pdj1224daum.com 입니다. 또한 radajin1224@gmailcom 역시 마찬가지 입니다.\" \n",
    "p = \"[0-9a-zA-Z]+@[0-9a-z]+\\.[0-9a-z]+\"\n",
    "result = True if re.search(p, s) else False\n",
    "print(result, re.findall(p, s))"
   ]
  },
  {
   "cell_type": "code",
   "execution_count": 26,
   "metadata": {},
   "outputs": [
    {
     "data": {
      "text/plain": [
       "'저의 전화번호는 010-1111-2222이고 주민등록번호는 871211-******** 입니다'"
      ]
     },
     "execution_count": 26,
     "metadata": {},
     "output_type": "execute_result"
    }
   ],
   "source": [
    "# 주민등록번호 : group으로 나눠서 변경하기\n",
    "s = \"저의 전화번호는 010-1111-2222이고 주민등록번호는 871211-4029348 입니다\"\n",
    "p = \"([0-9]{6})-([0-9]{7})\"\n",
    "re.sub(p, \"\\g<1>-********\", s) # \\g<1> : 그룹핑 첫번째 데이터 사용"
   ]
  },
  {
   "cell_type": "code",
   "execution_count": 25,
   "metadata": {},
   "outputs": [
    {
     "name": "stdout",
     "output_type": "stream",
     "text": [
      "['영일공-48구삼삼7이사', '010사팔구삼삼구삼일']\n"
     ]
    }
   ],
   "source": [
    "# 전화번호 추출해서 바꾸기\n",
    "s = \"안녕하세요. 저의 전화번호는 영일공-48구삼삼7이사 입니다. 또한 010사팔구삼삼구삼일 입니다.\""
   ]
  },
  {
   "cell_type": "code",
   "execution_count": 33,
   "metadata": {},
   "outputs": [],
   "source": [
    "def change_phone_str(s):\n",
    "    # 문자열 패턴\n",
    "    p = '[0-9영공일이둘삼사오육칠팔구빵]{3}[-]?[0-9영공일이둘삼사오육칠팔구빵]{3,4}[-]?[0-9영공일이둘삼사오육칠팔구빵]{4}'\n",
    "    \n",
    "    # 찾아 놓은 패턴 number에 저장\n",
    "    numbers = re.findall(p,s)\n",
    "    \n",
    "    # 패턴에 맞는 데이터 문자로된 숫자 숫자로 바꾸기\n",
    "    result = []\n",
    "    preprocess_dict = {\n",
    "            \"공\": 0,\n",
    "            \"영\": 0,\n",
    "            \"일\": 1,\n",
    "            \"둘\": 2,\n",
    "            \"이\": 2,\n",
    "            \"삼\": 3,\n",
    "            \"사\": 4,\n",
    "            \"오\": 5,\n",
    "            \"육\": 6,\n",
    "            \"칠\": 7,\n",
    "            \"팔\": 8,\n",
    "            \"구\": 9,\n",
    "            \"-\": \"\",\n",
    "    }\n",
    "    \n",
    "    for number in numbers:\n",
    "        mod_numbers = number\n",
    "        for key, value in preprocess_dict.items():\n",
    "            mod_numbers = mod_numbers.replace(key, str(value))\n",
    "        result.append(mod_numbers) \n",
    "    \n",
    "    # 결과값을 replace 하기\n",
    "    result_str = s\n",
    "    for idx, number in enumerate(numbers):\n",
    "        result_str = result_str.replace(number, result[idx])\n",
    "    return result_str"
   ]
  },
  {
   "cell_type": "code",
   "execution_count": 34,
   "metadata": {},
   "outputs": [
    {
     "data": {
      "text/plain": [
       "('안녕하세요. 저의 전화번호는 영일공-48구삼삼7이사 입니다. 또한 010사팔구삼삼구삼일 입니다.',\n",
       " '안녕하세요. 저의 전화번호는 01048933724 입니다. 또한 01048933931 입니다.')"
      ]
     },
     "execution_count": 34,
     "metadata": {},
     "output_type": "execute_result"
    }
   ],
   "source": [
    "s, change_phone_str(s)"
   ]
  },
  {
   "cell_type": "markdown",
   "metadata": {},
   "source": [
    "TEST\n",
    "- https://pythex.org/"
   ]
  },
  {
   "cell_type": "code",
   "execution_count": null,
   "metadata": {},
   "outputs": [],
   "source": []
  }
 ],
 "metadata": {
  "kernelspec": {
   "display_name": "Python 3",
   "language": "python",
   "name": "python3"
  },
  "language_info": {
   "codemirror_mode": {
    "name": "ipython",
    "version": 3
   },
   "file_extension": ".py",
   "mimetype": "text/x-python",
   "name": "python",
   "nbconvert_exporter": "python",
   "pygments_lexer": "ipython3",
   "version": "3.6.2"
  }
 },
 "nbformat": 4,
 "nbformat_minor": 2
}
