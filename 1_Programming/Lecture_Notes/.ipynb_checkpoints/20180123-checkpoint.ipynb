{
 "cells": [
  {
   "cell_type": "markdown",
   "metadata": {},
   "source": [
    "# numpy"
   ]
  },
  {
   "cell_type": "markdown",
   "metadata": {},
   "source": [
    "### Make\n",
    "- array\n",
    "- reshape\n",
    "- index\n",
    "- zeros\n",
    "- ones\n",
    "- eye\n",
    "- like\n",
    "- empty\n",
    "- arange\n",
    "- linespace, logspace\n",
    "- rand, randn\n",
    "- stack (수직으로 수평으로 합칠 때)\n",
    "- concatenate (데이터를 합칠 때)\n",
    "- split (데이터를 나누고)\n",
    "- sort (데이터를 정렬할 때)"
   ]
  },
  {
   "cell_type": "code",
   "execution_count": 1,
   "metadata": {},
   "outputs": [],
   "source": [
    "import numpy as np"
   ]
  },
  {
   "cell_type": "markdown",
   "metadata": {},
   "source": [
    "##### array\n",
    "- ndim : 행렬의 차원\n",
    "- shape : 행렬의 모양"
   ]
  },
  {
   "cell_type": "code",
   "execution_count": 3,
   "metadata": {},
   "outputs": [
    {
     "name": "stdout",
     "output_type": "stream",
     "text": [
      "<class 'numpy.ndarray'>\n",
      "[0 1 2 3 4 5]\n"
     ]
    }
   ],
   "source": [
    "# 1차원 배열 (vector)\n",
    "array = np.array([0,1,2,3,4,5])\n",
    "print(type(array))\n",
    "print(array)\n",
    "\n",
    "\n",
    "# 리스트가 아니라 comma가 없다"
   ]
  },
  {
   "cell_type": "code",
   "execution_count": 4,
   "metadata": {},
   "outputs": [
    {
     "name": "stdout",
     "output_type": "stream",
     "text": [
      "[[0]\n",
      " [1]\n",
      " [2]]\n"
     ]
    }
   ],
   "source": [
    "# 2차원 배열 (1*3 matrix)\n",
    "array = np.array([[0],[1],[2]]) \n",
    "print(array)"
   ]
  },
  {
   "cell_type": "code",
   "execution_count": 5,
   "metadata": {},
   "outputs": [
    {
     "name": "stdout",
     "output_type": "stream",
     "text": [
      "[[0 1 2]\n",
      " [3 4 5]]\n"
     ]
    }
   ],
   "source": [
    "# 2차원 배열 (3*2 matrix)\n",
    "array = np.array([\n",
    "    [0,1,2],\n",
    "    [3,4,5]\n",
    "]) \n",
    "print(array)"
   ]
  },
  {
   "cell_type": "code",
   "execution_count": 6,
   "metadata": {},
   "outputs": [
    {
     "name": "stdout",
     "output_type": "stream",
     "text": [
      "[[[  0   1   2   3]\n",
      "  [  4   5   6   7]\n",
      "  [  8   9  10  11]]\n",
      "\n",
      " [[  0   1   2   3]\n",
      "  [  4   5 100   7]\n",
      "  [  8   9  10  11]]]\n",
      "3 (2, 3, 4)\n"
     ]
    }
   ],
   "source": [
    "# 3차원 배열 (2*3*4 matrix)\n",
    "array = np.array([\n",
    "    [[0,1,2,3],\n",
    "     [4,5,6,7],\n",
    "     [8,9,10,11]],\n",
    "    [[0,1,2,3],\n",
    "     [4,5,100,7],\n",
    "     [8,9,10,11]]\n",
    "]) \n",
    "print(array)\n",
    "print(array.ndim, array.shape) \n",
    "# 바깥에서 안으로 모양을 나타낸다고 생각하면 편함\n",
    "\n",
    "\n",
    "# ndim = number of dimension\n",
    "# shape = n x m 행렬인지 알려줌"
   ]
  },
  {
   "cell_type": "markdown",
   "metadata": {},
   "source": [
    "##### reshape\n",
    "- 행렬의 모양을 바꿀수 있다."
   ]
  },
  {
   "cell_type": "code",
   "execution_count": 9,
   "metadata": {},
   "outputs": [
    {
     "data": {
      "text/plain": [
       "array([1, 2, 3, 4, 5, 6, 7, 8])"
      ]
     },
     "execution_count": 9,
     "metadata": {},
     "output_type": "execute_result"
    }
   ],
   "source": [
    "na = np.array([1,2,3,4,5,6,7,8])\n",
    "na"
   ]
  },
  {
   "cell_type": "code",
   "execution_count": 10,
   "metadata": {},
   "outputs": [
    {
     "data": {
      "text/plain": [
       "array([[1, 2, 3, 4],\n",
       "       [5, 6, 7, 8]])"
      ]
     },
     "execution_count": 10,
     "metadata": {},
     "output_type": "execute_result"
    }
   ],
   "source": [
    "na.reshape(2,4)"
   ]
  },
  {
   "cell_type": "code",
   "execution_count": 11,
   "metadata": {},
   "outputs": [
    {
     "data": {
      "text/plain": [
       "array([[1, 2],\n",
       "       [3, 4],\n",
       "       [5, 6],\n",
       "       [7, 8]])"
      ]
     },
     "execution_count": 11,
     "metadata": {},
     "output_type": "execute_result"
    }
   ],
   "source": [
    "rna = np.reshape(na,(4,2))\n",
    "rna"
   ]
  },
  {
   "cell_type": "code",
   "execution_count": 12,
   "metadata": {},
   "outputs": [
    {
     "data": {
      "text/plain": [
       "array([[1, 3, 5, 7],\n",
       "       [2, 4, 6, 8]])"
      ]
     },
     "execution_count": 12,
     "metadata": {},
     "output_type": "execute_result"
    }
   ],
   "source": [
    "# 전치행렬\n",
    "rna.T"
   ]
  },
  {
   "cell_type": "markdown",
   "metadata": {},
   "source": [
    "##### index\n",
    "- 행렬의 특정 위치 데이터 값 가져오기\n",
    "- 행렬 자르기"
   ]
  },
  {
   "cell_type": "code",
   "execution_count": 14,
   "metadata": {},
   "outputs": [
    {
     "data": {
      "text/plain": [
       "array([[[  0,   1,   2,   3],\n",
       "        [  4,   5,   6,   7],\n",
       "        [  8,   9,  10,  11]],\n",
       "\n",
       "       [[  0,   1,   2,   3],\n",
       "        [  4,   5, 100,   7],\n",
       "        [  8,   9,  10,  11]]])"
      ]
     },
     "execution_count": 14,
     "metadata": {},
     "output_type": "execute_result"
    }
   ],
   "source": [
    "array"
   ]
  },
  {
   "cell_type": "code",
   "execution_count": 15,
   "metadata": {},
   "outputs": [
    {
     "name": "stdout",
     "output_type": "stream",
     "text": [
      "100\n",
      "100\n"
     ]
    }
   ],
   "source": [
    "print(array[1][1][2])  #2개 중 2번 째, 3개 중 2번 째, 4개 중 3번 째\n",
    "print(array[1,1,2])"
   ]
  },
  {
   "cell_type": "code",
   "execution_count": 16,
   "metadata": {},
   "outputs": [
    {
     "name": "stdout",
     "output_type": "stream",
     "text": [
      "[[[100   7]\n",
      "  [ 10  11]]]\n",
      "3 (1, 2, 2)\n"
     ]
    }
   ],
   "source": [
    "result = array[1:,1:,2:]\n",
    "print(result)\n",
    "print(result.ndim, result.shape)"
   ]
  },
  {
   "cell_type": "code",
   "execution_count": 21,
   "metadata": {},
   "outputs": [
    {
     "name": "stdout",
     "output_type": "stream",
     "text": [
      "10\n",
      "10\n"
     ]
    }
   ],
   "source": [
    "result = array[1][2][2]\n",
    "result1 = array[1, 2, 2]\n",
    "print(result)\n",
    "print(result1)"
   ]
  },
  {
   "cell_type": "code",
   "execution_count": 23,
   "metadata": {},
   "outputs": [
    {
     "data": {
      "text/plain": [
       "array([[[100,   7],\n",
       "        [ 10,  11]]])"
      ]
     },
     "execution_count": 23,
     "metadata": {},
     "output_type": "execute_result"
    }
   ],
   "source": [
    "result = array[1:, 1:, 2:]\n",
    "result"
   ]
  },
  {
   "cell_type": "markdown",
   "metadata": {},
   "source": [
    "##### zeros\n",
    "- 행렬을 만들고 안에 0으로 채워 넣는다."
   ]
  },
  {
   "cell_type": "code",
   "execution_count": 25,
   "metadata": {},
   "outputs": [
    {
     "name": "stdout",
     "output_type": "stream",
     "text": [
      "[ 0.  0.  0.  0.  0.]\n",
      "1 (5,)\n"
     ]
    }
   ],
   "source": [
    "# 1차원\n",
    "z = np.zeros(5)\n",
    "print(z)\n",
    "print(z.ndim, z.shape)"
   ]
  },
  {
   "cell_type": "code",
   "execution_count": 26,
   "metadata": {},
   "outputs": [
    {
     "name": "stdout",
     "output_type": "stream",
     "text": [
      "[[ 0.  0.  0.]\n",
      " [ 0.  0.  0.]]\n",
      "2 (2, 3)\n"
     ]
    }
   ],
   "source": [
    "# 2차원 (2*3)\n",
    "z = np.zeros((2,3))\n",
    "print(z)\n",
    "print(z.ndim, z.shape)"
   ]
  },
  {
   "cell_type": "code",
   "execution_count": 27,
   "metadata": {},
   "outputs": [
    {
     "name": "stdout",
     "output_type": "stream",
     "text": [
      "[[[ 0.  0.  0.  0.]\n",
      "  [ 0.  0.  0.  0.]\n",
      "  [ 0.  0.  0.  0.]]\n",
      "\n",
      " [[ 0.  0.  0.  0.]\n",
      "  [ 0.  0.  0.  0.]\n",
      "  [ 0.  0.  0.  0.]]]\n",
      "3 (2, 3, 4)\n"
     ]
    }
   ],
   "source": [
    "# 3차원 (2*3*4)\n",
    "z = np.zeros([2,3,4])\n",
    "print(z)\n",
    "print(z.ndim, z.shape)"
   ]
  },
  {
   "cell_type": "markdown",
   "metadata": {},
   "source": [
    "##### ones\n",
    "- 행렬을 만들고 안에 1을 채워 넣는다."
   ]
  },
  {
   "cell_type": "code",
   "execution_count": 28,
   "metadata": {},
   "outputs": [
    {
     "name": "stdout",
     "output_type": "stream",
     "text": [
      "[[[ 1.  1.  1.  1.]\n",
      "  [ 1.  1.  1.  1.]\n",
      "  [ 1.  1.  1.  1.]]\n",
      "\n",
      " [[ 1.  1.  1.  1.]\n",
      "  [ 1.  1.  1.  1.]\n",
      "  [ 1.  1.  1.  1.]]]\n",
      "3 (2, 3, 4)\n"
     ]
    }
   ],
   "source": [
    "# 3차원 (2*3*4)\n",
    "o = np.ones([2,3,4])\n",
    "print(o)\n",
    "print(o.ndim, o.shape)"
   ]
  },
  {
   "cell_type": "markdown",
   "metadata": {},
   "source": [
    "##### eye\n",
    "- 단위 행렬 데이터를 만든다."
   ]
  },
  {
   "cell_type": "code",
   "execution_count": 29,
   "metadata": {},
   "outputs": [
    {
     "data": {
      "text/plain": [
       "array([[ 1.,  0.,  0.],\n",
       "       [ 0.,  1.,  0.],\n",
       "       [ 0.,  0.,  1.]])"
      ]
     },
     "execution_count": 29,
     "metadata": {},
     "output_type": "execute_result"
    }
   ],
   "source": [
    "# 단위행렬\n",
    "np.eye(3)"
   ]
  },
  {
   "cell_type": "markdown",
   "metadata": {},
   "source": [
    "##### like\n",
    "- 행렬 안에 있는 모든 데이터를 0이나 1로 바꿀수 있다."
   ]
  },
  {
   "cell_type": "code",
   "execution_count": 31,
   "metadata": {},
   "outputs": [
    {
     "data": {
      "text/plain": [
       "array([[[ 0.,  0.,  0.,  0.],\n",
       "        [ 0.,  0.,  0.,  0.],\n",
       "        [ 0.,  0.,  0.,  0.]],\n",
       "\n",
       "       [[ 0.,  0.,  0.,  0.],\n",
       "        [ 0.,  0.,  0.,  0.],\n",
       "        [ 0.,  0.,  0.,  0.]]])"
      ]
     },
     "execution_count": 31,
     "metadata": {},
     "output_type": "execute_result"
    }
   ],
   "source": [
    "z"
   ]
  },
  {
   "cell_type": "code",
   "execution_count": 32,
   "metadata": {},
   "outputs": [
    {
     "name": "stdout",
     "output_type": "stream",
     "text": [
      "[[[ 1.  1.  1.  1.]\n",
      "  [ 1.  1.  1.  1.]\n",
      "  [ 1.  1.  1.  1.]]\n",
      "\n",
      " [[ 1.  1.  1.  1.]\n",
      "  [ 1.  1.  1.  1.]\n",
      "  [ 1.  1.  1.  1.]]]\n",
      "3 (2, 3, 4)\n"
     ]
    }
   ],
   "source": [
    "ls = np.ones_like(z)\n",
    "print(ls)\n",
    "print(ls.ndim, ls.shape)"
   ]
  },
  {
   "cell_type": "code",
   "execution_count": 33,
   "metadata": {},
   "outputs": [
    {
     "data": {
      "text/plain": [
       "array([[[ 1.,  1.,  1.,  1.],\n",
       "        [ 1.,  1.,  1.,  1.],\n",
       "        [ 1.,  1.,  1.,  1.]],\n",
       "\n",
       "       [[ 1.,  1.,  1.,  1.],\n",
       "        [ 1.,  1.,  1.,  1.],\n",
       "        [ 1.,  1.,  1.,  1.]]])"
      ]
     },
     "execution_count": 33,
     "metadata": {},
     "output_type": "execute_result"
    }
   ],
   "source": [
    "o"
   ]
  },
  {
   "cell_type": "code",
   "execution_count": 34,
   "metadata": {},
   "outputs": [
    {
     "name": "stdout",
     "output_type": "stream",
     "text": [
      "[[[ 0.  0.  0.  0.]\n",
      "  [ 0.  0.  0.  0.]\n",
      "  [ 0.  0.  0.  0.]]\n",
      "\n",
      " [[ 0.  0.  0.  0.]\n",
      "  [ 0.  0.  0.  0.]\n",
      "  [ 0.  0.  0.  0.]]]\n",
      "3 (2, 3, 4)\n"
     ]
    }
   ],
   "source": [
    "ls = np.zeros_like(o)\n",
    "print(ls)\n",
    "print(ls.ndim, ls.shape)"
   ]
  },
  {
   "cell_type": "markdown",
   "metadata": {},
   "source": [
    "##### empty\n",
    "- 빈행렬을 만든다.\n",
    "- 실제로는 빈데이터가 아니라 더미 데이터가 들어간다"
   ]
  },
  {
   "cell_type": "code",
   "execution_count": 35,
   "metadata": {},
   "outputs": [
    {
     "name": "stdout",
     "output_type": "stream",
     "text": [
      "[[  0.00000000e+000   0.00000000e+000   2.14321575e-312   1.03163179e-071\n",
      "    4.09537141e+126]\n",
      " [  2.08600890e-308   0.00000000e+000   0.00000000e+000   4.94065646e-323\n",
      "    0.00000000e+000]\n",
      " [  2.12199579e-314   1.16095484e-028   1.71352438e+214   1.17149199e+214\n",
      "    1.67793285e+243]\n",
      " [  1.67793307e+243   8.03704417e-095   9.03292329e+271   9.08366793e+223\n",
      "    7.98460089e+159]\n",
      " [  8.09291803e+175   5.56218858e+180   2.97912157e+228   9.44872517e-143\n",
      "    6.81191604e-310]]\n"
     ]
    }
   ],
   "source": [
    "a = np.empty((5,5))\n",
    "print(a)"
   ]
  },
  {
   "cell_type": "markdown",
   "metadata": {},
   "source": [
    "##### arange\n",
    "- range와 같다.\n",
    "- 하지만 큰데이터에서 range 보다 속도가 빠르다"
   ]
  },
  {
   "cell_type": "code",
   "execution_count": 38,
   "metadata": {},
   "outputs": [
    {
     "name": "stdout",
     "output_type": "stream",
     "text": [
      "335 ms ± 9.52 ms per loop (mean ± std. dev. of 7 runs, 1 loop each)\n",
      "223 ms ± 4.47 ms per loop (mean ± std. dev. of 7 runs, 1 loop each)\n"
     ]
    }
   ],
   "source": [
    "# range와 arange의 속도 비교\n",
    "size = int(1E6) # E : exponential\n",
    "%timeit for x in range(size): x ** 2\n",
    "%timeit for x in np.arange(size): x ** 2"
   ]
  },
  {
   "cell_type": "code",
   "execution_count": 39,
   "metadata": {},
   "outputs": [
    {
     "data": {
      "text/plain": [
       "array([0, 1, 2, 3, 4, 5, 6, 7, 8, 9])"
      ]
     },
     "execution_count": 39,
     "metadata": {},
     "output_type": "execute_result"
    }
   ],
   "source": [
    "np.arange(10)"
   ]
  },
  {
   "cell_type": "code",
   "execution_count": 40,
   "metadata": {},
   "outputs": [
    {
     "data": {
      "text/plain": [
       "array([5, 6, 7, 8, 9])"
      ]
     },
     "execution_count": 40,
     "metadata": {},
     "output_type": "execute_result"
    }
   ],
   "source": [
    "np.arange(5,10)"
   ]
  },
  {
   "cell_type": "code",
   "execution_count": 41,
   "metadata": {},
   "outputs": [
    {
     "data": {
      "text/plain": [
       "array([2, 5, 8])"
      ]
     },
     "execution_count": 41,
     "metadata": {},
     "output_type": "execute_result"
    }
   ],
   "source": [
    "np.arange(2,10,3)"
   ]
  },
  {
   "cell_type": "code",
   "execution_count": 42,
   "metadata": {},
   "outputs": [
    {
     "data": {
      "text/plain": [
       "array([10,  8,  6,  4,  2])"
      ]
     },
     "execution_count": 42,
     "metadata": {},
     "output_type": "execute_result"
    }
   ],
   "source": [
    "np.arange(10,1,-2)"
   ]
  },
  {
   "cell_type": "markdown",
   "metadata": {},
   "source": [
    "##### linspace, logspace"
   ]
  },
  {
   "cell_type": "code",
   "execution_count": 43,
   "metadata": {},
   "outputs": [
    {
     "data": {
      "text/plain": [
       "array([   0.,   25.,   50.,   75.,  100.])"
      ]
     },
     "execution_count": 43,
     "metadata": {},
     "output_type": "execute_result"
    }
   ],
   "source": [
    "np.linspace(0, 100, 5)"
   ]
  },
  {
   "cell_type": "code",
   "execution_count": 44,
   "metadata": {},
   "outputs": [
    {
     "name": "stdout",
     "output_type": "stream",
     "text": [
      "[   100.   1000.  10000.]\n",
      "[  100.           316.22776602  1000.        ]\n"
     ]
    }
   ],
   "source": [
    "# log10(x)=2, log10(x)=2.5, log10(x)=3\n",
    "# 10**2, 10**2.5, 10**3\n",
    "print(np.logspace(2, 4, 3))\n",
    "print(np.logspace(2, 3, 3))"
   ]
  },
  {
   "cell_type": "code",
   "execution_count": 45,
   "metadata": {},
   "outputs": [
    {
     "data": {
      "text/plain": [
       "(100, 316.22776601683796, 1000)"
      ]
     },
     "execution_count": 45,
     "metadata": {},
     "output_type": "execute_result"
    }
   ],
   "source": [
    "10**2, 10**2.5, 10**3"
   ]
  },
  {
   "cell_type": "markdown",
   "metadata": {},
   "source": [
    "##### random\n",
    "- seed 값을 기준으로 난수 출력 (바꾸고 싶으면 시드값을 바꿔본다)\n",
    "- rand (uniform)\n",
    "- randn (gaussian)\n",
    "- randint\n",
    "- shuffle\n",
    "- choice"
   ]
  },
  {
   "cell_type": "code",
   "execution_count": 46,
   "metadata": {},
   "outputs": [
    {
     "name": "stdout",
     "output_type": "stream",
     "text": [
      "[ 0.5488135   0.71518937  0.60276338  0.54488318  0.4236548   0.64589411\n",
      "  0.43758721  0.891773    0.96366276  0.38344152]\n",
      "[ 0.14404357  1.45427351  0.76103773  0.12167502  0.44386323  0.33367433\n",
      "  1.49407907 -0.20515826  0.3130677  -0.85409574]\n"
     ]
    }
   ],
   "source": [
    "np.random.seed(0)\n",
    "rd = np.random.rand(10)   # uniform 으로 난수 발생  (균등분포) - 균등하게 출력\n",
    "rdn = np.random.randn(10) # gaussian 으로 난수 발생 (정규분포 - 0에 가까운수가 많이 나옴)\n",
    "print(rd)\n",
    "print(rdn)"
   ]
  },
  {
   "cell_type": "code",
   "execution_count": 47,
   "metadata": {},
   "outputs": [
    {
     "name": "stdout",
     "output_type": "stream",
     "text": [
      "[  4.17022005e-01   7.20324493e-01   1.14374817e-04   3.02332573e-01]\n",
      "[-0.52817175 -1.07296862  0.86540763 -2.3015387 ]\n"
     ]
    }
   ],
   "source": [
    "# e-01 -> (10**-1)\n",
    "np.random.seed(1)\n",
    "rd = np.random.rand(4)\n",
    "rdn = np.random.randn(4)\n",
    "print(rd)\n",
    "print(rdn)"
   ]
  },
  {
   "cell_type": "code",
   "execution_count": 48,
   "metadata": {},
   "outputs": [
    {
     "name": "stdout",
     "output_type": "stream",
     "text": [
      "[[[ 0.41919451  0.6852195   0.20445225  0.87811744]\n",
      "  [ 0.02738759  0.67046751  0.4173048   0.55868983]\n",
      "  [ 0.14038694  0.19810149  0.80074457  0.96826158]]\n",
      "\n",
      " [[ 0.31342418  0.69232262  0.87638915  0.89460666]\n",
      "  [ 0.08504421  0.03905478  0.16983042  0.8781425 ]\n",
      "  [ 0.09834683  0.42110763  0.95788953  0.53316528]]]\n"
     ]
    }
   ],
   "source": [
    "r = np.random.rand(2,3,4)\n",
    "print(r)"
   ]
  },
  {
   "cell_type": "code",
   "execution_count": 49,
   "metadata": {},
   "outputs": [
    {
     "name": "stdout",
     "output_type": "stream",
     "text": [
      "[[4 8 1]\n",
      " [4 0 3]\n",
      " [9 2 0]]\n"
     ]
    }
   ],
   "source": [
    "r = np.random.randint(0,10,(3,3)) #int 형태, 균등분포\n",
    "print(r)"
   ]
  },
  {
   "cell_type": "code",
   "execution_count": 50,
   "metadata": {},
   "outputs": [
    {
     "data": {
      "text/plain": [
       "array([[4, 9, 2, 7],\n",
       "       [7, 9, 8, 6],\n",
       "       [9, 3, 7, 7]])"
      ]
     },
     "execution_count": 50,
     "metadata": {},
     "output_type": "execute_result"
    }
   ],
   "source": [
    "r = np.random.randint(10, size=(3,4))\n",
    "r"
   ]
  },
  {
   "cell_type": "code",
   "execution_count": 58,
   "metadata": {},
   "outputs": [
    {
     "data": {
      "text/plain": [
       "array([[13,  6,  6],\n",
       "       [ 2, 12, 11],\n",
       "       [ 7, 13,  8]])"
      ]
     },
     "execution_count": 58,
     "metadata": {},
     "output_type": "execute_result"
    }
   ],
   "source": [
    "r = np.random.randint(0, 20, size=(3,3))\n",
    "r"
   ]
  },
  {
   "cell_type": "code",
   "execution_count": 51,
   "metadata": {},
   "outputs": [
    {
     "data": {
      "text/plain": [
       "array([[9, 3, 7, 7],\n",
       "       [4, 9, 2, 7],\n",
       "       [7, 9, 8, 6]])"
      ]
     },
     "execution_count": 51,
     "metadata": {},
     "output_type": "execute_result"
    }
   ],
   "source": [
    "# shuffle로 데이터의 순서를 바꿀수 있다.\n",
    "np.random.shuffle(r)\n",
    "r\n",
    "\n",
    "# 맨 바깥 차원만 셔플이 된다\n",
    "# or, 일렬로 세운 뒤 셔플을 하면 모든 셔플이 가능"
   ]
  },
  {
   "cell_type": "code",
   "execution_count": 52,
   "metadata": {},
   "outputs": [
    {
     "data": {
      "text/plain": [
       "array([3, 0, 3, 3, 2, 3, 3, 3, 3, 2])"
      ]
     },
     "execution_count": 52,
     "metadata": {},
     "output_type": "execute_result"
    }
   ],
   "source": [
    "# p의 확률로 range(5)를 10개 추출\n",
    "np.random.choice(5, 10, p=[0.1, 0, 0.3, 0.6, 0])"
   ]
  },
  {
   "cell_type": "code",
   "execution_count": 61,
   "metadata": {},
   "outputs": [
    {
     "name": "stdout",
     "output_type": "stream",
     "text": [
      "[ 2  6  7  8 11 12 13]\n",
      "[1 2 1 1 1 1 2]\n"
     ]
    }
   ],
   "source": [
    "# unique로 데이터의 유일한 값에 대한 리스트와 값의 갯수를 구할수 있다\n",
    "index, count = np.unique(r, return_counts=True)\n",
    "print(index)\n",
    "print(count)"
   ]
  },
  {
   "cell_type": "markdown",
   "metadata": {},
   "source": [
    "##### stack\n",
    "- 행렬을 쌓는것과 같이 합치는 방법"
   ]
  },
  {
   "cell_type": "code",
   "execution_count": 62,
   "metadata": {},
   "outputs": [
    {
     "name": "stdout",
     "output_type": "stream",
     "text": [
      "[0 1 2 3 4 5] (6,)\n",
      "[ 6  7  8  9 10 11] (6,)\n"
     ]
    }
   ],
   "source": [
    "na1 = np.arange(6)\n",
    "na2 = np.arange(6,12)\n",
    "print(na1, na1.shape)\n",
    "print(na2, na2.shape)"
   ]
  },
  {
   "cell_type": "code",
   "execution_count": 63,
   "metadata": {},
   "outputs": [
    {
     "name": "stdout",
     "output_type": "stream",
     "text": [
      "[[ 0  1  2  3  4  5]\n",
      " [ 6  7  8  9 10 11]] (2, 6)\n"
     ]
    }
   ],
   "source": [
    "na3 = np.stack((na1, na2))\n",
    "print(na3, na3.shape)"
   ]
  },
  {
   "cell_type": "code",
   "execution_count": 66,
   "metadata": {},
   "outputs": [
    {
     "name": "stdout",
     "output_type": "stream",
     "text": [
      "[[ 0  1  2  3  4  5]\n",
      " [ 6  7  8  9 10 11]] (2, 6)\n"
     ]
    }
   ],
   "source": [
    "na3 = np.stack((na1, na2))   # axis 수평으로 쌓임 ; 기본 값\n",
    "print(na3, na3.shape)"
   ]
  },
  {
   "cell_type": "code",
   "execution_count": 67,
   "metadata": {},
   "outputs": [
    {
     "name": "stdout",
     "output_type": "stream",
     "text": [
      "[[ 0  6]\n",
      " [ 1  7]\n",
      " [ 2  8]\n",
      " [ 3  9]\n",
      " [ 4 10]\n",
      " [ 5 11]] (6, 2)\n"
     ]
    }
   ],
   "source": [
    "na3 = np.stack((na1, na2), axis=1)   # axis 수직\n",
    "print(na3, na3.shape)"
   ]
  },
  {
   "cell_type": "code",
   "execution_count": 68,
   "metadata": {},
   "outputs": [
    {
     "name": "stdout",
     "output_type": "stream",
     "text": [
      "range(0, 7) 0 3\n",
      "range(0, 3)\n",
      "[0, 1, 2]\n",
      "\n",
      "range(0, 7) 1 4\n",
      "range(1, 4)\n",
      "[1, 2, 3]\n",
      "\n",
      "range(0, 7) 2 5\n",
      "range(2, 5)\n",
      "[2, 3, 4]\n",
      "\n",
      "range(0, 7) 3 6\n",
      "range(3, 6)\n",
      "[3, 4, 5]\n",
      "\n",
      "range(0, 7) 4 7\n",
      "range(4, 7)\n",
      "[4, 5, 6]\n",
      "\n"
     ]
    },
    {
     "data": {
      "text/plain": [
       "[range(0, 3), range(1, 4), range(2, 5), range(3, 6), range(4, 7)]"
      ]
     },
     "execution_count": 68,
     "metadata": {},
     "output_type": "execute_result"
    }
   ],
   "source": [
    "# practice 1\n",
    "ls = []\n",
    "for i in range(5):\n",
    "    print(range(7), i, i+3)\n",
    "    print(range(7)[i:i+3])\n",
    "    print(list(range(7)[i:i+3]), end=\"\\n\\n\")\n",
    "    ls.append(range(7)[i:i+3])    \n",
    "ls"
   ]
  },
  {
   "cell_type": "code",
   "execution_count": 69,
   "metadata": {},
   "outputs": [
    {
     "data": {
      "text/plain": [
       "array([[0, 1, 2],\n",
       "       [1, 2, 3],\n",
       "       [2, 3, 4],\n",
       "       [3, 4, 5],\n",
       "       [4, 5, 6]])"
      ]
     },
     "execution_count": 69,
     "metadata": {},
     "output_type": "execute_result"
    }
   ],
   "source": [
    "# 수직으로 합치기\n",
    "np.vstack(ls)"
   ]
  },
  {
   "cell_type": "code",
   "execution_count": 70,
   "metadata": {},
   "outputs": [
    {
     "data": {
      "text/plain": [
       "array([0, 1, 2, 1, 2, 3, 2, 3, 4, 3, 4, 5, 4, 5, 6])"
      ]
     },
     "execution_count": 70,
     "metadata": {},
     "output_type": "execute_result"
    }
   ],
   "source": [
    "# 수평으로 합치기. 하지만 리스트가 된다\n",
    "np.hstack(ls)  #horizontal"
   ]
  },
  {
   "cell_type": "code",
   "execution_count": 73,
   "metadata": {},
   "outputs": [
    {
     "name": "stdout",
     "output_type": "stream",
     "text": [
      "[[0, 1, 2], [1, 2, 3], [2, 3, 4], [3, 4, 5], [4, 5, 6]]\n"
     ]
    },
    {
     "data": {
      "text/plain": [
       "array([[0, 1, 2, 3, 4],\n",
       "       [1, 2, 3, 4, 5],\n",
       "       [2, 3, 4, 5, 6]])"
      ]
     },
     "execution_count": 73,
     "metadata": {},
     "output_type": "execute_result"
    }
   ],
   "source": [
    "# 수평으로 합치기\n",
    "data = [list(range(7)[i:i+3]) for i in range(5) ] \n",
    "print(data)\n",
    "np.stack(data, axis=1)\n",
    "# np.stack(data, axis=-1) axis는 1, -1 동일하다"
   ]
  },
  {
   "cell_type": "code",
   "execution_count": 75,
   "metadata": {},
   "outputs": [
    {
     "data": {
      "text/plain": [
       "array([0, 1, 2, 3, 4])"
      ]
     },
     "execution_count": 75,
     "metadata": {},
     "output_type": "execute_result"
    }
   ],
   "source": [
    "# practice 2\n",
    "np.arange(5)"
   ]
  },
  {
   "cell_type": "code",
   "execution_count": 76,
   "metadata": {},
   "outputs": [
    {
     "data": {
      "text/plain": [
       "array([[0],\n",
       "       [1],\n",
       "       [2],\n",
       "       [3],\n",
       "       [4]])"
      ]
     },
     "execution_count": 76,
     "metadata": {},
     "output_type": "execute_result"
    }
   ],
   "source": [
    "# practice 2\n",
    "np.arange(5)[:, np.newaxis]"
   ]
  },
  {
   "cell_type": "markdown",
   "metadata": {},
   "source": [
    "##### concatenate (결합)\n",
    "- 가로 결합은 열의 갯수가 같아야 한다.\n",
    "- 세로 결합은 행의 갯수가 같아야 한다."
   ]
  },
  {
   "cell_type": "code",
   "execution_count": 78,
   "metadata": {},
   "outputs": [
    {
     "name": "stdout",
     "output_type": "stream",
     "text": [
      "[[0 2 0]\n",
      " [7 1 7]] (2, 3)\n"
     ]
    }
   ],
   "source": [
    "r1 = np.random.randint(10, size=(2,3))\n",
    "print(r1, r1.shape)\n"
   ]
  },
  {
   "cell_type": "code",
   "execution_count": 79,
   "metadata": {},
   "outputs": [
    {
     "name": "stdout",
     "output_type": "stream",
     "text": [
      "[[9 8]\n",
      " [4 0]\n",
      " [1 9]] (3, 2)\n"
     ]
    }
   ],
   "source": [
    "r2 = np.random.randint(10, size=(3,2))\n",
    "print(r2, r2.shape)"
   ]
  },
  {
   "cell_type": "code",
   "execution_count": 81,
   "metadata": {},
   "outputs": [
    {
     "name": "stdout",
     "output_type": "stream",
     "text": [
      "[[9 2 6]\n",
      " [6 2 7]\n",
      " [7 0 6]] (3, 3)\n"
     ]
    }
   ],
   "source": [
    "r3 = np.random.randint(10, size=(3,3))\n",
    "print(r3, r3.shape)"
   ]
  },
  {
   "cell_type": "code",
   "execution_count": 82,
   "metadata": {},
   "outputs": [
    {
     "data": {
      "text/plain": [
       "array([[0, 2, 0],\n",
       "       [7, 1, 7],\n",
       "       [9, 2, 6],\n",
       "       [6, 2, 7],\n",
       "       [7, 0, 6]])"
      ]
     },
     "execution_count": 82,
     "metadata": {},
     "output_type": "execute_result"
    }
   ],
   "source": [
    "# 가로 결합\n",
    "np.concatenate([r1, r3], axis=0)  # axis = 0"
   ]
  },
  {
   "cell_type": "code",
   "execution_count": 83,
   "metadata": {},
   "outputs": [
    {
     "data": {
      "text/plain": [
       "array([[9, 8, 9, 2, 6],\n",
       "       [4, 0, 6, 2, 7],\n",
       "       [1, 9, 7, 0, 6]])"
      ]
     },
     "execution_count": 83,
     "metadata": {},
     "output_type": "execute_result"
    }
   ],
   "source": [
    "# 세로 결합\n",
    "np.concatenate([r2, r3], axis=1)   # axis = 1"
   ]
  },
  {
   "cell_type": "code",
   "execution_count": null,
   "metadata": {},
   "outputs": [],
   "source": []
  },
  {
   "cell_type": "code",
   "execution_count": 173,
   "metadata": {},
   "outputs": [
    {
     "data": {
      "text/plain": [
       "array([[1, 4],\n",
       "       [2, 5],\n",
       "       [3, 6]])"
      ]
     },
     "execution_count": 173,
     "metadata": {},
     "output_type": "execute_result"
    }
   ],
   "source": [
    "np.c_[np.array([1, 2, 3]), np.array([4, 5, 6])]  # stack과 비슷"
   ]
  },
  {
   "cell_type": "code",
   "execution_count": 174,
   "metadata": {},
   "outputs": [
    {
     "data": {
      "text/plain": [
       "array([1, 2, 3, 4, 5, 6])"
      ]
     },
     "execution_count": 174,
     "metadata": {},
     "output_type": "execute_result"
    }
   ],
   "source": [
    "np.r_[np.array([1, 2, 3]), np.array([4, 5, 6])]"
   ]
  },
  {
   "cell_type": "markdown",
   "metadata": {},
   "source": [
    "##### split"
   ]
  },
  {
   "cell_type": "code",
   "execution_count": 84,
   "metadata": {},
   "outputs": [
    {
     "data": {
      "text/plain": [
       "array([ 5,  6,  7,  8,  9, 10, 11, 12, 13, 14, 15, 16, 17, 18, 19])"
      ]
     },
     "execution_count": 84,
     "metadata": {},
     "output_type": "execute_result"
    }
   ],
   "source": [
    "r = np.arange(5,20)\n",
    "r"
   ]
  },
  {
   "cell_type": "code",
   "execution_count": 85,
   "metadata": {},
   "outputs": [
    {
     "data": {
      "text/plain": [
       "[array([5, 6, 7, 8, 9]), array([10, 11, 12, 13, 14, 15, 16, 17, 18, 19])]"
      ]
     },
     "execution_count": 85,
     "metadata": {},
     "output_type": "execute_result"
    }
   ],
   "source": [
    "r1 = np.split(r, [5]) # 앞에서 5번째를 기준으로 나눈다\n",
    "r1"
   ]
  },
  {
   "cell_type": "code",
   "execution_count": 86,
   "metadata": {},
   "outputs": [
    {
     "data": {
      "text/plain": [
       "(array([5, 6, 7, 8, 9]), array([10, 11, 12, 13, 14, 15, 16, 17, 18, 19]))"
      ]
     },
     "execution_count": 86,
     "metadata": {},
     "output_type": "execute_result"
    }
   ],
   "source": [
    "# r1에는 나눈 데이터의 첫번째 데이터가 \n",
    "# r2에는 나눈 데이터의 두번째 데이터가 들어간다\n",
    "r1, r2 = np.split(r, [5]) \n",
    "r1, r2"
   ]
  },
  {
   "cell_type": "code",
   "execution_count": 87,
   "metadata": {},
   "outputs": [
    {
     "data": {
      "text/plain": [
       "(array([5, 6]),\n",
       " array([7, 8]),\n",
       " array([ 9, 10]),\n",
       " array([11, 12]),\n",
       " array([13, 14, 15, 16, 17, 18, 19]))"
      ]
     },
     "execution_count": 87,
     "metadata": {},
     "output_type": "execute_result"
    }
   ],
   "source": [
    "r1, r2, r3, r4, r5 = np.split(r, [2,4,6,8]) # 2,4,6,8을 기준으로 나눠 5개의 array 데이터가 생성된다.\n",
    "r1, r2, r3, r4, r5"
   ]
  },
  {
   "cell_type": "markdown",
   "metadata": {},
   "source": [
    "##### vsplit/hsplit\n",
    "- 행렬을 수직, 수평으로 나눈다"
   ]
  },
  {
   "cell_type": "code",
   "execution_count": 178,
   "metadata": {},
   "outputs": [
    {
     "data": {
      "text/plain": [
       "array([[3, 8, 9, 7, 0, 5],\n",
       "       [2, 2, 8, 5, 0, 5],\n",
       "       [9, 8, 6, 6, 0, 4],\n",
       "       [7, 3, 0, 1, 6, 0]])"
      ]
     },
     "execution_count": 178,
     "metadata": {},
     "output_type": "execute_result"
    }
   ],
   "source": [
    "r = np.random.randint(10, size=(4,6))\n",
    "r"
   ]
  },
  {
   "cell_type": "code",
   "execution_count": 179,
   "metadata": {},
   "outputs": [
    {
     "name": "stdout",
     "output_type": "stream",
     "text": [
      "[[3 8 9 7 0 5]\n",
      " [2 2 8 5 0 5]]\n",
      "[[9 8 6 6 0 4]\n",
      " [7 3 0 1 6 0]]\n"
     ]
    }
   ],
   "source": [
    "# 수평으로 2개씩 자름\n",
    "r1, r2 = np.vsplit(r, [2])\n",
    "print(r1)\n",
    "print(r2)"
   ]
  },
  {
   "cell_type": "code",
   "execution_count": 182,
   "metadata": {},
   "outputs": [
    {
     "name": "stdout",
     "output_type": "stream",
     "text": [
      "[[3 8 9 7 0 5]]\n",
      "[[2 2 8 5 0 5]]\n",
      "[[9 8 6 6 0 4]\n",
      " [7 3 0 1 6 0]]\n"
     ]
    },
    {
     "data": {
      "text/plain": [
       "<function numpy.lib.shape_base.vsplit>"
      ]
     },
     "execution_count": 182,
     "metadata": {},
     "output_type": "execute_result"
    }
   ],
   "source": [
    "# variation\n",
    "r1, r2, r3= np.vsplit(r, [1, 2])  # 1 위치에서 한번 자르고, 2 위치에서 한번 자르고\n",
    "print(r1)\n",
    "print(r2)\n",
    "print(r3)\n",
    "\n",
    "np.vsplit"
   ]
  },
  {
   "cell_type": "code",
   "execution_count": 123,
   "metadata": {},
   "outputs": [
    {
     "name": "stdout",
     "output_type": "stream",
     "text": [
      "[[4 0 4]\n",
      " [1 6 6]\n",
      " [6 0 0]\n",
      " [0 6 7]]\n",
      "[[1 7 3]\n",
      " [9 6 9]\n",
      " [2 9 6]\n",
      " [0 3 9]]\n"
     ]
    }
   ],
   "source": [
    "# 수직으로 3개씩 자름\n",
    "r1, r2 = np.hsplit(r, [3])\n",
    "print(r1)\n",
    "print(r2)"
   ]
  },
  {
   "cell_type": "code",
   "execution_count": 184,
   "metadata": {},
   "outputs": [
    {
     "name": "stdout",
     "output_type": "stream",
     "text": [
      "[[3 8]\n",
      " [2 2]\n",
      " [9 8]\n",
      " [7 3]]\n",
      "[[9 7]\n",
      " [8 5]\n",
      " [6 6]\n",
      " [0 1]]\n",
      "[[0 5]\n",
      " [0 5]\n",
      " [0 4]\n",
      " [6 0]]\n"
     ]
    }
   ],
   "source": [
    "# 수직으로 2개씩 자름\n",
    "r1, r2, r3 = np.hsplit(r, [2, 4])\n",
    "print(r1)\n",
    "print(r2)\n",
    "print(r3)"
   ]
  },
  {
   "cell_type": "markdown",
   "metadata": {},
   "source": [
    "##### sort"
   ]
  },
  {
   "cell_type": "code",
   "execution_count": 93,
   "metadata": {},
   "outputs": [
    {
     "name": "stdout",
     "output_type": "stream",
     "text": [
      "[[4 6 8]\n",
      " [8 9 2]\n",
      " [7 5 5]]\n"
     ]
    }
   ],
   "source": [
    "r1 = np.random.randint(10, size=(3,3))\n",
    "print(r1)"
   ]
  },
  {
   "cell_type": "code",
   "execution_count": 94,
   "metadata": {},
   "outputs": [
    {
     "data": {
      "text/plain": [
       "array([[4, 6, 8],\n",
       "       [2, 8, 9],\n",
       "       [5, 5, 7]])"
      ]
     },
     "execution_count": 94,
     "metadata": {},
     "output_type": "execute_result"
    }
   ],
   "source": [
    "# 가로로 sorting\n",
    "r1.sort() # axis -1과 1은 같은 동작을 한다\n",
    "r1"
   ]
  },
  {
   "cell_type": "code",
   "execution_count": 95,
   "metadata": {},
   "outputs": [
    {
     "data": {
      "text/plain": [
       "array([[2, 5, 7],\n",
       "       [4, 6, 8],\n",
       "       [5, 8, 9]])"
      ]
     },
     "execution_count": 95,
     "metadata": {},
     "output_type": "execute_result"
    }
   ],
   "source": [
    "# 세로로 sorting\n",
    "r1.sort(axis=0) \n",
    "r1"
   ]
  },
  {
   "cell_type": "markdown",
   "metadata": {},
   "source": [
    "### 문제\n",
    "1~9까지의 숫자가 들어가는 3*3 행렬을 만드세요 <br>\n",
    "만든 행렬을 무작위로 섞으세요"
   ]
  },
  {
   "cell_type": "code",
   "execution_count": 118,
   "metadata": {},
   "outputs": [
    {
     "name": "stdout",
     "output_type": "stream",
     "text": [
      "[[8 6 2]\n",
      " [8 1 3]\n",
      " [9 3 2]]\n"
     ]
    },
    {
     "ename": "AttributeError",
     "evalue": "'NoneType' object has no attribute 'reshape'",
     "output_type": "error",
     "traceback": [
      "\u001b[0;31m---------------------------------------------------------------------------\u001b[0m",
      "\u001b[0;31mAttributeError\u001b[0m                            Traceback (most recent call last)",
      "\u001b[0;32m<ipython-input-118-98d9a479cb69>\u001b[0m in \u001b[0;36m<module>\u001b[0;34m()\u001b[0m\n\u001b[1;32m      3\u001b[0m \u001b[0mr2\u001b[0m \u001b[0;34m=\u001b[0m \u001b[0mr\u001b[0m\u001b[0;34m.\u001b[0m\u001b[0mreshape\u001b[0m\u001b[0;34m(\u001b[0m\u001b[0;36m1\u001b[0m\u001b[0;34m,\u001b[0m \u001b[0;36m9\u001b[0m\u001b[0;34m)\u001b[0m\u001b[0;34m\u001b[0m\u001b[0m\n\u001b[1;32m      4\u001b[0m \u001b[0mr3\u001b[0m \u001b[0;34m=\u001b[0m \u001b[0mnp\u001b[0m\u001b[0;34m.\u001b[0m\u001b[0mrandom\u001b[0m\u001b[0;34m.\u001b[0m\u001b[0mshuffle\u001b[0m\u001b[0;34m(\u001b[0m\u001b[0mr2\u001b[0m\u001b[0;34m)\u001b[0m\u001b[0;34m\u001b[0m\u001b[0m\n\u001b[0;32m----> 5\u001b[0;31m \u001b[0mr3\u001b[0m\u001b[0;34m.\u001b[0m\u001b[0mreshape\u001b[0m\u001b[0;34m(\u001b[0m\u001b[0;36m3\u001b[0m\u001b[0;34m,\u001b[0m \u001b[0;36m3\u001b[0m\u001b[0;34m)\u001b[0m\u001b[0;34m\u001b[0m\u001b[0m\n\u001b[0m",
      "\u001b[0;31mAttributeError\u001b[0m: 'NoneType' object has no attribute 'reshape'"
     ]
    }
   ],
   "source": [
    "r = np.random.randint(1,10, size=(3,3))\n",
    "print(r)\n",
    "r2 = r.reshape(1, 9)\n",
    "r3 = np.random.shuffle(r2)\n",
    "r3.reshape(3, 3)"
   ]
  },
  {
   "cell_type": "code",
   "execution_count": 117,
   "metadata": {},
   "outputs": [
    {
     "data": {
      "text/plain": [
       "array([[1, 4, 7],\n",
       "       [2, 5, 8],\n",
       "       [3, 6, 9]])"
      ]
     },
     "execution_count": 117,
     "metadata": {},
     "output_type": "execute_result"
    }
   ],
   "source": [
    "result = np.arange(1, 10)\n",
    "result1 = np.reshape(result, (3, 3))\n",
    "np.random.shuffle(result1)\n",
    "result1.T"
   ]
  },
  {
   "cell_type": "code",
   "execution_count": null,
   "metadata": {},
   "outputs": [],
   "source": [
    "np.reshape"
   ]
  },
  {
   "cell_type": "markdown",
   "metadata": {},
   "source": [
    "### Datatype\n",
    "- boolean : bool\n",
    "- integer : int64\n",
    "- float : float64\n",
    "- byte String : S24\n",
    "- unicode String : U24"
   ]
  },
  {
   "cell_type": "code",
   "execution_count": 131,
   "metadata": {},
   "outputs": [
    {
     "data": {
      "text/plain": [
       "dtype('bool')"
      ]
     },
     "execution_count": 131,
     "metadata": {},
     "output_type": "execute_result"
    }
   ],
   "source": [
    "na = np.array([True, False])\n",
    "na.dtype"
   ]
  },
  {
   "cell_type": "code",
   "execution_count": 132,
   "metadata": {},
   "outputs": [
    {
     "data": {
      "text/plain": [
       "dtype('int64')"
      ]
     },
     "execution_count": 132,
     "metadata": {},
     "output_type": "execute_result"
    }
   ],
   "source": [
    "na = np.array([1, 2, 3])\n",
    "na.dtype"
   ]
  },
  {
   "cell_type": "code",
   "execution_count": 133,
   "metadata": {},
   "outputs": [
    {
     "data": {
      "text/plain": [
       "dtype('float64')"
      ]
     },
     "execution_count": 133,
     "metadata": {},
     "output_type": "execute_result"
    }
   ],
   "source": [
    "na = np.array([1.0, 2.0, 3.0])\n",
    "na.dtype"
   ]
  },
  {
   "cell_type": "markdown",
   "metadata": {},
   "source": [
    "##### change datatype \n",
    "\n",
    "아래와 같이 형변환 가능"
   ]
  },
  {
   "cell_type": "code",
   "execution_count": 138,
   "metadata": {
    "scrolled": true
   },
   "outputs": [
    {
     "name": "stdout",
     "output_type": "stream",
     "text": [
      "[-1.   0.   1.   2.2  3.8]\n",
      "[-1  0  1  2  3]\n",
      "[ True False  True  True  True]\n",
      "[b'True' b'False' b'True' b'True' b'True']\n",
      "['True' 'False' 'True' 'True' 'True']\n"
     ]
    }
   ],
   "source": [
    "na = np.array([-1.0, 0.0, 1.0, 2.2, 3.8])\n",
    "print(na)\n",
    "\n",
    "na = na.astype('int64')\n",
    "print(na)\n",
    "\n",
    "na = na.astype('bool')\n",
    "print(na)\n",
    "\n",
    "na = na.astype('S24')\n",
    "print(na)\n",
    "\n",
    "na = na.astype('U24')\n",
    "print(na)"
   ]
  },
  {
   "cell_type": "code",
   "execution_count": 140,
   "metadata": {},
   "outputs": [
    {
     "name": "stdout",
     "output_type": "stream",
     "text": [
      "[[ 0.6931852   0.01271267  0.45954528  0.96131726  0.33418522]\n",
      " [ 0.47208342  0.10539125  0.50307591  0.88568986  0.53437734]\n",
      " [ 0.28147677  0.35458469  0.89628025  0.24148914  0.02388409]\n",
      " [ 0.9657268   0.4299679   0.34628852  0.57706763  0.12652616]\n",
      " [ 0.95004331  0.31361083  0.95283112  0.21839323  0.2487002 ]]\n",
      "[[ 9  5  7 10  7]\n",
      " [ 7  5  8 10  8]\n",
      " [ 6  7 10  6  5]\n",
      " [10  7  7  8  5]\n",
      " [10  6 10  6  6]]\n"
     ]
    }
   ],
   "source": [
    "# 5~10까지 랜덤한 숫자가 들어있는 5*5 행렬\n",
    "na = np.random.rand(5,5)\n",
    "print(na)\n",
    "\n",
    "# 이렇게도 계산 가능\n",
    "na = (na*6+5).astype('int64')\n",
    "print(na)\n",
    "\n",
    "# 소수는 버리게 된다"
   ]
  },
  {
   "cell_type": "markdown",
   "metadata": {},
   "source": [
    "### Calculate\n",
    "- basic calculate\n",
    "- broadcasting\n",
    "- functions\n",
    "- performance"
   ]
  },
  {
   "cell_type": "markdown",
   "metadata": {},
   "source": [
    "##### basic calculate"
   ]
  },
  {
   "cell_type": "code",
   "execution_count": 141,
   "metadata": {},
   "outputs": [
    {
     "name": "stdout",
     "output_type": "stream",
     "text": [
      "before : [1, 2, 3, 4, 5]\n",
      "after : [3, 6, 9, 12, 15]\n"
     ]
    }
   ],
   "source": [
    "# 전통적인 방법 ...\n",
    "# list ( ls *= 3 )\n",
    "ls = [1,2,3,4,5]\n",
    "print(\"before : {}\".format(ls))\n",
    "for idx in range(len(ls)):\n",
    "    ls[idx] = ls[idx] * 3\n",
    "print(\"after : {}\".format(ls))"
   ]
  },
  {
   "cell_type": "code",
   "execution_count": 142,
   "metadata": {},
   "outputs": [
    {
     "name": "stdout",
     "output_type": "stream",
     "text": [
      "<class 'numpy.ndarray'> [ 9 18 27 36 45]\n"
     ]
    }
   ],
   "source": [
    "# np.array ( na *= 3 )\n",
    "na = np.array(ls)\n",
    "na *= 3\n",
    "print(type(na), na)"
   ]
  },
  {
   "cell_type": "code",
   "execution_count": 143,
   "metadata": {},
   "outputs": [
    {
     "name": "stdout",
     "output_type": "stream",
     "text": [
      "[ 9 18 27 36 45]\n",
      "[ 6  7  8  9 10]\n",
      "[ 54 126 216 324 450]\n"
     ]
    }
   ],
   "source": [
    "na_2 = np.array([6,7,8,9,10])\n",
    "result = na * na_2\n",
    "print(\"{}\\n{}\\n{}\".format(na, na_2, result))"
   ]
  },
  {
   "cell_type": "code",
   "execution_count": 144,
   "metadata": {},
   "outputs": [
    {
     "data": {
      "text/plain": [
       "(array([ True, False, False, False, False], dtype=bool),\n",
       " array([False, False, False,  True,  True], dtype=bool))"
      ]
     },
     "execution_count": 144,
     "metadata": {},
     "output_type": "execute_result"
    }
   ],
   "source": [
    "# 9와 같으면 True, 30보다 크면 True\n",
    "na == 9, na > 30"
   ]
  },
  {
   "cell_type": "code",
   "execution_count": 145,
   "metadata": {},
   "outputs": [
    {
     "name": "stdout",
     "output_type": "stream",
     "text": [
      "[ True False False  True False]\n"
     ]
    }
   ],
   "source": [
    "# 3의 배수이면 True\n",
    "idx = na_2 % 3 == 0\n",
    "print(idx)"
   ]
  },
  {
   "cell_type": "code",
   "execution_count": 147,
   "metadata": {},
   "outputs": [
    {
     "name": "stdout",
     "output_type": "stream",
     "text": [
      "[ 6  7  8  9 10]\n",
      "[6 9]\n"
     ]
    }
   ],
   "source": [
    "# 3의 배수만 남기기 - Ture, False 리스트를 offset으로 넣어주면 True인 데이터만 남는다. \n",
    "# 필터링과 비슷\n",
    "print(na_2)\n",
    "print(na_2[idx])"
   ]
  },
  {
   "cell_type": "code",
   "execution_count": 148,
   "metadata": {},
   "outputs": [
    {
     "name": "stdout",
     "output_type": "stream",
     "text": [
      "[ True False  True  True False]\n",
      "[1 3 4]\n"
     ]
    }
   ],
   "source": [
    "# 리스트에서 같은 수 추출하기\n",
    "na1 = np.array([1,2,3,4,5])\n",
    "na2 = np.array([1,3,3,4,4])\n",
    "print(na1 == na2)\n",
    "print(na1[na1 == na2])"
   ]
  },
  {
   "cell_type": "code",
   "execution_count": 149,
   "metadata": {},
   "outputs": [
    {
     "name": "stdout",
     "output_type": "stream",
     "text": [
      "[ True False  True  True  True]\n",
      "[1 3 4 5]\n"
     ]
    }
   ],
   "source": [
    "# 리스트에서 비교연산으로 수 추출하기\n",
    "na1 = np.array([1,2,3,4,5])\n",
    "na2 = np.array([1,3,3,4,4])\n",
    "print(na1 >= na2)\n",
    "print(na1[na1 >= na2])"
   ]
  },
  {
   "cell_type": "code",
   "execution_count": 150,
   "metadata": {},
   "outputs": [
    {
     "name": "stdout",
     "output_type": "stream",
     "text": [
      "False\n",
      "True\n"
     ]
    }
   ],
   "source": [
    "# 전체 리스트 비교하기 (all)\n",
    "na1 = np.array([1,2,3,4,5])\n",
    "na2 = np.array([1,3,3,4,4])\n",
    "na3 = np.array([1,2,3,4,5])\n",
    "print(np.all(na1 == na2))\n",
    "print(np.all(na1 == na3))"
   ]
  },
  {
   "cell_type": "code",
   "execution_count": 152,
   "metadata": {},
   "outputs": [
    {
     "name": "stdout",
     "output_type": "stream",
     "text": [
      "array1 : [0 1 2 3 4 5]\n",
      "array2 : [ 6  7  8  9 10 11]\n",
      "scala : [ 0 10 20 30 40 50]\n",
      "vector : [ 0  7 16 27 40 55]\n",
      "array3 : \n",
      "[[0 1 2]\n",
      " [3 4 5]]\n",
      "array4 : \n",
      "[[ 6  7  8]\n",
      " [ 9 10 11]]\n",
      "matrix : \n",
      "[[ 0  7 16]\n",
      " [27 40 55]]\n"
     ]
    }
   ],
   "source": [
    "# 스칼라, 벡터, 행렬 각 요소 곱셈\n",
    "na = np.arange(6)\n",
    "na2 = np.arange(6,12)\n",
    "\n",
    "print(\"array1 : {}\".format(na))\n",
    "print(\"array2 : {}\".format(na2))\n",
    "\n",
    "print(\"scala : {}\".format(na * 10))\n",
    "print(\"vector : {}\".format(na * na2))\n",
    "\n",
    "na3 = na.reshape(2,3)\n",
    "na4 = na2.reshape(2,3)\n",
    "print(\"array3 : \\n{}\".format(na3))\n",
    "print(\"array4 : \\n{}\".format(na4))\n",
    "print(\"matrix : \\n{}\".format(na3 * na4))"
   ]
  },
  {
   "cell_type": "markdown",
   "metadata": {},
   "source": [
    "**broadcasting** \n",
    "하나만 적영해도 행렬의 모든 요소에 전부 적용"
   ]
  },
  {
   "cell_type": "code",
   "execution_count": 155,
   "metadata": {},
   "outputs": [
    {
     "name": "stdout",
     "output_type": "stream",
     "text": [
      "na1 : \n",
      "[ 0  1  2  3  4  5  6  7  8  9 10 11]\n",
      "na2 : \n",
      "[[ 0  1  2  3]\n",
      " [ 4  5  6  7]\n",
      " [ 8  9 10 11]]\n",
      "na3 : \n",
      "[[1 1 1 1]\n",
      " [1 1 1 1]\n",
      " [1 1 1 1]]\n",
      "na2 + 1 : \n",
      "[[ 1  2  3  4]\n",
      " [ 5  6  7  8]\n",
      " [ 9 10 11 12]]\n",
      "na2 + na3 : \n",
      "[[ 1  2  3  4]\n",
      " [ 5  6  7  8]\n",
      " [ 9 10 11 12]]\n"
     ]
    }
   ],
   "source": [
    "# broadcating exam 1  \n",
    "na1 = np.arange(12)\n",
    "na2 = na1.reshape(3,4)\n",
    "print(\"na1 : \\n{}\".format(na1))\n",
    "print(\"na2 : \\n{}\".format(na2))\n",
    "\n",
    "na3 = np.ones_like(na1)\n",
    "na3 = na3.reshape(3,4)\n",
    "print(\"na3 : \\n{}\".format(na3))\n",
    "\n",
    "print(\"na2 + 1 : \\n{}\".format(na2 + 1)) # + 1 만해도 행렬의 모든 요소에 1을 다 더한다. (broadcating 개념)\n",
    "print(\"na2 + na3 : \\n{}\".format(na2 + na3))"
   ]
  },
  {
   "cell_type": "code",
   "execution_count": 156,
   "metadata": {},
   "outputs": [
    {
     "name": "stdout",
     "output_type": "stream",
     "text": [
      "na2 : \n",
      "[[ 0  1  2  3]\n",
      " [ 4  5  6  7]\n",
      " [ 8  9 10 11]]\n",
      "na4 : \n",
      "[0 1 2 3]\n",
      "na2 + na4 : \n",
      "[[ 0  2  4  6]\n",
      " [ 4  6  8 10]\n",
      " [ 8 10 12 14]]\n",
      "na5 : \n",
      "[[0 1 2 3]\n",
      " [0 1 2 3]\n",
      " [0 1 2 3]]\n",
      "na2 + na5 : \n",
      "[[ 0  2  4  6]\n",
      " [ 4  6  8 10]\n",
      " [ 8 10 12 14]]\n"
     ]
    }
   ],
   "source": [
    "# broadcating exam 2\n",
    "na4 = np.arange(4)\n",
    "print(\"na2 : \\n{}\".format(na2))\n",
    "print(\"na4 : \\n{}\".format(na4))\n",
    "\n",
    "print(\"na2 + na4 : \\n{}\".format(na2 + na4)) # 모든 행에 n4를 다 더한다.\n",
    "\n",
    "na5 = np.stack((na4, na4, na4))\n",
    "print(\"na5 : \\n{}\".format(na5))\n",
    "\n",
    "print(\"na2 + na5 : \\n{}\".format(na2 + na5))"
   ]
  },
  {
   "cell_type": "code",
   "execution_count": 157,
   "metadata": {},
   "outputs": [
    {
     "name": "stdout",
     "output_type": "stream",
     "text": [
      "na2 : \n",
      "[[ 0  1  2  3]\n",
      " [ 4  5  6  7]\n",
      " [ 8  9 10 11]]\n",
      "na6 : \n",
      "[[0]\n",
      " [1]\n",
      " [2]]\n",
      "na2 + na6 : \n",
      "[[ 0  1  2  3]\n",
      " [ 5  6  7  8]\n",
      " [10 11 12 13]]\n",
      "na7 : \n",
      "[[0 0 0 0]\n",
      " [1 1 1 1]\n",
      " [2 2 2 2]]\n",
      "na2 + na7 : \n",
      "[[ 0  1  2  3]\n",
      " [ 5  6  7  8]\n",
      " [10 11 12 13]]\n"
     ]
    }
   ],
   "source": [
    "# broadcating exam 3\n",
    "\n",
    "na6 = np.arange(3)[:,np.newaxis]\n",
    "print(\"na2 : \\n{}\".format(na2))\n",
    "print(\"na6 : \\n{}\".format(na6))\n",
    "\n",
    "print(\"na2 + na6 : \\n{}\".format(na2 + na6)) # 모든 열에 na6를 다 더한다.\n",
    "\n",
    "na7 = np.array([[ i for _ in range(4)] for i in range(3)])\n",
    "print(\"na7 : \\n{}\".format(na7))\n",
    "\n",
    "print(\"na2 + na7 : \\n{}\".format(na2 + na7))"
   ]
  },
  {
   "cell_type": "markdown",
   "metadata": {},
   "source": [
    "##### functions\n",
    "- min, max, argmin, argmax\n",
    "- sum, mean, median, std, var\n",
    "- all, any\n",
    "- quartile\n",
    "- exp, log"
   ]
  },
  {
   "cell_type": "code",
   "execution_count": 160,
   "metadata": {},
   "outputs": [
    {
     "name": "stdout",
     "output_type": "stream",
     "text": [
      "random matrix : \n",
      "[[7 2 0]\n",
      " [1 2 4]]\n",
      "min : 0\n",
      "max : 7\n",
      "argmin : 2\n",
      "argmax : 0\n",
      "mean : 2.6666666666666665\n"
     ]
    }
   ],
   "source": [
    "r = np.random.rand(2,3)\n",
    "r_num = np.arange(5)\n",
    "r_num = (r*10).astype('int64')\n",
    "print(\"random matrix : \\n{}\".format(r_num))\n",
    "print(\"min : {}\".format(r_num.min()))\n",
    "print(\"max : {}\".format(r_num.max()))\n",
    "print(\"argmin : {}\".format(r_num.argmin())) # 최소값 위치\n",
    "print(\"argmax : {}\".format(r_num.argmax())) # 최대값 위치\n",
    "print(\"mean : {}\".format(r_num.mean()))"
   ]
  },
  {
   "cell_type": "code",
   "execution_count": 161,
   "metadata": {},
   "outputs": [
    {
     "name": "stdout",
     "output_type": "stream",
     "text": [
      "random matrix : \n",
      "[[3 6 6]\n",
      " [0 0 7]]\n",
      "sum : 22\n",
      "sum_axis_0 : [ 3  6 13]\n",
      "sum_axis_1 : [15  7]\n",
      "median : 4.5\n",
      "std : 2.8674417556808756\n",
      "var : 8.222222222222223\n"
     ]
    }
   ],
   "source": [
    "r = np.random.rand(2,3)\n",
    "r_num = np.arange(5)\n",
    "r_num = (r*10).astype('int64')\n",
    "print(\"random matrix : \\n{}\".format(r_num))\n",
    "print(\"sum : {}\".format(np.sum(r_num)))\n",
    "print(\"sum_axis_0 : {}\".format(np.sum(r_num, axis=0)))\n",
    "print(\"sum_axis_1 : {}\".format(np.sum(r_num, axis=1)))\n",
    "print(\"median : {}\".format(np.median(r_num)))  # 중앙값\n",
    "print(\"std : {}\".format(np.std(r_num))) # standard deviation (표준편차)\n",
    "print(\"var : {}\".format(np.var(r_num))) # variance (변화량)"
   ]
  },
  {
   "cell_type": "code",
   "execution_count": 162,
   "metadata": {},
   "outputs": [
    {
     "name": "stdout",
     "output_type": "stream",
     "text": [
      "[3 4 5 6 7] [3 4 5 6 7] [1 3 5 7 9]\n",
      "\n",
      "[ True  True  True  True  True]\n",
      "True\n",
      "[False False  True False False]\n",
      "False\n",
      "[ True  True False False False]\n",
      "False\n"
     ]
    }
   ],
   "source": [
    "# all\n",
    "# 모든 요소의 조건이 충족하면 True\n",
    "n1 = np.array(range(3,8))\n",
    "n2 = n1\n",
    "n3 = np.array(range(1,11,2))\n",
    "\n",
    "print(n1, n2, n3, end=\"\\n\\n\")\n",
    "\n",
    "print(n1 ==  n2)\n",
    "print(np.all(n1 ==  n2))\n",
    "print(n1 ==  n3)\n",
    "print(np.all(n1 ==  n3))\n",
    "print(n1 >  n3)\n",
    "print(np.all(n1 >  n3))"
   ]
  },
  {
   "cell_type": "code",
   "execution_count": 165,
   "metadata": {},
   "outputs": [
    {
     "name": "stdout",
     "output_type": "stream",
     "text": [
      "[ 0  1  2  3  4  5  6  7  8  9 10 11 12 13 14 15 16 17 18 19 20 21 22 23 24\n",
      " 25 26 27 28 29 30 31 32 33 34 35 36 37 38 39 40 41 42 43 44 45 46 47 48 49\n",
      " 50]\n"
     ]
    },
    {
     "data": {
      "text/plain": [
       "(12.5, 22.5)"
      ]
     },
     "execution_count": 165,
     "metadata": {},
     "output_type": "execute_result"
    }
   ],
   "source": [
    "# quartile (사분위수)\n",
    "na = np.array([num for num in range(0,51)])\n",
    "print(na)\n",
    "np.percentile(na, 25), np.percentile(na, 45) "
   ]
  },
  {
   "cell_type": "code",
   "execution_count": 168,
   "metadata": {},
   "outputs": [
    {
     "name": "stdout",
     "output_type": "stream",
     "text": [
      "[1 2 3 4 5]\n",
      "[   2.71828183    7.3890561    20.08553692   54.59815003  148.4131591 ]\n"
     ]
    }
   ],
   "source": [
    "# exponential function (지수함수)\n",
    "na = np.arange(1,6)\n",
    "print(na)\n",
    "print(np.exp(na))\n",
    "\n",
    "\n",
    "# 데이터가 너무 작을 때, 숫자 간의 차이를 확대해서 보고 싶을 때"
   ]
  },
  {
   "cell_type": "code",
   "execution_count": 169,
   "metadata": {},
   "outputs": [
    {
     "name": "stdout",
     "output_type": "stream",
     "text": [
      "[1 2 3 4 5]\n",
      "[ 0.          0.69314718  1.09861229  1.38629436  1.60943791]\n"
     ]
    }
   ],
   "source": [
    "# log function (로그함수)\n",
    "na = np.arange(1,6)\n",
    "print(na)\n",
    "print(np.log(na))\n",
    "\n",
    "# 데이터 값이 너무 커서, 차이를 축소해서 보고 싶을 때"
   ]
  },
  {
   "cell_type": "markdown",
   "metadata": {},
   "source": [
    "##### performance\n",
    "- 10**7개의 리스트에서 3과 5의 배수의 갯수를 찾는 시간"
   ]
  },
  {
   "cell_type": "code",
   "execution_count": 170,
   "metadata": {},
   "outputs": [],
   "source": [
    "ls = []\n",
    "size = int(1E7)\n",
    "for data in range(size):\n",
    "    ls.append(data)\n",
    "na = np.array(ls)"
   ]
  },
  {
   "cell_type": "code",
   "execution_count": 171,
   "metadata": {},
   "outputs": [
    {
     "name": "stdout",
     "output_type": "stream",
     "text": [
      "4666667\n",
      "CPU times: user 2.93 s, sys: 30.1 ms, total: 2.96 s\n",
      "Wall time: 3.06 s\n"
     ]
    }
   ],
   "source": [
    "%%time\n",
    "count = 0\n",
    "for idx in range(len(ls)):\n",
    "    if (ls[idx] % 3 == 0) or (ls[idx] % 5 == 0):\n",
    "        count += 1\n",
    "print(count)"
   ]
  },
  {
   "cell_type": "code",
   "execution_count": 172,
   "metadata": {},
   "outputs": [
    {
     "name": "stdout",
     "output_type": "stream",
     "text": [
      "4666667\n",
      "CPU times: user 396 ms, sys: 76.8 ms, total: 473 ms\n",
      "Wall time: 490 ms\n"
     ]
    }
   ],
   "source": [
    "%%time\n",
    "count = len(na[(na%3 == 0) | (na%5 == 0)])\n",
    "print(count)"
   ]
  },
  {
   "cell_type": "code",
   "execution_count": null,
   "metadata": {},
   "outputs": [],
   "source": []
  }
 ],
 "metadata": {
  "kernelspec": {
   "display_name": "Python 3",
   "language": "python",
   "name": "python3"
  },
  "language_info": {
   "codemirror_mode": {
    "name": "ipython",
    "version": 3
   },
   "file_extension": ".py",
   "mimetype": "text/x-python",
   "name": "python",
   "nbconvert_exporter": "python",
   "pygments_lexer": "ipython3",
   "version": "3.6.2"
  }
 },
 "nbformat": 4,
 "nbformat_minor": 2
}
