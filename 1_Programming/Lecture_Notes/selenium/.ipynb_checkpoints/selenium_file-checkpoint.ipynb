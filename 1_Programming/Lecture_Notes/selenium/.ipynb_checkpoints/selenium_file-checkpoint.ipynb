{
 "cells": [
  {
   "cell_type": "code",
   "execution_count": 1,
   "metadata": {},
   "outputs": [],
   "source": [
    "import time\n",
    "from selenium import webdriver"
   ]
  },
  {
   "cell_type": "code",
   "execution_count": 2,
   "metadata": {},
   "outputs": [],
   "source": [
    "driver =  webdriver.Chrome()"
   ]
  },
  {
   "cell_type": "code",
   "execution_count": 3,
   "metadata": {},
   "outputs": [],
   "source": [
    "driver.get('https://cloud.google.com/vision/')"
   ]
  },
  {
   "cell_type": "markdown",
   "metadata": {},
   "source": [
    "##### change iframe\n",
    "- google vision api test 페이지에 이미지 업로드해서 결과 확인\n",
    "- 파일 업로드 영역이 iframe으로 되어 있어 iframe으로 포커스 이동"
   ]
  },
  {
   "cell_type": "code",
   "execution_count": 4,
   "metadata": {},
   "outputs": [],
   "source": [
    "iframe = driver.find_element_by_css_selector(\"#vision_demo_section iframe\")\n",
    "driver.switch_to_frame(iframe)"
   ]
  },
  {
   "cell_type": "code",
   "execution_count": 5,
   "metadata": {},
   "outputs": [],
   "source": [
    "# switch back default content\n",
    "# driver.switch_to_default_content()"
   ]
  },
  {
   "cell_type": "markdown",
   "metadata": {},
   "source": [
    "##### file upload"
   ]
  },
  {
   "cell_type": "code",
   "execution_count": 6,
   "metadata": {},
   "outputs": [],
   "source": [
    "path = !pwd"
   ]
  },
  {
   "cell_type": "code",
   "execution_count": 7,
   "metadata": {},
   "outputs": [],
   "source": [
    "file_path = path[0] + \"/screenshot_element.png\"\n",
    "driver.find_element_by_css_selector(\"#input\").send_keys(file_path)"
   ]
  },
  {
   "cell_type": "code",
   "execution_count": 9,
   "metadata": {},
   "outputs": [],
   "source": [
    "driver.find_element_by_css_selector(\"#webDetection\").click()"
   ]
  },
  {
   "cell_type": "code",
   "execution_count": 10,
   "metadata": {},
   "outputs": [
    {
     "data": {
      "text/plain": [
       "'Tim Cook'"
      ]
     },
     "execution_count": 10,
     "metadata": {},
     "output_type": "execute_result"
    }
   ],
   "source": [
    "driver.find_elements_by_css_selector('.vs-web .name')[0].text"
   ]
  },
  {
   "cell_type": "code",
   "execution_count": 11,
   "metadata": {},
   "outputs": [],
   "source": [
    "driver.close()"
   ]
  },
  {
   "cell_type": "markdown",
   "metadata": {},
   "source": [
    "##### 한번에 실행하기"
   ]
  },
  {
   "cell_type": "code",
   "execution_count": 12,
   "metadata": {},
   "outputs": [
    {
     "name": "stdout",
     "output_type": "stream",
     "text": [
      "Tim Cook\n"
     ]
    }
   ],
   "source": [
    "driver =  webdriver.Chrome()\n",
    "driver.get('https://cloud.google.com/vision/')\n",
    "\n",
    "iframe = driver.find_element_by_css_selector(\"#vision_demo_section iframe\")\n",
    "driver.switch_to_frame(iframe)\n",
    "file_path = path[0] + \"/screenshot_element.png\"\n",
    "driver.find_element_by_css_selector(\"#input\").send_keys(file_path)\n",
    "time.sleep(10) # 이미지를 업로드하고 데이터를 분석하는 시간\n",
    "driver.find_element_by_css_selector(\"#webDetection\").click()\n",
    "result = driver.find_elements_by_css_selector('.vs-web .name')[0].text\n",
    "print(result)\n",
    "driver.close()"
   ]
  },
  {
   "cell_type": "markdown",
   "metadata": {},
   "source": [
    "#####  element를 체크해서 실행\n",
    "- 위의 코드는 당연히 에러가 발생되는 상황\n",
    "- 알고도 에러 방치"
   ]
  },
  {
   "cell_type": "code",
   "execution_count": 13,
   "metadata": {},
   "outputs": [],
   "source": [
    "def check_element(driver, selector):\n",
    "    try:\n",
    "        driver.find_element_by_css_selector(selector)\n",
    "        return True\n",
    "    except:\n",
    "        return False"
   ]
  },
  {
   "cell_type": "code",
   "execution_count": 22,
   "metadata": {},
   "outputs": [
    {
     "name": "stdout",
     "output_type": "stream",
     "text": [
      "1sec\n",
      "2sec\n",
      "3sec\n",
      "4sec\n",
      "5sec\n",
      "6sec\n",
      "7sec\n",
      "8sec\n",
      "Tim Cook\n"
     ]
    }
   ],
   "source": [
    "driver =  webdriver.Chrome()\n",
    "driver.get('https://cloud.google.com/vision/')\n",
    "\n",
    "iframe = driver.find_element_by_css_selector(\"#vision_demo_section iframe\")\n",
    "driver.switch_to_frame(iframe)\n",
    "file_path = path[0] + \"/screenshot_element.png\"\n",
    "driver.find_element_by_css_selector(\"#input\").send_keys(file_path)\n",
    "\n",
    "selector = '.vs-web .name'\n",
    "sec, limit_sec = 0, 10\n",
    "while True:\n",
    "    sec += 1\n",
    "    print(\"{}sec\".format(sec))\n",
    "    time.sleep(1)\n",
    "    \n",
    "    # element 확인\n",
    "    if check_element(driver, selector):\n",
    "        driver.find_element_by_css_selector(\"#webDetection\").click()\n",
    "        result = driver.find_elements_by_css_selector(selector)[0].text\n",
    "        print(result)\n",
    "        driver.close()\n",
    "        break;\n",
    "        \n",
    "    # limit_sec가 넘어가면 에러 처리\n",
    "    if sec + 1 > limit_sec:\n",
    "        print(\"error\")\n",
    "        driver.close()\n",
    "        break;"
   ]
  },
  {
   "cell_type": "code",
   "execution_count": null,
   "metadata": {},
   "outputs": [],
   "source": []
  }
 ],
 "metadata": {
  "kernelspec": {
   "display_name": "Python 3",
   "language": "python",
   "name": "python3"
  },
  "language_info": {
   "codemirror_mode": {
    "name": "ipython",
    "version": 3
   },
   "file_extension": ".py",
   "mimetype": "text/x-python",
   "name": "python",
   "nbconvert_exporter": "python",
   "pygments_lexer": "ipython3",
   "version": "3.6.2"
  }
 },
 "nbformat": 4,
 "nbformat_minor": 2
}
