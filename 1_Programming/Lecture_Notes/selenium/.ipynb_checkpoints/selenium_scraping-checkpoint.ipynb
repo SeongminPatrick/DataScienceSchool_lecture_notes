{
 "cells": [
  {
   "cell_type": "markdown",
   "metadata": {},
   "source": [
    "### Selenium Scraping"
   ]
  },
  {
   "cell_type": "markdown",
   "metadata": {},
   "source": [
    "##### Gmarket 베스트 셀러 데이터 스크래핑 \n",
    "- 전체 200개중 상위 10개 출력\n",
    "- pandas 데이터를 분석할수 있는 python 라이브러리\n",
    "    - pip3 install pandas\n",
    "    - 데이터 프레임 생성 : df = pd.DataFrame(columns=[\"A\",\"B\"])\n",
    "    - 데이터 추가 : df.loc[len(df)] = [{\"A\":1,\"B\":2}, {\"A\":3,\"B\":4}]"
   ]
  },
  {
   "cell_type": "code",
   "execution_count": 1,
   "metadata": {},
   "outputs": [],
   "source": [
    "from selenium import webdriver\n",
    "import pandas as pd"
   ]
  },
  {
   "cell_type": "code",
   "execution_count": 2,
   "metadata": {
    "scrolled": false
   },
   "outputs": [],
   "source": [
    "def get_gmarket_bestsellers(number=10):\n",
    "    \n",
    "    def to_int(price):\n",
    "        return int(price.replace(\",\",\"\").replace(\"원\",\"\"))\n",
    "    \n",
    "    driver =  webdriver.Chrome()\n",
    "    driver.get('http://corners.gmarket.co.kr/Bestsellers')\n",
    "\n",
    "    bestlist_selector = driver.find_elements_by_css_selector(\"#gBestWrap .best-list\")[1]\n",
    "    items = bestlist_selector.find_elements_by_css_selector(\"li\")[:number]\n",
    "    \n",
    "    df = pd.DataFrame(columns=[\"상품명\",\"원가\",\"판매가\",\"이미지\",\"상품링크\"])\n",
    "    \n",
    "    for item in items:\n",
    "\n",
    "        idx = item.find_element_by_css_selector(\"p\").text # 순번\n",
    "        img_link = item.find_element_by_css_selector(\"img\").get_attribute(\"src\") # 이미지 URL\n",
    "        item_link = item.find_element_by_css_selector(\".itemname\").get_attribute(\"href\") # 아이템 URL\n",
    "        content = item.find_element_by_css_selector(\".itemname\").text # 아이템 텍스트\n",
    "        o_price = item.find_element_by_css_selector(\".item_price .o-price\").text # 오리지날 가격\n",
    "        s_price = item.find_element_by_css_selector(\".item_price .s-price\").text.split(\" \")[0] # 판매 가격\n",
    "        o_price = o_price if o_price else s_price # 원가 데이터가 없는경우 판매가를 대입\n",
    "        \n",
    "        data = {\"상품명\": content,\n",
    "                \"원가\": to_int(o_price), \n",
    "                \"판매가\": to_int(s_price),\n",
    "                \"이미지\": img_link, \n",
    "                \"상품링크\": item_link, }\n",
    "        \n",
    "        # Pandas 데이터 입력\n",
    "        df.loc[len(df)] = data\n",
    "        \n",
    "    driver.close()\n",
    "    return df"
   ]
  },
  {
   "cell_type": "code",
   "execution_count": 3,
   "metadata": {},
   "outputs": [
    {
     "data": {
      "text/html": [
       "<div>\n",
       "<style scoped>\n",
       "    .dataframe tbody tr th:only-of-type {\n",
       "        vertical-align: middle;\n",
       "    }\n",
       "\n",
       "    .dataframe tbody tr th {\n",
       "        vertical-align: top;\n",
       "    }\n",
       "\n",
       "    .dataframe thead th {\n",
       "        text-align: right;\n",
       "    }\n",
       "</style>\n",
       "<table border=\"1\" class=\"dataframe\">\n",
       "  <thead>\n",
       "    <tr style=\"text-align: right;\">\n",
       "      <th></th>\n",
       "      <th>상품명</th>\n",
       "      <th>원가</th>\n",
       "      <th>판매가</th>\n",
       "      <th>이미지</th>\n",
       "      <th>상품링크</th>\n",
       "    </tr>\n",
       "  </thead>\n",
       "  <tbody>\n",
       "    <tr>\n",
       "      <th>195</th>\n",
       "      <td>[삼성전자][G]삼성 TDS신가열 RE-C21KB 21L 전자레인지</td>\n",
       "      <td>90400</td>\n",
       "      <td>85880</td>\n",
       "      <td>http://gdimg.gmarket.co.kr/836058599/still/300</td>\n",
       "      <td>http://item2.gmarket.co.kr/Item/DetailView/Ite...</td>\n",
       "    </tr>\n",
       "    <tr>\n",
       "      <th>196</th>\n",
       "      <td>[삼성전자]인증점P 17년신형 진공청소기 VC33M2110LP 당일출고</td>\n",
       "      <td>103000</td>\n",
       "      <td>87900</td>\n",
       "      <td>http://gdimg.gmarket.co.kr/916901271/still/300</td>\n",
       "      <td>http://item2.gmarket.co.kr/Item/DetailView/Ite...</td>\n",
       "    </tr>\n",
       "    <tr>\n",
       "      <th>197</th>\n",
       "      <td>비앤티박스 택배박스/착한가격/당일퀵배송/최고품질/</td>\n",
       "      <td>35000</td>\n",
       "      <td>31700</td>\n",
       "      <td>http://gdimg.gmarket.co.kr/293963256/still/300</td>\n",
       "      <td>http://item2.gmarket.co.kr/Item/DetailView/Ite...</td>\n",
       "    </tr>\n",
       "    <tr>\n",
       "      <th>198</th>\n",
       "      <td>MAANGE 프로페셔널 메이크업 브러쉬 22종 세트-2color</td>\n",
       "      <td>29900</td>\n",
       "      <td>12900</td>\n",
       "      <td>http://gdimg.gmarket.co.kr/1156619333/still/300</td>\n",
       "      <td>http://item2.gmarket.co.kr/Item/DetailView/Ite...</td>\n",
       "    </tr>\n",
       "    <tr>\n",
       "      <th>199</th>\n",
       "      <td>[소프시스]소프시스 철제5단서랍</td>\n",
       "      <td>36900</td>\n",
       "      <td>28900</td>\n",
       "      <td>http://gdimg.gmarket.co.kr/1207302715/still/300</td>\n",
       "      <td>http://item2.gmarket.co.kr/Item/DetailView/Ite...</td>\n",
       "    </tr>\n",
       "  </tbody>\n",
       "</table>\n",
       "</div>"
      ],
      "text/plain": [
       "                                         상품명      원가    판매가  \\\n",
       "195    [삼성전자][G]삼성 TDS신가열 RE-C21KB 21L 전자레인지   90400  85880   \n",
       "196  [삼성전자]인증점P 17년신형 진공청소기 VC33M2110LP 당일출고  103000  87900   \n",
       "197              비앤티박스 택배박스/착한가격/당일퀵배송/최고품질/   35000  31700   \n",
       "198      MAANGE 프로페셔널 메이크업 브러쉬 22종 세트-2color   29900  12900   \n",
       "199                        [소프시스]소프시스 철제5단서랍   36900  28900   \n",
       "\n",
       "                                                 이미지  \\\n",
       "195   http://gdimg.gmarket.co.kr/836058599/still/300   \n",
       "196   http://gdimg.gmarket.co.kr/916901271/still/300   \n",
       "197   http://gdimg.gmarket.co.kr/293963256/still/300   \n",
       "198  http://gdimg.gmarket.co.kr/1156619333/still/300   \n",
       "199  http://gdimg.gmarket.co.kr/1207302715/still/300   \n",
       "\n",
       "                                                  상품링크  \n",
       "195  http://item2.gmarket.co.kr/Item/DetailView/Ite...  \n",
       "196  http://item2.gmarket.co.kr/Item/DetailView/Ite...  \n",
       "197  http://item2.gmarket.co.kr/Item/DetailView/Ite...  \n",
       "198  http://item2.gmarket.co.kr/Item/DetailView/Ite...  \n",
       "199  http://item2.gmarket.co.kr/Item/DetailView/Ite...  "
      ]
     },
     "execution_count": 3,
     "metadata": {},
     "output_type": "execute_result"
    }
   ],
   "source": [
    "%%time\n",
    "result = get_gmarket_bestsellers(200)\n",
    "result.tail()"
   ]
  },
  {
   "cell_type": "code",
   "execution_count": 4,
   "metadata": {},
   "outputs": [
    {
     "data": {
      "text/html": [
       "<div>\n",
       "<style scoped>\n",
       "    .dataframe tbody tr th:only-of-type {\n",
       "        vertical-align: middle;\n",
       "    }\n",
       "\n",
       "    .dataframe tbody tr th {\n",
       "        vertical-align: top;\n",
       "    }\n",
       "\n",
       "    .dataframe thead th {\n",
       "        text-align: right;\n",
       "    }\n",
       "</style>\n",
       "<table border=\"1\" class=\"dataframe\">\n",
       "  <thead>\n",
       "    <tr style=\"text-align: right;\">\n",
       "      <th></th>\n",
       "      <th>rank</th>\n",
       "      <th>상품명</th>\n",
       "      <th>원가</th>\n",
       "      <th>판매가</th>\n",
       "      <th>이미지</th>\n",
       "      <th>상품링크</th>\n",
       "      <th>할인율</th>\n",
       "    </tr>\n",
       "  </thead>\n",
       "  <tbody>\n",
       "    <tr>\n",
       "      <th>0</th>\n",
       "      <td>124</td>\n",
       "      <td>[다샵]벽걸이 스탠드 에어컨커버 제습기/선풍기커버</td>\n",
       "      <td>26900</td>\n",
       "      <td>6500</td>\n",
       "      <td>http://gdimg.gmarket.co.kr/509405582/still/300</td>\n",
       "      <td>http://item2.gmarket.co.kr/Item/DetailView/Ite...</td>\n",
       "      <td>75.84</td>\n",
       "    </tr>\n",
       "    <tr>\n",
       "      <th>1</th>\n",
       "      <td>0</td>\n",
       "      <td>리바이스키즈 여름티셔츠/반팔/반바지/연휴특가</td>\n",
       "      <td>35000</td>\n",
       "      <td>10500</td>\n",
       "      <td>http://gdimg.gmarket.co.kr/1139276022/still/300</td>\n",
       "      <td>http://item2.gmarket.co.kr/Item/DetailView/Ite...</td>\n",
       "      <td>70.00</td>\n",
       "    </tr>\n",
       "    <tr>\n",
       "      <th>2</th>\n",
       "      <td>19</td>\n",
       "      <td>[슈가든]봄신상 여성 구두 힐 로퍼 단화 운동화 슬립온 종합</td>\n",
       "      <td>33000</td>\n",
       "      <td>9900</td>\n",
       "      <td>http://image.gmarket.co.kr/challenge/neo_image...</td>\n",
       "      <td>http://item2.gmarket.co.kr/Item/DetailView/Ite...</td>\n",
       "      <td>70.00</td>\n",
       "    </tr>\n",
       "    <tr>\n",
       "      <th>3</th>\n",
       "      <td>126</td>\n",
       "      <td>[또래친구]2018/상하복/운동복/체육복/기능성/주니어세트</td>\n",
       "      <td>53000</td>\n",
       "      <td>15900</td>\n",
       "      <td>http://gdimg.gmarket.co.kr/706563579/still/300</td>\n",
       "      <td>http://item2.gmarket.co.kr/Item/DetailView/Ite...</td>\n",
       "      <td>70.00</td>\n",
       "    </tr>\n",
       "    <tr>\n",
       "      <th>4</th>\n",
       "      <td>113</td>\n",
       "      <td>(키즈꼬모) 봄 상하복 6900 / 아동복 / 등원복</td>\n",
       "      <td>23000</td>\n",
       "      <td>6900</td>\n",
       "      <td>http://gdimg.gmarket.co.kr/1232338881/still/300</td>\n",
       "      <td>http://item2.gmarket.co.kr/Item/DetailView/Ite...</td>\n",
       "      <td>70.00</td>\n",
       "    </tr>\n",
       "  </tbody>\n",
       "</table>\n",
       "</div>"
      ],
      "text/plain": [
       "   rank                                상품명     원가    판매가  \\\n",
       "0   124        [다샵]벽걸이 스탠드 에어컨커버 제습기/선풍기커버  26900   6500   \n",
       "1     0           리바이스키즈 여름티셔츠/반팔/반바지/연휴특가  35000  10500   \n",
       "2    19  [슈가든]봄신상 여성 구두 힐 로퍼 단화 운동화 슬립온 종합  33000   9900   \n",
       "3   126   [또래친구]2018/상하복/운동복/체육복/기능성/주니어세트  53000  15900   \n",
       "4   113      (키즈꼬모) 봄 상하복 6900 / 아동복 / 등원복  23000   6900   \n",
       "\n",
       "                                                 이미지  \\\n",
       "0     http://gdimg.gmarket.co.kr/509405582/still/300   \n",
       "1    http://gdimg.gmarket.co.kr/1139276022/still/300   \n",
       "2  http://image.gmarket.co.kr/challenge/neo_image...   \n",
       "3     http://gdimg.gmarket.co.kr/706563579/still/300   \n",
       "4    http://gdimg.gmarket.co.kr/1232338881/still/300   \n",
       "\n",
       "                                                상품링크    할인율  \n",
       "0  http://item2.gmarket.co.kr/Item/DetailView/Ite...  75.84  \n",
       "1  http://item2.gmarket.co.kr/Item/DetailView/Ite...  70.00  \n",
       "2  http://item2.gmarket.co.kr/Item/DetailView/Ite...  70.00  \n",
       "3  http://item2.gmarket.co.kr/Item/DetailView/Ite...  70.00  \n",
       "4  http://item2.gmarket.co.kr/Item/DetailView/Ite...  70.00  "
      ]
     },
     "execution_count": 4,
     "metadata": {},
     "output_type": "execute_result"
    }
   ],
   "source": [
    "# Pandas로 할인율 계산\n",
    "result[\"할인율\"] = 100 - (result[\"판매가\"] / result[\"원가\"]) * 100\n",
    "result[\"할인율\"] = result[\"할인율\"].astype(dtype=\"float64\")\n",
    "result[\"할인율\"] = round(result[\"할인율\"], 2)\n",
    "result = result.sort_values(\"할인율\", ascending=False).reset_index().rename(columns={\"index\": \"rank\"})\n",
    "result.head()"
   ]
  },
  {
   "cell_type": "code",
   "execution_count": 5,
   "metadata": {},
   "outputs": [],
   "source": [
    "# utf-8로 인코딩한 csv 파일로 저장\n",
    "result.to_csv(\"gmarket.csv\", encoding=\"utf-8\")"
   ]
  },
  {
   "cell_type": "markdown",
   "metadata": {},
   "source": [
    "##### Naver 메일 데이터 스크래핑\n",
    "- 네이버 메일에 로그인한후 데이터 가져오기"
   ]
  },
  {
   "cell_type": "code",
   "execution_count": 6,
   "metadata": {},
   "outputs": [],
   "source": [
    "from selenium import webdriver\n",
    "import pickle\n",
    "import time"
   ]
  },
  {
   "cell_type": "code",
   "execution_count": 13,
   "metadata": {},
   "outputs": [],
   "source": [
    "# 패스워드 저장하기\n",
    "# pw = \"\"\n",
    "# file = open(\"pw.pickle\", \"wb\")\n",
    "# pickle.dump(pw, file)"
   ]
  },
  {
   "cell_type": "code",
   "execution_count": 8,
   "metadata": {},
   "outputs": [],
   "source": [
    "main_url = \"http://naver.com\"\n",
    "mail_url = \"http://mail.naver.com\""
   ]
  },
  {
   "cell_type": "code",
   "execution_count": 9,
   "metadata": {},
   "outputs": [],
   "source": [
    "# 브라우져 오픈 및 메인 사이트 이동\n",
    "driver = webdriver.Chrome()\n",
    "driver.get(main_url)"
   ]
  },
  {
   "cell_type": "code",
   "execution_count": 14,
   "metadata": {},
   "outputs": [],
   "source": [
    "# 아이디 패스워드 입력\n",
    "pw = pickle.load(open(\"pw.pickle\", \"rb\")) # pw 변수에 본인의 패스워드 입력\n",
    "driver.find_element_by_css_selector( \"#id\" ).send_keys( \"1221pdj\" )\n",
    "driver.find_element_by_css_selector( \"#pw\" ).send_keys( pw )"
   ]
  },
  {
   "cell_type": "code",
   "execution_count": 15,
   "metadata": {},
   "outputs": [],
   "source": [
    "# 로그인 버튼 클릭\n",
    "driver.find_element_by_css_selector(\"span.btn_login input[type=submit]\").click()"
   ]
  },
  {
   "cell_type": "code",
   "execution_count": 16,
   "metadata": {},
   "outputs": [],
   "source": [
    "# 메일 페이지로 이동\n",
    "driver.get(mail_url)"
   ]
  },
  {
   "cell_type": "code",
   "execution_count": 17,
   "metadata": {},
   "outputs": [
    {
     "data": {
      "text/plain": [
       "30"
      ]
     },
     "execution_count": 17,
     "metadata": {},
     "output_type": "execute_result"
    }
   ],
   "source": [
    "# 메일 갯수\n",
    "total_mail = driver.find_element_by_css_selector(\"#headTotalNum\").text\n",
    "total_mail = int(total_mail)\n",
    "total_mail"
   ]
  },
  {
   "cell_type": "code",
   "execution_count": 18,
   "metadata": {},
   "outputs": [
    {
     "data": {
      "text/plain": [
       "25"
      ]
     },
     "execution_count": 18,
     "metadata": {},
     "output_type": "execute_result"
    }
   ],
   "source": [
    "# 안읽은 메일 갯수\n",
    "not_read_mail = driver.find_element_by_css_selector(\"#headUnreadNum\").text\n",
    "not_read_mail = int(not_read_mail)\n",
    "not_read_mail"
   ]
  },
  {
   "cell_type": "code",
   "execution_count": 19,
   "metadata": {},
   "outputs": [
    {
     "name": "stdout",
     "output_type": "stream",
     "text": [
      "전체 메일수 :  30\n"
     ]
    },
    {
     "data": {
      "text/html": [
       "<div>\n",
       "<style scoped>\n",
       "    .dataframe tbody tr th:only-of-type {\n",
       "        vertical-align: middle;\n",
       "    }\n",
       "\n",
       "    .dataframe tbody tr th {\n",
       "        vertical-align: top;\n",
       "    }\n",
       "\n",
       "    .dataframe thead th {\n",
       "        text-align: right;\n",
       "    }\n",
       "</style>\n",
       "<table border=\"1\" class=\"dataframe\">\n",
       "  <thead>\n",
       "    <tr style=\"text-align: right;\">\n",
       "      <th></th>\n",
       "      <th>제목</th>\n",
       "      <th>보낸사람</th>\n",
       "      <th>메일링크</th>\n",
       "    </tr>\n",
       "  </thead>\n",
       "  <tbody>\n",
       "    <tr>\n",
       "      <th>25</th>\n",
       "      <td>SMTP Send File 테스트(제목)</td>\n",
       "      <td>utmostar0201@gmai..</td>\n",
       "      <td>https://mail.naver.com/read/popup/?nMailId=11887</td>\n",
       "    </tr>\n",
       "    <tr>\n",
       "      <th>26</th>\n",
       "      <td>SMTP Send File 테스트(제목)</td>\n",
       "      <td>radajin1224@gmail.c..</td>\n",
       "      <td>https://mail.naver.com/read/popup/?nMailId=11886</td>\n",
       "    </tr>\n",
       "    <tr>\n",
       "      <th>27</th>\n",
       "      <td>SMTP Send HTML 테스트(제목)</td>\n",
       "      <td>radajin1224@gmail.c..</td>\n",
       "      <td>https://mail.naver.com/read/popup/?nMailId=11885</td>\n",
       "    </tr>\n",
       "    <tr>\n",
       "      <th>28</th>\n",
       "      <td>SMTP Send Text 테스트(제목)</td>\n",
       "      <td>junkoo0101@gmail.co..</td>\n",
       "      <td>https://mail.naver.com/read/popup/?nMailId=11884</td>\n",
       "    </tr>\n",
       "    <tr>\n",
       "      <th>29</th>\n",
       "      <td>SMTP Send Text 테스트(제목)</td>\n",
       "      <td>radajin1224@gmail.c..</td>\n",
       "      <td>https://mail.naver.com/read/popup/?nMailId=11883</td>\n",
       "    </tr>\n",
       "  </tbody>\n",
       "</table>\n",
       "</div>"
      ],
      "text/plain": [
       "                        제목                   보낸사람  \\\n",
       "25  SMTP Send File 테스트(제목)    utmostar0201@gmai..   \n",
       "26  SMTP Send File 테스트(제목)  radajin1224@gmail.c..   \n",
       "27  SMTP Send HTML 테스트(제목)  radajin1224@gmail.c..   \n",
       "28  SMTP Send Text 테스트(제목)  junkoo0101@gmail.co..   \n",
       "29  SMTP Send Text 테스트(제목)  radajin1224@gmail.c..   \n",
       "\n",
       "                                                메일링크  \n",
       "25  https://mail.naver.com/read/popup/?nMailId=11887  \n",
       "26  https://mail.naver.com/read/popup/?nMailId=11886  \n",
       "27  https://mail.naver.com/read/popup/?nMailId=11885  \n",
       "28  https://mail.naver.com/read/popup/?nMailId=11884  \n",
       "29  https://mail.naver.com/read/popup/?nMailId=11883  "
      ]
     },
     "execution_count": 19,
     "metadata": {},
     "output_type": "execute_result"
    }
   ],
   "source": [
    "# 메일 제목, 보낸사람 이름 가져오기\n",
    "mails = driver.find_elements_by_css_selector(\".mailList.sender_context > li\")\n",
    "print(\"전체 메일수 : \", len(mails))\n",
    "df = pd.DataFrame(columns=[\"제목\",\"보낸사람\",\"메일링크\"])\n",
    "for idx, mail in enumerate(mails):\n",
    "    title = mail.find_element_by_css_selector(\".mail_title\").text\n",
    "    name = mail.find_element_by_css_selector(\".name\").text\n",
    "    link = mail.find_element_by_css_selector(\".subject > a\").get_attribute(\"href\")\n",
    "    df.loc[len(df)] = { \"제목\":title, \"보낸사람\":name, \"메일링크\":link }    \n",
    "df.tail()"
   ]
  },
  {
   "cell_type": "code",
   "execution_count": 21,
   "metadata": {},
   "outputs": [
    {
     "name": "stdout",
     "output_type": "stream",
     "text": [
      "전체 메일수 :  3\n"
     ]
    },
    {
     "data": {
      "text/html": [
       "<div>\n",
       "<style scoped>\n",
       "    .dataframe tbody tr th:only-of-type {\n",
       "        vertical-align: middle;\n",
       "    }\n",
       "\n",
       "    .dataframe tbody tr th {\n",
       "        vertical-align: top;\n",
       "    }\n",
       "\n",
       "    .dataframe thead th {\n",
       "        text-align: right;\n",
       "    }\n",
       "</style>\n",
       "<table border=\"1\" class=\"dataframe\">\n",
       "  <thead>\n",
       "    <tr style=\"text-align: right;\">\n",
       "      <th></th>\n",
       "      <th>제목</th>\n",
       "      <th>보낸사람</th>\n",
       "      <th>메일링크</th>\n",
       "    </tr>\n",
       "  </thead>\n",
       "  <tbody>\n",
       "    <tr>\n",
       "      <th>0</th>\n",
       "      <td>종로구에 있는 사람들이 \"Watch Boston Dynamics’ SpotMini ...</td>\n",
       "      <td>트위터</td>\n",
       "      <td>https://mail.naver.com/read/popup/?nMailId=11911</td>\n",
       "    </tr>\n",
       "    <tr>\n",
       "      <th>1</th>\n",
       "      <td>문성근 님이 트윗함: 너무 오래 걸렸다. '친일행위' 인촌 김성수, 56년만에 건국...</td>\n",
       "      <td>트위터</td>\n",
       "      <td>https://mail.naver.com/read/popup/?nMailId=11910</td>\n",
       "    </tr>\n",
       "    <tr>\n",
       "      <th>2</th>\n",
       "      <td>종로구에 있는 사람들이 \"People who think about leaving r...</td>\n",
       "      <td>트위터</td>\n",
       "      <td>https://mail.naver.com/read/popup/?nMailId=11907</td>\n",
       "    </tr>\n",
       "  </tbody>\n",
       "</table>\n",
       "</div>"
      ],
      "text/plain": [
       "                                                  제목 보낸사람  \\\n",
       "0  종로구에 있는 사람들이 \"Watch Boston Dynamics’ SpotMini ...  트위터   \n",
       "1  문성근 님이 트윗함: 너무 오래 걸렸다. '친일행위' 인촌 김성수, 56년만에 건국...  트위터   \n",
       "2  종로구에 있는 사람들이 \"People who think about leaving r...  트위터   \n",
       "\n",
       "                                               메일링크  \n",
       "0  https://mail.naver.com/read/popup/?nMailId=11911  \n",
       "1  https://mail.naver.com/read/popup/?nMailId=11910  \n",
       "2  https://mail.naver.com/read/popup/?nMailId=11907  "
      ]
     },
     "execution_count": 21,
     "metadata": {},
     "output_type": "execute_result"
    }
   ],
   "source": [
    "# marked 메일\n",
    "mails = driver.find_elements_by_css_selector(\".mailList.sender_context > li.mark\")\n",
    "print(\"전체 메일수 : \", len(mails))\n",
    "df = pd.DataFrame(columns=[\"제목\",\"보낸사람\",\"메일링크\"])\n",
    "for idx, mail in enumerate(mails):\n",
    "    title = mail.find_element_by_css_selector(\".mail_title\").text\n",
    "    name = mail.find_element_by_css_selector(\".name\").text\n",
    "    link = mail.find_element_by_css_selector(\".subject > a\").get_attribute(\"href\")\n",
    "    df.loc[len(df)] = { \"제목\":title, \"보낸사람\":name, \"메일링크\":link }    \n",
    "df.tail()"
   ]
  },
  {
   "cell_type": "code",
   "execution_count": 22,
   "metadata": {},
   "outputs": [
    {
     "name": "stdout",
     "output_type": "stream",
     "text": [
      "total mails:  5\n"
     ]
    },
    {
     "data": {
      "text/html": [
       "<div>\n",
       "<style scoped>\n",
       "    .dataframe tbody tr th:only-of-type {\n",
       "        vertical-align: middle;\n",
       "    }\n",
       "\n",
       "    .dataframe tbody tr th {\n",
       "        vertical-align: top;\n",
       "    }\n",
       "\n",
       "    .dataframe thead th {\n",
       "        text-align: right;\n",
       "    }\n",
       "</style>\n",
       "<table border=\"1\" class=\"dataframe\">\n",
       "  <thead>\n",
       "    <tr style=\"text-align: right;\">\n",
       "      <th></th>\n",
       "      <th>제목</th>\n",
       "      <th>보낸사람</th>\n",
       "      <th>메일링크</th>\n",
       "    </tr>\n",
       "  </thead>\n",
       "  <tbody>\n",
       "    <tr>\n",
       "      <th>0</th>\n",
       "      <td>Google SMTP로 메일 보내기</td>\n",
       "      <td>radajin1224@gmail.c..</td>\n",
       "      <td>https://mail.naver.com/read/popup/?nMailId=11893</td>\n",
       "    </tr>\n",
       "    <tr>\n",
       "      <th>1</th>\n",
       "      <td>Google SMTP로 메일 보내기</td>\n",
       "      <td>radajin1224@gmail.c..</td>\n",
       "      <td>https://mail.naver.com/read/popup/?nMailId=11890</td>\n",
       "    </tr>\n",
       "    <tr>\n",
       "      <th>2</th>\n",
       "      <td>SMTP Send File 테스트(제목)</td>\n",
       "      <td>radajin1224@gmail.c..</td>\n",
       "      <td>https://mail.naver.com/read/popup/?nMailId=11886</td>\n",
       "    </tr>\n",
       "    <tr>\n",
       "      <th>3</th>\n",
       "      <td>SMTP Send HTML 테스트(제목)</td>\n",
       "      <td>radajin1224@gmail.c..</td>\n",
       "      <td>https://mail.naver.com/read/popup/?nMailId=11885</td>\n",
       "    </tr>\n",
       "    <tr>\n",
       "      <th>4</th>\n",
       "      <td>SMTP Send Text 테스트(제목)</td>\n",
       "      <td>radajin1224@gmail.c..</td>\n",
       "      <td>https://mail.naver.com/read/popup/?nMailId=11883</td>\n",
       "    </tr>\n",
       "  </tbody>\n",
       "</table>\n",
       "</div>"
      ],
      "text/plain": [
       "                       제목                   보낸사람  \\\n",
       "0     Google SMTP로 메일 보내기  radajin1224@gmail.c..   \n",
       "1     Google SMTP로 메일 보내기  radajin1224@gmail.c..   \n",
       "2  SMTP Send File 테스트(제목)  radajin1224@gmail.c..   \n",
       "3  SMTP Send HTML 테스트(제목)  radajin1224@gmail.c..   \n",
       "4  SMTP Send Text 테스트(제목)  radajin1224@gmail.c..   \n",
       "\n",
       "                                               메일링크  \n",
       "0  https://mail.naver.com/read/popup/?nMailId=11893  \n",
       "1  https://mail.naver.com/read/popup/?nMailId=11890  \n",
       "2  https://mail.naver.com/read/popup/?nMailId=11886  \n",
       "3  https://mail.naver.com/read/popup/?nMailId=11885  \n",
       "4  https://mail.naver.com/read/popup/?nMailId=11883  "
      ]
     },
     "execution_count": 22,
     "metadata": {},
     "output_type": "execute_result"
    }
   ],
   "source": [
    "# 읽은 메일\n",
    "mails = driver.find_elements_by_css_selector(\".mailList.sender_context > li:not(.notRead)\")\n",
    "print(\"total mails: \", len(mails))\n",
    "df = pd.DataFrame(columns=[\"제목\",\"보낸사람\",\"메일링크\"])\n",
    "for idx, mail in enumerate(mails):\n",
    "    title = mail.find_element_by_css_selector(\".mail_title\").text\n",
    "    name = mail.find_element_by_css_selector(\".name\").text\n",
    "    link = mail.find_element_by_css_selector(\".subject > a\").get_attribute(\"href\")\n",
    "    df.loc[len(df)] = { \"제목\":title, \"보낸사람\":name, \"메일링크\":link }    \n",
    "df.tail()"
   ]
  },
  {
   "cell_type": "code",
   "execution_count": 23,
   "metadata": {},
   "outputs": [],
   "source": [
    "# 로그아웃\n",
    "logout_url = driver.find_element_by_css_selector(\".gnb_btn_login\").get_attribute(\"href\")\n",
    "driver.get(logout_url)"
   ]
  },
  {
   "cell_type": "code",
   "execution_count": 24,
   "metadata": {},
   "outputs": [],
   "source": [
    "# 브라우져 닫기\n",
    "driver.close()"
   ]
  }
 ],
 "metadata": {
  "kernelspec": {
   "display_name": "Python 3",
   "language": "python",
   "name": "python3"
  },
  "language_info": {
   "codemirror_mode": {
    "name": "ipython",
    "version": 3
   },
   "file_extension": ".py",
   "mimetype": "text/x-python",
   "name": "python",
   "nbconvert_exporter": "python",
   "pygments_lexer": "ipython3",
   "version": "3.6.2"
  }
 },
 "nbformat": 4,
 "nbformat_minor": 2
}
