{
 "cells": [
  {
   "cell_type": "markdown",
   "metadata": {},
   "source": [
    "IT/과학 기사 20일자 1페이지-8페이지 기사 타이틀\n",
    "\n",
    "리스트 데이터"
   ]
  },
  {
   "cell_type": "code",
   "execution_count": 3,
   "metadata": {},
   "outputs": [],
   "source": [
    "from selenium import webdriver"
   ]
  },
  {
   "cell_type": "markdown",
   "metadata": {},
   "source": [
    "- 셀레니움을 이용하여 2018년 2월 20일 네이버 IT/과학 기사의 제목을 리스트로 크롤링하세요.\n",
    "- http://news.naver.com/main/main.nhn?mode=LSD&mid=shm&sid1=105"
   ]
  },
  {
   "cell_type": "code",
   "execution_count": 26,
   "metadata": {},
   "outputs": [],
   "source": [
    "article_list = []\n",
    "\n",
    "def get_article(page):\n",
    "    driver =  webdriver.Chrome()\n",
    "    \n",
    "    driver.get(\"http://news.naver.com/main/main.nhn?mode=LSD&mid=shm&sid1=105#&date=2018-02-20 00:00:00&page=\"+str(page))\n",
    "    \n",
    "    articles = driver.find_elements_by_css_selector('#section_body li')\n",
    "    \n",
    "\n",
    "\n",
    "    for article in articles:\n",
    "        title = article.find_element_by_css_selector('dt:not(.photo) > a').text     # dt class=photo 는 제외한다는 뜻\n",
    "        article_list.append(title)\n",
    "    \n",
    "    \n",
    "    driver.close()\n",
    "    return article_list"
   ]
  },
  {
   "cell_type": "code",
   "execution_count": null,
   "metadata": {},
   "outputs": [],
   "source": []
  },
  {
   "cell_type": "code",
   "execution_count": 27,
   "metadata": {},
   "outputs": [
    {
     "name": "stdout",
     "output_type": "stream",
     "text": [
      "CPU times: user 249 ms, sys: 90.1 ms, total: 339 ms\n",
      "Wall time: 34.4 s\n"
     ]
    }
   ],
   "source": [
    "%%time\n",
    "for page in range(1,9):\n",
    "    get_article(page)"
   ]
  },
  {
   "cell_type": "code",
   "execution_count": 28,
   "metadata": {},
   "outputs": [
    {
     "data": {
      "text/plain": [
       "(146,\n",
       " ['\"개인정보 수집 페이스북 유죄\"',\n",
       "  '수십초 안에 충전 … 물기반 ESS 만들었다',\n",
       "  '우버 운전자는 자영업자? 근로자?…영국 대법원 판결 주목',\n",
       "  '로봇 슈트 입고 총알 쏟아지는 하늘서 ‘쌩쌩’',\n",
       "  '삼성전자, 세계 최초 30TB SSD 양산'])"
      ]
     },
     "execution_count": 28,
     "metadata": {},
     "output_type": "execute_result"
    }
   ],
   "source": [
    "len(article_list), article_list[:5]"
   ]
  },
  {
   "cell_type": "markdown",
   "metadata": {},
   "source": [
    "# 따로 따로"
   ]
  },
  {
   "cell_type": "code",
   "execution_count": 4,
   "metadata": {},
   "outputs": [],
   "source": [
    "driver =  webdriver.Chrome()"
   ]
  },
  {
   "cell_type": "code",
   "execution_count": 5,
   "metadata": {},
   "outputs": [],
   "source": [
    "driver.get(\"http://news.naver.com/main/main.nhn?mode=LSD&mid=shm&sid1=105#&date=2018-02-20 00:00:00&page=1\")"
   ]
  },
  {
   "cell_type": "code",
   "execution_count": 6,
   "metadata": {},
   "outputs": [
    {
     "data": {
      "text/plain": [
       "20"
      ]
     },
     "execution_count": 6,
     "metadata": {},
     "output_type": "execute_result"
    }
   ],
   "source": [
    "articles = driver.find_elements_by_css_selector('#section_body li')\n",
    "len(articles)    \n",
    "\n",
    "\n",
    "#len이 여러개가 나오면 뭔가 있고, 0이면 아무 것도 없는 것. 그렇게 찾아 들어가는 게 좋다\n",
    "# 내가 원하는 class 몇 번째 있는 지도 확인 \n",
    "# nth-child(n)을 통해서 원하는 번 째 classf로 이동"
   ]
  },
  {
   "cell_type": "code",
   "execution_count": 23,
   "metadata": {},
   "outputs": [],
   "source": [
    "article_list = []\n",
    "\n",
    "for article in articles:\n",
    "    title = article.find_element_by_css_selector('dt:not(.photo) > a').text     # dt class=photo 는 제외한다는 뜻\n",
    "    article_list.append(title)"
   ]
  },
  {
   "cell_type": "code",
   "execution_count": 24,
   "metadata": {},
   "outputs": [
    {
     "data": {
      "text/plain": [
       "['\"개인정보 수집 페이스북 유죄\"',\n",
       " '수십초 안에 충전 … 물기반 ESS 만들었다',\n",
       " '우버 운전자는 자영업자? 근로자?…영국 대법원 판결 주목',\n",
       " '로봇 슈트 입고 총알 쏟아지는 하늘서 ‘쌩쌩’',\n",
       " '삼성전자, 세계 최초 30TB SSD 양산',\n",
       " '웹보드 게임 규제 완화 ‘말짱 도루묵’?…협의체 최종안 제출 못해 `의문`',\n",
       " '불 붙어도 끄떡없는 2차 전지 개발',\n",
       " \"['MWC 2018'] 유일하게 신상폰 공개하는 삼성.. 스마트폰 최대 관심사는 'AI 카메라'\",\n",
       " \"['MWC 2018'] 목표는 단 하나 '5G 선점' 최적의 파트너 찾아라\",\n",
       " \"['MWC 2018'] 불붙은 5G 주도권 경쟁..치고 나오는 '차이나 파워'\",\n",
       " '\"제품만 팔던 시대 끝났다\"… 아마존처럼 회원제 서비스하는 IT기업들',\n",
       " \"막강 콘텐츠 파워 '1인 창작자 모시기' 나선 포털들\",\n",
       " \"스타트업 열풍에.. 사무실 나눠쓰는 '공유오피스' 급성장\",\n",
       " \"소니 'AI 택시' 사업 뛰어든다\",\n",
       " '“통신비 인하 필요없다” 태도 돌변한 이통사들',\n",
       " '갤럭시S9 예판 28일부터…3월9일 개통',\n",
       " '암호화폐 인기로 해킹공격도 급증',\n",
       " \"우주로 날아간 '로드스터' 어디에?…6월, 화성 접근\",\n",
       " '이탈리아, \"한국과 e스포츠 협력 필요\"…e스포츠와 스포츠 융합 가능성 커져',\n",
       " '화웨이 - 노키아 - 에릭슨 `3사`… `5G표준·효율성` 주도권 경쟁']"
      ]
     },
     "execution_count": 24,
     "metadata": {},
     "output_type": "execute_result"
    }
   ],
   "source": [
    "article_list"
   ]
  },
  {
   "cell_type": "code",
   "execution_count": null,
   "metadata": {},
   "outputs": [],
   "source": []
  },
  {
   "cell_type": "code",
   "execution_count": null,
   "metadata": {},
   "outputs": [],
   "source": []
  },
  {
   "cell_type": "code",
   "execution_count": null,
   "metadata": {},
   "outputs": [],
   "source": []
  },
  {
   "cell_type": "code",
   "execution_count": null,
   "metadata": {},
   "outputs": [],
   "source": []
  },
  {
   "cell_type": "code",
   "execution_count": null,
   "metadata": {},
   "outputs": [],
   "source": []
  },
  {
   "cell_type": "code",
   "execution_count": null,
   "metadata": {},
   "outputs": [],
   "source": []
  },
  {
   "cell_type": "code",
   "execution_count": null,
   "metadata": {},
   "outputs": [],
   "source": []
  },
  {
   "cell_type": "markdown",
   "metadata": {},
   "source": [
    "### Threading으로 하면 더 성능이 좋음"
   ]
  },
  {
   "cell_type": "code",
   "execution_count": 30,
   "metadata": {},
   "outputs": [],
   "source": [
    "# (ex)\n",
    "article_list=[]\n",
    "\n",
    "import threading\n",
    "\n",
    "for page in range(1, 9):\n",
    "    th = threading.Thread(target=get_article, args=(page,))   #args=(something,) 콤마는 규칙\n",
    "    th.start()"
   ]
  },
  {
   "cell_type": "code",
   "execution_count": 32,
   "metadata": {},
   "outputs": [
    {
     "data": {
      "text/plain": [
       "(146,\n",
       " [\"[르포]시속 150㎞ 봅슬레이를 '선수 1인칭 시점'으로 관람…KT 5G 서비스 체험해보니\",\n",
       "  'IT리더스포럼...\"AI, 스마트시티, 자율차 플랫폼 경쟁시대\"',\n",
       "  '‘서초구에 뜬 드론’…재난현장 실시간 포착 대응력 높인다',\n",
       "  'KT \"2020년 VR사업 1천억 매출…플랫폼 비즈니스 목표\"(일문일답)',\n",
       "  \"'보안(ISMS) 인증' 꿈쩍않는 대학…중심 못 잡는 정부\"])"
      ]
     },
     "execution_count": 32,
     "metadata": {},
     "output_type": "execute_result"
    }
   ],
   "source": [
    "len(article_list), article_list[:5]"
   ]
  },
  {
   "cell_type": "code",
   "execution_count": null,
   "metadata": {},
   "outputs": [],
   "source": []
  }
 ],
 "metadata": {
  "kernelspec": {
   "display_name": "Python 3",
   "language": "python",
   "name": "python3"
  },
  "language_info": {
   "codemirror_mode": {
    "name": "ipython",
    "version": 3
   },
   "file_extension": ".py",
   "mimetype": "text/x-python",
   "name": "python",
   "nbconvert_exporter": "python",
   "pygments_lexer": "ipython3",
   "version": "3.6.2"
  }
 },
 "nbformat": 4,
 "nbformat_minor": 2
}
