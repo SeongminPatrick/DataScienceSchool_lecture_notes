{
 "cells": [
  {
   "cell_type": "markdown",
   "metadata": {},
   "source": [
    "# Scrapy\n",
    "- https://scrapy.org/\n",
    "- scrapy 기본 구조\n",
    "- xpath\n",
    "- Scrapy Project\n",
    "- Scrapy Excute\n",
    "- Pipelines"
   ]
  },
  {
   "cell_type": "markdown",
   "metadata": {},
   "source": [
    "install scrapy\n",
    "- `$ pip3 install scrapy`\n",
    "- `conda install -c conda-forge scrapy `"
   ]
  },
  {
   "cell_type": "markdown",
   "metadata": {},
   "source": [
    "### scrapy 기본 구조\n",
    "\n",
    "- Spider\n",
    "    - 어떤 웹사이트들을 어떻게 크롤링할 것인지 명시하고, 각각의 웹 페이지의 어떤 부분을 스크래핑할 것인지 명시하는 클래스\n",
    "\n",
    "- Selector\n",
    "    - 웹 페이지상의 특정 HTML Element를 간편하게 선택할 수 있도록 하는 메커니즘을 구현한 클래스\n",
    "    - CSS Selector를 직접 사용하거나, XPath를 사용할 수 있음\n",
    "    - XPath를 사용하는것이 더 권장됨\n",
    "\n",
    "- items.py\n",
    "    - 웹페이지에서 원하는 부분을 스크랩하여 저장할 때 사용하는 사용자 정의 자료구조 클래스\n",
    "\n",
    "- pipeline.py\n",
    "    - 스크래핑 결과물을 Item 형태로 구성하였을 때, 이를 자유롭게 가공하거나 다양한 파일 형태로 저장할 수 있도록 하는 클래스 (getter와 setter의 개념)\n",
    "\n",
    "- settings.py\n",
    "    - Spider나 Item Pipeline 등이 어떻게 동작하도록 할 지에 대한 세부적인 설정 사항을 기재하는 파일 크롤링의 빈도등을 설정\n",
    "    - cf. robots.txt (settings.py - ROBOTSTXT_OBEY = True)"
   ]
  },
  {
   "cell_type": "markdown",
   "metadata": {},
   "source": [
    "### xpath\n",
    "- scrapy shell\n",
    "- `$ scrapy shell \"https://www.naver.com/\"`"
   ]
  },
  {
   "cell_type": "code",
   "execution_count": 3,
   "metadata": {},
   "outputs": [],
   "source": [
    "import requests\n",
    "from scrapy.http import TextResponse"
   ]
  },
  {
   "cell_type": "code",
   "execution_count": 4,
   "metadata": {},
   "outputs": [],
   "source": [
    "# 웹 페이지에 연결\n",
    "req = requests.get('https://www.naver.com/')\n",
    "\n",
    "# response 객체 생성\n",
    "response = TextResponse(req.url, body=req.text, encoding='utf-8')"
   ]
  },
  {
   "cell_type": "markdown",
   "metadata": {},
   "source": [
    "xpath를 이용하여 특정 selector 객체 가져옴\n",
    "- xpath : xpath 데이터\n",
    "- data : xpath에서 선택된 위치의 데이터"
   ]
  },
  {
   "cell_type": "markdown",
   "metadata": {},
   "source": [
    "- `//` : 가장 상위 Element\n",
    "- `.` : 현재 Element\n",
    "- `*` : 조건에 맞는 앞부분의 하위 Element를 모두 살펴봄 ( css selector에서 한칸 띄기와 같음 )\n",
    "- `/` : 바로 아래 요소 ( css selector에서 > 와 같음 )\n",
    "- `element[조건]`\n",
    "    - p[2] : p element의 두번째 element : index가 0이 아닌 1부터 시작\n",
    "    - [@(attribute key)=\"(attribute value)\"]\n",
    "    - [@id=\"email\"] : 아이디 값이 email인 element\n",
    "    - [@class=\"pw\"] : 클래스 값이 pw인 element\n",
    "- `not`\n",
    "    - not(조건) : 조건이 아닌 요소를 찾음"
   ]
  },
  {
   "cell_type": "code",
   "execution_count": 5,
   "metadata": {},
   "outputs": [
    {
     "data": {
      "text/plain": [
       "[<Selector xpath='//*[@id=\"PM_ID_ct\"]/div[1]/div[2]/div[2]/div[1]/div/ul/li[1]/a/span[2]' data='<span class=\"ah_k\">3000위안</span>'>]"
      ]
     },
     "execution_count": 5,
     "metadata": {},
     "output_type": "execute_result"
    }
   ],
   "source": [
    "response.xpath('//*[@id=\"PM_ID_ct\"]/div[1]/div[2]/div[2]/div[1]/div/ul/li[1]/a/span[2]')"
   ]
  },
  {
   "cell_type": "code",
   "execution_count": 6,
   "metadata": {},
   "outputs": [
    {
     "data": {
      "text/plain": [
       "[<Selector xpath='//*[@id=\"PM_ID_ct\"]/div[1]/div[2]/div[2]/div[1]/div/ul/li[1]/a/span[2]/text()' data='3000위안'>]"
      ]
     },
     "execution_count": 6,
     "metadata": {},
     "output_type": "execute_result"
    }
   ],
   "source": [
    "# text\n",
    "# xpath 가장 뒤에 text() 함수를 작성\n",
    "response.xpath('//*[@id=\"PM_ID_ct\"]/div[1]/div[2]/div[2]/div[1]/div/ul/li[1]/a/span[2]/text()')"
   ]
  },
  {
   "cell_type": "code",
   "execution_count": 7,
   "metadata": {},
   "outputs": [
    {
     "data": {
      "text/plain": [
       "['3000위안']"
      ]
     },
     "execution_count": 7,
     "metadata": {},
     "output_type": "execute_result"
    }
   ],
   "source": [
    "# extract\n",
    "# xpath로 select된 element의 데이터를 문자열 리스트로 가져옴\n",
    "response.xpath('//*[@id=\"PM_ID_ct\"]/div[1]/div[2]/div[2]/div[1]/div/ul/li[1]/a/span[2]/text()').extract()"
   ]
  },
  {
   "cell_type": "markdown",
   "metadata": {},
   "source": [
    "##### 여러개 selecte 해서 데이터 가져오기\n",
    "- 네이버 실시간 키워드"
   ]
  },
  {
   "cell_type": "code",
   "execution_count": 8,
   "metadata": {},
   "outputs": [
    {
     "data": {
      "text/plain": [
       "20"
      ]
     },
     "execution_count": 8,
     "metadata": {},
     "output_type": "execute_result"
    }
   ],
   "source": [
    "naver_keywords = response.xpath('//*[@id=\"PM_ID_ct\"]/div[1]/div[2]/div[2]/div[1]/div/ul/li')\n",
    "len(naver_keywords)"
   ]
  },
  {
   "cell_type": "code",
   "execution_count": 9,
   "metadata": {},
   "outputs": [
    {
     "data": {
      "text/plain": [
       "['1', '2', '3', '4', '5', '6', '7', '8', '9', '10']"
      ]
     },
     "execution_count": 9,
     "metadata": {},
     "output_type": "execute_result"
    }
   ],
   "source": [
    "naver_rank = naver_keywords.xpath('./a/span[1]/text()').extract()[:10]\n",
    "naver_rank"
   ]
  },
  {
   "cell_type": "code",
   "execution_count": 10,
   "metadata": {},
   "outputs": [
    {
     "data": {
      "text/plain": [
       "['3000위안',\n",
       " '김사니',\n",
       " '노로바이러스',\n",
       " '김연경',\n",
       " '로맨스 패키지',\n",
       " '데드풀',\n",
       " '환율계산기',\n",
       " '이기흥',\n",
       " '윤성빈',\n",
       " '박영선']"
      ]
     },
     "execution_count": 10,
     "metadata": {},
     "output_type": "execute_result"
    }
   ],
   "source": [
    "naver_keywords_list = naver_keywords.xpath('./a/span[2]/text()').extract()[:10]\n",
    "naver_keywords_list"
   ]
  },
  {
   "cell_type": "markdown",
   "metadata": {},
   "source": [
    "### Scrapy Project\n",
    "- g마켓 베스트 셀러 상품, 상품평\n",
    "- http://corners.gmarket.co.kr/Bestsellers"
   ]
  },
  {
   "cell_type": "markdown",
   "metadata": {},
   "source": [
    "- $ scrapy startproject crawler"
   ]
  },
  {
   "cell_type": "markdown",
   "metadata": {},
   "source": [
    "```\n",
    ".\n",
    "├── gb_crawler\n",
    "│   ├── __init__.py\n",
    "│   ├── __pycache__\n",
    "│   ├── items.py     (크롤링 한 요소들을 정의)\n",
    "│   ├── middlewares.py\n",
    "│   ├── pipelines.py (수정)\n",
    "│   ├── settings.py  (pipeline 쓰겠다. 하는 설정)\n",
    "│   └── spiders (크롤링 할 때 어디 가서 뭐 가져오고 하는 코드 생성)\n",
    "│       ├── __init__.py\n",
    "│       └── __pycache__\n",
    "└── scrapy.cfg\n",
    "```"
   ]
  },
  {
   "cell_type": "code",
   "execution_count": 11,
   "metadata": {},
   "outputs": [
    {
     "data": {
      "text/plain": [
       "200"
      ]
     },
     "execution_count": 11,
     "metadata": {},
     "output_type": "execute_result"
    }
   ],
   "source": [
    "req = requests.get('http://corners.gmarket.co.kr/Bestsellers')\n",
    "response = TextResponse(req.url, body=req.text, encoding='utf-8')\n",
    "bestsellers = response.xpath('//*[@id=\"gBestWrap\"]/div/div[3]/div[2]/ul/li')\n",
    "len(bestsellers)"
   ]
  },
  {
   "cell_type": "code",
   "execution_count": 12,
   "metadata": {},
   "outputs": [
    {
     "data": {
      "text/plain": [
       "(200, '{니트모아} 전체균일가 니트가디건/프리미엄세일')"
      ]
     },
     "execution_count": 12,
     "metadata": {},
     "output_type": "execute_result"
    }
   ],
   "source": [
    "# titles\n",
    "titles = bestsellers.xpath('./a/text()').extract()\n",
    "len(titles), titles[0]"
   ]
  },
  {
   "cell_type": "code",
   "execution_count": 13,
   "metadata": {},
   "outputs": [
    {
     "data": {
      "text/plain": [
       "(200,\n",
       " 'http://item2.gmarket.co.kr/Item/DetailView/Item.aspx?goodscode=576446971')"
      ]
     },
     "execution_count": 13,
     "metadata": {},
     "output_type": "execute_result"
    }
   ],
   "source": [
    "# links\n",
    "# links가 path로 되어 있을때, 전체 URL을 얻으려면 response.urljoin(path)로 실행\n",
    "links = bestsellers.xpath('./a/@href').extract()\n",
    "len(links), links[0]"
   ]
  },
  {
   "cell_type": "code",
   "execution_count": 14,
   "metadata": {},
   "outputs": [
    {
     "name": "stdout",
     "output_type": "stream",
     "text": [
      "['http://item2.gmarket.co.kr/Item/DetailView/Item.aspx?goodscode=576446971']\n",
      "['http://item2.gmarket.co.kr/Item/DetailView/Item.aspx?goodscode=906111367']\n",
      "['http://item2.gmarket.co.kr/Item/DetailView/Item.aspx?goodscode=1199872616']\n",
      "['http://item2.gmarket.co.kr/Item/DetailView/Item.aspx?goodscode=1131170115']\n",
      "['http://item2.gmarket.co.kr/Item/DetailView/Item.aspx?goodscode=425960034']\n"
     ]
    }
   ],
   "source": [
    "bestsellers = response.xpath('//*[@id=\"gBestWrap\"]/div/div[3]/div[2]/ul/li')[:5]\n",
    "for bestseller in bestsellers:\n",
    "    link = bestseller.xpath('./a/@href').extract()\n",
    "    print(link) "
   ]
  },
  {
   "cell_type": "markdown",
   "metadata": {},
   "source": [
    "세부 페이지 크롤링"
   ]
  },
  {
   "cell_type": "code",
   "execution_count": 15,
   "metadata": {},
   "outputs": [],
   "source": [
    "req = requests.get('http://item.gmarket.co.kr/Item?goodscode=1131170115')\n",
    "response = TextResponse(req.url, body=req.text, encoding='utf-8')"
   ]
  },
  {
   "cell_type": "code",
   "execution_count": 16,
   "metadata": {},
   "outputs": [
    {
     "data": {
      "text/plain": [
       "'[라크로스] 강경준의 겨울 패딩조끼/패딩점퍼/남녀공용/빅사이즈'"
      ]
     },
     "execution_count": 16,
     "metadata": {},
     "output_type": "execute_result"
    }
   ],
   "source": [
    "title = response.xpath('//*[@id=\"itemcase_basic\"]/h1/text()')[0].extract().strip()\n",
    "title"
   ]
  },
  {
   "cell_type": "code",
   "execution_count": 17,
   "metadata": {},
   "outputs": [
    {
     "data": {
      "text/plain": [
       "'13900'"
      ]
     },
     "execution_count": 17,
     "metadata": {},
     "output_type": "execute_result"
    }
   ],
   "source": [
    "s_price = response.xpath('//*[@id=\"itemcase_basic\"]/p/span/strong/text()')[0].extract().replace(\",\",\"\")\n",
    "s_price"
   ]
  },
  {
   "cell_type": "code",
   "execution_count": 18,
   "metadata": {},
   "outputs": [
    {
     "data": {
      "text/plain": [
       "'44900'"
      ]
     },
     "execution_count": 18,
     "metadata": {},
     "output_type": "execute_result"
    }
   ],
   "source": [
    "o_price = response.xpath('//*[@id=\"itemcase_basic\"]/p/span/span/text()')[0].extract().replace(\",\",\"\")\n",
    "o_price"
   ]
  },
  {
   "cell_type": "code",
   "execution_count": 19,
   "metadata": {},
   "outputs": [
    {
     "data": {
      "text/plain": [
       "'69.04%'"
      ]
     },
     "execution_count": 19,
     "metadata": {},
     "output_type": "execute_result"
    }
   ],
   "source": [
    "discount_rate = str(round((1 - int(s_price) / int(o_price)) * 100, 2)) + \"%\"\n",
    "discount_rate"
   ]
  },
  {
   "cell_type": "markdown",
   "metadata": {},
   "source": [
    "### Scrapy Excute\n",
    "- `$ scrapy crawl GmarketBestsellers`\n",
    "- 결과를 csv 파일로 저장\n",
    "    - `$ scrapy crawl GmarketBestsellers -o GmarketBestsellers.csv`\n",
    "    - 한꺼번에 페이지를 로드해서 가져옴으로 저장되는 순서가 일정하지 않음\n",
    "    - 컬럼 데이터도 순서가 뒤죽박죽"
   ]
  },
  {
   "cell_type": "markdown",
   "metadata": {},
   "source": [
    "### Pipelines\n",
    "- 결과를 깔끔하게 정리해서 저장\n",
    "- spider의 items 데이터가 pipelines에 정의된 대로 저장\n",
    "- pipelines.py 파일에 코드 추가\n",
    "- pipeline을 사용하고 싶다면 setting.py에서 아이템 파이프라인 활성화\n",
    "\n",
    "```\n",
    "import csv\n",
    "\n",
    "class GbCrawlerPipeline(object):\n",
    "\n",
    "    def __init__(self):\n",
    "        self.csvwriter = csv.writer(open(\"GmarketBestsellers.csv\", \"w\"))\n",
    "        self.csvwriter.writerow([\"title\",\"o_price\",\"s_price\",\"discount_rate\"])\n",
    "\n",
    "    def process_item(self, item, spider):\n",
    "        row = []\n",
    "        row.append(item[\"title\"])\n",
    "        row.append(item[\"o_price\"])\n",
    "        row.append(item[\"s_price\"])\n",
    "        row.append(item[\"discount_rate\"])\n",
    "        self.csvwriter.writerow(row)\n",
    "        return item\n",
    "```\n",
    "\n",
    "- settings.py 에 아래 코드 추가\n",
    "\n",
    "```\n",
    "ITEM_PIPELINES = {\n",
    "   'gb_crawler.pipelines.GbCrawlerPipeline': 300,\n",
    "}\n",
    "```"
   ]
  },
  {
   "cell_type": "code",
   "execution_count": null,
   "metadata": {},
   "outputs": [],
   "source": []
  }
 ],
 "metadata": {
  "kernelspec": {
   "display_name": "Python 3",
   "language": "python",
   "name": "python3"
  },
  "language_info": {
   "codemirror_mode": {
    "name": "ipython",
    "version": 3
   },
   "file_extension": ".py",
   "mimetype": "text/x-python",
   "name": "python",
   "nbconvert_exporter": "python",
   "pygments_lexer": "ipython3",
   "version": "3.6.2"
  }
 },
 "nbformat": 4,
 "nbformat_minor": 2
}
