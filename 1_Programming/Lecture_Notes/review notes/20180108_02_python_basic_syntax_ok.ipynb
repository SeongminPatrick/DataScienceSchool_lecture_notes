{
 "cells": [
  {
   "cell_type": "markdown",
   "metadata": {},
   "source": [
    "# Basic Syntax"
   ]
  },
  {
   "cell_type": "markdown",
   "metadata": {},
   "source": [
    "- identifiers\n",
    "- variables\n",
    "- data type\n",
    "- data type conversion\n",
    "- operation"
   ]
  },
  {
   "cell_type": "markdown",
   "metadata": {},
   "source": [
    "### 1. identifiers"
   ]
  },
  {
   "cell_type": "markdown",
   "metadata": {},
   "source": [
    "- Assigned name to distinguish variables, functions, class, modules\n",
    "- rules\n",
    "    - lower, capital letters\n",
    "    - a~z, A~Z, 0~9 and only underscore (_)\n",
    "    - not allowed : other types of letters\n",
    "    - not allowed : starting with number\n",
    "    - not allowed : *Fasle, class, finally, is, return, None, continue, for, lambda, try, True, def, from, nonlocal, while, and, del, global, not, with, as, elif, if, or, yield, assert, else, import, pass, break, except, in, raise*"
   ]
  },
  {
   "cell_type": "markdown",
   "metadata": {},
   "source": [
    "### 2. variables\n",
    "- A memory space for saving data\n",
    "- 3 types of naming rules\n",
    "    - snake_case (normally used for variables)\n",
    "    - PascalCase\n",
    "    - camelCase"
   ]
  },
  {
   "cell_type": "markdown",
   "metadata": {},
   "source": [
    "### 3. data type\n",
    "\n",
    "- numbers\n",
    "    - int\n",
    "    - flot\n",
    "    - complex\n",
    "- boolean\n",
    "    - True / False\n",
    "- string\n",
    "    - array of words (number can also be displayed as word, not an int)"
   ]
  },
  {
   "cell_type": "markdown",
   "metadata": {},
   "source": [
    "#### collections\n",
    "- list\n",
    "    - list of data with order\n",
    "- tuple\n",
    "    - list of data with order but cannot be revised (takes up less memory size)\n",
    "- dictionary\n",
    "    - data type links key & value\n",
    "- set\n",
    "    - data type with no order, but no overlapping value"
   ]
  },
  {
   "cell_type": "markdown",
   "metadata": {},
   "source": [
    "**int**"
   ]
  },
  {
   "cell_type": "code",
   "execution_count": 9,
   "metadata": {},
   "outputs": [
    {
     "name": "stdout",
     "output_type": "stream",
     "text": [
      "<class 'float'> <class 'float'> <class 'float'> <class 'float'>\n",
      "0.0 998.3223 -188723.1233 29993.111\n"
     ]
    }
   ],
   "source": [
    "\n",
    "a, b, c, d = 0.0, 998.3223, -188723.1233, +29993.111\n",
    "print(type(a),type(b),type(c),type(d))\n",
    "print(a, b, c, d)"
   ]
  },
  {
   "cell_type": "code",
   "execution_count": 10,
   "metadata": {},
   "outputs": [
    {
     "name": "stdout",
     "output_type": "stream",
     "text": [
      "<class 'float'> <class 'float'> <class 'float'> <class 'float'>\n",
      "0.0 998.3223 -188723.1233 29993.111\n"
     ]
    }
   ],
   "source": [
    "# float\n",
    "\n",
    "a, b, c, d = 0.0, 998.3223, -188723.1233, +29993.111\n",
    "print(type(a),type(b),type(c),type(d))\n",
    "print(a, b, c, d)"
   ]
  },
  {
   "cell_type": "code",
   "execution_count": 11,
   "metadata": {},
   "outputs": [
    {
     "name": "stdout",
     "output_type": "stream",
     "text": [
      "(2+3j)\n",
      "(3-4j)\n",
      "<class 'complex'> <class 'complex'>\n"
     ]
    }
   ],
   "source": [
    "# complex number\n",
    "\n",
    "a = 2 + 3j\n",
    "print(a)\n",
    "b = complex(3, -4)\n",
    "print(b)\n",
    "print(type(a), type(b))"
   ]
  },
  {
   "cell_type": "code",
   "execution_count": 12,
   "metadata": {},
   "outputs": [
    {
     "name": "stdout",
     "output_type": "stream",
     "text": [
      "<class 'bool'> <class 'bool'>\n",
      "True False\n"
     ]
    }
   ],
   "source": [
    "# boolean\n",
    "\n",
    "a, b = True, False\n",
    "print(type(a), type(b))\n",
    "print(a, b)"
   ]
  },
  {
   "cell_type": "markdown",
   "metadata": {},
   "source": [
    "**string**"
   ]
  },
  {
   "cell_type": "code",
   "execution_count": 13,
   "metadata": {},
   "outputs": [
    {
     "name": "stdout",
     "output_type": "stream",
     "text": [
      "<class 'str'> <class 'str'> <class 'str'> <class 'str'>\n"
     ]
    },
    {
     "data": {
      "text/plain": [
       "('FastCampus', '데이터사이언스', '데이터\"Science', \"데이터'Science\")"
      ]
     },
     "execution_count": 13,
     "metadata": {},
     "output_type": "execute_result"
    }
   ],
   "source": [
    "a, b, c, d = \"FastCampus\", \"데이터사이언스\", '데이터\"Science', \"데이터'Science\"\n",
    "print(type(a), type(b), type(c), type(d))\n",
    "a, b, c, d"
   ]
  },
  {
   "cell_type": "code",
   "execution_count": 14,
   "metadata": {},
   "outputs": [
    {
     "data": {
      "text/plain": [
       "'Fast Fast Fast Fast '"
      ]
     },
     "execution_count": 14,
     "metadata": {},
     "output_type": "execute_result"
    }
   ],
   "source": [
    "# copying string\n",
    "\n",
    "a = \"Fast \" * 4\n",
    "a"
   ]
  },
  {
   "cell_type": "code",
   "execution_count": 15,
   "metadata": {},
   "outputs": [
    {
     "data": {
      "text/plain": [
       "('bc', 'abcde', 'ijk', 'acegik')"
      ]
     },
     "execution_count": 15,
     "metadata": {},
     "output_type": "execute_result"
    }
   ],
   "source": [
    "# slice\n",
    "# str[start:end:step]\n",
    "a = \"abcdefghijk\"\n",
    "a[1:3], a[0:5], a[-3:], a[::2]"
   ]
  },
  {
   "cell_type": "code",
   "execution_count": 17,
   "metadata": {},
   "outputs": [
    {
     "data": {
      "text/plain": [
       "'kjihgfedcba'"
      ]
     },
     "execution_count": 17,
     "metadata": {},
     "output_type": "execute_result"
    }
   ],
   "source": [
    "a = \"abcdefghijk\"\n",
    "a[::-1]\n",
    "\n",
    "# rearranging backward"
   ]
  },
  {
   "cell_type": "code",
   "execution_count": 18,
   "metadata": {},
   "outputs": [
    {
     "data": {
      "text/plain": [
       "11"
      ]
     },
     "execution_count": 18,
     "metadata": {},
     "output_type": "execute_result"
    }
   ],
   "source": [
    "# length\n",
    "\n",
    "a = \"abcdefghijk\"\n",
    "len(a)"
   ]
  },
  {
   "cell_type": "code",
   "execution_count": 19,
   "metadata": {},
   "outputs": [
    {
     "data": {
      "text/plain": [
       "('abcdefghijk', 'abcdefghijk')"
      ]
     },
     "execution_count": 19,
     "metadata": {},
     "output_type": "execute_result"
    }
   ],
   "source": [
    "a = \"abcdefghijk\"\n",
    "a[:len(a)], a[:]"
   ]
  },
  {
   "cell_type": "markdown",
   "metadata": {},
   "source": [
    "string inner function\n",
    "- https://docs.python.org/3/library/stdtypes.html#string-methods"
   ]
  },
  {
   "cell_type": "code",
   "execution_count": 20,
   "metadata": {},
   "outputs": [
    {
     "name": "stdout",
     "output_type": "stream",
     "text": [
      "  FAST CAMPUS DATASCIENCE  \n",
      "  fast campus datascience  \n"
     ]
    }
   ],
   "source": [
    "a = \"  FAST campus datascience  \"\n",
    "\n",
    "# upper() - upper case\n",
    "print(a.upper())\n",
    "\n",
    "# lower() - lower case\n",
    "print(a.lower())"
   ]
  },
  {
   "cell_type": "code",
   "execution_count": 24,
   "metadata": {},
   "outputs": [
    {
     "name": "stdout",
     "output_type": "stream",
     "text": [
      "7\n",
      "-1\n",
      "7\n"
     ]
    },
    {
     "ename": "ValueError",
     "evalue": "substring not found",
     "output_type": "error",
     "traceback": [
      "\u001b[0;31m---------------------------------------------------------------------------\u001b[0m",
      "\u001b[0;31mValueError\u001b[0m                                Traceback (most recent call last)",
      "\u001b[0;32m<ipython-input-24-2cdbea22e4e5>\u001b[0m in \u001b[0;36m<module>\u001b[0;34m()\u001b[0m\n\u001b[1;32m      7\u001b[0m \u001b[0;31m# (if non, return value error 리턴)\u001b[0m\u001b[0;34m\u001b[0m\u001b[0;34m\u001b[0m\u001b[0m\n\u001b[1;32m      8\u001b[0m \u001b[0mprint\u001b[0m\u001b[0;34m(\u001b[0m\u001b[0ma\u001b[0m\u001b[0;34m.\u001b[0m\u001b[0mindex\u001b[0m\u001b[0;34m(\u001b[0m\u001b[0;34m\"c\"\u001b[0m\u001b[0;34m)\u001b[0m\u001b[0;34m)\u001b[0m\u001b[0;34m\u001b[0m\u001b[0m\n\u001b[0;32m----> 9\u001b[0;31m \u001b[0mprint\u001b[0m\u001b[0;34m(\u001b[0m\u001b[0ma\u001b[0m\u001b[0;34m.\u001b[0m\u001b[0mindex\u001b[0m\u001b[0;34m(\u001b[0m\u001b[0;34m\"q\"\u001b[0m\u001b[0;34m)\u001b[0m\u001b[0;34m)\u001b[0m\u001b[0;34m\u001b[0m\u001b[0m\n\u001b[0m",
      "\u001b[0;31mValueError\u001b[0m: substring not found"
     ]
    }
   ],
   "source": [
    "# find() - return the location of the value \n",
    "# (if none, return -1)\n",
    "print(a.find(\"c\"))\n",
    "print(a.find(\"q\"))\n",
    "\n",
    "# index() - return the location of the value \n",
    "# (if non, return value error 리턴)\n",
    "print(a.index(\"c\"))\n",
    "print(a.index(\"q\"))"
   ]
  },
  {
   "cell_type": "code",
   "execution_count": 25,
   "metadata": {},
   "outputs": [
    {
     "name": "stdout",
     "output_type": "stream",
     "text": [
      "1\n"
     ]
    }
   ],
   "source": [
    "# count() - return the quantity of the values\n",
    "print(a.count(\"da\"))"
   ]
  },
  {
   "cell_type": "code",
   "execution_count": 26,
   "metadata": {},
   "outputs": [
    {
     "name": "stdout",
     "output_type": "stream",
     "text": [
      "FAST campus datascience  !\n",
      "  FAST campus datascience!\n",
      "FAST campus datascience!\n"
     ]
    }
   ],
   "source": [
    "# lstrip() - remove left blank space\n",
    "print(a.lstrip(), end=\"!\\n\")\n",
    "\n",
    "# rstrip() - remove right blank space\n",
    "print(a.rstrip(), end=\"!\\n\")\n",
    "\n",
    "# strip() - remove both side blank space\n",
    "print(a.strip(), end=\"!\\n\")"
   ]
  },
  {
   "cell_type": "code",
   "execution_count": 27,
   "metadata": {},
   "outputs": [
    {
     "name": "stdout",
     "output_type": "stream",
     "text": [
      "  FAST cbmpus dbtbscience  \n"
     ]
    }
   ],
   "source": [
    "# replace() - replace a with b\n",
    "print(a.replace(\"a\",\"b\"))"
   ]
  },
  {
   "cell_type": "code",
   "execution_count": 28,
   "metadata": {},
   "outputs": [
    {
     "name": "stdout",
     "output_type": "stream",
     "text": [
      "['', '', 'FAST', 'campus', 'datascience', '', '']\n"
     ]
    }
   ],
   "source": [
    "# split() - split the value with given string and return as list\n",
    "print(a.split(\" \"))"
   ]
  },
  {
   "cell_type": "code",
   "execution_count": 29,
   "metadata": {},
   "outputs": [
    {
     "name": "stdout",
     "output_type": "stream",
     "text": [
      "True\n"
     ]
    }
   ],
   "source": [
    "# endswith() - return true if last strings are identical\n",
    "print(a.rstrip().endswith(\"datascience\"))"
   ]
  },
  {
   "cell_type": "code",
   "execution_count": 30,
   "metadata": {},
   "outputs": [
    {
     "name": "stdout",
     "output_type": "stream",
     "text": [
      "fast-campus-data-science\n"
     ]
    }
   ],
   "source": [
    "# join() - add all strings\n",
    "a = [\"fast\", \"campus\", \"data\", \"science\"]\n",
    "print(\"-\".join(a))"
   ]
  },
  {
   "cell_type": "markdown",
   "metadata": {},
   "source": [
    "**list**"
   ]
  },
  {
   "cell_type": "code",
   "execution_count": 31,
   "metadata": {},
   "outputs": [
    {
     "name": "stdout",
     "output_type": "stream",
     "text": [
      "<class 'list'> <class 'list'> <class 'list'>\n"
     ]
    },
    {
     "data": {
      "text/plain": [
       "(['fast', 'campus', 'data', 'science'], [1, 2, 3, 4], [1, 'fast', True])"
      ]
     },
     "execution_count": 31,
     "metadata": {},
     "output_type": "execute_result"
    }
   ],
   "source": [
    "a = [\"fast\", \"campus\", \"data\", \"science\"]\n",
    "b = [1,2,3,4]\n",
    "c = [1, \"fast\", True]\n",
    "print(type(a), type(b), type(c))\n",
    "a, b, c"
   ]
  },
  {
   "cell_type": "code",
   "execution_count": 32,
   "metadata": {},
   "outputs": [
    {
     "name": "stdout",
     "output_type": "stream",
     "text": [
      "campus science ['campus', 'data'] ['fast', 'campus', 'data', 'science'] ['science', 'campus']\n"
     ]
    },
    {
     "data": {
      "text/plain": [
       "['fast', 'campus', 'pdj', 'science']"
      ]
     },
     "execution_count": 32,
     "metadata": {},
     "output_type": "execute_result"
    }
   ],
   "source": [
    "# offset\n",
    "a = [\"fast\", \"campus\", \"data\", \"science\"]\n",
    "print(a[1], a[-1], a[1:3], a[:], a[::-2])\n",
    "a[-2] = \"pdj\"\n",
    "a"
   ]
  },
  {
   "cell_type": "markdown",
   "metadata": {},
   "source": [
    "list inner function"
   ]
  },
  {
   "cell_type": "code",
   "execution_count": 34,
   "metadata": {},
   "outputs": [],
   "source": [
    "a = [\"fast\", \"campus\", \"data\", \"science\"]\n",
    "b = [1,2,3,4]"
   ]
  },
  {
   "cell_type": "code",
   "execution_count": 35,
   "metadata": {},
   "outputs": [
    {
     "name": "stdout",
     "output_type": "stream",
     "text": [
      "['fast', 'campus', 'data', 'science', 'fighting!']\n"
     ]
    }
   ],
   "source": [
    "# append() - add string to the last list\n",
    "a.append(\"fighting!\")\n",
    "print(a)"
   ]
  },
  {
   "cell_type": "code",
   "execution_count": 36,
   "metadata": {},
   "outputs": [
    {
     "name": "stdout",
     "output_type": "stream",
     "text": [
      "['fast', 'data', 'campus', 'science', 'fighting!']\n",
      "[1, 2, 3, 4]\n"
     ]
    }
   ],
   "source": [
    "# sort() - sorting\n",
    "b.sort() # in alphabetical ordrer\n",
    "a.sort(key=len) # in length of words\n",
    "print(a)\n",
    "print(b)"
   ]
  },
  {
   "cell_type": "code",
   "execution_count": 37,
   "metadata": {},
   "outputs": [
    {
     "name": "stdout",
     "output_type": "stream",
     "text": [
      "[4, 3, 2, 1]\n"
     ]
    }
   ],
   "source": [
    "# reverse() - reverse sorting\n",
    "b.reverse()\n",
    "print(b)"
   ]
  },
  {
   "cell_type": "code",
   "execution_count": 38,
   "metadata": {},
   "outputs": [
    {
     "name": "stdout",
     "output_type": "stream",
     "text": [
      "2\n"
     ]
    }
   ],
   "source": [
    "# index() - return location of data\n",
    "print(a.index('campus'))"
   ]
  },
  {
   "cell_type": "code",
   "execution_count": 39,
   "metadata": {},
   "outputs": [
    {
     "name": "stdout",
     "output_type": "stream",
     "text": [
      "['fast', 'data', 'index', 'campus', 'science', 'index', 'fighting!']\n"
     ]
    }
   ],
   "source": [
    "# insert() - add to certain index location\n",
    "a.insert(2, 'index')\n",
    "a.insert(5, 'index')\n",
    "print(a)"
   ]
  },
  {
   "cell_type": "code",
   "execution_count": 40,
   "metadata": {},
   "outputs": [
    {
     "name": "stdout",
     "output_type": "stream",
     "text": [
      "['fast', 'data', 'campus', 'science', 'index', 'fighting!']\n"
     ]
    }
   ],
   "source": [
    "# remove() - remove corresponding dat(but only one)\n",
    "a.remove('index')\n",
    "print(a)"
   ]
  },
  {
   "cell_type": "code",
   "execution_count": 41,
   "metadata": {},
   "outputs": [
    {
     "name": "stdout",
     "output_type": "stream",
     "text": [
      "fighting!\n",
      "['fast', 'data', 'campus', 'science', 'index']\n"
     ]
    }
   ],
   "source": [
    "# pop() - return the last value and remove it\n",
    "print(a.pop())\n",
    "print(a)"
   ]
  },
  {
   "cell_type": "code",
   "execution_count": 42,
   "metadata": {},
   "outputs": [
    {
     "name": "stdout",
     "output_type": "stream",
     "text": [
      "[1, 2, 3] [1, 2, 3]\n",
      "[1, 2, 4] [1, 2, 4]\n",
      "[1, 2, 4] [1, 2, 4]\n",
      "[1, 2, 5] [1, 2, 4]\n"
     ]
    }
   ],
   "source": [
    "# list copy\n",
    "\n",
    "# a, b shares the same memory\n",
    "a = [1,2,3]\n",
    "b = a\n",
    "print(a, b)\n",
    "\n",
    "a[2] = 4\n",
    "print(a, b)\n",
    "\n",
    "# a, c shares separete memory, thus not affected by a\n",
    "c = a.copy()\n",
    "print(a,c)\n",
    "\n",
    "a[2] = 5\n",
    "print(a,c)"
   ]
  },
  {
   "cell_type": "markdown",
   "metadata": {},
   "source": [
    "**tuple**"
   ]
  },
  {
   "cell_type": "code",
   "execution_count": 43,
   "metadata": {},
   "outputs": [
    {
     "name": "stdout",
     "output_type": "stream",
     "text": [
      "<class 'tuple'> <class 'tuple'> <class 'tuple'> <class 'tuple'>\n",
      "(1, 2, 3, 4) ('fast', 'campus', 'data', 'science') (1, 'fast', True) (1, 'fast', True)\n"
     ]
    }
   ],
   "source": [
    "a = 1, 2, 3, 4\n",
    "b = \"fast\", \"campus\", \"data\", \"science\"\n",
    "c = 1, \"fast\", True\n",
    "d = (1, \"fast\", True)\n",
    "print(type(a), type(b), type(c), type(d))\n",
    "print(a, b, c, d)"
   ]
  },
  {
   "cell_type": "code",
   "execution_count": 45,
   "metadata": {},
   "outputs": [
    {
     "name": "stdout",
     "output_type": "stream",
     "text": [
      "3\n",
      "(2, 3)\n"
     ]
    }
   ],
   "source": [
    "print(a[2])\n",
    "print(a[1:3])"
   ]
  },
  {
   "cell_type": "code",
   "execution_count": 46,
   "metadata": {},
   "outputs": [
    {
     "ename": "TypeError",
     "evalue": "'tuple' object does not support item assignment",
     "output_type": "error",
     "traceback": [
      "\u001b[0;31m---------------------------------------------------------------------------\u001b[0m",
      "\u001b[0;31mTypeError\u001b[0m                                 Traceback (most recent call last)",
      "\u001b[0;32m<ipython-input-46-94a9e8b8ba38>\u001b[0m in \u001b[0;36m<module>\u001b[0;34m()\u001b[0m\n\u001b[1;32m      1\u001b[0m \u001b[0;31m# cannot modify\u001b[0m\u001b[0;34m\u001b[0m\u001b[0;34m\u001b[0m\u001b[0m\n\u001b[0;32m----> 2\u001b[0;31m \u001b[0ma\u001b[0m\u001b[0;34m[\u001b[0m\u001b[0;36m1\u001b[0m\u001b[0;34m]\u001b[0m \u001b[0;34m=\u001b[0m \u001b[0;36m3\u001b[0m\u001b[0;34m\u001b[0m\u001b[0m\n\u001b[0m",
      "\u001b[0;31mTypeError\u001b[0m: 'tuple' object does not support item assignment"
     ]
    }
   ],
   "source": [
    "# cannot modify\n",
    "a[1] = 3"
   ]
  },
  {
   "cell_type": "markdown",
   "metadata": {},
   "source": [
    "What are the advantages of tupel?\n",
    "- takes up less memory space than list\n",
    "- impossible to motify the data (useful when keeping the data\n",
    "- can be used ass dictionary keys"
   ]
  },
  {
   "cell_type": "markdown",
   "metadata": {},
   "source": [
    "**Dictionary**"
   ]
  },
  {
   "cell_type": "code",
   "execution_count": 47,
   "metadata": {},
   "outputs": [
    {
     "name": "stdout",
     "output_type": "stream",
     "text": [
      "<class 'dict'>\n",
      "{1: 'one', 'A': ['data', 'science'], '숫자': 1234}\n"
     ]
    }
   ],
   "source": [
    "dic = { \n",
    "    1:\"one\",\n",
    "    \"A\": [\"data\", \"science\"],\n",
    "    \"숫자\": 1234,\n",
    "    }\n",
    "print(type(dic))\n",
    "print(dic)"
   ]
  },
  {
   "cell_type": "code",
   "execution_count": 48,
   "metadata": {},
   "outputs": [
    {
     "data": {
      "text/plain": [
       "{1: '하나', 'A': '알파벳', '숫자': 1234}"
      ]
     },
     "execution_count": 48,
     "metadata": {},
     "output_type": "execute_result"
    }
   ],
   "source": [
    "dic[1] = \"하나\"\n",
    "dic[\"A\"] = \"알파벳\"\n",
    "dic"
   ]
  },
  {
   "cell_type": "markdown",
   "metadata": {},
   "source": [
    "dictionary inner functions"
   ]
  },
  {
   "cell_type": "code",
   "execution_count": 49,
   "metadata": {},
   "outputs": [
    {
     "name": "stdout",
     "output_type": "stream",
     "text": [
      "dict_keys([1, 'A', '숫자'])\n"
     ]
    }
   ],
   "source": [
    "# keys() - return keys\n",
    "print(dic.keys())"
   ]
  },
  {
   "cell_type": "code",
   "execution_count": 50,
   "metadata": {},
   "outputs": [
    {
     "name": "stdout",
     "output_type": "stream",
     "text": [
      "dict_values(['하나', '알파벳', 1234])\n"
     ]
    }
   ],
   "source": [
    "# values() - return values\n",
    "print(dic.values())"
   ]
  },
  {
   "cell_type": "code",
   "execution_count": 51,
   "metadata": {},
   "outputs": [
    {
     "name": "stdout",
     "output_type": "stream",
     "text": [
      "dict_items([(1, '하나'), ('A', '알파벳'), ('숫자', 1234)])\n"
     ]
    }
   ],
   "source": [
    "# items() - returns keys and values\n",
    "print(dic.items())"
   ]
  },
  {
   "cell_type": "code",
   "execution_count": 52,
   "metadata": {},
   "outputs": [
    {
     "name": "stdout",
     "output_type": "stream",
     "text": [
      "{}\n"
     ]
    }
   ],
   "source": [
    "# clear() - clear all data in dictionary\n",
    "dic.clear()\n",
    "print(dic)"
   ]
  },
  {
   "cell_type": "code",
   "execution_count": 54,
   "metadata": {},
   "outputs": [
    {
     "name": "stdout",
     "output_type": "stream",
     "text": [
      "two\n",
      "None\n"
     ]
    }
   ],
   "source": [
    "# get() - return the corresponding value\n",
    "dic = { \n",
    "    1:\"one\",\n",
    "    2:\"two\",\n",
    "    3:\"three\",\n",
    "    }\n",
    "print(dic.get(2))\n",
    "print(dic.get(4))"
   ]
  },
  {
   "cell_type": "code",
   "execution_count": 55,
   "metadata": {},
   "outputs": [
    {
     "name": "stdout",
     "output_type": "stream",
     "text": [
      "no_data\n"
     ]
    }
   ],
   "source": [
    "# print(dic[4]) \n",
    "print(dic.get(4,\"no_data\")) \n",
    "# get, can prevent errors\n",
    "# if no 4, print \"no_data\""
   ]
  },
  {
   "cell_type": "code",
   "execution_count": 56,
   "metadata": {},
   "outputs": [
    {
     "name": "stdout",
     "output_type": "stream",
     "text": [
      "{1: 'one', 2: 'two', 3: 'three'} {1: 'one', 2: 'two', 3: 'three'}\n",
      "{1: '하나', 2: 'two', 3: 'three'} {1: '하나', 2: 'two', 3: 'three'}\n",
      "{1: 'A', 2: 'two', 3: 'three'} {1: '하나', 2: 'two', 3: 'three'}\n"
     ]
    }
   ],
   "source": [
    "# copy() - 리스트와 마찬가지로 다른 저장공간을 가지는 데이터를 대입한다.\n",
    "dic2 = dic\n",
    "print(dic, dic2)\n",
    "dic[1] = \"하나\"\n",
    "print(dic, dic2)\n",
    "dic3 = dic.copy()\n",
    "dic[1] = \"A\"\n",
    "print(dic, dic3)"
   ]
  },
  {
   "cell_type": "code",
   "execution_count": 57,
   "metadata": {},
   "outputs": [
    {
     "name": "stdout",
     "output_type": "stream",
     "text": [
      "{1: 'a', 2: 'b'}\n",
      "{1: 'a', 2: 'c', 3: 'd'}\n"
     ]
    }
   ],
   "source": [
    "# update() - 데이터를 업데이트\n",
    "a = {1:\"a\", 2:\"b\"} \n",
    "b = {2:\"c\", 3:\"d\"}\n",
    "print(a)\n",
    "a.update(b)\n",
    "print(a)"
   ]
  },
  {
   "cell_type": "markdown",
   "metadata": {},
   "source": [
    "practice"
   ]
  },
  {
   "cell_type": "markdown",
   "metadata": {},
   "source": [
    "create dictionary with given data"
   ]
  },
  {
   "cell_type": "markdown",
   "metadata": {},
   "source": [
    "- student A - math : 80, english : 100, science : 90\n",
    "- student B - math : 70, english : 100, science : 100"
   ]
  },
  {
   "cell_type": "code",
   "execution_count": 59,
   "metadata": {},
   "outputs": [
    {
     "data": {
      "text/plain": [
       "{'A': {'english': 100, 'math': 80, 'science': 90},\n",
       " 'B': {'english': 100, 'math': 70, 'science': 100}}"
      ]
     },
     "execution_count": 59,
     "metadata": {},
     "output_type": "execute_result"
    }
   ],
   "source": [
    "data = {\n",
    "    'A' : {'math' : 80, 'english' : 100, 'science' : 90},\n",
    "    'B' : {'math' : 70, 'english' : 100, 'science': 100}\n",
    "    }\n",
    "\n",
    "data"
   ]
  },
  {
   "cell_type": "markdown",
   "metadata": {},
   "source": [
    "**set**"
   ]
  },
  {
   "cell_type": "code",
   "execution_count": 60,
   "metadata": {},
   "outputs": [
    {
     "name": "stdout",
     "output_type": "stream",
     "text": [
      "<class 'set'>\n",
      "{1, 2, 3, 4, 5}\n"
     ]
    }
   ],
   "source": [
    "s = set([1,2,3,4,5,1,2,3])\n",
    "print(type(s))\n",
    "print(s)"
   ]
  },
  {
   "cell_type": "code",
   "execution_count": 61,
   "metadata": {},
   "outputs": [
    {
     "name": "stdout",
     "output_type": "stream",
     "text": [
      "{3, 4}\n",
      "{3, 4}\n",
      "{1, 2, 3, 4, 5, 6}\n",
      "{1, 2, 3, 4, 5, 6}\n",
      "{1, 2}\n",
      "{1, 2}\n"
     ]
    }
   ],
   "source": [
    "# Set\n",
    "s1 = set([1,2,3,4])\n",
    "s2 = set([3,4,5,6])\n",
    "\n",
    "# intersection\n",
    "print(s1 & s2)\n",
    "print(s1.intersection(s2))\n",
    "\n",
    "# union\n",
    "print(s1 | s2)\n",
    "print(s1.union(s2))\n",
    "\n",
    "# difference\n",
    "print(s1 - s2)\n",
    "print(s1.difference(s2))"
   ]
  },
  {
   "cell_type": "code",
   "execution_count": 62,
   "metadata": {},
   "outputs": [
    {
     "data": {
      "text/plain": [
       "{1, 2, 3, 4, 10}"
      ]
     },
     "execution_count": 62,
     "metadata": {},
     "output_type": "execute_result"
    }
   ],
   "source": [
    "s = list(s)\n",
    "s[4] = 10\n",
    "s = set(s)\n",
    "s"
   ]
  },
  {
   "cell_type": "markdown",
   "metadata": {},
   "source": [
    "### 4. data type conversion"
   ]
  },
  {
   "cell_type": "code",
   "execution_count": 63,
   "metadata": {},
   "outputs": [
    {
     "name": "stdout",
     "output_type": "stream",
     "text": [
      "<class 'int'> 1234\n"
     ]
    }
   ],
   "source": [
    "# convert to int from string\n",
    "s = \"1234\"\n",
    "n = int(s)\n",
    "print(type(n), n)"
   ]
  },
  {
   "cell_type": "code",
   "execution_count": 64,
   "metadata": {},
   "outputs": [
    {
     "name": "stdout",
     "output_type": "stream",
     "text": [
      "<class 'str'> 1234\n"
     ]
    }
   ],
   "source": [
    "# convert to string from int\n",
    "n = 1234\n",
    "s = str(n)\n",
    "print(type(s), s)"
   ]
  },
  {
   "cell_type": "code",
   "execution_count": 65,
   "metadata": {},
   "outputs": [
    {
     "ename": "ValueError",
     "evalue": "invalid literal for int() with base 10: 'a'",
     "output_type": "error",
     "traceback": [
      "\u001b[0;31m---------------------------------------------------------------------------\u001b[0m",
      "\u001b[0;31mValueError\u001b[0m                                Traceback (most recent call last)",
      "\u001b[0;32m<ipython-input-65-b5c58df8da09>\u001b[0m in \u001b[0;36m<module>\u001b[0;34m()\u001b[0m\n\u001b[1;32m      1\u001b[0m \u001b[0;31m# word string cannot converged to int\u001b[0m\u001b[0;34m\u001b[0m\u001b[0;34m\u001b[0m\u001b[0m\n\u001b[1;32m      2\u001b[0m \u001b[0ms\u001b[0m \u001b[0;34m=\u001b[0m \u001b[0;34m\"a\"\u001b[0m\u001b[0;34m\u001b[0m\u001b[0m\n\u001b[0;32m----> 3\u001b[0;31m \u001b[0mn\u001b[0m \u001b[0;34m=\u001b[0m \u001b[0mint\u001b[0m\u001b[0;34m(\u001b[0m\u001b[0ms\u001b[0m\u001b[0;34m)\u001b[0m\u001b[0;34m\u001b[0m\u001b[0m\n\u001b[0m\u001b[1;32m      4\u001b[0m \u001b[0mprint\u001b[0m\u001b[0;34m(\u001b[0m\u001b[0mtype\u001b[0m\u001b[0;34m(\u001b[0m\u001b[0mn\u001b[0m\u001b[0;34m)\u001b[0m\u001b[0;34m,\u001b[0m \u001b[0mn\u001b[0m\u001b[0;34m)\u001b[0m\u001b[0;34m\u001b[0m\u001b[0m\n",
      "\u001b[0;31mValueError\u001b[0m: invalid literal for int() with base 10: 'a'"
     ]
    }
   ],
   "source": [
    "# word string cannot converged to int\n",
    "s = \"a\"\n",
    "n = int(s)\n",
    "print(type(n), n)"
   ]
  },
  {
   "cell_type": "code",
   "execution_count": 66,
   "metadata": {},
   "outputs": [
    {
     "name": "stdout",
     "output_type": "stream",
     "text": [
      "False True\n",
      "True False True False True\n",
      "False True\n"
     ]
    }
   ],
   "source": [
    "# boolean 형변환\n",
    "print(bool(\"\"), bool(\"asedf\"))\n",
    "print(bool(-1), bool(0), bool(1), bool(0.0), bool(0.1))\n",
    "a, b = [], [1,2]\n",
    "print(bool(a), bool(b))"
   ]
  },
  {
   "cell_type": "code",
   "execution_count": 67,
   "metadata": {},
   "outputs": [
    {
     "name": "stdout",
     "output_type": "stream",
     "text": [
      "no_data\n",
      "[1, 2, 3]\n"
     ]
    }
   ],
   "source": [
    "a, b = [], [1,2,3]\n",
    "\n",
    "if len(a) > 0:\n",
    "    print(a)\n",
    "else:\n",
    "    print(\"no_data\")\n",
    "\n",
    "if b:\n",
    "    print(b)\n",
    "else:\n",
    "    print(\"no_data\")"
   ]
  },
  {
   "cell_type": "code",
   "execution_count": 68,
   "metadata": {},
   "outputs": [
    {
     "name": "stdout",
     "output_type": "stream",
     "text": [
      "['f', 'a', 's', 't']\n"
     ]
    }
   ],
   "source": [
    "# convert to list from string\n",
    "s = \"fast\"\n",
    "ls = list(s)\n",
    "print(ls)"
   ]
  },
  {
   "cell_type": "code",
   "execution_count": 69,
   "metadata": {},
   "outputs": [
    {
     "name": "stdout",
     "output_type": "stream",
     "text": [
      "(1, 2)\n",
      "((1, 'one'), (2, 'two'))\n"
     ]
    }
   ],
   "source": [
    "# convert dictionary to tuple\n",
    "d = {1:\"one\", 2:\"two\"}\n",
    "t = tuple(d)\n",
    "print(t)\n",
    "t = tuple(d.items())\n",
    "print(t)"
   ]
  },
  {
   "cell_type": "code",
   "execution_count": 70,
   "metadata": {},
   "outputs": [
    {
     "data": {
      "text/plain": [
       "{1: 'one', 2: 'two'}"
      ]
     },
     "execution_count": 70,
     "metadata": {},
     "output_type": "execute_result"
    }
   ],
   "source": [
    "# convert tuple to dict\n",
    "t = ((1,\"one\"),(2,\"two\"))\n",
    "dict(t)"
   ]
  },
  {
   "cell_type": "markdown",
   "metadata": {},
   "source": [
    "### 4. operator\n",
    "\n",
    "- types of operatior\n",
    "    - Arithmetic Operators : `+, -, *, /, //, %, **`\n",
    "    - Comparison Operators : `==, !=, >, <, =>, =<`\n",
    "    - Assignment Operators : `=, +=, -=, *=, /=, %=, //=, **=`\n",
    "    - Bitwise Operators : `&, |, ^, ~, <<, >>`\n",
    "    - Logical Operators : `and, or, not`\n",
    "    - Membership Operators : `in, not in` \n",
    "    - Identity Operators : `is, is not` "
   ]
  },
  {
   "cell_type": "code",
   "execution_count": 73,
   "metadata": {},
   "outputs": [
    {
     "name": "stdout",
     "output_type": "stream",
     "text": [
      "6\n",
      "-2\n",
      "8\n",
      "3.3333333333333335\n",
      "3\n",
      "1\n",
      "81\n"
     ]
    }
   ],
   "source": [
    "# arithmetic operator\n",
    "# +, -, *, /, //, %, **\n",
    "\n",
    "print(2 + 4)\n",
    "print(2 - 4)\n",
    "print(2 * 4)\n",
    "print(10 / 3)\n",
    "print(10 // 3)\n",
    "print(10 % 3)\n",
    "print(3 ** 4)"
   ]
  },
  {
   "cell_type": "code",
   "execution_count": 74,
   "metadata": {},
   "outputs": [
    {
     "name": "stdout",
     "output_type": "stream",
     "text": [
      "False\n",
      "True\n",
      "False\n",
      "True\n",
      "False\n",
      "True\n"
     ]
    }
   ],
   "source": [
    "# comparison operator\n",
    "# ==, !=, >, <, >=, <=\n",
    "\n",
    "a, b = 10, 20\n",
    "\n",
    "print(a==b)   # 같다\n",
    "print(a!=b)   # 같지 않다\n",
    "print(a>b)\n",
    "print(a<b)\n",
    "print(a>=b)\n",
    "print(a<=b)"
   ]
  },
  {
   "cell_type": "code",
   "execution_count": 77,
   "metadata": {},
   "outputs": [
    {
     "name": "stdout",
     "output_type": "stream",
     "text": [
      "5\n",
      "15\n",
      "10\n",
      "100\n",
      "20.0\n",
      "4.0\n",
      "2.0\n",
      "8.0\n"
     ]
    }
   ],
   "source": [
    "# assignment operator\n",
    "# =, +=, -=, *=, /=, %=, //=, **=\n",
    "\n",
    "a = 5\n",
    "print(a)\n",
    "\n",
    "a += 10\n",
    "print(a)\n",
    "\n",
    "a -= 5\n",
    "print(a)\n",
    "\n",
    "a *= 10\n",
    "print(a)\n",
    "\n",
    "a /= 5\n",
    "print(a)\n",
    "\n",
    "a %= 8  # --> 나누기 후 나머지\n",
    "print(a)\n",
    "\n",
    "a //= 2\n",
    "print(a)\n",
    "\n",
    "a **= 3\n",
    "print(a)"
   ]
  },
  {
   "cell_type": "code",
   "execution_count": 80,
   "metadata": {},
   "outputs": [
    {
     "name": "stdout",
     "output_type": "stream",
     "text": [
      "1 0b1\n",
      "7 0b111\n",
      "6 0b110\n",
      "-4 -0b100\n",
      "-6 -0b110\n",
      "12 0b1100\n",
      "2 0b10\n"
     ]
    }
   ],
   "source": [
    "# bitwise operator\n",
    "# &, |, ^, ~, <<, >>\n",
    "\n",
    "# a bit faster\n",
    "\n",
    "a = 3 # 011\n",
    "b = 5 # 101\n",
    "\n",
    "print(a&b, bin(a&b))\n",
    "print(a|b, bin(a|b))\n",
    "print(a^b, bin(a^b))\n",
    "print(~a, bin(~a))\n",
    "print(~b, bin(~b))\n",
    "print(a<<2, bin(a<<2))\n",
    "print(b>>1, bin(b>>1))"
   ]
  },
  {
   "cell_type": "code",
   "execution_count": 81,
   "metadata": {},
   "outputs": [
    {
     "name": "stdout",
     "output_type": "stream",
     "text": [
      "True\n",
      "False\n",
      "True\n",
      "True\n",
      "False\n",
      "True\n"
     ]
    }
   ],
   "source": [
    "# logical operator\n",
    "# and, or, not\n",
    "\n",
    "print( True and True )\n",
    "print( True and False )\n",
    "\n",
    "print( True or True )\n",
    "print( True or False )\n",
    "\n",
    "print( not(True and True) )\n",
    "print( not(True and False) )"
   ]
  },
  {
   "cell_type": "code",
   "execution_count": 83,
   "metadata": {},
   "outputs": [
    {
     "name": "stdout",
     "output_type": "stream",
     "text": [
      "True\n",
      "False\n",
      "False\n"
     ]
    }
   ],
   "source": [
    "# membership operator\n",
    "a = [1,2,3,4]\n",
    "print(1 in a)\n",
    "print(5 in a)\n",
    "print(1 not in a)"
   ]
  },
  {
   "cell_type": "code",
   "execution_count": 84,
   "metadata": {},
   "outputs": [
    {
     "name": "stdout",
     "output_type": "stream",
     "text": [
      "True\n",
      "True\n",
      "False\n"
     ]
    }
   ],
   "source": [
    "# identity operator\n",
    "# is, is not\n",
    "a = \"a\"\n",
    "b = a\n",
    "print( a is b )\n",
    "\n",
    "b = \"a\"\n",
    "print( a is b )\n",
    "\n",
    "print( a is not b )"
   ]
  },
  {
   "cell_type": "code",
   "execution_count": null,
   "metadata": {},
   "outputs": [],
   "source": []
  }
 ],
 "metadata": {
  "kernelspec": {
   "display_name": "Python 3",
   "language": "python",
   "name": "python3"
  },
  "language_info": {
   "codemirror_mode": {
    "name": "ipython",
    "version": 3
   },
   "file_extension": ".py",
   "mimetype": "text/x-python",
   "name": "python",
   "nbconvert_exporter": "python",
   "pygments_lexer": "ipython3",
   "version": "3.6.2"
  }
 },
 "nbformat": 4,
 "nbformat_minor": 2
}
