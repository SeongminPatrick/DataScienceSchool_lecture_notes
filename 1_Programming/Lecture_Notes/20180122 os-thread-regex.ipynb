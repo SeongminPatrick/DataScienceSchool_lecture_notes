{
 "cells": [
  {
   "cell_type": "markdown",
   "metadata": {},
   "source": [
    "# OS"
   ]
  },
  {
   "cell_type": "code",
   "execution_count": 2,
   "metadata": {},
   "outputs": [],
   "source": [
    "import os"
   ]
  },
  {
   "cell_type": "code",
   "execution_count": 3,
   "metadata": {},
   "outputs": [],
   "source": [
    "# create directory \"os_dir\""
   ]
  },
  {
   "cell_type": "code",
   "execution_count": 4,
   "metadata": {},
   "outputs": [],
   "source": [
    "os.makedirs(\"os_dir\")"
   ]
  },
  {
   "cell_type": "code",
   "execution_count": 5,
   "metadata": {},
   "outputs": [
    {
     "name": "stdout",
     "output_type": "stream",
     "text": [
      "\u001b[30m\u001b[43m20180110\u001b[m\u001b[m                      disp.p\r\n",
      "\u001b[30m\u001b[43m20180112\u001b[m\u001b[m                      file.txt\r\n",
      "\u001b[30m\u001b[43m20180115\u001b[m\u001b[m                      file1.txt\r\n",
      "\u001b[30m\u001b[43m20180116\u001b[m\u001b[m                      file2.txt\r\n",
      "\u001b[30m\u001b[43m20180117\u001b[m\u001b[m                      \u001b[34mos_dir\u001b[m\u001b[m\r\n",
      "20180122 os.ipynb             \u001b[31mpractice_LaTex.ipynb\u001b[m\u001b[m\r\n",
      "\u001b[31mCoding_quiz_collections.ipynb\u001b[m\u001b[m \u001b[31mpractice_python_quiz.ipynb\u001b[m\u001b[m\r\n",
      "b_range.b                     \u001b[34m대정리\u001b[m\u001b[m\r\n",
      "binary.b\r\n"
     ]
    }
   ],
   "source": [
    "!ls"
   ]
  },
  {
   "cell_type": "markdown",
   "metadata": {},
   "source": [
    "write\n",
    "- writing file\n",
    "- create txt\n",
    "- csv(comma seperate value) - always seperate value with comma"
   ]
  },
  {
   "cell_type": "code",
   "execution_count": 7,
   "metadata": {},
   "outputs": [],
   "source": [
    "s = \"data science\"\n",
    "with open(\"os_dir/test.txt\", \"wt\") as f:\n",
    "    f.write(s)\n",
    "    \n",
    "s2 = \"data science2\"\n",
    "with open(\"os_dir/test2.txt\", \"wt\") as f:\n",
    "    f.write(s)\n",
    "    \n",
    "s3 = \"data,science2\"\n",
    "with open(\"os_dir/test3.csv\", \"wt\") as f:\n",
    "    f.write(s)"
   ]
  },
  {
   "cell_type": "code",
   "execution_count": 8,
   "metadata": {},
   "outputs": [
    {
     "name": "stdout",
     "output_type": "stream",
     "text": [
      "test.txt  test2.txt test3.csv\r\n"
     ]
    }
   ],
   "source": [
    "!ls os_dir"
   ]
  },
  {
   "cell_type": "markdown",
   "metadata": {},
   "source": [
    "##### listdir\n",
    "- read file list\n",
    "- return certain form of file"
   ]
  },
  {
   "cell_type": "code",
   "execution_count": 13,
   "metadata": {},
   "outputs": [
    {
     "name": "stdout",
     "output_type": "stream",
     "text": [
      "['test2.txt', 'test3.csv', 'test.txt']\n"
     ]
    }
   ],
   "source": [
    "# 파일 리스트 읽기\n",
    "file_list = os.listdir(\"os_dir\")\n",
    "print(file_list)"
   ]
  },
  {
   "cell_type": "code",
   "execution_count": 14,
   "metadata": {},
   "outputs": [
    {
     "name": "stdout",
     "output_type": "stream",
     "text": [
      "['test2.txt', 'test.txt']\n"
     ]
    }
   ],
   "source": [
    "# txt 파일 리스트만 호출\n",
    "result_1 = [ file_name for file_name in file_list if file_name.endswith(\".txt\")]\n",
    "#if true, stay with list. if not, no return\n",
    "print(result_1)"
   ]
  },
  {
   "cell_type": "code",
   "execution_count": 15,
   "metadata": {},
   "outputs": [
    {
     "name": "stdout",
     "output_type": "stream",
     "text": [
      "['test3.csv']\n"
     ]
    }
   ],
   "source": [
    "# txt 파일이 아닌 파일 리스트만 호출\n",
    "result_2 = [ file_name for file_name in file_list if not file_name.endswith(\".txt\") ]\n",
    "print(result_2)"
   ]
  },
  {
   "cell_type": "markdown",
   "metadata": {},
   "source": [
    "##### remove\n",
    "- remove file"
   ]
  },
  {
   "cell_type": "code",
   "execution_count": 17,
   "metadata": {},
   "outputs": [],
   "source": [
    "file_name = 'test3.csv'\n",
    "os.remove(\"os_dir/\" + file_name)"
   ]
  },
  {
   "cell_type": "code",
   "execution_count": 18,
   "metadata": {},
   "outputs": [
    {
     "name": "stdout",
     "output_type": "stream",
     "text": [
      "test.txt  test2.txt\r\n"
     ]
    }
   ],
   "source": [
    "!ls os_dir"
   ]
  },
  {
   "cell_type": "code",
   "execution_count": 19,
   "metadata": {},
   "outputs": [],
   "source": [
    "# for 반복문을 사용하여 모든 파일을 삭제할수 있다.\n",
    "file_list = os.listdir(\"os_dir\")\n",
    "for file_name in file_list:\n",
    "    os.remove(\"os_dir/\" + file_name)"
   ]
  },
  {
   "cell_type": "code",
   "execution_count": 21,
   "metadata": {},
   "outputs": [],
   "source": [
    "!ls os_dir\n",
    "\n",
    "# 아무 것도 안 남아있다"
   ]
  },
  {
   "cell_type": "markdown",
   "metadata": {},
   "source": [
    "##### removedirs\n",
    "- 디렉토리 삭제"
   ]
  },
  {
   "cell_type": "code",
   "execution_count": 36,
   "metadata": {},
   "outputs": [],
   "source": [
    "os.makedirs(\"os_dir\")"
   ]
  },
  {
   "cell_type": "code",
   "execution_count": 37,
   "metadata": {},
   "outputs": [],
   "source": [
    "s = \"data science\"\n",
    "with open(\"os_dir/test.txt\", \"wt\") as f:\n",
    "    f.write(s)\n",
    "    \n",
    "s2 = \"data science2\"\n",
    "with open(\"os_dir/test2.txt\", \"wt\") as f:\n",
    "    f.write(s)\n",
    "    \n",
    "s3 = \"data,science2\"\n",
    "with open(\"os_dir/test3.csv\", \"wt\") as f:\n",
    "    f.write(s)"
   ]
  },
  {
   "cell_type": "code",
   "execution_count": 38,
   "metadata": {},
   "outputs": [
    {
     "name": "stdout",
     "output_type": "stream",
     "text": [
      "test.txt  test2.txt test3.csv\r\n"
     ]
    }
   ],
   "source": [
    "!ls os_dir"
   ]
  },
  {
   "cell_type": "code",
   "execution_count": 29,
   "metadata": {},
   "outputs": [
    {
     "ename": "OSError",
     "evalue": "[Errno 66] Directory not empty: 'os_dir'",
     "output_type": "error",
     "traceback": [
      "\u001b[0;31m---------------------------------------------------------------------------\u001b[0m",
      "\u001b[0;31mOSError\u001b[0m                                   Traceback (most recent call last)",
      "\u001b[0;32m<ipython-input-29-ac051f4d2fe3>\u001b[0m in \u001b[0;36m<module>\u001b[0;34m()\u001b[0m\n\u001b[1;32m      1\u001b[0m \u001b[0;31m# 내부에 파일이 있으면 삭제되지 않는다.\u001b[0m\u001b[0;34m\u001b[0m\u001b[0;34m\u001b[0m\u001b[0m\n\u001b[0;32m----> 2\u001b[0;31m \u001b[0mos\u001b[0m\u001b[0;34m.\u001b[0m\u001b[0mremovedirs\u001b[0m\u001b[0;34m(\u001b[0m\u001b[0;34m\"os_dir\"\u001b[0m\u001b[0;34m)\u001b[0m\u001b[0;34m\u001b[0m\u001b[0m\n\u001b[0m",
      "\u001b[0;32m/Library/Frameworks/Python.framework/Versions/3.6/lib/python3.6/os.py\u001b[0m in \u001b[0;36mremovedirs\u001b[0;34m(name)\u001b[0m\n\u001b[1;32m    236\u001b[0m \u001b[0;34m\u001b[0m\u001b[0m\n\u001b[1;32m    237\u001b[0m     \"\"\"\n\u001b[0;32m--> 238\u001b[0;31m     \u001b[0mrmdir\u001b[0m\u001b[0;34m(\u001b[0m\u001b[0mname\u001b[0m\u001b[0;34m)\u001b[0m\u001b[0;34m\u001b[0m\u001b[0m\n\u001b[0m\u001b[1;32m    239\u001b[0m     \u001b[0mhead\u001b[0m\u001b[0;34m,\u001b[0m \u001b[0mtail\u001b[0m \u001b[0;34m=\u001b[0m \u001b[0mpath\u001b[0m\u001b[0;34m.\u001b[0m\u001b[0msplit\u001b[0m\u001b[0;34m(\u001b[0m\u001b[0mname\u001b[0m\u001b[0;34m)\u001b[0m\u001b[0;34m\u001b[0m\u001b[0m\n\u001b[1;32m    240\u001b[0m     \u001b[0;32mif\u001b[0m \u001b[0;32mnot\u001b[0m \u001b[0mtail\u001b[0m\u001b[0;34m:\u001b[0m\u001b[0;34m\u001b[0m\u001b[0m\n",
      "\u001b[0;31mOSError\u001b[0m: [Errno 66] Directory not empty: 'os_dir'"
     ]
    }
   ],
   "source": [
    "# 내부에 파일이 있으면 삭제되지 않는다.\n",
    "os.removedirs(\"os_dir\")"
   ]
  },
  {
   "cell_type": "code",
   "execution_count": 39,
   "metadata": {},
   "outputs": [],
   "source": [
    "# 파일과 디렉토리 모두 삭제\n",
    "import shutil     # module을 불러와서, remove tree(rmtree), 다 삭제 가능\n",
    "shutil.rmtree('os_dir')"
   ]
  },
  {
   "cell_type": "code",
   "execution_count": 40,
   "metadata": {},
   "outputs": [
    {
     "name": "stdout",
     "output_type": "stream",
     "text": [
      "ls: os_dir: No such file or directory\r\n"
     ]
    }
   ],
   "source": [
    "!ls os_dir"
   ]
  },
  {
   "cell_type": "markdown",
   "metadata": {},
   "source": [
    "##### exists\n",
    "- 존재여부 확인하기"
   ]
  },
  {
   "cell_type": "code",
   "execution_count": 42,
   "metadata": {},
   "outputs": [],
   "source": [
    "os.makedirs(\"os_dir\")\n",
    "\n",
    "s = \"data science\"\n",
    "with open(\"os_dir/test.txt\", \"wt\") as f:\n",
    "    f.write(s)\n",
    "    \n",
    "s2 = \"data science2\"\n",
    "with open(\"os_dir/test2.txt\", \"wt\") as f:\n",
    "    f.write(s)\n",
    "    \n",
    "s3 = \"data,science2\"\n",
    "with open(\"os_dir/test3.csv\", \"wt\") as f:\n",
    "    f.write(s)"
   ]
  },
  {
   "cell_type": "code",
   "execution_count": 44,
   "metadata": {},
   "outputs": [
    {
     "data": {
      "text/plain": [
       "True"
      ]
     },
     "execution_count": 44,
     "metadata": {},
     "output_type": "execute_result"
    }
   ],
   "source": [
    "os.path.exists(\"os_dir/test.txt\")"
   ]
  },
  {
   "cell_type": "code",
   "execution_count": 45,
   "metadata": {},
   "outputs": [
    {
     "data": {
      "text/plain": [
       "False"
      ]
     },
     "execution_count": 45,
     "metadata": {},
     "output_type": "execute_result"
    }
   ],
   "source": [
    "os.path.exists(\"os_dir/test4.txt\")"
   ]
  },
  {
   "cell_type": "markdown",
   "metadata": {},
   "source": [
    "##### isfile\n",
    "- 타입이 파일인지 확인하기"
   ]
  },
  {
   "cell_type": "code",
   "execution_count": 46,
   "metadata": {},
   "outputs": [
    {
     "data": {
      "text/plain": [
       "True"
      ]
     },
     "execution_count": 46,
     "metadata": {},
     "output_type": "execute_result"
    }
   ],
   "source": [
    "os.path.isfile(\"os_dir/test.txt\")"
   ]
  },
  {
   "cell_type": "code",
   "execution_count": 47,
   "metadata": {},
   "outputs": [
    {
     "data": {
      "text/plain": [
       "False"
      ]
     },
     "execution_count": 47,
     "metadata": {},
     "output_type": "execute_result"
    }
   ],
   "source": [
    "os.path.isfile(\"os_dir\")"
   ]
  },
  {
   "cell_type": "markdown",
   "metadata": {},
   "source": [
    "##### isdir\n",
    "- 타입이 디렉토리인지 확인하기"
   ]
  },
  {
   "cell_type": "code",
   "execution_count": 49,
   "metadata": {},
   "outputs": [
    {
     "data": {
      "text/plain": [
       "False"
      ]
     },
     "execution_count": 49,
     "metadata": {},
     "output_type": "execute_result"
    }
   ],
   "source": [
    "os.path.isdir(\"os_dir/test.txt\")"
   ]
  },
  {
   "cell_type": "code",
   "execution_count": 50,
   "metadata": {},
   "outputs": [
    {
     "data": {
      "text/plain": [
       "True"
      ]
     },
     "execution_count": 50,
     "metadata": {},
     "output_type": "execute_result"
    }
   ],
   "source": [
    "os.path.isdir(\"os_dir\")"
   ]
  },
  {
   "cell_type": "markdown",
   "metadata": {},
   "source": [
    "##### copy\n",
    "- 복사하기"
   ]
  },
  {
   "cell_type": "code",
   "execution_count": 56,
   "metadata": {},
   "outputs": [
    {
     "name": "stdout",
     "output_type": "stream",
     "text": [
      "copy.txt  test.txt  test2.txt test3.csv\r\n"
     ]
    }
   ],
   "source": [
    "!ls os_dir"
   ]
  },
  {
   "cell_type": "code",
   "execution_count": 57,
   "metadata": {},
   "outputs": [
    {
     "data": {
      "text/plain": [
       "'os_dir/copy.txt'"
      ]
     },
     "execution_count": 57,
     "metadata": {},
     "output_type": "execute_result"
    }
   ],
   "source": [
    "import shutil\n",
    "shutil.copy(\"os_dir/test.txt\", \"os_dir/copy.txt\")"
   ]
  },
  {
   "cell_type": "code",
   "execution_count": 58,
   "metadata": {},
   "outputs": [
    {
     "data": {
      "text/plain": [
       "True"
      ]
     },
     "execution_count": 58,
     "metadata": {},
     "output_type": "execute_result"
    }
   ],
   "source": [
    "os.path.isfile(\"os_dir/copy.txt\")"
   ]
  },
  {
   "cell_type": "code",
   "execution_count": 59,
   "metadata": {},
   "outputs": [
    {
     "data": {
      "text/plain": [
       "True"
      ]
     },
     "execution_count": 59,
     "metadata": {},
     "output_type": "execute_result"
    }
   ],
   "source": [
    "os.path.isfile(\"os_dir/copy.txt\")"
   ]
  },
  {
   "cell_type": "code",
   "execution_count": 60,
   "metadata": {},
   "outputs": [
    {
     "name": "stdout",
     "output_type": "stream",
     "text": [
      "copy.txt  test.txt  test2.txt test3.csv\r\n"
     ]
    }
   ],
   "source": [
    "!ls os_dir"
   ]
  },
  {
   "cell_type": "markdown",
   "metadata": {},
   "source": [
    "##### rename\n",
    "- 이름바꾸기"
   ]
  },
  {
   "cell_type": "code",
   "execution_count": 61,
   "metadata": {},
   "outputs": [],
   "source": [
    "os.rename(\"os_dir/copy.txt\", \"os_dir/rename.txt\")"
   ]
  },
  {
   "cell_type": "code",
   "execution_count": 62,
   "metadata": {},
   "outputs": [
    {
     "data": {
      "text/plain": [
       "False"
      ]
     },
     "execution_count": 62,
     "metadata": {},
     "output_type": "execute_result"
    }
   ],
   "source": [
    "os.path.isfile(\"os_dir/copy.txt\")"
   ]
  },
  {
   "cell_type": "code",
   "execution_count": 63,
   "metadata": {},
   "outputs": [
    {
     "data": {
      "text/plain": [
       "True"
      ]
     },
     "execution_count": 63,
     "metadata": {},
     "output_type": "execute_result"
    }
   ],
   "source": [
    "os.path.isfile(\"os_dir/rename.txt\")"
   ]
  },
  {
   "cell_type": "code",
   "execution_count": 64,
   "metadata": {},
   "outputs": [
    {
     "name": "stdout",
     "output_type": "stream",
     "text": [
      "rename.txt test.txt   test2.txt  test3.csv\r\n"
     ]
    }
   ],
   "source": [
    "!ls os_dir"
   ]
  },
  {
   "cell_type": "markdown",
   "metadata": {},
   "source": [
    "##### chmod\n",
    "- 권한 설정\n",
    "- 파일 타입[:1], 소유자 권한[1:4] 그룹 권한[4:7] 공개 권한[7:]\n",
    "- ex) drwxr_x__x\n",
    "- r(read), w(write), x(excute)"
   ]
  },
  {
   "cell_type": "code",
   "execution_count": 65,
   "metadata": {},
   "outputs": [],
   "source": [
    "# 8진수 octet : 7(8) -> 111(2), 4(8) -> 100(2)\n",
    "os.chmod(\"os_dir/rename.txt\", 0o444) # 모든 사용자 read 권한만 갖도록 (-rw-r--r--) -> (-r--r--r--)"
   ]
  },
  {
   "cell_type": "markdown",
   "metadata": {},
   "source": [
    "8진수 octet (0~7)\n",
    "- 0 -> 000 (rwx)\n",
    "- 5 -> 101\n",
    "- 7 -> 111"
   ]
  },
  {
   "cell_type": "code",
   "execution_count": 68,
   "metadata": {},
   "outputs": [],
   "source": [
    "os.chmod(\"os_dir/rename.txt\", 0o644) # 파일 소유자는 작성권한을 갖도록  (-r--r--r--) -> (-rw-r--r--)"
   ]
  },
  {
   "cell_type": "code",
   "execution_count": 67,
   "metadata": {},
   "outputs": [],
   "source": [
    "os.chmod(\"os_dir/rename.txt\", 0o000) # 모든권한제거  (-rw-r--r--) -> (----------)"
   ]
  },
  {
   "cell_type": "markdown",
   "metadata": {},
   "source": [
    "# Thread"
   ]
  },
  {
   "cell_type": "markdown",
   "metadata": {},
   "source": [
    "프로그램을 실행하면서 시간이 걸린다면 대부분 아래 두가지중 한가지의 이유이다\n",
    "- I/O 바운드 : 대부분의 경우 (data Input/Output)\n",
    "- CPU 바운드 : 계산량이 굉장히 많을 경우"
   ]
  },
  {
   "cell_type": "markdown",
   "metadata": {},
   "source": [
    "thread를 통해 성능을 향상시킬 수 있다"
   ]
  },
  {
   "cell_type": "markdown",
   "metadata": {},
   "source": [
    "**Synchronous 동기**\n",
    "- 한가지가 끝나야 다음 작업 수행\n",
    "- 순서대로\n",
    "- 데이터가 오고 가는 idle time을 비워놓고 기다린다\n",
    "\n",
    "**Asynchronous 비동기**\n",
    "- 결과는 상관 없이 독립적으로 수행 후,\n",
    "- 결과를 순서대로 리턴하지는 않는다.\n",
    "- 응답이 오는 대로 저장\n",
    "- 병렬로 동시 처리 가능\n",
    "- 1번의 idle time 때 2번 처리를 요청한다 (기다리지 않는다)\n",
    "- ex) 먼저 끝나는 대로 저장\n",
    "- ex) 크롤링, 자동 업로드 때 사용 등등\n",
    "<br>\n",
    "\n",
    "결론 : idle time을 줄이자\n",
    "\n",
    "\n",
    "싱글thread, 멀티thread : cpu 사용 ... 싱글은 타임라인 하나를 순서대로. 멀티thread는 타임라인을 쪼개서 idle을 활용"
   ]
  },
  {
   "cell_type": "code",
   "execution_count": 72,
   "metadata": {},
   "outputs": [],
   "source": [
    "import threading"
   ]
  },
  {
   "cell_type": "code",
   "execution_count": 73,
   "metadata": {},
   "outputs": [],
   "source": [
    "ls1 = []\n",
    "ls2 = []\n",
    "\n",
    "def threading_func_1(number=1000):\n",
    "    for idx in range(number):\n",
    "        ls1.append(idx)\n",
    "        if idx % 100 == 0:\n",
    "            print(\"ls1:\",idx) # Threading속도를 보기 위해 백개마다 프린트\n",
    "\n",
    "def threading_func_2(number=1000):\n",
    "    for idx in range(number):\n",
    "        ls2.append(idx)\n",
    "        if idx % 100 == 0:\n",
    "            print(\"ls2:\",idx)"
   ]
  },
  {
   "cell_type": "code",
   "execution_count": 74,
   "metadata": {},
   "outputs": [
    {
     "name": "stdout",
     "output_type": "stream",
     "text": [
      "ls1: 0\n",
      "ls1: 100\n",
      "ls1: 200\n",
      "ls1: 300\n",
      "ls1: 400\n",
      "ls1: 500\n",
      "ls1: 600\n",
      "ls1: 700\n",
      "ls2: 0\n",
      "ls2: 100\n",
      "ls2: 200\n",
      "ls2: 300\n",
      "ls2: 400\n",
      "ls2: 500\n",
      "ls2: 600\n",
      "ls2: 700\n",
      "ls2: 800\n",
      "ls2: 900\n",
      "ls2: 1000\n",
      "ls2: 1100\n",
      "ls2: 1200\n",
      "ls2: 1300\n",
      "ls2: 1400\n",
      "ls2: 1500\n",
      "ls2: 1600\n",
      "ls2: 1700\n",
      "ls2: 1800\n",
      "ls2: 1900\n",
      "ls2: 2000\n",
      "ls2: 2100\n",
      "ls2: 2200\n",
      "ls2: 2300\n",
      "ls2: 2400\n",
      "ls2: 2500\n",
      "ls2: 2600\n",
      "ls2: 2700\n",
      "ls2: 2800\n",
      "ls2: 2900\n",
      "ls2: 3000\n",
      "ls2: 3100\n",
      "ls2: 3200\n",
      "ls2: 3300\n",
      "ls2:ls1: 3400\n",
      "ls2: 3500\n",
      "ls2: 3600\n",
      "ls2: 3700\n",
      "ls2: 3800\n",
      "ls2: 3900\n",
      "ls2:  800\n",
      "ls1: 900\n",
      "ls1: 1000\n",
      "ls1: 1100\n",
      "ls1: 1200\n",
      "4000\n",
      "ls2: 4100\n",
      "ls2: 4200\n",
      "ls2: 4300\n",
      "ls2: 4400\n",
      "ls2: 4500\n",
      "ls2: 4600\n",
      "ls2: 4700\n",
      "ls2: 4800\n",
      "ls2: 4900\n",
      "ls2: 5000\n",
      "ls2: 5100\n",
      "ls2: 5200\n",
      "ls1:ls2: 5300\n",
      "ls2: 5400\n",
      "ls2: 5500\n",
      "ls2: 5600\n",
      "ls2: 5700\n",
      "ls2: 5800\n",
      "ls2: 5900\n",
      "ls2: 6000\n",
      "ls2: 6100\n",
      "ls2: 6200\n",
      "ls2: 6300\n",
      "ls2: 6400\n",
      "ls2: 6500\n",
      "ls2: 6600\n",
      "ls2: 6700\n",
      "ls2: 6800\n",
      "ls2: 6900 \n",
      "ls2: 7000\n",
      "ls2: 7100\n",
      "ls2: 7200\n",
      "ls2:1300\n",
      "ls1: 1400\n",
      "ls1: 1500\n",
      "ls1: 1600\n",
      "ls1: 1700\n",
      "ls1: 1800\n",
      "ls1: 1900\n",
      "ls1: 2000\n",
      "ls1: 2100\n",
      "ls1: 2200\n",
      "ls1: 2300\n",
      " 7300\n",
      "ls2: 7400\n",
      "ls2: 7500\n",
      "ls2: 7600\n",
      "ls2: 7700\n",
      "ls2: 7800\n",
      "ls2: 7900\n",
      "ls2: 8000\n",
      "ls2: 8100ls1:\n",
      "ls2: 8200\n",
      " 2400\n",
      "ls1: 2500\n",
      "ls1: 2600\n",
      "ls1: 2700\n",
      "ls1: 2800\n",
      "ls1: 2900\n",
      "ls1: 3000\n",
      "ls1: 3100\n",
      "ls1: 3200\n",
      "ls1: 3300\n",
      "ls1: 3400\n",
      "ls1: 3500\n",
      "ls1: 3600\n",
      "ls1: 3700\n",
      "ls1: 3800\n",
      "ls1: 3900\n",
      "ls2:ls1: 4000\n",
      "ls1: 4100\n",
      "ls1: 4200\n",
      " 8300\n",
      "ls2: 8400\n",
      "ls2: 8500\n",
      "ls2: 8600\n",
      "ls2: 8700\n",
      "ls2: 8800\n",
      "ls2: 8900\n",
      "ls2: 9000\n",
      "ls2: 9100\n",
      "ls2: 9200\n",
      "ls2:ls1:  4300\n",
      "ls1: 4400\n",
      "ls1: 4500\n",
      "ls1: 4600\n",
      "ls1: 4700\n",
      "ls1: 4800\n",
      "ls1: 4900\n",
      "ls1: 5000\n",
      "ls1: 9300\n",
      "ls2: 9400\n",
      "ls2: 9500\n",
      "ls2: 9600\n",
      "ls2: 9700\n",
      "ls2: 9800\n",
      "ls2: 9900\n",
      "ls2:5100\n",
      "ls1: 5200\n",
      "ls1: 5300\n",
      "ls1: 5400\n",
      "ls1: 5500\n",
      "ls1: 5600\n",
      "ls1: 5700\n",
      "ls1: 5800\n",
      "ls1: 10000\n",
      "ls2: 10100\n",
      "ls2: 10200\n",
      "ls2: 10300\n",
      "ls2: 10400\n",
      "ls2: 10500\n",
      "ls2: 10600\n",
      "ls2: 5900\n",
      "ls1: 6000\n",
      "ls1: 6100\n",
      "ls1: 6200\n",
      "ls1: 6300\n",
      "ls1: 6400\n",
      "ls1: 6500\n",
      "ls1: 6600\n",
      "ls1: 6700\n",
      "ls1: 6800\n",
      "ls1:  10700\n",
      "ls2: 10800\n",
      "ls2: 10900\n",
      "ls2: 11000\n",
      "ls2: 6900\n",
      "ls1: 7000\n",
      "ls1: 7100\n",
      "ls1: 7200\n",
      "ls1: 7300\n",
      "ls1: 7400\n",
      "ls1: 7500\n",
      "ls1: 7600\n",
      "ls1: 7700\n",
      "ls1: 7800\n",
      "ls1: 7900\n",
      "11100\n",
      "ls2: 11200\n",
      "ls2: 11300\n",
      "ls2: 11400\n",
      "ls2: 11500\n",
      "ls2: 11600\n",
      "ls1: 8000\n",
      "ls1: 8100\n",
      "ls1: 8200\n",
      "ls1: 8300\n",
      "ls1: 8400\n",
      "ls1: 8500\n",
      "ls1: 8600\n",
      "ls1: 8700\n",
      "ls1: 8800\n",
      "ls1: 8900\n",
      "ls1: 9000\n",
      "ls1: 9100\n",
      "ls1: 9200\n",
      "ls1: 9300\n",
      "ls1: 9400\n",
      "ls1: 9500\n",
      "ls1: 9600\n",
      "ls1: 9700\n",
      "ls1: 9800\n",
      "ls1: 9900\n",
      "ls1: 10000\n",
      "ls1: 10100\n",
      "ls1: 10200\n",
      "ls1: 10300ls2:\n",
      "ls1: 10400\n",
      "ls1: 10500\n",
      "ls1: 10600\n",
      "ls1: 10700\n",
      "ls1: 10800\n",
      "ls1: 10900\n",
      "ls1: 11000\n",
      "ls1: 11100\n",
      "ls1: 11200\n",
      "ls1: 11300\n",
      "ls1: 11400\n",
      "ls1:  11500\n",
      "ls1: 11600\n",
      "ls1: 11700\n",
      "ls1: 1180011700\n",
      "ls2: 11800\n",
      "ls2: 11900\n",
      "ls2: 12000\n",
      "\n",
      "ls2: 12100\n",
      "ls2: 12200\n",
      "ls2: 12300\n",
      "ls2: 12400\n",
      "ls2: 12500\n",
      "ls2: 12600\n",
      "ls2: 12700\n",
      "ls2: 12800\n",
      "ls2: 12900\n",
      "ls1: 11900\n"
     ]
    }
   ],
   "source": [
    "# thread 모듈 불러옴\n",
    "# Thread라는 class 호출\n",
    "\n",
    "th1 = threading.Thread(target=threading_func_1, args=(12000,))\n",
    "th1.start()\n",
    "\n",
    "th2 = threading.Thread(target=threading_func_2, args=(13000,))\n",
    "th2.start()"
   ]
  },
  {
   "cell_type": "markdown",
   "metadata": {},
   "source": [
    "# Regex (regular expression : 정규표현식) \n",
    "\n",
    "- match\n",
    "- search\n",
    "- findall\n",
    "- split\n",
    "- sub\n",
    "- pattern\n",
    "\n",
    "- 가독성, 비직관적 등의 이유로 필요한 경우에만 쓰는 것을 권장"
   ]
  },
  {
   "cell_type": "code",
   "execution_count": 75,
   "metadata": {},
   "outputs": [],
   "source": [
    "import re"
   ]
  },
  {
   "cell_type": "code",
   "execution_count": 77,
   "metadata": {},
   "outputs": [],
   "source": [
    "# 테스트용 문자열\n",
    "s = \"fast campus datascience fighting. datascience fighting. fast campus fighting.\""
   ]
  },
  {
   "cell_type": "markdown",
   "metadata": {},
   "source": [
    "##### match\n",
    "- 문자열의 가장 앞에서 부터 일치하는 패턴찾기"
   ]
  },
  {
   "cell_type": "code",
   "execution_count": 81,
   "metadata": {},
   "outputs": [
    {
     "name": "stdout",
     "output_type": "stream",
     "text": [
      "result1 : <_sre.SRE_Match object; span=(0, 4), match='fast'>\n",
      "result2 : None\n"
     ]
    }
   ],
   "source": [
    "# 무조건 문자열의 가장 앞에서부터 match되는 문자열 찾음\n",
    "result1 = re.match('fast', s)\n",
    "result2 = re.match('campus', s)\n",
    "print(\"result1 :\", result1)\n",
    "print(\"result2 :\", result2)"
   ]
  },
  {
   "cell_type": "code",
   "execution_count": 82,
   "metadata": {},
   "outputs": [
    {
     "name": "stdout",
     "output_type": "stream",
     "text": [
      "fast 0 4 (0, 4)\n"
     ]
    }
   ],
   "source": [
    "if result1:\n",
    "    print(result1.group(), result1.start(), result1.end(), result1.span())"
   ]
  },
  {
   "cell_type": "code",
   "execution_count": 83,
   "metadata": {},
   "outputs": [],
   "source": [
    "if result2:\n",
    "    print(result2.group(), result2.start(), result2.end(), result2.span())\n",
    "    \n",
    "# result2는 결과가 없기 때문에 리턴이 없음"
   ]
  },
  {
   "cell_type": "markdown",
   "metadata": {},
   "source": [
    "##### search\n",
    "- 문자열에서 가장 첫번째로 일치하는 패턴찾기\n",
    "- 가장 앞에서부터가 아니더라도, 어느 곳에서든 가장 먼저 나오는 것 순서대로 리턴"
   ]
  },
  {
   "cell_type": "code",
   "execution_count": 84,
   "metadata": {},
   "outputs": [
    {
     "name": "stdout",
     "output_type": "stream",
     "text": [
      "result3 : <_sre.SRE_Match object; span=(0, 4), match='fast'>\n",
      "result4 : <_sre.SRE_Match object; span=(5, 11), match='campus'>\n"
     ]
    }
   ],
   "source": [
    "result3 = re.search('fast', s)\n",
    "result4 = re.search('campus', s)\n",
    "print(\"result3 :\", result3)\n",
    "print(\"result4 :\", result4)"
   ]
  },
  {
   "cell_type": "code",
   "execution_count": 85,
   "metadata": {},
   "outputs": [
    {
     "name": "stdout",
     "output_type": "stream",
     "text": [
      "fast 0 4 (0, 4)\n"
     ]
    }
   ],
   "source": [
    "if result3:\n",
    "    print(result3.group(), result3.start(), result3.end(), result3.span())"
   ]
  },
  {
   "cell_type": "code",
   "execution_count": 86,
   "metadata": {},
   "outputs": [
    {
     "name": "stdout",
     "output_type": "stream",
     "text": [
      "campus 5 11 (5, 11)\n"
     ]
    }
   ],
   "source": [
    "if result4:\n",
    "    print(result4.group(), result4.start(), result4.end(), result4.span())"
   ]
  },
  {
   "cell_type": "markdown",
   "metadata": {},
   "source": [
    "##### findall\n",
    "- 일치하는 모든 패턴찾아 리스트 형태와 발생 횟수로 리턴"
   ]
  },
  {
   "cell_type": "code",
   "execution_count": 88,
   "metadata": {},
   "outputs": [
    {
     "name": "stdout",
     "output_type": "stream",
     "text": [
      "result5 : ['fast', 'fast'] 2\n",
      "result6 : ['fighting', 'fighting', 'fighting'] 3\n"
     ]
    }
   ],
   "source": [
    "result5 = re.findall('fast', s)\n",
    "result6 = re.findall('fighting', s)\n",
    "print(\"result5 :\", result5, len(result5))\n",
    "print(\"result6 :\", result6, len(result6))"
   ]
  },
  {
   "cell_type": "markdown",
   "metadata": {},
   "source": [
    "##### split\n",
    "- 패턴으로 나누기\n",
    "- 문자열을 특정 패턴으로 나누기"
   ]
  },
  {
   "cell_type": "code",
   "execution_count": 90,
   "metadata": {},
   "outputs": [
    {
     "name": "stdout",
     "output_type": "stream",
     "text": [
      "result7 : ['fast ', 'ampus datas', 'ien', 'e s', 'hool fighting!']\n"
     ]
    }
   ],
   "source": [
    "# 패턴을 기준으로 나누기\n",
    "s1 = \"fast campus datascience school fighting!\"\n",
    "result7 = re.split('c', s1)\n",
    "print(\"result7 :\", result7)"
   ]
  },
  {
   "cell_type": "markdown",
   "metadata": {},
   "source": [
    "##### sub (substitute)\n",
    "- 일치하는 패턴 대체하기"
   ]
  },
  {
   "cell_type": "code",
   "execution_count": 91,
   "metadata": {},
   "outputs": [
    {
     "name": "stdout",
     "output_type": "stream",
     "text": [
      "result8 : fast campus datascience school fighting! fast campus datascience school fighting!\n"
     ]
    }
   ],
   "source": [
    "s2 = \"slow campus datascience school fighting! slow campus datascience school fighting!\"\n",
    "result8 = re.sub('slow', 'fast', s2)\n",
    "print(\"result8 :\", result8)"
   ]
  },
  {
   "cell_type": "markdown",
   "metadata": {},
   "source": [
    "##### pattern"
   ]
  },
  {
   "cell_type": "markdown",
   "metadata": {},
   "source": [
    "문자\n",
    "- `\\d` : 숫자\n",
    "- `\\D` : 비숫자\n",
    "- `\\w` : 숫자 문자 _(언더스코어)\n",
    "- `\\W` : 비알파벳 문자\n",
    "- `\\s` : 공백 문자\n",
    "- `\\S` : 비공백 문자\n",
    "\n",
    "지정자\n",
    "- `[]` : 문자\n",
    "- `-` : 범위\n",
    "- `.` : 하나의 문자\n",
    "- `?` : 0회 또는 1회 반복\n",
    "- `*` : 0회 이상 반복\n",
    "- `+` : 1회 이상 반복\n",
    "- `{m,n}` : m~n회 반복\n",
    "- `()` : 그룹핑"
   ]
  },
  {
   "cell_type": "code",
   "execution_count": 92,
   "metadata": {},
   "outputs": [],
   "source": [
    "import string"
   ]
  },
  {
   "cell_type": "code",
   "execution_count": 94,
   "metadata": {},
   "outputs": [
    {
     "data": {
      "text/plain": [
       "(100,\n",
       " '0123456789abcdefghijklmnopqrstuvwxyzABCDEFGHIJKLMNOPQRSTUVWXYZ!\"#$%&\\'()*+,-./:;<=>?@[\\\\]^_`{|}~ \\t\\n\\r\\x0b\\x0c')"
      ]
     },
     "execution_count": 94,
     "metadata": {},
     "output_type": "execute_result"
    }
   ],
   "source": [
    "# 사용 가능한 모든 문자 호출\n",
    "pt = string.printable\n",
    "len(pt), pt"
   ]
  },
  {
   "cell_type": "code",
   "execution_count": 95,
   "metadata": {},
   "outputs": [
    {
     "name": "stdout",
     "output_type": "stream",
     "text": [
      "0123456789\n",
      "abcdefghijklmnopqrstuvwxyzABCDEFGHIJKLMNOPQRSTUVWXYZ!\"#$%&'()*+,-./:;<=>?@[\\]^_`{|}~ \t\n",
      "\r",
      "\u000b",
      "\f",
      "\n"
     ]
    }
   ],
   "source": [
    "# 숫자와 비숫자를 모두 찾기\n",
    "result = re.findall('\\d', pt) # 숫자 데이터\n",
    "print(''.join(result))\n",
    "result = re.findall('\\D', pt) # 숫자 데이터가 아닌 나머지 (비숫자)\n",
    "print(''.join(result))"
   ]
  },
  {
   "cell_type": "code",
   "execution_count": 96,
   "metadata": {},
   "outputs": [
    {
     "name": "stdout",
     "output_type": "stream",
     "text": [
      "0123456789abcdefghijklmnopqrstuvwxyzABCDEFGHIJKLMNOPQRSTUVWXYZ_\n",
      "!\"#$%&'()*+,-./:;<=>?@[\\]^`{|}~ \t\n",
      "\r",
      "\u000b",
      "\f",
      "\n"
     ]
    }
   ],
   "source": [
    "# 문자와 비문자 찾기\n",
    "result = re.findall('\\w', pt) # 문자 + _ : 식별자로 사용할수 있는 문자들\n",
    "print(''.join(result))\n",
    "result = re.findall('\\W', pt) # 비문자 + _\n",
    "print(''.join(result))"
   ]
  },
  {
   "cell_type": "code",
   "execution_count": 99,
   "metadata": {},
   "outputs": [
    {
     "name": "stdout",
     "output_type": "stream",
     "text": [
      "[' ', '\\t', '\\n', '\\r', '\\x0b', '\\x0c']\n",
      "['0', '1', '2', '3', '4', '5', '6', '7', '8', '9', 'a', 'b', 'c', 'd', 'e', 'f', 'g', 'h', 'i', 'j', 'k', 'l', 'm', 'n', 'o', 'p', 'q', 'r', 's', 't', 'u', 'v', 'w', 'x', 'y', 'z', 'A', 'B', 'C', 'D', 'E', 'F', 'G', 'H', 'I', 'J', 'K', 'L', 'M', 'N', 'O', 'P', 'Q', 'R', 'S', 'T', 'U', 'V', 'W', 'X', 'Y', 'Z', '!', '\"', '#', '$', '%', '&', \"'\", '(', ')', '*', '+', ',', '-', '.', '/', ':', ';', '<', '=', '>', '?', '@', '[', '\\\\', ']', '^', '_', '`', '{', '|', '}', '~']\n"
     ]
    }
   ],
   "source": [
    "result = re.findall('\\s',pt) # 공백문자\n",
    "print(result)\n",
    "result = re.findall('\\S',pt) # 비공백문자\n",
    "print(result)"
   ]
  },
  {
   "cell_type": "markdown",
   "metadata": {},
   "source": [
    "##### `-` 범위"
   ]
  },
  {
   "cell_type": "code",
   "execution_count": 102,
   "metadata": {},
   "outputs": [
    {
     "name": "stdout",
     "output_type": "stream",
     "text": [
      "0123456789\n"
     ]
    }
   ],
   "source": [
    "# [0-9] : 숫자 모두\n",
    "result = re.findall('[0-9]', pt)\n",
    "print(''.join(result))"
   ]
  },
  {
   "cell_type": "code",
   "execution_count": 103,
   "metadata": {},
   "outputs": [
    {
     "name": "stdout",
     "output_type": "stream",
     "text": [
      "abcdefghijklmnopqrstuvwxyz\n"
     ]
    }
   ],
   "source": [
    "# [a-z] : 알파벳 소문자\n",
    "result = re.findall('[a-z]', pt)\n",
    "print(''.join(result))"
   ]
  },
  {
   "cell_type": "code",
   "execution_count": 107,
   "metadata": {},
   "outputs": [
    {
     "name": "stdout",
     "output_type": "stream",
     "text": [
      "abcdefghijklmnopqrstuvwxyzABCDEFGHIJKLMNOPQRSTUVWXYZ[\\]^_`\n"
     ]
    }
   ],
   "source": [
    "# [a-z] : 알파벳 한바퀴 돌아서\n",
    "result = re.findall('[A-z]', pt)\n",
    "print(''.join(result))"
   ]
  },
  {
   "cell_type": "code",
   "execution_count": 104,
   "metadata": {},
   "outputs": [
    {
     "name": "stdout",
     "output_type": "stream",
     "text": [
      "abcdefghijklmnopqrstuvwxyzABCDEFGHIJKLMNOPQRSTUVWXYZ\n",
      "\n"
     ]
    }
   ],
   "source": [
    "# [a-zA-Z] : 알파벳 모두\n",
    "result = re.findall('[a-zA-Z]', pt)\n",
    "print(''.join(result), end=\"\\n\\n\")"
   ]
  },
  {
   "cell_type": "code",
   "execution_count": 105,
   "metadata": {
    "scrolled": true
   },
   "outputs": [
    {
     "name": "stdout",
     "output_type": "stream",
     "text": [
      "012345\n",
      "012345\n",
      "\n"
     ]
    }
   ],
   "source": [
    "# [012345] == [0-5]\n",
    "result = re.findall('[012345]', pt)\n",
    "print(''.join(result))\n",
    "result = re.findall('[0-5]', pt)\n",
    "print(''.join(result), end=\"\\n\\n\")"
   ]
  },
  {
   "cell_type": "code",
   "execution_count": 108,
   "metadata": {},
   "outputs": [
    {
     "name": "stdout",
     "output_type": "stream",
     "text": [
      "234789\n",
      "234789\n",
      "\n"
     ]
    }
   ],
   "source": [
    "# [234789] = [2-47-9]\n",
    "result = re.findall('[234789]', pt)\n",
    "print(''.join(result))\n",
    "result = re.findall('[2-47-9]', pt)\n",
    "print(''.join(result), end=\"\\n\\n\")"
   ]
  },
  {
   "cell_type": "code",
   "execution_count": 109,
   "metadata": {},
   "outputs": [
    {
     "name": "stdout",
     "output_type": "stream",
     "text": [
      "bcde\n",
      "bcde\n",
      "bcde\n",
      "\n"
     ]
    }
   ],
   "source": [
    "# [bcde] == [bc-e] = [b-e]\n",
    "result = re.findall('[bcde]', pt)\n",
    "print(''.join(result))\n",
    "result = re.findall('[bc-e]', pt)\n",
    "print(''.join(result))\n",
    "result = re.findall('[b-e]', pt)\n",
    "print(''.join(result), end=\"\\n\\n\")"
   ]
  },
  {
   "cell_type": "markdown",
   "metadata": {},
   "source": [
    "##### `.` 문자 하나"
   ]
  },
  {
   "cell_type": "code",
   "execution_count": 111,
   "metadata": {},
   "outputs": [
    {
     "name": "stdout",
     "output_type": "stream",
     "text": [
      "aab ['aab']\n",
      "a0b ['a0b']\n",
      "abc []\n"
     ]
    }
   ],
   "source": [
    "ls = [\"aab\", \"a0b\", \"abc\"]\n",
    "for s in ls:\n",
    "    result = re.findall('a.b', s) # a + 모든문자하나 + b\n",
    "    print(s, result)\n",
    "    \n",
    "# a와 b사이 아무것도 올 수 없어 매칭되지 않기 때문에 출력이 안 됨"
   ]
  },
  {
   "cell_type": "markdown",
   "metadata": {},
   "source": [
    "##### `?` 0회 또는 1회 반복"
   ]
  },
  {
   "cell_type": "code",
   "execution_count": 113,
   "metadata": {},
   "outputs": [
    {
     "name": "stdout",
     "output_type": "stream",
     "text": [
      "aab ['aab']\n",
      "a3b ['a3b']\n",
      "abc ['ab']\n",
      "accb []\n"
     ]
    }
   ],
   "source": [
    "l = [\"aab\", \"a3b\", \"abc\", \"accb\"]\n",
    "for s in l:\n",
    "    result = re.findall('a.?b', s) # a + 모든문자0개 또는 1개 + b\n",
    "    print(s, result)"
   ]
  },
  {
   "cell_type": "code",
   "execution_count": 114,
   "metadata": {},
   "outputs": [
    {
     "name": "stdout",
     "output_type": "stream",
     "text": [
      "aab ['ab']\n",
      "a3b ['a3b']\n",
      "a8b []\n",
      "abc ['ab']\n",
      "accb []\n"
     ]
    }
   ],
   "source": [
    "l = [\"aab\", \"a3b\", \"a8b\", \"abc\", \"accb\"]\n",
    "for s in l:\n",
    "    result = re.findall('a[0-4]?b', s) # a + 0-4숫자 0개 또는 1개 + b\n",
    "    print(s, result)"
   ]
  },
  {
   "cell_type": "markdown",
   "metadata": {},
   "source": [
    "##### `*` : 0회 이상 반복"
   ]
  },
  {
   "cell_type": "code",
   "execution_count": 115,
   "metadata": {},
   "outputs": [
    {
     "name": "stdout",
     "output_type": "stream",
     "text": [
      "ac ['ac']\n",
      "abc ['abc']\n",
      "abbbbc ['abbbbc']\n",
      "a3bec []\n"
     ]
    }
   ],
   "source": [
    "l = [\"ac\",\"abc\",\"abbbbc\",\"a3bec\"]\n",
    "for s in l:\n",
    "    result = re.findall('ab*c', s) # a + b가 0회이상 반복 + c\n",
    "    print(s, result)"
   ]
  },
  {
   "cell_type": "markdown",
   "metadata": {},
   "source": [
    "##### `+` : 1회 이상 반복"
   ]
  },
  {
   "cell_type": "code",
   "execution_count": 116,
   "metadata": {},
   "outputs": [
    {
     "name": "stdout",
     "output_type": "stream",
     "text": [
      "ac []\n",
      "abc ['abc']\n",
      "abbbbc ['abbbbc']\n",
      "a3bec []\n"
     ]
    }
   ],
   "source": [
    "l = [\"ac\",\"abc\",\"abbbbc\",\"a3bec\"]\n",
    "for s in l:\n",
    "    result = re.findall('ab+c', s) # a + b가 1회이상 반복 + c\n",
    "    print(s, result)"
   ]
  },
  {
   "cell_type": "markdown",
   "metadata": {},
   "source": [
    "##### `{m,n}` : m~n회 반복"
   ]
  },
  {
   "cell_type": "code",
   "execution_count": 117,
   "metadata": {},
   "outputs": [
    {
     "name": "stdout",
     "output_type": "stream",
     "text": [
      "ac []\n",
      "abcasd ['abc']\n",
      "abbc ['abbc']\n",
      "abbbc ['abbbc']\n",
      "abbbbbbc []\n"
     ]
    }
   ],
   "source": [
    "l = [\"ac\",\"abcasd\",\"abbc\",\"abbbc\",\"abbbbbbc\"]\n",
    "for s in l:\n",
    "    result = re.findall('ab{1,3}c', s) # a + b가 1회~3회 반복 + c\n",
    "    print(s, result)"
   ]
  },
  {
   "cell_type": "markdown",
   "metadata": {},
   "source": [
    "##### `()` : 그룹핑"
   ]
  },
  {
   "cell_type": "code",
   "execution_count": 118,
   "metadata": {},
   "outputs": [
    {
     "name": "stdout",
     "output_type": "stream",
     "text": [
      "aaa5.djfi [('5', 'dj')]\n",
      "abdddc5 []\n",
      "1abbbbc []\n",
      "a3.bec [('3', 'be')]\n"
     ]
    }
   ],
   "source": [
    "l = [\"aaa5.djfi\",\"abdddc5\",\"1abbbbc\",\"a3.bec\"]\n",
    "for s in l:\n",
    "    result = re.findall('([0-9]+)[.]([a-z]{2})', s) # 숫자 1회이상 + . + 문자 2회\n",
    "    print(s, result)"
   ]
  },
  {
   "cell_type": "markdown",
   "metadata": {},
   "source": [
    "##### example"
   ]
  },
  {
   "cell_type": "code",
   "execution_count": 119,
   "metadata": {},
   "outputs": [
    {
     "name": "stdout",
     "output_type": "stream",
     "text": [
      "True ['pdj1224@daum.com', 'radajin1224@gmail.com']\n",
      "False []\n"
     ]
    }
   ],
   "source": [
    "# 이메일주소 찾기\n",
    "s = \"저의 이메일 주소는 pdj1224@daum.com 입니다. 또한 radajin1224@gmail.com 역시 마찬가지 입니다.\" \n",
    "p = \"[0-9a-zA-Z]+@[0-9a-z]+\\.[0-9a-z]+\"  # 실제 . 의 expression이 아닌 .으로 쓰기 위해 \\ 사용\n",
    "result = True if re.search(p,s) else False\n",
    "print(result, re.findall(p,s))\n",
    "\n",
    "s = \"저의 이메일 주소는 pdj1224daum.com 입니다. 또한 radajin1224@gmailcom 역시 마찬가지 입니다.\" \n",
    "p = \"[0-9a-zA-Z]+@[0-9a-z]+\\.[0-9a-z]+\"\n",
    "result = True if re.search(p,s) else False\n",
    "print(result, re.findall(p,s))"
   ]
  },
  {
   "cell_type": "code",
   "execution_count": 122,
   "metadata": {},
   "outputs": [
    {
     "data": {
      "text/plain": [
       "'저의 전화번호는 010-1111-2222이고 주민등록번호는 871211-******** 입니다'"
      ]
     },
     "execution_count": 122,
     "metadata": {},
     "output_type": "execute_result"
    }
   ],
   "source": [
    "# 주민등록번호 : group으로 나눠서 변경하기\n",
    "s = \"저의 전화번호는 010-1111-2222이고 주민등록번호는 871211-4029348 입니다\"\n",
    "p = \"([0-9]{6})-([0-9]{7})\"\n",
    "re.sub(p, \"\\g<1>-********\", s) # \\g<1> : 그룹핑 첫번째 데이터 사용 : 문자열 g가 아닌, 의미 있는 g다"
   ]
  },
  {
   "cell_type": "code",
   "execution_count": 124,
   "metadata": {},
   "outputs": [],
   "source": [
    "# 전화번호 추출해서 바꾸기\n",
    "s = \"안녕하세요. 저의 전화번호는 영일공-48구삼삼7이사 입니다. 또한 010사팔구삼삼구삼일 입니다.\""
   ]
  },
  {
   "cell_type": "code",
   "execution_count": 126,
   "metadata": {},
   "outputs": [
    {
     "data": {
      "text/plain": [
       "['영일공-48구삼삼7이사', '010사팔구삼삼구삼일']"
      ]
     },
     "execution_count": 126,
     "metadata": {},
     "output_type": "execute_result"
    }
   ],
   "source": [
    "# 문자열 패턴\n",
    "p = '[0-9영공일이둘삼사오육칠팔구빵]{3}[-]?[0-9영공일이둘삼사오육칠팔구빵]{3,4}[-]?[0-9영공일이둘삼사오육칠팔구빵]{4}'\n",
    "\n",
    "numbers = re.findall(p, s)\n",
    "numbers"
   ]
  },
  {
   "cell_type": "code",
   "execution_count": 127,
   "metadata": {},
   "outputs": [],
   "source": [
    "def change_phone_str(s):\n",
    "    # 문자열 패턴\n",
    "    p = '[0-9영공일이둘삼사오육칠팔구빵]{3}[-]?[0-9영공일이둘삼사오육칠팔구빵]{3,4}[-]?[0-9영공일이둘삼사오육칠팔구빵]{4}'\n",
    "    \n",
    "    # 찾아 놓은 패턴 number에 저장\n",
    "    numbers = re.findall(p,s)\n",
    "    \n",
    "    # 패턴에 맞는 데이터 문자로된 숫자 숫자로 바꾸기\n",
    "    result = []\n",
    "    preprocess_dict = {\n",
    "            \"공\": 0,\n",
    "            \"영\": 0,\n",
    "            \"일\": 1,\n",
    "            \"둘\": 2,\n",
    "            \"이\": 2,\n",
    "            \"삼\": 3,\n",
    "            \"사\": 4,\n",
    "            \"오\": 5,\n",
    "            \"육\": 6,\n",
    "            \"칠\": 7,\n",
    "            \"팔\": 8,\n",
    "            \"구\": 9,\n",
    "            \"-\": \"\",\n",
    "    }\n",
    "    \n",
    "    for number in numbers:\n",
    "        mod_numbers = number\n",
    "        for key, value in preprocess_dict.items():\n",
    "            mod_numbers = mod_numbers.replace(key, str(value))\n",
    "        result.append(mod_numbers) \n",
    "    \n",
    "    # 결과값을 replace 하기\n",
    "    result_str = s\n",
    "    for idx, number in enumerate(numbers):\n",
    "        result_str = result_str.replace(number, result[idx])\n",
    "    return result_str"
   ]
  },
  {
   "cell_type": "code",
   "execution_count": 128,
   "metadata": {},
   "outputs": [
    {
     "data": {
      "text/plain": [
       "('안녕하세요. 저의 전화번호는 영일공-48구삼삼7이사 입니다. 또한 010사팔구삼삼구삼일 입니다.',\n",
       " '안녕하세요. 저의 전화번호는 01048933724 입니다. 또한 01048933931 입니다.')"
      ]
     },
     "execution_count": 128,
     "metadata": {},
     "output_type": "execute_result"
    }
   ],
   "source": [
    "s, change_phone_str(s)"
   ]
  },
  {
   "cell_type": "code",
   "execution_count": null,
   "metadata": {},
   "outputs": [],
   "source": []
  }
 ],
 "metadata": {
  "kernelspec": {
   "display_name": "Python 3",
   "language": "python",
   "name": "python3"
  },
  "language_info": {
   "codemirror_mode": {
    "name": "ipython",
    "version": 3
   },
   "file_extension": ".py",
   "mimetype": "text/x-python",
   "name": "python",
   "nbconvert_exporter": "python",
   "pygments_lexer": "ipython3",
   "version": "3.6.2"
  }
 },
 "nbformat": 4,
 "nbformat_minor": 2
}
