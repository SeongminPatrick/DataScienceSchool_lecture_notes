{
 "cells": [
  {
   "cell_type": "markdown",
   "metadata": {},
   "source": [
    "### 1.\n",
    "\n",
    "스러피(Slurpy)란 어떠한 속성이 존재하는 문자열이다. 문자열을 읽어서 스러피가 존재하는지를 판단하는 프로그램을 작성해야 한다.\n",
    "\n",
    "스럼프(Slump)는 다음 속성을 갖는 문자열이다.\n",
    "\n",
    "첫 번째 문자가 'D' 또는 'E'이다.\n",
    "첫 번째 문자 뒤에는 하나 이상의 'F'가 나온다.\n",
    "하나 이상의 'F' 뒤에는 또 다른 스럼프나 'G'가 온다. 스럼프는 'F' 끝에 오는 스럼프나 'G'로끝난다. 예를 들어, DFFEFFFG는 첫 번째 문자가 'D'로 시작하고 두 개의 'F'가 나오며, 또 다른스럼프 'EFFFG'로 끝난다.\n",
    "위의 경우가 아니면 스럼프가 아니다.\n",
    "\n",
    "\n",
    "스림프(Slimp)는 다음 속성을 갖는 문자열이다.\n",
    "\n",
    "첫 번째 문자는 'A'이다.\n",
    "두 개의 문자로만 된 스림프면, 두 번째 문자는 'H'이다.\n",
    "두 개의 문자로 된 스림프가 아니면 다음 형식 중의 하나가 된다.\n",
    "'A' + 'B' + 스림프 + 'C'. \n",
    "'A' + 스럼프 + 'C'.\n",
    "위의 경우가 아니면 스림프가 아니다.\n",
    "스러피(Slurpy)는 스림프(Slimp) 뒤에 스럼프(Slump)로 구성되는 문자열이다.\n",
    "\n",
    "\n",
    "- 다음은 그 예이다.\n",
    "\n",
    "    - Slumps : DFG, EFG, DFFFFFG, DFDFDFDFG, DFEFFFFFG\n",
    "    - Not Slumps: DFEFF, EFAHG, DEFG, DG, EFFFFDG  \n",
    "  \n",
    "    - Slimps: AH, ABAHC, ABABAHCC, ADFGC, ADFFFFGC, ABAEFGCC, ADFDFGC\n",
    "    - Not Slimps: ABC, ABAH, DFGC, ABABAHC, SLIMP, ADGC  \n",
    "  \n",
    "    - Slurpys: AHDFG, ADFGCDFFFFFG, ABAEFGCCDFEFFFFFG\n",
    "    - Not Slurpys: AHDFGA, DFGAH, ABABCC\n",
    "\n",
    "\n",
    "**입력**\n",
    "\n",
    "입력될 문자열의 개수를 나타내는 정수 N 이 1 ~ 10의 범위로 우선 입력된다. 다음 줄부터 N개의 문자열이 입력된다. 문자열은 1 ~ 60 개의 알파벳 문자로 구성된다.\n",
    "\n",
    "**출력**\n",
    "\n",
    "첫 줄에는 \"SLURPYS OUTPUT\"을 출력한다. N 개의 문자열 입력에 대해서 각 문자열이 스러피인지를 \"YES\" 또는 \"NO\"로 표기한다. 마지막으로 \"END OF OUTPUT\"를 출력한다.\n",
    "\n",
    "\n",
    "\n",
    "**Sample Input**\n",
    "\n",
    "2  \n",
    "AHDFG  \n",
    "DFGAH\n",
    "\n",
    "\n",
    "\n",
    "\n",
    "**Sample Output**\n",
    "\n",
    "SLURPYS OUTPUT  \n",
    "YES  \n",
    "NO  \n",
    "END OF OUTPUT"
   ]
  },
  {
   "cell_type": "code",
   "execution_count": 1,
   "metadata": {},
   "outputs": [],
   "source": [
    "import re"
   ]
  },
  {
   "cell_type": "code",
   "execution_count": 5,
   "metadata": {},
   "outputs": [],
   "source": [
    "slump = re.compile(\"[D|E]F+([D|E]F+)*G\")\n",
    "slimp = re.compile(\"AH|A([D|E]F+([D|E]F+)*G)+C|AB(AH|A([D|E]F+([D|E]F+)*G)+C|AB)+C\")"
   ]
  },
  {
   "cell_type": "code",
   "execution_count": 14,
   "metadata": {},
   "outputs": [],
   "source": [
    "def slump_match(i):\n",
    "    m = slump.match(i)\n",
    "    if m:\n",
    "        print(\"match\")\n",
    "    else:\n",
    "        print(\"NO\")\n",
    "        \n",
    "def slimp_match(i):\n",
    "    m = slimp.match(i)\n",
    "    if m:\n",
    "        print(\"match\")\n",
    "    else:\n",
    "        print(\"NO\")\n",
    "        \n",
    "def slurpy_match(i):\n",
    "    m = slimp.match(i)\n",
    "    if m:\n",
    "        slump_loc = i[len(m.group()):]\n",
    "        slump_check = slump.match(slump_loc)\n",
    "        if slump_check:\n",
    "            print(\"YES\")\n",
    "        else:\n",
    "            print(\"NO\")\n",
    "        \n",
    "        \n",
    "        \n",
    "    else:\n",
    "        print(\"NO\")"
   ]
  },
  {
   "cell_type": "code",
   "execution_count": 15,
   "metadata": {},
   "outputs": [
    {
     "name": "stdout",
     "output_type": "stream",
     "text": [
      "3\n",
      "ABAEFGCCDFEFFFFFG\n",
      "AHDFGA\n",
      "ABABAHCCDFFFFFG\n"
     ]
    }
   ],
   "source": [
    "n = int(input())\n",
    "string=[]\n",
    "for i in range(n):\n",
    "    arr = input()\n",
    "    string.append(arr)"
   ]
  },
  {
   "cell_type": "code",
   "execution_count": 16,
   "metadata": {},
   "outputs": [
    {
     "name": "stdout",
     "output_type": "stream",
     "text": [
      "SLURPYS OUTPUT\n",
      "YES\n",
      "YES\n",
      "NO\n",
      "END OF OUTPUT\n"
     ]
    }
   ],
   "source": [
    "print(\"SLURPYS OUTPUT\")\n",
    "for i in range(n):\n",
    "    slurpy_match(string[i])\n",
    "print(\"END OF OUTPUT\")"
   ]
  },
  {
   "cell_type": "markdown",
   "metadata": {},
   "source": [
    "## 2. \n",
    "\n",
    "The number 512 is interesting because it is equal to the sum of its digits raised to some power: 5 + 1 + 2 = 8, and $8^3$ = 512.  \n",
    "Another example of a number with this property is 614656 = $28^4$.\n",
    "\n",
    "We shall define $a_{n}$ to be the $n^{th}$ term of this sequence and insist that a number must contain at least two digits to have a sum.\n",
    "\n",
    "You are given that $a_{2}$ = 512 and $a_{10}$ = 614656.\n",
    "\n",
    "Find $a_{30}$."
   ]
  },
  {
   "cell_type": "code",
   "execution_count": null,
   "metadata": {},
   "outputs": [],
   "source": [
    "def add_all_digits(x):\n",
    "    return sum(map(int, str(x)))\n",
    "\n",
    "a = []\n",
    "n = 30\n",
    "\n",
    "for sum_of_digit in range(2, 1000):\n",
    "    for square in range(2, 100):\n",
    "        an = sum_of_digit ** square\n",
    "        if add_all_digits(an) == sum_of_digit: \n",
    "            a.append(an)\n",
    "\n",
    "a.sort()\n",
    "print(\"a({}) = {}\".format(n, a[n-1]))"
   ]
  },
  {
   "cell_type": "markdown",
   "metadata": {},
   "source": [
    "## 3.\n",
    "\n",
    "아래처럼 6 6이라는 입력을 주면 6 X 6 매트릭스에 나선형 회전을 한 값을 출력해야 한다."
   ]
  },
  {
   "cell_type": "code",
   "execution_count": null,
   "metadata": {},
   "outputs": [],
   "source": [
    "# 6 6\n",
    "\n",
    "#   0   1   2   3   4   5\n",
    "#  19  20  21  22  23   6\n",
    "#  18  31  32  33  24   7\n",
    "#  17  30  35  34  25   8\n",
    "#  16  29  28  27  26   9\n",
    "#  15  14  13  12  11  10"
   ]
  },
  {
   "cell_type": "code",
   "execution_count": null,
   "metadata": {},
   "outputs": [],
   "source": []
  },
  {
   "cell_type": "code",
   "execution_count": null,
   "metadata": {},
   "outputs": [],
   "source": []
  },
  {
   "cell_type": "code",
   "execution_count": null,
   "metadata": {},
   "outputs": [],
   "source": []
  },
  {
   "cell_type": "code",
   "execution_count": null,
   "metadata": {},
   "outputs": [],
   "source": []
  },
  {
   "cell_type": "markdown",
   "metadata": {},
   "source": [
    "## 4."
   ]
  },
  {
   "cell_type": "markdown",
   "metadata": {},
   "source": [
    "다음과 같은 형태의 배열을  \n",
    "\n",
    "[a1,a2,a3...,an,b1,b2...bn]  \n",
    "\n",
    "다음과 같은 형태로 바꾸시오  \n",
    "\n",
    "[a1,b1,a2,b2.....an,bn]  "
   ]
  },
  {
   "cell_type": "code",
   "execution_count": null,
   "metadata": {},
   "outputs": [],
   "source": [
    "# set n\n",
    "n = 5\n",
    "\n",
    "# create initial array\n",
    "a = []\n",
    "b = []\n",
    "\n",
    "for num1 in range(1, n+1):\n",
    "    an = \"{}{}\".format(\"a\", num1)\n",
    "    a.append(an)\n",
    "    bn = \"{}{}\".format(\"b\", num1)\n",
    "    b.append(bn)\n",
    "a.extend(b)\n",
    "initial_data = a\n",
    "\n",
    "print(\"initial data : \", initial_data)\n",
    "\n",
    "# rearrange array\n",
    "a = initial_data[:((len(initial_data) // 2))]\n",
    "b = initial_data[(len(initial_data) // 2):]\n",
    "\n",
    "result = []\n",
    "for num2 in range(n):\n",
    "    result.append(a[num2])\n",
    "    result.append(b[num2])\n",
    "    \n",
    "print(\"result : \", result)"
   ]
  },
  {
   "cell_type": "code",
   "execution_count": null,
   "metadata": {},
   "outputs": [],
   "source": [
    "\n",
    "\n"
   ]
  },
  {
   "cell_type": "code",
   "execution_count": null,
   "metadata": {},
   "outputs": [],
   "source": []
  },
  {
   "cell_type": "code",
   "execution_count": null,
   "metadata": {},
   "outputs": [],
   "source": []
  },
  {
   "cell_type": "code",
   "execution_count": null,
   "metadata": {},
   "outputs": [],
   "source": []
  }
 ],
 "metadata": {
  "kernelspec": {
   "display_name": "Python 3",
   "language": "python",
   "name": "python3"
  },
  "language_info": {
   "codemirror_mode": {
    "name": "ipython",
    "version": 3
   },
   "file_extension": ".py",
   "mimetype": "text/x-python",
   "name": "python",
   "nbconvert_exporter": "python",
   "pygments_lexer": "ipython3",
   "version": "3.6.2"
  }
 },
 "nbformat": 4,
 "nbformat_minor": 2
}
