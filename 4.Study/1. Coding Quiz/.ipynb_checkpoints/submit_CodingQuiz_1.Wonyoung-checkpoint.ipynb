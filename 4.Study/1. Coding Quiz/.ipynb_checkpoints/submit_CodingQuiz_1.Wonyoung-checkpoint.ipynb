{
 "cells": [
  {
   "cell_type": "markdown",
   "metadata": {},
   "source": [
    "### 1. \n",
    "If we list all the natural numbers below 10 that are multiples of 3 or 5, we get 3, 5, 6 and 9. The sum of these multiples is 23.\n",
    "Find the sum of all the multiples of 3 or 5 below 1000."
   ]
  },
  {
   "cell_type": "code",
   "execution_count": 1,
   "metadata": {},
   "outputs": [
    {
     "name": "stdout",
     "output_type": "stream",
     "text": [
      "233168\n"
     ]
    }
   ],
   "source": [
    "# def sum_func(n):\n",
    "def sum_func(n):\n",
    "    ls = []\n",
    "    for num in range(1, 1000):\n",
    "        if num % 3 ==0 or num % 5== 0:\n",
    "            ls.append(num)\n",
    "    print(sum(ls))\n",
    "\n",
    "sum_func(1000)"
   ]
  },
  {
   "cell_type": "markdown",
   "metadata": {},
   "source": [
    " "
   ]
  },
  {
   "cell_type": "markdown",
   "metadata": {},
   "source": [
    "### 2. \n",
    "2이상 1000이하 자연수의 집합에서 소수의 개수를 구하는 알고리즘을 작성하시오."
   ]
  },
  {
   "cell_type": "code",
   "execution_count": 1,
   "metadata": {},
   "outputs": [],
   "source": [
    "def prime_func(n):\n",
    "\n",
    "    prime_num=[]\n",
    "\n",
    "    for a in range(2, 1000+1):\n",
    "        if a==2:\n",
    "            prime_num.append(a) \n",
    "        else: \n",
    "            for j in prime_num: \n",
    "                if a%j==0:\n",
    "                    break\n",
    "            if j==prime_num[-1]:\n",
    "                prime_num.append(a)\n",
    "        \n",
    "    print(len(prime_num))"
   ]
  },
  {
   "cell_type": "code",
   "execution_count": 2,
   "metadata": {},
   "outputs": [
    {
     "name": "stdout",
     "output_type": "stream",
     "text": [
      "168\n"
     ]
    }
   ],
   "source": [
    "prime_func(1000)"
   ]
  },
  {
   "cell_type": "markdown",
   "metadata": {},
   "source": [
    " "
   ]
  },
  {
   "cell_type": "markdown",
   "metadata": {},
   "source": [
    " "
   ]
  },
  {
   "cell_type": "markdown",
   "metadata": {},
   "source": [
    "### 3. \n",
    "피보나치 수열의 각 항은 바로 앞의 항 두 개를 더한 것이 됩니다. 1과 2로 시작하는 경우 이 수열은 아래와 같습니다.\n",
    "1, 2, 3, 5, 8, 13, 21, 34, 55, 89, ...\n",
    "짝수이면서 4백만 이하인 모든 항을 더하면 얼마가 됩니까?"
   ]
  },
  {
   "cell_type": "code",
   "execution_count": 20,
   "metadata": {},
   "outputs": [
    {
     "name": "stdout",
     "output_type": "stream",
     "text": [
      "4613732\n"
     ]
    }
   ],
   "source": [
    "def fibo_even(n):\n",
    "    fibo = []\n",
    "    a, b = 0, 1\n",
    "    while a < n:\n",
    "        a, b = b, a + b\n",
    "        fibo.append(a)\n",
    "        if b >n: \n",
    "            break\n",
    "    \n",
    "    fibo_even = []\n",
    "    for num in fibo:\n",
    "        if num % 2 == 0:\n",
    "            fibo_even.append(num)\n",
    "    print(sum(fibo_even))\n",
    "            \n",
    "\n",
    "    \n",
    "\n",
    "fibo_even(4000000)"
   ]
  },
  {
   "cell_type": "markdown",
   "metadata": {},
   "source": [
    " "
   ]
  },
  {
   "cell_type": "markdown",
   "metadata": {},
   "source": [
    "### 4. \n",
    "1부터 10,000까지 8이라는 숫자가 총 몇번 나오는가? <br>\n",
    "8이 포함되어 있는 숫자의 갯수를 카운팅 하는 것이 아니라 8이라는 숫자를 모두 카운팅 해야 한다. <br>\n",
    "(※ 예를들어 8808은 3, 8888은 4로 카운팅 해야 함)"
   ]
  },
  {
   "cell_type": "code",
   "execution_count": 3,
   "metadata": {},
   "outputs": [
    {
     "name": "stdout",
     "output_type": "stream",
     "text": [
      "4000\n"
     ]
    }
   ],
   "source": [
    "def count_8(n):\n",
    "    ls = []\n",
    "    for num in range(1, n+1):\n",
    "        num2 = list(str(num))\n",
    "        ls.extend(num2)\n",
    "#     print(ls)\n",
    "    print(ls.count(\"8\"))\n",
    "\n",
    "    \n",
    "count_8(10000)\n",
    "        "
   ]
  },
  {
   "cell_type": "code",
   "execution_count": 15,
   "metadata": {},
   "outputs": [
    {
     "data": {
      "text/plain": [
       "4000"
      ]
     },
     "execution_count": 15,
     "metadata": {},
     "output_type": "execute_result"
    }
   ],
   "source": [
    "str(list(range(1,10000+1))).count('8')"
   ]
  },
  {
   "cell_type": "markdown",
   "metadata": {},
   "source": [
    " "
   ]
  },
  {
   "cell_type": "code",
   "execution_count": null,
   "metadata": {},
   "outputs": [],
   "source": []
  }
 ],
 "metadata": {
  "kernelspec": {
   "display_name": "Python 3",
   "language": "python",
   "name": "python3"
  },
  "language_info": {
   "codemirror_mode": {
    "name": "ipython",
    "version": 3
   },
   "file_extension": ".py",
   "mimetype": "text/x-python",
   "name": "python",
   "nbconvert_exporter": "python",
   "pygments_lexer": "ipython3",
   "version": "3.6.2"
  }
 },
 "nbformat": 4,
 "nbformat_minor": 2
}
