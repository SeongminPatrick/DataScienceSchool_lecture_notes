{
 "cells": [
  {
   "cell_type": "markdown",
   "metadata": {},
   "source": [
    "## 배열과 리스트를 이해하기 전에\n",
    "- 메모리를 이해해야 한다"
   ]
  },
  {
   "cell_type": "markdown",
   "metadata": {},
   "source": [
    "## 메모리란?\n",
    "- 컴퓨터가 데이터를 저장하는 공간\n",
    "- 16진수로 주소를 표현 (0 ~ F)\n",
    "> 프로그램에서 변수를 선언할 때 컴퓨터에게 메모리에 공간을 요청함"
   ]
  },
  {
   "cell_type": "markdown",
   "metadata": {},
   "source": [
    "## 배열\n",
    "> 1. 데이터를 위한 연속적인 메모리 공간을 할당한 구조\n",
    "    - 장점 => 읽기가 빠름 (배열은 random access를 하므로)\n",
    "    - 단점\n",
    "        1. 삽입/삭제가 느림 (전체 요소를 옮겨야 할 수 있음)\n",
    "        2. 배열 내의 모든 데이터는 자료형이 같아야 함\n",
    "> 2. np.array로 사용\n",
    "> 3. 삽입/삭제보다 읽기를 많이 쓸 때 사용"
   ]
  },
  {
   "cell_type": "markdown",
   "metadata": {},
   "source": [
    "## 리스트\n",
    "> 1. (데이터, 다음 주소)가 연결된 형태의 구조http://winplz.tistory.com/entry/%EC%9E%90%EB%A3%8C%EA%B5%AC%EC%A1%B0%EC%97%B0%EA%B2%B0-%EB%A6%AC%EC%8A%A4%ED%8A%B8Linked-List\n",
    "    - 장점 => 삽입/삭제가 빠름\n",
    "    - 단점 => 읽기가 느림 (리스트는 sequential access를 하므로)\n",
    "> 2. list, [ ]로 사용\n",
    "> 3. 읽기보다 삽입/삭제가 많을 때 사용"
   ]
  },
  {
   "cell_type": "markdown",
   "metadata": {},
   "source": [
    "## Random access VS Sequential access\n",
    "> https://www.webopedia.com/TERM/R/random_access.html"
   ]
  },
  {
   "cell_type": "markdown",
   "metadata": {},
   "source": [
    "- Random access = 어느 메모리 위치에 저장된 데이터여도 읽기(접근시간)이 같다\n",
    "- Sequential access = 특정 데이터에 접근하려면 그만큼 시간이 걸린다"
   ]
  },
  {
   "cell_type": "markdown",
   "metadata": {},
   "source": [
    "## 정렬\n",
    "- 데이터들을 특정 순서대로 나열한 것 (오름차순, 내림차순)\n",
    "- 많은 정렬방법이 있고 그 중에 선택정렬이 있다"
   ]
  },
  {
   "cell_type": "markdown",
   "metadata": {},
   "source": [
    "## 선택정렬\n",
    "- 존재하는 데이터들을 linear search하여 정렬하는 방법\n",
    "- 간단하지만 시간이 오래 걸린다\n",
    "- 예제는 교재 38p 참고"
   ]
  },
  {
   "cell_type": "markdown",
   "metadata": {},
   "source": [
    "# 추가\n",
    "- 메인보드 내 메모리 위치\n",
    "- 폰노이만 아키텍처 + 보틀넥\n",
    "- 프로그램 메모리 공간 (힙, 스택, 데이터, 코드)\n",
    "- 가상메모리"
   ]
  },
  {
   "cell_type": "code",
   "execution_count": null,
   "metadata": {},
   "outputs": [],
   "source": []
  }
 ],
 "metadata": {
  "kernelspec": {
   "display_name": "Python 3",
   "language": "python",
   "name": "python3"
  },
  "language_info": {
   "codemirror_mode": {
    "name": "ipython",
    "version": 3
   },
   "file_extension": ".py",
   "mimetype": "text/x-python",
   "name": "python",
   "nbconvert_exporter": "python",
   "pygments_lexer": "ipython3",
   "version": "3.6.3"
  }
 },
 "nbformat": 4,
 "nbformat_minor": 2
}
