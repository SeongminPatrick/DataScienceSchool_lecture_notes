{
 "cells": [
  {
   "cell_type": "markdown",
   "metadata": {},
   "source": [
    "# 혼자서 쓰는데 처음 만드는 경우\n",
    "1. github 홈페이지에서 __repo를 만든다__\n",
    "2. 원하는 경로에서 __git clone repo주소.git__\n",
    "   > ex) git clone https://github.com/chulsoo/practice.git\n",
    "   \n",
    "3. 현재 디렉토리에 repo주소이름으로 디렉토리가 만들어졌음. __그 곳으로 이동 !__\n",
    "4. __그 디렉토리에서 작업__\n",
    "\n",
    "5. git add *\n",
    "   \n",
    "6. git commit -m '기록할 메세지'\n",
    "   \n",
    "7. git push origin master\n",
    "\n",
    "--------------------------------------------\n",
    "예상질문\n",
    "    1. git remote add origin은 안하나요?\n",
    "        = git clone하면 해당 repo주소가 remote에 'origin'이라는 이름으로 자동으로 하나 딸려옴\n",
    "        = 터미널 창에서 git remote -v로 확인"
   ]
  },
  {
   "cell_type": "markdown",
   "metadata": {},
   "source": [
    "# 혼자서 쓰는데 이미 클론한 경우\n",
    "1. clone한 디렉토리로 이동\n",
    "2. __이 디렉토리에서 작업__\n",
    "3. git add *\n",
    "4. git commit -m '기록할 메세지'\n",
    "5. git push origin master"
   ]
  },
  {
   "cell_type": "markdown",
   "metadata": {},
   "source": [
    "# 같이 쓰는 경우\n",
    "가정\n",
    "    * 조장이 있고 조원들이 있음\n",
    "    * 조원들이 조장의 repo에서 작업해야 함\n",
    "    \n",
    "    이 때 두가지 방법이 있음\n",
    "   > A. __조장__이 본인repo->option에 들어가서 __collaborator__로 조원들을 초대함\n",
    "   \n",
    "   > B. __조원__들이 조장의 repo를 __fork__함"
   ]
  },
  {
   "cell_type": "markdown",
   "metadata": {},
   "source": [
    "# A. 조장이 조원들을 collaborator로 초대하는 방법\n",
    "    1. 조장의 repo를 조원들이 위의 혼자서 쓰는 repo랑 똑같이 쓰면 됨"
   ]
  },
  {
   "cell_type": "markdown",
   "metadata": {},
   "source": [
    "# B. 조원들이 조장의 repo를 fork해서 쓰는 방법\n",
    "    1. 조장은 repo를 팜\n",
    "    2. 조원들은 홈페이지에서 조장의 그 repo를 fork함\n",
    "    3. 조원들은 fork한 repo를 clone\n",
    "    4. clone한 디렉토리에서 git add, commit, push\n",
    "    5. 조원들은 홈페이지에서 fork한 repo로 감\n",
    "    6. pull request를 함 (New pull request버튼 누르고 진행)\n",
    "    7. 조장은 홈페이지에서 repo에 pull request가 온 걸 확인\n",
    "    8. 조원들의 수정사항을 반영할 지 안할 지 결정"
   ]
  },
  {
   "cell_type": "markdown",
   "metadata": {},
   "source": [
    "# B. 조장의 repo를 조원들이 pull하고 싶을 땐?\n",
    "    1. 조원들의 clone한 디렉토리로 이동\n",
    "    2. git remote add upstream 조장repo주소.git\n",
    "    3. git pull upstream master\n",
    "        (자세한 내용은 맨 아래 참고)"
   ]
  },
  {
   "cell_type": "markdown",
   "metadata": {},
   "source": [
    "------------"
   ]
  },
  {
   "cell_type": "markdown",
   "metadata": {},
   "source": [
    "# 일어날 수 있는 상황에 대한 해결책"
   ]
  },
  {
   "cell_type": "markdown",
   "metadata": {},
   "source": [
    "## add, commit까지 됬는데 push가 안되요\n",
    "1. pull부터 하세요"
   ]
  },
  {
   "cell_type": "markdown",
   "metadata": {},
   "source": [
    "## pull했는데 vi editor로 넘어가지면서 merge머시기라고 떠요\n",
    "* 원인 = 같은 파일의 다른 라인에 수정사항이 겹쳐서 그럼\n",
    "\n",
    "* 해결책 \n",
    "    > 1. 에디터에 커서가 깜빡이는지 확인\n",
    "    \n",
    "    > 2. 키보드 esc\n",
    "    \n",
    "    > 3. :wq\n",
    "    \n",
    "    > 4. 엔터"
   ]
  },
  {
   "cell_type": "markdown",
   "metadata": {},
   "source": [
    "## push나 pull을 하는데 merge conflict가 났다면서 안되요\n",
    "* 원인 = 같은 파일의 같은 라인에 수정사항이 겹쳐서 그럼\n",
    "\n",
    "* 해결책\n",
    "    > 1. conflict가 난 파일을 엶\n",
    "    \n",
    "    > 2. conflict가 난 라인에 대해 어느 수정사항을 남길건지 결정\n",
    "    \n",
    "    > 3. 저장\n",
    "    \n",
    "    > 4. 다시 push나 pull"
   ]
  },
  {
   "cell_type": "markdown",
   "metadata": {},
   "source": [
    "# github\n",
    "1. 저장소에 수정사항을 올리고 싶다\n",
    "   = __add, commit, push__\n",
    "        A. 간단한 설명\n",
    "    > git add *\n",
    "    \n",
    "    > git commit -m '수정사항 메시지'\n",
    "    \n",
    "    > git push origin master\n",
    "    \n",
    "        B. 자세한 설명\n",
    "    > git add _올리고_싶은_파일_\n",
    "    \n",
    "    > git commit -m '올릴 파일, 작업한 내용'\n",
    "    \n",
    "    > git push remote명 branch명\n",
    "    \n",
    "ex) git push __origin__ __master__\n",
    "     = __'origin'이라는 remote에 담긴 repo주소__로 __master라는 branch__의 내용을 __push__해라 (올려라)\n",
    "     \n",
    "ex) git pull __upstream__ __master__\n",
    "     = __'upstream'이라는 remote에 담긴 repo주소__로 __master라는 branch__의 내용을 __pull__해라 (받아와라)"
   ]
  },
  {
   "cell_type": "code",
   "execution_count": null,
   "metadata": {},
   "outputs": [],
   "source": []
  }
 ],
 "metadata": {
  "kernelspec": {
   "display_name": "Python 3",
   "language": "python",
   "name": "python3"
  },
  "language_info": {
   "codemirror_mode": {
    "name": "ipython",
    "version": 3
   },
   "file_extension": ".py",
   "mimetype": "text/x-python",
   "name": "python",
   "nbconvert_exporter": "python",
   "pygments_lexer": "ipython3",
   "version": "3.6.2"
  }
 },
 "nbformat": 4,
 "nbformat_minor": 2
}
