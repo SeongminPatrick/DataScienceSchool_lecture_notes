{
 "cells": [
  {
   "cell_type": "code",
   "execution_count": 1,
   "metadata": {
    "hidden": "all",
    "school_cell_uuid": "8d08daa31e7c48f4a86b5cdb7b2d6a3f"
   },
   "outputs": [],
   "source": [
    "%load_ext tikzmagic"
   ]
  },
  {
   "cell_type": "markdown",
   "metadata": {
    "collapsed": true,
    "school_cell_uuid": "5f4daf7d16ce46969053a7d95bed3d2e"
   },
   "source": [
    "# 벡터와 행렬의 연산"
   ]
  },
  {
   "cell_type": "markdown",
   "metadata": {
    "school_cell_uuid": "dfcec2b1bfba4b769d7bcf316d0d9949"
   },
   "source": [
    "벡터와 행렬도 숫자처럼 덧셈, 뺄셈, 곱셈 등의 연산을 할 수 있다. 행렬의 연산을 이용하면 대량의 데이터에 대한 계산을 간단한 수식으로 나타낼 수 있다. 물론 행렬에 대한 연산은 숫자의 사칙 연산과는 몇 가지 다른 점이 있으므로 이러한 차이를 잘 알아야 한다."
   ]
  },
  {
   "cell_type": "markdown",
   "metadata": {
    "school_cell_uuid": "cb94846e5abe46fd92f6ff3c7a7b9a25"
   },
   "source": [
    "##  벡터와 행렬의 덧셈과 뺄셈"
   ]
  },
  {
   "cell_type": "markdown",
   "metadata": {
    "school_cell_uuid": "080cd979ae564a93a3c095855b315d25"
   },
   "source": [
    "같은 크기를 가진 두 개의 벡터나 행렬은 덧셈과 뺄셈을 할 수 있다. 두 벡터와 행렬에서 같은 위치에 있는 원소끼리 덧셈과 뺄셈을 하면 된다. 이러한 연산을 요소별(element-wise) 연산이라고 한다. 예를 들어 벡터 x와 y가 다음과 같으면,"
   ]
  },
  {
   "cell_type": "markdown",
   "metadata": {
    "school_cell_uuid": "68780cec81124d158b3e8d074bbf0785"
   },
   "source": [
    "예를 들어 벡터 $x$와 $y$가 다음과 같으면,\n",
    "\n",
    "$$\n",
    "x=\n",
    "\\begin{bmatrix}\n",
    "10 \\\\\n",
    "11 \\\\\n",
    "12 \\\\\n",
    "13 \\\\\n",
    "14 \\\\\n",
    "\\end{bmatrix}\n",
    "$$"
   ]
  },
  {
   "cell_type": "markdown",
   "metadata": {
    "school_cell_uuid": "d0684094b83f41e6b8ed4f801bb363c7"
   },
   "source": [
    "$$\n",
    "y=\n",
    "\\begin{bmatrix}\n",
    "0 \\\\\n",
    "1 \\\\\n",
    "2 \\\\\n",
    "3 \\\\\n",
    "4 \\\\\n",
    "\\end{bmatrix}\n",
    "$$"
   ]
  },
  {
   "cell_type": "markdown",
   "metadata": {
    "school_cell_uuid": "67696a72a82f48e3aff3c81ff7cd0062"
   },
   "source": [
    "벡터 $x$와 $y$의 덧셈 $x+y$와 뺄셈 $x-y$는 다음과 같다."
   ]
  },
  {
   "cell_type": "markdown",
   "metadata": {
    "school_cell_uuid": "aa61b56460464ec5b8d84979ef4fd82f"
   },
   "source": [
    "\n",
    "$$\n",
    "x + y =\n",
    "\\begin{bmatrix}\n",
    "10 \\\\\n",
    "11 \\\\\n",
    "12 \\\\\n",
    "13 \\\\\n",
    "14 \\\\\n",
    "\\end{bmatrix}\n",
    "+\n",
    "\\begin{bmatrix}\n",
    "0 \\\\\n",
    "1 \\\\\n",
    "2 \\\\\n",
    "3 \\\\\n",
    "4 \\\\\n",
    "\\end{bmatrix}\n",
    "=\n",
    "\\begin{bmatrix}\n",
    "10 + 0 \\\\\n",
    "11 + 1 \\\\\n",
    "12 + 2 \\\\\n",
    "13 + 3 \\\\\n",
    "14 + 4 \\\\\n",
    "\\end{bmatrix}\n",
    "=\n",
    "\\begin{bmatrix}\n",
    "10 \\\\\n",
    "12 \\\\\n",
    "14 \\\\\n",
    "16 \\\\\n",
    "18 \\\\\n",
    "\\end{bmatrix}\n",
    "$$"
   ]
  },
  {
   "cell_type": "markdown",
   "metadata": {
    "school_cell_uuid": "48305b15d956489ab356ee62953a1ad7"
   },
   "source": [
    "\n",
    "$$\n",
    "x - y =\n",
    "\\begin{bmatrix}\n",
    "10 \\\\\n",
    "11 \\\\\n",
    "12 \\\\\n",
    "13 \\\\\n",
    "14 \\\\\n",
    "\\end{bmatrix}\n",
    "-\n",
    "\\begin{bmatrix}\n",
    "0 \\\\\n",
    "1 \\\\\n",
    "2 \\\\\n",
    "3 \\\\\n",
    "4 \\\\\n",
    "\\end{bmatrix}\n",
    "=\n",
    "\\begin{bmatrix}\n",
    "10 - 0 \\\\\n",
    "11 - 1 \\\\\n",
    "12 - 2 \\\\\n",
    "13 - 3 \\\\\n",
    "14 - 4 \\\\\n",
    "\\end{bmatrix}\n",
    "=\n",
    "\\begin{bmatrix}\n",
    "10 \\\\\n",
    "10 \\\\\n",
    "10 \\\\\n",
    "10 \\\\\n",
    "10 \\\\\n",
    "\\end{bmatrix}\n",
    "$$"
   ]
  },
  {
   "cell_type": "markdown",
   "metadata": {
    "school_cell_uuid": "1615caac7bce4f7194eb23696ca9c9f1"
   },
   "source": [
    "이를 NumPy로 계산하면 다음과 같다. 여기에서는 편의상 1차원 배열로 벡터를 표시하였다."
   ]
  },
  {
   "cell_type": "code",
   "execution_count": 2,
   "metadata": {
    "school_cell_uuid": "92a4f1bd51064d95b35f88d28de98185"
   },
   "outputs": [
    {
     "data": {
      "text/plain": [
       "array([10, 11, 12, 13, 14])"
      ]
     },
     "execution_count": 2,
     "metadata": {},
     "output_type": "execute_result"
    }
   ],
   "source": [
    "x = np.array([10, 11, 12, 13, 14])\n",
    "x"
   ]
  },
  {
   "cell_type": "code",
   "execution_count": 3,
   "metadata": {
    "school_cell_uuid": "a0fcb470100348b7af0b613cc2c92969"
   },
   "outputs": [
    {
     "data": {
      "text/plain": [
       "array([0, 1, 2, 3, 4])"
      ]
     },
     "execution_count": 3,
     "metadata": {},
     "output_type": "execute_result"
    }
   ],
   "source": [
    "y = np.array([0, 1, 2, 3, 4])\n",
    "y"
   ]
  },
  {
   "cell_type": "code",
   "execution_count": 4,
   "metadata": {
    "school_cell_uuid": "a6e0e116c37142eabae65a0a118616eb"
   },
   "outputs": [
    {
     "data": {
      "text/plain": [
       "array([10, 12, 14, 16, 18])"
      ]
     },
     "execution_count": 4,
     "metadata": {},
     "output_type": "execute_result"
    }
   ],
   "source": [
    "x + y"
   ]
  },
  {
   "cell_type": "code",
   "execution_count": 5,
   "metadata": {
    "school_cell_uuid": "4ce5a014512f4b3192455936c19eb65f"
   },
   "outputs": [
    {
     "data": {
      "text/plain": [
       "array([10, 10, 10, 10, 10])"
      ]
     },
     "execution_count": 5,
     "metadata": {},
     "output_type": "execute_result"
    }
   ],
   "source": [
    "x - y"
   ]
  },
  {
   "cell_type": "markdown",
   "metadata": {
    "school_cell_uuid": "f4337cb32cd64edd93b0b1f4f2f1d262"
   },
   "source": [
    "행렬도 마찬가지 방법으로 덧셈과 뺄셈을 할 수 있다.\n",
    "\n",
    "$$\n",
    "\\begin{bmatrix}\n",
    "5 & 6 \\\\\n",
    "7 & 8\n",
    "\\end{bmatrix}\n",
    "+\n",
    "\\begin{bmatrix}\n",
    "10 & 20 \\\\\n",
    "30 & 40 \\\\\n",
    "\\end{bmatrix}\n",
    "-\n",
    "\\begin{bmatrix}\n",
    "1 & 2 \\\\\n",
    "3 & 4\n",
    "\\end{bmatrix}\n",
    "=\n",
    "\\begin{bmatrix}\n",
    "14 & 24 \\\\\n",
    "34 & 44\n",
    "\\end{bmatrix}\n",
    "$$"
   ]
  },
  {
   "cell_type": "code",
   "execution_count": 6,
   "metadata": {
    "school_cell_uuid": "bc68ddf94d6440fbba1429151b06ea28"
   },
   "outputs": [
    {
     "data": {
      "text/plain": [
       "array([[14, 24],\n",
       "       [34, 44]])"
      ]
     },
     "execution_count": 6,
     "metadata": {},
     "output_type": "execute_result"
    }
   ],
   "source": [
    "np.array([[5, 6], [7, 8]]) + np.array([[10, 20], [30, 40]]) - np.array([[1, 2], [3, 4]])"
   ]
  },
  {
   "cell_type": "markdown",
   "metadata": {
    "school_cell_uuid": "e0a59b5e8b814543ad79c6a660b4bb6a"
   },
   "source": [
    "## 벡터의 곱셈(내적)"
   ]
  },
  {
   "cell_type": "markdown",
   "metadata": {
    "school_cell_uuid": "f09ed6d691264628b902c4e609a30d1d"
   },
   "source": [
    "행렬의 곱셈을 정의하기 전에 우선 두 벡터의 곱셈을 알아보자. 벡터를 곱셈하는 방법은 **내적(inner product)**과 **외적(outer product)** 등 여러 가지가 있다. 여기서는 내적에 대해서만 다룰 것이므로 그냥 곱셈이라고 하면 내적이라고 생각하면 된다. 벡터 $x$와 벡터 $y$의 내적은 다음처럼 앞에 오는 벡터를 \n",
    "행벡터로 변환한 다음 뒤에 곱하는 벡터는 붙여쓴다.\n",
    "\n",
    "$$ x^T y $$\n",
    "\n",
    "내적은 다음처럼 점(dot)으로 표기하는 경우도 있어서 **dot product**라고 하기도 한다. \n",
    "\n",
    "$$ x \\cdot y = x^T y $$"
   ]
  },
  {
   "cell_type": "markdown",
   "metadata": {
    "school_cell_uuid": "7076351d20ed471fa6a949f83a279161"
   },
   "source": [
    "두 벡터의 곱셈을 하려면 다음과 같은 조건이 만족되어야 한다.\n",
    "\n",
    "1. 우선 두 벡터의 길이가 같아야 한다. \n",
    "2. 앞의 벡터가 행 벡터이고 뒤의 벡터가 열 벡터여야 한다.  \n",
    "\n",
    "이때 두 벡터의 곱은 다음처럼 정의한다. 우선 같은 위치에 있는 원소들을 각각 곱한 다음에 그 값들을 다시 모두 더해서 하나의 스칼라값으로 만든다."
   ]
  },
  {
   "cell_type": "markdown",
   "metadata": {
    "school_cell_uuid": "37272324bff547039a8c88e3e15cd631"
   },
   "source": [
    "$$\n",
    "x^T y = \n",
    "\\begin{bmatrix}\n",
    "x_{1} & x_{2} & \\cdots & x_{N} \n",
    "\\end{bmatrix}\n",
    "\\begin{bmatrix}\n",
    "y_{1} \\\\\n",
    "y_{2} \\\\\n",
    "\\vdots \\\\\n",
    "y_{N} \\\\\n",
    "\\end{bmatrix} \n",
    "= x_1 y_1 + \\cdots + x_N y_N \n",
    "= \\sum_{i=1}^N x_i y_i\n",
    "$$"
   ]
  },
  {
   "cell_type": "markdown",
   "metadata": {
    "school_cell_uuid": "4dced47e75664a3081045f0b23531193"
   },
   "source": [
    "각각의 벡터의 크기를 표시하면 다음과 같다.\n",
    "\n",
    "$$ x \\in \\mathbf{R}^{N \\times 1} , \\; y \\in \\mathbf{R}^{N \\times 1} \\;  \\rightarrow \\; x^T y \\in \\mathbf{R} $$"
   ]
  },
  {
   "cell_type": "markdown",
   "metadata": {
    "school_cell_uuid": "b6c82e49b1124ff9937d78277b64a52d"
   },
   "source": [
    "왜 벡터의 곱셈은 덧셈이나 뺄셈과 달리 이렇게 복잡하게 정의된 것일까. 왜냐하면, 실제로 데이터 분석을 할 때 이러한 연산을 사용하는 경우가 많기 때문이다. 벡터의 곱셈을 사용하여 데이터를 분석하는 몇 가지 예를 살펴보자."
   ]
  },
  {
   "cell_type": "markdown",
   "metadata": {
    "school_cell_uuid": "52306dedaf4a4ef3b3b9962fe784d772"
   },
   "source": [
    "## 가중합"
   ]
  },
  {
   "cell_type": "markdown",
   "metadata": {
    "school_cell_uuid": "7b2e2ce1a713483e9d6103c053dcdd78"
   },
   "source": [
    "**가중합(weighted sum)**이란 복수의 데이터를 단순히 합하는 것이 아니라 각각의 수에 어떤 가중치 값을 곱한 후 이 곱셈 결과들을 다시 합한 것을 말한다. **선형 조합(linear combination)**이라고도 부른다.\n",
    "\n",
    "만약 데이터가 $x=[x_1, \\cdots, x_N]^T$ 이고 가중치가 $w=[w_1, \\cdots, w_N]^T$ 이면 가중합은 다음과 같다."
   ]
  },
  {
   "cell_type": "markdown",
   "metadata": {
    "school_cell_uuid": "27a12ff30c244e4ea555a35a3f5b51a7"
   },
   "source": [
    "$$ w_1 x_1 + \\cdots + w_N x_N = \\sum_{i=1}^N w_i x_i   $$ "
   ]
  },
  {
   "cell_type": "markdown",
   "metadata": {
    "school_cell_uuid": "20b3cb369f9b4c01b14ad4228af67b16"
   },
   "source": [
    "이 값을 벡터 $x$와 $w$의 곱으로 나타내면 다음과 같이 $w^Tx$ 또는 $x^Tw$ 라는 간단한 수식으로 표시할 수 있다."
   ]
  },
  {
   "cell_type": "markdown",
   "metadata": {
    "school_cell_uuid": "158c219e1a3146aeafc5c99d89f79ba1"
   },
   "source": [
    "$$ \n",
    "\\sum_{i=1}^N w_i x_i   \n",
    "$$"
   ]
  },
  {
   "cell_type": "markdown",
   "metadata": {
    "school_cell_uuid": "158c219e1a3146aeafc5c99d89f79ba1"
   },
   "source": [
    "$$\n",
    "= \n",
    "\\begin{bmatrix}\n",
    "w_{1} && w_{2} && \\cdots && w_{N}\n",
    "\\end{bmatrix}\n",
    "\\begin{bmatrix}\n",
    "x_1 \\\\ x_2 \\\\ \\vdots \\\\ x_N\n",
    "\\end{bmatrix}\n",
    "= w^Tx\n",
    "$$"
   ]
  },
  {
   "cell_type": "markdown",
   "metadata": {
    "school_cell_uuid": "158c219e1a3146aeafc5c99d89f79ba1"
   },
   "source": [
    "$$\n",
    "=\n",
    "\\begin{bmatrix}\n",
    "x_{1} && x_{2} && \\cdots && x_{N}\n",
    "\\end{bmatrix}\n",
    "\\begin{bmatrix}\n",
    "w_1 \\\\ w_2 \\\\ \\vdots \\\\ w_N\n",
    "\\end{bmatrix}\n",
    "= x^Tw   \n",
    "$$"
   ]
  },
  {
   "cell_type": "markdown",
   "metadata": {
    "school_cell_uuid": "5660904998ab495590ffceaff1196532"
   },
   "source": [
    "NumPy에서 벡터와 행렬의 곱은 `dot`이라는 명령으로 계산한다. 2차원 배열로 표시한 벡터의 경우에는 결과값이 스칼라가 아닌 2차원 배열이라는 점에 유의한다."
   ]
  },
  {
   "cell_type": "markdown",
   "metadata": {
    "school_cell_uuid": "73694dbee2ea4b8dbe3474310c98e63c"
   },
   "source": [
    "다음은 두 벡터의 곱셈의 예이다.\n",
    "\n",
    "$$\n",
    "x =\n",
    "\\begin{bmatrix}\n",
    "1 \\\\ 2 \\\\ 3 \\\\\n",
    "\\end{bmatrix}\n",
    ",\\;\\;\\;\n",
    "y = \n",
    "\\begin{bmatrix}\n",
    "4 \\\\ 5 \\\\ 6 \\\\\n",
    "\\end{bmatrix} \n",
    "$$"
   ]
  },
  {
   "cell_type": "markdown",
   "metadata": {
    "school_cell_uuid": "3c011b6ebe6b4bff9a314ec192c26ad6"
   },
   "source": [
    "$$\n",
    "x^T y = \n",
    "\\begin{bmatrix}\n",
    "1 & 2 & 3\n",
    "\\end{bmatrix}\n",
    "\\begin{bmatrix}\n",
    "4 \\\\ 5 \\\\ 6 \\\\\n",
    "\\end{bmatrix} \n",
    "= 1 \\cdot 4 + 2 \\cdot 5 + 3 \\cdot 6 = 32\n",
    "$$"
   ]
  },
  {
   "cell_type": "markdown",
   "metadata": {
    "school_cell_uuid": "856d4f07d15f43179a281820789e994c"
   },
   "source": [
    "이를 NumPy로 계산하면 다음과 같다. 이 때 NumPy에서는 결과 값이 스칼라가 아니라 1x1 크기의 2차원 배열 즉, 행렬로 표시되는 점에 주의한다."
   ]
  },
  {
   "cell_type": "code",
   "execution_count": 7,
   "metadata": {
    "school_cell_uuid": "439ddddaf6c64f73ad9c969979ad9b0b"
   },
   "outputs": [
    {
     "data": {
      "text/plain": [
       "32"
      ]
     },
     "execution_count": 7,
     "metadata": {},
     "output_type": "execute_result"
    }
   ],
   "source": [
    "x = np.array([[1], [2], [3]])\n",
    "y = np.array([[4], [5], [6]])\n",
    "np.dot(x.T, y)[0, 0]"
   ]
  },
  {
   "cell_type": "markdown",
   "metadata": {
    "school_cell_uuid": "bec85acb3bbe49ddb4e3345daecfced8"
   },
   "source": [
    "원래 내적은 크기가 같은 행 벡터와 열 벡터에 대해 정의되지만 NumPy에서는 1차원 배열끼리도 곱할 수 있다. 이 때는 NumPy가 자동적으로 앞의 벡터는 행 벡터이고 뒤의 벡터는 열 벡터라고 가정한다."
   ]
  },
  {
   "cell_type": "code",
   "execution_count": 8,
   "metadata": {
    "school_cell_uuid": "0cddf2f013324e719945dffbf85af20f"
   },
   "outputs": [
    {
     "data": {
      "text/plain": [
       "32"
      ]
     },
     "execution_count": 8,
     "metadata": {},
     "output_type": "execute_result"
    }
   ],
   "source": [
    "x = np.array([1, 2, 3])\n",
    "y = np.array([4, 5, 6])\n",
    "np.dot(x, y)"
   ]
  },
  {
   "cell_type": "markdown",
   "metadata": {
    "bootstrap": {
     "panel": {
      "class": "panel-default"
     }
    },
    "school_cell_uuid": "6c189202c6694fb2a74a8a9d64b37b94"
   },
   "source": [
    "#### 연습 문제 1\n",
    "\n",
    "A, B, C 세 회사의 주식은 각각 100만원, 80만원, 50만원이다. 이 주식을 각각 3주, 4주, 5주를 매수할 때 필요한 금액을 구하고자 한다.\n",
    "\n",
    "1. 주식의 가격과 수량을 각각 $p$ 벡터, $n$ 벡터로 표시하고 NumPy로 코딩한다.\n",
    "2. 주시을 매수할 때 필요한 금액을 곱셈으로 표시하고 NumPy 연산으로 그 값을 계산한다."
   ]
  },
  {
   "cell_type": "markdown",
   "metadata": {
    "school_cell_uuid": "1a0644c5a0704f899517b70f3fb219cf"
   },
   "source": [
    "## 가중평균"
   ]
  },
  {
   "cell_type": "markdown",
   "metadata": {
    "school_cell_uuid": "52190e8b43a94001bb3b87357e8bce60"
   },
   "source": [
    "가중합의 가중치값을 전체 가중치값의 합으로 나누면 **가중평균(weighted average)**이 된다. 가중평균은 대학교의 평균 성적 계산 등에 사용할 수 있다.\n",
    "\n",
    "예를 들어 고등학교에서는 국어, 영어, 두 과목의 평균 점수를 구할 때 단순히 두 과목의 점수(숫자)를 더한 후 2으로 나눈다. 그러나 대학교에서는 중요한 과목과 중요하지 않는 과목을 구분하는 학점(credit)이라는 숫자가 있다. 일주일에 한 시간만 수업하는 과목은 1학점짜리 과목이고 일주일에 세 시간씩 수업하는 중요한 과목은 3학점짜리 과목이다. 1학점과 3학점 과목의 점수가 각각 100점, 60점이면 학점을 고려한 가중 평균(weighted average) 성적은 다음과 같이 계산한다.\n",
    "\n",
    "$$ \n",
    "\\dfrac{\\text{학점과 점수의 가중합}}{\\text{학점의 총합}} = \n",
    "\\dfrac{1}{1 + 3} \\times 100 + \\dfrac{3}{1 + 3} \\times 60\n",
    "= 70 \n",
    "$$\n"
   ]
  },
  {
   "cell_type": "markdown",
   "metadata": {
    "school_cell_uuid": "ca5a893371744dfc9bd5550742d41448"
   },
   "source": [
    "벡터로 표현된 $N$개의 데이터의 단순 평균은 다음처럼 생각할 수 있다.\n",
    "\n",
    "$$\n",
    "\\bar{x} = \\dfrac{1}{N}\\sum_{i=1}^N x_i = \\dfrac{1}{N} \\mathbf{1}_N^T x\n",
    "$$\n",
    "\n",
    "위 수식에서 보인 것처럼 $x$ 데이터의 평균은 보통 $\\bar{x}$라는 기호로 표기하고 x bar 라고 읽는다."
   ]
  },
  {
   "cell_type": "markdown",
   "metadata": {
    "school_cell_uuid": "704e1f3dced547a5b438f2fe5a1fe97e"
   },
   "source": [
    "다음은 NumPy로 평균을 계산하는 방법이다. ``mean`` 이라는 메서드를 사용할 수도 있다."
   ]
  },
  {
   "cell_type": "code",
   "execution_count": 9,
   "metadata": {
    "school_cell_uuid": "ed7a3c2a58294d548af6b1d38f456d64"
   },
   "outputs": [
    {
     "data": {
      "text/plain": [
       "4.5"
      ]
     },
     "execution_count": 9,
     "metadata": {},
     "output_type": "execute_result"
    }
   ],
   "source": [
    "x = np.arange(10)\n",
    "x.mean() "
   ]
  },
  {
   "cell_type": "code",
   "execution_count": 10,
   "metadata": {
    "school_cell_uuid": "92725f510e5a426ba9c9f050e8d90e83"
   },
   "outputs": [
    {
     "data": {
      "text/plain": [
       "4.5"
      ]
     },
     "execution_count": 10,
     "metadata": {},
     "output_type": "execute_result"
    }
   ],
   "source": [
    "N = len(x)\n",
    "np.dot(np.ones(N), x) / N"
   ]
  },
  {
   "cell_type": "markdown",
   "metadata": {
    "school_cell_uuid": "c4d6d061e86a44c68d1a39237945c38f"
   },
   "source": [
    "## 선형 회귀 모형"
   ]
  },
  {
   "cell_type": "markdown",
   "metadata": {
    "school_cell_uuid": "595f0dc2b2314a90a34580b11b978bd4"
   },
   "source": [
    "**선형 회귀 모형(linear regression model)**이란 독립 변수 $x$에서 종속 변수 $y$를 예측하기 위한 방법의 하나로 독립 변수 벡터 $x$ 와 가중치 벡터 $w$와의 가중합으로 ${y}$와 가장 비슷한 값 $\\hat{y}$를 계산하는 수식을 말한다.\n",
    "\n",
    "$$ \\hat{y} = w_1 x_1 + \\cdots + w_N x_N$$\n",
    "\n",
    "이 수식에서  기호 `^`는 캐럿(caret)이라는 기호이고 $\\hat{y}$는 y hat 이라고 읽는다.\n",
    "\n",
    "이 수식은 벡터의 곱으로 표현 할 수 있다.\n",
    "\n",
    "$$ \\hat{y} = w^Tx$$\n",
    "\n",
    "여기에서 가장 비슷한 값이라고 한 이유는 우리가 원하는 $y$와 정확히 똑같은 값을 만들어주는 가중치 벡터 $w$를 찾을 수 없는 경우가 많기 때문이다. 이 경우에는 원래의 $y$와 가장 비슷한 $\\hat{y}$ 값이라도 계산해 주는 가중치 벡터 $w$로 만족해야 한다."
   ]
  },
  {
   "cell_type": "markdown",
   "metadata": {
    "school_cell_uuid": "898e457d04b6444f8a85ed682e6f8d8e"
   },
   "source": [
    "선형 회귀 모형은 가장 단순하면서도 가장 널리 쓰이는 예측 모형이다.\n",
    "\n",
    "예를 들어 어떤 아파트 단지의 아파트 가격을 조사하였더니 개별 아파트의 가격은 면적, 층수, 한강이 보이는지의 여부에 의해 달라진다는 사실을 알게 되었다. 이 때 이 단지내의 개별 아파트 가격을 예측하는 예측 모형은 다음과 같이 만들 수 있다.\n",
    "\n",
    "* 평균 면적은 80$m^2$이며 해당 아파트 면적과 평균 면적과의 차이를 $x_1$이라고 한다. 그러면 면적이 100$m^2$인 아파트의 경우 $x_1 = 20$이고 면적이 70$m^2$인 아파트의 경우 $x_1 = -10$이다.\n",
    "* 층수는 1층부터 20층까지이며 \"층수 - 1\"의 수를 입력 데이터 $x_2$라고 한다. 10층이면 $x_2 = 10 - 1 = 9$ 이다.\n",
    "* 한강이 보이는지의 여부를 입력 데이터 $x_3$라고 하며 한강이 보이면 $x_3 = 1$, 보이지 않으면 $x_3 = 0$이라고 한다.\n",
    "* 출력 데이터 $\\hat{y}$는 $x_1 = x_2 = x_3 = 0$일 때의 기본 가격(base price)과 해당 아파트의 예측 가격과의 차이이다. \n",
    "\n",
    "출력과 입력 데이터를 이렇게 다소 복잡하게 인코딩하는 이유는 선형 회귀 모형에서 상수항을 없애기 위해서이다. 이 부분에 대해서는 추후 선형 회귀 부분에서 보다 자세하게 다룬다."
   ]
  },
  {
   "cell_type": "markdown",
   "metadata": {
    "school_cell_uuid": "294aa703a16e4373bc3556782429142e"
   },
   "source": [
    "위와 같이 입력 데이터와 출력 데이터를 정의하고 회귀 분석을 한 결과가 다음과 같은 선형 회귀 모형으로 표현할 수 있다고 가정하자.\n",
    "\n",
    "$$ \\hat{y} = 500 x_1 + 200 x_2 + 1000 x_3 $$\n",
    "\n",
    "이 결과는 다음과 같이 해석할 수 있다.\n",
    "\n",
    "* 면적이 1$m^2$ 증가할수록 가격은 500만 원이 증가한다.\n",
    "* 층수가 1층 높아질수록 가격은 200만 원이 증가한다.\n",
    "* 한강이 보이는 집은 1,000만 원의 웃돈(프리미엄)이 존재한다.\n"
   ]
  },
  {
   "cell_type": "markdown",
   "metadata": {
    "school_cell_uuid": "4521ccbd5f5248bbb264f148f21ed3c8"
   },
   "source": [
    "이 식은 다음과 같이 고쳐 쓸 수 있다.\n",
    "\n",
    "$$ \\hat{y} = \\begin{bmatrix} 500 & 200 & 1000 \\end{bmatrix} \\begin{bmatrix} x_1 \\\\ x_2 \\\\ x_3 \\end{bmatrix} = w^T x $$\n",
    "\n",
    "즉 이 선형 예측 모형은 다음과 같은 가중치 벡터로 표현할 수 있다.\n",
    "\n",
    "$$ w^T = \\begin{bmatrix} 500 & 200 & 1000 \\end{bmatrix} $$"
   ]
  },
  {
   "cell_type": "markdown",
   "metadata": {
    "school_cell_uuid": "eca7a88596d64fed98ab48b72ea04946"
   },
   "source": [
    "인공 신경망(artificial neural network)에서는 선형회귀 모형을 다음과 같은 그림으로 표현한다. 데이터는 노드(node) 혹은 뉴런(neuron)이라는 동그라미로 표시하고 곱셈은 선분(line)위에 곱할 숫자를 써서 나타낸다. 덧셈은 여러개의 선분이 만나는 것으로 표시한다."
   ]
  },
  {
   "cell_type": "code",
   "execution_count": 11,
   "metadata": {
    "hidden": "input",
    "school_cell_uuid": "dbd30f299457420c9974e493c64bb3aa"
   },
   "outputs": [
    {
     "data": {
      "image/png": "[encoded data removed]"
     },
     "metadata": {},
     "output_type": "display_data"
    }
   ],
   "source": [
    "%%tikz -l calc,matrix,positioning -f png -s 1600,400\n",
    "\n",
    "\\clip (-2,-4) rectangle (5,0);\n",
    "\\tikzset{>=stealth};\n",
    "\n",
    "\\node[draw, circle] (x1) at (0,-1) {$x_1$};\n",
    "\\node[draw, circle] (x2) at (0,-2) {$x_2$};\n",
    "\\node[draw, circle] (x3) at (0,-3) {$x_3$};\n",
    "\\node[draw, circle] (y) at (3,-2) {$\\hat{y}$};\n",
    "\\path (x1) edge[->] node[above] {$w_1$} (y);\n",
    "\\path (x2) edge[->] node[above] {$w_2$} (y);\n",
    "\\path (x3) edge[->] node[above] {$w_3$} (y);"
   ]
  },
  {
   "cell_type": "markdown",
   "metadata": {
    "school_cell_uuid": "e0044c34c4924b99a4a3f65a7474fc3f"
   },
   "source": [
    "## 유사도"
   ]
  },
  {
   "cell_type": "markdown",
   "metadata": {
    "school_cell_uuid": "e0e9bc64a28948e0b2921d9d34cd1123"
   },
   "source": [
    "벡터의 곱셈(내적)은 두 벡터간의 유사도(similarity)를 계산하는데도 이용할 수 있다. 유사도는 두 벡터가 닮은 정도르 수치적으로 나타낸 값으로 많이 닮은 경우에는 값이 커지고 닮지 않은 경우에는 작아지는 특성을 가진다. 유사도를 계산하는 방법도 여러가지가 있지만 내적도 유사도를 계산하는 방법 중의 하나이다.\n",
    "\n",
    "예를 들어 0부터 1사이의 값을 원소로 가지는 두 벡터에서 같은 위치의 원소(수치)를 서로 곱할 때 두 원소의 값 중 어느 하나라도 0에 가까우면 곱은 0에 가까운 작은 값이 된다. 두 원소의 값이 모두 1에 가까우면 곱은 1에 가까운 큰 값이 된다. 따라서 같은 위치의 값이 크기가 같은 경우가 많을 수록 전체 곱의 합 즉, 내적값이 커지는 경향을 띤다. \n",
    "\n",
    "추후 선형대수의 기하학적 의미를 공부할 때 이 부분에 대해 다시 살펴볼 것이다."
   ]
  },
  {
   "cell_type": "code",
   "execution_count": 7,
   "metadata": {
    "school_cell_uuid": "38d2ce26028a4ebaad6efe7d51dec1a1"
   },
   "outputs": [
    {
     "data": {
      "image/png": "[encoded data removed]",
      "text/plain": [
       "<matplotlib.figure.Figure at 0x7f650a1bc6d8>"
      ]
     },
     "metadata": {},
     "output_type": "display_data"
    }
   ],
   "source": [
    "from sklearn.datasets import load_digits\n",
    "\n",
    "digits = load_digits()\n",
    "d0 = digits.images[0]; d1 = digits.images[10]\n",
    "d2 = digits.images[1]; d3 = digits.images[11]\n",
    "v0 = d0.reshape(64, 1); v1 = d1.reshape(64, 1)\n",
    "v2 = d2.reshape(64, 1); v3 = d3.reshape(64, 1)\n",
    "\n",
    "f, ax = plt.subplots(4, 1, figsize=(12, 2))\n",
    "ax[0].imshow(v0.T, interpolation='nearest', cmap=plt.cm.bone_r)\n",
    "ax[0].grid(False); ax[0].set_xticks([]); ax[0].set_yticks([]); ax[0].set_ylabel(\"0\")\n",
    "ax[1].imshow(v1.T, interpolation='nearest', cmap=plt.cm.bone_r)\n",
    "ax[1].grid(False); ax[1].set_xticks([]); ax[1].set_yticks([]); ax[1].set_ylabel(\"0\")\n",
    "ax[2].imshow(v2.T, interpolation='nearest', cmap=plt.cm.bone_r)\n",
    "ax[2].grid(False); ax[2].set_xticks([]); ax[2].set_yticks([]); ax[2].set_ylabel(\"1\")\n",
    "ax[3].imshow(v3.T, interpolation='nearest', cmap=plt.cm.bone_r)\n",
    "ax[3].grid(False); ax[3].set_xticks([]); ax[3].set_yticks([]); ax[3].set_ylabel(\"1\")\n",
    "plt.tight_layout()\n",
    "plt.show()"
   ]
  },
  {
   "cell_type": "code",
   "execution_count": 3,
   "metadata": {
    "school_cell_uuid": "bcda353c1f3d42aebce631da552af4d4"
   },
   "outputs": [
    {
     "data": {
      "text/plain": [
       "(array([[ 3064.]]), array([[ 3661.]]))"
      ]
     },
     "execution_count": 3,
     "metadata": {},
     "output_type": "execute_result"
    }
   ],
   "source": [
    "np.dot(v0.T, v1), np.dot(v2.T, v3)  # 같은 숫자 벡터의 내적"
   ]
  },
  {
   "cell_type": "code",
   "execution_count": 4,
   "metadata": {
    "school_cell_uuid": "a685dcd9a7c642c6a7b229545fc20ccb"
   },
   "outputs": [
    {
     "data": {
      "text/plain": [
       "(array([[ 1866.]]), array([[ 2421.]]))"
      ]
     },
     "execution_count": 4,
     "metadata": {},
     "output_type": "execute_result"
    }
   ],
   "source": [
    "np.dot(v0.T, v2), np.dot(v1.T, v2) # 서로 다른 숫자 벡터의 내적"
   ]
  },
  {
   "cell_type": "markdown",
   "metadata": {
    "bootstrap": {
     "panel": {
      "class": "panel-default"
     }
    },
    "school_cell_uuid": "6c189202c6694fb2a74a8a9d64b37b94"
   },
   "source": [
    "#### 연습 문제 2\n",
    "\n",
    "1. MNIST digit image 전체 데이터를 모두 벡터로 변환하여 하나의 NumPy 행렬 $X$를 만든다.\n",
    "2. 모든 이미지의 조합에 대해 내적으로 유사도를 구해야 한다. 어떻게 구현하는 것이 효율적일까?"
   ]
  },
  {
   "cell_type": "markdown",
   "metadata": {
    "school_cell_uuid": "a951c1766c65465793c72cdeaab44b80"
   },
   "source": [
    "## 제곱합"
   ]
  },
  {
   "cell_type": "markdown",
   "metadata": {
    "school_cell_uuid": "2f2e0658e9f84e1da0d1c5e53dfbb611"
   },
   "source": [
    "데이터의 분산(variance)이나 표준 편차(standard deviation)을 구하는 경우에는 각각의 데이터를 제곱한 뒤 이 값을 모두 더한 값 즉 **제곱합(sum of squares)**을 계산해야 한다. 이 경우에도 벡터의 곱을 사용하여 $x^Tx$로 쓸 수 있다. 분산과 표준 편차에 대해서는 추후 다시 설명한다."
   ]
  },
  {
   "cell_type": "markdown",
   "metadata": {
    "school_cell_uuid": "4bb2c9c62f8340358f0cfff427bff9c2"
   },
   "source": [
    "$$\n",
    "x^T x = \n",
    "\\begin{bmatrix}\n",
    "x_{1} & x_{2} & \\cdots & x_{N} \n",
    "\\end{bmatrix}\n",
    "\\begin{bmatrix}\n",
    "x_{1} \\\\\n",
    "x_{2} \\\\\n",
    "\\vdots \\\\\n",
    "x_{N} \\\\\n",
    "\\end{bmatrix} = \\sum_{i=1}^{N} x_i^2\n",
    "$$"
   ]
  },
  {
   "cell_type": "markdown",
   "metadata": {
    "school_cell_uuid": "bf5297a19fc5407f85ffc0ee3ed3d7bf"
   },
   "source": [
    "## 행렬의 곱셈(내적)"
   ]
  },
  {
   "cell_type": "markdown",
   "metadata": {
    "school_cell_uuid": "005cd14a64e844749ff4afb6695ccee0"
   },
   "source": [
    "벡터의 곱셈을 정의한 후에는 다음과 같이 행렬의 곱셈을 정의할 수 있다. \n",
    "\n",
    "$A$ 행렬과 $B$ 행렬을 곱한 결과가 $C$ 행렬이 된다고 하자.\n",
    "\n",
    "$C$의 $i$번째 행, $j$번째 열의 원소 $c_{ij}$의 값은 $A$ 행렬의 $i$번째 행 벡터 $a_i^T$와 $B$ 행렬의 $j$번째 열 벡터 $b_j$의 곱이다."
   ]
  },
  {
   "cell_type": "markdown",
   "metadata": {
    "school_cell_uuid": "00b0096902184340ae3c99d959be301c"
   },
   "source": [
    "$$ C = AB \\; \\rightarrow \\; c_{ij} = a_i^T b_j $$"
   ]
  },
  {
   "cell_type": "markdown",
   "metadata": {
    "school_cell_uuid": "7bc0f25c7de140b982ae6d97bda5b678"
   },
   "source": [
    "이 정의가 성립하려면 앞의 행렬 $A$의 열의 수가 뒤의 행렬 $B$의 행의 수와 일치해야만 한다."
   ]
  },
  {
   "cell_type": "markdown",
   "metadata": {
    "school_cell_uuid": "4c55421c5f5e4320841a3fb2b47538e5"
   },
   "source": [
    "$$ A \\in \\mathbf{R}^{N \\times L} , \\; B \\in \\mathbf{R}^{L \\times M} \\;  \\rightarrow \\; AB \\in \\mathbf{R}^{N \\times M} $$"
   ]
  },
  {
   "cell_type": "markdown",
   "metadata": {
    "school_cell_uuid": "0feae7c24b4a45a49d81e25003d57699"
   },
   "source": [
    "다음은 \n",
    "$$ A \\in \\mathbf{R}^{4 \\times 3} ,\\; B \\in \\mathbf{R}^{3 \\times 2} \\;  \\rightarrow  \\; AB \\in \\mathbf{R}^{4 \\times 2} $$\n",
    "인 예이다."
   ]
  },
  {
   "cell_type": "code",
   "execution_count": 12,
   "metadata": {
    "hidden": "input",
    "school_cell_uuid": "4855df3a5cb64c8ca3b06451fffe6580"
   },
   "outputs": [
    {
     "data": {
      "image/png": "[encoded data removed]"
     },
     "metadata": {},
     "output_type": "display_data"
    }
   ],
   "source": [
    "%%tikz -l matrix,fit,calc -f png -s 1600,400\n",
    "\n",
    "\\clip (-2,-1.5) rectangle (14,1.5);\n",
    "\n",
    "\\matrix (A) at (0,0) [matrix of math nodes,left delimiter={[},right delimiter={]}]\n",
    "{\n",
    "a_{11} & a_{12} & a_{13} \\\\\n",
    "a_{21} & a_{22} & a_{23} \\\\\n",
    "a_{31} & a_{32} & a_{33} \\\\\n",
    "a_{41} & a_{42} & a_{43} \\\\\n",
    "};\n",
    "\n",
    "\\matrix (B) at (3,0) [matrix of math nodes,left delimiter={[},right delimiter={]}]\n",
    "{\n",
    "b_{11} & b_{12} \\\\\n",
    "b_{21} & b_{22} \\\\\n",
    "b_{31} & b_{32} \\\\    \n",
    "};\n",
    "\\node at (4.4,0) {=};\n",
    "\\matrix (C) at (9,0) [matrix of math nodes,left delimiter={[},right delimiter={]}]\n",
    "{\n",
    "a_{11}b_{11} + a_{12}b_{21} + a_{13}b_{31} & a_{11}b_{12} + a_{12}b_{22} + a_{13}b_{32} \\\\\n",
    "a_{21}b_{11} + a_{22}b_{21} + a_{23}b_{31} & a_{21}b_{12} + a_{22}b_{22} + a_{23}b_{32} \\\\\n",
    "a_{31}b_{11} + a_{32}b_{21} + a_{33}b_{31} & a_{31}b_{12} + a_{32}b_{22} + a_{33}b_{32} \\\\\n",
    "a_{41}b_{11} + a_{42}b_{21} + a_{43}b_{31} & a_{41}b_{12} + a_{42}b_{22} + a_{43}b_{32} \\\\\n",
    "};\n",
    "                                                           \n",
    "\\node[draw,rectangle,red,very thick,inner sep=0,rounded corners=1pt,fit={(A-1-1) (A-1-2) (A-1-3)}] {};\n",
    "\\node[draw,rectangle,red,very thick,inner sep=0,rounded corners=1pt,fit={(B-1-1) (B-2-1) (B-3-1)}] {};\n",
    "\\node[draw,rectangle,red,very thick,inner sep=0,rounded corners=1pt,fit={(C-1-1)}] {};"
   ]
  },
  {
   "cell_type": "markdown",
   "metadata": {
    "school_cell_uuid": "7303bd96d1a441699a37b73604ac36d5"
   },
   "source": [
    "$A$, $B$가 \n",
    "\n",
    "$$ A = \\begin{bmatrix} 1 & 2 & 3 \\\\ 4 & 5 & 6 \\end{bmatrix} $$\n",
    "\n",
    "$$ B = \\begin{bmatrix} 1 & 2 \\\\ 3 & 4 \\\\ 5 & 6 \\end{bmatrix} $$\n",
    "\n",
    "이면 NumPy를 이용하여 다음과 같이 곱을 구할 수 있다."
   ]
  },
  {
   "cell_type": "code",
   "execution_count": 13,
   "metadata": {
    "school_cell_uuid": "033c3d5d623f4f2281734a26fcb16a05"
   },
   "outputs": [],
   "source": [
    "A = np.array([[1, 2, 3], [4, 5, 6]])\n",
    "B = np.array([[1, 2], [3, 4], [5, 6]])"
   ]
  },
  {
   "cell_type": "code",
   "execution_count": 14,
   "metadata": {
    "school_cell_uuid": "957fc007dd6e4fd3be10033fbf3e25a1"
   },
   "outputs": [
    {
     "data": {
      "text/plain": [
       "array([[22, 28],\n",
       "       [49, 64]])"
      ]
     },
     "execution_count": 14,
     "metadata": {},
     "output_type": "execute_result"
    }
   ],
   "source": [
    "C = np.dot(A, B)\n",
    "C"
   ]
  },
  {
   "cell_type": "markdown",
   "metadata": {
    "bootstrap": {
     "panel": {
      "class": "panel-default"
     }
    },
    "school_cell_uuid": "6c189202c6694fb2a74a8a9d64b37b94"
   },
   "source": [
    "#### 연습 문제 3\n",
    "\n",
    "1. $A$와 $B$가 위와 같을 때 $AB$를 연습장에 손으로 계산하고 NumPy의 계산결과와 맞는지 확인한다.\n",
    "\n",
    "2. 순서를 바꾸어 $BA$를 연습장에 손으로 계산하고 NumPy로도 계산한다. $BA$의 결과가 $AB$와 같은가?\n",
    "\n",
    "3. $A$, $B$가 다음과 같을 때, $AB$, $BA$를 (계산이 가능하다면) 손 계산과 NumPy 코드로 구한다. $AB$, $BA$ 모두 계산 가능한가?\n",
    "$$ A = \\begin{bmatrix} 1 & 2 & 3 \\end{bmatrix} $$\n",
    "$$ B = \\begin{bmatrix} 4 & 7 \\\\ 5 & 8 \\\\ 6 & 9 \\end{bmatrix} $$\n",
    "\n",
    "4. $A$,, $B$가 다음과 같을 때, $AB$, $BA$를 (계산이 가능하다면) 손 계산과 NumPy 코드로 구한다. $AB$, $BA$ 모두 계산 가능한가? $BA$의 결과가 $AB$와 같은가?\n",
    "$$ A = \\begin{bmatrix} 1 & 2 \\\\ 3 & 4 \\end{bmatrix} $$\n",
    "$$ B = \\begin{bmatrix} 5 & 6 \\\\ 7 & 8 \\end{bmatrix} $$\n",
    "\n",
    "5. $x$가 다음과 같을 때, $x^Tx$와 $xx^T$를 각각 손 계산과 NumPy 코드로 구한다. $x^Tx$와 $xx^T$의 크기에 주목하라.\n",
    "$$ x = \\begin{bmatrix} 1 \\\\ 2 \\\\ 3 \\end{bmatrix} $$"
   ]
  },
  {
   "cell_type": "markdown",
   "metadata": {
    "school_cell_uuid": "8e5f442a680c4e9b92e16b65b935244d"
   },
   "source": [
    "인공 신경망은 내부적으로 다음과 같이 여러 개의 선형회귀 모형을 사용한다. 이 구조는 행렬과 벡터의 곱으로 나타낼 수 있다."
   ]
  },
  {
   "cell_type": "code",
   "execution_count": 15,
   "metadata": {
    "hidden": "input",
    "school_cell_uuid": "b2e3deb6f5be44579b8524329baab952"
   },
   "outputs": [
    {
     "data": {
      "image/png": "[encoded data removed]"
     },
     "metadata": {},
     "output_type": "display_data"
    }
   ],
   "source": [
    "%%tikz -l calc,matrix,positioning -f png -s 1600,400\n",
    "\n",
    "\\clip (-2,-4) rectangle (5,0);\n",
    "\\tikzset{>=stealth};\n",
    "\n",
    "\\node[draw, circle] (x1) at (0,-1) {$x_1$};\n",
    "\\node[draw, circle] (x2) at (0,-2) {$x_2$};\n",
    "\\node[draw, circle] (x3) at (0,-3) {$x_3$};\n",
    "\\node[draw, circle] (y1) at (3,-1) {$\\hat{y}_1$};\n",
    "\\node[draw, circle] (y2) at (3,-3) {$\\hat{y}_2$};\n",
    "\\path (x1) edge[->] node[above,pos=0.3] {$w_{11}$} (y1);\n",
    "\\path (x2) edge[->] node[above,pos=0.6] {$w_{12}$} (y1);\n",
    "\\path (x3) edge[->] node[below=3pt,pos=0.9] {$w_{13}$} (y1);\n",
    "\\path (x1) edge[->] node[above=2pt,pos=0.9] {$w_{21}$} (y2);\n",
    "\\path (x2) edge[->] node[below,pos=0.6] {$w_{22}$} (y2);\n",
    "\\path (x3) edge[->] node[below,pos=0.3] {$w_{23}$} (y2);"
   ]
  },
  {
   "cell_type": "markdown",
   "metadata": {
    "school_cell_uuid": "2e13af0dac144f23be797f51fb9d72e1"
   },
   "source": [
    "위 그림을 행렬식으로 표현하면 다음과 같다."
   ]
  },
  {
   "cell_type": "markdown",
   "metadata": {
    "school_cell_uuid": "2de14366c2e24b00a599dabad713df7a"
   },
   "source": [
    "$$\n",
    "\\begin{bmatrix}\n",
    "\\hat{y}_{1} \\\\\n",
    "\\hat{y}_{2} \\\\\n",
    "\\end{bmatrix}\n",
    "=\n",
    "\\begin{bmatrix}\n",
    "w_{11} & w_{12} & w_{13} \\\\\n",
    "w_{21} & w_{22} & w_{23} \\\\\n",
    "\\end{bmatrix}\n",
    "\\begin{bmatrix}\n",
    "x_{1} \\\\\n",
    "x_{2} \\\\\n",
    "x_{3} \\\\    \n",
    "\\end{bmatrix}\n",
    "$$\n",
    "\n",
    "\n",
    "$$ \\hat{y} = Wx $$"
   ]
  },
  {
   "cell_type": "markdown",
   "metadata": {
    "bootstrap": {
     "panel": {
      "class": "panel-default"
     }
    },
    "school_cell_uuid": "6c189202c6694fb2a74a8a9d64b37b94"
   },
   "source": [
    "#### 연습 문제 4\n",
    "\n",
    "1. 위에서 만든 MNIST digit image 전체 데이터 행렬 $X$와 행렬 곱셈을 이용하여 모든 이미지의 조합에 대한 유사도를 구한다.\n",
    "   이 결과는 이미지의 데이터의 갯수를 크기로 하는 정방행렬이 된다. \n",
    "2. 유사도 정방행렬을 이미지로 시각화 한다."
   ]
  },
  {
   "cell_type": "markdown",
   "metadata": {
    "school_cell_uuid": "a9d127913d974a0592f63340336b1ad8"
   },
   "source": [
    "## 교환 법칙과 분배 법칙"
   ]
  },
  {
   "cell_type": "markdown",
   "metadata": {
    "school_cell_uuid": "9e6d469db699456a97a81171ce73befe"
   },
   "source": [
    "행렬의 곱셈은 곱하는 행렬의 순서를 바꾸는 교환 법칙이 성립하지 않는다. 그러나 덧셈에 대한 분배 법칙은 성립한다. \n",
    "\n",
    "$$ AB \\neq BA $$\n",
    "\n",
    "$$ A(B + C) = AB + AC $$\n",
    "\n",
    "$$ (A + B)C = AC + BC $$\n"
   ]
  },
  {
   "cell_type": "markdown",
   "metadata": {
    "school_cell_uuid": "37215d6b213b497b89047c7316c5e374"
   },
   "source": [
    "$A$, $B$, $C$가 다음과 같을 때 위 법칙들이 성립하지 않거나 성립하는 것을 NumPy 로 보이면 다음과 같다.\n",
    "\n",
    "$$ A = \\begin{bmatrix} 1 & 2 \\\\ 3 & 4 \\end{bmatrix} $$\n",
    "$$ B = \\begin{bmatrix} 5 & 6 \\\\ 7 & 8 \\end{bmatrix} $$\n",
    "$$ C = \\begin{bmatrix} 9 & 8 \\\\ 7 & 6 \\end{bmatrix} $$"
   ]
  },
  {
   "cell_type": "code",
   "execution_count": 16,
   "metadata": {
    "school_cell_uuid": "d25bcd642e3f44ffb8d2a0204178e8bd"
   },
   "outputs": [],
   "source": [
    "A = np.array([[1, 2], [3, 4]])\n",
    "B = np.array([[5, 6], [7, 8]])\n",
    "C = np.array([[9, 8], [7, 6]])"
   ]
  },
  {
   "cell_type": "markdown",
   "metadata": {
    "school_cell_uuid": "8199e602364f46c2855d5776c470e3f1"
   },
   "source": [
    "$AB$ 와 $BA$의 값은 다음처럼 다른 값이 나오므로 교환법칙이 성립하지 않음을 알 수 있다."
   ]
  },
  {
   "cell_type": "code",
   "execution_count": 17,
   "metadata": {
    "school_cell_uuid": "ebb8617ba85c4991801f2740812863c0"
   },
   "outputs": [
    {
     "data": {
      "text/plain": [
       "array([[19, 22],\n",
       "       [43, 50]])"
      ]
     },
     "execution_count": 17,
     "metadata": {},
     "output_type": "execute_result"
    }
   ],
   "source": [
    "np.dot(A, B)"
   ]
  },
  {
   "cell_type": "code",
   "execution_count": 18,
   "metadata": {
    "school_cell_uuid": "5079373744e9465d86d4023b1296ebd9"
   },
   "outputs": [
    {
     "data": {
      "text/plain": [
       "array([[23, 34],\n",
       "       [31, 46]])"
      ]
     },
     "execution_count": 18,
     "metadata": {},
     "output_type": "execute_result"
    }
   ],
   "source": [
    "np.dot(B, A)"
   ]
  },
  {
   "cell_type": "markdown",
   "metadata": {
    "school_cell_uuid": "c99ddcd80a574a178a0f5b7d97acbdab"
   },
   "source": [
    "분배법칙은 다음과 같이 성립한다."
   ]
  },
  {
   "cell_type": "code",
   "execution_count": 19,
   "metadata": {
    "school_cell_uuid": "d6520268f4b94bc482d1ef67b339cf1a"
   },
   "outputs": [
    {
     "data": {
      "text/plain": [
       "array([[42, 42],\n",
       "       [98, 98]])"
      ]
     },
     "execution_count": 19,
     "metadata": {},
     "output_type": "execute_result"
    }
   ],
   "source": [
    "np.dot(A, B + C)"
   ]
  },
  {
   "cell_type": "code",
   "execution_count": 20,
   "metadata": {
    "school_cell_uuid": "28202dffaf484682912e5d0f5374df7e"
   },
   "outputs": [
    {
     "data": {
      "text/plain": [
       "array([[42, 42],\n",
       "       [98, 98]])"
      ]
     },
     "execution_count": 20,
     "metadata": {},
     "output_type": "execute_result"
    }
   ],
   "source": [
    "np.dot(A, B) + np.dot(A, C)"
   ]
  },
  {
   "cell_type": "code",
   "execution_count": 21,
   "metadata": {
    "school_cell_uuid": "f8a3cc88563a46eeae79b76b0fd3ca7d"
   },
   "outputs": [
    {
     "data": {
      "text/plain": [
       "array([[110,  96],\n",
       "       [174, 152]])"
      ]
     },
     "execution_count": 21,
     "metadata": {},
     "output_type": "execute_result"
    }
   ],
   "source": [
    "np.dot(A + B, C)"
   ]
  },
  {
   "cell_type": "code",
   "execution_count": 22,
   "metadata": {
    "school_cell_uuid": "9dcf9c2e95524055be02983569850051"
   },
   "outputs": [
    {
     "data": {
      "text/plain": [
       "array([[110,  96],\n",
       "       [174, 152]])"
      ]
     },
     "execution_count": 22,
     "metadata": {},
     "output_type": "execute_result"
    }
   ],
   "source": [
    "np.dot(A, C) + np.dot(B, C)"
   ]
  },
  {
   "cell_type": "markdown",
   "metadata": {
    "school_cell_uuid": "3690f8ff6b2243198c5e582d8e75edbe"
   },
   "source": [
    "전치 연산도 마찬가지로 덧셈/뺄셈에 대해 분배 법칙이 성립한다.\n",
    "\n",
    "$$ (A + B)^T = A^T + B^T $$"
   ]
  },
  {
   "cell_type": "markdown",
   "metadata": {
    "school_cell_uuid": "59a702f0fdf4463c80eaaff51539b4e3"
   },
   "source": [
    "전치 연산과 곱셈의 경우에는 분배 법칙이 성립하기는 하지만 전치 연산이 분배되면서 곱셈의 순서가 바뀐다. \n",
    "\n",
    "$$ (AB)^T = B^T A^T $$\n",
    "\n",
    "$$ (ABC)^T = C^T B^T A^T $$"
   ]
  },
  {
   "cell_type": "markdown",
   "metadata": {
    "school_cell_uuid": "b3d873bc34d64f679de90923af76de0d"
   },
   "source": [
    "마찬가지로 NumPy로 이 식이 성립하는지 살펴본다."
   ]
  },
  {
   "cell_type": "code",
   "execution_count": 23,
   "metadata": {
    "school_cell_uuid": "17fae61493ce4c869f595b3ead04e55c"
   },
   "outputs": [
    {
     "data": {
      "text/plain": [
       "array([[ 6, 10],\n",
       "       [ 8, 12]])"
      ]
     },
     "execution_count": 23,
     "metadata": {},
     "output_type": "execute_result"
    }
   ],
   "source": [
    "(A + B).T"
   ]
  },
  {
   "cell_type": "code",
   "execution_count": 24,
   "metadata": {
    "school_cell_uuid": "8df01370120444d89a7729795b1703a3"
   },
   "outputs": [
    {
     "data": {
      "text/plain": [
       "array([[ 6, 10],\n",
       "       [ 8, 12]])"
      ]
     },
     "execution_count": 24,
     "metadata": {},
     "output_type": "execute_result"
    }
   ],
   "source": [
    "A.T + B.T"
   ]
  },
  {
   "cell_type": "code",
   "execution_count": 25,
   "metadata": {
    "school_cell_uuid": "44f8288651484c5fb5f9458eba4dc2de"
   },
   "outputs": [
    {
     "data": {
      "text/plain": [
       "array([[19, 43],\n",
       "       [22, 50]])"
      ]
     },
     "execution_count": 25,
     "metadata": {},
     "output_type": "execute_result"
    }
   ],
   "source": [
    "(np.dot(A, B)).T"
   ]
  },
  {
   "cell_type": "code",
   "execution_count": 26,
   "metadata": {
    "school_cell_uuid": "0032d439a56b4b7885f5c7dabd48b26e"
   },
   "outputs": [
    {
     "data": {
      "text/plain": [
       "array([[19, 43],\n",
       "       [22, 50]])"
      ]
     },
     "execution_count": 26,
     "metadata": {},
     "output_type": "execute_result"
    }
   ],
   "source": [
    "np.dot(B.T, A.T)"
   ]
  },
  {
   "cell_type": "markdown",
   "metadata": {
    "school_cell_uuid": "5bd80d34dcf24d6b8e52be8e2c6f51a9"
   },
   "source": [
    "## 곱셈의 연결"
   ]
  },
  {
   "cell_type": "markdown",
   "metadata": {
    "school_cell_uuid": "56c42aadf7d74f5f8bfc15eaea591a63"
   },
   "source": [
    "연속된 행렬의 곱셈은 계산 순서를 임의의 순서로 해도 상관없다.\n",
    "\n",
    "$$ ABC = (AB)C = A(BC) $$\n",
    "\n",
    "$$ ABCD = ((AB)C)D = (AB)(CD) = A(BCD) = A(BC)D $$"
   ]
  },
  {
   "cell_type": "markdown",
   "metadata": {
    "bootstrap": {
     "panel": {
      "class": "panel-default"
     }
    },
    "school_cell_uuid": "34e96ad419d943c7b2d482ca51b68e9d"
   },
   "source": [
    "#### 연습 문제 5\n",
    "\n",
    "다음 행렬의 곱셈을 순서를 바꾸어 두 가지 방법으로 해본다.\n",
    "\n",
    "$$ \\begin{bmatrix} 1 & 2 \\end{bmatrix} \\begin{bmatrix} 1 & 2 \\\\ 3 & 4 \\end{bmatrix} \\begin{bmatrix} 5 \\\\ 6 \\end{bmatrix}$$"
   ]
  },
  {
   "cell_type": "markdown",
   "metadata": {
    "school_cell_uuid": "842c89aff4b146338bbfeef175fd6c04"
   },
   "source": [
    "## 단위 행렬의 곱셈"
   ]
  },
  {
   "cell_type": "markdown",
   "metadata": {
    "school_cell_uuid": "dd3552af8bae43b88fbdb09133f0efc0"
   },
   "source": [
    "어떤 정방 행렬이든 단위 행렬을 곱하면 그 행렬의 값이 변하지 않는다. \n",
    "\n",
    "$$ AI = IA = A $$\n",
    "\n",
    "NumPy로 다음과 같아 확인한다."
   ]
  },
  {
   "cell_type": "code",
   "execution_count": 27,
   "metadata": {
    "school_cell_uuid": "0f7bb829e1ef49b4a8aa9e3b0dc0463c"
   },
   "outputs": [],
   "source": [
    "A = np.array([[1, 2], [3, 4]])\n",
    "I = np.eye(2)"
   ]
  },
  {
   "cell_type": "code",
   "execution_count": 28,
   "metadata": {
    "school_cell_uuid": "3ab9bb6a0b0c4e1c81970c23ca86e2c1"
   },
   "outputs": [
    {
     "data": {
      "text/plain": [
       "array([[ 1.,  2.],\n",
       "       [ 3.,  4.]])"
      ]
     },
     "execution_count": 28,
     "metadata": {},
     "output_type": "execute_result"
    }
   ],
   "source": [
    "np.dot(A, I)"
   ]
  },
  {
   "cell_type": "code",
   "execution_count": 29,
   "metadata": {
    "school_cell_uuid": "7ee4d7493a1c4d8f92184c864d5d9c0c"
   },
   "outputs": [
    {
     "data": {
      "text/plain": [
       "array([[ 1.,  2.],\n",
       "       [ 3.,  4.]])"
      ]
     },
     "execution_count": 29,
     "metadata": {},
     "output_type": "execute_result"
    }
   ],
   "source": [
    "np.dot(I, A)"
   ]
  },
  {
   "cell_type": "markdown",
   "metadata": {
    "school_cell_uuid": "bf71096ad9a548d6a64ec654a6e01030"
   },
   "source": [
    "그럼 이러한 행렬의 곱셈은 데이터 분석에서 어떤 경우에 사용될까. 행렬의 곱셈을 사용하는 몇가지 예를 살펴보자."
   ]
  },
  {
   "cell_type": "markdown",
   "metadata": {
    "school_cell_uuid": "32f3e1b58dbb4326bb8d4230c25fd3ee"
   },
   "source": [
    "## 여러개의 벡터에 대한 가중합 계산"
   ]
  },
  {
   "cell_type": "markdown",
   "metadata": {
    "school_cell_uuid": "50cdd17332c74c40927c6e95d0a94000"
   },
   "source": [
    "벡터 하나의 가중합은 $w^Tx$ 또는 $x^Tw$로 표시할 수 있다는 것을 배웠다. 그런데 만약 이렇게 $w$ 가중치를 사용한 가중합을 하나의 벡터 $x$가 아니라 여러개의 벡터 $x_1, \\cdots, x_M$개에 대해서 모두 계산해야 한다면 어떻게 해야 할까? 예를 들어 위와 같이 선형 회귀 모형을 사용하여 여러개의 데이터 $x_1, x_2, x_3, \\cdots, x_N$ 개의 데이터 모두에 대해 예측값 $y_1, y_2, y_3, \\cdots, y_N$을 한꺼번에 계산하고 싶다면 다음과 같이 데이터 행렬 $X$를 사용하여  $\\hat{y} = Xw$라는 수식으로 간단하게 표시할 수 있다."
   ]
  },
  {
   "cell_type": "markdown",
   "metadata": {
    "school_cell_uuid": "4c5d8654ac334286b2145d9465711049"
   },
   "source": [
    "$$\n",
    "\\begin{eqnarray}\n",
    "\\hat{y} = \n",
    "\\begin{bmatrix}\n",
    "\\hat{y}_1 \\\\\n",
    "\\hat{y}_2 \\\\\n",
    "\\vdots \\\\\n",
    "\\hat{y}_M \\\\\n",
    "\\end{bmatrix}\n",
    "&=& \n",
    "\\begin{bmatrix}\n",
    "w_1 x_{1,1} + w_2 x_{1,2} + \\cdots + w_N x_{1,N} \\\\\n",
    "w_1 x_{2,1} + w_2 x_{2,2} + \\cdots + w_N x_{2,N} \\\\\n",
    "\\vdots  \\\\\n",
    "w_1 x_{M,1} + w_2 x_{M,2} + \\cdots + w_N x_{M,N} \\\\\n",
    "\\end{bmatrix}\n",
    "\\\\\n",
    "&=& \n",
    "\\begin{bmatrix}\n",
    "x_{1,1} & x_{1,2} & \\cdots & x_{1,N} \\\\\n",
    "x_{2,1} & x_{2,2} & \\cdots & x_{2,N} \\\\\n",
    "\\vdots  & \\vdots  & \\vdots & \\vdots \\\\\n",
    "x_{M,1} & x_{M,2} & \\cdots & x_{M,N} \\\\\n",
    "\\end{bmatrix}\n",
    "\\begin{bmatrix}\n",
    "w_1 \\\\ w_2 \\\\ \\vdots \\\\ w_N\n",
    "\\end{bmatrix}\n",
    "\\\\\n",
    "&=& \n",
    "\\begin{bmatrix}\n",
    "x_1^T \\\\\n",
    "x_2^T \\\\\n",
    "\\vdots \\\\\n",
    "x_M^T \\\\\n",
    "\\end{bmatrix}\n",
    "\\begin{bmatrix}\n",
    "w_1 \\\\ w_2 \\\\ \\vdots \\\\ w_N\n",
    "\\end{bmatrix}\n",
    "\\\\\n",
    "&=& X w \n",
    "\\end{eqnarray}\n",
    "$$\n",
    "\n",
    "즉.\n",
    "\n",
    "$$ \\hat{y} = Xw $$"
   ]
  },
  {
   "cell_type": "markdown",
   "metadata": {
    "bootstrap": {
     "panel": {
      "class": "panel-default"
     }
    },
    "school_cell_uuid": "34e96ad419d943c7b2d482ca51b68e9d"
   },
   "source": [
    "#### 연습 문제 6\n",
    "\n",
    "$x_1$, $x_2$가 다음과 같을 때,\n",
    "$$\n",
    "x_1 = \n",
    "\\begin{bmatrix}\n",
    "x_{11} \\\\\n",
    "x_{21} \\\\\n",
    "x_{31} \\\\\n",
    "\\end{bmatrix}\n",
    "\\;\\;\n",
    "x_2 = \n",
    "\\begin{bmatrix}\n",
    "x_{12} \\\\\n",
    "x_{22} \\\\\n",
    "x_{32} \\\\\n",
    "\\end{bmatrix}\n",
    "$$\n",
    "\n",
    "다음 등식이 성립함을 보인다.\n",
    "\n",
    "$$\n",
    "Xw =\n",
    "\\begin{bmatrix}\n",
    "x_1^T \\\\\n",
    "x_2^T \\\\\n",
    "\\end{bmatrix}\n",
    "\\begin{bmatrix}\n",
    "w_1 \\\\ w_2 \\\\ w_3\n",
    "\\end{bmatrix}\n",
    "=\n",
    "\\begin{bmatrix}\n",
    "x_1^Tw \\\\\n",
    "x_2^Tw \\\\\n",
    "\\end{bmatrix}\n",
    "$$"
   ]
  },
  {
   "cell_type": "markdown",
   "metadata": {
    "school_cell_uuid": "0ead94cbe1fa44dd80e67db944c24e38"
   },
   "source": [
    "## 열벡터의 선형 조합"
   ]
  },
  {
   "cell_type": "markdown",
   "metadata": {
    "school_cell_uuid": "12cde0e0498f4396bfdd060b1fff86c8"
   },
   "source": [
    "행렬 $X$와 벡터 $w$의 곱은 행렬을 이루는 각 열(column) 벡터 $c_1, c_2, \\ldots, c_M$을 뒤에 오는 벡터 $w$의 각 성분 $w_1, w_2, \\ldots, w_M$으로 선형 조합(linear combination)을 한 결과 벡터와 같다.\n",
    "\n",
    "$$\n",
    "Xw=\n",
    "\\begin{bmatrix}\n",
    "c_1 & c_2 & \\cdots & c_M\n",
    "\\end{bmatrix}\n",
    "\\begin{bmatrix}\n",
    "w_1 \\\\ w_2 \\\\ \\vdots \\\\ w_M\n",
    "\\end{bmatrix}\n",
    "=\n",
    "w_1 c_1 + w_2 c_2 + \\cdots + w_M c_M\n",
    "$$"
   ]
  },
  {
   "cell_type": "markdown",
   "metadata": {
    "bootstrap": {
     "panel": {
      "class": "panel-default"
     }
    },
    "school_cell_uuid": "af048229f3e646eb9ac5d27813a3bba8"
   },
   "source": [
    "#### 연습 문제 7\n",
    "\n",
    "다음 행렬 $X$와 벡터 $w$에 대해 곱 $Xw$가 열벡터 $c_1, c_2, c_3$의 선형조합 $w_1c_1 + w_2c_2 + w_3c_3$가 됨을 실제 계산으로 증명한다.\n",
    "\n",
    "$$ \n",
    "X = \\begin{bmatrix} 1 & 2 & 3  \\\\ 4 & 5 & 6 \\end{bmatrix}, \\;\\;\n",
    "w = \\begin{bmatrix} 2 \\\\ 3 \\\\ 4 \\end{bmatrix}\n",
    "$$"
   ]
  },
  {
   "cell_type": "markdown",
   "metadata": {
    "school_cell_uuid": "6109ce5705794eeba50396faeeece5e0"
   },
   "source": [
    "## 잔차"
   ]
  },
  {
   "cell_type": "markdown",
   "metadata": {
    "school_cell_uuid": "4e0e91190c414b93884bc721b37da3a3"
   },
   "source": [
    "선형 회귀 분석(linear regression)을 한 결과는 가중치 벡터 $w$라는 형태로 나타나고 예측치는 이 가중치 벡터를 사용한 독립 변수 데이터 레코드 즉, 벡터 $x_i$의 가중합 $w^Tx_i$이 된다고 하였다.\n",
    "\n",
    "이 예측치와 실제 값(target) $y_{i}$의 차이를 **오차(error)** 혹은 **잔차(residual)** $e_i$ 라고 한다. 이러한 잔차 값을 모든 독립 변수 벡터에 대해 구하면 잔차 벡터 $e$가 된다."
   ]
  },
  {
   "cell_type": "markdown",
   "metadata": {
    "school_cell_uuid": "724e83b98566468bbb0c05aa5d666706"
   },
   "source": [
    "$$ e_i = y_i - \\hat{y}_i  = y_i - w^Tx_i$$"
   ]
  },
  {
   "cell_type": "markdown",
   "metadata": {
    "school_cell_uuid": "e691f36f29c6409cb3c907447eb6e070"
   },
   "source": [
    "잔차 벡터는 다음과 같이 $y-Xw$로 간단하게 표기할 수 있다."
   ]
  },
  {
   "cell_type": "markdown",
   "metadata": {
    "school_cell_uuid": "cee1c2f5761f4f5bafb57ffc0b836283"
   },
   "source": [
    "$$\n",
    "\\begin{eqnarray}\n",
    "e &=&\n",
    "\\begin{bmatrix}\n",
    "e_{1} \\\\\n",
    "e_{2} \\\\\n",
    "\\vdots \\\\\n",
    "e_{M} \\\\\n",
    "\\end{bmatrix}\n",
    "\\\\ \n",
    "&=&\n",
    "\\begin{bmatrix}\n",
    "y_{1} \\\\\n",
    "y_{2} \\\\\n",
    "\\vdots \\\\\n",
    "y_{M} \\\\\n",
    "\\end{bmatrix}\n",
    "-\n",
    "\\begin{bmatrix}\n",
    "x^T_{1}w \\\\\n",
    "x^T_{2}w \\\\\n",
    "\\vdots \\\\\n",
    "x^T_{M}w \\\\\n",
    "\\end{bmatrix}\n",
    "\\\\ &=& y - Xw\n",
    "\\end{eqnarray}\n",
    "$$"
   ]
  },
  {
   "cell_type": "markdown",
   "metadata": {
    "school_cell_uuid": "a9a0b1b689114ceeb0933704817e2523"
   },
   "source": [
    "$$\n",
    "e = y - Xw\n",
    "$$"
   ]
  },
  {
   "cell_type": "markdown",
   "metadata": {
    "school_cell_uuid": "da0c992eda6b4b46b6a195c383e81ad5"
   },
   "source": [
    "## 잔차 제곱합"
   ]
  },
  {
   "cell_type": "markdown",
   "metadata": {
    "school_cell_uuid": "b405ed457ab244899cf83de822e24be7"
   },
   "source": [
    "잔차의 크기는 잔차 벡터의 각 원소를 제곱한 후 더한 **잔차 제곱합(RSS: Residual Sum of Squares)**를 이용하여 구한다. 이 값은 $e^Te$로 간단하게 쓸 수 있으며 그 값은 다음과 같이 계산한다."
   ]
  },
  {
   "cell_type": "markdown",
   "metadata": {
    "school_cell_uuid": "12a92a1ec6864f2a9000c17933c4fd8e"
   },
   "source": [
    "$$\n",
    "\\sum_{i=1}^{N} e_i^2 = \\sum_{i=1}^{N} (y_i - w^Tx_i)^2 = e^Te =  (y - Xw)^T (y - Xw)\n",
    "$$"
   ]
  },
  {
   "cell_type": "markdown",
   "metadata": {
    "bootstrap": {
     "panel": {
      "class": "panel-default"
     }
    },
    "school_cell_uuid": "af048229f3e646eb9ac5d27813a3bba8"
   },
   "source": [
    "#### 연습 문제 8\n",
    "\n",
    "분배 법칙을 사용하여 위 식 $(y - Xw)^T (y - Xw)$을 풀어쓰면 다음과 같아짐을 보인다.\n",
    "\n",
    "$$ y^Ty - w^TX^Ty - y^TXw + w^TX^TXw $$"
   ]
  },
  {
   "cell_type": "markdown",
   "metadata": {
    "school_cell_uuid": "63597485800b4a84bb8eb5c7f2c972b3"
   },
   "source": [
    "## 이차 형식"
   ]
  },
  {
   "cell_type": "markdown",
   "metadata": {
    "school_cell_uuid": "52089792dcd949c19a3a1f092a1db00b"
   },
   "source": [
    "위의 연습 문제에서 마지막 항은 $w^TX^TXw$라는 형태이다. 이 식에서 $X^TX$는 정방 행렬이 되므로 이 정방 행렬을 $A$라고 이름 붙이면 마지막 항은 $w^TAw$와 같은 형태가 된다. \n",
    "\n",
    "벡터의 **이차 형식(Quadratic Form)**이란 이렇게 어떤 벡터와 정방 행렬이 \"행벡터 x 정방 행렬 x 열벡터\" 의 형식으로 되어 있는 것을 말한다. \n",
    "\n",
    "이 수식을 풀면 $i=1,\\ldots,N, j=1,\\ldots,N$ 에 대해 가능한 모든 $i,j$ 쌍의 조합을 구한 다음 $i$, $j$에 해당하는 원소 $x_i$, $x_j$를 가중치 $a_{i,j}$와 같이 곱한 값  $a_{i,j}x_ix_j$의 총합이 된다."
   ]
  },
  {
   "cell_type": "markdown",
   "metadata": {
    "school_cell_uuid": "bcf96cf31f054478a5833d577b656e5c"
   },
   "source": [
    "$$\n",
    "\\begin{eqnarray}\n",
    "x^T A x \n",
    "&=& \n",
    "\\begin{bmatrix}\n",
    "x_{1} & x_{2} & \\cdots & x_{N} \n",
    "\\end{bmatrix}\n",
    "\\begin{bmatrix}\n",
    "a_{1,1} & a_{1,2} & \\cdots & a_{1,N} \\\\\n",
    "a_{2,1} & a_{2,2} & \\cdots & a_{2,N} \\\\\n",
    "\\vdots & \\vdots & \\ddots & \\vdots \\\\\n",
    "a_{N,1} & a_{N,2} & \\cdots & a_{N,N} \\\\\n",
    "\\end{bmatrix}\n",
    "\\begin{bmatrix}\n",
    "x_{1} \\\\\n",
    "x_{2} \\\\\n",
    "\\vdots \\\\\n",
    "x_{N} \\\\\n",
    "\\end{bmatrix} \n",
    "\\end{eqnarray}\n",
    "$$\n",
    "\n",
    "$$\n",
    "\\begin{eqnarray}\n",
    "&=& \\sum_{i=1}^{N} \\sum_{j=1}^{N} a_{i,j} x_i x_j \n",
    "\\end{eqnarray}\n",
    "$$"
   ]
  },
  {
   "cell_type": "markdown",
   "metadata": {
    "bootstrap": {
     "panel": {
      "class": "panel-default"
     }
    },
    "school_cell_uuid": "0f1eb9fee11b463b9575a14132061307"
   },
   "source": [
    "#### 연습 문제 9\n",
    "\n",
    "3차원 벡터와 행렬에 대해 위 식이 성립함을 보인다.\n",
    "\n",
    "$$ x = \\begin{bmatrix} x_1 \\\\ x_2 \\\\ x_3 \\end{bmatrix} $$\n",
    "\n",
    "$$ A = \n",
    "\\begin{bmatrix} \n",
    "a_{11} & a_{12} & a_{13} \\\\\n",
    "a_{21} & a_{22} & a_{23} \\\\\n",
    "a_{31} & a_{32} & a_{33} \\\\\n",
    "\\end{bmatrix} \n",
    "$$\n",
    "\n",
    "\n"
   ]
  },
  {
   "cell_type": "markdown",
   "metadata": {
    "school_cell_uuid": "66b5040c7eb64aec854a72979c74afea"
   },
   "source": [
    "예를 들어 $ x = [1, 2, 3]^T $ 이고 A가 다음과 같다면\n",
    "\n",
    "$$ A =\n",
    "\\begin{bmatrix}\n",
    "1 & 2 & 3 \\\\\n",
    "4 & 5 & 6 \\\\\n",
    "7 & 8 & 9 \\\\\n",
    "\\end{bmatrix}\n",
    "$$\n",
    "\n",
    "NumPy 에서 벡터의 이차 형식은 다음과 같이 계산한다."
   ]
  },
  {
   "cell_type": "code",
   "execution_count": 30,
   "metadata": {
    "school_cell_uuid": "849885967ca84d98bc085fb87a9481c4"
   },
   "outputs": [
    {
     "data": {
      "text/plain": [
       "array([1, 2, 3])"
      ]
     },
     "execution_count": 30,
     "metadata": {},
     "output_type": "execute_result"
    }
   ],
   "source": [
    "x = np.array([1,2,3])\n",
    "x"
   ]
  },
  {
   "cell_type": "code",
   "execution_count": 31,
   "metadata": {
    "school_cell_uuid": "1f83a87d84bf4fd7820e0a30bb73e8fc"
   },
   "outputs": [
    {
     "data": {
      "text/plain": [
       "array([[1, 2, 3],\n",
       "       [4, 5, 6],\n",
       "       [7, 8, 9]])"
      ]
     },
     "execution_count": 31,
     "metadata": {},
     "output_type": "execute_result"
    }
   ],
   "source": [
    "A = np.arange(1, 10).reshape(3,3)\n",
    "A"
   ]
  },
  {
   "cell_type": "code",
   "execution_count": 32,
   "metadata": {
    "school_cell_uuid": "5e6fab985a6846ab9da02b74c97c562b"
   },
   "outputs": [
    {
     "data": {
      "text/plain": [
       "228"
      ]
     },
     "execution_count": 32,
     "metadata": {},
     "output_type": "execute_result"
    }
   ],
   "source": [
    "np.dot(np.dot(x, A), x)"
   ]
  },
  {
   "cell_type": "markdown",
   "metadata": {
    "bootstrap": {
     "panel": {
      "class": "panel-default"
     }
    },
    "school_cell_uuid": "927d98a745274add926262b6c357fe40"
   },
   "source": [
    "#### 연습 문제 10\n",
    "\n",
    "다음 식이 성립함을 증명하라.\n",
    "\n",
    "$$ x^TAx = \\dfrac{1}{2}x^T(A + A^T)x $$"
   ]
  }
 ],
 "metadata": {
  "celltoolbar": "Edit Metadata",
  "kernelspec": {
   "display_name": "Python 3",
   "language": "python",
   "name": "python3"
  },
  "language_info": {
   "codemirror_mode": {
    "name": "ipython",
    "version": 3
   },
   "file_extension": ".py",
   "mimetype": "text/x-python",
   "name": "python",
   "nbconvert_exporter": "python",
   "pygments_lexer": "ipython3",
   "version": "3.6.3"
  },
  "latex_envs": {
   "LaTeX_envs_menu_present": true,
   "autoclose": false,
   "autocomplete": true,
   "bibliofile": "biblio.bib",
   "cite_by": "apalike",
   "current_citInitial": 1,
   "eqLabelWithNumbers": true,
   "eqNumInitial": 1,
   "hotkeys": {
    "equation": "Ctrl-E",
    "itemize": "Ctrl-I"
   },
   "labels_anchors": false,
   "latex_user_defs": false,
   "report_style_numbering": false,
   "user_envs_cfg": false
  }
 },
 "nbformat": 4,
 "nbformat_minor": 2
}