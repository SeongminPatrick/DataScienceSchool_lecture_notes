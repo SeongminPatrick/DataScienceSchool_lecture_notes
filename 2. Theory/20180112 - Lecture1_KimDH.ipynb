{
 "cells": [
  {
   "cell_type": "markdown",
   "metadata": {},
   "source": [
    "데이터 사이언스"
   ]
  },
  {
   "cell_type": "markdown",
   "metadata": {},
   "source": [
    "기존의 통계학과는 다른 이론 접근 방법\n",
    "\n",
    "- 기초 수학\n",
    "\n",
    "```\n",
    "    - Linear Algebra\n",
    "    - Calculus (미적분) ---> 최적화를 하기 위한 중간 도구\n",
    "    - Probability\n",
    "```\n",
    "\n",
    "- 데이터분석 이론\n",
    "\n",
    "```\n",
    "    - 회귀분석, 분류, 클러스터링\n",
    "```\n",
    "\n",
    "\n",
    "- Computing\n",
    "\n",
    "```\n",
    "    - 개발 지식과 실력이 뒷바탕 되어야 한다.\n",
    "    - Programming (이론이 현실에서 사용되기 위한 기술)\n",
    "    - Routine화 되어 매일 일거리가 있음\n",
    "    - 개발자 수준의 개발지식이 있어야지만 실무에서 사용 가능 ---> 더 많은 공부가 필요함\n",
    "    - School에서는 최소한의 지식만 전수\n",
    "```\n",
    "```\n",
    "    - 리눅스 운영체제 사용법\n",
    "    - 프로그래밍 언어\n",
    "    - 데이터베이스 시스템\n",
    "    - 병렬처리, 가상화, 클라우드 사용법\n",
    "```\n",
    "\n",
    "\n",
    "\n",
    "- Domain Knowledge\n",
    "\n",
    "```\n",
    "    - 적용하고자 하는 분야에 대한 지식\n",
    "    - \"무엇이 문제인가?\"\n",
    "    - \"내가 문제를 해결하고 있는가?\"\n",
    "```\n"
   ]
  },
  {
   "cell_type": "markdown",
   "metadata": {},
   "source": [
    "### 데이터 분석 ?\n",
    "\n",
    "\n",
    "\n",
    "\n",
    "1. 예측 (Prediction)\n",
    "    - input의 관계 파악 (입력데이터)\n",
    "    - 이를 통해 output을 출력 (출력데이터)\n",
    "    - 시간 개념은 필수가 아니다\n",
    "    - 시간 개념은 시계열 - forcasting"
   ]
  },
  {
   "cell_type": "code",
   "execution_count": null,
   "metadata": {},
   "outputs": [],
   "source": [
    "- Regression : 부동산의 위치, 주거환경, 건축연도 등을 주면 해당 부동산의 가치를 추정한다. (숫자를 예측)\n",
    "- Category   : 꽃잎의 길이와 너비 등 식물의 외형적 특징을 주면 해당하는 식물의 종을 알아낸다. (분류)\n",
    "- Image      : 얼굴 사진을 주면 해당하는 사람의 이름을 출력한다. (이미 tag를 건 친구:input 을 통한 분류)\n",
    "- Prediction : 현재 바둑돌의 위치들을 주면 다음 바둑돌의 위치를 지정한다. (위치를 예측)"
   ]
  }
 ],
 "metadata": {
  "kernelspec": {
   "display_name": "Python 3",
   "language": "python",
   "name": "python3"
  },
  "language_info": {
   "codemirror_mode": {
    "name": "ipython",
    "version": 3
   },
   "file_extension": ".py",
   "mimetype": "text/x-python",
   "name": "python",
   "nbconvert_exporter": "python",
   "pygments_lexer": "ipython3",
   "version": "3.6.2"
  }
 },
 "nbformat": 4,
 "nbformat_minor": 2
}
