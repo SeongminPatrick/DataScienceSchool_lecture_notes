{
 "cells": [
  {
   "cell_type": "markdown",
   "metadata": {},
   "source": [
    "### phantomjs\n",
    "\n",
    "selenium 최신버전에서는 phantomjs를 지원하지 않습니다.\n",
    "\n",
    "##### mac\n",
    "- brew install node\n",
    "- npm install -g phantomjs\n",
    "- pip3 uninstall selenium\n",
    "- sudo pip3 install selenium==2.53.1\n",
    "\n",
    "##### windows\n",
    "- nodejs.org site에서 node 설치\n",
    "- pip3 uninstall selenium\n",
    "- sudo pip3 install selenium==2.53.1\n",
    "- http://phantomjs.org/download.html 사이트에서 phantomjs 드라이버 다운\n",
    "- bin 디렉토리의 phantomjs 파일을 global path로 설정 또는 실행하는 주피터 노트북 디렉토리와 같은 디렉토리에 파일 이동"
   ]
  },
  {
   "cell_type": "markdown",
   "metadata": {},
   "source": [
    "##### ubuntu\n",
    "\n",
    "- install selenium\n",
    "\n",
    "    - `$ pip3 install selenium==2.53.1`\n",
    "\n",
    "\n",
    "- install nodejs & npm\n",
    "\n",
    "    - `$ sudo apt-get update`\n",
    "    - `$ sudo apt-get install nodejs`\n",
    "    - `$ sudo apt-get install npm` \n",
    "\n",
    "\n",
    "- install phantomjs\n",
    "\n",
    "    - `$ sudo apt-get install build-essential chrpath libssl-dev libxft-dev`\n",
    "    - `$ sudo apt-get install libfreetype6 libfreetype6-dev`  \n",
    "    - `$ sudo apt-get install libfontconfig1 libfontconfig1-dev`\n",
    "\n",
    "    - `$ cd ~`\n",
    "    - `$ export PHANTOM_JS=\"phantomjs-1.9.8-linux-x86_64\"`\n",
    "    - `$ wget https://bitbucket.org/ariya/phantomjs/downloads/$PHANTOM_JS.tar.bz2`\n",
    "    - `$ sudo tar xvjf $PHANTOM_JS.tar.bz2`\n",
    "\n",
    "    - `$ sudo mv $PHANTOM_JS /usr/local/share`\n",
    "    - `$ sudo ln -sf /usr/local/share/$PHANTOM_JS/bin/phantomjs /usr/local/bin`\n",
    "\n",
    "    - `$ phantomjs --version`\n",
    "\n",
    "- reference \n",
    "    - https://gist.github.com/julionc/7476620"
   ]
  },
  {
   "cell_type": "code",
   "execution_count": 1,
   "metadata": {},
   "outputs": [],
   "source": [
    "from selenium import webdriver"
   ]
  },
  {
   "cell_type": "code",
   "execution_count": 2,
   "metadata": {},
   "outputs": [],
   "source": [
    "driver = webdriver.PhantomJS()\n",
    "driver.close()"
   ]
  },
  {
   "cell_type": "code",
   "execution_count": 3,
   "metadata": {},
   "outputs": [
    {
     "data": {
      "text/plain": [
       "['\"개인정보 수집 페이스북 유죄\"',\n",
       " '수십초 안에 충전 … 물기반 ESS 만들었다',\n",
       " '우버 운전자는 자영업자? 근로자?…영국 대법원 판결 주목',\n",
       " '로봇 슈트 입고 총알 쏟아지는 하늘서 ‘쌩쌩’',\n",
       " '삼성전자, 세계 최초 30TB SSD 양산',\n",
       " '웹보드 게임 규제 완화 ‘말짱 도루묵’?…협의체 최종안 제출 못해 `의문`',\n",
       " '불 붙어도 끄떡없는 2차 전지 개발',\n",
       " \"['MWC 2018'] 유일하게 신상폰 공개하는 삼성.. 스마트폰 최대 관심사는 'AI 카메라'\",\n",
       " \"['MWC 2018'] 목표는 단 하나 '5G 선점' 최적의 파트너 찾아라\",\n",
       " \"['MWC 2018'] 불붙은 5G 주도권 경쟁..치고 나오는 '차이나 파워'\",\n",
       " '\"제품만 팔던 시대 끝났다\"… 아마존처럼 회원제 서비스하는 IT기업들',\n",
       " \"막강 콘텐츠 파워 '1인 창작자 모시기' 나선 포털들\",\n",
       " \"스타트업 열풍에.. 사무실 나눠쓰는 '공유오피스' 급성장\",\n",
       " \"소니 'AI 택시' 사업 뛰어든다\",\n",
       " '“통신비 인하 필요없다” 태도 돌변한 이통사들',\n",
       " '갤럭시S9 예판 28일부터…3월9일 개통',\n",
       " '암호화폐 인기로 해킹공격도 급증',\n",
       " \"우주로 날아간 '로드스터' 어디에?…6월, 화성 접근\",\n",
       " '이탈리아, \"한국과 e스포츠 협력 필요\"…e스포츠와 스포츠 융합 가능성 커져',\n",
       " '화웨이 - 노키아 - 에릭슨 `3사`… `5G표준·효율성` 주도권 경쟁']"
      ]
     },
     "execution_count": 3,
     "metadata": {},
     "output_type": "execute_result"
    }
   ],
   "source": [
    "article_list = []\n",
    "\n",
    "def get_article(page):\n",
    "    \n",
    "    driver =  webdriver.PhantomJS()\n",
    "    \n",
    "    driver.get(\"http://news.naver.com/main/main.nhn?mode=LSD&mid =shm&sid1=105#&date=2018-02-20 00:00:00&page=\" + str(page))\n",
    "\n",
    "    articles = driver.find_elements_by_css_selector('#section_body li')\n",
    "    \n",
    "    for article in articles:\n",
    "        title = article.find_element_by_css_selector('dt:not(.photo) > a').text\n",
    "        article_list.append(title)\n",
    "        \n",
    "    driver.close()\n",
    "    \n",
    "get_article(1)\n",
    "\n",
    "article_list"
   ]
  }
 ],
 "metadata": {
  "kernelspec": {
   "display_name": "Python 3",
   "language": "python",
   "name": "python3"
  },
  "language_info": {
   "codemirror_mode": {
    "name": "ipython",
    "version": 3
   },
   "file_extension": ".py",
   "mimetype": "text/x-python",
   "name": "python",
   "nbconvert_exporter": "python",
   "pygments_lexer": "ipython3",
   "version": "3.6.2"
  }
 },
 "nbformat": 4,
 "nbformat_minor": 2
}
