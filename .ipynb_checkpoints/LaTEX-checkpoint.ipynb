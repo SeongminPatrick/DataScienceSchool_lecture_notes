{
 "cells": [
  {
   "cell_type": "code",
   "execution_count": null,
   "metadata": {
    "collapsed": true
   },
   "outputs": [],
   "source": []
  },
  {
   "cell_type": "markdown",
   "metadata": {},
   "source": [
    "# LaTEX \n",
    "\n",
    "> - 저는 수식을 전개, 증명 할 때, 수학적 개념을 간단한 그림, 도형으로 도식화 할 때 사용합니다. \n",
    "\n",
    "개인적으로 LaTEX문법을 사용하면서 알게된 것을 설명해야겠습니다. \n",
    "\n",
    " * **공백**\n",
    " \n",
    "  LaTEX에서는 Space, Tab, blank 등과 심지어 줄바꿈 또한 모두 동일하게 \"공백 하나, 스페이스\"로 처리가 됩니다. 그래서 줄을 구분하고 싶을 때는 사이에 줄을 한 번 더 띄워야 합니다. LaTEX로 문석작업을 할 땐, 작업하면서 동시에 결과물을 볼수 없기 때문에, 이 점을 알고 있다. 나타내고자하는 결과물과 실제 결과물의 차이를 없애고자하는 노력을 1차적으로 없앨 수 있습니다. \n",
    "\n",
    " * **특수문자** \n",
    " \n",
    "  몇 몇 기호들은 LaTEX에서 특별한 의미를 가지지 않고, 직접적인 타이핑으로 나타낼 수 없는 것들이 있습니다. 이는 알수없는 오류 처럼 보이기 때문에 한 번 봐두어야 합니다. \n",
    "  \n",
    " ** { # ,  $ ,  % ,  &,  _,  { ,  }  ,  \\  } **\n",
    "  \n",
    "  등이 그것인데, 이것들을 표현 하기 위해서는 해당 문자 앞에 '\\'를 더해주어야 합니다. \n",
    "  \n",
    "  $$ \\# \\$ \\% \\\\ \\& \\_ \\{ \\} $$\n",
    "  > '\\'백슬래쉬의 경우, '\\\\' 부호는 줄바꿈에 사용 된다."
   ]
  },
  {
   "cell_type": "markdown",
   "metadata": {},
   "source": [
    "#### 일반적인 수식의 전개 \n",
    "\n",
    "- 수식은 일반적으로 \\$$  \\\\$$(달러 2개)로 구간을 만듭니다.\n",
    "- 문장 속에서 수식을 쓸 때는 \\$ 와  \\$ 사이에 작성합니다. \n",
    "\n",
    "$$ \\dfrac{1}{1+\\exp{(-z)}}$$\n",
    "\n",
    "Logits는 odds ratio $\\dfrac{\\theta}{1 - \\theta} $에 로그를 씌운 것이고 $\\log{(\\dfrac{\\theta}{1 - \\theta})}$ 이를 역함수를 취한 것이 위의 로지스틱 함수 이다. \n",
    "\n",
    "$ 행렬 A의 \\det(A)는 A를 고유분해한 \\lambda_1, \\lambda_2 ... \\lambda_n을 모두 곱한 값이다. 이를 수식으로 나타내면 $\n",
    "\n",
    "$$\n",
    "\\text{A} \\in \\mathbf{R}^{N \\times N}\n",
    "\\\\\n",
    "\\text{A} = \\prod_{i=1}^N{\\lambda_n}\n",
    "$$\n",
    "\n",
    "좀 복잡한 식도 이렇게 쓸 수 있습니다. \n",
    "\n",
    "$$\n",
    "\\begin{eqnarray}\n",
    "\\mathcal{N}(x \\mid \\mu, \\Sigma) \\rightarrow\\\\\n",
    "&=& \\dfrac{1}{(2\\pi)^{D/2} |\\Sigma|^{1/2}} \\exp \\left( -\\dfrac{1}{2} (x-\\mu)^T \\Sigma^{-1} (x-\\mu) \\right) \\\\\n",
    "\\\\&=& \\dfrac{1}{(2\\pi)^{D/2} |\\Sigma|^{1/2}} \\exp \\left( -\\dfrac{1}{2} (x-\\mu)^T V \\Lambda^{-1} V^T (x-\\mu) \\right) \\\\\n",
    "\\\\&=&\\dfrac{1}{(2\\pi)^{D/2} |\\Sigma|^{1/2}} \\exp \\left( -\\dfrac{1}{2} (V^T(x-\\mu))^T  \\Lambda^{-1} (V^T (x-\\mu)) \\right) \\\\\n",
    "\\\\&=& \\dfrac{1}{(2\\pi)^{D/2} |\\Sigma|^{1/2}} \\exp \\left( -\\dfrac{1}{2} x'^T  \\Lambda^{-1} x' \\right) \\\\\n",
    "\\end{eqnarray}\n",
    "$$\n",
    "\n",
    "#### 벡터와 매트릭스의 표현 \n",
    "\n",
    "$$\n",
    "A=\\begin{bmatrix}\n",
    "           a_{11} & \\cdots & a_{1n} \\\\\n",
    "           \\vdots & \\ddots & \\vdots \\\\\n",
    "           a_{n1} & \\cdots & a_{nn}\n",
    "          \\end{bmatrix}\n",
    "$$\n",
    "\n",
    "길게 잔뜩 붙여서 하는 것도 복잡해 보이지만, 자세히보면 간단합니다. \n",
    "(물론 저도 시행착오가 많았지만..)\n",
    "\n",
    "$$\n",
    "\\begin{eqnarray}\n",
    "\\hat{y} = \n",
    "\\begin{bmatrix}\n",
    "\\hat{y}_1 \\\\\n",
    "\\hat{y}_2 \\\\\n",
    "\\vdots \\\\\n",
    "\\hat{y}_M \\\\\n",
    "\\end{bmatrix}\n",
    "&=& \n",
    "\\begin{bmatrix}\n",
    "w_1 x_{1,1} + \\cdots + w_N x_{1,N} \\\\\n",
    "w_1 x_{2,1} + \\cdots + w_N x_{2,N} \\\\\n",
    "\\vdots  \\\\\n",
    "w_1 x_{M,1} + \\cdots + w_N x_{M,N} \\\\\n",
    "\\end{bmatrix}\n",
    "\\\\\n",
    "&=& \n",
    "\\begin{bmatrix}\n",
    "x_{1,1} & x_{1,2} & \\cdots & x_{1,N} \\\\\n",
    "x_{2,1} & x_{2,2} & \\cdots & x_{2,N} \\\\\n",
    "\\vdots  & \\vdots  & \\vdots & \\vdots \\\\\n",
    "x_{M,1} & x_{M,2} & \\cdots & x_{M,N} \\\\\n",
    "\\end{bmatrix}\n",
    "\\begin{bmatrix}\n",
    "w_1 \\\\ w_2 \\\\ \\vdots \\\\ w_N\n",
    "\\end{bmatrix}\n",
    "\\\\\n",
    "&=& \n",
    "\\begin{bmatrix}\n",
    "x_1^T \\\\\n",
    "x_2^T \\\\\n",
    "\\vdots \\\\\n",
    "x_M^T \\\\\n",
    "\\end{bmatrix}\n",
    "\\begin{bmatrix}\n",
    "w_1 \\\\ w_2 \\\\ \\vdots \\\\ w_N\n",
    "\\end{bmatrix}\n",
    "\\\\\n",
    "&=& X w \n",
    "\\end{eqnarray}\n",
    "$$\n",
    "\n",
    "\n",
    "#### 마무리 \n",
    "일단 이정도만 이해하셨으면, 현재로서 충분하다고 생각합니다. 이렇게 모아둔다고 해서 보기 쉬운 문서가 되지는 않아서 아쉽습니다. LaTEX는 논문이나 책을 쓸 때도 많이 사용한다고 합니다. 그림을 그리고 도식화하고 그림 삽입하는 등 여러가지 다양한 기능이 존재합니다. 하지만 지금 단계에서는 벡터와 행렬을 표현하고, 기본적인 수식을 적는 방법만 알면 나머지는 그때 그때 검색하여 알아가면 됩니다. 저도 그때그때 잊어버린것이나 모르는것을 찾아 참고하여 씁니다. 위의 것을 참고하시면 이번 박사님 과제는 어렵지 않게 할 수 있을 것이고, 추후 공부한 것들을 정리할 때 계속 써보시면 손에 익어 금방 능숙해질 것 입니다.\n"
   ]
  },
  {
   "cell_type": "code",
   "execution_count": null,
   "metadata": {
    "collapsed": true
   },
   "outputs": [],
   "source": []
  },
  {
   "cell_type": "code",
   "execution_count": null,
   "metadata": {
    "collapsed": true
   },
   "outputs": [],
   "source": []
  },
  {
   "cell_type": "code",
   "execution_count": null,
   "metadata": {
    "collapsed": true
   },
   "outputs": [],
   "source": []
  },
  {
   "cell_type": "code",
   "execution_count": null,
   "metadata": {
    "collapsed": true
   },
   "outputs": [],
   "source": []
  },
  {
   "cell_type": "code",
   "execution_count": null,
   "metadata": {
    "collapsed": true
   },
   "outputs": [],
   "source": []
  },
  {
   "cell_type": "code",
   "execution_count": null,
   "metadata": {
    "collapsed": true
   },
   "outputs": [],
   "source": []
  },
  {
   "cell_type": "code",
   "execution_count": null,
   "metadata": {
    "collapsed": true
   },
   "outputs": [],
   "source": []
  },
  {
   "cell_type": "code",
   "execution_count": null,
   "metadata": {
    "collapsed": true
   },
   "outputs": [],
   "source": []
  },
  {
   "cell_type": "code",
   "execution_count": null,
   "metadata": {
    "collapsed": true
   },
   "outputs": [],
   "source": []
  },
  {
   "cell_type": "code",
   "execution_count": null,
   "metadata": {
    "collapsed": true
   },
   "outputs": [],
   "source": []
  },
  {
   "cell_type": "code",
   "execution_count": null,
   "metadata": {
    "collapsed": true
   },
   "outputs": [],
   "source": []
  },
  {
   "cell_type": "code",
   "execution_count": null,
   "metadata": {
    "collapsed": true
   },
   "outputs": [],
   "source": []
  },
  {
   "cell_type": "code",
   "execution_count": null,
   "metadata": {
    "collapsed": true
   },
   "outputs": [],
   "source": []
  },
  {
   "cell_type": "code",
   "execution_count": null,
   "metadata": {
    "collapsed": true
   },
   "outputs": [],
   "source": []
  },
  {
   "cell_type": "code",
   "execution_count": null,
   "metadata": {
    "collapsed": true
   },
   "outputs": [],
   "source": []
  },
  {
   "cell_type": "code",
   "execution_count": null,
   "metadata": {
    "collapsed": true
   },
   "outputs": [],
   "source": []
  },
  {
   "cell_type": "code",
   "execution_count": null,
   "metadata": {
    "collapsed": true
   },
   "outputs": [],
   "source": []
  },
  {
   "cell_type": "code",
   "execution_count": null,
   "metadata": {
    "collapsed": true
   },
   "outputs": [],
   "source": []
  },
  {
   "cell_type": "code",
   "execution_count": null,
   "metadata": {
    "collapsed": true
   },
   "outputs": [],
   "source": []
  },
  {
   "cell_type": "code",
   "execution_count": null,
   "metadata": {
    "collapsed": true
   },
   "outputs": [],
   "source": []
  },
  {
   "cell_type": "code",
   "execution_count": null,
   "metadata": {
    "collapsed": true
   },
   "outputs": [],
   "source": []
  },
  {
   "cell_type": "code",
   "execution_count": null,
   "metadata": {
    "collapsed": true
   },
   "outputs": [],
   "source": []
  },
  {
   "cell_type": "code",
   "execution_count": null,
   "metadata": {
    "collapsed": true
   },
   "outputs": [],
   "source": []
  },
  {
   "cell_type": "code",
   "execution_count": null,
   "metadata": {
    "collapsed": true
   },
   "outputs": [],
   "source": []
  },
  {
   "cell_type": "code",
   "execution_count": null,
   "metadata": {
    "collapsed": true
   },
   "outputs": [],
   "source": []
  },
  {
   "cell_type": "code",
   "execution_count": null,
   "metadata": {
    "collapsed": true
   },
   "outputs": [],
   "source": []
  },
  {
   "cell_type": "code",
   "execution_count": null,
   "metadata": {
    "collapsed": true
   },
   "outputs": [],
   "source": []
  },
  {
   "cell_type": "code",
   "execution_count": null,
   "metadata": {
    "collapsed": true
   },
   "outputs": [],
   "source": []
  },
  {
   "cell_type": "code",
   "execution_count": null,
   "metadata": {
    "collapsed": true
   },
   "outputs": [],
   "source": []
  },
  {
   "cell_type": "code",
   "execution_count": null,
   "metadata": {
    "collapsed": true
   },
   "outputs": [],
   "source": []
  },
  {
   "cell_type": "code",
   "execution_count": null,
   "metadata": {
    "collapsed": true
   },
   "outputs": [],
   "source": []
  },
  {
   "cell_type": "code",
   "execution_count": null,
   "metadata": {
    "collapsed": true
   },
   "outputs": [],
   "source": []
  },
  {
   "cell_type": "code",
   "execution_count": null,
   "metadata": {
    "collapsed": true
   },
   "outputs": [],
   "source": []
  },
  {
   "cell_type": "code",
   "execution_count": null,
   "metadata": {
    "collapsed": true
   },
   "outputs": [],
   "source": []
  },
  {
   "cell_type": "code",
   "execution_count": null,
   "metadata": {
    "collapsed": true
   },
   "outputs": [],
   "source": []
  },
  {
   "cell_type": "code",
   "execution_count": null,
   "metadata": {
    "collapsed": true
   },
   "outputs": [],
   "source": []
  },
  {
   "cell_type": "code",
   "execution_count": null,
   "metadata": {
    "collapsed": true
   },
   "outputs": [],
   "source": []
  },
  {
   "cell_type": "code",
   "execution_count": null,
   "metadata": {
    "collapsed": true
   },
   "outputs": [],
   "source": []
  },
  {
   "cell_type": "code",
   "execution_count": null,
   "metadata": {
    "collapsed": true
   },
   "outputs": [],
   "source": []
  },
  {
   "cell_type": "code",
   "execution_count": null,
   "metadata": {
    "collapsed": true
   },
   "outputs": [],
   "source": []
  },
  {
   "cell_type": "code",
   "execution_count": null,
   "metadata": {
    "collapsed": true
   },
   "outputs": [],
   "source": []
  },
  {
   "cell_type": "code",
   "execution_count": null,
   "metadata": {
    "collapsed": true
   },
   "outputs": [],
   "source": []
  },
  {
   "cell_type": "code",
   "execution_count": null,
   "metadata": {
    "collapsed": true
   },
   "outputs": [],
   "source": []
  },
  {
   "cell_type": "code",
   "execution_count": null,
   "metadata": {
    "collapsed": true
   },
   "outputs": [],
   "source": []
  },
  {
   "cell_type": "code",
   "execution_count": null,
   "metadata": {
    "collapsed": true
   },
   "outputs": [],
   "source": []
  },
  {
   "cell_type": "code",
   "execution_count": null,
   "metadata": {
    "collapsed": true
   },
   "outputs": [],
   "source": []
  },
  {
   "cell_type": "code",
   "execution_count": null,
   "metadata": {
    "collapsed": true
   },
   "outputs": [],
   "source": []
  },
  {
   "cell_type": "code",
   "execution_count": null,
   "metadata": {
    "collapsed": true
   },
   "outputs": [],
   "source": []
  },
  {
   "cell_type": "markdown",
   "metadata": {},
   "source": [
    "##### 박사님 과제 정답 \n",
    "\n",
    "* 문제, $\\| x \\|^2 - (x^T\\text{v})^2$ 를 증명하라.\n"
   ]
  },
  {
   "cell_type": "code",
   "execution_count": 1,
   "metadata": {},
   "outputs": [
    {
     "data": {
      "image/png": "[encoded data removed]",
      "text/plain": [
       "<matplotlib.figure.Figure at 0x11c0b0630>"
      ]
     },
     "metadata": {},
     "output_type": "display_data"
    }
   ],
   "source": [
    "v = np.array([1, 1])\n",
    "x1 = np.array([4, 1])\n",
    "x2 = np.array([2, 2]) * 1.5\n",
    "\n",
    "plt.figure(figsize=(9,9))\n",
    "plt.annotate('', xy=x1, xytext=(0,0), arrowprops=dict(facecolor='gray'))\n",
    "plt.annotate('', xy=x2, xytext=(0,0), arrowprops=dict(facecolor='gray'))\n",
    "plt.annotate('', xy=v, xytext=(0,0), arrowprops=dict(facecolor='red'))\n",
    "\n",
    "plt.text(0, 0.8, \"$v$\", fontdict={\"size\": 18})\n",
    "plt.text(4, 1, \"$x$\", fontdict={\"size\": 18})\n",
    "plt.text(2, 2.5, \"$x^{\\Vert v}$\", fontdict={\"size\": 18})\n",
    "\n",
    "plt.plot([6, -1], [-1, 6])\n",
    "\n",
    "plt.xticks(np.arange(-1, 8))\n",
    "plt.yticks(np.arange(-1, 8))\n",
    "plt.xlim(-1, 8)\n",
    "plt.ylim(-1, 8)\n",
    "plt.show()"
   ]
  },
  {
   "cell_type": "markdown",
   "metadata": {},
   "source": [
    "$$\\|\\text{v}\\| = 1 $$\n",
    "$$\n",
    "\\| d \\| = Distance\\\\\n",
    "\\| x \\|^2 = \\| d \\|^2 + \\| x^{\\Vert v} \\|^2\\\\\n",
    "$$\n",
    "따라서 우리가 찾고자하는 $\\| d \\|^2 = \\| x \\|^2 - \\| x^{\\Vert v} \\|^2$\n",
    "\n",
    "여기서 투영된 $x^{\\Vert v}$의 길이는  \n",
    "$$\n",
    "\\| x^{\\Vert v} \\| = \\| x \\| \\cos{\\theta}\\\\\n",
    "\\| x^{\\Vert v} \\| = \\dfrac{x^Tv}{\\| v \\|}\\\\\n",
    "\\|\\text{v}\\| = 1\\\\\n",
    "\\| x^{\\Vert v} \\| = x^Tv\n",
    "$$\n",
    "이렇게 전개 해보면 $\\| x^{\\Vert v} \\| = x^Tv$임을 알수 있다.\n",
    "$$\n",
    "\\\\\n",
    "$$\n",
    "\n",
    "\n",
    "$$\\| d \\|^2 = \\| x \\|^2 - (x^Tv)^2\\\\ $$\n",
    "\n"
   ]
  },
  {
   "cell_type": "code",
   "execution_count": null,
   "metadata": {
    "collapsed": true
   },
   "outputs": [],
   "source": []
  },
  {
   "cell_type": "code",
   "execution_count": null,
   "metadata": {
    "collapsed": true
   },
   "outputs": [],
   "source": []
  }
 ],
 "metadata": {
  "kernelspec": {
   "display_name": "Python 3",
   "language": "python",
   "name": "python3"
  },
  "language_info": {
   "codemirror_mode": {
    "name": "ipython",
    "version": 3
   },
   "file_extension": ".py",
   "mimetype": "text/x-python",
   "name": "python",
   "nbconvert_exporter": "python",
   "pygments_lexer": "ipython3",
   "version": "3.6.2"
  }
 },
 "nbformat": 4,
 "nbformat_minor": 2
}
