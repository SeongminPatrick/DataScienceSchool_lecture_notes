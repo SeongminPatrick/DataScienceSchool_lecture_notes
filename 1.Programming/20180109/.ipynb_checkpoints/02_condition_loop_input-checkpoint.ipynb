{
 "cells": [
  {
   "cell_type": "markdown",
   "metadata": {},
   "source": [
    "# 2. Condition & Loop & Input & Output\n",
    "- input\n",
    "- print\n",
    "- if, elif, else\n",
    "- while\n",
    "- for\n",
    "- comprehension"
   ]
  },
  {
   "cell_type": "markdown",
   "metadata": {},
   "source": [
    "### input"
   ]
  },
  {
   "cell_type": "code",
   "execution_count": 2,
   "metadata": {},
   "outputs": [
    {
     "name": "stdout",
     "output_type": "stream",
     "text": [
      "insert string : string\n",
      "<class 'str'> string\n"
     ]
    }
   ],
   "source": [
    "value = input(\"insert string : \")\n",
    "print(type(value), value)"
   ]
  },
  {
   "cell_type": "code",
   "execution_count": 1,
   "metadata": {},
   "outputs": [
    {
     "name": "stdout",
     "output_type": "stream",
     "text": [
      "insert number : 8\n",
      "<class 'int'> 8\n"
     ]
    }
   ],
   "source": [
    "#기본은 string, 그 외에는 꼭 형변환을 하자\n",
    "\n",
    "value = int(input(\"insert number : \"))\n",
    "print(type(value), value)"
   ]
  },
  {
   "cell_type": "code",
   "execution_count": 3,
   "metadata": {},
   "outputs": [
    {
     "name": "stdout",
     "output_type": "stream",
     "text": [
      "insert string : hiphop is dead for sure\n",
      "<class 'list'> ['hiphop', 'is', 'dead', 'for', 'sure']\n"
     ]
    }
   ],
   "source": [
    "value = input(\"insert string : \")\n",
    "value = value.split(\" \")\n",
    "print(type(value), value)"
   ]
  },
  {
   "cell_type": "markdown",
   "metadata": {},
   "source": [
    "### print"
   ]
  },
  {
   "cell_type": "code",
   "execution_count": 7,
   "metadata": {},
   "outputs": [
    {
     "name": "stdout",
     "output_type": "stream",
     "text": [
      "fast campus\n"
     ]
    }
   ],
   "source": [
    "print(\"fast\", \"campus\")"
   ]
  },
  {
   "cell_type": "code",
   "execution_count": 10,
   "metadata": {},
   "outputs": [
    {
     "name": "stdout",
     "output_type": "stream",
     "text": [
      "fast\n",
      "campus\n"
     ]
    }
   ],
   "source": [
    "print(\"fast\")\n",
    "print(\"campus\")"
   ]
  },
  {
   "cell_type": "code",
   "execution_count": 11,
   "metadata": {},
   "outputs": [
    {
     "name": "stdout",
     "output_type": "stream",
     "text": [
      "fast\tcampus\n"
     ]
    }
   ],
   "source": [
    "#줄 바꿈을 하고 싶지 않을 때\n",
    "print(\"fast\" , end=\"\\t\")\n",
    "print(\"campus\")"
   ]
  },
  {
   "cell_type": "code",
   "execution_count": 12,
   "metadata": {},
   "outputs": [
    {
     "name": "stdout",
     "output_type": "stream",
     "text": [
      "fast - campus\n"
     ]
    }
   ],
   "source": [
    "print(\"fast\", end=\" - \")\n",
    "print(\"campus\")"
   ]
  },
  {
   "cell_type": "code",
   "execution_count": 14,
   "metadata": {},
   "outputs": [
    {
     "name": "stdout",
     "output_type": "stream",
     "text": [
      "number : 1234, string: fastcampus\n"
     ]
    }
   ],
   "source": [
    "a, b = 1234, \"fastcampus\"\n",
    "print(\"number : {}, string: {}\".format(a, b))"
   ]
  },
  {
   "cell_type": "code",
   "execution_count": 5,
   "metadata": {},
   "outputs": [
    {
     "name": "stdout",
     "output_type": "stream",
     "text": [
      "SEO: Wonyoung, Kim: Woosung\n"
     ]
    }
   ],
   "source": [
    "a, b = \"Wonyoung\", \"Woosung\"\n",
    "print(\"SEO: {}, Kim: {}\".format(a, b))"
   ]
  },
  {
   "cell_type": "code",
   "execution_count": 15,
   "metadata": {},
   "outputs": [
    {
     "name": "stdout",
     "output_type": "stream",
     "text": [
      "number : 1234, string: fastcampus\n"
     ]
    }
   ],
   "source": [
    "a, b = 1234, \"fastcampus\"\n",
    "print(\"number : {num}, string: {string}\".format(num=a, string=b))"
   ]
  },
  {
   "cell_type": "code",
   "execution_count": 6,
   "metadata": {},
   "outputs": [
    {
     "name": "stdout",
     "output_type": "stream",
     "text": [
      "number : Woosung, string: Wonyoung\n"
     ]
    }
   ],
   "source": [
    "a, b = \"Wonyoung\", \"Woosung\"\n",
    "print(\"number : {num}, string: {string}\".format(num=b, string=a))"
   ]
  },
  {
   "cell_type": "markdown",
   "metadata": {},
   "source": [
    "### if, elif, else\n",
    "- syntax\n",
    "\n",
    "```\n",
    "if condition_1:\n",
    "    code_1\n",
    "elif condition_2:\n",
    "    code_2\n",
    "else: \n",
    "    code_3\n",
    "```\n",
    "- condition이 True이면 해당 조건안쪽의 코드가 실행"
   ]
  },
  {
   "cell_type": "code",
   "execution_count": 16,
   "metadata": {},
   "outputs": [
    {
     "name": "stdout",
     "output_type": "stream",
     "text": [
      "if\n"
     ]
    }
   ],
   "source": [
    "flag = True\n",
    "if flag:\n",
    "    print(\"if\")\n",
    "else:\n",
    "    print(\"else\")"
   ]
  },
  {
   "cell_type": "code",
   "execution_count": 17,
   "metadata": {},
   "outputs": [
    {
     "name": "stdout",
     "output_type": "stream",
     "text": [
      "else\n"
     ]
    }
   ],
   "source": [
    "flag = False\n",
    "if flag:\n",
    "    print(\"if\")\n",
    "else:\n",
    "    print(\"else\")"
   ]
  },
  {
   "cell_type": "code",
   "execution_count": 20,
   "metadata": {},
   "outputs": [
    {
     "name": "stdout",
     "output_type": "stream",
     "text": [
      "a > b\n"
     ]
    }
   ],
   "source": [
    "# 비교 연산자 사용\n",
    "a, b = 30, 20\n",
    "if a < b:\n",
    "    print(\"a < b\")\n",
    "elif a == b:\n",
    "    print(\"a == b\")\n",
    "else:\n",
    "    print(\"a > b\")"
   ]
  },
  {
   "cell_type": "code",
   "execution_count": 22,
   "metadata": {},
   "outputs": [
    {
     "name": "stdout",
     "output_type": "stream",
     "text": [
      "code 2\n"
     ]
    }
   ],
   "source": [
    "# 논리 연산자 사용\n",
    "a, b = 10, 20\n",
    "if a < 20 and b < 10:\n",
    "    print(\"code 1\")\n",
    "else:\n",
    "    print(\"code 2\")"
   ]
  },
  {
   "cell_type": "code",
   "execution_count": 23,
   "metadata": {},
   "outputs": [
    {
     "name": "stdout",
     "output_type": "stream",
     "text": [
      "code 1\n"
     ]
    }
   ],
   "source": [
    "# 논리 연산자 사용\n",
    "a, b = 10, 20\n",
    "if a < 20 and not(b < 10):\n",
    "    print(\"code 1\")\n",
    "else:\n",
    "    print(\"code 2\")"
   ]
  },
  {
   "cell_type": "code",
   "execution_count": 7,
   "metadata": {},
   "outputs": [
    {
     "name": "stdout",
     "output_type": "stream",
     "text": [
      "b\n"
     ]
    }
   ],
   "source": [
    "# len(a) == 0 과 같이 사용하지 않는다.\n",
    "a, b = [], [1,2]\n",
    "if a:\n",
    "    print(\"a\")\n",
    "if b:\n",
    "    print(\"b\")"
   ]
  },
  {
   "cell_type": "markdown",
   "metadata": {},
   "source": [
    "##### quiz\n",
    "- 숫자를 입력 받아 짝수이면 odd, 홀수 이면 even을 출력하는 프로그램을 작성하세요."
   ]
  },
  {
   "cell_type": "code",
   "execution_count": 29,
   "metadata": {},
   "outputs": [
    {
     "name": "stdout",
     "output_type": "stream",
     "text": [
      "insert number : 31\n",
      "odd\n"
     ]
    }
   ],
   "source": [
    "number = int(input(\"insert number : \"))\n",
    "\n",
    "\n",
    "if number % 2 == 0:\n",
    "    print(\"even\")\n",
    "else:\n",
    "    print(\"odd\")"
   ]
  },
  {
   "cell_type": "code",
   "execution_count": null,
   "metadata": {},
   "outputs": [],
   "source": []
  },
  {
   "cell_type": "markdown",
   "metadata": {},
   "source": [
    "##### 삼항 연산"
   ]
  },
  {
   "cell_type": "code",
   "execution_count": 32,
   "metadata": {},
   "outputs": [
    {
     "data": {
      "text/plain": [
       "'even'"
      ]
     },
     "execution_count": 32,
     "metadata": {},
     "output_type": "execute_result"
    }
   ],
   "source": [
    "a = 10\n",
    "if a % 2 == 0:\n",
    "    result = \"even\"\n",
    "else:\n",
    "    result = \"odd\"\n",
    "result"
   ]
  },
  {
   "cell_type": "code",
   "execution_count": 31,
   "metadata": {},
   "outputs": [
    {
     "data": {
      "text/plain": [
       "'even'"
      ]
     },
     "execution_count": 31,
     "metadata": {},
     "output_type": "execute_result"
    }
   ],
   "source": [
    "a = 10\n",
    "result = \"even\" if a % 2 == 0 else \"odd\"\n",
    "result"
   ]
  },
  {
   "cell_type": "code",
   "execution_count": 10,
   "metadata": {},
   "outputs": [
    {
     "name": "stdout",
     "output_type": "stream",
     "text": [
      "input number : 3\n",
      "no\n"
     ]
    }
   ],
   "source": [
    "a = int(input(\"input number : \"))\n",
    "result = \"yes\" if a % 3 == 0 and a % 2 == 0 else \"no\"\n",
    "print(result)"
   ]
  },
  {
   "cell_type": "markdown",
   "metadata": {},
   "source": [
    "### while\n",
    "- syntax\n",
    "```\n",
    "while condition:\n",
    "    code\n",
    "```\n",
    "- condition이 True이면 while 안쪽의 code가 실행 후 다시 condition을 확인하여 True이면 code를 실행을 반복\n",
    "- break 반드시 필요하다\n",
    "- continue"
   ]
  },
  {
   "cell_type": "code",
   "execution_count": 14,
   "metadata": {},
   "outputs": [
    {
     "name": "stdout",
     "output_type": "stream",
     "text": [
      "5\n",
      "4\n",
      "3\n",
      "2\n",
      "1\n"
     ]
    }
   ],
   "source": [
    "a = 5\n",
    "while a > 0:\n",
    "    print(a)\n",
    "    a -= 1    # 1씩 빼주는 값"
   ]
  },
  {
   "cell_type": "code",
   "execution_count": 16,
   "metadata": {},
   "outputs": [
    {
     "name": "stdout",
     "output_type": "stream",
     "text": [
      "20\n",
      "19\n",
      "18\n",
      "17\n",
      "16\n",
      "15\n",
      "14\n",
      "13\n"
     ]
    }
   ],
   "source": [
    "a = 20\n",
    "while a > 0:\n",
    "    print(a)\n",
    "    if a % 11 == 2:\n",
    "        break    # \"a=가 2인 경우에 break를 걸어 루프를 빠져나와라\"\n",
    "    a -= 1"
   ]
  },
  {
   "cell_type": "code",
   "execution_count": 38,
   "metadata": {},
   "outputs": [
    {
     "data": {
      "text/plain": [
       "2"
      ]
     },
     "execution_count": 38,
     "metadata": {},
     "output_type": "execute_result"
    }
   ],
   "source": [
    "a    #break를 걸어 빠져나왔기 때문에 더 이상 진전되지 않고 2가 된다."
   ]
  },
  {
   "cell_type": "code",
   "execution_count": 39,
   "metadata": {},
   "outputs": [
    {
     "name": "stdout",
     "output_type": "stream",
     "text": [
      "1\n",
      "3\n"
     ]
    }
   ],
   "source": [
    "a = [1,2,3,4,\"q\"]\n",
    "idx = 0\n",
    "while True:\n",
    "    data = a[idx]\n",
    "    idx += 1\n",
    "    if data == 'q':\n",
    "        break\n",
    "    elif data % 2 == 0:\n",
    "        continue\n",
    "    print(data)"
   ]
  },
  {
   "cell_type": "markdown",
   "metadata": {},
   "source": [
    "### for\n",
    "- syntax\n",
    "```\n",
    "for value in list :\n",
    "    code\n",
    "```\n",
    "- list에 있는 value를 순서대로 하나씩 꺼내서 code를 실행\n",
    "- range\n",
    "- zip\n",
    "- enumerate"
   ]
  },
  {
   "cell_type": "code",
   "execution_count": 40,
   "metadata": {},
   "outputs": [
    {
     "name": "stdout",
     "output_type": "stream",
     "text": [
      "0\n",
      "1\n",
      "2\n",
      "3\n",
      "4\n"
     ]
    }
   ],
   "source": [
    "ls = [0,1,2,3,4]\n",
    "for value in ls:\n",
    "    print(value)"
   ]
  },
  {
   "cell_type": "code",
   "execution_count": 41,
   "metadata": {},
   "outputs": [
    {
     "name": "stdout",
     "output_type": "stream",
     "text": [
      "0\n",
      "1\n",
      "2\n",
      "3\n",
      "4\n"
     ]
    }
   ],
   "source": [
    "# range(end)\n",
    "for value in range(5):\n",
    "    print(value)"
   ]
  },
  {
   "cell_type": "code",
   "execution_count": 42,
   "metadata": {},
   "outputs": [
    {
     "name": "stdout",
     "output_type": "stream",
     "text": [
      "2\n",
      "3\n",
      "4\n"
     ]
    }
   ],
   "source": [
    "# range(start:end)\n",
    "for value in range(2,5):\n",
    "    print(value)"
   ]
  },
  {
   "cell_type": "code",
   "execution_count": 43,
   "metadata": {},
   "outputs": [
    {
     "name": "stdout",
     "output_type": "stream",
     "text": [
      "1\n",
      "3\n"
     ]
    }
   ],
   "source": [
    "# range(start:end:step)\n",
    "for value in range(1,5,2):\n",
    "    print(value)"
   ]
  },
  {
   "cell_type": "code",
   "execution_count": 44,
   "metadata": {},
   "outputs": [
    {
     "name": "stdout",
     "output_type": "stream",
     "text": [
      "5\n",
      "4\n",
      "3\n",
      "2\n"
     ]
    }
   ],
   "source": [
    "for value in range(5,1,-1):\n",
    "    print(value)"
   ]
  },
  {
   "cell_type": "code",
   "execution_count": 45,
   "metadata": {},
   "outputs": [
    {
     "name": "stdout",
     "output_type": "stream",
     "text": [
      "5\n"
     ]
    }
   ],
   "source": [
    "a = 0\n",
    "for _ in range(5):    #변수 명으로 _를 잘 사용하지 않는다. 결과적으로 a를 5번만 더해준다\n",
    "    a += 1\n",
    "print(a)"
   ]
  },
  {
   "cell_type": "markdown",
   "metadata": {},
   "source": [
    "##### zip\n",
    "- 2개의 리스트를 key, value 형태로 묶어주는 함수"
   ]
  },
  {
   "cell_type": "code",
   "execution_count": 22,
   "metadata": {},
   "outputs": [],
   "source": [
    "# 2개의 리스트를 매핑시켜 딕셔너리 형태로 변경하세요\n",
    "subjects = [\"korean\", \"english\", \"math\", \"science\"]\n",
    "points = [100, 80, 90, 60]"
   ]
  },
  {
   "cell_type": "code",
   "execution_count": 19,
   "metadata": {},
   "outputs": [
    {
     "data": {
      "text/plain": [
       "{'english': 80, 'korean': 100, 'math': 90, 'science': 60}"
      ]
     },
     "execution_count": 19,
     "metadata": {},
     "output_type": "execute_result"
    }
   ],
   "source": [
    "convert_dict = {}\n",
    "for idx in range(len(subjects)):\n",
    "    convert_dict[subjects[idx]] = points[idx]\n",
    "convert_dict"
   ]
  },
  {
   "cell_type": "code",
   "execution_count": 20,
   "metadata": {
    "scrolled": true
   },
   "outputs": [
    {
     "name": "stdout",
     "output_type": "stream",
     "text": [
      "korean 100\n",
      "english 80\n",
      "math 90\n",
      "science 60\n"
     ]
    },
    {
     "data": {
      "text/plain": [
       "{'english': 80, 'korean': 100, 'math': 90, 'science': 60}"
      ]
     },
     "execution_count": 20,
     "metadata": {},
     "output_type": "execute_result"
    }
   ],
   "source": [
    "converted_dict = {}\n",
    "for subject, point in zip(subjects, points):    #for 문에 두개를 동시에 구동\n",
    "    print(subject, point)\n",
    "    converted_dict[subject] = point\n",
    "converted_dict"
   ]
  },
  {
   "cell_type": "code",
   "execution_count": 49,
   "metadata": {},
   "outputs": [
    {
     "data": {
      "text/plain": [
       "((('korean', 100), ('english', 80), ('math', 90), ('science', 60)),\n",
       " {'english': 80, 'korean': 100, 'math': 90, 'science': 60})"
      ]
     },
     "execution_count": 49,
     "metadata": {},
     "output_type": "execute_result"
    }
   ],
   "source": [
    "tuple(zip(subjects, points)), dict(zip(subjects, points))    #zip, for문 사용 후 마지막으로 형변환을 통해 쉽게 바꿀 수 있음"
   ]
  },
  {
   "cell_type": "markdown",
   "metadata": {},
   "source": [
    "##### enumerate\n",
    "- 리스트 형태의 데이터를 index와 value 값을 동시에 사용할수 있는 함수"
   ]
  },
  {
   "cell_type": "code",
   "execution_count": 50,
   "metadata": {},
   "outputs": [
    {
     "name": "stdout",
     "output_type": "stream",
     "text": [
      "0 korean\n",
      "1 english\n",
      "2 math\n",
      "3 science\n"
     ]
    }
   ],
   "source": [
    "# list(enumerate(range(5,10)))\n",
    "subjects = [\"korean\", \"english\", \"math\", \"science\"]\n",
    "for idx, value in enumerate(subjects):\n",
    "    print(idx, value)"
   ]
  },
  {
   "cell_type": "markdown",
   "metadata": {},
   "source": [
    "##### quiz\n",
    "- for문을 이용하여 리스트에 있는 모든 숫자들을 더하는 코딩을 하시오\n",
    "- numbers = [1,3,5,7,9]"
   ]
  },
  {
   "cell_type": "code",
   "execution_count": 61,
   "metadata": {
    "scrolled": true
   },
   "outputs": [
    {
     "name": "stdout",
     "output_type": "stream",
     "text": [
      "25\n"
     ]
    }
   ],
   "source": [
    "# TODO\n",
    "\n",
    "numbers = [1,3,5,7,9]\n",
    "result=0\n",
    "\n",
    "for numbers in numbers:\n",
    "    result += numbers\n",
    "    \n",
    "print(result)"
   ]
  },
  {
   "cell_type": "markdown",
   "metadata": {},
   "source": [
    "### comprehention\n",
    "- 반복문의 결과를 바로 리스트로 만들어 주는 방법\n",
    "- 리스트에 1~5까지 숫자를 대입하는 방법"
   ]
  },
  {
   "cell_type": "code",
   "execution_count": 53,
   "metadata": {},
   "outputs": [
    {
     "name": "stdout",
     "output_type": "stream",
     "text": [
      "[1, 2, 3, 4, 5]\n"
     ]
    }
   ],
   "source": [
    "# method 1\n",
    "ls = []\n",
    "ls = [1, 2, 3, 4, 5]\n",
    "print(ls)"
   ]
  },
  {
   "cell_type": "code",
   "execution_count": 54,
   "metadata": {},
   "outputs": [
    {
     "name": "stdout",
     "output_type": "stream",
     "text": [
      "[1, 2, 3, 4, 5]\n"
     ]
    }
   ],
   "source": [
    "# method 2\n",
    "ls = []\n",
    "ls.append(1)\n",
    "ls.append(2)\n",
    "ls.append(3)\n",
    "ls.append(4)\n",
    "ls.append(5)\n",
    "print(ls)"
   ]
  },
  {
   "cell_type": "code",
   "execution_count": 38,
   "metadata": {},
   "outputs": [
    {
     "name": "stdout",
     "output_type": "stream",
     "text": [
      "[1, 2, 3, 4, 5]\n"
     ]
    }
   ],
   "source": [
    "# method 3\n",
    "ls = []\n",
    "for num in range(1,6):\n",
    "    ls.append(num)\n",
    "print(ls)"
   ]
  },
  {
   "cell_type": "code",
   "execution_count": 39,
   "metadata": {},
   "outputs": [
    {
     "name": "stdout",
     "output_type": "stream",
     "text": [
      "[1, 2, 3, 4, 5]\n"
     ]
    }
   ],
   "source": [
    "# method 4\n",
    "ls = []\n",
    "ls = [num for num in range(1,6)]\n",
    "print(ls)"
   ]
  },
  {
   "cell_type": "code",
   "execution_count": 19,
   "metadata": {},
   "outputs": [],
   "source": [
    "# comprehention는 for문을 사용한는 것보다 속도가 빠릅니다."
   ]
  },
  {
   "cell_type": "code",
   "execution_count": 57,
   "metadata": {},
   "outputs": [
    {
     "name": "stdout",
     "output_type": "stream",
     "text": [
      "CPU times: user 1.8 ms, sys: 230 µs, total: 2.03 ms\n",
      "Wall time: 2.04 ms\n"
     ]
    }
   ],
   "source": [
    "%%time\n",
    "# compare excute time\n",
    "ls = []\n",
    "for num in range(1,10000):\n",
    "    ls.append(num)"
   ]
  },
  {
   "cell_type": "code",
   "execution_count": 58,
   "metadata": {},
   "outputs": [
    {
     "name": "stdout",
     "output_type": "stream",
     "text": [
      "CPU times: user 440 µs, sys: 0 ns, total: 440 µs\n",
      "Wall time: 447 µs\n"
     ]
    }
   ],
   "source": [
    "%%time\n",
    "# comprehention 사용\n",
    "ls = []\n",
    "ls = [num for num in range(1,10000)]"
   ]
  },
  {
   "cell_type": "code",
   "execution_count": null,
   "metadata": {},
   "outputs": [],
   "source": [
    "# comprehention 은 삼항연산과 함께 사용할수 있습니다."
   ]
  },
  {
   "cell_type": "code",
   "execution_count": 59,
   "metadata": {},
   "outputs": [
    {
     "data": {
      "text/plain": [
       "['0:odd',\n",
       " '1:even',\n",
       " '2:odd',\n",
       " '3:even',\n",
       " '4:odd',\n",
       " '5:even',\n",
       " '6:odd',\n",
       " '7:even',\n",
       " '8:odd',\n",
       " '9:even',\n",
       " '10:odd']"
      ]
     },
     "execution_count": 59,
     "metadata": {},
     "output_type": "execute_result"
    }
   ],
   "source": [
    "# 0 ~ 10까지 숫자를 출력하고 숫자뒤에 짝수인지 홀수인지 출력하는 코드를 작성\n",
    "ls = []\n",
    "ls = [str(num) + \":odd\" if num % 2 == 0 else str(num) + \":even\" for num in range(11)]\n",
    "ls"
   ]
  },
  {
   "cell_type": "code",
   "execution_count": 4,
   "metadata": {},
   "outputs": [
    {
     "name": "stdout",
     "output_type": "stream",
     "text": [
      "[0, 1, 2, 3, 4, 5, 6, 7, 8, 9]\n",
      "[0, 2, 4, 6, 8]\n",
      "[1, 3, 5, 7, 9]\n"
     ]
    }
   ],
   "source": [
    "ls = [number for number in range(10)]\n",
    "print(ls)\n",
    "\n",
    "ls = [number for number in range(10) if number % 2 == 0]\n",
    "print(ls)\n",
    "\n",
    "ls = [number + 1 for number in range(10) if number % 2 == 0]\n",
    "print(ls)\n"
   ]
  },
  {
   "cell_type": "code",
   "execution_count": null,
   "metadata": {},
   "outputs": [],
   "source": []
  },
  {
   "cell_type": "markdown",
   "metadata": {},
   "source": [
    "##### quiz\n",
    "- comprehention과 삼항연산을 함께 사용하여 이름 리스트에서 lee씨 성을 가진사람은 성을 삭제하는 코드를 작성하세요.\n",
    "- names = [\"kim test\", \"park python\", \"lee data\", \"jung science\", \"lee school\"] (입력)\n",
    "- names = [\"kim test\", \"park python\", \"data\", \"jung science\", \"school\"] (결과)"
   ]
  },
  {
   "cell_type": "code",
   "execution_count": 31,
   "metadata": {},
   "outputs": [
    {
     "name": "stdout",
     "output_type": "stream",
     "text": [
      "['kim test', 'park python', 'data', 'jung science', 'school']\n"
     ]
    }
   ],
   "source": [
    "# TODO\n",
    "\n",
    "names = [\"kim test\", \"park python\", \"lee data\", \"jung science\", \"lee school\"]\n",
    "result = [name.replace(\"lee \", \"\") if name[0:4] == \"lee \" else name for name in names]\n",
    "print(result)"
   ]
  },
  {
   "cell_type": "code",
   "execution_count": 32,
   "metadata": {},
   "outputs": [
    {
     "data": {
      "text/plain": [
       "'data'"
      ]
     },
     "execution_count": 32,
     "metadata": {},
     "output_type": "execute_result"
    }
   ],
   "source": [
    "name = (\"lee data\")\n",
    "name[0:4]\n",
    "\n",
    "name.replace(\"lee \", \"\")"
   ]
  },
  {
   "cell_type": "code",
   "execution_count": null,
   "metadata": {},
   "outputs": [],
   "source": []
  },
  {
   "cell_type": "code",
   "execution_count": 36,
   "metadata": {},
   "outputs": [
    {
     "name": "stdout",
     "output_type": "stream",
     "text": [
      "['kim test', 'park python', 'data', 'jung science', 'school']\n"
     ]
    }
   ],
   "source": [
    "names = [\"kim test\", \"park python\", \"lee data\", \"jung science\", \"lee school\"]\n",
    "result = [name.split(\" \")[1] if name.split(\" \")[0] == \"lee\" else name for name in names]\n",
    "print(result)"
   ]
  },
  {
   "cell_type": "code",
   "execution_count": null,
   "metadata": {},
   "outputs": [],
   "source": []
  }
 ],
 "metadata": {
  "kernelspec": {
   "display_name": "Python 3",
   "language": "python",
   "name": "python3"
  },
  "language_info": {
   "codemirror_mode": {
    "name": "ipython",
    "version": 3
   },
   "file_extension": ".py",
   "mimetype": "text/x-python",
   "name": "python",
   "nbconvert_exporter": "python",
   "pygments_lexer": "ipython3",
   "version": "3.6.2"
  }
 },
 "nbformat": 4,
 "nbformat_minor": 2
}
