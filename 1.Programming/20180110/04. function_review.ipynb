{
 "cells": [
  {
   "cell_type": "markdown",
   "metadata": {},
   "source": [
    "# 4. Function "
   ]
  },
  {
   "cell_type": "markdown",
   "metadata": {},
   "source": [
    "<br>"
   ]
  },
  {
   "cell_type": "markdown",
   "metadata": {},
   "source": [
    "### 4.1 basic function\n",
    "\n",
    "- 반복적인 기능을 묶어줌\n",
    "- 반복적인 기능함수를 통해서 묶음으로 깔끔한 코딩 가능"
   ]
  },
  {
   "cell_type": "code",
   "execution_count": 2,
   "metadata": {},
   "outputs": [],
   "source": [
    "# 입력 받은 데이터를 세번 출력해주는 함수\n",
    "def display_three(data):\n",
    "    print(data)\n",
    "    print(data)\n",
    "    print(data)"
   ]
  },
  {
   "cell_type": "code",
   "execution_count": 5,
   "metadata": {},
   "outputs": [
    {
     "name": "stdout",
     "output_type": "stream",
     "text": [
      "['Fast', 'Campus', 'Datascience']\n",
      "['Fast', 'Campus', 'Datascience']\n",
      "['Fast', 'Campus', 'Datascience']\n",
      "Fast\n",
      "Fast\n",
      "Fast\n",
      "Campus\n",
      "Campus\n",
      "Campus\n"
     ]
    }
   ],
   "source": [
    "ls = [\"Fast\", \"Campus\", \"Datascience\"]\n",
    "\n",
    "display_three(ls)\n",
    "display_three(ls[0])\n",
    "display_three(ls[1])"
   ]
  },
  {
   "cell_type": "markdown",
   "metadata": {},
   "source": [
    "### 4.2 return\n",
    "- 함수의 마지막을 정리"
   ]
  },
  {
   "cell_type": "code",
   "execution_count": 6,
   "metadata": {},
   "outputs": [
    {
     "name": "stdout",
     "output_type": "stream",
     "text": [
      "data\n"
     ]
    }
   ],
   "source": [
    "def test_func():\n",
    "    return \"data\"\n",
    "\n",
    "s = test_func()\n",
    "print(s)"
   ]
  },
  {
   "cell_type": "code",
   "execution_count": 7,
   "metadata": {},
   "outputs": [],
   "source": [
    "def test_func(a):\n",
    "    if a < 10:\n",
    "        print(\"a < 10\")\n",
    "    else:\n",
    "        print(\"a => 10\")"
   ]
  },
  {
   "cell_type": "code",
   "execution_count": 9,
   "metadata": {},
   "outputs": [
    {
     "name": "stdout",
     "output_type": "stream",
     "text": [
      "a => 10\n"
     ]
    }
   ],
   "source": [
    "test_func(10)"
   ]
  },
  {
   "cell_type": "code",
   "execution_count": 10,
   "metadata": {},
   "outputs": [],
   "source": [
    "# 문제 숫자 리스트를 받아서 평균을 구해주는 함수를 작성\n",
    "\n",
    "def avg_func(scores):\n",
    "    total = 0\n",
    "    for score in scores:\n",
    "        total += score\n",
    "    return total / len(scores)"
   ]
  },
  {
   "cell_type": "code",
   "execution_count": 11,
   "metadata": {},
   "outputs": [
    {
     "data": {
      "text/plain": [
       "71.6"
      ]
     },
     "execution_count": 11,
     "metadata": {},
     "output_type": "execute_result"
    }
   ],
   "source": [
    "scores = [98, 56, 32, 88, 84]\n",
    "avg_func(scores)"
   ]
  },
  {
   "cell_type": "markdown",
   "metadata": {},
   "source": [
    "### 4.3 parameter & argument\n",
    "- 데이터를 넘길 때 넘기는 데이터를 parameter\n",
    "- 데이터를 받을 때 받는 데이터를 argument"
   ]
  },
  {
   "cell_type": "code",
   "execution_count": 13,
   "metadata": {},
   "outputs": [],
   "source": [
    "def test_func():\n",
    "    pass\n",
    "\n",
    "# no parameter and no return function\n",
    "# 선언만 해놓고 아무 실행도 하지 않는 것이 pass. \n",
    "# pass를 통해 미리 함수로 구조만 만들어 놓는 것도 좋은 방법"
   ]
  },
  {
   "cell_type": "code",
   "execution_count": 15,
   "metadata": {},
   "outputs": [
    {
     "ename": "TypeError",
     "evalue": "print_func() missing 1 required positional argument: 's3'",
     "output_type": "error",
     "traceback": [
      "\u001b[0;31m---------------------------------------------------------------------------\u001b[0m",
      "\u001b[0;31mTypeError\u001b[0m                                 Traceback (most recent call last)",
      "\u001b[0;32m<ipython-input-15-8dd7ebf36686>\u001b[0m in \u001b[0;36m<module>\u001b[0;34m()\u001b[0m\n\u001b[1;32m      3\u001b[0m \u001b[0;34m\u001b[0m\u001b[0m\n\u001b[1;32m      4\u001b[0m \u001b[0;34m\u001b[0m\u001b[0m\n\u001b[0;32m----> 5\u001b[0;31m \u001b[0mprint_func\u001b[0m\u001b[0;34m(\u001b[0m\u001b[0;34m\"fast\"\u001b[0m\u001b[0;34m,\u001b[0m \u001b[0;34m\"campus\"\u001b[0m\u001b[0;34m)\u001b[0m\u001b[0;34m\u001b[0m\u001b[0m\n\u001b[0m",
      "\u001b[0;31mTypeError\u001b[0m: print_func() missing 1 required positional argument: 's3'"
     ]
    }
   ],
   "source": [
    "def print_func(s1, s2, s3): # one parameter and no return function\n",
    "    print(s1, s2, s3)   "
   ]
  },
  {
   "cell_type": "code",
   "execution_count": 16,
   "metadata": {},
   "outputs": [
    {
     "name": "stdout",
     "output_type": "stream",
     "text": [
      "fast campus datascience\n"
     ]
    }
   ],
   "source": [
    "print_func(\"fast\", \"campus\", \"datascience\")"
   ]
  },
  {
   "cell_type": "code",
   "execution_count": 17,
   "metadata": {},
   "outputs": [
    {
     "ename": "TypeError",
     "evalue": "print_func() missing 1 required positional argument: 's3'",
     "output_type": "error",
     "traceback": [
      "\u001b[0;31m---------------------------------------------------------------------------\u001b[0m",
      "\u001b[0;31mTypeError\u001b[0m                                 Traceback (most recent call last)",
      "\u001b[0;32m<ipython-input-17-113f148d5fe7>\u001b[0m in \u001b[0;36m<module>\u001b[0;34m()\u001b[0m\n\u001b[0;32m----> 1\u001b[0;31m \u001b[0mprint_func\u001b[0m\u001b[0;34m(\u001b[0m\u001b[0;34m\"fast\"\u001b[0m\u001b[0;34m,\u001b[0m \u001b[0;34m\"campus\"\u001b[0m\u001b[0;34m)\u001b[0m\u001b[0;34m\u001b[0m\u001b[0m\n\u001b[0m",
      "\u001b[0;31mTypeError\u001b[0m: print_func() missing 1 required positional argument: 's3'"
     ]
    }
   ],
   "source": [
    "print_func(\"fast\", \"campus\")\n",
    "\n",
    "# parameter와 완벽히 대응하지 않기 때문에 에러가 남"
   ]
  },
  {
   "cell_type": "code",
   "execution_count": 24,
   "metadata": {},
   "outputs": [],
   "source": [
    "def print_func2(s1, s2=\"no data\", s3=\"no_data\"): #s1:default parameter, #s2:set basic parameter\n",
    "    print(\"{} {} {}\".format(s1, s2, s3))"
   ]
  },
  {
   "cell_type": "code",
   "execution_count": 26,
   "metadata": {},
   "outputs": [
    {
     "name": "stdout",
     "output_type": "stream",
     "text": [
      "fast campus no data no_data\n"
     ]
    }
   ],
   "source": [
    "print_func2(\"fast campus\")"
   ]
  },
  {
   "cell_type": "code",
   "execution_count": 28,
   "metadata": {},
   "outputs": [
    {
     "name": "stdout",
     "output_type": "stream",
     "text": [
      "fast campus datascience\n"
     ]
    }
   ],
   "source": [
    "print_func2(s2=\"campus\", s3=\"datascience\", s1=\"fast\")"
   ]
  },
  {
   "cell_type": "markdown",
   "metadata": {},
   "source": [
    "### 4.4 round\n",
    "- 반올림 \n",
    "- round(대상, 자릿수)"
   ]
  },
  {
   "cell_type": "code",
   "execution_count": 145,
   "metadata": {},
   "outputs": [],
   "source": [
    "def avg_func(korean, english, math):\n",
    "    return (korean + english + math) / 3"
   ]
  },
  {
   "cell_type": "code",
   "execution_count": 146,
   "metadata": {},
   "outputs": [
    {
     "name": "stdout",
     "output_type": "stream",
     "text": [
      "avg_score : 58.67\n"
     ]
    }
   ],
   "source": [
    "score_avg = avg_func(99, 44, 33)\n",
    "\n",
    "print(\"avg_score : {}\".format(round(score_avg, 2)))"
   ]
  },
  {
   "cell_type": "code",
   "execution_count": 147,
   "metadata": {},
   "outputs": [],
   "source": [
    "def sum_func(korean, english, math):\n",
    "    return (korean + english + math)"
   ]
  },
  {
   "cell_type": "code",
   "execution_count": 148,
   "metadata": {},
   "outputs": [
    {
     "name": "stdout",
     "output_type": "stream",
     "text": [
      "198\n"
     ]
    }
   ],
   "source": [
    "print(sum_func(100, 74, 24))"
   ]
  },
  {
   "cell_type": "code",
   "execution_count": 46,
   "metadata": {},
   "outputs": [
    {
     "name": "stdout",
     "output_type": "stream",
     "text": [
      "198\n"
     ]
    }
   ],
   "source": [
    "def func_param(sum_func):\n",
    "    result = sum_func(100, 74, 24)\n",
    "    print(result)\n",
    "    \n",
    "func_param(sum_func)"
   ]
  },
  {
   "cell_type": "markdown",
   "metadata": {},
   "source": [
    "### 4.5 *args\n",
    "- arguments\n",
    "- 함수에서 여러 개의 파라미터를 한꺼번에 받을 때 사용\n",
    "- 받는 arguments의 데이터는 tuple 형태로 받음\n",
    "- *의 의미는 모든 value를 받는 다는 의미"
   ]
  },
  {
   "cell_type": "code",
   "execution_count": 56,
   "metadata": {},
   "outputs": [],
   "source": [
    "def print_arg(*args):\n",
    "    print(args)\n",
    "    print(type(args))\n",
    "    print(args[4])\n",
    "    print(args[5][0])"
   ]
  },
  {
   "cell_type": "code",
   "execution_count": 57,
   "metadata": {},
   "outputs": [
    {
     "name": "stdout",
     "output_type": "stream",
     "text": [
      "(5, 'fast', 3, 4, 'campus', ['data', 'science'], {'fast': 'campus', 'data': 'science'})\n",
      "<class 'tuple'>\n",
      "campus\n",
      "data\n"
     ]
    }
   ],
   "source": [
    "print_arg(5, \"fast\", 3, 4, \"campus\", \n",
    "          [\"data\", \"science\"], \n",
    "          {\"fast\": \"campus\", \"data\": \"science\"})"
   ]
  },
  {
   "cell_type": "markdown",
   "metadata": {},
   "source": [
    "### 4.6 **kwargs\n",
    "- keyword argument\n",
    "- 여러 개의 파라미터를 key-value 형태로 받을 때 사용\n",
    "- 당연히 keyword argument의 테이터는 dictionary 데이터 타입으로 받음\n",
    "- `**` 의 의미는 모든 key, value를 받는 다는 의미\n"
   ]
  },
  {
   "cell_type": "code",
   "execution_count": 164,
   "metadata": {},
   "outputs": [],
   "source": [
    "def avg_func(**kwargs):\n",
    "    print(kwargs)\n",
    "    print(type(kwargs))\n",
    "    print(kwargs.items())\n",
    "    \n",
    "    total, count = 0, 0\n",
    "    for subject, point in kwargs.items():\n",
    "        print(subject, point)\n",
    "        total += point\n",
    "        count += 1\n",
    "    return total / count"
   ]
  },
  {
   "cell_type": "code",
   "execution_count": 165,
   "metadata": {},
   "outputs": [
    {
     "name": "stdout",
     "output_type": "stream",
     "text": [
      "{'korean': 100, 'english': 80, 'math': 30}\n",
      "<class 'dict'>\n",
      "dict_items([('korean', 100), ('english', 80), ('math', 30)])\n",
      "korean 100\n",
      "english 80\n",
      "math 30\n"
     ]
    },
    {
     "data": {
      "text/plain": [
       "70.0"
      ]
     },
     "execution_count": 165,
     "metadata": {},
     "output_type": "execute_result"
    }
   ],
   "source": [
    "b = avg_func(korean=100, english=80, math=30)\n",
    "\n",
    "round(b, 2)"
   ]
  },
  {
   "cell_type": "code",
   "execution_count": 74,
   "metadata": {},
   "outputs": [
    {
     "name": "stdout",
     "output_type": "stream",
     "text": [
      "{'korean': 100, 'english': 80, 'math': 30}\n",
      "<class 'dict'>\n",
      "korean 100\n",
      "english 80\n",
      "math 30\n",
      "avg : 70.0\n"
     ]
    }
   ],
   "source": [
    "b = avg_func(korean=100, english=80, math=30)\n",
    "print(\"avg : {}\".format(round(b,2)))"
   ]
  },
  {
   "cell_type": "code",
   "execution_count": 75,
   "metadata": {},
   "outputs": [],
   "source": [
    "# using args, kwargs together\n",
    "\n",
    "def test_function(*args, **kwargs):\n",
    "    print(args)\n",
    "    print(kwargs)"
   ]
  },
  {
   "cell_type": "code",
   "execution_count": 80,
   "metadata": {},
   "outputs": [
    {
     "name": "stdout",
     "output_type": "stream",
     "text": [
      "(1, 2, 3, 'fast', 'campus', 'datascience')\n",
      "{}\n"
     ]
    }
   ],
   "source": [
    "test_function(1,2,3, \"fast\", \"campus\", \"datascience\")\n",
    "\n",
    "# *args functions in tuple because it's a list form\n",
    "# **kwargs does not operate"
   ]
  },
  {
   "cell_type": "code",
   "execution_count": 81,
   "metadata": {},
   "outputs": [
    {
     "name": "stdout",
     "output_type": "stream",
     "text": [
      "()\n",
      "{'korean': 80, 'english': 40, 'math': 70}\n"
     ]
    }
   ],
   "source": [
    "test_function(korean=80, english=40, math=70)"
   ]
  },
  {
   "cell_type": "markdown",
   "metadata": {},
   "source": [
    "### 4.7 docstring\n",
    "- ``readibility`` always considered very important\n",
    "-  Docstring function descriptions must be in detail in order to cooperate with others!!"
   ]
  },
  {
   "cell_type": "code",
   "execution_count": 82,
   "metadata": {},
   "outputs": [],
   "source": [
    "def echo(anything):\n",
    "    'echo returns the input argument'\n",
    "    return anything\n",
    "\n",
    "def echo2(anything):\n",
    "    '''\n",
    "    echo returns its input argument\n",
    "    Operation steps:\n",
    "        1. print parameter anything\n",
    "        2. return anything\n",
    "    '''\n",
    "    print(\"echo2 function : {}\".format(anything))\n",
    "    return anything\n"
   ]
  },
  {
   "cell_type": "code",
   "execution_count": 84,
   "metadata": {},
   "outputs": [
    {
     "name": "stdout",
     "output_type": "stream",
     "text": [
      "datascience\n"
     ]
    }
   ],
   "source": [
    "result_1 = echo(\"datascience\")\n",
    "\n",
    "print(result_1)"
   ]
  },
  {
   "cell_type": "code",
   "execution_count": 143,
   "metadata": {},
   "outputs": [
    {
     "name": "stdout",
     "output_type": "stream",
     "text": [
      "echo2 function : datascience\n",
      "datascience\n"
     ]
    }
   ],
   "source": [
    "result_2 = echo2(\"datascience\")\n",
    "\n",
    "print(result_2)"
   ]
  },
  {
   "cell_type": "markdown",
   "metadata": {},
   "source": [
    "How to check the function & docstring"
   ]
  },
  {
   "cell_type": "code",
   "execution_count": 92,
   "metadata": {},
   "outputs": [
    {
     "name": "stdout",
     "output_type": "stream",
     "text": [
      "Help on function echo in module __main__:\n",
      "\n",
      "echo(anything)\n",
      "    echo returns the input argument\n",
      "\n",
      "Help on function echo2 in module __main__:\n",
      "\n",
      "echo2(anything)\n",
      "    echo returns its input argument\n",
      "    Operation steps:\n",
      "        1. print parameter anything\n",
      "        2. return anything\n",
      "\n"
     ]
    }
   ],
   "source": [
    "help(echo)\n",
    "help(echo2)"
   ]
  },
  {
   "cell_type": "code",
   "execution_count": 94,
   "metadata": {},
   "outputs": [
    {
     "name": "stdout",
     "output_type": "stream",
     "text": [
      "\n",
      "    echo returns its input argument\n",
      "    Operation steps:\n",
      "        1. print parameter anything\n",
      "        2. return anything\n",
      "    \n"
     ]
    }
   ],
   "source": [
    "print(echo2.__doc__)  #display only docstring"
   ]
  },
  {
   "cell_type": "code",
   "execution_count": 95,
   "metadata": {},
   "outputs": [
    {
     "data": {
      "text/plain": [
       "<function __main__.echo>"
      ]
     },
     "execution_count": 95,
     "metadata": {},
     "output_type": "execute_result"
    }
   ],
   "source": [
    "# shift + tab\n",
    "\n",
    "echo"
   ]
  },
  {
   "cell_type": "code",
   "execution_count": 96,
   "metadata": {},
   "outputs": [],
   "source": [
    "echo2?"
   ]
  },
  {
   "cell_type": "markdown",
   "metadata": {},
   "source": [
    "### 4.8 global"
   ]
  },
  {
   "cell_type": "markdown",
   "metadata": {},
   "source": [
    "- function scope\n",
    "```\n",
    "locals : 지역 변수 (함수 내에서 선언)\n",
    "globals: 전역 변수 (함수 밖에서 선언)\n",
    "```\n",
    "how to change global variable?"
   ]
  },
  {
   "cell_type": "code",
   "execution_count": 101,
   "metadata": {},
   "outputs": [
    {
     "name": "stdout",
     "output_type": "stream",
     "text": [
      "lv\n",
      "10\n"
     ]
    }
   ],
   "source": [
    "gv = 10\n",
    "\n",
    "def print_gv():\n",
    "    print(\"lv\")\n",
    "    \n",
    "print_gv()\n",
    "print(gv)"
   ]
  },
  {
   "cell_type": "code",
   "execution_count": 107,
   "metadata": {},
   "outputs": [],
   "source": [
    "gv1 = 1\n",
    "gv2 = 2\n",
    "\n",
    "def print_globals():\n",
    "    gv1 = 10\n",
    "    gv2 = 20\n",
    "    print(globals())\n",
    "    \n",
    "def print_locals():\n",
    "    gv1 = 10\n",
    "    gv2 = 20\n",
    "    print(locals())\n",
    "    print(locals)"
   ]
  },
  {
   "cell_type": "code",
   "execution_count": 108,
   "metadata": {},
   "outputs": [
    {
     "name": "stdout",
     "output_type": "stream",
     "text": [
      "{'__name__': '__main__', '__doc__': 'Automatically created module for IPython interactive environment', '__package__': None, '__loader__': None, '__spec__': None, '__builtin__': <module 'builtins' (built-in)>, '__builtins__': <module 'builtins' (built-in)>, '_ih': ['', '### 4.1 basic function', '# 입력 받은 데이터를 세번 출력해주는 함수\\ndef display_three(data):\\n    print(data)\\n    print(data)\\n    print(data)', 'ls = [\"Fast\", \"Campus\", \"Datascience\"]\\n\\ndisplay_three(ls)', 'ls = [\"Fast\", \"Campus\", \"Datascience\"]\\n\\ndisplay_three(ls)\\ndisplay_three(ls[0])', 'ls = [\"Fast\", \"Campus\", \"Datascience\"]\\n\\ndisplay_three(ls)\\ndisplay_three(ls[0])\\ndisplay_three(ls[1])', 'def test_func():\\n    return \"data\"\\n\\ns = test_func()\\nprint(s)', 'def test_func(a):\\n    if a < 10:\\n        print(\"a < 10\")\\n    else:\\n        print(\"a => 10\")', 'test_func(13)', 'test_func(10)', '# 문제 숫자 리스트를 받아서 평균을 구해주는 함수를 작성\\n\\ndef avg_func(scores):\\n    total = 0\\n    for score in scores:\\n        total += score\\n    return total / len(scores)', 'scores = [98, 56, 32, 88, 84]\\navg_func(scores)', '### 4.3 parameter & argument\\n- 데이터를 넘길 때 넘기는 데이터를 parameter\\n- 데이터를 받을 때 받는 데이터를 argument', 'def test_func():\\n    pass\\n\\n# no parameter and no return function\\n# 선언만 해놓고 아무 실행도 하지 않는 것이 pass. \\n# pass를 통해 미리 함수로 구조만 만들어 놓는 것도 좋은 방법', 'def print_func(s1, s2, s3): # one parameter and no return function\\n    print(s1, s2, s3)\\n    \\n    \\nprint_func(\"fast\", \"campus\", \"datascience\")    ', 'def print_func(s1, s2, s3): # one parameter and no return function\\n    print(s1, s2, s3)\\n    \\n    \\nprint_func(\"fast\", \"campus\")    ', 'print_func(\"fast\", \"campus\", \"datascience\")', 'print_func(\"fast\", \"campus\")', 'def print_func2(s1=, s2=\"no data\", s3=\"no_data\"): #s1:default parameter, s2:set basic parameter\\n    print(\"{}, {} {}\".format(s1, s2, s3))\\n\\nprint_func2()', 'def print_func2(s1=, s2=\"no data\", s3=\"no_data\"): #s1:default parameter, s2:set basic parameter\\n    print(\"{}, {} {}\".format(s1, s2, s3))', 'def print_func2(s1=, s2=\"no data\", s3=\"no_data\"): #s1:default parameter, #s2:set basic parameter\\n    print(\"{}, {} {}\".format(s1, s2, s3))', 'def print_func2(s1, s2=\"no data\", s3=\"no_data\"): #s1:default parameter, #s2:set basic parameter\\n    print(\"{}, {} {}\".format(s1, s2, s3))', 'print_func()', 'print_func(\"fast campus\")', 'def print_func2(s1, s2=\"no data\", s3=\"no_data\"): #s1:default parameter, #s2:set basic parameter\\n    print(\"{} {} {}\".format(s1, s2, s3))', 'print_func(\"fast campus\")', 'print_func2(\"fast campus\")', 'print_func2(s2=\"campus\", s3\"datascience\", s1\"fast\")', 'print_func2(s2=\"campus\", s3=\"datascience\", s1=\"fast\")', '### 4.4 round\\n- 반올림 \\n- round(대상, 자릿수)', 'def avg_func(korean, english, math):\\n    return (korean + english + math) / 3', 'avg_func(100, 80, 90)', 'avg_func(99, 44, 55)', 'avg_func(99, 44, 33)', 'avg_func(99, 44, 33)\\n\\nprint(\"avg_score : {}\".format(avg_func, 2))', 'avg_func(99, 44, 33)\\n\\nprint(\"avg_score : {}\".format(round(avg_func, 2))', 'avg_func(99, 44, 33)\\n\\nprint(\"avg_score : {}\".format(round(avg_func, 2)))', 'score_avg = avg_func(99, 44, 33)\\n\\nprint(\"avg_score : {}\".format(round(score_avg, 2)))', 'def sum_func(korea, english, math):\\n    return (korean + english + math)', 'sum_func(100, 74, 25)', 'def sum_func(korean, english, math):\\n    return (korean + english + math)', 'sum_func(100, 74, 25)', 'sum_func(100, 74, 24)', 'print(sum_func(100, 74, 24))', 'def func_param(sum_func):\\n    result = sum_func(100, 74, 24)\\n    print(result/)', 'def func_param(sum_func):\\n    result = sum_func(100, 74, 24)\\n    print(result)', 'def func_param(sum_func):\\n    result = sum_func(100, 74, 24)\\n    print(result)\\n    \\nfunc_param(sum_func)', 'def print_arg(*args):\\n    print(args)\\n    print(type(args))\\n    print(args[1])\\n    print(args[4][0])', 'print_arg(5, \"fast\", 3, 4, \"campus\", \\n          [\"data\", science], \\n          {\"fast\": \"campus\", \"data\": \"science\"})', 'print_arg(5, \"fast\", 3, 4, \"campus\", \\n          [\"data\", \"science\"], \\n          {\"fast\": \"campus\", \"data\": \"science\"})', 'def print_arg(*args):\\n    print(args)\\n    print(type(args))\\n    print(args[4])\\n    print(args[4][0])', 'print_arg(5, \"fast\", 3, 4, \"campus\", \\n          [\"data\", \"science\"], \\n          {\"fast\": \"campus\", \"data\": \"science\"})', 'def print_arg(*args):\\n    print(args)\\n    print(type(args))\\n    print(args[4])\\n    print(args[5][0])', 'print_arg(5, \"fast\", 3, 4, \"campus\", \\n          [\"data\", \"science\"], \\n          {\"fast\": \"campus\", \"data\": \"science\"})', 'def print_arg(*args):\\n    print(args)\\n    print(type(args))\\n    print(args[4])\\n    print(args[6][0])', 'print_arg(5, \"fast\", 3, 4, \"campus\", \\n          [\"data\", \"science\"], \\n          {\"fast\": \"campus\", \"data\": \"science\"})', 'def print_arg(*args):\\n    print(args)\\n    print(type(args))\\n    print(args[4])\\n    print(args[5][0])', 'print_arg(5, \"fast\", 3, 4, \"campus\", \\n          [\"data\", \"science\"], \\n          {\"fast\": \"campus\", \"data\": \"science\"})', '### **kwargs\\n- keyword argument\\n- 여러 개의 파라미터를 key-value 형태로 받을 때 사용\\n- 당연히 keyword argument의 테이터는 dictionary 데이터 타입으로 받음', 'def avg_func(**kwargs):\\n    print(kwargs)\\n    print(type(kwargs))\\n    \\n    total, count = 0, 0\\n    for subject, point in kwargs.items():\\n        print(subject, point)\\n        total += point\\n        count += 1\\n    return total / count', 'a = avg_func(korean=100, english=80, math=30)', 'def avg_func(**kwargs):\\n    print(kwargs)\\n    print(type(kwargs))\\n    \\n    total, count = 0, 0\\n    for subject, point in kwargs:\\n        print(subject, point)\\n        total += point\\n        count += 1\\n    return total / count', 'a = avg_func(korean=100, english=80, math=30)', 'def avg_func(**kwargs):\\n    print(kwargs)\\n    print(type(kwargs))\\n    \\n    total, count = 0, 0\\n    for subject, point in kwargs.item():\\n        print(subject, point)\\n        total += point\\n        count += 1\\n    return total / count', 'a = avg_func(korean=100, english=80, math=30)', 'def avg_func(**kwargs):\\n    print(kwargs)\\n    print(type(kwargs))\\n    \\n    total, count = 0, 0\\n    for subject, point in kwargs.items():\\n        print(subject, point)\\n        total += point\\n        count += 1\\n    return total / count', 'a = avg_func(korean=100, english=80, math=30)', 'b = avg_func(korean=100, english=80, math=30)', 'b = avg_func(korean=100, english=80, math=30)\\n\\nround(b, 2)', 'avg_func(korean=100, english=80, math=30)', 'avg_func(korean=100, english=80, math=30)', 'b= avg_func(korean=100, english=80, math=30)', 'avg_func(korean=100, english=80, math=30)', 'b = avg_func(korean=100, english=80, math=30)\\n\\nround(b, 2)', 'b = avg_func(korean=100, english=80, math=30)\\nprint(\"avg : {}\".format(round(b,2)))', '# using args, kwargs together\\n\\ndef test_function(*args, **kwargs):\\n    print(args)\\n    print(kwargs)', 'test_function(1,2,3, \"fast\", \"campus\", \"datascience\")', 'test_function(1,2,3, \"fast\", \"campus\", \"datascience\")\\n\\n# list 형태이기 때문에 *args 가 tuple로만 뽑아낸다\\n# **kwargs는 가만히 있는다', 'test_function(korean=80, english=40, math=70)', 'test_function(1,2,3, \"fast\", \"campus\", \"datascience\")\\n\\n# list 형태이기 때문에 *args 가 tuple로만 뽑아낸다\\n# **kwargs does not operate', 'test_function(1,2,3, \"fast\", \"campus\", \"datascience\")\\n\\n# *args functions in tuple because it\\'s a list form\\n# **kwargs does not operate', 'test_function(korean=80, english=40, math=70)', 'def echo(anything):\\n    \\'echo returns the input argument\\'\\n    return anything\\n\\ndef echo2(anything):\\n    \\'\\'\\'\\n    echo returns its input argument\\n    Operation steps:\\n        1. print parameter anything\\n        2. return anything\\n    \\'\\'\\'\\n    print(\"echo2 function : {}\".format(anything))\\n    return anything', 'result_1 = echo(\"datascience\")', 'result_1 = echo(\"datascience\")\\n\\nprint(result_1)', 'result_2 = echo2(1,2,3)', 'result_2 = echo2(ls(1,2,3)', 'result_2 = echo2(ls(1,2,3))', 'result_2 = echo2(\"datascience\")', 'result_2 = echo2(\"datascience\")\\nprint(result_2)', 'help(echo)', 'help(echo2)', 'help(echo)\\nhelp(echo2)', 'print(echo.__doc__)  #display only docstring', 'print(echo2.__doc__)  #display only docstring', '# shift + tab\\n\\necho', \"get_ipython().run_line_magic('pinfo', 'echo2')\", 'gv = 10\\n\\ndef print_gv():\\n    print(gv)\\n    \\nprint_gv()', 'gv = 10\\n\\ndef print_gv():\\n    print(lv)\\n    \\nprint_gv()', 'gv = 10\\n\\ndef print_gv():\\n    print(\"lv)\\n    \\nprint_gv()', 'gv = 10\\n\\ndef print_gv():\\n    print(\"lv\")\\n    \\nprint_gv()', 'gv = 10\\n\\ndef print_gv():\\n    print(\"lv\")\\n    \\nprint_gv()\\nprint(gv)', 'gv1 = 1\\ngv2 = 2\\n\\ndef print_globals():\\n    gv1 = 10\\n    gv2 = 20\\n    print(globals())', 'print(globals())', 'print_globals()', \"gv1 = 1\\ngv2 = 2\\n\\ndef print_globals():\\n    gv1 = 10\\n    gv2 = 20\\n    print(globals())\\n    \\ndef print_locals():\\n    gv1 = 10\\n    gv2 = 20\\n    print(locals())\\n    print(locals)['gv2']\", 'print_locals()', 'gv1 = 1\\ngv2 = 2\\n\\ndef print_globals():\\n    gv1 = 10\\n    gv2 = 20\\n    print(globals())\\n    \\ndef print_locals():\\n    gv1 = 10\\n    gv2 = 20\\n    print(locals())\\n    print(locals)', 'print_globals()'], '_oh': {11: 71.6, 31: 90.0, 32: 66.0, 33: 58.666666666666664, 41: 199, 42: 198, 68: 70.0, 69: 70.0, 70: 70.0, 72: 70.0, 73: 70.0, 95: <function echo at 0x106709378>}, '_dh': ['/Users/Seoluca/Data_Analytics/FastCampus/Data_Science_School/1.Programming/20180110'], 'In': ['', '### 4.1 basic function', '# 입력 받은 데이터를 세번 출력해주는 함수\\ndef display_three(data):\\n    print(data)\\n    print(data)\\n    print(data)', 'ls = [\"Fast\", \"Campus\", \"Datascience\"]\\n\\ndisplay_three(ls)', 'ls = [\"Fast\", \"Campus\", \"Datascience\"]\\n\\ndisplay_three(ls)\\ndisplay_three(ls[0])', 'ls = [\"Fast\", \"Campus\", \"Datascience\"]\\n\\ndisplay_three(ls)\\ndisplay_three(ls[0])\\ndisplay_three(ls[1])', 'def test_func():\\n    return \"data\"\\n\\ns = test_func()\\nprint(s)', 'def test_func(a):\\n    if a < 10:\\n        print(\"a < 10\")\\n    else:\\n        print(\"a => 10\")', 'test_func(13)', 'test_func(10)', '# 문제 숫자 리스트를 받아서 평균을 구해주는 함수를 작성\\n\\ndef avg_func(scores):\\n    total = 0\\n    for score in scores:\\n        total += score\\n    return total / len(scores)', 'scores = [98, 56, 32, 88, 84]\\navg_func(scores)', '### 4.3 parameter & argument\\n- 데이터를 넘길 때 넘기는 데이터를 parameter\\n- 데이터를 받을 때 받는 데이터를 argument', 'def test_func():\\n    pass\\n\\n# no parameter and no return function\\n# 선언만 해놓고 아무 실행도 하지 않는 것이 pass. \\n# pass를 통해 미리 함수로 구조만 만들어 놓는 것도 좋은 방법', 'def print_func(s1, s2, s3): # one parameter and no return function\\n    print(s1, s2, s3)\\n    \\n    \\nprint_func(\"fast\", \"campus\", \"datascience\")    ', 'def print_func(s1, s2, s3): # one parameter and no return function\\n    print(s1, s2, s3)\\n    \\n    \\nprint_func(\"fast\", \"campus\")    ', 'print_func(\"fast\", \"campus\", \"datascience\")', 'print_func(\"fast\", \"campus\")', 'def print_func2(s1=, s2=\"no data\", s3=\"no_data\"): #s1:default parameter, s2:set basic parameter\\n    print(\"{}, {} {}\".format(s1, s2, s3))\\n\\nprint_func2()', 'def print_func2(s1=, s2=\"no data\", s3=\"no_data\"): #s1:default parameter, s2:set basic parameter\\n    print(\"{}, {} {}\".format(s1, s2, s3))', 'def print_func2(s1=, s2=\"no data\", s3=\"no_data\"): #s1:default parameter, #s2:set basic parameter\\n    print(\"{}, {} {}\".format(s1, s2, s3))', 'def print_func2(s1, s2=\"no data\", s3=\"no_data\"): #s1:default parameter, #s2:set basic parameter\\n    print(\"{}, {} {}\".format(s1, s2, s3))', 'print_func()', 'print_func(\"fast campus\")', 'def print_func2(s1, s2=\"no data\", s3=\"no_data\"): #s1:default parameter, #s2:set basic parameter\\n    print(\"{} {} {}\".format(s1, s2, s3))', 'print_func(\"fast campus\")', 'print_func2(\"fast campus\")', 'print_func2(s2=\"campus\", s3\"datascience\", s1\"fast\")', 'print_func2(s2=\"campus\", s3=\"datascience\", s1=\"fast\")', '### 4.4 round\\n- 반올림 \\n- round(대상, 자릿수)', 'def avg_func(korean, english, math):\\n    return (korean + english + math) / 3', 'avg_func(100, 80, 90)', 'avg_func(99, 44, 55)', 'avg_func(99, 44, 33)', 'avg_func(99, 44, 33)\\n\\nprint(\"avg_score : {}\".format(avg_func, 2))', 'avg_func(99, 44, 33)\\n\\nprint(\"avg_score : {}\".format(round(avg_func, 2))', 'avg_func(99, 44, 33)\\n\\nprint(\"avg_score : {}\".format(round(avg_func, 2)))', 'score_avg = avg_func(99, 44, 33)\\n\\nprint(\"avg_score : {}\".format(round(score_avg, 2)))', 'def sum_func(korea, english, math):\\n    return (korean + english + math)', 'sum_func(100, 74, 25)', 'def sum_func(korean, english, math):\\n    return (korean + english + math)', 'sum_func(100, 74, 25)', 'sum_func(100, 74, 24)', 'print(sum_func(100, 74, 24))', 'def func_param(sum_func):\\n    result = sum_func(100, 74, 24)\\n    print(result/)', 'def func_param(sum_func):\\n    result = sum_func(100, 74, 24)\\n    print(result)', 'def func_param(sum_func):\\n    result = sum_func(100, 74, 24)\\n    print(result)\\n    \\nfunc_param(sum_func)', 'def print_arg(*args):\\n    print(args)\\n    print(type(args))\\n    print(args[1])\\n    print(args[4][0])', 'print_arg(5, \"fast\", 3, 4, \"campus\", \\n          [\"data\", science], \\n          {\"fast\": \"campus\", \"data\": \"science\"})', 'print_arg(5, \"fast\", 3, 4, \"campus\", \\n          [\"data\", \"science\"], \\n          {\"fast\": \"campus\", \"data\": \"science\"})', 'def print_arg(*args):\\n    print(args)\\n    print(type(args))\\n    print(args[4])\\n    print(args[4][0])', 'print_arg(5, \"fast\", 3, 4, \"campus\", \\n          [\"data\", \"science\"], \\n          {\"fast\": \"campus\", \"data\": \"science\"})', 'def print_arg(*args):\\n    print(args)\\n    print(type(args))\\n    print(args[4])\\n    print(args[5][0])', 'print_arg(5, \"fast\", 3, 4, \"campus\", \\n          [\"data\", \"science\"], \\n          {\"fast\": \"campus\", \"data\": \"science\"})', 'def print_arg(*args):\\n    print(args)\\n    print(type(args))\\n    print(args[4])\\n    print(args[6][0])', 'print_arg(5, \"fast\", 3, 4, \"campus\", \\n          [\"data\", \"science\"], \\n          {\"fast\": \"campus\", \"data\": \"science\"})', 'def print_arg(*args):\\n    print(args)\\n    print(type(args))\\n    print(args[4])\\n    print(args[5][0])', 'print_arg(5, \"fast\", 3, 4, \"campus\", \\n          [\"data\", \"science\"], \\n          {\"fast\": \"campus\", \"data\": \"science\"})', '### **kwargs\\n- keyword argument\\n- 여러 개의 파라미터를 key-value 형태로 받을 때 사용\\n- 당연히 keyword argument의 테이터는 dictionary 데이터 타입으로 받음', 'def avg_func(**kwargs):\\n    print(kwargs)\\n    print(type(kwargs))\\n    \\n    total, count = 0, 0\\n    for subject, point in kwargs.items():\\n        print(subject, point)\\n        total += point\\n        count += 1\\n    return total / count', 'a = avg_func(korean=100, english=80, math=30)', 'def avg_func(**kwargs):\\n    print(kwargs)\\n    print(type(kwargs))\\n    \\n    total, count = 0, 0\\n    for subject, point in kwargs:\\n        print(subject, point)\\n        total += point\\n        count += 1\\n    return total / count', 'a = avg_func(korean=100, english=80, math=30)', 'def avg_func(**kwargs):\\n    print(kwargs)\\n    print(type(kwargs))\\n    \\n    total, count = 0, 0\\n    for subject, point in kwargs.item():\\n        print(subject, point)\\n        total += point\\n        count += 1\\n    return total / count', 'a = avg_func(korean=100, english=80, math=30)', 'def avg_func(**kwargs):\\n    print(kwargs)\\n    print(type(kwargs))\\n    \\n    total, count = 0, 0\\n    for subject, point in kwargs.items():\\n        print(subject, point)\\n        total += point\\n        count += 1\\n    return total / count', 'a = avg_func(korean=100, english=80, math=30)', 'b = avg_func(korean=100, english=80, math=30)', 'b = avg_func(korean=100, english=80, math=30)\\n\\nround(b, 2)', 'avg_func(korean=100, english=80, math=30)', 'avg_func(korean=100, english=80, math=30)', 'b= avg_func(korean=100, english=80, math=30)', 'avg_func(korean=100, english=80, math=30)', 'b = avg_func(korean=100, english=80, math=30)\\n\\nround(b, 2)', 'b = avg_func(korean=100, english=80, math=30)\\nprint(\"avg : {}\".format(round(b,2)))', '# using args, kwargs together\\n\\ndef test_function(*args, **kwargs):\\n    print(args)\\n    print(kwargs)', 'test_function(1,2,3, \"fast\", \"campus\", \"datascience\")', 'test_function(1,2,3, \"fast\", \"campus\", \"datascience\")\\n\\n# list 형태이기 때문에 *args 가 tuple로만 뽑아낸다\\n# **kwargs는 가만히 있는다', 'test_function(korean=80, english=40, math=70)', 'test_function(1,2,3, \"fast\", \"campus\", \"datascience\")\\n\\n# list 형태이기 때문에 *args 가 tuple로만 뽑아낸다\\n# **kwargs does not operate', 'test_function(1,2,3, \"fast\", \"campus\", \"datascience\")\\n\\n# *args functions in tuple because it\\'s a list form\\n# **kwargs does not operate', 'test_function(korean=80, english=40, math=70)', 'def echo(anything):\\n    \\'echo returns the input argument\\'\\n    return anything\\n\\ndef echo2(anything):\\n    \\'\\'\\'\\n    echo returns its input argument\\n    Operation steps:\\n        1. print parameter anything\\n        2. return anything\\n    \\'\\'\\'\\n    print(\"echo2 function : {}\".format(anything))\\n    return anything', 'result_1 = echo(\"datascience\")', 'result_1 = echo(\"datascience\")\\n\\nprint(result_1)', 'result_2 = echo2(1,2,3)', 'result_2 = echo2(ls(1,2,3)', 'result_2 = echo2(ls(1,2,3))', 'result_2 = echo2(\"datascience\")', 'result_2 = echo2(\"datascience\")\\nprint(result_2)', 'help(echo)', 'help(echo2)', 'help(echo)\\nhelp(echo2)', 'print(echo.__doc__)  #display only docstring', 'print(echo2.__doc__)  #display only docstring', '# shift + tab\\n\\necho', \"get_ipython().run_line_magic('pinfo', 'echo2')\", 'gv = 10\\n\\ndef print_gv():\\n    print(gv)\\n    \\nprint_gv()', 'gv = 10\\n\\ndef print_gv():\\n    print(lv)\\n    \\nprint_gv()', 'gv = 10\\n\\ndef print_gv():\\n    print(\"lv)\\n    \\nprint_gv()', 'gv = 10\\n\\ndef print_gv():\\n    print(\"lv\")\\n    \\nprint_gv()', 'gv = 10\\n\\ndef print_gv():\\n    print(\"lv\")\\n    \\nprint_gv()\\nprint(gv)', 'gv1 = 1\\ngv2 = 2\\n\\ndef print_globals():\\n    gv1 = 10\\n    gv2 = 20\\n    print(globals())', 'print(globals())', 'print_globals()', \"gv1 = 1\\ngv2 = 2\\n\\ndef print_globals():\\n    gv1 = 10\\n    gv2 = 20\\n    print(globals())\\n    \\ndef print_locals():\\n    gv1 = 10\\n    gv2 = 20\\n    print(locals())\\n    print(locals)['gv2']\", 'print_locals()', 'gv1 = 1\\ngv2 = 2\\n\\ndef print_globals():\\n    gv1 = 10\\n    gv2 = 20\\n    print(globals())\\n    \\ndef print_locals():\\n    gv1 = 10\\n    gv2 = 20\\n    print(locals())\\n    print(locals)', 'print_globals()'], 'Out': {11: 71.6, 31: 90.0, 32: 66.0, 33: 58.666666666666664, 41: 199, 42: 198, 68: 70.0, 69: 70.0, 70: 70.0, 72: 70.0, 73: 70.0, 95: <function echo at 0x106709378>}, 'get_ipython': <bound method InteractiveShell.get_ipython of <ipykernel.zmqshell.ZMQInteractiveShell object at 0x10641c278>>, 'exit': <IPython.core.autocall.ZMQExitAutocall object at 0x106467898>, 'quit': <IPython.core.autocall.ZMQExitAutocall object at 0x106467898>, '_': <function echo at 0x106709378>, '__': 70.0, '___': 70.0, '_i': 'gv1 = 1\\ngv2 = 2\\n\\ndef print_globals():\\n    gv1 = 10\\n    gv2 = 20\\n    print(globals())\\n    \\ndef print_locals():\\n    gv1 = 10\\n    gv2 = 20\\n    print(locals())\\n    print(locals)', '_ii': 'print_locals()', '_iii': \"gv1 = 1\\ngv2 = 2\\n\\ndef print_globals():\\n    gv1 = 10\\n    gv2 = 20\\n    print(globals())\\n    \\ndef print_locals():\\n    gv1 = 10\\n    gv2 = 20\\n    print(locals())\\n    print(locals)['gv2']\", '_i1': '### 4.1 basic function', '_i2': '# 입력 받은 데이터를 세번 출력해주는 함수\\ndef display_three(data):\\n    print(data)\\n    print(data)\\n    print(data)', 'display_three': <function display_three at 0x106544730>, '_i3': 'ls = [\"Fast\", \"Campus\", \"Datascience\"]\\n\\ndisplay_three(ls)', 'ls': ['Fast', 'Campus', 'Datascience'], '_i4': 'ls = [\"Fast\", \"Campus\", \"Datascience\"]\\n\\ndisplay_three(ls)\\ndisplay_three(ls[0])', '_i5': 'ls = [\"Fast\", \"Campus\", \"Datascience\"]\\n\\ndisplay_three(ls)\\ndisplay_three(ls[0])\\ndisplay_three(ls[1])', '_i6': 'def test_func():\\n    return \"data\"\\n\\ns = test_func()\\nprint(s)', 'test_func': <function test_func at 0x1065446a8>, 's': 'data', '_i7': 'def test_func(a):\\n    if a < 10:\\n        print(\"a < 10\")\\n    else:\\n        print(\"a => 10\")', '_i8': 'test_func(13)', '_i9': 'test_func(10)', '_i10': '# 문제 숫자 리스트를 받아서 평균을 구해주는 함수를 작성\\n\\ndef avg_func(scores):\\n    total = 0\\n    for score in scores:\\n        total += score\\n    return total / len(scores)', 'avg_func': <function avg_func at 0x1067091e0>, '_i11': 'scores = [98, 56, 32, 88, 84]\\navg_func(scores)', 'scores': [98, 56, 32, 88, 84], '_11': 71.6, '_i12': '### 4.3 parameter & argument\\n- 데이터를 넘길 때 넘기는 데이터를 parameter\\n- 데이터를 받을 때 받는 데이터를 argument', '_i13': 'def test_func():\\n    pass\\n\\n# no parameter and no return function\\n# 선언만 해놓고 아무 실행도 하지 않는 것이 pass. \\n# pass를 통해 미리 함수로 구조만 만들어 놓는 것도 좋은 방법', '_i14': 'def print_func(s1, s2, s3): # one parameter and no return function\\n    print(s1, s2, s3)\\n    \\n    \\nprint_func(\"fast\", \"campus\", \"datascience\")    ', 'print_func': <function print_func at 0x1065e12f0>, '_i15': 'def print_func(s1, s2, s3): # one parameter and no return function\\n    print(s1, s2, s3)\\n    \\n    \\nprint_func(\"fast\", \"campus\")    ', '_i16': 'print_func(\"fast\", \"campus\", \"datascience\")', '_i17': 'print_func(\"fast\", \"campus\")', '_i18': 'def print_func2(s1=, s2=\"no data\", s3=\"no_data\"): #s1:default parameter, s2:set basic parameter\\n    print(\"{}, {} {}\".format(s1, s2, s3))\\n\\nprint_func2()', '_i19': 'def print_func2(s1=, s2=\"no data\", s3=\"no_data\"): #s1:default parameter, s2:set basic parameter\\n    print(\"{}, {} {}\".format(s1, s2, s3))', '_i20': 'def print_func2(s1=, s2=\"no data\", s3=\"no_data\"): #s1:default parameter, #s2:set basic parameter\\n    print(\"{}, {} {}\".format(s1, s2, s3))', '_i21': 'def print_func2(s1, s2=\"no data\", s3=\"no_data\"): #s1:default parameter, #s2:set basic parameter\\n    print(\"{}, {} {}\".format(s1, s2, s3))', 'print_func2': <function print_func2 at 0x1066fcea0>, '_i22': 'print_func()', '_i23': 'print_func(\"fast campus\")', '_i24': 'def print_func2(s1, s2=\"no data\", s3=\"no_data\"): #s1:default parameter, #s2:set basic parameter\\n    print(\"{} {} {}\".format(s1, s2, s3))', '_i25': 'print_func(\"fast campus\")', '_i26': 'print_func2(\"fast campus\")', '_i27': 'print_func2(s2=\"campus\", s3\"datascience\", s1\"fast\")', '_i28': 'print_func2(s2=\"campus\", s3=\"datascience\", s1=\"fast\")', '_i29': '### 4.4 round\\n- 반올림 \\n- round(대상, 자릿수)', '_i30': 'def avg_func(korean, english, math):\\n    return (korean + english + math) / 3', '_i31': 'avg_func(100, 80, 90)', '_31': 90.0, '_i32': 'avg_func(99, 44, 55)', '_32': 66.0, '_i33': 'avg_func(99, 44, 33)', '_33': 58.666666666666664, '_i34': 'avg_func(99, 44, 33)\\n\\nprint(\"avg_score : {}\".format(avg_func, 2))', '_i35': 'avg_func(99, 44, 33)\\n\\nprint(\"avg_score : {}\".format(round(avg_func, 2))', '_i36': 'avg_func(99, 44, 33)\\n\\nprint(\"avg_score : {}\".format(round(avg_func, 2)))', '_i37': 'score_avg = avg_func(99, 44, 33)\\n\\nprint(\"avg_score : {}\".format(round(score_avg, 2)))', 'score_avg': 58.666666666666664, '_i38': 'def sum_func(korea, english, math):\\n    return (korean + english + math)', 'sum_func': <function sum_func at 0x1067098c8>, '_i39': 'sum_func(100, 74, 25)', '_i40': 'def sum_func(korean, english, math):\\n    return (korean + english + math)', '_i41': 'sum_func(100, 74, 25)', '_41': 199, '_i42': 'sum_func(100, 74, 24)', '_42': 198, '_i43': 'print(sum_func(100, 74, 24))', '_i44': 'def func_param(sum_func):\\n    result = sum_func(100, 74, 24)\\n    print(result/)', '_i45': 'def func_param(sum_func):\\n    result = sum_func(100, 74, 24)\\n    print(result)', 'func_param': <function func_param at 0x1067096a8>, '_i46': 'def func_param(sum_func):\\n    result = sum_func(100, 74, 24)\\n    print(result)\\n    \\nfunc_param(sum_func)', '_i47': 'def print_arg(*args):\\n    print(args)\\n    print(type(args))\\n    print(args[1])\\n    print(args[4][0])', 'print_arg': <function print_arg at 0x1065449d8>, '_i48': 'print_arg(5, \"fast\", 3, 4, \"campus\", \\n          [\"data\", science], \\n          {\"fast\": \"campus\", \"data\": \"science\"})', '_i49': 'print_arg(5, \"fast\", 3, 4, \"campus\", \\n          [\"data\", \"science\"], \\n          {\"fast\": \"campus\", \"data\": \"science\"})', '_i50': 'def print_arg(*args):\\n    print(args)\\n    print(type(args))\\n    print(args[4])\\n    print(args[4][0])', '_i51': 'print_arg(5, \"fast\", 3, 4, \"campus\", \\n          [\"data\", \"science\"], \\n          {\"fast\": \"campus\", \"data\": \"science\"})', '_i52': 'def print_arg(*args):\\n    print(args)\\n    print(type(args))\\n    print(args[4])\\n    print(args[5][0])', '_i53': 'print_arg(5, \"fast\", 3, 4, \"campus\", \\n          [\"data\", \"science\"], \\n          {\"fast\": \"campus\", \"data\": \"science\"})', '_i54': 'def print_arg(*args):\\n    print(args)\\n    print(type(args))\\n    print(args[4])\\n    print(args[6][0])', '_i55': 'print_arg(5, \"fast\", 3, 4, \"campus\", \\n          [\"data\", \"science\"], \\n          {\"fast\": \"campus\", \"data\": \"science\"})', '_i56': 'def print_arg(*args):\\n    print(args)\\n    print(type(args))\\n    print(args[4])\\n    print(args[5][0])', '_i57': 'print_arg(5, \"fast\", 3, 4, \"campus\", \\n          [\"data\", \"science\"], \\n          {\"fast\": \"campus\", \"data\": \"science\"})', '_i58': '### **kwargs\\n- keyword argument\\n- 여러 개의 파라미터를 key-value 형태로 받을 때 사용\\n- 당연히 keyword argument의 테이터는 dictionary 데이터 타입으로 받음', '_i59': 'def avg_func(**kwargs):\\n    print(kwargs)\\n    print(type(kwargs))\\n    \\n    total, count = 0, 0\\n    for subject, point in kwargs.items():\\n        print(subject, point)\\n        total += point\\n        count += 1\\n    return total / count', '_i60': 'a = avg_func(korean=100, english=80, math=30)', 'a': 70.0, '_i61': 'def avg_func(**kwargs):\\n    print(kwargs)\\n    print(type(kwargs))\\n    \\n    total, count = 0, 0\\n    for subject, point in kwargs:\\n        print(subject, point)\\n        total += point\\n        count += 1\\n    return total / count', '_i62': 'a = avg_func(korean=100, english=80, math=30)', '_i63': 'def avg_func(**kwargs):\\n    print(kwargs)\\n    print(type(kwargs))\\n    \\n    total, count = 0, 0\\n    for subject, point in kwargs.item():\\n        print(subject, point)\\n        total += point\\n        count += 1\\n    return total / count', '_i64': 'a = avg_func(korean=100, english=80, math=30)', '_i65': 'def avg_func(**kwargs):\\n    print(kwargs)\\n    print(type(kwargs))\\n    \\n    total, count = 0, 0\\n    for subject, point in kwargs.items():\\n        print(subject, point)\\n        total += point\\n        count += 1\\n    return total / count', '_i66': 'a = avg_func(korean=100, english=80, math=30)', '_i67': 'b = avg_func(korean=100, english=80, math=30)', 'b': 70.0, '_i68': 'b = avg_func(korean=100, english=80, math=30)\\n\\nround(b, 2)', '_68': 70.0, '_i69': 'avg_func(korean=100, english=80, math=30)', '_69': 70.0, '_i70': 'avg_func(korean=100, english=80, math=30)', '_70': 70.0, '_i71': 'b= avg_func(korean=100, english=80, math=30)', '_i72': 'avg_func(korean=100, english=80, math=30)', '_72': 70.0, '_i73': 'b = avg_func(korean=100, english=80, math=30)\\n\\nround(b, 2)', '_73': 70.0, '_i74': 'b = avg_func(korean=100, english=80, math=30)\\nprint(\"avg : {}\".format(round(b,2)))', '_i75': '# using args, kwargs together\\n\\ndef test_function(*args, **kwargs):\\n    print(args)\\n    print(kwargs)', 'test_function': <function test_function at 0x1067099d8>, '_i76': 'test_function(1,2,3, \"fast\", \"campus\", \"datascience\")', '_i77': 'test_function(1,2,3, \"fast\", \"campus\", \"datascience\")\\n\\n# list 형태이기 때문에 *args 가 tuple로만 뽑아낸다\\n# **kwargs는 가만히 있는다', '_i78': 'test_function(korean=80, english=40, math=70)', '_i79': 'test_function(1,2,3, \"fast\", \"campus\", \"datascience\")\\n\\n# list 형태이기 때문에 *args 가 tuple로만 뽑아낸다\\n# **kwargs does not operate', '_i80': 'test_function(1,2,3, \"fast\", \"campus\", \"datascience\")\\n\\n# *args functions in tuple because it\\'s a list form\\n# **kwargs does not operate', '_i81': 'test_function(korean=80, english=40, math=70)', '_i82': 'def echo(anything):\\n    \\'echo returns the input argument\\'\\n    return anything\\n\\ndef echo2(anything):\\n    \\'\\'\\'\\n    echo returns its input argument\\n    Operation steps:\\n        1. print parameter anything\\n        2. return anything\\n    \\'\\'\\'\\n    print(\"echo2 function : {}\".format(anything))\\n    return anything', 'echo': <function echo at 0x106709378>, 'echo2': <function echo2 at 0x106709b70>, '_i83': 'result_1 = echo(\"datascience\")', 'result_1': 'datascience', '_i84': 'result_1 = echo(\"datascience\")\\n\\nprint(result_1)', '_i85': 'result_2 = echo2(1,2,3)', '_i86': 'result_2 = echo2(ls(1,2,3)', '_i87': 'result_2 = echo2(ls(1,2,3))', '_i88': 'result_2 = echo2(\"datascience\")', 'result_2': 'datascience', '_i89': 'result_2 = echo2(\"datascience\")\\nprint(result_2)', '_i90': 'help(echo)', '_i91': 'help(echo2)', '_i92': 'help(echo)\\nhelp(echo2)', '_i93': 'print(echo.__doc__)  #display only docstring', '_i94': 'print(echo2.__doc__)  #display only docstring', '_i95': '# shift + tab\\n\\necho', '_95': <function echo at 0x106709378>, '_i96': 'echo2?', '_i97': 'gv = 10\\n\\ndef print_gv():\\n    print(gv)\\n    \\nprint_gv()', 'gv': 10, 'print_gv': <function print_gv at 0x106709268>, '_i98': 'gv = 10\\n\\ndef print_gv():\\n    print(lv)\\n    \\nprint_gv()', '_i99': 'gv = 10\\n\\ndef print_gv():\\n    print(\"lv)\\n    \\nprint_gv()', '_i100': 'gv = 10\\n\\ndef print_gv():\\n    print(\"lv\")\\n    \\nprint_gv()', '_i101': 'gv = 10\\n\\ndef print_gv():\\n    print(\"lv\")\\n    \\nprint_gv()\\nprint(gv)', '_i102': 'gv1 = 1\\ngv2 = 2\\n\\ndef print_globals():\\n    gv1 = 10\\n    gv2 = 20\\n    print(globals())', 'gv1': 1, 'gv2': 2, 'print_globals': <function print_globals at 0x10672e158>, '_i103': 'print(globals())', '_i104': 'print_globals()', '_i105': \"gv1 = 1\\ngv2 = 2\\n\\ndef print_globals():\\n    gv1 = 10\\n    gv2 = 20\\n    print(globals())\\n    \\ndef print_locals():\\n    gv1 = 10\\n    gv2 = 20\\n    print(locals())\\n    print(locals)['gv2']\", 'print_locals': <function print_locals at 0x1065e1378>, '_i106': 'print_locals()', '_i107': 'gv1 = 1\\ngv2 = 2\\n\\ndef print_globals():\\n    gv1 = 10\\n    gv2 = 20\\n    print(globals())\\n    \\ndef print_locals():\\n    gv1 = 10\\n    gv2 = 20\\n    print(locals())\\n    print(locals)', '_i108': 'print_globals()'}\n"
     ]
    }
   ],
   "source": [
    "print_globals()"
   ]
  },
  {
   "cell_type": "code",
   "execution_count": 109,
   "metadata": {},
   "outputs": [
    {
     "name": "stdout",
     "output_type": "stream",
     "text": [
      "{'gv2': 20, 'gv1': 10}\n",
      "<built-in function locals>\n"
     ]
    }
   ],
   "source": [
    "print_locals()"
   ]
  },
  {
   "cell_type": "code",
   "execution_count": 113,
   "metadata": {},
   "outputs": [
    {
     "name": "stdout",
     "output_type": "stream",
     "text": [
      "10\n"
     ]
    }
   ],
   "source": [
    "gv = 10    #global variable 선언\n",
    "\n",
    "def change_gv(data):\n",
    "    gv = data\n",
    "    \n",
    "print(gv)\n",
    "change_gv(15)   #바뀌지 않음 "
   ]
  },
  {
   "cell_type": "code",
   "execution_count": 112,
   "metadata": {},
   "outputs": [
    {
     "name": "stdout",
     "output_type": "stream",
     "text": [
      "10\n"
     ]
    }
   ],
   "source": [
    "print(gv)     #바뀌지 않음"
   ]
  },
  {
   "cell_type": "code",
   "execution_count": 115,
   "metadata": {},
   "outputs": [
    {
     "name": "stdout",
     "output_type": "stream",
     "text": [
      "15\n"
     ]
    }
   ],
   "source": [
    "gv = 10\n",
    "\n",
    "def change2_gv(data):\n",
    "    global gv\n",
    "    gv = data\n",
    "    \n",
    "change2_gv(15)\n",
    "print(gv)        #바꿀 수 있음"
   ]
  },
  {
   "cell_type": "markdown",
   "metadata": {},
   "source": [
    "### 4.9 inner function\n",
    "- 함수 속 함수\n",
    "- can be used as anonymous function\n",
    "- 전역 변수로 사용하게 되면 cpu메모리를 늘 차지하게 됨\n",
    "- outer function을 통해서 호출할 때만 작동"
   ]
  },
  {
   "cell_type": "code",
   "execution_count": 117,
   "metadata": {},
   "outputs": [],
   "source": [
    "def outer (a, b):\n",
    "    \n",
    "    def inner (c, d):\n",
    "        return c + d\n",
    "    \n",
    "    return inner (a, b)"
   ]
  },
  {
   "cell_type": "code",
   "execution_count": 118,
   "metadata": {},
   "outputs": [
    {
     "data": {
      "text/plain": [
       "11"
      ]
     },
     "execution_count": 118,
     "metadata": {},
     "output_type": "execute_result"
    }
   ],
   "source": [
    "outer (4, 7)"
   ]
  },
  {
   "cell_type": "code",
   "execution_count": 119,
   "metadata": {},
   "outputs": [
    {
     "data": {
      "text/plain": [
       "11"
      ]
     },
     "execution_count": 119,
     "metadata": {},
     "output_type": "execute_result"
    }
   ],
   "source": [
    "a = outer (5,6)\n",
    "a"
   ]
  },
  {
   "cell_type": "code",
   "execution_count": 120,
   "metadata": {},
   "outputs": [
    {
     "ename": "NameError",
     "evalue": "name 'inner' is not defined",
     "output_type": "error",
     "traceback": [
      "\u001b[0;31m---------------------------------------------------------------------------\u001b[0m",
      "\u001b[0;31mNameError\u001b[0m                                 Traceback (most recent call last)",
      "\u001b[0;32m<ipython-input-120-21cfb401f6a8>\u001b[0m in \u001b[0;36m<module>\u001b[0;34m()\u001b[0m\n\u001b[0;32m----> 1\u001b[0;31m \u001b[0minner\u001b[0m\u001b[0;34m(\u001b[0m\u001b[0;36m5\u001b[0m\u001b[0;34m,\u001b[0m \u001b[0;36m6\u001b[0m\u001b[0;34m)\u001b[0m\u001b[0;34m\u001b[0m\u001b[0m\n\u001b[0m",
      "\u001b[0;31mNameError\u001b[0m: name 'inner' is not defined"
     ]
    }
   ],
   "source": [
    "inner(5, 6)    # 개별적으로는 작동하지 않음"
   ]
  },
  {
   "cell_type": "markdown",
   "metadata": {},
   "source": [
    "### 4.10 lambda function\n",
    "- anonymous function\n",
    "- for 1-time use. once it is used, it is no longer functional\n",
    "- takes less memory\n",
    "- if applicable, always better to use lambda"
   ]
  },
  {
   "cell_type": "code",
   "execution_count": 121,
   "metadata": {},
   "outputs": [],
   "source": [
    "def sum_func(x, y):\n",
    "    return x+y"
   ]
  },
  {
   "cell_type": "code",
   "execution_count": 122,
   "metadata": {},
   "outputs": [
    {
     "data": {
      "text/plain": [
       "15"
      ]
     },
     "execution_count": 122,
     "metadata": {},
     "output_type": "execute_result"
    }
   ],
   "source": [
    "sum_func(7, 8)"
   ]
  },
  {
   "cell_type": "code",
   "execution_count": 123,
   "metadata": {},
   "outputs": [],
   "source": [
    "sum_func = lambda x, y: x+y"
   ]
  },
  {
   "cell_type": "code",
   "execution_count": 124,
   "metadata": {},
   "outputs": [
    {
     "data": {
      "text/plain": [
       "11"
      ]
     },
     "execution_count": 124,
     "metadata": {},
     "output_type": "execute_result"
    }
   ],
   "source": [
    "sum_func(5,6)"
   ]
  },
  {
   "cell_type": "code",
   "execution_count": 125,
   "metadata": {},
   "outputs": [
    {
     "data": {
      "text/plain": [
       "15"
      ]
     },
     "execution_count": 125,
     "metadata": {},
     "output_type": "execute_result"
    }
   ],
   "source": [
    "sum_func(7,8)"
   ]
  },
  {
   "cell_type": "code",
   "execution_count": 129,
   "metadata": {},
   "outputs": [],
   "source": [
    "sum_func_2 = lambda x=5, y=7: x*y"
   ]
  },
  {
   "cell_type": "code",
   "execution_count": 130,
   "metadata": {},
   "outputs": [
    {
     "data": {
      "text/plain": [
       "35"
      ]
     },
     "execution_count": 130,
     "metadata": {},
     "output_type": "execute_result"
    }
   ],
   "source": [
    "sum_func_2()"
   ]
  },
  {
   "cell_type": "code",
   "execution_count": 134,
   "metadata": {},
   "outputs": [
    {
     "data": {
      "text/plain": [
       "56"
      ]
     },
     "execution_count": 134,
     "metadata": {},
     "output_type": "execute_result"
    }
   ],
   "source": [
    "sum_func_2(8)    # 새로운 값이 x를 대체"
   ]
  },
  {
   "cell_type": "code",
   "execution_count": 135,
   "metadata": {},
   "outputs": [
    {
     "data": {
      "text/plain": [
       "45"
      ]
     },
     "execution_count": 135,
     "metadata": {},
     "output_type": "execute_result"
    }
   ],
   "source": [
    "sum_func_2(5, 9)"
   ]
  },
  {
   "cell_type": "code",
   "execution_count": 139,
   "metadata": {},
   "outputs": [
    {
     "data": {
      "text/plain": [
       "12"
      ]
     },
     "execution_count": 139,
     "metadata": {},
     "output_type": "execute_result"
    }
   ],
   "source": [
    "sum_func4(lambda x,y:x+y, 5, 7)"
   ]
  },
  {
   "cell_type": "code",
   "execution_count": null,
   "metadata": {},
   "outputs": [],
   "source": []
  },
  {
   "cell_type": "code",
   "execution_count": null,
   "metadata": {},
   "outputs": [],
   "source": []
  },
  {
   "cell_type": "code",
   "execution_count": null,
   "metadata": {},
   "outputs": [],
   "source": []
  }
 ],
 "metadata": {
  "kernelspec": {
   "display_name": "Python 3",
   "language": "python",
   "name": "python3"
  },
  "language_info": {
   "codemirror_mode": {
    "name": "ipython",
    "version": 3
   },
   "file_extension": ".py",
   "mimetype": "text/x-python",
   "name": "python",
   "nbconvert_exporter": "python",
   "pygments_lexer": "ipython3",
   "version": "3.6.2"
  }
 },
 "nbformat": 4,
 "nbformat_minor": 2
}
