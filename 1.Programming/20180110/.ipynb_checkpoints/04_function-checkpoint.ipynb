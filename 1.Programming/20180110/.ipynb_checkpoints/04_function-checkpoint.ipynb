{
 "cells": [
  {
   "cell_type": "markdown",
   "metadata": {},
   "source": [
    "# 3. Function\n",
    "- function structure\n",
    "```\n",
    "def <function_name>(<parameter_name_1>,<parameter_name_2> ...):\n",
    "    code_1\n",
    "    code_2\n",
    "```\n",
    "- return\n",
    "- parameter & argument\n",
    "- *args\n",
    "- **kwargs\n",
    "- docstring\n",
    "- global (scope)\n",
    "- inner function ( closure )\n",
    "- lambda function\n",
    "- map\n",
    "- filter\n",
    "- reduce\n",
    "- decorlator"
   ]
  },
  {
   "cell_type": "markdown",
   "metadata": {},
   "source": [
    "### basic function\n",
    "- 반복적인 기능을 묶어주는 개념\n",
    "- 반복적인 기능 함수를 통해 묶음으로 더 깔끔한 코딩이 가능하다."
   ]
  },
  {
   "cell_type": "code",
   "execution_count": 2,
   "metadata": {},
   "outputs": [
    {
     "name": "stdout",
     "output_type": "stream",
     "text": [
      "dss\n",
      "dss\n",
      "dss\n",
      "data\n",
      "data\n",
      "data\n",
      "science\n",
      "science\n",
      "science\n"
     ]
    }
   ],
   "source": [
    "# 각 요소들을 3번씩 출력\n",
    "l = [\"dss\", \"data\", \"science\"]\n",
    "print(l[0])\n",
    "print(l[0])\n",
    "print(l[0])\n",
    "print(l[1])\n",
    "print(l[1])\n",
    "print(l[1])\n",
    "print(l[2])\n",
    "print(l[2])\n",
    "print(l[2])"
   ]
  },
  {
   "cell_type": "code",
   "execution_count": 3,
   "metadata": {},
   "outputs": [],
   "source": [
    "# 입력 받은 데이터를 세번 출력해주는 함수\n",
    "def three_disp(data):\n",
    "    print(data)\n",
    "    print(data)\n",
    "    print(data)"
   ]
  },
  {
   "cell_type": "code",
   "execution_count": 17,
   "metadata": {},
   "outputs": [
    {
     "name": "stdout",
     "output_type": "stream",
     "text": [
      "dss\n",
      "dss\n",
      "dss\n",
      "data\n",
      "data\n",
      "data\n",
      "science\n",
      "science\n",
      "science\n"
     ]
    }
   ],
   "source": [
    "ls = [\"dss\", \"data\", \"science\"]\n",
    "three_disp(ls[0])\n",
    "three_disp(ls[1])\n",
    "three_disp(ls[2])"
   ]
  },
  {
   "cell_type": "markdown",
   "metadata": {},
   "source": [
    "### return"
   ]
  },
  {
   "cell_type": "code",
   "execution_count": 2,
   "metadata": {},
   "outputs": [
    {
     "name": "stdout",
     "output_type": "stream",
     "text": [
      "data\n"
     ]
    }
   ],
   "source": [
    "def test_func():\n",
    "    return \"data\"\n",
    "\n",
    "s = test_func()\n",
    "print(s)"
   ]
  },
  {
   "cell_type": "code",
   "execution_count": 13,
   "metadata": {},
   "outputs": [],
   "source": [
    "#리턴은 함수의 마지막을 정리\n",
    "\n",
    "def test_func(a):\n",
    "    if a < 10:\n",
    "        print(\"a < 10\")\n",
    "    else:\n",
    "        print (\"a >= 10\")"
   ]
  },
  {
   "cell_type": "code",
   "execution_count": 15,
   "metadata": {},
   "outputs": [
    {
     "name": "stdout",
     "output_type": "stream",
     "text": [
      "a >= 10\n"
     ]
    }
   ],
   "source": [
    "test_func(13)"
   ]
  },
  {
   "cell_type": "code",
   "execution_count": 16,
   "metadata": {},
   "outputs": [],
   "source": [
    "# 문제 숫자 리스트를 받아서 평균을 구해주는 함수를 작성\n",
    "def avg(points):\n",
    "    total = 0\n",
    "    for point in points:\n",
    "        total += point\n",
    "    return total / len(points)"
   ]
  },
  {
   "cell_type": "code",
   "execution_count": 17,
   "metadata": {},
   "outputs": [
    {
     "data": {
      "text/plain": [
       "250.0"
      ]
     },
     "execution_count": 17,
     "metadata": {},
     "output_type": "execute_result"
    }
   ],
   "source": [
    "points = [100, 200, 300, 400]\n",
    "avg(points)"
   ]
  },
  {
   "cell_type": "code",
   "execution_count": 18,
   "metadata": {},
   "outputs": [],
   "source": [
    "def avg(numbers):\n",
    "    total = 0\n",
    "    for number in numbers:\n",
    "        total += number\n",
    "    return total  / len(numbers)"
   ]
  },
  {
   "cell_type": "code",
   "execution_count": 19,
   "metadata": {},
   "outputs": [
    {
     "data": {
      "text/plain": [
       "5.5"
      ]
     },
     "execution_count": 19,
     "metadata": {},
     "output_type": "execute_result"
    }
   ],
   "source": [
    "numbers = [1, 2, 3, 4, 5, 6, 7, 8, 9, 10]\n",
    "avg(numbers)"
   ]
  },
  {
   "cell_type": "markdown",
   "metadata": {},
   "source": [
    "### parameter & argument\n",
    "- 데이터를 넘길때 넘기는 데이터를 parameter라고 함\n",
    "- 데이터를 받을때 받는 데이터를 argument라고 함"
   ]
  },
  {
   "cell_type": "code",
   "execution_count": 20,
   "metadata": {},
   "outputs": [],
   "source": [
    "def test_func(): # no parameter and no return function\n",
    "    pass         # 선언만 해놓고 아무 실행을 하지 않는다. pass를 쓰고, 미리 함수로 구조만 만들어 놓음"
   ]
  },
  {
   "cell_type": "code",
   "execution_count": 21,
   "metadata": {},
   "outputs": [
    {
     "name": "stdout",
     "output_type": "stream",
     "text": [
      "fast_campus dss class\n"
     ]
    }
   ],
   "source": [
    "def print_func(s, s1, s2): # one parmeter and no return function     #parameter\n",
    "    print(s, s1, s2)\n",
    "    \n",
    "print_func(\"fast_campus\", \"dss\", \"class\")                            #argument"
   ]
  },
  {
   "cell_type": "code",
   "execution_count": 29,
   "metadata": {},
   "outputs": [
    {
     "name": "stdout",
     "output_type": "stream",
     "text": [
      "data_science fast campus\n",
      "fast_campus no_data nodata\n",
      "fast_campus data_science nodata\n",
      "science data nodata\n"
     ]
    }
   ],
   "source": [
    "def print_func(s1, s2=\"no_data\", s3=\"nodata\"): #s1:default argument # s2:set basic parameter\n",
    "    print(\"{} {} {}\".format(s1, s2, s3))\n",
    "    \n",
    "print_func(s2 = \"fast\", s3 = \"campus\", s1 = \"data_science\")\n",
    "    \n",
    "print_func(\"fast_campus\")\n",
    "print_func(\"fast_campus\", \"data_science\") # position arguments\n",
    "print_func(s2=\"data\", s1=\"science\") # keyword arguments          #순서를 이렇게 정할 수도 있다."
   ]
  },
  {
   "cell_type": "markdown",
   "metadata": {},
   "source": [
    "### round"
   ]
  },
  {
   "cell_type": "code",
   "execution_count": 30,
   "metadata": {},
   "outputs": [],
   "source": [
    "def avg_func(korean, english, math):\n",
    "    return (korean + english + math) / 3"
   ]
  },
  {
   "cell_type": "code",
   "execution_count": 36,
   "metadata": {},
   "outputs": [
    {
     "name": "stdout",
     "output_type": "stream",
     "text": [
      "avg: 83.33\n"
     ]
    }
   ],
   "source": [
    "a = avg_func(100, 70, 80)\n",
    "# print(\"avg : {}\".format(round(a,2)))\n",
    "\n",
    "print(\"avg: {}\".format(round(a,2)))"
   ]
  },
  {
   "cell_type": "code",
   "execution_count": 37,
   "metadata": {},
   "outputs": [],
   "source": [
    "def total_function(korean, english, math):\n",
    "    return korean + english + math"
   ]
  },
  {
   "cell_type": "code",
   "execution_count": 40,
   "metadata": {},
   "outputs": [
    {
     "data": {
      "text/plain": [
       "180"
      ]
     },
     "execution_count": 40,
     "metadata": {},
     "output_type": "execute_result"
    }
   ],
   "source": [
    "total_function(50, 60, 70)"
   ]
  },
  {
   "cell_type": "code",
   "execution_count": 41,
   "metadata": {},
   "outputs": [
    {
     "name": "stdout",
     "output_type": "stream",
     "text": [
      "250\n"
     ]
    }
   ],
   "source": [
    "def func_param(total_function):\n",
    "    result = total_function(100, 70, 80)\n",
    "    print(result)\n",
    "\n",
    "func_param(total_function)"
   ]
  },
  {
   "cell_type": "markdown",
   "metadata": {},
   "source": [
    "### *args\n",
    "- arguments\n",
    "- 함수에서 여러개의 파라미터를 한꺼번에 받을때 사용\n",
    "- 받는 arguments 데이터는 tuple 데이터 타입으로 받는다.\n",
    "- `*` 의 의미는 모든 value 를 받는다는 의미"
   ]
  },
  {
   "cell_type": "code",
   "execution_count": 44,
   "metadata": {},
   "outputs": [
    {
     "name": "stdout",
     "output_type": "stream",
     "text": [
      "(1, 2, 3, 4, 'fast', 'campus', {'data': 'science'}, ['data', 'science', 'school'])\n",
      "<class 'tuple'>\n",
      "fast\n",
      "a\n"
     ]
    }
   ],
   "source": [
    "def print_args(*args):\n",
    "    print(args)\n",
    "    print(type(args))\n",
    "    print(args[4])\n",
    "    print(args[5][1])\n",
    "    \n",
    "print_args(1, 2, 3, 4, \"fast\", \"campus\", {\"data\": \"science\"}, [\"data\", \"science\", \"school\"])\n",
    "# print_args(1, 2, 3, \"fast\", \"campus\", [\"data\", \"science\"])     # *args 는 이와 같이 여러 타입을 튜플 타입으로 모두 받는다"
   ]
  },
  {
   "cell_type": "code",
   "execution_count": 42,
   "metadata": {},
   "outputs": [],
   "source": [
    "def avg_func(*args):\n",
    "    return sum(args) / len(args)"
   ]
  },
  {
   "cell_type": "code",
   "execution_count": 68,
   "metadata": {},
   "outputs": [
    {
     "name": "stdout",
     "output_type": "stream",
     "text": [
      "avg : 83.33\n"
     ]
    }
   ],
   "source": [
    "a = avg_func(100, 70, 80)\n",
    "print(\"avg : {}\".format(round(a,2)))"
   ]
  },
  {
   "cell_type": "markdown",
   "metadata": {},
   "source": [
    "### **kwargs\n",
    "- keyword argument\n",
    "- 여러개의 파라미터를 key-value 형태로 받을때 사용\n",
    "- 함수에서 받는 keyword argument의 데이터는 dictionary 데이터 타입으로 받는다 (그냥 args는 튜플타입)\n",
    "- `**` 의 의미는 모든 key, value를 받는 다는 의미"
   ]
  },
  {
   "cell_type": "code",
   "execution_count": 2,
   "metadata": {},
   "outputs": [],
   "source": [
    "def avg_func(**kwargs):\n",
    "    print(kwargs)\n",
    "    print(type(kwargs))\n",
    "    \n",
    "    total, count = 0, 0\n",
    "    for subject, point in kwargs.items():\n",
    "        print(subject, point)\n",
    "        total += point\n",
    "        count += 1\n",
    "    return total / count"
   ]
  },
  {
   "cell_type": "code",
   "execution_count": 4,
   "metadata": {},
   "outputs": [
    {
     "name": "stdout",
     "output_type": "stream",
     "text": [
      "{'korean': 100, 'english': 70, 'math': 80}\n",
      "<class 'dict'>\n",
      "korean 100\n",
      "english 70\n",
      "math 80\n"
     ]
    },
    {
     "data": {
      "text/plain": [
       "83.33"
      ]
     },
     "execution_count": 4,
     "metadata": {},
     "output_type": "execute_result"
    }
   ],
   "source": [
    "b = avg_func(korean=100, english=70, math=80)\n",
    "\n",
    "round(b,2)"
   ]
  },
  {
   "cell_type": "code",
   "execution_count": 49,
   "metadata": {},
   "outputs": [
    {
     "name": "stdout",
     "output_type": "stream",
     "text": [
      "{'korean': 100, 'english': 70, 'math': 80}\n",
      "<class 'dict'>\n",
      "korean 100\n",
      "english 70\n",
      "math 80\n",
      "avg : 83.33\n"
     ]
    }
   ],
   "source": [
    "a = avg_func(korean=100, english=70, math=80)\n",
    "print(\"avg : {}\".format(round(a,2)))"
   ]
  },
  {
   "cell_type": "code",
   "execution_count": 78,
   "metadata": {},
   "outputs": [],
   "source": [
    "# args, kwargs 같이 사용하는 법\n",
    "\n",
    "def test_func(*args, **kwargs):\n",
    "    print(args)\n",
    "    print(kwargs)"
   ]
  },
  {
   "cell_type": "code",
   "execution_count": 79,
   "metadata": {},
   "outputs": [
    {
     "name": "stdout",
     "output_type": "stream",
     "text": [
      "(1, 2, 3, 'fastcampus', 'datascience')\n",
      "{}\n"
     ]
    }
   ],
   "source": [
    "test_func(1, 2, 3, \"fastcampus\", \"datascience\")   # list, tuple 타입이기 때문에 args에만 데이터가 들어감"
   ]
  },
  {
   "cell_type": "code",
   "execution_count": 21,
   "metadata": {},
   "outputs": [
    {
     "name": "stdout",
     "output_type": "stream",
     "text": [
      "()\n",
      "{'korean': 100, 'english': 70, 'math': 80}\n"
     ]
    }
   ],
   "source": [
    "test_func(korean=100, english=70, math=80)    # dictionary 타입이기 때문에 kwargs에만 데이터가 들어감"
   ]
  },
  {
   "cell_type": "code",
   "execution_count": 80,
   "metadata": {},
   "outputs": [
    {
     "name": "stdout",
     "output_type": "stream",
     "text": [
      "(1, 2, 3, 'fastcampus', 'datascience')\n",
      "{'korean': 100, 'english': 70, 'math': 80}\n"
     ]
    }
   ],
   "source": [
    "test_func(1, 2, 3, \"fastcampus\", \"datascience\", korean=100, english=70, math=80)"
   ]
  },
  {
   "cell_type": "markdown",
   "metadata": {},
   "source": [
    "### docstring\n",
    "- readability counts (PEP 20:Zen of Python)\n",
    "- 가독성은 중요하다."
   ]
  },
  {
   "cell_type": "code",
   "execution_count": 82,
   "metadata": {},
   "outputs": [],
   "source": [
    "def echo(anything):\n",
    "    'echo returns its input argument'    #함수명 과 코드 사이에 docstring으로 함수 definition\n",
    "    return anything\n",
    "\n",
    "def echo2(anything):\n",
    "    '''\n",
    "    echo returns its input argument\n",
    "    The operation is:\n",
    "        1. print anything parameter\n",
    "        2. return anything parameter\n",
    "    '''\n",
    "    print(\"echo2 function : {}\".format(anything))\n",
    "    return anything"
   ]
  },
  {
   "cell_type": "code",
   "execution_count": 83,
   "metadata": {},
   "outputs": [
    {
     "name": "stdout",
     "output_type": "stream",
     "text": [
      "echo2 function : data_science\n",
      "data_science data_science\n"
     ]
    }
   ],
   "source": [
    "result1 = echo(\"data_science\")\n",
    "result2 = echo2(\"data_science\")\n",
    "print(result1, result2)"
   ]
  },
  {
   "cell_type": "markdown",
   "metadata": {},
   "source": [
    "### 함수₩를 확인하는 법 <br>\n",
    "협업을 위해 Docstring을 최대한 자세한 적어야 좋다"
   ]
  },
  {
   "cell_type": "code",
   "execution_count": 88,
   "metadata": {},
   "outputs": [
    {
     "name": "stdout",
     "output_type": "stream",
     "text": [
      "Help on function echo in module __main__:\n",
      "\n",
      "echo(anything)\n",
      "    echo returns its input argument\n",
      "\n"
     ]
    }
   ],
   "source": [
    "help(echo)    # 함수의 definition이 담긴 docstring을 열람할 수 있다."
   ]
  },
  {
   "cell_type": "code",
   "execution_count": 89,
   "metadata": {},
   "outputs": [
    {
     "name": "stdout",
     "output_type": "stream",
     "text": [
      "Help on function echo2 in module __main__:\n",
      "\n",
      "echo2(anything)\n",
      "    echo returns its input argument\n",
      "    The operation is:\n",
      "        1. print anything parameter\n",
      "        2. return anything parameter\n",
      "\n"
     ]
    }
   ],
   "source": [
    "help(echo2)"
   ]
  },
  {
   "cell_type": "code",
   "execution_count": 90,
   "metadata": {},
   "outputs": [
    {
     "name": "stdout",
     "output_type": "stream",
     "text": [
      "echo returns its input argument\n"
     ]
    }
   ],
   "source": [
    "print(echo.__doc__)     # docstring만 볼 수 있다."
   ]
  },
  {
   "cell_type": "code",
   "execution_count": 91,
   "metadata": {},
   "outputs": [
    {
     "data": {
      "text/plain": [
       "<function __main__.echo>"
      ]
     },
     "execution_count": 91,
     "metadata": {},
     "output_type": "execute_result"
    }
   ],
   "source": [
    "echo # shift + tab"
   ]
  },
  {
   "cell_type": "code",
   "execution_count": 92,
   "metadata": {},
   "outputs": [],
   "source": [
    "echo2?"
   ]
  },
  {
   "cell_type": "markdown",
   "metadata": {},
   "source": [
    "### global\n",
    "- function scope\n",
    "    - locals  지역 변수 (함수 내에서 선언)\n",
    "    - globals 전역 변수 (함수 밖에서 선언)\n",
    "- how to change global variable ?"
   ]
  },
  {
   "cell_type": "code",
   "execution_count": 93,
   "metadata": {},
   "outputs": [
    {
     "name": "stdout",
     "output_type": "stream",
     "text": [
      "10\n"
     ]
    }
   ],
   "source": [
    "gv = 10\n",
    "def print_gv():\n",
    "    print(gv)\n",
    "    \n",
    "print_gv()"
   ]
  },
  {
   "cell_type": "code",
   "execution_count": 54,
   "metadata": {},
   "outputs": [],
   "source": [
    "gv1 = 1\n",
    "gv2 = 2\n",
    "\n",
    "def print_globals():\n",
    "    gv1 = 10\n",
    "    gv2 = 20\n",
    "    print(globals())\n",
    "\n",
    "def print_locals():\n",
    "    gv1 = 10\n",
    "    gv2 = 20\n",
    "    print(locals())\n",
    "    print(locals)['gv2']\n",
    "    \n",
    "    \n",
    "# print_globals()\n",
    "# print_locals() \n",
    "# globals()['gv2']"
   ]
  },
  {
   "cell_type": "code",
   "execution_count": 55,
   "metadata": {},
   "outputs": [
    {
     "name": "stdout",
     "output_type": "stream",
     "text": [
      "{'__name__': '__main__', '__doc__': 'Automatically created module for IPython interactive environment', '__package__': None, '__loader__': None, '__spec__': None, '__builtin__': <module 'builtins' (built-in)>, '__builtins__': <module 'builtins' (built-in)>, '_ih': ['', 'def test_func():\\n    return \"data\"\\n\\n# s = test_func()\\n# print(s)', 'def test_func():\\n    return \"data\"\\n\\ns = test_func()\\nprint(s)', '#리턴은 함수의 마지막을 정리\\n\\ndef test_func(a):\\n    if a < 10:\\n        print(\"OK\")\\n        return\\n    else:\\n        print(\"\")\\n    print (\"a >= 10\")', 'print(test_func(7))', 'print(test_func(11))', '#리턴은 함수의 마지막을 정리\\n\\ndef test_func(a):\\n    if a < 10:\\n        print(\"a < 10\")\\n        return\\n    else:\\n        print (\"a >= 10\")', 'print(test_func(11))', '#리턴은 함수의 마지막을 정리\\n\\ndef test_func(a):\\n    if a < 10:\\n        print(\"a < 10\")\\n    else:\\n        print (\"a >= 10\")', 'print(test_func(11))', 'print(test_func(13))', 'def avg(numbers):\\n    total = 0\\n    for number in numbers:\\n        total += number\\n    return total  / len(numbers)', 'numbers = [1, 2, 3, 4, 5, 6, 7, 8, 9, 10]\\navg(numbers)', '#리턴은 함수의 마지막을 정리\\n\\ndef test_func(a):\\n    if a < 10:\\n        print(\"a < 10\")\\n    else:\\n        print (\"a >= 10\")', 'print(test_func(13))', 'test_func(13)', '# 문제 숫자 리스트를 받아서 평균을 구해주는 함수를 작성\\ndef avg(points):\\n    total = 0\\n    for point in points:\\n        total += point\\n    return total / len(points)', 'points = [100, 200, 300, 400]\\navg(points)', 'def avg(numbers):\\n    total = 0\\n    for number in numbers:\\n        total += number\\n    return total  / len(numbers)', 'numbers = [1, 2, 3, 4, 5, 6, 7, 8, 9, 10]\\navg(numbers)', 'def test_func(): # no parameter and no return function\\n    pass         # 선언만 해놓고 아무 실행을 하지 않는다. pass를 쓰고, 미리 함수로 구조만 만들어 놓음', 'def print_func(s, s1, s2): # one parmeter and no return function     #parameter\\n    print(s, s1, s2)\\n    \\nprint_func(\"fast_campus\", \"dss\", \"class\")                            #argument', 'def print_func(s1, s2=\"no_data\", s3=\"nodata\"): #s1:default argument # s2:set basic parameter\\n    print(\"{} {} {}\".format(s1, s2, s3))\\n    \\nprint_func(\"fast_campus\")\\nprint_func(\"fast_campus\", \"data_science\") # position arguments\\nprint_func(s2=\"data\", s1=\"science\") # keyword arguments          #순서를 이렇게 정할 수도 있다.', 'def print_func(s1, s2=\"no_data\", s3=\"nodata\"): #s1:default argument # s2:set basic parameter\\n    print(\"{} {} {}\".format(s1, s2, s3))\\n    \\nprint_func(\"fast\", \"campus\", \"dss\")\\n    \\n# print_func(\"fast_campus\")\\n# print_func(\"fast_campus\", \"data_science\") # position arguments\\n# print_func(s2=\"data\", s1=\"science\") # keyword arguments          #순서를 이렇게 정할 수도 있다.', 'def print_func(s1, s2=\"no_data\", s3=\"nodata\"): #s1:default argument # s2:set basic parameter\\n    print(\"{} {} {}\".format(s1, s2, s3))\\n    \\nprint_func(\"fast\", \"campus\")\\n    \\n# print_func(\"fast_campus\")\\n# print_func(\"fast_campus\", \"data_science\") # position arguments\\n# print_func(s2=\"data\", s1=\"science\") # keyword arguments          #순서를 이렇게 정할 수도 있다.', 'def print_func(s1, s2=\"no_data\", s3=\"nodata\"): #s1:default argument # s2:set basic parameter\\n    print(\"{} {} {}\".format(s1, s2, s3))\\n    \\nprint_func(\"fast\")\\n    \\n# print_func(\"fast_campus\")\\n# print_func(\"fast_campus\", \"data_science\") # position arguments\\n# print_func(s2=\"data\", s1=\"science\") # keyword arguments          #순서를 이렇게 정할 수도 있다.', 'def print_func(s1, s2=\"no_data\", s3=\"nodata\"): #s1:default argument # s2:set basic parameter\\n    print(\"{} {} {}\".format(s1, s2, s3))\\n    \\nprint_func(s2 = \"fast\", s3 = \"campus\", )\\n    \\n# print_func(\"fast_campus\")\\n# print_func(\"fast_campus\", \"data_science\") # position arguments\\n# print_func(s2=\"data\", s1=\"science\") # keyword arguments          #순서를 이렇게 정할 수도 있다.', 'def print_func(s1, s2=\"no_data\", s3=\"nodata\"): #s1:default argument # s2:set basic parameter\\n    print(\"{} {} {}\".format(s1, s2, s3))\\n    \\nprint_func(s2 = \"fast\", s3 = \"campus\", s1 = \"data_science\")\\n    \\n# print_func(\"fast_campus\")\\n# print_func(\"fast_campus\", \"data_science\") # position arguments\\n# print_func(s2=\"data\", s1=\"science\") # keyword arguments          #순서를 이렇게 정할 수도 있다.', 'def avg_func(korean, english, math):\\n    return (korean + english + math) / 3', 'def print_func(s1, s2=\"no_data\", s3=\"nodata\"): #s1:default argument # s2:set basic parameter\\n    print(\"{} {} {}\".format(s1, s2, s3))\\n    \\nprint_func(s2 = \"fast\", s3 = \"campus\", s1 = \"data_science\")\\n    \\nprint_func(\"fast_campus\")\\nprint_func(\"fast_campus\", \"data_science\") # position arguments\\nprint_func(s2=\"data\", s1=\"science\") # keyword arguments          #순서를 이렇게 정할 수도 있다.', 'def avg_func(korean, english, math):\\n    return (korean + english + math) / 3', 'a = avg_func(100, 70, 80)\\n# print(\"avg : {}\".format(round(a,2)))\\n\\nprint(\"avg: {}\".format(a))', 'a = avg_func(100, 70, 80)\\n# print(\"avg : {}\".format(round(a,2)))\\n\\nprint(\"avg: {}\".format', 'a = avg_func(100, 70, 80)\\n# print(\"avg : {}\".format(round(a,2)))\\n\\nprint(\"avg: {}\".format(a)', 'a = avg_func(100, 70, 80)\\n# print(\"avg : {}\".format(round(a,2)))\\n\\nprint(\"avg: {}\".format(a))', 'a = avg_func(100, 70, 80)\\n# print(\"avg : {}\".format(round(a,2)))\\n\\nprint(\"avg: {}\".format(round(a,2))', 'a = avg_func(100, 70, 80)\\n# print(\"avg : {}\".format(round(a,2)))\\n\\nprint(\"avg: {}\".format(round(a,2)))', 'def total_function(korean, english, math):\\n    return korean + english + math', 'def func_param(func):\\n    result = func(100, 70, 80)\\n    print(result)\\n\\nfunc_param(total_function)', 'def func_param(func):\\n    result = func(100, 70, 80)\\n    print(result)\\n\\nprint(func_param(total_function))', 'total_function(50, 60, 70)', 'def func_param(total_function):\\n    result = total_function(100, 70, 80)\\n    print(result)\\n\\nfunc_param(total_function)', 'def avg_func(*args):\\n    return sum(args) / len(args)', 'def print_args(*args):\\n    print(args)\\n    print(type(args))\\n    print(args[4])\\n    print(args[5][1])\\n    \\n# print_args(1, 2, 3, \"fast\", \"campus\", [\"data\", \"science\"])     # *args 는 이와 같이 여러 타입을 튜플 타입으로 모두 받는다', 'def print_args(*args):\\n    print(args)\\n    print(type(args))\\n    print(args[4])\\n    print(args[5][1])\\n    \\nprint_args(1, 2, 3, 4, \"fast\", \"campus\", {\"data\": \"science\"}, [\"data\", \"science\", \"school\"])\\n# print_args(1, 2, 3, \"fast\", \"campus\", [\"data\", \"science\"])     # *args 는 이와 같이 여러 타입을 튜플 타입으로 모두 받는다', 'def avg_func(**kwargs):\\n    print(kwargs)\\n    print(type(kwargs))\\n    \\n    total, count = 0, 0\\n    for subject, point in kwargs.items():\\n        print(subject, point)\\n        total += point\\n        count += 1\\n    return total / count', 'avg_func(korean=100, english=70, math=80)\\nround(a,2)', 'avg_func(korean=100, english=70, math=80)\\nround(b,2)', 'avg_func(korean=100, english=70, math=80)\\nround(a,2)', 'a = avg_func(korean=100, english=70, math=80)\\nprint(\"avg : {}\".format(round(a,2)))', \"gv1 = 1\\ngv2 = 2\\n\\ndef print_globals():\\n    gv1 = 10\\n    gv2 = 20\\n    print(globals())\\n\\ndef print_locals():\\n    gv1 = 10\\n    gv2 = 20\\n    print(locals())\\n    print(locals)['gv2']\\n    \\n    \\nprint_globals()\\nprint_locals() \\nglobals()['gv2']\", 'print_locals()', \"gv1 = 1\\ngv2 = 2\\n\\ndef print_globals():\\n    gv1 = 10\\n    gv2 = 20\\n    print(globals())\\n\\ndef print_locals():\\n    gv1 = 10\\n    gv2 = 20\\n    print(locals())\\n    print(locals)['gv2']\\n    \\n    \\nprint_globals()\\nprint_locals() \\n# globals()['gv2']\", \"gv1 = 1\\ngv2 = 2\\n\\ndef print_globals():\\n    gv1 = 10\\n    gv2 = 20\\n    print(globals())\\n\\ndef print_locals():\\n    gv1 = 10\\n    gv2 = 20\\n    print(locals())\\n    print(locals)['gv2']\\n    \\n    \\nprint_globals()\\n# print_locals() \\n# globals()['gv2']\", \"gv1 = 1\\ngv2 = 2\\n\\ndef print_globals():\\n    gv1 = 10\\n    gv2 = 20\\n    print(globals())\\n\\ndef print_locals():\\n    gv1 = 10\\n    gv2 = 20\\n    print(locals())\\n    print(locals)['gv2']\\n    \\n    \\n# print_globals()\\n# print_locals() \\n# globals()['gv2']\", 'print_globals()'], '_oh': {12: 5.5, 17: 250.0, 19: 5.5, 40: 180, 46: 83.33, 48: 83.33}, '_dh': ['/Users/Seoluca/Data_Analytics/FastCampus/Data_Science_School/1.Programming/20180110'], 'In': ['', 'def test_func():\\n    return \"data\"\\n\\n# s = test_func()\\n# print(s)', 'def test_func():\\n    return \"data\"\\n\\ns = test_func()\\nprint(s)', '#리턴은 함수의 마지막을 정리\\n\\ndef test_func(a):\\n    if a < 10:\\n        print(\"OK\")\\n        return\\n    else:\\n        print(\"\")\\n    print (\"a >= 10\")', 'print(test_func(7))', 'print(test_func(11))', '#리턴은 함수의 마지막을 정리\\n\\ndef test_func(a):\\n    if a < 10:\\n        print(\"a < 10\")\\n        return\\n    else:\\n        print (\"a >= 10\")', 'print(test_func(11))', '#리턴은 함수의 마지막을 정리\\n\\ndef test_func(a):\\n    if a < 10:\\n        print(\"a < 10\")\\n    else:\\n        print (\"a >= 10\")', 'print(test_func(11))', 'print(test_func(13))', 'def avg(numbers):\\n    total = 0\\n    for number in numbers:\\n        total += number\\n    return total  / len(numbers)', 'numbers = [1, 2, 3, 4, 5, 6, 7, 8, 9, 10]\\navg(numbers)', '#리턴은 함수의 마지막을 정리\\n\\ndef test_func(a):\\n    if a < 10:\\n        print(\"a < 10\")\\n    else:\\n        print (\"a >= 10\")', 'print(test_func(13))', 'test_func(13)', '# 문제 숫자 리스트를 받아서 평균을 구해주는 함수를 작성\\ndef avg(points):\\n    total = 0\\n    for point in points:\\n        total += point\\n    return total / len(points)', 'points = [100, 200, 300, 400]\\navg(points)', 'def avg(numbers):\\n    total = 0\\n    for number in numbers:\\n        total += number\\n    return total  / len(numbers)', 'numbers = [1, 2, 3, 4, 5, 6, 7, 8, 9, 10]\\navg(numbers)', 'def test_func(): # no parameter and no return function\\n    pass         # 선언만 해놓고 아무 실행을 하지 않는다. pass를 쓰고, 미리 함수로 구조만 만들어 놓음', 'def print_func(s, s1, s2): # one parmeter and no return function     #parameter\\n    print(s, s1, s2)\\n    \\nprint_func(\"fast_campus\", \"dss\", \"class\")                            #argument', 'def print_func(s1, s2=\"no_data\", s3=\"nodata\"): #s1:default argument # s2:set basic parameter\\n    print(\"{} {} {}\".format(s1, s2, s3))\\n    \\nprint_func(\"fast_campus\")\\nprint_func(\"fast_campus\", \"data_science\") # position arguments\\nprint_func(s2=\"data\", s1=\"science\") # keyword arguments          #순서를 이렇게 정할 수도 있다.', 'def print_func(s1, s2=\"no_data\", s3=\"nodata\"): #s1:default argument # s2:set basic parameter\\n    print(\"{} {} {}\".format(s1, s2, s3))\\n    \\nprint_func(\"fast\", \"campus\", \"dss\")\\n    \\n# print_func(\"fast_campus\")\\n# print_func(\"fast_campus\", \"data_science\") # position arguments\\n# print_func(s2=\"data\", s1=\"science\") # keyword arguments          #순서를 이렇게 정할 수도 있다.', 'def print_func(s1, s2=\"no_data\", s3=\"nodata\"): #s1:default argument # s2:set basic parameter\\n    print(\"{} {} {}\".format(s1, s2, s3))\\n    \\nprint_func(\"fast\", \"campus\")\\n    \\n# print_func(\"fast_campus\")\\n# print_func(\"fast_campus\", \"data_science\") # position arguments\\n# print_func(s2=\"data\", s1=\"science\") # keyword arguments          #순서를 이렇게 정할 수도 있다.', 'def print_func(s1, s2=\"no_data\", s3=\"nodata\"): #s1:default argument # s2:set basic parameter\\n    print(\"{} {} {}\".format(s1, s2, s3))\\n    \\nprint_func(\"fast\")\\n    \\n# print_func(\"fast_campus\")\\n# print_func(\"fast_campus\", \"data_science\") # position arguments\\n# print_func(s2=\"data\", s1=\"science\") # keyword arguments          #순서를 이렇게 정할 수도 있다.', 'def print_func(s1, s2=\"no_data\", s3=\"nodata\"): #s1:default argument # s2:set basic parameter\\n    print(\"{} {} {}\".format(s1, s2, s3))\\n    \\nprint_func(s2 = \"fast\", s3 = \"campus\", )\\n    \\n# print_func(\"fast_campus\")\\n# print_func(\"fast_campus\", \"data_science\") # position arguments\\n# print_func(s2=\"data\", s1=\"science\") # keyword arguments          #순서를 이렇게 정할 수도 있다.', 'def print_func(s1, s2=\"no_data\", s3=\"nodata\"): #s1:default argument # s2:set basic parameter\\n    print(\"{} {} {}\".format(s1, s2, s3))\\n    \\nprint_func(s2 = \"fast\", s3 = \"campus\", s1 = \"data_science\")\\n    \\n# print_func(\"fast_campus\")\\n# print_func(\"fast_campus\", \"data_science\") # position arguments\\n# print_func(s2=\"data\", s1=\"science\") # keyword arguments          #순서를 이렇게 정할 수도 있다.', 'def avg_func(korean, english, math):\\n    return (korean + english + math) / 3', 'def print_func(s1, s2=\"no_data\", s3=\"nodata\"): #s1:default argument # s2:set basic parameter\\n    print(\"{} {} {}\".format(s1, s2, s3))\\n    \\nprint_func(s2 = \"fast\", s3 = \"campus\", s1 = \"data_science\")\\n    \\nprint_func(\"fast_campus\")\\nprint_func(\"fast_campus\", \"data_science\") # position arguments\\nprint_func(s2=\"data\", s1=\"science\") # keyword arguments          #순서를 이렇게 정할 수도 있다.', 'def avg_func(korean, english, math):\\n    return (korean + english + math) / 3', 'a = avg_func(100, 70, 80)\\n# print(\"avg : {}\".format(round(a,2)))\\n\\nprint(\"avg: {}\".format(a))', 'a = avg_func(100, 70, 80)\\n# print(\"avg : {}\".format(round(a,2)))\\n\\nprint(\"avg: {}\".format', 'a = avg_func(100, 70, 80)\\n# print(\"avg : {}\".format(round(a,2)))\\n\\nprint(\"avg: {}\".format(a)', 'a = avg_func(100, 70, 80)\\n# print(\"avg : {}\".format(round(a,2)))\\n\\nprint(\"avg: {}\".format(a))', 'a = avg_func(100, 70, 80)\\n# print(\"avg : {}\".format(round(a,2)))\\n\\nprint(\"avg: {}\".format(round(a,2))', 'a = avg_func(100, 70, 80)\\n# print(\"avg : {}\".format(round(a,2)))\\n\\nprint(\"avg: {}\".format(round(a,2)))', 'def total_function(korean, english, math):\\n    return korean + english + math', 'def func_param(func):\\n    result = func(100, 70, 80)\\n    print(result)\\n\\nfunc_param(total_function)', 'def func_param(func):\\n    result = func(100, 70, 80)\\n    print(result)\\n\\nprint(func_param(total_function))', 'total_function(50, 60, 70)', 'def func_param(total_function):\\n    result = total_function(100, 70, 80)\\n    print(result)\\n\\nfunc_param(total_function)', 'def avg_func(*args):\\n    return sum(args) / len(args)', 'def print_args(*args):\\n    print(args)\\n    print(type(args))\\n    print(args[4])\\n    print(args[5][1])\\n    \\n# print_args(1, 2, 3, \"fast\", \"campus\", [\"data\", \"science\"])     # *args 는 이와 같이 여러 타입을 튜플 타입으로 모두 받는다', 'def print_args(*args):\\n    print(args)\\n    print(type(args))\\n    print(args[4])\\n    print(args[5][1])\\n    \\nprint_args(1, 2, 3, 4, \"fast\", \"campus\", {\"data\": \"science\"}, [\"data\", \"science\", \"school\"])\\n# print_args(1, 2, 3, \"fast\", \"campus\", [\"data\", \"science\"])     # *args 는 이와 같이 여러 타입을 튜플 타입으로 모두 받는다', 'def avg_func(**kwargs):\\n    print(kwargs)\\n    print(type(kwargs))\\n    \\n    total, count = 0, 0\\n    for subject, point in kwargs.items():\\n        print(subject, point)\\n        total += point\\n        count += 1\\n    return total / count', 'avg_func(korean=100, english=70, math=80)\\nround(a,2)', 'avg_func(korean=100, english=70, math=80)\\nround(b,2)', 'avg_func(korean=100, english=70, math=80)\\nround(a,2)', 'a = avg_func(korean=100, english=70, math=80)\\nprint(\"avg : {}\".format(round(a,2)))', \"gv1 = 1\\ngv2 = 2\\n\\ndef print_globals():\\n    gv1 = 10\\n    gv2 = 20\\n    print(globals())\\n\\ndef print_locals():\\n    gv1 = 10\\n    gv2 = 20\\n    print(locals())\\n    print(locals)['gv2']\\n    \\n    \\nprint_globals()\\nprint_locals() \\nglobals()['gv2']\", 'print_locals()', \"gv1 = 1\\ngv2 = 2\\n\\ndef print_globals():\\n    gv1 = 10\\n    gv2 = 20\\n    print(globals())\\n\\ndef print_locals():\\n    gv1 = 10\\n    gv2 = 20\\n    print(locals())\\n    print(locals)['gv2']\\n    \\n    \\nprint_globals()\\nprint_locals() \\n# globals()['gv2']\", \"gv1 = 1\\ngv2 = 2\\n\\ndef print_globals():\\n    gv1 = 10\\n    gv2 = 20\\n    print(globals())\\n\\ndef print_locals():\\n    gv1 = 10\\n    gv2 = 20\\n    print(locals())\\n    print(locals)['gv2']\\n    \\n    \\nprint_globals()\\n# print_locals() \\n# globals()['gv2']\", \"gv1 = 1\\ngv2 = 2\\n\\ndef print_globals():\\n    gv1 = 10\\n    gv2 = 20\\n    print(globals())\\n\\ndef print_locals():\\n    gv1 = 10\\n    gv2 = 20\\n    print(locals())\\n    print(locals)['gv2']\\n    \\n    \\n# print_globals()\\n# print_locals() \\n# globals()['gv2']\", 'print_globals()'], 'Out': {12: 5.5, 17: 250.0, 19: 5.5, 40: 180, 46: 83.33, 48: 83.33}, 'get_ipython': <bound method InteractiveShell.get_ipython of <ipykernel.zmqshell.ZMQInteractiveShell object at 0x1064127b8>>, 'exit': <IPython.core.autocall.ZMQExitAutocall object at 0x106481860>, 'quit': <IPython.core.autocall.ZMQExitAutocall object at 0x106481860>, '_': 83.33, '__': 83.33, '___': 180, '_i': \"gv1 = 1\\ngv2 = 2\\n\\ndef print_globals():\\n    gv1 = 10\\n    gv2 = 20\\n    print(globals())\\n\\ndef print_locals():\\n    gv1 = 10\\n    gv2 = 20\\n    print(locals())\\n    print(locals)['gv2']\\n    \\n    \\n# print_globals()\\n# print_locals() \\n# globals()['gv2']\", '_ii': \"gv1 = 1\\ngv2 = 2\\n\\ndef print_globals():\\n    gv1 = 10\\n    gv2 = 20\\n    print(globals())\\n\\ndef print_locals():\\n    gv1 = 10\\n    gv2 = 20\\n    print(locals())\\n    print(locals)['gv2']\\n    \\n    \\nprint_globals()\\n# print_locals() \\n# globals()['gv2']\", '_iii': \"gv1 = 1\\ngv2 = 2\\n\\ndef print_globals():\\n    gv1 = 10\\n    gv2 = 20\\n    print(globals())\\n\\ndef print_locals():\\n    gv1 = 10\\n    gv2 = 20\\n    print(locals())\\n    print(locals)['gv2']\\n    \\n    \\nprint_globals()\\nprint_locals() \\n# globals()['gv2']\", '_i1': 'def test_func():\\n    return \"data\"\\n\\n# s = test_func()\\n# print(s)', 'test_func': <function test_func at 0x1065fbe18>, '_i2': 'def test_func():\\n    return \"data\"\\n\\ns = test_func()\\nprint(s)', 's': 'data', '_i3': '#리턴은 함수의 마지막을 정리\\n\\ndef test_func(a):\\n    if a < 10:\\n        print(\"OK\")\\n        return\\n    else:\\n        print(\"\")\\n    print (\"a >= 10\")', '_i4': 'print(test_func(7))', '_i5': 'print(test_func(11))', '_i6': '#리턴은 함수의 마지막을 정리\\n\\ndef test_func(a):\\n    if a < 10:\\n        print(\"a < 10\")\\n        return\\n    else:\\n        print (\"a >= 10\")', '_i7': 'print(test_func(11))', '_i8': '#리턴은 함수의 마지막을 정리\\n\\ndef test_func(a):\\n    if a < 10:\\n        print(\"a < 10\")\\n    else:\\n        print (\"a >= 10\")', '_i9': 'print(test_func(11))', '_i10': 'print(test_func(13))', '_i11': 'def avg(numbers):\\n    total = 0\\n    for number in numbers:\\n        total += number\\n    return total  / len(numbers)', 'avg': <function avg at 0x1065fb0d0>, '_i12': 'numbers = [1, 2, 3, 4, 5, 6, 7, 8, 9, 10]\\navg(numbers)', 'numbers': [1, 2, 3, 4, 5, 6, 7, 8, 9, 10], '_12': 5.5, '_i13': '#리턴은 함수의 마지막을 정리\\n\\ndef test_func(a):\\n    if a < 10:\\n        print(\"a < 10\")\\n    else:\\n        print (\"a >= 10\")', '_i14': 'print(test_func(13))', '_i15': 'test_func(13)', '_i16': '# 문제 숫자 리스트를 받아서 평균을 구해주는 함수를 작성\\ndef avg(points):\\n    total = 0\\n    for point in points:\\n        total += point\\n    return total / len(points)', '_i17': 'points = [100, 200, 300, 400]\\navg(points)', 'points': [100, 200, 300, 400], '_17': 250.0, '_i18': 'def avg(numbers):\\n    total = 0\\n    for number in numbers:\\n        total += number\\n    return total  / len(numbers)', '_i19': 'numbers = [1, 2, 3, 4, 5, 6, 7, 8, 9, 10]\\navg(numbers)', '_19': 5.5, '_i20': 'def test_func(): # no parameter and no return function\\n    pass         # 선언만 해놓고 아무 실행을 하지 않는다. pass를 쓰고, 미리 함수로 구조만 만들어 놓음', '_i21': 'def print_func(s, s1, s2): # one parmeter and no return function     #parameter\\n    print(s, s1, s2)\\n    \\nprint_func(\"fast_campus\", \"dss\", \"class\")                            #argument', 'print_func': <function print_func at 0x10667d730>, '_i22': 'def print_func(s1, s2=\"no_data\", s3=\"nodata\"): #s1:default argument # s2:set basic parameter\\n    print(\"{} {} {}\".format(s1, s2, s3))\\n    \\nprint_func(\"fast_campus\")\\nprint_func(\"fast_campus\", \"data_science\") # position arguments\\nprint_func(s2=\"data\", s1=\"science\") # keyword arguments          #순서를 이렇게 정할 수도 있다.', '_i23': 'def print_func(s1, s2=\"no_data\", s3=\"nodata\"): #s1:default argument # s2:set basic parameter\\n    print(\"{} {} {}\".format(s1, s2, s3))\\n    \\nprint_func(\"fast\", \"campus\", \"dss\")\\n    \\n# print_func(\"fast_campus\")\\n# print_func(\"fast_campus\", \"data_science\") # position arguments\\n# print_func(s2=\"data\", s1=\"science\") # keyword arguments          #순서를 이렇게 정할 수도 있다.', '_i24': 'def print_func(s1, s2=\"no_data\", s3=\"nodata\"): #s1:default argument # s2:set basic parameter\\n    print(\"{} {} {}\".format(s1, s2, s3))\\n    \\nprint_func(\"fast\", \"campus\")\\n    \\n# print_func(\"fast_campus\")\\n# print_func(\"fast_campus\", \"data_science\") # position arguments\\n# print_func(s2=\"data\", s1=\"science\") # keyword arguments          #순서를 이렇게 정할 수도 있다.', '_i25': 'def print_func(s1, s2=\"no_data\", s3=\"nodata\"): #s1:default argument # s2:set basic parameter\\n    print(\"{} {} {}\".format(s1, s2, s3))\\n    \\nprint_func(\"fast\")\\n    \\n# print_func(\"fast_campus\")\\n# print_func(\"fast_campus\", \"data_science\") # position arguments\\n# print_func(s2=\"data\", s1=\"science\") # keyword arguments          #순서를 이렇게 정할 수도 있다.', '_i26': 'def print_func(s1, s2=\"no_data\", s3=\"nodata\"): #s1:default argument # s2:set basic parameter\\n    print(\"{} {} {}\".format(s1, s2, s3))\\n    \\nprint_func(s2 = \"fast\", s3 = \"campus\", )\\n    \\n# print_func(\"fast_campus\")\\n# print_func(\"fast_campus\", \"data_science\") # position arguments\\n# print_func(s2=\"data\", s1=\"science\") # keyword arguments          #순서를 이렇게 정할 수도 있다.', '_i27': 'def print_func(s1, s2=\"no_data\", s3=\"nodata\"): #s1:default argument # s2:set basic parameter\\n    print(\"{} {} {}\".format(s1, s2, s3))\\n    \\nprint_func(s2 = \"fast\", s3 = \"campus\", s1 = \"data_science\")\\n    \\n# print_func(\"fast_campus\")\\n# print_func(\"fast_campus\", \"data_science\") # position arguments\\n# print_func(s2=\"data\", s1=\"science\") # keyword arguments          #순서를 이렇게 정할 수도 있다.', '_i28': 'def avg_func(korean, english, math):\\n    return (korean + english + math) / 3', 'avg_func': <function avg_func at 0x106662e18>, '_i29': 'def print_func(s1, s2=\"no_data\", s3=\"nodata\"): #s1:default argument # s2:set basic parameter\\n    print(\"{} {} {}\".format(s1, s2, s3))\\n    \\nprint_func(s2 = \"fast\", s3 = \"campus\", s1 = \"data_science\")\\n    \\nprint_func(\"fast_campus\")\\nprint_func(\"fast_campus\", \"data_science\") # position arguments\\nprint_func(s2=\"data\", s1=\"science\") # keyword arguments          #순서를 이렇게 정할 수도 있다.', '_i30': 'def avg_func(korean, english, math):\\n    return (korean + english + math) / 3', '_i31': 'a = avg_func(100, 70, 80)\\n# print(\"avg : {}\".format(round(a,2)))\\n\\nprint(\"avg: {}\".format(a))', 'a': 83.33333333333333, '_i32': 'a = avg_func(100, 70, 80)\\n# print(\"avg : {}\".format(round(a,2)))\\n\\nprint(\"avg: {}\".format', '_i33': 'a = avg_func(100, 70, 80)\\n# print(\"avg : {}\".format(round(a,2)))\\n\\nprint(\"avg: {}\".format(a)', '_i34': 'a = avg_func(100, 70, 80)\\n# print(\"avg : {}\".format(round(a,2)))\\n\\nprint(\"avg: {}\".format(a))', '_i35': 'a = avg_func(100, 70, 80)\\n# print(\"avg : {}\".format(round(a,2)))\\n\\nprint(\"avg: {}\".format(round(a,2))', '_i36': 'a = avg_func(100, 70, 80)\\n# print(\"avg : {}\".format(round(a,2)))\\n\\nprint(\"avg: {}\".format(round(a,2)))', '_i37': 'def total_function(korean, english, math):\\n    return korean + english + math', 'total_function': <function total_function at 0x10667dea0>, '_i38': 'def func_param(func):\\n    result = func(100, 70, 80)\\n    print(result)\\n\\nfunc_param(total_function)', 'func_param': <function func_param at 0x10667d488>, '_i39': 'def func_param(func):\\n    result = func(100, 70, 80)\\n    print(result)\\n\\nprint(func_param(total_function))', '_i40': 'total_function(50, 60, 70)', '_40': 180, '_i41': 'def func_param(total_function):\\n    result = total_function(100, 70, 80)\\n    print(result)\\n\\nfunc_param(total_function)', '_i42': 'def avg_func(*args):\\n    return sum(args) / len(args)', '_i43': 'def print_args(*args):\\n    print(args)\\n    print(type(args))\\n    print(args[4])\\n    print(args[5][1])\\n    \\n# print_args(1, 2, 3, \"fast\", \"campus\", [\"data\", \"science\"])     # *args 는 이와 같이 여러 타입을 튜플 타입으로 모두 받는다', 'print_args': <function print_args at 0x1066920d0>, '_i44': 'def print_args(*args):\\n    print(args)\\n    print(type(args))\\n    print(args[4])\\n    print(args[5][1])\\n    \\nprint_args(1, 2, 3, 4, \"fast\", \"campus\", {\"data\": \"science\"}, [\"data\", \"science\", \"school\"])\\n# print_args(1, 2, 3, \"fast\", \"campus\", [\"data\", \"science\"])     # *args 는 이와 같이 여러 타입을 튜플 타입으로 모두 받는다', '_i45': 'def avg_func(**kwargs):\\n    print(kwargs)\\n    print(type(kwargs))\\n    \\n    total, count = 0, 0\\n    for subject, point in kwargs.items():\\n        print(subject, point)\\n        total += point\\n        count += 1\\n    return total / count', '_i46': 'avg_func(korean=100, english=70, math=80)\\nround(a,2)', '_46': 83.33, '_i47': 'avg_func(korean=100, english=70, math=80)\\nround(b,2)', '_i48': 'avg_func(korean=100, english=70, math=80)\\nround(a,2)', '_48': 83.33, '_i49': 'a = avg_func(korean=100, english=70, math=80)\\nprint(\"avg : {}\".format(round(a,2)))', '_i50': \"gv1 = 1\\ngv2 = 2\\n\\ndef print_globals():\\n    gv1 = 10\\n    gv2 = 20\\n    print(globals())\\n\\ndef print_locals():\\n    gv1 = 10\\n    gv2 = 20\\n    print(locals())\\n    print(locals)['gv2']\\n    \\n    \\nprint_globals()\\nprint_locals() \\nglobals()['gv2']\", 'gv1': 1, 'gv2': 2, 'print_globals': <function print_globals at 0x10667da60>, 'print_locals': <function print_locals at 0x10667d378>, '_i51': 'print_locals()', '_i52': \"gv1 = 1\\ngv2 = 2\\n\\ndef print_globals():\\n    gv1 = 10\\n    gv2 = 20\\n    print(globals())\\n\\ndef print_locals():\\n    gv1 = 10\\n    gv2 = 20\\n    print(locals())\\n    print(locals)['gv2']\\n    \\n    \\nprint_globals()\\nprint_locals() \\n# globals()['gv2']\", '_i53': \"gv1 = 1\\ngv2 = 2\\n\\ndef print_globals():\\n    gv1 = 10\\n    gv2 = 20\\n    print(globals())\\n\\ndef print_locals():\\n    gv1 = 10\\n    gv2 = 20\\n    print(locals())\\n    print(locals)['gv2']\\n    \\n    \\nprint_globals()\\n# print_locals() \\n# globals()['gv2']\", '_i54': \"gv1 = 1\\ngv2 = 2\\n\\ndef print_globals():\\n    gv1 = 10\\n    gv2 = 20\\n    print(globals())\\n\\ndef print_locals():\\n    gv1 = 10\\n    gv2 = 20\\n    print(locals())\\n    print(locals)['gv2']\\n    \\n    \\n# print_globals()\\n# print_locals() \\n# globals()['gv2']\", '_i55': 'print_globals()'}\n"
     ]
    }
   ],
   "source": [
    "print_globals()"
   ]
  },
  {
   "cell_type": "code",
   "execution_count": 56,
   "metadata": {},
   "outputs": [
    {
     "name": "stdout",
     "output_type": "stream",
     "text": [
      "{'gv2': 20, 'gv1': 10}\n",
      "<built-in function locals>\n"
     ]
    },
    {
     "ename": "TypeError",
     "evalue": "'NoneType' object is not subscriptable",
     "output_type": "error",
     "traceback": [
      "\u001b[0;31m---------------------------------------------------------------------------\u001b[0m",
      "\u001b[0;31mTypeError\u001b[0m                                 Traceback (most recent call last)",
      "\u001b[0;32m<ipython-input-56-bab7e75353d7>\u001b[0m in \u001b[0;36m<module>\u001b[0;34m()\u001b[0m\n\u001b[0;32m----> 1\u001b[0;31m \u001b[0mprint_locals\u001b[0m\u001b[0;34m(\u001b[0m\u001b[0;34m)\u001b[0m\u001b[0;34m\u001b[0m\u001b[0m\n\u001b[0m",
      "\u001b[0;32m<ipython-input-54-eeba8e0919bf>\u001b[0m in \u001b[0;36mprint_locals\u001b[0;34m()\u001b[0m\n\u001b[1;32m     11\u001b[0m     \u001b[0mgv2\u001b[0m \u001b[0;34m=\u001b[0m \u001b[0;36m20\u001b[0m\u001b[0;34m\u001b[0m\u001b[0m\n\u001b[1;32m     12\u001b[0m     \u001b[0mprint\u001b[0m\u001b[0;34m(\u001b[0m\u001b[0mlocals\u001b[0m\u001b[0;34m(\u001b[0m\u001b[0;34m)\u001b[0m\u001b[0;34m)\u001b[0m\u001b[0;34m\u001b[0m\u001b[0m\n\u001b[0;32m---> 13\u001b[0;31m     \u001b[0mprint\u001b[0m\u001b[0;34m(\u001b[0m\u001b[0mlocals\u001b[0m\u001b[0;34m)\u001b[0m\u001b[0;34m[\u001b[0m\u001b[0;34m'gv2'\u001b[0m\u001b[0;34m]\u001b[0m\u001b[0;34m\u001b[0m\u001b[0m\n\u001b[0m\u001b[1;32m     14\u001b[0m \u001b[0;34m\u001b[0m\u001b[0m\n\u001b[1;32m     15\u001b[0m \u001b[0;34m\u001b[0m\u001b[0m\n",
      "\u001b[0;31mTypeError\u001b[0m: 'NoneType' object is not subscriptable"
     ]
    }
   ],
   "source": [
    "print_locals()     # 이거 뭐지 ?"
   ]
  },
  {
   "cell_type": "code",
   "execution_count": 59,
   "metadata": {},
   "outputs": [
    {
     "name": "stdout",
     "output_type": "stream",
     "text": [
      "10\n",
      "10\n"
     ]
    }
   ],
   "source": [
    "gv = 10        # global vriable이라고 선언\n",
    "def change_gv(data):\n",
    "    gv = data  \n",
    "\n",
    "print(gv)\n",
    "(change_gv(100))\n",
    "print(gv)"
   ]
  },
  {
   "cell_type": "code",
   "execution_count": 32,
   "metadata": {},
   "outputs": [
    {
     "name": "stdout",
     "output_type": "stream",
     "text": [
      "10\n",
      "100\n"
     ]
    }
   ],
   "source": [
    "gv = 10\n",
    "def change_gv(data):\n",
    "    global gv    # 함수 속 로컬이라도, 이렇게 선언함으로서 글로벌로 사용할 수 있음\n",
    "    gv = data\n",
    "    \n",
    "print(gv)\n",
    "change_gv(100)\n",
    "print(gv)"
   ]
  },
  {
   "cell_type": "markdown",
   "metadata": {},
   "source": [
    "### inner function ( 함수 속 함수)"
   ]
  },
  {
   "cell_type": "code",
   "execution_count": 108,
   "metadata": {},
   "outputs": [],
   "source": [
    "def outer(a, b):\n",
    "    \n",
    "    def inner(c, d):\n",
    "        return c + d\n",
    "    \n",
    "    return inner(a, b)   #outer function --> inner function 호출 --> \n",
    "\n",
    "# 익명함수로 사용이 가능함. \n",
    "# 전역변수로 사용하게 되면 CPU메모리를 차지하게 됨. \n",
    "\n",
    "# 어떤 함수를 선택해서 사용할 지 (로컬, 지역, 글로벌) 에 따라 효과적으로 사용이 가능함."
   ]
  },
  {
   "cell_type": "code",
   "execution_count": 109,
   "metadata": {},
   "outputs": [
    {
     "data": {
      "text/plain": [
       "11"
      ]
     },
     "execution_count": 109,
     "metadata": {},
     "output_type": "execute_result"
    }
   ],
   "source": [
    "outer(4,7)"
   ]
  },
  {
   "cell_type": "code",
   "execution_count": 111,
   "metadata": {},
   "outputs": [
    {
     "data": {
      "text/plain": [
       "11"
      ]
     },
     "execution_count": 111,
     "metadata": {},
     "output_type": "execute_result"
    }
   ],
   "source": [
    "a = outer(5, 6)\n",
    "a"
   ]
  },
  {
   "cell_type": "markdown",
   "metadata": {},
   "source": [
    "### lambda function\n",
    "- anonymous function\n",
    "- lamda 또한 익명함수\n",
    "- 1회용 함수. 한번 사용해서 한번 사용하면 끝. 더 이상 유효하지 않음\n",
    "- 메모리 자리를 적게 차지함.\n",
    "- 사용이 가능하다면, 사용을 권장"
   ]
  },
  {
   "cell_type": "code",
   "execution_count": 114,
   "metadata": {},
   "outputs": [],
   "source": [
    "def sum_func(x, y):\n",
    "    return x + y"
   ]
  },
  {
   "cell_type": "code",
   "execution_count": 115,
   "metadata": {},
   "outputs": [
    {
     "data": {
      "text/plain": [
       "11"
      ]
     },
     "execution_count": 115,
     "metadata": {},
     "output_type": "execute_result"
    }
   ],
   "source": [
    "sum_func(5,6)"
   ]
  },
  {
   "cell_type": "code",
   "execution_count": 116,
   "metadata": {},
   "outputs": [],
   "source": [
    "sum_func2 = lambda x, y : x + y      # undefined"
   ]
  },
  {
   "cell_type": "code",
   "execution_count": 117,
   "metadata": {},
   "outputs": [
    {
     "data": {
      "text/plain": [
       "11"
      ]
     },
     "execution_count": 117,
     "metadata": {},
     "output_type": "execute_result"
    }
   ],
   "source": [
    "sum_func2(5,6)"
   ]
  },
  {
   "cell_type": "code",
   "execution_count": 118,
   "metadata": {},
   "outputs": [],
   "source": [
    "sum_func3 = lambda x=1, y=2 : x + y    # defined"
   ]
  },
  {
   "cell_type": "code",
   "execution_count": 119,
   "metadata": {},
   "outputs": [
    {
     "data": {
      "text/plain": [
       "3"
      ]
     },
     "execution_count": 119,
     "metadata": {},
     "output_type": "execute_result"
    }
   ],
   "source": [
    "sum_func3()"
   ]
  },
  {
   "cell_type": "code",
   "execution_count": 120,
   "metadata": {},
   "outputs": [
    {
     "data": {
      "text/plain": [
       "7"
      ]
     },
     "execution_count": 120,
     "metadata": {},
     "output_type": "execute_result"
    }
   ],
   "source": [
    "sum_func3(5)"
   ]
  },
  {
   "cell_type": "code",
   "execution_count": 121,
   "metadata": {},
   "outputs": [
    {
     "data": {
      "text/plain": [
       "14"
      ]
     },
     "execution_count": 121,
     "metadata": {},
     "output_type": "execute_result"
    }
   ],
   "source": [
    "sum_func3(5, 9)"
   ]
  },
  {
   "cell_type": "code",
   "execution_count": 71,
   "metadata": {},
   "outputs": [],
   "source": [
    "def sum_func4(f, x, y):\n",
    "    return f(x,y)"
   ]
  },
  {
   "cell_type": "code",
   "execution_count": 72,
   "metadata": {},
   "outputs": [
    {
     "data": {
      "text/plain": [
       "12"
      ]
     },
     "execution_count": 72,
     "metadata": {},
     "output_type": "execute_result"
    }
   ],
   "source": [
    "sum_func4(lambda x,y:x+y, 5, 7)"
   ]
  },
  {
   "cell_type": "code",
   "execution_count": 74,
   "metadata": {},
   "outputs": [
    {
     "data": {
      "text/plain": [
       "15"
      ]
     },
     "execution_count": 74,
     "metadata": {},
     "output_type": "execute_result"
    }
   ],
   "source": [
    "sum_func4(lambda x,y:x+y, 7, 8)"
   ]
  },
  {
   "cell_type": "code",
   "execution_count": null,
   "metadata": {},
   "outputs": [],
   "source": []
  },
  {
   "cell_type": "markdown",
   "metadata": {},
   "source": [
    "### map\n",
    "- map은 함수와 반복가능한 자료형을 받아 각 요소가 함수에 의해 수행된 결과를 리스트 형태의 자료형으로 리턴하는 함수\n",
    "- map(f, iterable) 형태로 사용 (f: 함수, iterable: 반복가능한 자료형)\n",
    "- 각 요소별로 반복문을 만들어서 "
   ]
  },
  {
   "cell_type": "code",
   "execution_count": 46,
   "metadata": {},
   "outputs": [],
   "source": [
    "def sum_two(numberList):\n",
    "    result = []\n",
    "    for number in numberList:\n",
    "        result.append(number + 2)\n",
    "    return result"
   ]
  },
  {
   "cell_type": "code",
   "execution_count": 47,
   "metadata": {},
   "outputs": [
    {
     "name": "stdout",
     "output_type": "stream",
     "text": [
      "numberList : [1, 2, 3, 4, 5, 6, 7, 8, 9]\n"
     ]
    },
    {
     "data": {
      "text/plain": [
       "[3, 4, 5, 6, 7, 8, 9, 10, 11]"
      ]
     },
     "execution_count": 47,
     "metadata": {},
     "output_type": "execute_result"
    }
   ],
   "source": [
    "numberList = range(1,10)\n",
    "print(\"numberList :\", list(numberList))\n",
    "sum_two(numberList)"
   ]
  },
  {
   "cell_type": "code",
   "execution_count": 48,
   "metadata": {},
   "outputs": [],
   "source": [
    "# map으로 구현\n",
    "def sum_two_map(number):\n",
    "    return number + 2"
   ]
  },
  {
   "cell_type": "code",
   "execution_count": 49,
   "metadata": {},
   "outputs": [
    {
     "name": "stdout",
     "output_type": "stream",
     "text": [
      "numberList : [1, 2, 3, 4, 5, 6, 7, 8, 9]\n"
     ]
    },
    {
     "data": {
      "text/plain": [
       "[3, 4, 5, 6, 7, 8, 9, 10, 11]"
      ]
     },
     "execution_count": 49,
     "metadata": {},
     "output_type": "execute_result"
    }
   ],
   "source": [
    "numberList = range(1,10)\n",
    "print(\"numberList :\", list(numberList))\n",
    "list(map(sum_two_map, numberList))"
   ]
  },
  {
   "cell_type": "code",
   "execution_count": 50,
   "metadata": {},
   "outputs": [
    {
     "name": "stdout",
     "output_type": "stream",
     "text": [
      "numberList : [1, 2, 3, 4, 5, 6, 7, 8, 9]\n"
     ]
    },
    {
     "data": {
      "text/plain": [
       "[3, 4, 5, 6, 7, 8, 9, 10, 11]"
      ]
     },
     "execution_count": 50,
     "metadata": {},
     "output_type": "execute_result"
    }
   ],
   "source": [
    "# map과 lambda로 구현\n",
    "numberList = range(1,10)\n",
    "print(\"numberList :\", list(numberList))\n",
    "list(map(lambda number : number + 2, numberList))"
   ]
  },
  {
   "cell_type": "code",
   "execution_count": 51,
   "metadata": {},
   "outputs": [
    {
     "name": "stdout",
     "output_type": "stream",
     "text": [
      "numberList : [1, 2, 3, 4, 5, 6, 7, 8, 9]\n"
     ]
    },
    {
     "data": {
      "text/plain": [
       "[2, 4, 6, 6, 10, 8, 14, 10, 18]"
      ]
     },
     "execution_count": 51,
     "metadata": {},
     "output_type": "execute_result"
    }
   ],
   "source": [
    "# lambda에 if else 추가\n",
    "# 홀수에는 곱하기2 짝수에는 더하기2\n",
    "numberList = range(1,10)\n",
    "print(\"numberList :\", list(numberList))\n",
    "list(map(lambda number : number + 2 if number%2 == 0 else number * 2, numberList))"
   ]
  },
  {
   "cell_type": "code",
   "execution_count": 52,
   "metadata": {},
   "outputs": [
    {
     "name": "stdout",
     "output_type": "stream",
     "text": [
      "[0, 1, 2, 3, 4] [5, 6, 7, 8, 9, 10, 11]\n"
     ]
    },
    {
     "data": {
      "text/plain": [
       "[5, 7, 9, 11, 13]"
      ]
     },
     "execution_count": 52,
     "metadata": {},
     "output_type": "execute_result"
    }
   ],
   "source": [
    "# lambda에서 여러개의 리스트를 받아서 데이터 처리\n",
    "# 리스트의 수가 작은 데이터길이로 결과가 잘린다.\n",
    "numbers_1, numbers_2 = range(5), range(5,12)\n",
    "print(list(numbers_1), list(numbers_2))\n",
    "list(map(lambda n1, n2: n1 + n2, numbers_1, numbers_2))"
   ]
  },
  {
   "cell_type": "code",
   "execution_count": 53,
   "metadata": {},
   "outputs": [
    {
     "data": {
      "text/plain": [
       "['Kim', 'Lee', 'Park', 'Kim', 'Lee']"
      ]
     },
     "execution_count": 53,
     "metadata": {},
     "output_type": "execute_result"
    }
   ],
   "source": [
    "# 문제\n",
    "# map을 사용하여 사람이름에서 성만 결과로 출력하는 코드를 작성\n",
    "nameList = [\"Kim kildong\", \"Lee jeawoo\", \"Park sangjin\", \"Kim kilsoo\", \"Lee sungsim\"]\n",
    "result = list(map(lambda name : name.split(\" \")[0], nameList))\n",
    "result"
   ]
  },
  {
   "cell_type": "code",
   "execution_count": 54,
   "metadata": {},
   "outputs": [
    {
     "data": {
      "text/plain": [
       "['Kim', 'Lee', 'Park', 'Kim', 'Lee']"
      ]
     },
     "execution_count": 54,
     "metadata": {},
     "output_type": "execute_result"
    }
   ],
   "source": [
    "### map 직접 구현\n",
    "def mp(func, dataList):\n",
    "    for idx, data in enumerate(dataList):\n",
    "        dataList[idx] = func(data)\n",
    "    return dataList\n",
    "\n",
    "list(mp(lambda name : name.split(\" \")[0], nameList))"
   ]
  },
  {
   "cell_type": "markdown",
   "metadata": {},
   "source": [
    "### filter\n",
    "- 특정 조건에 맞는 데이터만 가져오는 함수"
   ]
  },
  {
   "cell_type": "code",
   "execution_count": 55,
   "metadata": {},
   "outputs": [
    {
     "data": {
      "text/plain": [
       "[0, 2, 4, 6, 8]"
      ]
     },
     "execution_count": 55,
     "metadata": {},
     "output_type": "execute_result"
    }
   ],
   "source": [
    "# 리스트에서 짝수 데이터만 가져오기\n",
    "def get_odd(numberList):\n",
    "    result = []\n",
    "    for number in numberList:\n",
    "        if number%2 == 0:\n",
    "            result.append(number)\n",
    "    return result\n",
    "\n",
    "numberList = range(10)\n",
    "get_odd(numberList)"
   ]
  },
  {
   "cell_type": "code",
   "execution_count": 56,
   "metadata": {},
   "outputs": [
    {
     "data": {
      "text/plain": [
       "([0, 2, 4, 6, 8], [0, 2, 4, 6, 8])"
      ]
     },
     "execution_count": 56,
     "metadata": {},
     "output_type": "execute_result"
    }
   ],
   "source": [
    "def odd1(number):\n",
    "    if number%2 == 0:\n",
    "        return True\n",
    "    return False\n",
    "\n",
    "def odd2(number):\n",
    "    return True if number%2 == 0 else False\n",
    "\n",
    "numberList = range(10)\n",
    "list(filter(odd1, numberList)), list(filter(odd2, numberList))"
   ]
  },
  {
   "cell_type": "code",
   "execution_count": 57,
   "metadata": {},
   "outputs": [
    {
     "data": {
      "text/plain": [
       "[0, 2, 4, 6, 8]"
      ]
     },
     "execution_count": 57,
     "metadata": {},
     "output_type": "execute_result"
    }
   ],
   "source": [
    "numberList = range(10)\n",
    "list(filter(lambda number : number % 2 == 0, numberList))"
   ]
  },
  {
   "cell_type": "code",
   "execution_count": 58,
   "metadata": {},
   "outputs": [
    {
     "data": {
      "text/plain": [
       "['Lee jeawoo', 'Lee sungsim']"
      ]
     },
     "execution_count": 58,
     "metadata": {},
     "output_type": "execute_result"
    }
   ],
   "source": [
    "# 문제\n",
    "# filter를 사용하여 사람 이름에서 성이 Lee인 사람의 이름만 결과로 출력하는 코드 작성\n",
    "nameList = [\"Kim kildong\", \"Lee jeawoo\", \"Park sangjin\", \"Kim kilsoo\", \"Lee sungsim\"]\n",
    "result = list(filter(lambda name : name.split(\" \")[0] == \"Lee\", nameList))\n",
    "result"
   ]
  },
  {
   "cell_type": "code",
   "execution_count": 59,
   "metadata": {},
   "outputs": [
    {
     "data": {
      "text/plain": [
       "['Lee jeawoo', 'Lee sungsim']"
      ]
     },
     "execution_count": 59,
     "metadata": {},
     "output_type": "execute_result"
    }
   ],
   "source": [
    "# filter를 직접구현\n",
    "def ft(func, dataList):\n",
    "    result = []\n",
    "    for data in dataList:\n",
    "        if func(data):\n",
    "            result.append(data)\n",
    "    return result\n",
    "\n",
    "list(filter(lambda name : name.split(\" \")[0] == \"Lee\", nameList))"
   ]
  },
  {
   "cell_type": "markdown",
   "metadata": {},
   "source": [
    "### reduce\n",
    "- 처음 값부터 순차적으로지정된 함수를 처리해주는 함수"
   ]
  },
  {
   "cell_type": "code",
   "execution_count": 60,
   "metadata": {},
   "outputs": [],
   "source": [
    "from functools import reduce"
   ]
  },
  {
   "cell_type": "code",
   "execution_count": 61,
   "metadata": {},
   "outputs": [
    {
     "data": {
      "text/plain": [
       "15"
      ]
     },
     "execution_count": 61,
     "metadata": {},
     "output_type": "execute_result"
    }
   ],
   "source": [
    "a = [3, 1, 5, 2, 4]\n",
    "reduce(lambda x, y: x + y, a)"
   ]
  },
  {
   "cell_type": "code",
   "execution_count": 62,
   "metadata": {},
   "outputs": [
    {
     "data": {
      "text/plain": [
       "5"
      ]
     },
     "execution_count": 62,
     "metadata": {},
     "output_type": "execute_result"
    }
   ],
   "source": [
    "# 가장 큰수를 구하기\n",
    "a = [3, 1, 5, 2, 4]\n",
    "reduce(lambda x, y: x if x > y else y, a)"
   ]
  },
  {
   "cell_type": "code",
   "execution_count": 63,
   "metadata": {},
   "outputs": [
    {
     "name": "stdout",
     "output_type": "stream",
     "text": [
      "Park sangjin\n"
     ]
    }
   ],
   "source": [
    "# 문제\n",
    "# reduce를 사용하여 이름의 길이가 가장 긴 사람을 출력하는 코드 작성\n",
    "nameList = [\"Kim kildong\", \"Lee jeawoo\", \"Park sangjin\", \"Kim kilsoo\", \"Lee sungsim\"]\n",
    "result = reduce(lambda name1, name2 : name1 if len(name1) > len(name2) else name2, nameList)\n",
    "print(result)"
   ]
  },
  {
   "cell_type": "code",
   "execution_count": 64,
   "metadata": {},
   "outputs": [
    {
     "data": {
      "text/plain": [
       "['Kim kildong : 11',\n",
       " 'Lee jeawoo : 10',\n",
       " 'Park sangjin : 12',\n",
       " 'Kim kilsoo : 10',\n",
       " 'Lee sungsim : 11']"
      ]
     },
     "execution_count": 64,
     "metadata": {},
     "output_type": "execute_result"
    }
   ],
   "source": [
    "# map을 이용하여 이름과 이름의 글자수를 출력하는 코드작성\n",
    "list(map(lambda name: name + \" : \" + str(len(name)), nameList))"
   ]
  },
  {
   "cell_type": "code",
   "execution_count": 65,
   "metadata": {},
   "outputs": [
    {
     "data": {
      "text/plain": [
       "'Park sangjin'"
      ]
     },
     "execution_count": 65,
     "metadata": {},
     "output_type": "execute_result"
    }
   ],
   "source": [
    "# reduce를 직접 구현\n",
    "def rd(func, dataList):\n",
    "    result = dataList[0]\n",
    "    del dataList[0]\n",
    "    for data in dataList:\n",
    "        result = func(result, data)\n",
    "    return result\n",
    "\n",
    "rd(lambda name1, name2 : name1 if len(name1) > len(name2) else name2, nameList)"
   ]
  },
  {
   "cell_type": "markdown",
   "metadata": {},
   "source": [
    "### decorator\n",
    "- 코드를 바꾸지 않고 사용하고 있는 함수를 수정하고 싶을 때 사용\n",
    "- `*args`, `**kwargs`, 내부함수, 함수인자 사용"
   ]
  },
  {
   "cell_type": "code",
   "execution_count": 66,
   "metadata": {},
   "outputs": [],
   "source": [
    "def disp_func(func):\n",
    "    def new_func(*args, **kwargs):\n",
    "        print(\"running function :\", func.__name__)\n",
    "        print(\"args :\", args)\n",
    "        print(\"kwargs :\", kwargs)\n",
    "        result = func(*args, **kwargs) # running func\n",
    "        print(\"result :\", result)\n",
    "        return result\n",
    "    return new_func"
   ]
  },
  {
   "cell_type": "code",
   "execution_count": 67,
   "metadata": {},
   "outputs": [
    {
     "data": {
      "text/plain": [
       "12"
      ]
     },
     "execution_count": 67,
     "metadata": {},
     "output_type": "execute_result"
    }
   ],
   "source": [
    "def sum_int(a, b):\n",
    "    return a + b\n",
    "sum_int(5, 7)"
   ]
  },
  {
   "cell_type": "code",
   "execution_count": 68,
   "metadata": {},
   "outputs": [
    {
     "name": "stdout",
     "output_type": "stream",
     "text": [
      "running function : sum_int\n",
      "args : (5, 7)\n",
      "kwargs : {}\n",
      "result : 12\n"
     ]
    },
    {
     "data": {
      "text/plain": [
       "12"
      ]
     },
     "execution_count": 68,
     "metadata": {},
     "output_type": "execute_result"
    }
   ],
   "source": [
    "# 수동으로 선언\n",
    "new_sum_int = disp_func(sum_int)\n",
    "new_sum_int(5,7)"
   ]
  },
  {
   "cell_type": "code",
   "execution_count": 69,
   "metadata": {},
   "outputs": [
    {
     "name": "stdout",
     "output_type": "stream",
     "text": [
      "running function : sum_int2\n",
      "args : (5, 7)\n",
      "kwargs : {}\n",
      "result : 12\n"
     ]
    },
    {
     "data": {
      "text/plain": [
       "12"
      ]
     },
     "execution_count": 69,
     "metadata": {},
     "output_type": "execute_result"
    }
   ],
   "source": [
    "@disp_func\n",
    "def sum_int2(a, b):\n",
    "    return a + b\n",
    "sum_int2(5, 7)"
   ]
  },
  {
   "cell_type": "markdown",
   "metadata": {},
   "source": [
    "##### 함수의 실행 시간을 알려주는 decorator"
   ]
  },
  {
   "cell_type": "code",
   "execution_count": 70,
   "metadata": {},
   "outputs": [],
   "source": [
    "import time\n",
    "def timer(func):\n",
    "    def wrapper(*args, **kwargs): # 함수 정의부 packing\n",
    "        print(\"function name :\", func.__name__)\n",
    "        start_time = time.time()\n",
    "        result = func(*args, **kwargs) # 함수 호출부 unpacking\n",
    "        print(\"result :\", result)\n",
    "        end_time = time.time()\n",
    "        print(\"time : {time}\".format(time = end_time - start_time))\n",
    "        return result\n",
    "    return wrapper # 새로운 함수를 만들고, 그 함수를 return 하는 함수 => decorator 함수"
   ]
  },
  {
   "cell_type": "code",
   "execution_count": 71,
   "metadata": {},
   "outputs": [],
   "source": [
    "@timer\n",
    "def sum_func_1(start_number, last_number):\n",
    "    data = range(start_number, last_number + 1)\n",
    "    return sum(data)\n",
    "\n",
    "@timer\n",
    "def sum_func_2(start_number, last_number):\n",
    "    result = 0\n",
    "    for num in range(start_number, last_number + 1):\n",
    "        result += num\n",
    "    return result\n",
    "\n",
    "@timer\n",
    "def sum_func_3(start_number, last_number):\n",
    "    number_list = [ num for num in range(start_number, last_number + 1)]\n",
    "    return sum(number_list)"
   ]
  },
  {
   "cell_type": "code",
   "execution_count": 72,
   "metadata": {},
   "outputs": [
    {
     "name": "stdout",
     "output_type": "stream",
     "text": [
      "function name : sum_func_1\n",
      "result : 50000005000000\n",
      "time : 0.20468521118164062\n",
      "function name : sum_func_2\n",
      "result : 50000005000000\n",
      "time : 0.6454248428344727\n",
      "function name : sum_func_3\n",
      "result : 50000005000000\n",
      "time : 0.709773063659668\n"
     ]
    },
    {
     "data": {
      "text/plain": [
       "50000005000000"
      ]
     },
     "execution_count": 72,
     "metadata": {},
     "output_type": "execute_result"
    }
   ],
   "source": [
    "start_number, last_number = 1, 10000000\n",
    "sum_func_1(start_number, last_number)\n",
    "sum_func_2(start_number, last_number)\n",
    "sum_func_3(start_number, last_number)"
   ]
  }
 ],
 "metadata": {
  "kernelspec": {
   "display_name": "Python 3",
   "language": "python",
   "name": "python3"
  },
  "language_info": {
   "codemirror_mode": {
    "name": "ipython",
    "version": 3
   },
   "file_extension": ".py",
   "mimetype": "text/x-python",
   "name": "python",
   "nbconvert_exporter": "python",
   "pygments_lexer": "ipython3",
   "version": "3.6.2"
  }
 },
 "nbformat": 4,
 "nbformat_minor": 2
}
