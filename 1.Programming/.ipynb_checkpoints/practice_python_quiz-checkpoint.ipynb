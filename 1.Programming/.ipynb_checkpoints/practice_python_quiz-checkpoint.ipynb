{
 "cells": [
  {
   "cell_type": "markdown",
   "metadata": {},
   "source": [
    "# Quiz"
   ]
  },
  {
   "cell_type": "markdown",
   "metadata": {},
   "source": [
    "##### ?? 1. 5명의 이름을 입력 받아 kim인 성을 가진 사람의 수를 출력\n",
    "- [성(공백)이름] 형태로만 입력(ex : park doojin)"
   ]
  },
  {
   "cell_type": "code",
   "execution_count": null,
   "metadata": {},
   "outputs": [],
   "source": [
    "value = input(\"insert name : \")\n",
    "\n",
    "name_count = 1\n",
    "\n",
    "while attemp < 6\n",
    "    for name in value:\n",
    "        if value.split(\" \")[0] == \"kim \" or \"Kim \":\n",
    "            name_count = (name_count + 1)\n",
    "\n",
    "\n",
    "    print(name_count)"
   ]
  },
  {
   "cell_type": "code",
   "execution_count": null,
   "metadata": {},
   "outputs": [],
   "source": [
    "# 강사님 코드\n",
    "\n",
    "names = []\n",
    "\n",
    "for _ in range(5):\n",
    "    name = input(\"insert name : \")\n",
    "    names.append(name)\n",
    "\n",
    "# ------------------------------------------ 다섯 명을 받자    \n",
    "    \n",
    "names = ['kim sung', 'kim doojin', 'park data', 'park chanho', 'seo luca']\n",
    "\n",
    "# ------------------------------------------ 입력 받은 다섯 명 이름의 리스트\n",
    "\n",
    "count = 0\n",
    "\n",
    "# ------------------------------------------ 제일 첫 카운트는 언제나 0\n",
    "\n",
    "for name in names:\n",
    "    family_name = name.split(\" \")[0].lower()\n",
    "    if family_name == \"kim\" :\n",
    "        count += 1\n",
    "\n",
    "names, count"
   ]
  },
  {
   "cell_type": "markdown",
   "metadata": {},
   "source": []
  },
  {
   "cell_type": "markdown",
   "metadata": {},
   "source": [
    "##### OK 2. 2단에서 9단까지 구구단을 출력하는 프로그램을 작성"
   ]
  },
  {
   "cell_type": "markdown",
   "metadata": {},
   "source": [
    "- 가로로 출력"
   ]
  },
  {
   "cell_type": "code",
   "execution_count": null,
   "metadata": {},
   "outputs": [],
   "source": [
    "for a in range(2, 10):\n",
    "    print('\\n')\n",
    "    print(a,\"단\")\n",
    "    for b in range(1, 10):\n",
    "        print(a,\"x\",b, \"=\", a*b, end=\"\\t\")\n",
    " "
   ]
  },
  {
   "cell_type": "code",
   "execution_count": 2,
   "metadata": {},
   "outputs": [
    {
     "name": "stdout",
     "output_type": "stream",
     "text": [
      "2단\n",
      "2*1=2\n",
      "2*2=4\n",
      "2*3=6\n",
      "2*4=8\n",
      "2*5=10\n",
      "2*6=12\n",
      "2*7=14\n",
      "2*8=16\n",
      "2*9=18\n",
      "\n",
      "3단\n",
      "3*1=3\n",
      "3*2=6\n",
      "3*3=9\n",
      "3*4=12\n",
      "3*5=15\n",
      "3*6=18\n",
      "3*7=21\n",
      "3*8=24\n",
      "3*9=27\n",
      "\n",
      "4단\n",
      "4*1=4\n",
      "4*2=8\n",
      "4*3=12\n",
      "4*4=16\n",
      "4*5=20\n",
      "4*6=24\n",
      "4*7=28\n",
      "4*8=32\n",
      "4*9=36\n",
      "\n",
      "5단\n",
      "5*1=5\n",
      "5*2=10\n",
      "5*3=15\n",
      "5*4=20\n",
      "5*5=25\n",
      "5*6=30\n",
      "5*7=35\n",
      "5*8=40\n",
      "5*9=45\n",
      "\n",
      "6단\n",
      "6*1=6\n",
      "6*2=12\n",
      "6*3=18\n",
      "6*4=24\n",
      "6*5=30\n",
      "6*6=36\n",
      "6*7=42\n",
      "6*8=48\n",
      "6*9=54\n",
      "\n",
      "7단\n",
      "7*1=7\n",
      "7*2=14\n",
      "7*3=21\n",
      "7*4=28\n",
      "7*5=35\n",
      "7*6=42\n",
      "7*7=49\n",
      "7*8=56\n",
      "7*9=63\n",
      "\n",
      "8단\n",
      "8*1=8\n",
      "8*2=16\n",
      "8*3=24\n",
      "8*4=32\n",
      "8*5=40\n",
      "8*6=48\n",
      "8*7=56\n",
      "8*8=64\n",
      "8*9=72\n",
      "\n",
      "9단\n",
      "9*1=9\n",
      "9*2=18\n",
      "9*3=27\n",
      "9*4=36\n",
      "9*5=45\n",
      "9*6=54\n",
      "9*7=63\n",
      "9*8=72\n",
      "9*9=81\n",
      "\n"
     ]
    }
   ],
   "source": [
    "# 강사님 코드\n",
    "\n",
    "for num1 in range(2,10):\n",
    "    print(\"{}단\".format(num1))\n",
    "    for num2 in range(1,10):\n",
    "        print(\"{}*{}={}\".format(num1,num2, num1*num2))\n",
    "    print()"
   ]
  },
  {
   "cell_type": "markdown",
   "metadata": {},
   "source": [
    "- 세로로 출력"
   ]
  },
  {
   "cell_type": "code",
   "execution_count": null,
   "metadata": {},
   "outputs": [],
   "source": [
    "for a in range(2, 10):\n",
    "    print('\\n')\n",
    "    print(a,\"단\")\n",
    "    for b in range(1, 11):\n",
    "        print(a,\"x\",b, \"=\", a*b)"
   ]
  },
  {
   "cell_type": "code",
   "execution_count": 1,
   "metadata": {},
   "outputs": [
    {
     "name": "stdout",
     "output_type": "stream",
     "text": [
      "1*2=2\t2*2=4\t3*2=6\t4*2=8\t5*2=10\t6*2=12\t7*2=14\t8*2=16\t9*2=18\t1*3=3\t2*3=6\t3*3=9\t4*3=12\t5*3=15\t6*3=18\t7*3=21\t8*3=24\t9*3=27\t1*4=4\t2*4=8\t3*4=12\t4*4=16\t5*4=20\t6*4=24\t7*4=28\t8*4=32\t9*4=36\t1*5=5\t2*5=10\t3*5=15\t4*5=20\t5*5=25\t6*5=30\t7*5=35\t8*5=40\t9*5=45\t1*6=6\t2*6=12\t3*6=18\t4*6=24\t5*6=30\t6*6=36\t7*6=42\t8*6=48\t9*6=54\t1*7=7\t2*7=14\t3*7=21\t4*7=28\t5*7=35\t6*7=42\t7*7=49\t8*7=56\t9*7=63\t1*8=8\t2*8=16\t3*8=24\t4*8=32\t5*8=40\t6*8=48\t7*8=56\t8*8=64\t9*8=72\t1*9=9\t2*9=18\t3*9=27\t4*9=36\t5*9=45\t6*9=54\t7*9=63\t8*9=72\t9*9=81\t1*10=10\t2*10=20\t3*10=30\t4*10=40\t5*10=50\t6*10=60\t7*10=70\t8*10=80\t9*10=90\t"
     ]
    }
   ],
   "source": [
    "# 강사님 코드 (보고 수정 필요)\n",
    "\n",
    "for num3 in range(2,11):\n",
    "    for num4 in range(1,10):\n",
    "        print(\"{}*{}={}\".format(num4, num3, num4*num3), end=\"\\t\")"
   ]
  },
  {
   "cell_type": "markdown",
   "metadata": {},
   "source": [
    "- 입력 받은 단수의 구구단을 출력"
   ]
  },
  {
   "cell_type": "code",
   "execution_count": null,
   "metadata": {},
   "outputs": [],
   "source": [
    "value = input(\"Insert number (2-9) : \")\n",
    "\n",
    "\n",
    "for number in value:\n",
    "    number = int(value)\n",
    "    print(number,\"단\")\n",
    "    for b in range(1, 10):\n",
    "        print(number, \"x\", b, \"=\", a*b)\n"
   ]
  },
  {
   "cell_type": "code",
   "execution_count": null,
   "metadata": {},
   "outputs": [],
   "source": [
    "# 강사님 코드\n",
    "\n",
    "num1 = int(input(\"insert number : \"))\n",
    "\n",
    "for num2 in range(1,10):\n",
    "    print(\"{}*{}={}\".format(num1, num2, num1*num2))"
   ]
  },
  {
   "cell_type": "markdown",
   "metadata": {},
   "source": [
    "##### ?? 4. up down으로 숫자 맞추기 게임\n",
    "- 랜덤으로 숫자(1~100)를 발생시킴\n",
    "- 숫자를 입력받아 랜덤숫자가 입력받은 숫자보다 크면 Up을 출력, 작으면 Down을 출력\n",
    "- 랜덤 숫자를 맞추면 몇번만에 맞췄는지 카운트를 알려줌\n",
    "- 랜덤수 발생 방법\n",
    "```\n",
    "import random\n",
    "random_number = random.randint(1,100)\n",
    "```"
   ]
  },
  {
   "cell_type": "code",
   "execution_count": null,
   "metadata": {},
   "outputs": [],
   "source": [
    "import random\n",
    "random_number = random.randint(1,100)\n",
    "\n",
    "\n",
    "while random_number > 0:\n",
    "    count = 0\n",
    "    guess_num = int(input(\"input number : \"))\n",
    "    \n",
    "    if guess_num > random_number:\n",
    "        print(\"Up\")\n",
    "        count += 1\n",
    "    elif guess_num < random_number:\n",
    "        print(\"Down\")\n",
    "        count += 1\n",
    "    else :\n",
    "        print(\"Correct! You tried\", count, \"attempt(s)!\")\n",
    "        \n",
    "    "
   ]
  },
  {
   "cell_type": "code",
   "execution_count": 2,
   "metadata": {},
   "outputs": [
    {
     "name": "stdout",
     "output_type": "stream",
     "text": [
      "insert number : 50\n",
      "Down\n",
      "insert number : 40\n",
      "Up\n",
      "insert number : 45\n",
      "3번 만에 맞추셨습니다.\n"
     ]
    }
   ],
   "source": [
    "# 강사님 코드\n",
    "\n",
    "# 랜덤 숫자 추출\n",
    "import random\n",
    "random_num = random.randint(1,100)\n",
    "\n",
    "#count 설정\n",
    "count = 0\n",
    "\n",
    "# 반복할 때는 while, true\n",
    "while True:\n",
    "    input_num = int(input(\"insert number : \"))\n",
    "\n",
    "    count += 1\n",
    "\n",
    "    if random_num < input_num:\n",
    "        print(\"Down\")\n",
    "    elif random_num > input_num:\n",
    "        print(\"Up\")\n",
    "    else:\n",
    "        print(\"{}번 만에 맞추셨습니다.\".format(count))\n",
    "        break"
   ]
  },
  {
   "cell_type": "markdown",
   "metadata": {},
   "source": [
    "##### 5. 로또번호 출력\n",
    "- 1~45의 6자리의 로또번호를 출력"
   ]
  },
  {
   "cell_type": "code",
   "execution_count": 4,
   "metadata": {},
   "outputs": [
    {
     "name": "stdout",
     "output_type": "stream",
     "text": [
      "[5, 11, 22, 27, 36, 13]\n"
     ]
    }
   ],
   "source": [
    "import random\n",
    "random_number = random.sample(range(1, 46), 6)\n",
    "\n",
    "print(random_number)"
   ]
  },
  {
   "cell_type": "code",
   "execution_count": 49,
   "metadata": {},
   "outputs": [
    {
     "name": "stdout",
     "output_type": "stream",
     "text": [
      "[24, 10, 44, 22, 36, 21]\n"
     ]
    }
   ],
   "source": [
    "import random\n",
    "\n",
    "lottery = []\n",
    "count = 0\n",
    "\n",
    "while True:\n",
    "    \n",
    "    count += 1\n",
    "    if count < 7:\n",
    "        random_number = random.randint(1,45)\n",
    "        lottery.append(random_number)\n",
    "    else:\n",
    "        print(lottery)\n",
    "        break"
   ]
  },
  {
   "cell_type": "markdown",
   "metadata": {},
   "source": [
    "##### 6. FizzBuzz\n",
    "- 1에서 1씩 숫자를 입력받은 숫자까지 증가시키며 3의 배수에서는 Fizz 5의 배수에서는 Buzz 가 출력되도록 프로그램을 작성\n",
    "- 3과 5의 배수에서는 FizzBuzz가 출력"
   ]
  },
  {
   "cell_type": "code",
   "execution_count": 51,
   "metadata": {},
   "outputs": [
    {
     "name": "stdout",
     "output_type": "stream",
     "text": [
      "input number : 70\n"
     ]
    },
    {
     "data": {
      "text/plain": [
       "<generator object <genexpr> at 0x106626eb8>"
      ]
     },
     "execution_count": 51,
     "metadata": {},
     "output_type": "execute_result"
    }
   ],
   "source": [
    "a = int(input(\"input number : \"))\n",
    "\n",
    "result = [\"FizzBuzz\" if a % 3 == 0 and a % 5 == 0 \n",
    "          else \"Fizz\" if a % 3 == 0 \n",
    "          else \"Buzz\" if a % 5 == 0 \n",
    "          else a for a in range(1, a)]\n",
    "\n",
    "result\n",
    "\n",
    "\n",
    "### 왜 \"FizzBuzz\"가 먼저 와야하는지?   리스트의 대괄호를 제외하고 그대로 출력되게 만드려면?"
   ]
  },
  {
   "cell_type": "markdown",
   "metadata": {},
   "source": [
    "##### 7. 별찍기 "
   ]
  },
  {
   "cell_type": "markdown",
   "metadata": {},
   "source": [
    "- 숫자를 입력 받아 아래와 같이 별찍기 1"
   ]
  },
  {
   "cell_type": "code",
   "execution_count": 53,
   "metadata": {},
   "outputs": [
    {
     "name": "stdout",
     "output_type": "stream",
     "text": [
      "input num : 10\n",
      "*\n",
      "**\n",
      "***\n",
      "****\n",
      "*****\n",
      "******\n",
      "*******\n",
      "********\n",
      "*********\n",
      "**********\n",
      "***********\n"
     ]
    }
   ],
   "source": [
    "num = int(input(\"input num : \"))\n",
    "count=0\n",
    "\n",
    "while True:\n",
    "    count += 1\n",
    "    print(\"*\" * count)\n",
    "    \n",
    "    if count < num+1:\n",
    "        continue\n",
    "    else:\n",
    "        break"
   ]
  },
  {
   "cell_type": "markdown",
   "metadata": {},
   "source": [
    "```\n",
    "insert number : 10\n",
    "*\n",
    "**\n",
    "***\n",
    "****\n",
    "*****\n",
    "******\n",
    "*******\n",
    "********\n",
    "*********\n",
    "**********\n",
    "```"
   ]
  },
  {
   "cell_type": "markdown",
   "metadata": {},
   "source": [
    "- 숫자를 입력받아 아래와 같이 별찍기 2"
   ]
  },
  {
   "cell_type": "code",
   "execution_count": 59,
   "metadata": {},
   "outputs": [
    {
     "name": "stdout",
     "output_type": "stream",
     "text": [
      "input num : 10\n",
      "         *\n",
      "        **\n",
      "       ***\n",
      "      ****\n",
      "     *****\n",
      "    ******\n",
      "   *******\n",
      "  ********\n",
      " *********\n",
      "**********\n"
     ]
    }
   ],
   "source": [
    "num = int(input(\"input num : \"))\n",
    "num2 = num\n",
    "count=0\n",
    "\n",
    "while True:\n",
    "    count += 1\n",
    "    print(\" \"*(num-1) + \"*\"*count )\n",
    "    num -= 1\n",
    "    if count < num2:\n",
    "        continue\n",
    "    else:\n",
    "        break"
   ]
  },
  {
   "cell_type": "markdown",
   "metadata": {},
   "source": [
    "```\n",
    "insert number : 10\n",
    "         *\n",
    "        **\n",
    "       ***\n",
    "      ****\n",
    "     *****\n",
    "    ******\n",
    "   *******\n",
    "  ********\n",
    " *********\n",
    "**********\n",
    "```"
   ]
  },
  {
   "cell_type": "markdown",
   "metadata": {},
   "source": [
    "- 홀수를 입력 받아 아래와 같이 별을 찍으세요 3"
   ]
  },
  {
   "cell_type": "code",
   "execution_count": 63,
   "metadata": {},
   "outputs": [
    {
     "name": "stdout",
     "output_type": "stream",
     "text": [
      "input num : 4\n"
     ]
    },
    {
     "ename": "TypeError",
     "evalue": "'int' object is not iterable",
     "output_type": "error",
     "traceback": [
      "\u001b[0;31m---------------------------------------------------------------------------\u001b[0m",
      "\u001b[0;31mTypeError\u001b[0m                                 Traceback (most recent call last)",
      "\u001b[0;32m<ipython-input-63-5e6ceb50d7d8>\u001b[0m in \u001b[0;36m<module>\u001b[0;34m()\u001b[0m\n\u001b[1;32m      1\u001b[0m \u001b[0mnum\u001b[0m \u001b[0;34m=\u001b[0m \u001b[0mint\u001b[0m\u001b[0;34m(\u001b[0m\u001b[0minput\u001b[0m\u001b[0;34m(\u001b[0m\u001b[0;34m\"input num : \"\u001b[0m\u001b[0;34m)\u001b[0m\u001b[0;34m)\u001b[0m\u001b[0;34m\u001b[0m\u001b[0m\n\u001b[1;32m      2\u001b[0m \u001b[0;34m\u001b[0m\u001b[0m\n\u001b[0;32m----> 3\u001b[0;31m \u001b[0;32mfor\u001b[0m \u001b[0mint\u001b[0m \u001b[0;32min\u001b[0m \u001b[0mnum\u001b[0m\u001b[0;34m:\u001b[0m\u001b[0;34m\u001b[0m\u001b[0m\n\u001b[0m\u001b[1;32m      4\u001b[0m     \u001b[0;32mif\u001b[0m \u001b[0mnum\u001b[0m \u001b[0;34m%\u001b[0m \u001b[0;36m2\u001b[0m \u001b[0;34m==\u001b[0m \u001b[0;36m0\u001b[0m\u001b[0;34m:\u001b[0m\u001b[0;34m\u001b[0m\u001b[0m\n\u001b[1;32m      5\u001b[0m         \u001b[0mnum\u001b[0m \u001b[0;34m=\u001b[0m \u001b[0minput\u001b[0m\u001b[0;34m(\u001b[0m\u001b[0;34m\"input odd num: \"\u001b[0m\u001b[0;34m)\u001b[0m\u001b[0;34m\u001b[0m\u001b[0m\n",
      "\u001b[0;31mTypeError\u001b[0m: 'int' object is not iterable"
     ]
    }
   ],
   "source": [
    "num = int(input(\"input num : \"))\n",
    "\n",
    "for int in num:\n",
    "    if num % 2 == 0:\n",
    "        num = input(\"input odd num: \")\n",
    "\n",
    "num2 = num\n",
    "count=0\n",
    "\n",
    "while True:\n",
    "    count += 1\n",
    "    print(\" \"*(num-1) + \"*\"*count )\n",
    "    num -= 1\n",
    "    if count < num2:\n",
    "        continue\n",
    "    else:\n",
    "        break"
   ]
  },
  {
   "cell_type": "markdown",
   "metadata": {},
   "source": [
    "```\n",
    "insert number : 7\n",
    "   *\n",
    "  ***\n",
    " *****\n",
    "*******\n",
    "```"
   ]
  },
  {
   "cell_type": "markdown",
   "metadata": {},
   "source": [
    "- 홀수를 입력 받아 아래와 같이 별을 찍으세요 4"
   ]
  },
  {
   "cell_type": "code",
   "execution_count": null,
   "metadata": {},
   "outputs": [],
   "source": []
  },
  {
   "cell_type": "markdown",
   "metadata": {},
   "source": [
    "```\n",
    "insert number : 7\n",
    "   *\n",
    "  ***\n",
    " *****\n",
    "*******\n",
    "```"
   ]
  },
  {
   "cell_type": "markdown",
   "metadata": {},
   "source": [
    "- 홀수의 숫자를 입력받아 다이아몬드 형태의 별을 찍음 5"
   ]
  },
  {
   "cell_type": "markdown",
   "metadata": {},
   "source": [
    "```\n",
    "insert number : 7\n",
    "   *\n",
    "  ***\n",
    " *****\n",
    "*******\n",
    " *****\n",
    "  ***\n",
    "   *\n",
    "```"
   ]
  },
  {
   "cell_type": "markdown",
   "metadata": {},
   "source": [
    "##### 8. 보어 구하기\n",
    "- complement (보어)를 구하시오\n",
    "- 50의 이진수는 110010\n",
    "- 이진수 110010의 보어는 001101 (0을 1로바꾸고 1을 0으로 바꿈)\n",
    "- 입력된 숫자의 보어를 10진수로 나타내시오\n",
    "\n",
    "결과 예시\n",
    "- 50 -> 13\n",
    "- 100 -> 27\n",
    "\n",
    "힌트\n",
    "- 10진수를 2진수로 변환 : bin(n)\n",
    "- 2진수를 10진수로 변환 : int(n,2)"
   ]
  },
  {
   "cell_type": "code",
   "execution_count": null,
   "metadata": {},
   "outputs": [],
   "source": []
  },
  {
   "cell_type": "markdown",
   "metadata": {},
   "source": [
    "##### 9. Bit Manipulation: Lonely Integer\n",
    "- https://www.hackerrank.com/challenges/ctci-lonely-integer/problem\n",
    "- 리스트에 하나만 있는 데이터 찾아내서 출력하기\n",
    "- ls 리스트에 있는 데이터의 카운트를 세서 딕셔너리 형태로 바꿔줌\n",
    "```\n",
    "from collections import Counter \n",
    "d = dict(Counter(ls))\n",
    "```\n",
    "- [1,1,2,2,3] (입력) -> 3 (결과)\n",
    "- [1,1,2,2] (입력) -> None (결과)"
   ]
  },
  {
   "cell_type": "code",
   "execution_count": 33,
   "metadata": {},
   "outputs": [
    {
     "data": {
      "text/plain": [
       "{1: 2, 2: 3, 3: 1, 5: 1}"
      ]
     },
     "execution_count": 33,
     "metadata": {},
     "output_type": "execute_result"
    }
   ],
   "source": [
    "from collections import Counter \n",
    "\n",
    "ls = [1,1,2,5,2,2,3]\n",
    "d = dict(Counter(ls))\n",
    "d\n",
    "\n",
    "# items 사용"
   ]
  },
  {
   "cell_type": "markdown",
   "metadata": {},
   "source": [
    "##### 10. Recursion: Fibonacci Numbers\n",
    "- https://www.hackerrank.com/challenges/ctci-fibonacci-numbers/problem\n",
    "- 피보나치 수열 초기값 a=0, b=1 에서 a는 b값이 되고 b는 a+b가 되는 a를 나열한 수열"
   ]
  },
  {
   "cell_type": "code",
   "execution_count": null,
   "metadata": {},
   "outputs": [],
   "source": [
    "# n 번째 피보나치 수열의 숫자\n",
    "n = 10\n",
    "a, b = 0, 1\n",
    "# TODO"
   ]
  },
  {
   "cell_type": "code",
   "execution_count": null,
   "metadata": {},
   "outputs": [],
   "source": [
    "# n 까지 피보나치 수열의 숫자들\n",
    "n = 1000\n",
    "a, b = 0, 1\n",
    "# TODO"
   ]
  },
  {
   "cell_type": "code",
   "execution_count": null,
   "metadata": {},
   "outputs": [],
   "source": []
  }
 ],
 "metadata": {
  "kernelspec": {
   "display_name": "Python 3",
   "language": "python",
   "name": "python3"
  },
  "language_info": {
   "codemirror_mode": {
    "name": "ipython",
    "version": 3
   },
   "file_extension": ".py",
   "mimetype": "text/x-python",
   "name": "python",
   "nbconvert_exporter": "python",
   "pygments_lexer": "ipython3",
   "version": "3.6.2"
  }
 },
 "nbformat": 4,
 "nbformat_minor": 2
}
