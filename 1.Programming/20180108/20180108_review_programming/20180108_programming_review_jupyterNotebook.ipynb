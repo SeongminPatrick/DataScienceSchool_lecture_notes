{
 "cells": [
  {
   "cell_type": "markdown",
   "metadata": {},
   "source": [
    "#### Markdown"
   ]
  },
  {
   "cell_type": "markdown",
   "metadata": {},
   "source": [
    "\n",
    "# 머리말 Heading\n",
    "## Head\n",
    "### Head\n",
    "#### Head\n",
    "##### Head"
   ]
  },
  {
   "cell_type": "markdown",
   "metadata": {},
   "source": [
    "# 인용 Blockquotes\n",
    "\n",
    "> dss\n",
    ">> datascience\n",
    ">>> datascience school"
   ]
  },
  {
   "cell_type": "markdown",
   "metadata": {},
   "source": [
    "# List\n",
    "\n",
    "- data1\n",
    " - data2\n",
    "* data3\n",
    " * data4\n",
    "   * data5"
   ]
  },
  {
   "cell_type": "markdown",
   "metadata": {},
   "source": [
    "# 코드 Code Block\n",
    "\n",
    "> Code\n",
    "```\n",
    "- code\n",
    "* list\n",
    "```"
   ]
  },
  {
   "cell_type": "markdown",
   "metadata": {},
   "source": [
    "# Link\n",
    "\n",
    "http://www.hiphople.com\n",
    "\n",
    "[힙합엘이](http://www.hiphople.com)"
   ]
  },
  {
   "cell_type": "markdown",
   "metadata": {},
   "source": [
    "# 가로선 긋기\n",
    "\n",
    "----------------"
   ]
  },
  {
   "cell_type": "markdown",
   "metadata": {},
   "source": [
    "# 1. Magic Command ( % )"
   ]
  },
  {
   "cell_type": "markdown",
   "metadata": {},
   "source": [
    "1.1 Decribes the function"
   ]
  },
  {
   "cell_type": "code",
   "execution_count": 1,
   "metadata": {
    "collapsed": true
   },
   "outputs": [],
   "source": [
    "# example\n",
    "\n",
    "def test():\n",
    "    \"\"\"\n",
    "    Write docstring here\n",
    "    \"\"\"\n",
    "    print(\"test\")"
   ]
  },
  {
   "cell_type": "code",
   "execution_count": 3,
   "metadata": {},
   "outputs": [
    {
     "name": "stdout",
     "output_type": "stream",
     "text": [
      "test\n"
     ]
    }
   ],
   "source": [
    "test()"
   ]
  },
  {
   "cell_type": "code",
   "execution_count": 8,
   "metadata": {
    "collapsed": true
   },
   "outputs": [],
   "source": [
    "test?\n",
    "\n",
    "#shows docstring, directory, type"
   ]
  },
  {
   "cell_type": "code",
   "execution_count": 10,
   "metadata": {
    "collapsed": true
   },
   "outputs": [],
   "source": [
    "test??\n",
    "\n",
    "# shows docstring, directory, type & codes"
   ]
  },
  {
   "cell_type": "markdown",
   "metadata": {},
   "source": [
    "1.2 Saving to .py file"
   ]
  },
  {
   "cell_type": "code",
   "execution_count": 11,
   "metadata": {},
   "outputs": [
    {
     "name": "stdout",
     "output_type": "stream",
     "text": [
      "Writing review.py\n"
     ]
    }
   ],
   "source": [
    "%%writefile review.py\n",
    "print(\"review day1\")\n",
    "print(1 + 2)\n",
    "print(\"Hello World\")"
   ]
  },
  {
   "cell_type": "code",
   "execution_count": 13,
   "metadata": {},
   "outputs": [
    {
     "name": "stdout",
     "output_type": "stream",
     "text": [
      "20180108_programming_review_jupyterNotebook.ipynb\r\n",
      "20180108_programming_review_python_basicSyntax.ipynb\r\n",
      "review.py\r\n"
     ]
    }
   ],
   "source": [
    "%ls\n",
    "\n",
    "# check list in the directory (current folder)"
   ]
  },
  {
   "cell_type": "code",
   "execution_count": 14,
   "metadata": {},
   "outputs": [
    {
     "name": "stdout",
     "output_type": "stream",
     "text": [
      "review day1\n",
      "3\n",
      "Hello World\n"
     ]
    }
   ],
   "source": [
    "%run review.py"
   ]
  },
  {
   "cell_type": "markdown",
   "metadata": {},
   "source": [
    "1.3 Load file"
   ]
  },
  {
   "cell_type": "code",
   "execution_count": null,
   "metadata": {
    "collapsed": true
   },
   "outputs": [],
   "source": [
    "# %load review.py\n",
    "print(\"review day1\")\n",
    "print(1 + 2)\n",
    "print(\"Hello World\")"
   ]
  },
  {
   "cell_type": "markdown",
   "metadata": {},
   "source": [
    "1.3 Test run-time"
   ]
  },
  {
   "cell_type": "code",
   "execution_count": 16,
   "metadata": {},
   "outputs": [
    {
     "name": "stdout",
     "output_type": "stream",
     "text": [
      "CPU times: user 4 µs, sys: 1e+03 ns, total: 5 µs\n",
      "Wall time: 6.91 µs\n"
     ]
    },
    {
     "data": {
      "text/plain": [
       "10715086071862673209484250490600018105614048117055336074437503883703510511249361224931983788156958581275946729175531468251871452856923140435984577574698574803934567774824230985421074605062371141877954182153046474983581941267398767559165543946077062914571196477686542167660429831652624386837205668069376"
      ]
     },
     "execution_count": 16,
     "metadata": {},
     "output_type": "execute_result"
    }
   ],
   "source": [
    "%%time\n",
    "2 ** 1000"
   ]
  },
  {
   "cell_type": "code",
   "execution_count": 18,
   "metadata": {},
   "outputs": [
    {
     "name": "stdout",
     "output_type": "stream",
     "text": [
      "16.9 ns ± 0.235 ns per loop (mean ± std. dev. of 7 runs, 100000000 loops each)\n"
     ]
    }
   ],
   "source": [
    "%%timeit\n",
    "2 ** 1000\n",
    "\n",
    "# Checks the run-time through various attempts, mean and calculate errors"
   ]
  },
  {
   "cell_type": "code",
   "execution_count": 47,
   "metadata": {},
   "outputs": [
    {
     "name": "stdout",
     "output_type": "stream",
     "text": [
      "# example\n",
      "\n",
      "def test():\n",
      "    \"\"\"\n",
      "    Write docstring here\n",
      "    \"\"\"\n",
      "    print(\"test\")\n",
      "test\n",
      "test()\n",
      "test?\n",
      "test??\n",
      "test?\n",
      "test??\n",
      "test?\n",
      "\n",
      "#shows docstring, directory, type\n",
      "test??\n",
      "\n",
      "# shows docstring, directory, type &\n",
      "test??\n",
      "\n",
      "# shows docstring, directory, type & codes\n",
      "%%writefile review.py\n",
      "print(\"review day1\")\n",
      "print(1 + 2)\n",
      "print(\"Hello World\")\n",
      "%ls\n",
      "\n",
      "# check list in the directory folder\n",
      "%ls\n",
      "\n",
      "# check list in the directory (current folder)\n",
      "%run review.py\n",
      "%load review.py\n",
      "%%time\n",
      "2 ** 1000\n",
      "%timeit\n",
      "2 ** 1000\n",
      "\n",
      "# Checks the run-time through various attempts, mean and calculate errors\n",
      "%%timeit\n",
      "2 ** 1000\n",
      "\n",
      "# Checks the run-time through various attempts, mean and calculate errors\n",
      "file_list = !ls\n",
      "file_list\n",
      "!echo{file_list}\n",
      "!echo {file_list}\n",
      "!echo{file_list}\n",
      "!echo {file_list}\n",
      "2.2 List of major Shell Commands\n",
      "```\n",
      "- ls : 파일 리스트 출력\n",
      "- echo : 파일 문자열 출력\n",
      "- touch : 파일 생성\n",
      "- cat : 파일 출력\n",
      "- mkdir : 디렉토리 생성 (폴더)\n",
      "- rmdir : 디렉토리 삭제\n",
      "- mv : 파일 이동 (덮어쓰기 가능)\n",
      "- cp : 파일 복사\n",
      "- rm : 파일 삭제\n",
      "- df : (disk free) 사용량 확인\n",
      "```\n",
      "!ls\n",
      "!echo\n",
      "!echo \"python\"\n",
      "!review2.py\n",
      "!touch review2.py\n",
      "!cat review2.py\n",
      "!ls\n",
      "file_list = !ls\n",
      "file_list\n",
      "!echo {file_list}\n",
      "mkdir new_foldere\n",
      "mkdir new_folder\n",
      "!ls\n",
      "rmdir new_foldere\n",
      "!ls\n",
      "!cp review2.py review3.py\n",
      "!ls\n",
      "!mv review3.py review2.py\n",
      "!ls\n",
      "!rm reveiw2.py\n",
      "!df\n",
      "%history\n"
     ]
    }
   ],
   "source": [
    "%history"
   ]
  },
  {
   "cell_type": "code",
   "execution_count": 49,
   "metadata": {
    "collapsed": true
   },
   "outputs": [],
   "source": [
    "%magic"
   ]
  },
  {
   "cell_type": "code",
   "execution_count": 50,
   "metadata": {},
   "outputs": [
    {
     "data": {
      "application/json": {
       "cell": {
        "!": "OSMagics",
        "HTML": "Other",
        "SVG": "Other",
        "bash": "Other",
        "capture": "ExecutionMagics",
        "debug": "ExecutionMagics",
        "file": "Other",
        "html": "DisplayMagics",
        "javascript": "DisplayMagics",
        "js": "DisplayMagics",
        "latex": "DisplayMagics",
        "markdown": "DisplayMagics",
        "perl": "Other",
        "prun": "ExecutionMagics",
        "pypy": "Other",
        "python": "Other",
        "python2": "Other",
        "python3": "Other",
        "ruby": "Other",
        "script": "ScriptMagics",
        "sh": "Other",
        "svg": "DisplayMagics",
        "sx": "OSMagics",
        "system": "OSMagics",
        "time": "ExecutionMagics",
        "timeit": "ExecutionMagics",
        "writefile": "OSMagics"
       },
       "line": {
        "alias": "OSMagics",
        "alias_magic": "BasicMagics",
        "autocall": "AutoMagics",
        "automagic": "AutoMagics",
        "autosave": "KernelMagics",
        "bookmark": "OSMagics",
        "cat": "Other",
        "cd": "OSMagics",
        "clear": "KernelMagics",
        "colors": "BasicMagics",
        "config": "ConfigMagics",
        "connect_info": "KernelMagics",
        "cp": "Other",
        "debug": "ExecutionMagics",
        "dhist": "OSMagics",
        "dirs": "OSMagics",
        "doctest_mode": "BasicMagics",
        "ed": "Other",
        "edit": "KernelMagics",
        "env": "OSMagics",
        "gui": "BasicMagics",
        "hist": "Other",
        "history": "HistoryMagics",
        "killbgscripts": "ScriptMagics",
        "ldir": "Other",
        "less": "KernelMagics",
        "lf": "Other",
        "lk": "Other",
        "ll": "Other",
        "load": "CodeMagics",
        "load_ext": "ExtensionMagics",
        "loadpy": "CodeMagics",
        "logoff": "LoggingMagics",
        "logon": "LoggingMagics",
        "logstart": "LoggingMagics",
        "logstate": "LoggingMagics",
        "logstop": "LoggingMagics",
        "ls": "Other",
        "lsmagic": "BasicMagics",
        "lx": "Other",
        "macro": "ExecutionMagics",
        "magic": "BasicMagics",
        "man": "KernelMagics",
        "matplotlib": "PylabMagics",
        "mkdir": "Other",
        "more": "KernelMagics",
        "mv": "Other",
        "notebook": "BasicMagics",
        "page": "BasicMagics",
        "pastebin": "CodeMagics",
        "pdb": "ExecutionMagics",
        "pdef": "NamespaceMagics",
        "pdoc": "NamespaceMagics",
        "pfile": "NamespaceMagics",
        "pinfo": "NamespaceMagics",
        "pinfo2": "NamespaceMagics",
        "pip": "BasicMagics",
        "popd": "OSMagics",
        "pprint": "BasicMagics",
        "precision": "BasicMagics",
        "profile": "BasicMagics",
        "prun": "ExecutionMagics",
        "psearch": "NamespaceMagics",
        "psource": "NamespaceMagics",
        "pushd": "OSMagics",
        "pwd": "OSMagics",
        "pycat": "OSMagics",
        "pylab": "PylabMagics",
        "qtconsole": "KernelMagics",
        "quickref": "BasicMagics",
        "recall": "HistoryMagics",
        "rehashx": "OSMagics",
        "reload_ext": "ExtensionMagics",
        "rep": "Other",
        "rerun": "HistoryMagics",
        "reset": "NamespaceMagics",
        "reset_selective": "NamespaceMagics",
        "rm": "Other",
        "rmdir": "Other",
        "run": "ExecutionMagics",
        "save": "CodeMagics",
        "sc": "OSMagics",
        "set_env": "OSMagics",
        "store": "StoreMagics",
        "sx": "OSMagics",
        "system": "OSMagics",
        "tb": "ExecutionMagics",
        "time": "ExecutionMagics",
        "timeit": "ExecutionMagics",
        "unalias": "OSMagics",
        "unload_ext": "ExtensionMagics",
        "who": "NamespaceMagics",
        "who_ls": "NamespaceMagics",
        "whos": "NamespaceMagics",
        "xdel": "NamespaceMagics",
        "xmode": "BasicMagics"
       }
      },
      "text/plain": [
       "Available line magics:\n",
       "%alias  %alias_magic  %autocall  %automagic  %autosave  %bookmark  %cat  %cd  %clear  %colors  %config  %connect_info  %cp  %debug  %dhist  %dirs  %doctest_mode  %ed  %edit  %env  %gui  %hist  %history  %killbgscripts  %ldir  %less  %lf  %lk  %ll  %load  %load_ext  %loadpy  %logoff  %logon  %logstart  %logstate  %logstop  %ls  %lsmagic  %lx  %macro  %magic  %man  %matplotlib  %mkdir  %more  %mv  %notebook  %page  %pastebin  %pdb  %pdef  %pdoc  %pfile  %pinfo  %pinfo2  %popd  %pprint  %precision  %profile  %prun  %psearch  %psource  %pushd  %pwd  %pycat  %pylab  %qtconsole  %quickref  %recall  %rehashx  %reload_ext  %rep  %rerun  %reset  %reset_selective  %rm  %rmdir  %run  %save  %sc  %set_env  %store  %sx  %system  %tb  %time  %timeit  %unalias  %unload_ext  %who  %who_ls  %whos  %xdel  %xmode\n",
       "\n",
       "Available cell magics:\n",
       "%%!  %%HTML  %%SVG  %%bash  %%capture  %%debug  %%file  %%html  %%javascript  %%js  %%latex  %%markdown  %%perl  %%prun  %%pypy  %%python  %%python2  %%python3  %%ruby  %%script  %%sh  %%svg  %%sx  %%system  %%time  %%timeit  %%writefile\n",
       "\n",
       "Automagic is ON, % prefix IS NOT needed for line magics."
      ]
     },
     "execution_count": 50,
     "metadata": {},
     "output_type": "execute_result"
    }
   ],
   "source": [
    "%lsmagic"
   ]
  },
  {
   "cell_type": "markdown",
   "metadata": {},
   "source": [
    "# 2. Shell Command ( ! )"
   ]
  },
  {
   "cell_type": "markdown",
   "metadata": {},
   "source": [
    "2.1 Assigning variable"
   ]
  },
  {
   "cell_type": "code",
   "execution_count": 19,
   "metadata": {},
   "outputs": [
    {
     "data": {
      "text/plain": [
       "['20180108_programming_review_jupyterNotebook.ipynb',\n",
       " '20180108_programming_review_python_basicSyntax.ipynb',\n",
       " 'review.py']"
      ]
     },
     "execution_count": 19,
     "metadata": {},
     "output_type": "execute_result"
    }
   ],
   "source": [
    "file_list = !ls\n",
    "file_list"
   ]
  },
  {
   "cell_type": "code",
   "execution_count": 23,
   "metadata": {},
   "outputs": [
    {
     "name": "stdout",
     "output_type": "stream",
     "text": [
      "[20180108_programming_review_jupyterNotebook.ipynb, 20180108_programming_review_python_basicSyntax.ipynb, review.py]\r\n"
     ]
    }
   ],
   "source": [
    "!echo {file_list}"
   ]
  },
  {
   "cell_type": "markdown",
   "metadata": {},
   "source": [
    "2.2 List of major Shell Commands"
   ]
  },
  {
   "cell_type": "markdown",
   "metadata": {},
   "source": [
    "```\n",
    "- ls : 파일 리스트 출력\n",
    "- echo : 파일 문자열 출력\n",
    "- touch : 파일 생성\n",
    "- cat : 파일 출력\n",
    "- mkdir : 디렉토리 생성 (폴더)\n",
    "- rmdir : 디렉토리 삭제\n",
    "- mv : 파일 이동 (덮어쓰기 가능)\n",
    "- cp : 파일 복사\n",
    "- rm : 파일 삭제\n",
    "- df : (disk free) 사용량 확인\n",
    "```"
   ]
  },
  {
   "cell_type": "code",
   "execution_count": 26,
   "metadata": {},
   "outputs": [
    {
     "name": "stdout",
     "output_type": "stream",
     "text": [
      "20180108_programming_review_jupyterNotebook.ipynb\r\n",
      "20180108_programming_review_python_basicSyntax.ipynb\r\n",
      "review.py\r\n"
     ]
    }
   ],
   "source": [
    "!ls"
   ]
  },
  {
   "cell_type": "code",
   "execution_count": 28,
   "metadata": {},
   "outputs": [
    {
     "name": "stdout",
     "output_type": "stream",
     "text": [
      "python\r\n"
     ]
    }
   ],
   "source": [
    "!echo \"python\""
   ]
  },
  {
   "cell_type": "code",
   "execution_count": 30,
   "metadata": {},
   "outputs": [],
   "source": [
    "!touch review2.py"
   ]
  },
  {
   "cell_type": "code",
   "execution_count": 32,
   "metadata": {},
   "outputs": [
    {
     "name": "stdout",
     "output_type": "stream",
     "text": [
      "20180108_programming_review_jupyterNotebook.ipynb\r\n",
      "20180108_programming_review_python_basicSyntax.ipynb\r\n",
      "review.py\r\n",
      "review2.py\r\n"
     ]
    }
   ],
   "source": [
    "!ls"
   ]
  },
  {
   "cell_type": "code",
   "execution_count": 33,
   "metadata": {
    "collapsed": true
   },
   "outputs": [],
   "source": [
    "file_list = !ls"
   ]
  },
  {
   "cell_type": "code",
   "execution_count": 34,
   "metadata": {},
   "outputs": [
    {
     "data": {
      "text/plain": [
       "['20180108_programming_review_jupyterNotebook.ipynb',\n",
       " '20180108_programming_review_python_basicSyntax.ipynb',\n",
       " 'review.py',\n",
       " 'review2.py']"
      ]
     },
     "execution_count": 34,
     "metadata": {},
     "output_type": "execute_result"
    }
   ],
   "source": [
    "file_list"
   ]
  },
  {
   "cell_type": "code",
   "execution_count": 35,
   "metadata": {},
   "outputs": [
    {
     "name": "stdout",
     "output_type": "stream",
     "text": [
      "[20180108_programming_review_jupyterNotebook.ipynb, 20180108_programming_review_python_basicSyntax.ipynb, review.py, review2.py]\r\n"
     ]
    }
   ],
   "source": [
    "!echo {file_list}"
   ]
  },
  {
   "cell_type": "code",
   "execution_count": 37,
   "metadata": {
    "collapsed": true
   },
   "outputs": [],
   "source": [
    "mkdir new_folder"
   ]
  },
  {
   "cell_type": "code",
   "execution_count": 39,
   "metadata": {
    "collapsed": true
   },
   "outputs": [],
   "source": [
    "rmdir new_foldere"
   ]
  },
  {
   "cell_type": "code",
   "execution_count": 40,
   "metadata": {},
   "outputs": [
    {
     "name": "stdout",
     "output_type": "stream",
     "text": [
      "20180108_programming_review_jupyterNotebook.ipynb\r\n",
      "20180108_programming_review_python_basicSyntax.ipynb\r\n",
      "\u001b[34mnew_folder\u001b[m\u001b[m\r\n",
      "review.py\r\n",
      "review2.py\r\n"
     ]
    }
   ],
   "source": [
    "!ls"
   ]
  },
  {
   "cell_type": "code",
   "execution_count": 41,
   "metadata": {
    "collapsed": true
   },
   "outputs": [],
   "source": [
    "!cp review2.py review3.py"
   ]
  },
  {
   "cell_type": "code",
   "execution_count": 42,
   "metadata": {},
   "outputs": [
    {
     "name": "stdout",
     "output_type": "stream",
     "text": [
      "20180108_programming_review_jupyterNotebook.ipynb\r\n",
      "20180108_programming_review_python_basicSyntax.ipynb\r\n",
      "\u001b[34mnew_folder\u001b[m\u001b[m\r\n",
      "review.py\r\n",
      "review2.py\r\n",
      "review3.py\r\n"
     ]
    }
   ],
   "source": [
    "!ls"
   ]
  },
  {
   "cell_type": "code",
   "execution_count": 43,
   "metadata": {
    "collapsed": true
   },
   "outputs": [],
   "source": [
    "!mv review3.py review2.py"
   ]
  },
  {
   "cell_type": "code",
   "execution_count": 44,
   "metadata": {},
   "outputs": [
    {
     "name": "stdout",
     "output_type": "stream",
     "text": [
      "20180108_programming_review_jupyterNotebook.ipynb\r\n",
      "20180108_programming_review_python_basicSyntax.ipynb\r\n",
      "\u001b[34mnew_folder\u001b[m\u001b[m\r\n",
      "review.py\r\n",
      "review2.py\r\n"
     ]
    }
   ],
   "source": [
    "!ls"
   ]
  },
  {
   "cell_type": "code",
   "execution_count": 45,
   "metadata": {},
   "outputs": [
    {
     "name": "stdout",
     "output_type": "stream",
     "text": [
      "rm: reveiw2.py: No such file or directory\r\n"
     ]
    }
   ],
   "source": [
    "!rm reveiw2.py"
   ]
  },
  {
   "cell_type": "code",
   "execution_count": 46,
   "metadata": {},
   "outputs": [
    {
     "name": "stdout",
     "output_type": "stream",
     "text": [
      "Filesystem    512-blocks      Used Available Capacity iused               ifree %iused  Mounted on\r\n",
      "/dev/disk1s1   390625240 289238368  93805216    76% 1452190 9223372036853323617    0%   /\r\n",
      "devfs                383       383         0   100%     664                   0  100%   /dev\r\n",
      "/dev/disk1s4   390625240   6291592  93805216     7%       3 9223372036854775804    0%   /private/var/vm\r\n",
      "/dev/disk0s3    99198968  51474288  47724680    52%  132192            23865060    1%   /Volumes/BOOTCAMP\r\n",
      "map -hosts             0         0         0   100%       0                   0  100%   /net\r\n",
      "map auto_home          0         0         0   100%       0                   0  100%   /home\r\n",
      "/dev/disk2s2       37864     37864         0   100%      65          4294967214    0%   /Volumes/Flash Player\r\n",
      "/dev/disk3s1      362416    356032      6384    99%     469          4294966810    0%   /Volumes/Slack\r\n"
     ]
    }
   ],
   "source": [
    "!df"
   ]
  },
  {
   "cell_type": "code",
   "execution_count": null,
   "metadata": {
    "collapsed": true
   },
   "outputs": [],
   "source": []
  }
 ],
 "metadata": {
  "kernelspec": {
   "display_name": "Python 3",
   "language": "python",
   "name": "python3"
  },
  "language_info": {
   "codemirror_mode": {
    "name": "ipython",
    "version": 3
   },
   "file_extension": ".py",
   "mimetype": "text/x-python",
   "name": "python",
   "nbconvert_exporter": "python",
   "pygments_lexer": "ipython3",
   "version": "3.6.2"
  }
 },
 "nbformat": 4,
 "nbformat_minor": 2
}
