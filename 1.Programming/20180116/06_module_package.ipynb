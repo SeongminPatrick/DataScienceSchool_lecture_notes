{
 "cells": [
  {
   "cell_type": "markdown",
   "metadata": {},
   "source": [
    "##### Module\n",
    "- 함수, 변수, 클래스를 모아놓은 파일\n",
    "- pep8 module name\n",
    "    - 모듈(Module) 명은 짧은 소문자로 구성되며 필요하다면 밑줄로 나눕니다.\n",
    "    - C/C++ 확장 모듈은 밑줄로 시작합니다.\n",
    "   \n",
    "<br>\n",
    "- 패키지와 다른 점 : Package = Directory + Module"
   ]
  },
  {
   "cell_type": "markdown",
   "metadata": {},
   "source": [
    "##### make module "
   ]
  },
  {
   "cell_type": "code",
   "execution_count": 2,
   "metadata": {},
   "outputs": [
    {
     "name": "stdout",
     "output_type": "stream",
     "text": [
      "Writing dsm_f.py\n"
     ]
    }
   ],
   "source": [
    "%%writefile dsm_f.py\n",
    "\n",
    "var = 1234\n",
    "\n",
    "def disp1(s):\n",
    "    print(\"dsm_f1:\", s)\n",
    "\n",
    "def disp2(s):\n",
    "    print(\"dsm_f2:\", s)\n",
    "\n",
    "def disp3(s):\n",
    "    print(\"dsm_f3:\", s)\n",
    "    \n",
    "class calc:\n",
    "    def plus(self, *args):\n",
    "        return sum(args)"
   ]
  },
  {
   "cell_type": "markdown",
   "metadata": {},
   "source": [
    "##### 모듈 호출\n",
    "- import"
   ]
  },
  {
   "cell_type": "code",
   "execution_count": 3,
   "metadata": {},
   "outputs": [],
   "source": [
    "# 모듈 호출하기\n",
    "import dsm_f"
   ]
  },
  {
   "cell_type": "code",
   "execution_count": 4,
   "metadata": {},
   "outputs": [
    {
     "name": "stdout",
     "output_type": "stream",
     "text": [
      "Variable   Type      Data/Info\n",
      "------------------------------\n",
      "dsm_f      module    <module 'dsm_f' from '/Us<...>mming/20180116/dsm_f.py'>\n"
     ]
    }
   ],
   "source": [
    "%whos"
   ]
  },
  {
   "cell_type": "code",
   "execution_count": 6,
   "metadata": {},
   "outputs": [
    {
     "name": "stdout",
     "output_type": "stream",
     "text": [
      "dsm_f1: test\n"
     ]
    }
   ],
   "source": [
    "# 모듈 함수 호출\n",
    "dsm_f.disp1(\"test\")"
   ]
  },
  {
   "cell_type": "code",
   "execution_count": 7,
   "metadata": {},
   "outputs": [
    {
     "data": {
      "text/plain": [
       "1234"
      ]
     },
     "execution_count": 7,
     "metadata": {},
     "output_type": "execute_result"
    }
   ],
   "source": [
    "# 모듈 변수 호출\n",
    "dsm_f.var"
   ]
  },
  {
   "cell_type": "code",
   "execution_count": 8,
   "metadata": {},
   "outputs": [
    {
     "data": {
      "text/plain": [
       "14"
      ]
     },
     "execution_count": 8,
     "metadata": {},
     "output_type": "execute_result"
    }
   ],
   "source": [
    "# 모듈 클래스 호출\n",
    "dsm_f.calc.plus(1,2,3,4,5)"
   ]
  },
  {
   "cell_type": "markdown",
   "metadata": {},
   "source": [
    "- alias\n",
    "    - 모듈 호출해서 이름 바꿔주기"
   ]
  },
  {
   "cell_type": "code",
   "execution_count": 9,
   "metadata": {},
   "outputs": [
    {
     "name": "stdout",
     "output_type": "stream",
     "text": [
      "dsm_f1: test1\n",
      "dsm_f2: test2\n",
      "dsm_f3: test2\n"
     ]
    }
   ],
   "source": [
    "import dsm_f as dsm\n",
    "dsm.disp1(\"test1\")\n",
    "dsm.disp2(\"test2\")\n",
    "dsm.disp3(\"test2\")"
   ]
  },
  {
   "cell_type": "markdown",
   "metadata": {},
   "source": [
    "- 모듈에 있는 함수만 호출하기"
   ]
  },
  {
   "cell_type": "code",
   "execution_count": 10,
   "metadata": {},
   "outputs": [],
   "source": [
    "from dsm_f import disp1, disp2"
   ]
  },
  {
   "cell_type": "code",
   "execution_count": 11,
   "metadata": {},
   "outputs": [
    {
     "name": "stdout",
     "output_type": "stream",
     "text": [
      "Variable   Type        Data/Info\n",
      "--------------------------------\n",
      "disp1      function    <function disp1 at 0x1061d7ae8>\n",
      "disp2      function    <function disp2 at 0x106547620>\n",
      "dsm        module      <module 'dsm_f' from '/Us<...>mming/20180116/dsm_f.py'>\n",
      "dsm_f      module      <module 'dsm_f' from '/Us<...>mming/20180116/dsm_f.py'>\n"
     ]
    }
   ],
   "source": [
    "%whos"
   ]
  },
  {
   "cell_type": "code",
   "execution_count": 12,
   "metadata": {},
   "outputs": [
    {
     "name": "stdout",
     "output_type": "stream",
     "text": [
      "dsm_f1: test1\n",
      "dsm_f2: test2\n"
     ]
    }
   ],
   "source": [
    "disp1(\"test1\")\n",
    "disp2(\"test2\")"
   ]
  },
  {
   "cell_type": "code",
   "execution_count": 13,
   "metadata": {},
   "outputs": [
    {
     "ename": "NameError",
     "evalue": "name 'disp3' is not defined",
     "output_type": "error",
     "traceback": [
      "\u001b[0;31m---------------------------------------------------------------------------\u001b[0m",
      "\u001b[0;31mNameError\u001b[0m                                 Traceback (most recent call last)",
      "\u001b[0;32m<ipython-input-13-cddba046224e>\u001b[0m in \u001b[0;36m<module>\u001b[0;34m()\u001b[0m\n\u001b[0;32m----> 1\u001b[0;31m \u001b[0mdisp3\u001b[0m\u001b[0;34m(\u001b[0m\u001b[0;34m\"test3\"\u001b[0m\u001b[0;34m)\u001b[0m\u001b[0;34m\u001b[0m\u001b[0m\n\u001b[0m",
      "\u001b[0;31mNameError\u001b[0m: name 'disp3' is not defined"
     ]
    }
   ],
   "source": [
    "disp3(\"test3\")"
   ]
  },
  {
   "cell_type": "markdown",
   "metadata": {},
   "source": [
    "- 모듈의 모든 함수 호출"
   ]
  },
  {
   "cell_type": "code",
   "execution_count": 18,
   "metadata": {},
   "outputs": [],
   "source": [
    "from dsm_f import *"
   ]
  },
  {
   "cell_type": "code",
   "execution_count": 19,
   "metadata": {},
   "outputs": [
    {
     "name": "stdout",
     "output_type": "stream",
     "text": [
      "Variable   Type        Data/Info\n",
      "--------------------------------\n",
      "calc       type        <class 'dsm_f.calc'>\n",
      "disp1      function    <function disp1 at 0x1061d7ae8>\n",
      "disp2      function    <function disp2 at 0x106547620>\n",
      "disp3      function    <function disp3 at 0x1065476a8>\n",
      "dsm        module      <module 'dsm_f' from '/Us<...>mming/20180116/dsm_f.py'>\n",
      "dsm_f      module      <module 'dsm_f' from '/Us<...>mming/20180116/dsm_f.py'>\n",
      "var        int         1234\n"
     ]
    }
   ],
   "source": [
    "%whos"
   ]
  },
  {
   "cell_type": "code",
   "execution_count": 20,
   "metadata": {},
   "outputs": [
    {
     "name": "stdout",
     "output_type": "stream",
     "text": [
      "dsm_f1: test1\n",
      "dsm_f2: test2\n",
      "dsm_f3: test3\n"
     ]
    }
   ],
   "source": [
    "disp1(\"test1\")\n",
    "disp2(\"test2\")\n",
    "disp3(\"test3\")"
   ]
  },
  {
   "cell_type": "code",
   "execution_count": 21,
   "metadata": {},
   "outputs": [
    {
     "data": {
      "text/plain": [
       "1234"
      ]
     },
     "execution_count": 21,
     "metadata": {},
     "output_type": "execute_result"
    }
   ],
   "source": [
    "# 모듈 변수 호출\n",
    "var"
   ]
  },
  {
   "cell_type": "code",
   "execution_count": 22,
   "metadata": {},
   "outputs": [
    {
     "data": {
      "text/plain": [
       "9"
      ]
     },
     "execution_count": 22,
     "metadata": {},
     "output_type": "execute_result"
    }
   ],
   "source": [
    "# 모듈 클래스 호출\n",
    "calc.plus(1,2,3,4)"
   ]
  },
  {
   "cell_type": "markdown",
   "metadata": {},
   "source": [
    "##### Package\n",
    "- 디렉토리와 모듈로 이루어짐"
   ]
  },
  {
   "cell_type": "markdown",
   "metadata": {},
   "source": [
    "```\n",
    "quiz\n",
    "└── game\n",
    "│   ├── lotto.py\n",
    "│   ├── random_number.py\n",
    "└── star\n",
    "    ├── disp.py\n",
    "```"
   ]
  },
  {
   "cell_type": "code",
   "execution_count": 1,
   "metadata": {},
   "outputs": [],
   "source": [
    "import quiz.game.lotto"
   ]
  },
  {
   "cell_type": "code",
   "execution_count": 2,
   "metadata": {},
   "outputs": [
    {
     "data": {
      "text/plain": [
       "[10, 12, 14, 18, 42, 45]"
      ]
     },
     "execution_count": 2,
     "metadata": {},
     "output_type": "execute_result"
    }
   ],
   "source": [
    "quiz.game.lotto.get_lotto_number()"
   ]
  },
  {
   "cell_type": "markdown",
   "metadata": {},
   "source": [
    "- alias\n",
    "    - 너무 긴 패키지는 alias를 사용해 줄일수 있다."
   ]
  },
  {
   "cell_type": "code",
   "execution_count": 3,
   "metadata": {},
   "outputs": [],
   "source": [
    "import quiz.game.lotto as lotto"
   ]
  },
  {
   "cell_type": "code",
   "execution_count": 4,
   "metadata": {},
   "outputs": [
    {
     "data": {
      "text/plain": [
       "[1, 2, 3, 9, 40, 41]"
      ]
     },
     "execution_count": 4,
     "metadata": {},
     "output_type": "execute_result"
    }
   ],
   "source": [
    "lotto.get_lotto_number()"
   ]
  },
  {
   "cell_type": "markdown",
   "metadata": {},
   "source": [
    "- import시 가장 마지막은 module이여야 한다."
   ]
  },
  {
   "cell_type": "code",
   "execution_count": 27,
   "metadata": {},
   "outputs": [],
   "source": [
    "import quiz.game as game"
   ]
  },
  {
   "cell_type": "code",
   "execution_count": 28,
   "metadata": {},
   "outputs": [
    {
     "data": {
      "text/plain": [
       "[1, 16, 22, 34, 36, 44]"
      ]
     },
     "execution_count": 28,
     "metadata": {},
     "output_type": "execute_result"
    }
   ],
   "source": [
    "game.lotto.get_lotto_number()"
   ]
  },
  {
   "cell_type": "markdown",
   "metadata": {},
   "source": [
    "- 특정 모듈만 호출"
   ]
  },
  {
   "cell_type": "code",
   "execution_count": null,
   "metadata": {},
   "outputs": [],
   "source": [
    "from quiz.star import disp"
   ]
  },
  {
   "cell_type": "code",
   "execution_count": null,
   "metadata": {},
   "outputs": [],
   "source": [
    "disp.disp_star1(5)"
   ]
  },
  {
   "cell_type": "markdown",
   "metadata": {},
   "source": [
    "- 특정 함수만 호출"
   ]
  },
  {
   "cell_type": "code",
   "execution_count": 5,
   "metadata": {},
   "outputs": [],
   "source": [
    "from quiz.star.disp import disp_star3, disp_star4"
   ]
  },
  {
   "cell_type": "code",
   "execution_count": 6,
   "metadata": {},
   "outputs": [
    {
     "name": "stdout",
     "output_type": "stream",
     "text": [
      "  *\n",
      " ***\n",
      "*****\n"
     ]
    }
   ],
   "source": [
    "disp_star3(5)"
   ]
  },
  {
   "cell_type": "code",
   "execution_count": 7,
   "metadata": {},
   "outputs": [
    {
     "name": "stdout",
     "output_type": "stream",
     "text": [
      "*******\n",
      " *****\n",
      "  ***\n",
      "   *\n"
     ]
    }
   ],
   "source": [
    "disp_star4(7)"
   ]
  },
  {
   "cell_type": "markdown",
   "metadata": {},
   "source": [
    "경로 내 어떤 것들이 있는지 볼 수 있음"
   ]
  },
  {
   "cell_type": "code",
   "execution_count": 8,
   "metadata": {},
   "outputs": [],
   "source": [
    "import sys"
   ]
  },
  {
   "cell_type": "code",
   "execution_count": 10,
   "metadata": {},
   "outputs": [
    {
     "name": "stdout",
     "output_type": "stream",
     "text": [
      "\n",
      "/Library/Frameworks/Python.framework/Versions/3.6/lib/python36.zip\n",
      "/Library/Frameworks/Python.framework/Versions/3.6/lib/python3.6\n",
      "/Library/Frameworks/Python.framework/Versions/3.6/lib/python3.6/lib-dynload\n",
      "/Library/Frameworks/Python.framework/Versions/3.6/lib/python3.6/site-packages\n",
      "/Library/Frameworks/Python.framework/Versions/3.6/lib/python3.6/site-packages/IPython/extensions\n",
      "/Users/Seoluca/.ipython\n"
     ]
    }
   ],
   "source": [
    "for place in sys.path:\n",
    "    print(place)"
   ]
  },
  {
   "cell_type": "markdown",
   "metadata": {},
   "source": [
    "경로 내 있는 내용"
   ]
  },
  {
   "cell_type": "code",
   "execution_count": null,
   "metadata": {},
   "outputs": [],
   "source": [
    "!ls //Users/Seoluca/.ipython"
   ]
  },
  {
   "cell_type": "code",
   "execution_count": 14,
   "metadata": {},
   "outputs": [
    {
     "name": "stdout",
     "output_type": "stream",
     "text": [
      "\u001b[34mIPython\u001b[m\u001b[m                            \u001b[34mpandocfilters-1.4.2-py3.6.egg-info\u001b[m\u001b[m\r\n",
      "\u001b[34mJinja2-2.10.dist-info\u001b[m\u001b[m              pandocfilters.py\r\n",
      "\u001b[34mMarkupSafe-1.0-py3.6.egg-info\u001b[m\u001b[m      \u001b[34mparso\u001b[m\u001b[m\r\n",
      "\u001b[34mPygments-2.2.0.dist-info\u001b[m\u001b[m           \u001b[34mparso-0.1.1.dist-info\u001b[m\u001b[m\r\n",
      "README.txt                         \u001b[34mpatsy\u001b[m\u001b[m\r\n",
      "\u001b[34m__pycache__\u001b[m\u001b[m                        \u001b[34mpatsy-0.5.0.dist-info\u001b[m\u001b[m\r\n",
      "\u001b[34mappnope\u001b[m\u001b[m                            \u001b[34mpexpect\u001b[m\u001b[m\r\n",
      "\u001b[34mappnope-0.1.0.dist-info\u001b[m\u001b[m            \u001b[34mpexpect-4.3.1.dist-info\u001b[m\u001b[m\r\n",
      "\u001b[34mbleach\u001b[m\u001b[m                             \u001b[34mpickleshare-0.7.4.dist-info\u001b[m\u001b[m\r\n",
      "\u001b[34mbleach-2.1.2.dist-info\u001b[m\u001b[m             pickleshare.py\r\n",
      "\u001b[34mcertifi\u001b[m\u001b[m                            \u001b[34mpip\u001b[m\u001b[m\r\n",
      "\u001b[34mcertifi-2017.11.5.dist-info\u001b[m\u001b[m        \u001b[34mpip-9.0.1.dist-info\u001b[m\u001b[m\r\n",
      "\u001b[34mchardet\u001b[m\u001b[m                            \u001b[34mpkg_resources\u001b[m\u001b[m\r\n",
      "\u001b[34mchardet-3.0.4.dist-info\u001b[m\u001b[m            \u001b[34mprompt_toolkit\u001b[m\u001b[m\r\n",
      "\u001b[34mcycler-0.10.0.dist-info\u001b[m\u001b[m            \u001b[34mprompt_toolkit-1.0.15.dist-info\u001b[m\u001b[m\r\n",
      "cycler.py                          \u001b[34mptyprocess\u001b[m\u001b[m\r\n",
      "\u001b[34mdateutil\u001b[m\u001b[m                           \u001b[34mptyprocess-0.5.2.dist-info\u001b[m\u001b[m\r\n",
      "\u001b[34mdecorator-4.1.2.dist-info\u001b[m\u001b[m          \u001b[34mpygments\u001b[m\u001b[m\r\n",
      "decorator.py                       pylab.py\r\n",
      "easy_install.py                    \u001b[34mpyparsing-2.2.0.dist-info\u001b[m\u001b[m\r\n",
      "\u001b[34mentrypoints-0.2.3.dist-info\u001b[m\u001b[m        pyparsing.py\r\n",
      "entrypoints.py                     \u001b[34mpython_dateutil-2.6.1.dist-info\u001b[m\u001b[m\r\n",
      "\u001b[34mhtml5lib\u001b[m\u001b[m                           \u001b[34mpytz\u001b[m\u001b[m\r\n",
      "\u001b[34mhtml5lib-1.0.1.dist-info\u001b[m\u001b[m           \u001b[34mpytz-2017.3.dist-info\u001b[m\u001b[m\r\n",
      "\u001b[34midna\u001b[m\u001b[m                               \u001b[34mpyzmq-16.0.3.dist-info\u001b[m\u001b[m\r\n",
      "\u001b[34midna-2.6.dist-info\u001b[m\u001b[m                 \u001b[34mqtconsole\u001b[m\u001b[m\r\n",
      "\u001b[34mipykernel\u001b[m\u001b[m                          \u001b[34mqtconsole-4.3.1.dist-info\u001b[m\u001b[m\r\n",
      "\u001b[34mipykernel-4.7.0.dist-info\u001b[m\u001b[m          \u001b[34mrequests\u001b[m\u001b[m\r\n",
      "ipykernel_launcher.py              \u001b[34mrequests-2.18.4.dist-info\u001b[m\u001b[m\r\n",
      "\u001b[34mipython-6.2.1.dist-info\u001b[m\u001b[m            \u001b[34mscikit_learn-0.19.1.dist-info\u001b[m\u001b[m\r\n",
      "\u001b[34mipython_genutils\u001b[m\u001b[m                   \u001b[34mscipy\u001b[m\u001b[m\r\n",
      "\u001b[34mipython_genutils-0.2.0.dist-info\u001b[m\u001b[m   \u001b[34mscipy-1.0.0.dist-info\u001b[m\u001b[m\r\n",
      "\u001b[34mipywidgets\u001b[m\u001b[m                         \u001b[34mseaborn\u001b[m\u001b[m\r\n",
      "\u001b[34mipywidgets-7.1.0.dist-info\u001b[m\u001b[m         \u001b[34mseaborn-0.8.1-py3.6.egg-info\u001b[m\u001b[m\r\n",
      "\u001b[34mjedi\u001b[m\u001b[m                               \u001b[34msetuptools\u001b[m\u001b[m\r\n",
      "\u001b[34mjedi-0.11.1.dist-info\u001b[m\u001b[m              \u001b[34msetuptools-28.8.0.dist-info\u001b[m\u001b[m\r\n",
      "\u001b[34mjinja2\u001b[m\u001b[m                             \u001b[34msimplegeneric-0.8.1-py3.6.egg-info\u001b[m\u001b[m\r\n",
      "\u001b[34mjsonschema\u001b[m\u001b[m                         simplegeneric.py\r\n",
      "\u001b[34mjsonschema-2.6.0.dist-info\u001b[m\u001b[m         \u001b[34msix-1.11.0.dist-info\u001b[m\u001b[m\r\n",
      "\u001b[34mjupyter-1.0.0.dist-info\u001b[m\u001b[m            six.py\r\n",
      "jupyter.py                         \u001b[34msklearn\u001b[m\u001b[m\r\n",
      "\u001b[34mjupyter_client\u001b[m\u001b[m                     \u001b[34mstatsmodels\u001b[m\u001b[m\r\n",
      "\u001b[34mjupyter_client-5.2.1.dist-info\u001b[m\u001b[m     \u001b[34mstatsmodels-0.8.0.dist-info\u001b[m\u001b[m\r\n",
      "\u001b[34mjupyter_console\u001b[m\u001b[m                    \u001b[34mterminado\u001b[m\u001b[m\r\n",
      "\u001b[34mjupyter_console-5.2.0.dist-info\u001b[m\u001b[m    \u001b[34mterminado-0.8.1.dist-info\u001b[m\u001b[m\r\n",
      "\u001b[34mjupyter_core\u001b[m\u001b[m                       \u001b[34mtest\u001b[m\u001b[m\r\n",
      "\u001b[34mjupyter_core-4.4.0.dist-info\u001b[m\u001b[m       \u001b[34mtestpath\u001b[m\u001b[m\r\n",
      "\u001b[34mmarkupsafe\u001b[m\u001b[m                         \u001b[34mtestpath-0.3.1.dist-info\u001b[m\u001b[m\r\n",
      "\u001b[34mmatplotlib\u001b[m\u001b[m                         \u001b[34mtornado\u001b[m\u001b[m\r\n",
      "matplotlib-2.1.0-py3.6-nspkg.pth   \u001b[34mtornado-4.5.3-py3.6.egg-info\u001b[m\u001b[m\r\n",
      "\u001b[34mmatplotlib-2.1.0.dist-info\u001b[m\u001b[m         \u001b[34mtqdm\u001b[m\u001b[m\r\n",
      "\u001b[34mmistune-0.8.3.dist-info\u001b[m\u001b[m            \u001b[34mtqdm-4.19.5.dist-info\u001b[m\u001b[m\r\n",
      "mistune.py                         \u001b[34mtraitlets\u001b[m\u001b[m\r\n",
      "\u001b[34mmpl_toolkits\u001b[m\u001b[m                       \u001b[34mtraitlets-4.3.2.dist-info\u001b[m\u001b[m\r\n",
      "\u001b[34mnbconvert\u001b[m\u001b[m                          \u001b[34murllib3\u001b[m\u001b[m\r\n",
      "\u001b[34mnbconvert-5.3.1.dist-info\u001b[m\u001b[m          \u001b[34murllib3-1.22.dist-info\u001b[m\u001b[m\r\n",
      "\u001b[34mnbformat\u001b[m\u001b[m                           \u001b[34mwcwidth\u001b[m\u001b[m\r\n",
      "\u001b[34mnbformat-4.4.0.dist-info\u001b[m\u001b[m           \u001b[34mwcwidth-0.1.7.dist-info\u001b[m\u001b[m\r\n",
      "\u001b[34mnotebook\u001b[m\u001b[m                           \u001b[34mwebencodings\u001b[m\u001b[m\r\n",
      "\u001b[34mnotebook-5.2.2.dist-info\u001b[m\u001b[m           \u001b[34mwebencodings-0.5.1.dist-info\u001b[m\u001b[m\r\n",
      "\u001b[34mnumpy\u001b[m\u001b[m                              \u001b[34mwidgetsnbextension\u001b[m\u001b[m\r\n",
      "\u001b[34mnumpy-1.13.3.dist-info\u001b[m\u001b[m             \u001b[34mwidgetsnbextension-3.1.0.dist-info\u001b[m\u001b[m\r\n",
      "\u001b[34mpandas\u001b[m\u001b[m                             \u001b[34mzmq\u001b[m\u001b[m\r\n",
      "\u001b[34mpandas-0.21.0.dist-info\u001b[m\u001b[m\r\n"
     ]
    }
   ],
   "source": [
    "!ls /Library/Frameworks/Python.framework/Versions/3.6/lib/python3.6/site-packages"
   ]
  },
  {
   "cell_type": "code",
   "execution_count": null,
   "metadata": {},
   "outputs": [],
   "source": []
  }
 ],
 "metadata": {
  "kernelspec": {
   "display_name": "Python 3",
   "language": "python",
   "name": "python3"
  },
  "language_info": {
   "codemirror_mode": {
    "name": "ipython",
    "version": 3
   },
   "file_extension": ".py",
   "mimetype": "text/x-python",
   "name": "python",
   "nbconvert_exporter": "python",
   "pygments_lexer": "ipython3",
   "version": "3.6.2"
  }
 },
 "nbformat": 4,
 "nbformat_minor": 2
}
