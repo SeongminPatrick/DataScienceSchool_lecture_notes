{
 "cells": [
  {
   "cell_type": "markdown",
   "metadata": {},
   "source": [
    "# 5. class"
   ]
  },
  {
   "cell_type": "markdown",
   "metadata": {},
   "source": [
    "변수들과 함수를 묶어 \"이 형태의 데이터를 사용하겠다\"라고 정의, 설정, 선언"
   ]
  },
  {
   "cell_type": "markdown",
   "metadata": {},
   "source": [
    "클래스는 청사진, 설계도 라고 할수 있고, 객체가 실제 설계도 대로 만들어진 물건이라고 할수 있다."
   ]
  },
  {
   "cell_type": "markdown",
   "metadata": {},
   "source": [
    "클래스를 이용하여 객체를 만든다고 할수 있고 객체가 선언이 되어야 메모리에 자원이 할당된다."
   ]
  },
  {
   "cell_type": "markdown",
   "metadata": {},
   "source": [
    "객체 지향?\n",
    "- 다형성 : 파라미터에 따라 다른 코드, 함수를 수행\n",
    "- 캡슐화 : 외부의 변수나 함수를 감춤\n",
    "- 추상화 : 여러가지 요소를 하나로 통합\n",
    "- 상속 : 기존에 있던 클래스의 기능을 수정하거나 추가"
   ]
  },
  {
   "cell_type": "markdown",
   "metadata": {},
   "source": [
    "### 5.1 structure\n",
    "- class 내부에 **self**를 이용하여 변수를 할당하고, def를 이용하여 함수를 선언한다.\n",
    "- self는 객체 자신을 의미 한다.\n",
    "- 함수선언시에는 항상 argument로 self를 넣어주어야 한다."
   ]
  },
  {
   "cell_type": "code",
   "execution_count": 19,
   "metadata": {},
   "outputs": [],
   "source": [
    "class calculator:\n",
    "    \n",
    "    def setData(self, num1, num2):\n",
    "        self.num1 = num1\n",
    "        self.num2 = num2\n",
    "        \n",
    "    def add(self):\n",
    "        return self.num1 + self.num2\n",
    "    \n",
    "    def sub(self):\n",
    "        return self.num1 - self.num2\n",
    "    \n",
    "    def mul(self):\n",
    "        return self.num1 * self.num2\n",
    "    \n",
    "    def div(self):\n",
    "        return self.num1 / self.num2\n",
    "    \n",
    "    \n",
    "# 두개의 변수를 받고, 사칙연산의 역할을 해주는\n",
    "# 사용자가 정의한 객체"
   ]
  },
  {
   "cell_type": "code",
   "execution_count": 20,
   "metadata": {},
   "outputs": [
    {
     "name": "stdout",
     "output_type": "stream",
     "text": [
      "12\n",
      "35\n"
     ]
    }
   ],
   "source": [
    "c1 = calculator()    # class를 c1으로 선언\n",
    "c1.setData(5, 7)     # \"class. \"을 사용하여 변수를 set하여 메모리에 올린다\n",
    "result_1 = c1.add()    # 선언된 add의 기능을 사용함\n",
    "print(result_1)\n",
    "result_2 = c1.mul()\n",
    "print(result_2)"
   ]
  },
  {
   "cell_type": "code",
   "execution_count": 21,
   "metadata": {},
   "outputs": [
    {
     "name": "stdout",
     "output_type": "stream",
     "text": [
      "12\n",
      "2.0\n"
     ]
    }
   ],
   "source": [
    "# self는 객체를 의미\n",
    "# 클래스의 함수에 self 파라미터로 객체를 넘겨 해당 객체의 변수를 변경할수 있다.\n",
    "# 객체를 직접 넣어줌으로서 데이터를 입력할 수도 있다\n",
    "\n",
    "c2 = calculator()\n",
    "calculator.setData(c2, 8, 4)\n",
    "\n",
    "result_3 = calculator.add(c2)\n",
    "print(result_3)\n",
    "\n",
    "result_4 = calculator.div(c2)\n",
    "print(result_4)"
   ]
  },
  {
   "cell_type": "markdown",
   "metadata": {},
   "source": [
    "calculator라는 class(틀)을 만들어내어, 언제든지 사용할 수 있다. "
   ]
  },
  {
   "cell_type": "markdown",
   "metadata": {},
   "source": [
    "### 5.2 Constructor (생성자)\n",
    "- 초기 설정을 가능하게 하는 함수\n",
    "- __init__ 으로 함수명을 작성하여 초기값을 넣어줌\n",
    "- 초기 데이터가 없으면 에라가 발생\n",
    "- 어떨 때 사용하는가?\n",
    "    - 초기 데이터가 없으면 아예 객체를 만들지 못 하게 함으로서, 메모리를 절약"
   ]
  },
  {
   "cell_type": "code",
   "execution_count": 22,
   "metadata": {},
   "outputs": [],
   "source": [
    "class calculator:\n",
    "    \n",
    "    def __init__(self, num1, num2):\n",
    "        self.num1 = num1\n",
    "        self.num2 = num2\n",
    "    \n",
    "    def setData(self, num1, num2):\n",
    "        self.num1 = num1\n",
    "        self.num2 = num2\n",
    "        \n",
    "    def add(self):\n",
    "        return self.num1 + self.num2\n",
    "    \n",
    "    def sub(self):\n",
    "        return self.num1 - self.num2\n",
    "    \n",
    "    def mul(self):\n",
    "        return self.num1 * self.num2\n",
    "    \n",
    "    def div(self):\n",
    "        return self.num1 / self.num2"
   ]
  },
  {
   "cell_type": "code",
   "execution_count": 23,
   "metadata": {},
   "outputs": [
    {
     "name": "stdout",
     "output_type": "stream",
     "text": [
      "12\n"
     ]
    }
   ],
   "source": [
    "c3 = calculator(5, 7)\n",
    "result = c3.add()\n",
    "print(result)"
   ]
  },
  {
   "cell_type": "markdown",
   "metadata": {},
   "source": [
    "### 5.3 Interitance(상속)"
   ]
  },
  {
   "cell_type": "code",
   "execution_count": 24,
   "metadata": {},
   "outputs": [],
   "source": [
    "# 기존 코드로 가서 기능을 추가하고 다시 실행하는 대신\n",
    "# 기존 코드를 상속 받아 기능을 추가, 확장\n",
    "\n",
    "class improvedCalculator(calculator):\n",
    "    def pow(self):\n",
    "        return self.num1 ** self.num2"
   ]
  },
  {
   "cell_type": "code",
   "execution_count": 25,
   "metadata": {},
   "outputs": [
    {
     "name": "stdout",
     "output_type": "stream",
     "text": [
      "243\n",
      "8\n",
      "15\n"
     ]
    }
   ],
   "source": [
    "ic = improvedCalculator(3, 5)\n",
    "result = ic.pow()\n",
    "print(result)\n",
    "\n",
    "result = ic.add()\n",
    "print(result)\n",
    "\n",
    "result = ic.mul()\n",
    "print(result)"
   ]
  },
  {
   "cell_type": "markdown",
   "metadata": {},
   "source": [
    "#### 다중상속\n",
    "\n",
    "- overiding & overloading 차이점 : 다형성의 특징\n",
    "    - overiding : 상위 클래스가 가지고 있는 함수를 하위 클래스가 함수를 재정의 해서 사용\n",
    "    - overloading : 함수 이름은 같으나 arguments의 갯수 차이로 함수를 구분해주는 방법 - 파이썬에서는 default argument로 조건문을 사용하여 구현"
   ]
  },
  {
   "cell_type": "code",
   "execution_count": 33,
   "metadata": {},
   "outputs": [],
   "source": [
    "# multiful inheritance\n",
    "class human():\n",
    "    def walk(self):\n",
    "        print(\"walking\")\n",
    "            \n",
    "class korean():\n",
    "    def eat(self):\n",
    "        print(\"eat kimchi\")\n",
    "    \n",
    "class indian():\n",
    "    def eat(self):\n",
    "        print(\"eat curry\")"
   ]
  },
  {
   "cell_type": "code",
   "execution_count": 34,
   "metadata": {},
   "outputs": [],
   "source": [
    "class jin(human, korean):\n",
    "    \n",
    "    def skill(self):\n",
    "        print(\"coding\")\n",
    "        \n",
    "    def eat(self):           # over_riding : 상위 클래스의 함수를 새롭게 정의\n",
    "        print(\"eat noodle\") "
   ]
  },
  {
   "cell_type": "code",
   "execution_count": 39,
   "metadata": {},
   "outputs": [
    {
     "name": "stdout",
     "output_type": "stream",
     "text": [
      "walking\n",
      "eat noodle\n",
      "eat kimchi\n"
     ]
    }
   ],
   "source": [
    "j = jin()\n",
    "k = korean()\n",
    "j.walk()\n",
    "j.eat()\n",
    "k.eat()"
   ]
  },
  {
   "cell_type": "code",
   "execution_count": 46,
   "metadata": {},
   "outputs": [],
   "source": [
    "class anchal(human, indian):\n",
    "    \n",
    "    def skill(self):\n",
    "        print(\"speak english\")    \n",
    "        \n",
    "    def eat(self, place=None): # over-loading : argument의 갯수 차이로 다르게 코드 실행\n",
    "        if place is None:      # place에 데이터가 들어갈 때, 없을 때 (is None 을 사용!!!!) --> 구분해줘야 한다\n",
    "            print(\"eat noodle\")\n",
    "        else:\n",
    "            print(\"eat noodle in {}\".format(place))"
   ]
  },
  {
   "cell_type": "code",
   "execution_count": 47,
   "metadata": {},
   "outputs": [
    {
     "name": "stdout",
     "output_type": "stream",
     "text": [
      "walking\n",
      "speak english\n",
      "eat noodle\n"
     ]
    }
   ],
   "source": [
    "a = anchal()\n",
    "a.walk()\n",
    "a.skill()\n",
    "a.eat()"
   ]
  },
  {
   "cell_type": "code",
   "execution_count": 48,
   "metadata": {},
   "outputs": [
    {
     "name": "stdout",
     "output_type": "stream",
     "text": [
      "eat noodle in Delhi\n"
     ]
    }
   ],
   "source": [
    "a.eat(\"Delhi\")"
   ]
  },
  {
   "cell_type": "markdown",
   "metadata": {},
   "source": [
    "### super \n",
    "- 상위 클래스의 생성자를 받아옴\n",
    "- starcraft 예제"
   ]
  },
  {
   "cell_type": "code",
   "execution_count": 51,
   "metadata": {},
   "outputs": [],
   "source": [
    "# human이라는 class\n",
    "class human():\n",
    "    \n",
    "    def __init__(self):           # 기본 체력\n",
    "        self.health = 40\n",
    "\n",
    "    def set_health(self, var):    # set을 통해 체력 조정가능\n",
    "        self.health += var"
   ]
  },
  {
   "cell_type": "code",
   "execution_count": 52,
   "metadata": {},
   "outputs": [],
   "source": [
    "class marin(human):               # human 속 marin이라는 객체 생성\n",
    "    \n",
    "    def __init__(self):\n",
    "        super(marin, self).__init__() #부모 class에서 생성된 객체를 가져온다\n",
    "        # self.health = 40\n",
    "        self.attack_power = 5\n",
    "        self.kill = 0\n",
    "        \n",
    "    def attack(self, obj):\n",
    "        \n",
    "        obj.set_health( - self.attack_power)\n",
    "        \n",
    "        if obj.health <= 0:\n",
    "            obj.health = 0\n",
    "            self.kill += 1\n",
    "            return \"die\" # killed\n",
    "        \n",
    "        return \"alive [health:{}]\".format(obj.health) # alive"
   ]
  },
  {
   "cell_type": "code",
   "execution_count": 88,
   "metadata": {},
   "outputs": [],
   "source": [
    "marin1 = marin()\n",
    "marin2 = marin()"
   ]
  },
  {
   "cell_type": "code",
   "execution_count": 101,
   "metadata": {},
   "outputs": [
    {
     "data": {
      "text/plain": [
       "'alive [health:31]'"
      ]
     },
     "execution_count": 101,
     "metadata": {},
     "output_type": "execute_result"
    }
   ],
   "source": [
    "marin1.attack(marin2)"
   ]
  },
  {
   "cell_type": "code",
   "execution_count": 102,
   "metadata": {},
   "outputs": [
    {
     "data": {
      "text/plain": [
       "(40, 31, 0, 0)"
      ]
     },
     "execution_count": 102,
     "metadata": {},
     "output_type": "execute_result"
    }
   ],
   "source": [
    "marin1.health, marin2.health, marin1.kill, marin2.kill"
   ]
  },
  {
   "cell_type": "code",
   "execution_count": 62,
   "metadata": {},
   "outputs": [],
   "source": [
    "class medic(human):\n",
    "    \n",
    "    def __init__(self):\n",
    "        self.health = 20\n",
    "        self.heal_power = 6\n",
    "    \n",
    "    def heal(self, obj):\n",
    "        \n",
    "        if obj.health == 0:\n",
    "            print(\"aleady die!\")\n",
    "            return\n",
    "        \n",
    "        obj.set_health( + self.heal_power)\n",
    "        \n",
    "        if obj.health > 40:\n",
    "            obj.health = 40"
   ]
  },
  {
   "cell_type": "code",
   "execution_count": 105,
   "metadata": {},
   "outputs": [
    {
     "data": {
      "text/plain": [
       "40"
      ]
     },
     "execution_count": 105,
     "metadata": {},
     "output_type": "execute_result"
    }
   ],
   "source": [
    "medic1 = medic()\n",
    "medic1.heal(marin2)\n",
    "\n",
    "marin2.health"
   ]
  },
  {
   "cell_type": "markdown",
   "metadata": {},
   "source": [
    "####문제\n",
    "- 아래의 데이터를 리스트, 딕셔너리, 클래스로 나타내어라\n",
    "- 클래스에서 타율(안타/타석) 정보를 볼 수 있는 기능 추가\n",
    "\n",
    "    - 김선빈 - 타석:476, 안타:176<br>\n",
    "    - 박건우 - 타석:483, 안타:177<br>\n",
    "    - 박민우 - 타석:388, 안타:141<br>\n",
    "    - 나성범 - 타석:498, 안타:173<br>\n",
    "    - 박용택 - 타석:509, 안타:175<br>"
   ]
  },
  {
   "cell_type": "code",
   "execution_count": null,
   "metadata": {},
   "outputs": [],
   "source": [
    "# list\n",
    "ksb = [476, 176]"
   ]
  },
  {
   "cell_type": "code",
   "execution_count": null,
   "metadata": {},
   "outputs": [],
   "source": [
    "# dictionary\n",
    "ksb = [\"타석\": 476, \"안타\":176]"
   ]
  },
  {
   "cell_type": "code",
   "execution_count": 123,
   "metadata": {},
   "outputs": [],
   "source": [
    "# 클래스\n",
    "class baseball_player:\n",
    "    \n",
    "    def __init__(self, play, hit):\n",
    "        self.play = play\n",
    "        self.hit = hit\n",
    "    \n",
    "    def avg(self):\n",
    "        return self.hit / self.play\n",
    "    \n",
    "    "
   ]
  },
  {
   "cell_type": "code",
   "execution_count": 124,
   "metadata": {},
   "outputs": [],
   "source": [
    "ksb = baseball_player(476, 176)"
   ]
  },
  {
   "cell_type": "code",
   "execution_count": 119,
   "metadata": {},
   "outputs": [
    {
     "data": {
      "text/plain": [
       "0.3697478991596639"
      ]
     },
     "execution_count": 119,
     "metadata": {},
     "output_type": "execute_result"
    }
   ],
   "source": [
    "ksb.avg()"
   ]
  },
  {
   "cell_type": "code",
   "execution_count": 121,
   "metadata": {},
   "outputs": [
    {
     "data": {
      "text/plain": [
       "476"
      ]
     },
     "execution_count": 121,
     "metadata": {},
     "output_type": "execute_result"
    }
   ],
   "source": [
    "ksb.play"
   ]
  },
  {
   "cell_type": "code",
   "execution_count": 122,
   "metadata": {},
   "outputs": [
    {
     "data": {
      "text/plain": [
       "176"
      ]
     },
     "execution_count": 122,
     "metadata": {},
     "output_type": "execute_result"
    }
   ],
   "source": [
    "ksb.hit"
   ]
  },
  {
   "cell_type": "code",
   "execution_count": null,
   "metadata": {},
   "outputs": [],
   "source": []
  }
 ],
 "metadata": {
  "kernelspec": {
   "display_name": "Python 3",
   "language": "python",
   "name": "python3"
  },
  "language_info": {
   "codemirror_mode": {
    "name": "ipython",
    "version": 3
   },
   "file_extension": ".py",
   "mimetype": "text/x-python",
   "name": "python",
   "nbconvert_exporter": "python",
   "pygments_lexer": "ipython3",
   "version": "3.6.2"
  }
 },
 "nbformat": 4,
 "nbformat_minor": 2
}
