{
 "cells": [
  {
   "cell_type": "markdown",
   "metadata": {},
   "source": [
    "# 1. Basic Syntax\n",
    "- 식별자 (Identifiers)\n",
    "- 변수 (Variable)\n",
    "- 자료형 ( Data Type )\n",
    "- 데이터 형변환 ( Data Type Conversion)\n",
    "- 연산자 (Operator)"
   ]
  },
  {
   "cell_type": "markdown",
   "metadata": {},
   "source": [
    "### (1) 식별자 ( Identifiers )\n",
    "- 변수, 함수, 클래스, 모듈 등을 구분하기 위해 사용되는 이름\n",
    "- 규칙\n",
    "    - 대소문자를 구분\n",
    "    - 소문자(a~z), 대문자(A-Z), 숫자(0~9), 언더스코어(_) 사용 가능\n",
    "    - (_)를 제외한 특수문자는 사용 불가\n",
    "    - 가장 앞에 (__) 사용 지양 (reserved global variable)\n",
    "    - 가장 앞에 숫자 사용 불가\n",
    "    - 예약어 사용 불가\n",
    "        - 예약어 : Fasle, class, finally, is, return, None, continue, for, lambda, try, True, def, from, nonlocal, while, and, del, global, not, with, as, elif, if, or, yield, assert, else, import, pass, break, except, in, raise"
   ]
  },
  {
   "cell_type": "code",
   "execution_count": 1,
   "metadata": {
    "collapsed": true
   },
   "outputs": [],
   "source": [
    "a = 1"
   ]
  },
  {
   "cell_type": "code",
   "execution_count": 2,
   "metadata": {
    "collapsed": true
   },
   "outputs": [],
   "source": [
    "A = 2"
   ]
  },
  {
   "cell_type": "code",
   "execution_count": 3,
   "metadata": {},
   "outputs": [
    {
     "data": {
      "text/plain": [
       "(1, 2)"
      ]
     },
     "execution_count": 3,
     "metadata": {},
     "output_type": "execute_result"
    }
   ],
   "source": [
    "a, A"
   ]
  },
  {
   "cell_type": "code",
   "execution_count": 4,
   "metadata": {},
   "outputs": [
    {
     "ename": "SyntaxError",
     "evalue": "invalid syntax (<ipython-input-4-5dc60cfb53ce>, line 1)",
     "output_type": "error",
     "traceback": [
      "\u001b[0;36m  File \u001b[0;32m\"<ipython-input-4-5dc60cfb53ce>\"\u001b[0;36m, line \u001b[0;32m1\u001b[0m\n\u001b[0;31m    a&\u001b[0m\n\u001b[0m      ^\u001b[0m\n\u001b[0;31mSyntaxError\u001b[0m\u001b[0;31m:\u001b[0m invalid syntax\n"
     ]
    }
   ],
   "source": [
    "a&"
   ]
  },
  {
   "cell_type": "code",
   "execution_count": 5,
   "metadata": {},
   "outputs": [
    {
     "data": {
      "text/plain": [
       "3"
      ]
     },
     "execution_count": 5,
     "metadata": {},
     "output_type": "execute_result"
    }
   ],
   "source": [
    "a_ = 3\n",
    "a_"
   ]
  },
  {
   "cell_type": "code",
   "execution_count": 6,
   "metadata": {},
   "outputs": [
    {
     "ename": "SyntaxError",
     "evalue": "invalid syntax (<ipython-input-6-cc67e5ecf289>, line 1)",
     "output_type": "error",
     "traceback": [
      "\u001b[0;36m  File \u001b[0;32m\"<ipython-input-6-cc67e5ecf289>\"\u001b[0;36m, line \u001b[0;32m1\u001b[0m\n\u001b[0;31m    1a = 1\u001b[0m\n\u001b[0m     ^\u001b[0m\n\u001b[0;31mSyntaxError\u001b[0m\u001b[0;31m:\u001b[0m invalid syntax\n"
     ]
    }
   ],
   "source": [
    "1a = 1"
   ]
  },
  {
   "cell_type": "code",
   "execution_count": 7,
   "metadata": {},
   "outputs": [
    {
     "data": {
      "text/plain": [
       "5"
      ]
     },
     "execution_count": 7,
     "metadata": {},
     "output_type": "execute_result"
    }
   ],
   "source": [
    "a1 = 5\n",
    "a1"
   ]
  },
  {
   "cell_type": "code",
   "execution_count": 8,
   "metadata": {},
   "outputs": [
    {
     "ename": "SyntaxError",
     "evalue": "invalid syntax (<ipython-input-8-3bb548471f91>, line 1)",
     "output_type": "error",
     "traceback": [
      "\u001b[0;36m  File \u001b[0;32m\"<ipython-input-8-3bb548471f91>\"\u001b[0;36m, line \u001b[0;32m1\u001b[0m\n\u001b[0;31m    def = 5\u001b[0m\n\u001b[0m        ^\u001b[0m\n\u001b[0;31mSyntaxError\u001b[0m\u001b[0;31m:\u001b[0m invalid syntax\n"
     ]
    }
   ],
   "source": [
    "def = 5"
   ]
  },
  {
   "cell_type": "markdown",
   "metadata": {},
   "source": [
    "### (2) 변수 ( Variable )\n",
    "- 메모리에 데이터를 저장하기 위한 저장공간의 이름\n",
    "- snake_case & PascalCase & camelCase\n",
    "- 값을 저장하기위한 변수명으로는 snake_case를 사용"
   ]
  },
  {
   "cell_type": "code",
   "execution_count": 9,
   "metadata": {
    "collapsed": true
   },
   "outputs": [],
   "source": [
    "# a 라는 이름의 저장공간을 만들고 1 이라는 숫자를 넣는다라는 뜻\n",
    "a = 1"
   ]
  },
  {
   "cell_type": "code",
   "execution_count": 10,
   "metadata": {},
   "outputs": [
    {
     "name": "stdout",
     "output_type": "stream",
     "text": [
      "1\n"
     ]
    }
   ],
   "source": [
    "print(a)"
   ]
  },
  {
   "cell_type": "code",
   "execution_count": 11,
   "metadata": {
    "collapsed": true
   },
   "outputs": [],
   "source": [
    "data_science_school = \"데사스\""
   ]
  },
  {
   "cell_type": "code",
   "execution_count": 12,
   "metadata": {
    "collapsed": true
   },
   "outputs": [],
   "source": [
    "# b 라는 이름의 저장공간을 만들고 \"python\" 이라는 문자열을 넣는다라는 뜻\n",
    "b = \"python\""
   ]
  },
  {
   "cell_type": "code",
   "execution_count": 13,
   "metadata": {},
   "outputs": [
    {
     "name": "stdout",
     "output_type": "stream",
     "text": [
      "python\n"
     ]
    }
   ],
   "source": [
    "print(b)"
   ]
  },
  {
   "cell_type": "code",
   "execution_count": 14,
   "metadata": {},
   "outputs": [
    {
     "name": "stdout",
     "output_type": "stream",
     "text": [
      "5\n"
     ]
    }
   ],
   "source": [
    "_abc__DEF9 = 5\n",
    "print(_abc__DEF9)"
   ]
  },
  {
   "cell_type": "code",
   "execution_count": 15,
   "metadata": {},
   "outputs": [
    {
     "ename": "SyntaxError",
     "evalue": "invalid syntax (<ipython-input-15-8f442087e416>, line 2)",
     "output_type": "error",
     "traceback": [
      "\u001b[0;36m  File \u001b[0;32m\"<ipython-input-15-8f442087e416>\"\u001b[0;36m, line \u001b[0;32m2\u001b[0m\n\u001b[0;31m    abc% = 10\u001b[0m\n\u001b[0m         ^\u001b[0m\n\u001b[0;31mSyntaxError\u001b[0m\u001b[0;31m:\u001b[0m invalid syntax\n"
     ]
    }
   ],
   "source": [
    "# 식별자 규칙에 맞지 않는 변수 할당 2\n",
    "abc% = 10"
   ]
  },
  {
   "cell_type": "code",
   "execution_count": 16,
   "metadata": {},
   "outputs": [
    {
     "ename": "SyntaxError",
     "evalue": "invalid token (<ipython-input-16-9929ec45a96e>, line 2)",
     "output_type": "error",
     "traceback": [
      "\u001b[0;36m  File \u001b[0;32m\"<ipython-input-16-9929ec45a96e>\"\u001b[0;36m, line \u001b[0;32m2\u001b[0m\n\u001b[0;31m    1_abc__DEF9 = 10\u001b[0m\n\u001b[0m     ^\u001b[0m\n\u001b[0;31mSyntaxError\u001b[0m\u001b[0;31m:\u001b[0m invalid token\n"
     ]
    }
   ],
   "source": [
    "# 식별자 규칙에 맞지 않는 변수 할당 2\n",
    "1_abc__DEF9 = 10"
   ]
  },
  {
   "cell_type": "code",
   "execution_count": 17,
   "metadata": {},
   "outputs": [
    {
     "ename": "SyntaxError",
     "evalue": "invalid syntax (<ipython-input-17-1362972d203f>, line 2)",
     "output_type": "error",
     "traceback": [
      "\u001b[0;36m  File \u001b[0;32m\"<ipython-input-17-1362972d203f>\"\u001b[0;36m, line \u001b[0;32m2\u001b[0m\n\u001b[0;31m    class = 5\u001b[0m\n\u001b[0m          ^\u001b[0m\n\u001b[0;31mSyntaxError\u001b[0m\u001b[0;31m:\u001b[0m invalid syntax\n"
     ]
    }
   ],
   "source": [
    "# 식별자 규칙에 맞지 않는 변수 할당 3\n",
    "class = 5"
   ]
  },
  {
   "cell_type": "code",
   "execution_count": 18,
   "metadata": {},
   "outputs": [
    {
     "name": "stdout",
     "output_type": "stream",
     "text": [
      "5 fastcampus\n"
     ]
    }
   ],
   "source": [
    "# 다중 할당 1\n",
    "c, d = 5, \"fastcampus\"\n",
    "print(c,d)"
   ]
  },
  {
   "cell_type": "code",
   "execution_count": 19,
   "metadata": {},
   "outputs": [
    {
     "name": "stdout",
     "output_type": "stream",
     "text": [
      "datascience datascience datascience\n"
     ]
    }
   ],
   "source": [
    "# 다중 할당 2\n",
    "e = f = g = \"datascience\"\n",
    "print(e, f, g)"
   ]
  },
  {
   "cell_type": "markdown",
   "metadata": {},
   "source": [
    "### (3) 자료형 ( Data Type )\n",
    "- Numbers\n",
    "    - int : 정수 `( python 2.x - 표현범위 (-2**31 - 1) ~ 2**31 , python 3.x 는 없어짐 )`\n",
    "    - float : 실수\n",
    "    - complex : 복소수\n",
    "- Boolean\n",
    "    - True, False 두가지로 이루어진 데이터 타입\n",
    "- String\n",
    "    - 문자들의 나열로 이루어진 데이터 타입\n",
    "    \n",
    "##### Collections\n",
    "- List\n",
    "    - 순서가 있는 데이터의 나열\n",
    "- Tuple\n",
    "    - 순서가 있는 데이터들의 나열 변경 불가능 (리스트보다 저장 공간을 적게 차지)\n",
    "- Dictionary\n",
    "    - key, value가 쌍으로 이루어진 데이터 타입\n",
    "- Set\n",
    "    - 순서가 없고 데이터 중복이 되지 않는 데이터 타입\n",
    "    - Dictionary의 key 라고 생각하면 됨"
   ]
  },
  {
   "cell_type": "markdown",
   "metadata": {},
   "source": [
    "##### Integer"
   ]
  },
  {
   "cell_type": "code",
   "execution_count": 20,
   "metadata": {},
   "outputs": [
    {
     "name": "stdout",
     "output_type": "stream",
     "text": [
      "<class 'int'> <class 'int'> <class 'int'> <class 'int'>\n",
      "0 998374 -188723 29993\n"
     ]
    }
   ],
   "source": [
    "a, b, c, d = 0, 998374, -188723, +29993\n",
    "print(type(a),type(b),type(c),type(d))\n",
    "print(a, b, c, d)"
   ]
  },
  {
   "cell_type": "markdown",
   "metadata": {},
   "source": [
    "##### Float"
   ]
  },
  {
   "cell_type": "code",
   "execution_count": 21,
   "metadata": {},
   "outputs": [
    {
     "name": "stdout",
     "output_type": "stream",
     "text": [
      "<class 'float'> <class 'float'> <class 'float'> <class 'float'>\n",
      "0.0 998.3223 -188723.1233 29993.111\n"
     ]
    }
   ],
   "source": [
    "a, b, c, d = 0.0, 998.3223, -188723.1233, +29993.111\n",
    "print(type(a),type(b),type(c),type(d))\n",
    "print(a, b, c, d)"
   ]
  },
  {
   "cell_type": "markdown",
   "metadata": {},
   "source": [
    "##### Complex Number"
   ]
  },
  {
   "cell_type": "code",
   "execution_count": 22,
   "metadata": {},
   "outputs": [
    {
     "name": "stdout",
     "output_type": "stream",
     "text": [
      "(2+3j)\n",
      "(3-4j)\n",
      "<class 'complex'> <class 'complex'>\n"
     ]
    }
   ],
   "source": [
    "a = 2 + 3j\n",
    "print(a)\n",
    "b = complex(3, -4)\n",
    "print(b)\n",
    "print(type(a), type(b))"
   ]
  },
  {
   "cell_type": "code",
   "execution_count": 23,
   "metadata": {},
   "outputs": [
    {
     "name": "stdout",
     "output_type": "stream",
     "text": [
      "2.0 3.0\n",
      "3.0 -4.0\n"
     ]
    }
   ],
   "source": [
    "# 실수부, 허수부\n",
    "print(a.real, a.imag)\n",
    "print(b.real, b.imag)"
   ]
  },
  {
   "cell_type": "code",
   "execution_count": 24,
   "metadata": {},
   "outputs": [
    {
     "name": "stdout",
     "output_type": "stream",
     "text": [
      "(5-1j)\n",
      "(-1+7j)\n",
      "(18+1j)\n",
      "(-0.24+0.68j)\n"
     ]
    }
   ],
   "source": [
    "# 복소수 연산\n",
    "print(a + b)\n",
    "print(a - b)\n",
    "print(a * b)\n",
    "print(a / b)"
   ]
  },
  {
   "cell_type": "code",
   "execution_count": 25,
   "metadata": {},
   "outputs": [
    {
     "name": "stdout",
     "output_type": "stream",
     "text": [
      "(2-3j)\n",
      "(3+4j)\n",
      "3.605551275463989\n",
      "5.0\n"
     ]
    }
   ],
   "source": [
    "# 켤레복소수\n",
    "print(a.conjugate())\n",
    "print(b.conjugate())\n",
    "\n",
    "# 복소수의 크기\n",
    "print(abs(a))\n",
    "print(abs(b))"
   ]
  },
  {
   "cell_type": "markdown",
   "metadata": {},
   "source": [
    "##### Boolean"
   ]
  },
  {
   "cell_type": "code",
   "execution_count": 26,
   "metadata": {},
   "outputs": [
    {
     "name": "stdout",
     "output_type": "stream",
     "text": [
      "<class 'bool'> <class 'bool'>\n",
      "True False\n"
     ]
    }
   ],
   "source": [
    "a, b = True, False\n",
    "print(type(a), type(b))\n",
    "print(a, b)"
   ]
  },
  {
   "cell_type": "markdown",
   "metadata": {},
   "source": [
    "##### String"
   ]
  },
  {
   "cell_type": "code",
   "execution_count": 27,
   "metadata": {},
   "outputs": [
    {
     "name": "stdout",
     "output_type": "stream",
     "text": [
      "<class 'str'> <class 'str'> <class 'str'> <class 'str'>\n"
     ]
    },
    {
     "data": {
      "text/plain": [
       "('FastCampus', '데이터사이언스', '데이터\"Science', \"데이터'Science\")"
      ]
     },
     "execution_count": 27,
     "metadata": {},
     "output_type": "execute_result"
    }
   ],
   "source": [
    "a, b, c, d = \"FastCampus\", \"데이터사이언스\", '데이터\"Science', \"데이터'Science\"\n",
    "print(type(a), type(b), type(c), type(d))\n",
    "a, b, c, d"
   ]
  },
  {
   "cell_type": "code",
   "execution_count": 28,
   "metadata": {},
   "outputs": [
    {
     "name": "stdout",
     "output_type": "stream",
     "text": [
      "FastCampus\n",
      "데이터사이언스\n",
      "Science\n"
     ]
    }
   ],
   "source": [
    "ms = \"\"\"FastCampus\n",
    "데이터사이언스\n",
    "Science\"\"\"\n",
    "print(ms)"
   ]
  },
  {
   "cell_type": "code",
   "execution_count": 29,
   "metadata": {},
   "outputs": [
    {
     "data": {
      "text/plain": [
       "'Fast Fast Fast Fast '"
      ]
     },
     "execution_count": 29,
     "metadata": {},
     "output_type": "execute_result"
    }
   ],
   "source": [
    "# copy string\n",
    "a = \"Fast \" * 4\n",
    "a"
   ]
  },
  {
   "cell_type": "code",
   "execution_count": 30,
   "metadata": {},
   "outputs": [
    {
     "data": {
      "text/plain": [
       "('a', 'f', 'k', 'g')"
      ]
     },
     "execution_count": 30,
     "metadata": {},
     "output_type": "execute_result"
    }
   ],
   "source": [
    "# offset\n",
    "a = \"abcdefghijk\"\n",
    "a[0], a[5], a[-1], a[-5]"
   ]
  },
  {
   "cell_type": "code",
   "execution_count": 31,
   "metadata": {},
   "outputs": [
    {
     "data": {
      "text/plain": [
       "('bc', 'abcde', 'ijk', 'acegik')"
      ]
     },
     "execution_count": 31,
     "metadata": {},
     "output_type": "execute_result"
    }
   ],
   "source": [
    "# slice\n",
    "# str[start:end:step]\n",
    "a = \"abcdefghijk\"\n",
    "a[1:3], a[0:5], a[-3:], a[::2]"
   ]
  },
  {
   "cell_type": "code",
   "execution_count": 32,
   "metadata": {},
   "outputs": [
    {
     "data": {
      "text/plain": [
       "'kjihgfedcba'"
      ]
     },
     "execution_count": 32,
     "metadata": {},
     "output_type": "execute_result"
    }
   ],
   "source": [
    "a = \"abcdefghijk\"\n",
    "a[::-1]"
   ]
  },
  {
   "cell_type": "code",
   "execution_count": 33,
   "metadata": {},
   "outputs": [
    {
     "data": {
      "text/plain": [
       "11"
      ]
     },
     "execution_count": 33,
     "metadata": {},
     "output_type": "execute_result"
    }
   ],
   "source": [
    "a = \"abcdefghijk\"\n",
    "len(a)"
   ]
  },
  {
   "cell_type": "code",
   "execution_count": 34,
   "metadata": {},
   "outputs": [
    {
     "data": {
      "text/plain": [
       "('abcdefghijk', 'abcdefghijk')"
      ]
     },
     "execution_count": 34,
     "metadata": {},
     "output_type": "execute_result"
    }
   ],
   "source": [
    "a = \"abcdefghijk\"\n",
    "a[:len(a)], a[:]"
   ]
  },
  {
   "cell_type": "code",
   "execution_count": 36,
   "metadata": {},
   "outputs": [
    {
     "name": "stdout",
     "output_type": "stream",
     "text": [
      "  FAST CAMPUS DATASCIENCE  \n",
      "  fast campus datascience  \n"
     ]
    }
   ],
   "source": [
    "# string inner functions\n",
    "# https://docs.python.org/3/library/stdtypes.html#string-methods\n",
    "\n",
    "a = \"  FAST campus datascience  \"\n",
    "\n",
    "# upper() - 대문자로 변환\n",
    "print(a.upper())\n",
    "\n",
    "# lower() - 소문자로 변환\n",
    "print(a.lower())"
   ]
  },
  {
   "cell_type": "code",
   "execution_count": 37,
   "metadata": {},
   "outputs": [
    {
     "name": "stdout",
     "output_type": "stream",
     "text": [
      "7\n",
      "-1\n",
      "7\n"
     ]
    },
    {
     "ename": "ValueError",
     "evalue": "substring not found",
     "output_type": "error",
     "traceback": [
      "\u001b[0;31m---------------------------------------------------------------------------\u001b[0m",
      "\u001b[0;31mValueError\u001b[0m                                Traceback (most recent call last)",
      "\u001b[0;32m<ipython-input-37-b74935c036a1>\u001b[0m in \u001b[0;36m<module>\u001b[0;34m()\u001b[0m\n\u001b[1;32m      5\u001b[0m \u001b[0;31m# index() - 해당 문자열 위치 리턴  (없으면 value error 리턴)\u001b[0m\u001b[0;34m\u001b[0m\u001b[0;34m\u001b[0m\u001b[0m\n\u001b[1;32m      6\u001b[0m \u001b[0mprint\u001b[0m\u001b[0;34m(\u001b[0m\u001b[0ma\u001b[0m\u001b[0;34m.\u001b[0m\u001b[0mindex\u001b[0m\u001b[0;34m(\u001b[0m\u001b[0;34m\"c\"\u001b[0m\u001b[0;34m)\u001b[0m\u001b[0;34m)\u001b[0m\u001b[0;34m\u001b[0m\u001b[0m\n\u001b[0;32m----> 7\u001b[0;31m \u001b[0mprint\u001b[0m\u001b[0;34m(\u001b[0m\u001b[0ma\u001b[0m\u001b[0;34m.\u001b[0m\u001b[0mindex\u001b[0m\u001b[0;34m(\u001b[0m\u001b[0;34m\"q\"\u001b[0m\u001b[0;34m)\u001b[0m\u001b[0;34m)\u001b[0m\u001b[0;34m\u001b[0m\u001b[0m\n\u001b[0m",
      "\u001b[0;31mValueError\u001b[0m: substring not found"
     ]
    }
   ],
   "source": [
    "# find() - 해당 문자열 위치 리턴 (없으면 -1 리턴)\n",
    "print(a.find(\"c\"))\n",
    "print(a.find(\"q\"))\n",
    "\n",
    "# index() - 해당 문자열 위치 리턴  (없으면 value error 리턴)\n",
    "print(a.index(\"c\"))\n",
    "print(a.index(\"q\"))"
   ]
  },
  {
   "cell_type": "code",
   "execution_count": 38,
   "metadata": {},
   "outputs": [
    {
     "name": "stdout",
     "output_type": "stream",
     "text": [
      "1\n"
     ]
    }
   ],
   "source": [
    "# count() - 문자열 갯수 리턴\n",
    "print(a.count(\"da\"))"
   ]
  },
  {
   "cell_type": "code",
   "execution_count": 39,
   "metadata": {},
   "outputs": [
    {
     "name": "stdout",
     "output_type": "stream",
     "text": [
      "FAST campus datascience  !\n",
      "  FAST campus datascience!\n",
      "FAST campus datascience!\n"
     ]
    }
   ],
   "source": [
    "# lstrip() - 왼쪽 공백 제거\n",
    "print(a.lstrip(), end=\"!\\n\")\n",
    "\n",
    "# rstrip() - 오른쪽 공백 제거\n",
    "print(a.rstrip(), end=\"!\\n\")\n",
    "\n",
    "# strip() - 양쪽 공백 제거\n",
    "print(a.strip(), end=\"!\\n\")"
   ]
  },
  {
   "cell_type": "code",
   "execution_count": 40,
   "metadata": {},
   "outputs": [
    {
     "name": "stdout",
     "output_type": "stream",
     "text": [
      "  FAST cbmpus dbtbscience  \n"
     ]
    }
   ],
   "source": [
    "# replace() - 특정 문자열 치환\n",
    "print(a.replace(\"a\",\"b\"))"
   ]
  },
  {
   "cell_type": "code",
   "execution_count": 41,
   "metadata": {},
   "outputs": [
    {
     "name": "stdout",
     "output_type": "stream",
     "text": [
      "['', '', 'FAST', 'campus', 'datascience', '', '']\n"
     ]
    }
   ],
   "source": [
    "# split() - 특정 문자열로 분리하여 리스트 형태로 리턴\n",
    "print(a.split(\" \"))"
   ]
  },
  {
   "cell_type": "code",
   "execution_count": 42,
   "metadata": {},
   "outputs": [
    {
     "name": "stdout",
     "output_type": "stream",
     "text": [
      "True\n"
     ]
    }
   ],
   "source": [
    "# endswith() - 마지막 문자열이 일치하면 True 리턴\n",
    "print(a.rstrip().endswith(\"datascience\"))"
   ]
  },
  {
   "cell_type": "code",
   "execution_count": 43,
   "metadata": {},
   "outputs": [
    {
     "name": "stdout",
     "output_type": "stream",
     "text": [
      "fast-campus-data-science\n"
     ]
    }
   ],
   "source": [
    "# join() - 문자열 리스트를 결합\n",
    "a = [\"fast\", \"campus\", \"data\", \"science\"]\n",
    "print(\"-\".join(a))"
   ]
  },
  {
   "cell_type": "markdown",
   "metadata": {},
   "source": [
    "##### List"
   ]
  },
  {
   "cell_type": "code",
   "execution_count": 3,
   "metadata": {},
   "outputs": [
    {
     "name": "stdout",
     "output_type": "stream",
     "text": [
      "<class 'list'> <class 'list'> <class 'list'>\n"
     ]
    },
    {
     "data": {
      "text/plain": [
       "(['fast', 'campus', 'data', 'science'], [1, 2, 3, 4], [1, 'fast', True])"
      ]
     },
     "execution_count": 3,
     "metadata": {},
     "output_type": "execute_result"
    }
   ],
   "source": [
    "a = [\"fast\", \"campus\", \"data\", \"science\"]\n",
    "b = [1,2,3,4]\n",
    "c = [1, \"fast\", True]\n",
    "print(type(a), type(b), type(c))\n",
    "a, b, c"
   ]
  },
  {
   "cell_type": "code",
   "execution_count": 45,
   "metadata": {},
   "outputs": [
    {
     "name": "stdout",
     "output_type": "stream",
     "text": [
      "campus science ['campus', 'data'] ['fast', 'campus', 'data', 'science'] ['science', 'campus']\n"
     ]
    },
    {
     "data": {
      "text/plain": [
       "['fast', 'campus', 'pdj', 'science']"
      ]
     },
     "execution_count": 45,
     "metadata": {},
     "output_type": "execute_result"
    }
   ],
   "source": [
    "# offset\n",
    "a = [\"fast\", \"campus\", \"data\", \"science\"]\n",
    "print(a[1], a[-1], a[1:3], a[:], a[::-2])\n",
    "a[-2] = \"pdj\"\n",
    "a"
   ]
  },
  {
   "cell_type": "code",
   "execution_count": 5,
   "metadata": {},
   "outputs": [
    {
     "name": "stdout",
     "output_type": "stream",
     "text": [
      "['fast', 'campus', 'data', 'science', 'fighting!']\n",
      "['fast', 'data', 'campus', 'science', 'fighting!']\n",
      "[1, 2, 3, 4]\n",
      "[4, 3, 2, 1]\n",
      "2\n",
      "['fast', 'data', 'index', 'campus', 'science', 'index', 'fighting!']\n",
      "['fast', 'data', 'campus', 'science', 'index', 'fighting!']\n",
      "fighting!\n",
      "['fast', 'data', 'campus', 'science', 'index']\n"
     ]
    }
   ],
   "source": [
    "# string inner functions\n",
    "\n",
    "a = [\"fast\", \"campus\", \"data\", \"science\"]\n",
    "b = [1,2,3,4]\n",
    "\n",
    "# append() - 가장 마지막에 데이터 추가\n",
    "a.append(\"fighting!\")\n",
    "print(a)\n",
    "\n",
    "# sort() - 오름차순 정렬\n",
    "b.sort() # 알파벳 순으로\n",
    "a.sort(key=len) # 글자 길이 순으로\n",
    "print(a)\n",
    "print(b)\n",
    "\n",
    "# reverse() - 내림차순 정렬\n",
    "b.reverse()\n",
    "print(b)\n",
    "\n",
    "# index() - 데이터 위치 리턴\n",
    "print(a.index('campus'))\n",
    "\n",
    "# insert() - 특정 위치에 데이터 추가\n",
    "a.insert(2, 'index')\n",
    "a.insert(5, 'index')\n",
    "print(a)\n",
    "\n",
    "# remove() - 해당되는 데이터 값을 삭제 (오프셋이 가장 낮은 데이터 하나만 삭제)\n",
    "a.remove('index')\n",
    "print(a)\n",
    "\n",
    "# pop() - 가장 마지막 값을 리턴\n",
    "print(a.pop())\n",
    "print(a)"
   ]
  },
  {
   "cell_type": "code",
   "execution_count": 47,
   "metadata": {},
   "outputs": [
    {
     "name": "stdout",
     "output_type": "stream",
     "text": [
      "[1, 2, 3] [1, 2, 3]\n",
      "[1, 2, 4] [1, 2, 4]\n",
      "[1, 2, 4] [1, 2, 4]\n",
      "[1, 2, 5] [1, 2, 4]\n"
     ]
    }
   ],
   "source": [
    "# list copy\n",
    "a = [1,2,3]\n",
    "b = a\n",
    "print(a, b)\n",
    "\n",
    "a[2] = 4\n",
    "print(a, b)\n",
    "\n",
    "c = a.copy()\n",
    "print(a,c)\n",
    "\n",
    "a[2] = 5\n",
    "print(a,c)"
   ]
  },
  {
   "cell_type": "code",
   "execution_count": 48,
   "metadata": {},
   "outputs": [
    {
     "name": "stdout",
     "output_type": "stream",
     "text": [
      "[1, 'Fast', 3, 4, 5]\n"
     ]
    },
    {
     "data": {
      "text/plain": [
       "[1, 'a', 5]"
      ]
     },
     "execution_count": 48,
     "metadata": {},
     "output_type": "execute_result"
    }
   ],
   "source": [
    "a = [1,2,3,4,5]\n",
    "\n",
    "# offset을 이용하여 데이터 수정\n",
    "a[1] = \"Fast\"\n",
    "print(a)\n",
    "\n",
    "a[1:4] = \"a\"\n",
    "a\n"
   ]
  },
  {
   "cell_type": "markdown",
   "metadata": {},
   "source": [
    "##### Tuple\n"
   ]
  },
  {
   "cell_type": "code",
   "execution_count": 49,
   "metadata": {},
   "outputs": [
    {
     "name": "stdout",
     "output_type": "stream",
     "text": [
      "<class 'tuple'> <class 'tuple'> <class 'tuple'> <class 'tuple'>\n",
      "(1, 2, 3, 4) ('fast', 'campus', 'data', 'science') (1, 'fast', True) (1, 'fast', True)\n"
     ]
    }
   ],
   "source": [
    "a = 1, 2, 3, 4\n",
    "b = \"fast\", \"campus\", \"data\", \"science\"\n",
    "c = 1, \"fast\", True\n",
    "d = (1, \"fast\", True)\n",
    "print(type(a), type(b), type(c), type(d))\n",
    "print(a, b, c, d)"
   ]
  },
  {
   "cell_type": "code",
   "execution_count": 50,
   "metadata": {},
   "outputs": [
    {
     "data": {
      "text/plain": [
       "(3, (2, 3))"
      ]
     },
     "execution_count": 50,
     "metadata": {},
     "output_type": "execute_result"
    }
   ],
   "source": [
    "a[2], a[1:3]"
   ]
  },
  {
   "cell_type": "code",
   "execution_count": 51,
   "metadata": {},
   "outputs": [
    {
     "ename": "TypeError",
     "evalue": "'tuple' object does not support item assignment",
     "output_type": "error",
     "traceback": [
      "\u001b[0;31m---------------------------------------------------------------------------\u001b[0m",
      "\u001b[0;31mTypeError\u001b[0m                                 Traceback (most recent call last)",
      "\u001b[0;32m<ipython-input-51-94a9e8b8ba38>\u001b[0m in \u001b[0;36m<module>\u001b[0;34m()\u001b[0m\n\u001b[1;32m      1\u001b[0m \u001b[0;31m# cannot modify\u001b[0m\u001b[0;34m\u001b[0m\u001b[0;34m\u001b[0m\u001b[0m\n\u001b[0;32m----> 2\u001b[0;31m \u001b[0ma\u001b[0m\u001b[0;34m[\u001b[0m\u001b[0;36m1\u001b[0m\u001b[0;34m]\u001b[0m \u001b[0;34m=\u001b[0m \u001b[0;36m3\u001b[0m\u001b[0;34m\u001b[0m\u001b[0m\n\u001b[0m",
      "\u001b[0;31mTypeError\u001b[0m: 'tuple' object does not support item assignment"
     ]
    }
   ],
   "source": [
    "# cannot modify\n",
    "a[1] = 3"
   ]
  },
  {
   "cell_type": "code",
   "execution_count": 52,
   "metadata": {
    "collapsed": true
   },
   "outputs": [],
   "source": [
    "# 리스트와 비교한 튜플의 장점\n",
    "# 리스트보다 더 적은 공간을 사용\n",
    "# 데이터 수정이 안된다(데이터 선언후 수정되지 않아야 할 경우 유리)\n",
    "# Dictionary의 key로 사용할수 있다"
   ]
  },
  {
   "cell_type": "code",
   "execution_count": 54,
   "metadata": {},
   "outputs": [
    {
     "name": "stdout",
     "output_type": "stream",
     "text": [
      "104 byte\n",
      "88 byte\n"
     ]
    }
   ],
   "source": [
    "import sys\n",
    "ls = [1,2,3,4,5]\n",
    "print(sys.getsizeof(ls), \"byte\")\n",
    "t = tuple(ls)\n",
    "print(sys.getsizeof(t), \"byte\")"
   ]
  },
  {
   "cell_type": "markdown",
   "metadata": {},
   "source": [
    "##### Dictionary"
   ]
  },
  {
   "cell_type": "code",
   "execution_count": 55,
   "metadata": {},
   "outputs": [
    {
     "name": "stdout",
     "output_type": "stream",
     "text": [
      "<class 'dict'>\n",
      "{1: 'one', 'A': ['data', 'science'], '숫자': 1234}\n"
     ]
    }
   ],
   "source": [
    "dic = { \n",
    "    1:\"one\",\n",
    "    \"A\": [\"data\", \"science\"],\n",
    "    \"숫자\": 1234,\n",
    "    }\n",
    "print(type(dic))\n",
    "print(dic)"
   ]
  },
  {
   "cell_type": "code",
   "execution_count": 56,
   "metadata": {
    "scrolled": false
   },
   "outputs": [
    {
     "data": {
      "text/plain": [
       "{1: '하나', 'A': '알파벳', '숫자': 1234}"
      ]
     },
     "execution_count": 56,
     "metadata": {},
     "output_type": "execute_result"
    }
   ],
   "source": [
    "dic[1] = \"하나\"\n",
    "dic[\"A\"] = \"알파벳\"\n",
    "dic"
   ]
  },
  {
   "cell_type": "code",
   "execution_count": 57,
   "metadata": {},
   "outputs": [
    {
     "name": "stdout",
     "output_type": "stream",
     "text": [
      "dict_keys([1, 'A', '숫자'])\n",
      "dict_values(['하나', '알파벳', 1234])\n",
      "dict_items([(1, '하나'), ('A', '알파벳'), ('숫자', 1234)])\n",
      "{}\n",
      "two\n",
      "None\n",
      "no_data\n",
      "{1: 'one', 2: 'two', 3: 'three'} {1: 'one', 2: 'two', 3: 'three'}\n",
      "{1: '하나', 2: 'two', 3: 'three'} {1: '하나', 2: 'two', 3: 'three'}\n",
      "{1: 'A', 2: 'two', 3: 'three'} {1: '하나', 2: 'two', 3: 'three'}\n",
      "{1: 'a', 2: 'b'}\n",
      "{1: 'a', 2: 'c', 3: 'd'}\n"
     ]
    }
   ],
   "source": [
    "# inner functions\n",
    "\n",
    "# keys() - 키를 리턴\n",
    "print(dic.keys())\n",
    "\n",
    "# values() - 값을 리턴\n",
    "print(dic.values())\n",
    "\n",
    "# items() - 키와 값을 리턴\n",
    "print(dic.items())\n",
    "\n",
    "# clear() - dictionary 데이터를 모두 삭제\n",
    "dic.clear()\n",
    "print(dic)\n",
    "\n",
    "# get() - 매개변수에 해당하는 값을 리턴\n",
    "dic = { \n",
    "    1:\"one\",\n",
    "    2:\"two\",\n",
    "    3:\"three\",\n",
    "    }\n",
    "print(dic.get(2))\n",
    "print(dic.get(4))\n",
    "# print(dic[4]) \n",
    "print(dic.get(4,\"no_data\")) # get을 사용하면 error를 예방할수 있다.\n",
    "#4가 없다면, \"no_data\"로 치환을 하라는 명령어\n",
    "\n",
    "# copy() - 리스트와 마찬가지로 다른 저장공간을 가지는 데이터를 대입한다.\n",
    "dic2 = dic\n",
    "print(dic, dic2)\n",
    "dic[1] = \"하나\"\n",
    "print(dic, dic2)\n",
    "dic3 = dic.copy()\n",
    "dic[1] = \"A\"\n",
    "print(dic, dic3)\n",
    "\n",
    "# update() - 데이터를 업데이트\n",
    "a = {1:\"a\", 2:\"b\"} \n",
    "b = {2:\"c\", 3:\"d\"}\n",
    "print(a)\n",
    "a.update(b)\n",
    "print(a)"
   ]
  },
  {
   "cell_type": "markdown",
   "metadata": {},
   "source": [
    "##### quiz 1\n",
    "\n",
    "아래의 데이터를 딕셔너리 형태의 데이터로 만드시오\n",
    "\n",
    "- 학생 A - 수학 : 80, 영어 : 100, 과학 : 90\n",
    "- 학생 B - 수학 : 70, 영어 : 100, 과학 : 100\n",
    "- { 'A': {'과학': 90, '수학': 80, '영어': 100}, 'B': {'과학': 100, '수학': 70, '영어': 100}} (결과)"
   ]
  },
  {
   "cell_type": "code",
   "execution_count": 3,
   "metadata": {},
   "outputs": [
    {
     "data": {
      "text/plain": [
       "{'A': {'과학': 90, '수학': 80, '영어': 100}, 'B': {'과학': 100, '수학': 70, '영어': 100}}"
      ]
     },
     "execution_count": 3,
     "metadata": {},
     "output_type": "execute_result"
    }
   ],
   "source": [
    "data = {\n",
    "    'A': {'과학': 90, '수학': 80, '영어': 100}, 'B': {'과학': 100, '수학': 70, '영어': 100}\n",
    "}\n",
    "data"
   ]
  },
  {
   "cell_type": "markdown",
   "metadata": {},
   "source": [
    "##### Set"
   ]
  },
  {
   "cell_type": "code",
   "execution_count": 58,
   "metadata": {},
   "outputs": [
    {
     "name": "stdout",
     "output_type": "stream",
     "text": [
      "<class 'set'>\n",
      "{1, 2, 3, 4, 5}\n"
     ]
    }
   ],
   "source": [
    "s = set([1,2,3,4,5,1,2,3])\n",
    "print(type(s))\n",
    "print(s)"
   ]
  },
  {
   "cell_type": "code",
   "execution_count": 59,
   "metadata": {},
   "outputs": [
    {
     "name": "stdout",
     "output_type": "stream",
     "text": [
      "{3, 4}\n",
      "{3, 4}\n",
      "{1, 2, 3, 4, 5, 6}\n",
      "{1, 2, 3, 4, 5, 6}\n",
      "{1, 2}\n",
      "{1, 2}\n"
     ]
    }
   ],
   "source": [
    "# Set (집합)\n",
    "s1 = set([1,2,3,4])\n",
    "s2 = set([3,4,5,6])\n",
    "\n",
    "# intersection (교집합)\n",
    "print(s1 & s2)\n",
    "print(s1.intersection(s2)) # 함수로도 표현 가능\n",
    "\n",
    "# union (합집합)\n",
    "print(s1 | s2)\n",
    "print(s1.union(s2))\n",
    "\n",
    "# difference (차집합)\n",
    "print(s1 - s2)\n",
    "print(s1.difference(s2))"
   ]
  },
  {
   "cell_type": "code",
   "execution_count": 60,
   "metadata": {},
   "outputs": [
    {
     "data": {
      "text/plain": [
       "{1, 2, 3, 4, 10}"
      ]
     },
     "execution_count": 60,
     "metadata": {},
     "output_type": "execute_result"
    }
   ],
   "source": [
    "s = list(s)\n",
    "s[4] = 10\n",
    "s = set(s)\n",
    "s"
   ]
  },
  {
   "cell_type": "markdown",
   "metadata": {},
   "source": [
    "### (4) 데이터 형변환 ( Data Type Conversion)\n",
    "- boolean"
   ]
  },
  {
   "cell_type": "code",
   "execution_count": 61,
   "metadata": {},
   "outputs": [
    {
     "name": "stdout",
     "output_type": "stream",
     "text": [
      "<class 'int'> 1234\n"
     ]
    }
   ],
   "source": [
    "# convert to int from string\n",
    "s = \"1234\"\n",
    "n = int(s)\n",
    "print(type(n), n)"
   ]
  },
  {
   "cell_type": "code",
   "execution_count": 62,
   "metadata": {},
   "outputs": [
    {
     "name": "stdout",
     "output_type": "stream",
     "text": [
      "<class 'str'> 1234\n"
     ]
    }
   ],
   "source": [
    "# convert to string from int\n",
    "n = 1234\n",
    "s = str(n)\n",
    "print(type(s), s)"
   ]
  },
  {
   "cell_type": "code",
   "execution_count": 63,
   "metadata": {},
   "outputs": [
    {
     "ename": "ValueError",
     "evalue": "invalid literal for int() with base 10: 'a'",
     "output_type": "error",
     "traceback": [
      "\u001b[0;31m---------------------------------------------------------------------------\u001b[0m",
      "\u001b[0;31mValueError\u001b[0m                                Traceback (most recent call last)",
      "\u001b[0;32m<ipython-input-63-d626d4293d41>\u001b[0m in \u001b[0;36m<module>\u001b[0;34m()\u001b[0m\n\u001b[1;32m      1\u001b[0m \u001b[0;31m# 숫자가 아닌 문자열의 형변화는 불가능\u001b[0m\u001b[0;34m\u001b[0m\u001b[0;34m\u001b[0m\u001b[0m\n\u001b[1;32m      2\u001b[0m \u001b[0ms\u001b[0m \u001b[0;34m=\u001b[0m \u001b[0;34m\"a\"\u001b[0m\u001b[0;34m\u001b[0m\u001b[0m\n\u001b[0;32m----> 3\u001b[0;31m \u001b[0mn\u001b[0m \u001b[0;34m=\u001b[0m \u001b[0mint\u001b[0m\u001b[0;34m(\u001b[0m\u001b[0ms\u001b[0m\u001b[0;34m)\u001b[0m\u001b[0;34m\u001b[0m\u001b[0m\n\u001b[0m\u001b[1;32m      4\u001b[0m \u001b[0mprint\u001b[0m\u001b[0;34m(\u001b[0m\u001b[0mtype\u001b[0m\u001b[0;34m(\u001b[0m\u001b[0mn\u001b[0m\u001b[0;34m)\u001b[0m\u001b[0;34m,\u001b[0m \u001b[0mn\u001b[0m\u001b[0;34m)\u001b[0m\u001b[0;34m\u001b[0m\u001b[0m\n",
      "\u001b[0;31mValueError\u001b[0m: invalid literal for int() with base 10: 'a'"
     ]
    }
   ],
   "source": [
    "# 숫자가 아닌 문자열의 형변화는 불가능\n",
    "s = \"a\"\n",
    "n = int(s)\n",
    "print(type(n), n)"
   ]
  },
  {
   "cell_type": "code",
   "execution_count": 64,
   "metadata": {},
   "outputs": [
    {
     "name": "stdout",
     "output_type": "stream",
     "text": [
      "False True\n",
      "True False True False True\n",
      "False True\n"
     ]
    }
   ],
   "source": [
    "# boolean 형변환\n",
    "print(bool(\"\"), bool(\"asedf\"))\n",
    "print(bool(-1), bool(0), bool(1), bool(0.0), bool(0.1))\n",
    "a, b = [], [1,2]\n",
    "print(bool(a), bool(b))"
   ]
  },
  {
   "cell_type": "code",
   "execution_count": 65,
   "metadata": {},
   "outputs": [
    {
     "name": "stdout",
     "output_type": "stream",
     "text": [
      "no_data\n",
      "[1, 2, 3]\n"
     ]
    }
   ],
   "source": [
    "a, b = [], [1,2,3]\n",
    "\n",
    "if len(a) > 0:\n",
    "    print(a)\n",
    "else:\n",
    "    print(\"no_data\")\n",
    "\n",
    "if b:\n",
    "    print(b)\n",
    "else:\n",
    "    print(\"no_data\")\n"
   ]
  },
  {
   "cell_type": "code",
   "execution_count": 66,
   "metadata": {},
   "outputs": [
    {
     "name": "stdout",
     "output_type": "stream",
     "text": [
      "['f', 'a', 's', 't']\n"
     ]
    }
   ],
   "source": [
    "# convert to list from string\n",
    "s = \"fast\"\n",
    "ls = list(s)\n",
    "print(ls)"
   ]
  },
  {
   "cell_type": "code",
   "execution_count": 67,
   "metadata": {},
   "outputs": [
    {
     "name": "stdout",
     "output_type": "stream",
     "text": [
      "(1, 2)\n",
      "((1, 'one'), (2, 'two'))\n"
     ]
    }
   ],
   "source": [
    "# convert to tuple from dictionary\n",
    "d = {1:\"one\", 2:\"two\"}\n",
    "t = tuple(d)\n",
    "print(t)\n",
    "t = tuple(d.items())\n",
    "print(t)"
   ]
  },
  {
   "cell_type": "code",
   "execution_count": 68,
   "metadata": {},
   "outputs": [
    {
     "data": {
      "text/plain": [
       "{1: 'one', 2: 'two'}"
      ]
     },
     "execution_count": 68,
     "metadata": {},
     "output_type": "execute_result"
    }
   ],
   "source": [
    "# convert to dict from tuple\n",
    "t = ((1,\"one\"),(2,\"two\"))\n",
    "dict(t)"
   ]
  },
  {
   "cell_type": "markdown",
   "metadata": {},
   "source": [
    "### 연산자 ( Operator )\n",
    "\n",
    "- 연산자의 종류\n",
    "    - 산술 연산자 (Arithmetic Operators) : `+, -, *, /, //, %, **`\n",
    "    - 비교 연산자 (Comparison Operators) : `==, !=, >, <, =>, =<`\n",
    "    - 할당 연산자 (Assignment Operators) : `=, +=, -=, *=, /=, %=, //=, **=`\n",
    "    - 비트 연산자 (Bitwise Operators) : `&, |, ^, ~, <<, >>`\n",
    "    - 논리 연산자 (Logical Operators) : `and, or, not`\n",
    "    - 멤버 연산자 (Membership Operators) : `in, not in` \n",
    "    - 식별 연산자 (Identity Operators) : `is, is not` "
   ]
  },
  {
   "cell_type": "code",
   "execution_count": 69,
   "metadata": {},
   "outputs": [
    {
     "name": "stdout",
     "output_type": "stream",
     "text": [
      "6\n",
      "-2\n",
      "8\n",
      "3.3333333333333335\n",
      "3\n",
      "1\n",
      "81\n"
     ]
    }
   ],
   "source": [
    "# 산술 연산자\n",
    "# +, -, *, /, //, %, **\n",
    "\n",
    "print(2 + 4)\n",
    "print(2 - 4)\n",
    "print(2 * 4)\n",
    "print(10 / 3)\n",
    "print(10 // 3)\n",
    "print(10 % 3)\n",
    "print(3 ** 4)"
   ]
  },
  {
   "cell_type": "code",
   "execution_count": 1,
   "metadata": {},
   "outputs": [
    {
     "name": "stdout",
     "output_type": "stream",
     "text": [
      "False\n",
      "True\n",
      "False\n",
      "True\n",
      "False\n",
      "True\n"
     ]
    }
   ],
   "source": [
    "# 비교 연산자\n",
    "# ==, !=, >, <, >=, <=\n",
    "\n",
    "a, b = 10, 20\n",
    "\n",
    "print(a==b)   # 같다\n",
    "print(a!=b)   # 같지 않다\n",
    "print(a>b)\n",
    "print(a<b)\n",
    "print(a>=b)\n",
    "print(a<=b)"
   ]
  },
  {
   "cell_type": "code",
   "execution_count": 71,
   "metadata": {},
   "outputs": [
    {
     "name": "stdout",
     "output_type": "stream",
     "text": [
      "5\n",
      "15\n",
      "10\n",
      "100\n",
      "20.0\n",
      "4.0\n",
      "2.0\n",
      "8.0\n"
     ]
    }
   ],
   "source": [
    "# 할당 연산자\n",
    "# =, +=, -=, *=, /=, %=, //=, **=\n",
    "\n",
    "a = 5\n",
    "print(a)\n",
    "\n",
    "a += 10\n",
    "print(a)\n",
    "\n",
    "a -= 5\n",
    "print(a)\n",
    "\n",
    "a *= 10\n",
    "print(a)\n",
    "\n",
    "a /= 5\n",
    "print(a)\n",
    "\n",
    "a %= 8\n",
    "print(a)\n",
    "\n",
    "a //= 2\n",
    "print(a)\n",
    "\n",
    "a **= 3\n",
    "print(a)"
   ]
  },
  {
   "cell_type": "code",
   "execution_count": 1,
   "metadata": {},
   "outputs": [
    {
     "name": "stdout",
     "output_type": "stream",
     "text": [
      "1 0b1\n",
      "7 0b111\n",
      "6 0b110\n",
      "-4 -0b100\n",
      "-6 -0b110\n",
      "12 0b1100\n",
      "2 0b10\n"
     ]
    }
   ],
   "source": [
    "# 비트 연산자\n",
    "# &, |, ^, ~, <<, >>\n",
    "\n",
    "# 비트 연산은 컴퓨터의 방법에 더 가까워서, 처리하는데 속도가 빠르다\n",
    "\n",
    "a = 3 # 011\n",
    "b = 5 # 101\n",
    "\n",
    "print(a&b, bin(a&b))\n",
    "print(a|b, bin(a|b))\n",
    "print(a^b, bin(a^b))\n",
    "print(~a, bin(~a))\n",
    "print(~b, bin(~b))\n",
    "print(a<<2, bin(a<<2))\n",
    "print(b>>1, bin(b>>1))"
   ]
  },
  {
   "cell_type": "code",
   "execution_count": 73,
   "metadata": {},
   "outputs": [
    {
     "name": "stdout",
     "output_type": "stream",
     "text": [
      "True\n",
      "False\n",
      "True\n",
      "True\n",
      "False\n",
      "True\n"
     ]
    }
   ],
   "source": [
    "# 논리 연산자\n",
    "# and, or, not\n",
    "\n",
    "print( True and True )\n",
    "print( True and False )\n",
    "\n",
    "print( True or True )\n",
    "print( True or False )\n",
    "\n",
    "print( not(True and True) )\n",
    "print( not(True and False) )"
   ]
  },
  {
   "cell_type": "code",
   "execution_count": 74,
   "metadata": {},
   "outputs": [
    {
     "name": "stdout",
     "output_type": "stream",
     "text": [
      "True\n",
      "False\n",
      "False\n"
     ]
    }
   ],
   "source": [
    "# 멤버 연산자\n",
    "a = [1,2,3,4]\n",
    "print(1 in a)\n",
    "print(5 in a)\n",
    "print(1 not in a)"
   ]
  },
  {
   "cell_type": "code",
   "execution_count": 75,
   "metadata": {},
   "outputs": [
    {
     "name": "stdout",
     "output_type": "stream",
     "text": [
      "True\n",
      "False\n",
      "True\n"
     ]
    }
   ],
   "source": [
    "# 식별 연산자\n",
    "# is, is not\n",
    "a = [1,2,3]\n",
    "b = a\n",
    "print( a is b )\n",
    "\n",
    "a = [1,2,3]\n",
    "b = a.copy()\n",
    "print( a is b )\n",
    "\n",
    "print( a is not b )\n",
    "\n",
    "저자이 되어 있는 공간 자체가 다름."
   ]
  },
  {
   "cell_type": "code",
   "execution_count": 4,
   "metadata": {},
   "outputs": [
    {
     "name": "stdout",
     "output_type": "stream",
     "text": [
      "True\n",
      "True\n",
      "False\n"
     ]
    }
   ],
   "source": [
    "# 식별 연산자\n",
    "# is, is not\n",
    "a = \"a\"\n",
    "b = a\n",
    "print( a is b )\n",
    "\n",
    "b = \"a\"\n",
    "print( a is b )\n",
    "\n",
    "print( a is not b )"
   ]
  },
  {
   "cell_type": "markdown",
   "metadata": {},
   "source": [
    "##### quiz 2\n",
    "- 리스트 중복 제거후 내림차순으로 정렬"
   ]
  },
  {
   "cell_type": "code",
   "execution_count": 4,
   "metadata": {
    "collapsed": true
   },
   "outputs": [],
   "source": [
    "# 아래의 리스트를 중복을 제거하고 내림차순으로 정렬하세요.\n",
    "ls = [1, 5, 2, 8, 6, 4, 3, 6, 4]"
   ]
  },
  {
   "cell_type": "code",
   "execution_count": 13,
   "metadata": {},
   "outputs": [
    {
     "data": {
      "text/plain": [
       "[1, 2, 3, 4, 5, 6, 8]"
      ]
     },
     "execution_count": 13,
     "metadata": {},
     "output_type": "execute_result"
    }
   ],
   "source": [
    "# TODO\n",
    "\n",
    "ls = list(set(ls))\n",
    "ls"
   ]
  },
  {
   "cell_type": "code",
   "execution_count": 16,
   "metadata": {},
   "outputs": [
    {
     "data": {
      "text/plain": [
       "[8, 6, 5, 4, 3, 2, 1]"
      ]
     },
     "execution_count": 16,
     "metadata": {},
     "output_type": "execute_result"
    }
   ],
   "source": [
    "ls.reverse()\n",
    "ls"
   ]
  },
  {
   "cell_type": "markdown",
   "metadata": {},
   "source": [
    "##### quiz 3\n",
    "- Arrange\n",
    "- 문장을 단어의 글자수가 낮은 단어 순서대로 재 나열 하시오\n",
    "- 문장의 첫 글자는 대문자이고 마지막은 마침표가 항상 있습니다.\n",
    "\n",
    "결과 예시\n",
    "- The lines are printed in reverse order. (입력)\n",
    "- In the are lines order printed reverse. (결과)\n",
    "\n",
    "힌트\n",
    "- 단어수대로 리스트를 오름차순으로 정렬하는 방법\n",
    "```\n",
    "ls = [\"abc\",\"a\",\"ab\"]\n",
    "ls.sort(key=len)\n",
    "```"
   ]
  },
  {
   "cell_type": "code",
   "execution_count": 27,
   "metadata": {},
   "outputs": [
    {
     "name": "stdout",
     "output_type": "stream",
     "text": [
      "CPU times: user 3 µs, sys: 0 ns, total: 3 µs\n",
      "Wall time: 14.8 µs\n",
      "In the are lines order printed reverse.\n"
     ]
    }
   ],
   "source": [
    "%time\n",
    "\n",
    "sentence = \"The lines are printed in reverse order.\"\n",
    "# TODO\n",
    "\n",
    "sen2 = sentence.lower()\n",
    "sen3 = sen2.replace(\".\", \"\")\n",
    "sen4 = sen3.split(\" \")\n",
    "sen4.sort(key=len)\n",
    "sen5 = (\" \".join(sen4))\n",
    "\n",
    "sen6 = sen5 + \".\"\n",
    "sen7 = sen6.capitalize()\n",
    "\n",
    "print(sen7)"
   ]
  },
  {
   "cell_type": "code",
   "execution_count": null,
   "metadata": {},
   "outputs": [],
   "source": []
  },
  {
   "cell_type": "code",
   "execution_count": null,
   "metadata": {
    "collapsed": true
   },
   "outputs": [],
   "source": []
  },
  {
   "cell_type": "code",
   "execution_count": 28,
   "metadata": {},
   "outputs": [
    {
     "name": "stdout",
     "output_type": "stream",
     "text": [
      "CPU times: user 3 µs, sys: 0 ns, total: 3 µs\n",
      "Wall time: 5.96 µs\n",
      "In the are lines order printed reverse.\n"
     ]
    }
   ],
   "source": [
    "%time\n",
    "\n",
    "sentence = \"The lines are printed in reverse order.\"\n",
    "\n",
    "sentence = sentence.lower()     # 소문자로 변환\n",
    "sentence = sentence[:-1]        # 마침표 제거\n",
    "sentence = sentence.split(\" \")  # 문자열을 리스트로 변환\n",
    "sentence.sort(key=len)          # 단어수대로 오름차순으로 변경\n",
    "sentence = \" \".join(sentence)   # 마침표 찍기\n",
    "sentence = sentence + \".\"\n",
    "sentence = sentence[:1].upper() + sentence[1:]\n",
    "\n",
    "print(sentence)"
   ]
  },
  {
   "cell_type": "code",
   "execution_count": 26,
   "metadata": {},
   "outputs": [
    {
     "data": {
      "text/plain": [
       "'In the are lines order printed reverse'"
      ]
     },
     "execution_count": 26,
     "metadata": {},
     "output_type": "execute_result"
    }
   ],
   "source": [
    "sentence[:-1]"
   ]
  },
  {
   "cell_type": "code",
   "execution_count": null,
   "metadata": {
    "collapsed": true
   },
   "outputs": [],
   "source": []
  },
  {
   "cell_type": "code",
   "execution_count": null,
   "metadata": {
    "collapsed": true
   },
   "outputs": [],
   "source": []
  },
  {
   "cell_type": "code",
   "execution_count": null,
   "metadata": {
    "collapsed": true
   },
   "outputs": [],
   "source": []
  }
 ],
 "metadata": {
  "kernelspec": {
   "display_name": "Python 3",
   "language": "python",
   "name": "python3"
  },
  "language_info": {
   "codemirror_mode": {
    "name": "ipython",
    "version": 3
   },
   "file_extension": ".py",
   "mimetype": "text/x-python",
   "name": "python",
   "nbconvert_exporter": "python",
   "pygments_lexer": "ipython3",
   "version": "3.6.2"
  }
 },
 "nbformat": 4,
 "nbformat_minor": 2
}
