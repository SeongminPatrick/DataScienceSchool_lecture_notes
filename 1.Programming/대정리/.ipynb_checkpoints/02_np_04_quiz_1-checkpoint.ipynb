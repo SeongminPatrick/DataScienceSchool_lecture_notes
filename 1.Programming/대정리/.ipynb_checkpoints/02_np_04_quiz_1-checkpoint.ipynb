{
 "cells": [
  {
   "cell_type": "markdown",
   "metadata": {},
   "source": [
    "### Quiz"
   ]
  },
  {
   "cell_type": "code",
   "execution_count": 2,
   "metadata": {},
   "outputs": [],
   "source": [
    "import numpy as np"
   ]
  },
  {
   "cell_type": "markdown",
   "metadata": {},
   "source": [
    "##### 1. 5개의 1로 이루어진 정수데이터 타입의 벡터를 만드세요"
   ]
  },
  {
   "cell_type": "code",
   "execution_count": 3,
   "metadata": {},
   "outputs": [
    {
     "data": {
      "text/plain": [
       "array([1, 1, 1, 1, 1])"
      ]
     },
     "execution_count": 3,
     "metadata": {},
     "output_type": "execute_result"
    }
   ],
   "source": [
    "v = np.ones(5)\n",
    "v.astype('int64')"
   ]
  },
  {
   "cell_type": "code",
   "execution_count": 4,
   "metadata": {},
   "outputs": [
    {
     "data": {
      "text/plain": [
       "array([1, 1, 1, 1, 1])"
      ]
     },
     "execution_count": 4,
     "metadata": {},
     "output_type": "execute_result"
    }
   ],
   "source": [
    "# 강사님\n",
    "\n",
    "np.ones(5, dtype=int)"
   ]
  },
  {
   "cell_type": "markdown",
   "metadata": {},
   "source": [
    "##### 2. 10개의 1로 이루어진 정수 데이터 타입의 벡터에서 마지막 3개의 데이터는 5가 들어있는 벡터를 만드세요"
   ]
  },
  {
   "cell_type": "code",
   "execution_count": 5,
   "metadata": {},
   "outputs": [
    {
     "data": {
      "text/plain": [
       "array([1, 1, 1, 1, 1, 1, 1, 5, 5, 5])"
      ]
     },
     "execution_count": 5,
     "metadata": {},
     "output_type": "execute_result"
    }
   ],
   "source": [
    "v = np.ones(10).astype('int64')\n",
    "v[7:] = 5\n",
    "v"
   ]
  },
  {
   "cell_type": "code",
   "execution_count": 6,
   "metadata": {},
   "outputs": [
    {
     "data": {
      "text/plain": [
       "array([1, 1, 1, 1, 1, 1, 1, 5, 5, 5])"
      ]
     },
     "execution_count": 6,
     "metadata": {},
     "output_type": "execute_result"
    }
   ],
   "source": [
    "# 강사님\n",
    "data = np.ones(10, dtype=int)\n",
    "data[-3:] = 5\n",
    "data"
   ]
  },
  {
   "cell_type": "markdown",
   "metadata": {},
   "source": [
    "##### 3. 10에서 20까지의 데이터를 가지는 벡터를 만드세요"
   ]
  },
  {
   "cell_type": "code",
   "execution_count": 7,
   "metadata": {},
   "outputs": [
    {
     "data": {
      "text/plain": [
       "array([10, 11, 12, 13, 14, 15, 16, 17, 18, 19, 20])"
      ]
     },
     "execution_count": 7,
     "metadata": {},
     "output_type": "execute_result"
    }
   ],
   "source": [
    "n = np.arange(10, 20+1)\n",
    "n"
   ]
  },
  {
   "cell_type": "markdown",
   "metadata": {},
   "source": [
    "##### 4. 위 벡터의 순서를 바꾸세요"
   ]
  },
  {
   "cell_type": "code",
   "execution_count": 8,
   "metadata": {},
   "outputs": [
    {
     "data": {
      "text/plain": [
       "array([20, 19, 18, 17, 16, 15, 14, 13, 12, 11, 10])"
      ]
     },
     "execution_count": 8,
     "metadata": {},
     "output_type": "execute_result"
    }
   ],
   "source": [
    "n[::-1]"
   ]
  },
  {
   "cell_type": "markdown",
   "metadata": {},
   "source": [
    "##### 5. 0부터 8까지의 값을 가지는 3x3 행렬을 만드세요"
   ]
  },
  {
   "cell_type": "code",
   "execution_count": 38,
   "metadata": {},
   "outputs": [
    {
     "data": {
      "text/plain": [
       "array([[0, 1, 2],\n",
       "       [3, 4, 5],\n",
       "       [6, 7, 8]])"
      ]
     },
     "execution_count": 38,
     "metadata": {},
     "output_type": "execute_result"
    }
   ],
   "source": [
    "m = np.arange(0, 8+1)\n",
    "M = m.reshape(3, 3)\n",
    "M"
   ]
  },
  {
   "cell_type": "code",
   "execution_count": 10,
   "metadata": {},
   "outputs": [
    {
     "data": {
      "text/plain": [
       "array([[0, 1, 2],\n",
       "       [3, 4, 5],\n",
       "       [6, 7, 8]])"
      ]
     },
     "execution_count": 10,
     "metadata": {},
     "output_type": "execute_result"
    }
   ],
   "source": [
    "# 강사님\n",
    "M = np.arange(9).reshape(3, 3)\n",
    "M"
   ]
  },
  {
   "cell_type": "markdown",
   "metadata": {},
   "source": [
    "##### 6. 위의 벡터에서  `[[4,5],[7,8]]`  행렬을 만드세요"
   ]
  },
  {
   "cell_type": "code",
   "execution_count": 48,
   "metadata": {},
   "outputs": [
    {
     "data": {
      "text/plain": [
       "array([[4, 5],\n",
       "       [7, 8]])"
      ]
     },
     "execution_count": 48,
     "metadata": {},
     "output_type": "execute_result"
    }
   ],
   "source": [
    "m1, m2 = np.vsplit(M, [1])\n",
    "m3, m4 = np.hsplit(m2, [1])\n",
    "\n",
    "m4"
   ]
  },
  {
   "cell_type": "code",
   "execution_count": 11,
   "metadata": {},
   "outputs": [
    {
     "data": {
      "text/plain": [
       "array([[4, 5],\n",
       "       [7, 8]])"
      ]
     },
     "execution_count": 11,
     "metadata": {},
     "output_type": "execute_result"
    }
   ],
   "source": [
    "# 강사님\n",
    "M[1:, 1:]"
   ]
  },
  {
   "cell_type": "markdown",
   "metadata": {},
   "source": [
    "##### 7. 1에서 10까지의 데이터를 랜덤하게 가지는 3*4 행렬을 만드세요"
   ]
  },
  {
   "cell_type": "code",
   "execution_count": 12,
   "metadata": {},
   "outputs": [
    {
     "data": {
      "text/plain": [
       "array([[ 7,  2, 10,  6],\n",
       "       [ 8,  6,  2,  4],\n",
       "       [ 3,  6,  9,  8]])"
      ]
     },
     "execution_count": 12,
     "metadata": {},
     "output_type": "execute_result"
    }
   ],
   "source": [
    "r = np.random.randint(1, 11, size=(3, 4))\n",
    "r"
   ]
  },
  {
   "cell_type": "code",
   "execution_count": 22,
   "metadata": {},
   "outputs": [
    {
     "data": {
      "text/plain": [
       "array([[8, 6, 9, 3],\n",
       "       [7, 8, 2, 4],\n",
       "       [9, 6, 1, 4]])"
      ]
     },
     "execution_count": 22,
     "metadata": {},
     "output_type": "execute_result"
    }
   ],
   "source": [
    "# 강사님\n",
    "np.random.randint(1, 11, (3, 4))"
   ]
  },
  {
   "cell_type": "markdown",
   "metadata": {},
   "source": [
    "##### 8. 위에서 만든 행렬의 unique 한 숫자들 리스트와 각숫자의 갯수를 리스트로 나타내세요"
   ]
  },
  {
   "cell_type": "code",
   "execution_count": 13,
   "metadata": {},
   "outputs": [
    {
     "data": {
      "text/plain": [
       "(array([ 2,  3,  4,  6,  7,  8,  9, 10]), array([2, 1, 1, 3, 1, 2, 1, 1]))"
      ]
     },
     "execution_count": 13,
     "metadata": {},
     "output_type": "execute_result"
    }
   ],
   "source": [
    "np.unique(r, return_counts=True)"
   ]
  },
  {
   "cell_type": "code",
   "execution_count": null,
   "metadata": {},
   "outputs": [],
   "source": []
  },
  {
   "cell_type": "markdown",
   "metadata": {},
   "source": [
    "##### 9. 1에서 12까지에 숫자가 들어간 3*4 행렬을 만드시고 행과 열에 관계없이 데이터를 섞으세요. 안에 있는 데이터까지 다 섞어라"
   ]
  },
  {
   "cell_type": "code",
   "execution_count": 21,
   "metadata": {},
   "outputs": [
    {
     "data": {
      "text/plain": [
       "array([[ 1,  2,  3,  4],\n",
       "       [ 5,  6,  7,  8],\n",
       "       [ 9, 10, 11, 12]])"
      ]
     },
     "execution_count": 21,
     "metadata": {},
     "output_type": "execute_result"
    }
   ],
   "source": [
    "n = np.arange(1, 12+1)\n",
    "n.reshape(3, 4)"
   ]
  },
  {
   "cell_type": "code",
   "execution_count": 22,
   "metadata": {},
   "outputs": [
    {
     "data": {
      "text/plain": [
       "array([[ 1,  2,  3,  4],\n",
       "       [ 5,  6,  7,  8],\n",
       "       [ 9, 10, 11, 12]])"
      ]
     },
     "execution_count": 22,
     "metadata": {},
     "output_type": "execute_result"
    }
   ],
   "source": [
    "np.arange(1, 12+1).reshape(3, 4)"
   ]
  },
  {
   "cell_type": "code",
   "execution_count": 23,
   "metadata": {},
   "outputs": [
    {
     "data": {
      "text/plain": [
       "array([[ 8,  6, 11, 12],\n",
       "       [ 3,  9, 10,  1],\n",
       "       [ 7,  2,  4,  5]])"
      ]
     },
     "execution_count": 23,
     "metadata": {},
     "output_type": "execute_result"
    }
   ],
   "source": [
    "n = n.reshape(12)\n",
    "np.random.shuffle(n)\n",
    "n.reshape(3, 4)"
   ]
  },
  {
   "cell_type": "markdown",
   "metadata": {},
   "source": [
    "##### 10. 1부터 10까지의 랜덤한 데이터가 들어가는 `3*3`행렬을 만드시고 가장 아래에 위의 데이터를 모두 합한 `1*3`행렬을 추가해서 `4*3`행렬을 만드세요"
   ]
  },
  {
   "cell_type": "code",
   "execution_count": 33,
   "metadata": {},
   "outputs": [
    {
     "name": "stdout",
     "output_type": "stream",
     "text": [
      "[[4 3 9]\n",
      " [4 1 9]\n",
      " [4 2 3]]\n"
     ]
    },
    {
     "data": {
      "text/plain": [
       "array([[ 4,  3,  9],\n",
       "       [ 4,  1,  9],\n",
       "       [ 4,  2,  3],\n",
       "       [12,  6, 21]])"
      ]
     },
     "execution_count": 33,
     "metadata": {},
     "output_type": "execute_result"
    }
   ],
   "source": [
    "b = np.random.randint(1, 10, size=(3,3))\n",
    "print(b)\n",
    "b1, b2, b3 = np.split(b, 3)\n",
    "b4 = b1+b2+b3    # ---> sum 을 적용했으면 더 좋았을텐데\n",
    "b5 = np.concatenate([b, b4], axis=0)\n",
    "b5"
   ]
  },
  {
   "cell_type": "code",
   "execution_count": 35,
   "metadata": {},
   "outputs": [
    {
     "name": "stdout",
     "output_type": "stream",
     "text": [
      "[[10  5  2]\n",
      " [10  6  6]\n",
      " [ 8  7  6]]\n"
     ]
    },
    {
     "data": {
      "text/plain": [
       "array([[10,  5,  2],\n",
       "       [10,  6,  6],\n",
       "       [ 8,  7,  6],\n",
       "       [28, 18, 14]])"
      ]
     },
     "execution_count": 35,
     "metadata": {},
     "output_type": "execute_result"
    }
   ],
   "source": [
    "# 강사님\n",
    "data = np.random.randint(1, 11, size=(3, 3))\n",
    "print(data)\n",
    "sum_data = np.sum(data, axis=0).reshape(1,3)\n",
    "np.concatenate([data, sum_data])"
   ]
  },
  {
   "cell_type": "code",
   "execution_count": null,
   "metadata": {},
   "outputs": [],
   "source": []
  },
  {
   "cell_type": "markdown",
   "metadata": {},
   "source": [
    "##### 11. 10번문제의 결과로 나온 행렬데이터에서 평균값을 출력하고 평균값보다 큰 숫자들만 유니크한 리스트로 나열하세요 (평균값은 소수 둘째 자리까지만 나타내세요)"
   ]
  },
  {
   "cell_type": "code",
   "execution_count": 54,
   "metadata": {},
   "outputs": [
    {
     "name": "stdout",
     "output_type": "stream",
     "text": [
      "avg : 7.83\n",
      "[ 8  9 12 16 19]\n"
     ]
    }
   ],
   "source": [
    "b5_mean = float(format(b5.mean(), '.2f'))\n",
    "print(\"avg : {}\".format(b5_mean))\n",
    "\n",
    "b6 = []\n",
    "for i in range(4):\n",
    "    for j in range(3):\n",
    "        if b5[i][j] > b5_mean:\n",
    "            b6.append(b5[i][j])\n",
    "    else:\n",
    "        pass\n",
    "\n",
    "print(np.unique(b6, return_counts=False))"
   ]
  },
  {
   "cell_type": "code",
   "execution_count": 36,
   "metadata": {},
   "outputs": [
    {
     "name": "stdout",
     "output_type": "stream",
     "text": [
      "avg:  6.67\n"
     ]
    },
    {
     "data": {
      "text/plain": [
       "array([ 7,  8, 10])"
      ]
     },
     "execution_count": 36,
     "metadata": {},
     "output_type": "execute_result"
    }
   ],
   "source": [
    "# 강사님\n",
    "avg_data = data.mean()\n",
    "data = data[data > avg_data]\n",
    "print(\"avg: \", round(avg_data, 2))\n",
    "np.unique(data)"
   ]
  },
  {
   "cell_type": "markdown",
   "metadata": {},
   "source": [
    "##### 12. 1부터 20까지의 랜덤숫자를 가지는 5*5 행렬을 만드시고 최대값에는 숫자(MAX), 최소값에는 숫자(MIN)으로 행렬을 바꾸세요"
   ]
  },
  {
   "cell_type": "code",
   "execution_count": 57,
   "metadata": {
    "scrolled": true
   },
   "outputs": [
    {
     "name": "stdout",
     "output_type": "stream",
     "text": [
      "[[16 12 14 18  5]\n",
      " [ 9 17 12 19 17]\n",
      " [ 1  3 12 18  5]\n",
      " [12 10 10 17  1]\n",
      " [ 6  4  8  5  4]]\n",
      "MAX : 19\n",
      "MIN : 1\n",
      "[['16' '12' '14' '18' '5']\n",
      " ['9' '17' '12' '19((MAX))' '17']\n",
      " ['1((MIN))' '3' '12' '18' '5']\n",
      " ['12' '10' '10' '17' '1((MIN))']\n",
      " ['6' '4' '8' '5' '4']]\n"
     ]
    }
   ],
   "source": [
    "r = np.random.randint(20, size=(5, 5))\n",
    "print(r)\n",
    "r_max = r.max()\n",
    "r_min = r.min()\n",
    "print(\"MAX : {}\".format(r_max))\n",
    "print(\"MIN : {}\".format(r_min))\n",
    "\n",
    "for i in range(5):\n",
    "    for j in range(5):\n",
    "        if r[i][j] == r_max:\n",
    "            r[i][j] = 11111\n",
    "        elif r[i][j] == r_min:\n",
    "            r[i][j] = 99999\n",
    "        \n",
    "\n",
    "r1 = r.astype('U24')\n",
    "for i in range(5):\n",
    "    for j in range(5):\n",
    "        if r1[i][j] == \"11111\":\n",
    "            r1[i][j] = \"{}({})\".format(r_max, \"(MAX)\")\n",
    "        elif r1[i][j] == \"99999\":\n",
    "            r1[i][j] = \"{}({})\".format(r_min, \"(MIN)\")\n",
    "\n",
    "\n",
    "print(r1)"
   ]
  },
  {
   "cell_type": "code",
   "execution_count": 39,
   "metadata": {},
   "outputs": [
    {
     "name": "stdout",
     "output_type": "stream",
     "text": [
      "[[19 18  9 15  8]\n",
      " [16 15 14  2 12]\n",
      " [ 7 14  2  4  1]\n",
      " [13  6  8 20  8]\n",
      " [ 9  1 14 15  4]]\n",
      "MAX : 1\n",
      "MAX : 20\n"
     ]
    },
    {
     "data": {
      "text/plain": [
       "array([['19', '18', '9', '15', '8'],\n",
       "       ['16', '15', '14', '2', '12'],\n",
       "       ['7', '14', '2', '4', '1(MIN)'],\n",
       "       ['13', '6', '8', '20(MAX)', '8'],\n",
       "       ['9', '1(MIN)', '14', '15', '4']],\n",
       "      dtype='<U21')"
      ]
     },
     "execution_count": 39,
     "metadata": {},
     "output_type": "execute_result"
    }
   ],
   "source": [
    "# 강사님\n",
    "data = np.random.randint(1, 21, size=(5, 5))\n",
    "print(data)\n",
    "min_number, max_number = np.min(data), np.max(data)\n",
    "print(\"MAX : {}\".format(min_number))\n",
    "print(\"MAX : {}\".format(max_number))\n",
    "\n",
    "min_idx = data == min_number\n",
    "max_idx = data == max_number\n",
    "\n",
    "data = data.astype(\"str\")\n",
    "data[min_idx] = str(min_number) + \"(MIN)\"\n",
    "data[max_idx] = str(max_number) + \"(MAX)\"\n",
    "data"
   ]
  },
  {
   "cell_type": "markdown",
   "metadata": {},
   "source": [
    "##### 13. 100에서 120까지의 랜덤 숫자를 가지는 8*8행렬을 만드시고 3의 배수에는 fiz, 5의 배수에는 buz, 3과 5의 배수는 fbz 문자를 출력하세요"
   ]
  },
  {
   "cell_type": "code",
   "execution_count": 42,
   "metadata": {},
   "outputs": [
    {
     "name": "stdout",
     "output_type": "stream",
     "text": [
      "[[111 112 104 108 108 120 106 108]\n",
      " [104 112 107 105 102 118 102 111]\n",
      " [110 109 109 116 115 110 118 104]\n",
      " [104 101 101 112 103 117 108 107]\n",
      " [100 100 118 120 104 103 110 107]\n",
      " [111 108 114 106 106 100 109 110]\n",
      " [104 101 110 119 103 112 105 112]\n",
      " [116 110 101 116 111 111 107 103]]\n"
     ]
    },
    {
     "data": {
      "text/plain": [
       "array([['fiz', '112', '104', 'fiz', 'fiz', 'fbz', '106', 'fiz'],\n",
       "       ['104', '112', '107', 'fbz', 'fiz', '118', 'fiz', 'fiz'],\n",
       "       ['buz', '109', '109', '116', 'buz', 'buz', '118', '104'],\n",
       "       ['104', '101', '101', '112', '103', 'fiz', 'fiz', '107'],\n",
       "       ['buz', 'buz', '118', 'fbz', '104', '103', 'buz', '107'],\n",
       "       ['fiz', 'fiz', 'fiz', '106', '106', 'buz', '109', 'buz'],\n",
       "       ['104', '101', 'buz', '119', '103', '112', 'fbz', '112'],\n",
       "       ['116', 'buz', '101', '116', 'fiz', 'fiz', '107', '103']],\n",
       "      dtype='<U24')"
      ]
     },
     "execution_count": 42,
     "metadata": {},
     "output_type": "execute_result"
    }
   ],
   "source": [
    "r = np.random.randint(100, 120+1, size=(8, 8))\n",
    "print(r)\n",
    "\n",
    "for i in range(8):\n",
    "    for j in range(8):\n",
    "        if r[i][j] % 3 == 0 and r[i][j] % 5 == 0:\n",
    "            r[i][j] = 15\n",
    "        elif r[i][j] % 3 == 0:\n",
    "            r[i][j] = 3\n",
    "        elif r[i][j] % 5 == 0:\n",
    "            r[i][j] = 5\n",
    "  \n",
    "r1 = r.astype('U24')\n",
    "for i in range(8):\n",
    "    for j in range(8):\n",
    "        if r1[i][j] == \"15\":\n",
    "            r1[i][j] = \"fbz\"\n",
    "        elif r1[i][j] == \"5\":\n",
    "            r1[i][j] = \"buz\"\n",
    "        elif r1[i][j] == \"3\":\n",
    "            r1[i][j] = \"fiz\"\n",
    "\n",
    "\n",
    "r1   "
   ]
  },
  {
   "cell_type": "code",
   "execution_count": 31,
   "metadata": {},
   "outputs": [],
   "source": [
    "# index를 생성해서 ... 거기다 선언을 해주고 변환 해주는 방법이 효율적\n",
    "\n",
    "# 3으로 나뉘는 건 index_3\n",
    "# 5로 나뉘는 건 index_5\n",
    "# 15로 나뉘는 건 index_15"
   ]
  },
  {
   "cell_type": "code",
   "execution_count": 41,
   "metadata": {},
   "outputs": [
    {
     "name": "stdout",
     "output_type": "stream",
     "text": [
      "[[113 107 118 112 115 111 109 110]\n",
      " [112 101 114 112 112 101 104 100]\n",
      " [110 110 102 114 111 108 104 112]\n",
      " [116 117 101 100 112 108 119 117]\n",
      " [101 109 118 106 114 113 116 114]\n",
      " [104 107 107 119 101 103 118 112]\n",
      " [113 116 109 114 120 105 115 100]\n",
      " [114 119 114 118 120 104 116 111]]\n"
     ]
    },
    {
     "data": {
      "text/plain": [
       "array([['113', '107', '118', '112', 'buz', 'fiz', '109', 'buz'],\n",
       "       ['112', '101', 'fiz', '112', '112', '101', '104', 'buz'],\n",
       "       ['buz', 'buz', 'fiz', 'fiz', 'fiz', 'fiz', '104', '112'],\n",
       "       ['116', 'fiz', '101', 'buz', '112', 'fiz', '119', 'fiz'],\n",
       "       ['101', '109', '118', '106', 'fiz', '113', '116', 'fiz'],\n",
       "       ['104', '107', '107', '119', '101', '103', '118', '112'],\n",
       "       ['113', '116', '109', 'fiz', 'fbz', 'fbz', 'buz', 'buz'],\n",
       "       ['fiz', '119', 'fiz', '118', 'fbz', '104', '116', 'fiz']],\n",
       "      dtype='<U21')"
      ]
     },
     "execution_count": 41,
     "metadata": {},
     "output_type": "execute_result"
    }
   ],
   "source": [
    "data = np.random.randint(100, 121, size=(8,8))\n",
    "print(data)\n",
    "\n",
    "idx_3 = data % 3 == 0 \n",
    "idx_5 = data % 5 == 0\n",
    "idx_15 = data % 15 == 0\n",
    "\n",
    "data = data.astype(\"str\")\n",
    "data[idx_3] = \"fiz\"\n",
    "data[idx_5] = \"buz\"\n",
    "data[idx_15] = \"fbz\"\n",
    "data"
   ]
  },
  {
   "cell_type": "code",
   "execution_count": null,
   "metadata": {},
   "outputs": [],
   "source": []
  },
  {
   "cell_type": "markdown",
   "metadata": {},
   "source": [
    "##### 14. 리스트 컴프리헨션을 이용하여 아래와 같은 규칙은 갖는 행렬을 만드세요"
   ]
  },
  {
   "cell_type": "code",
   "execution_count": 23,
   "metadata": {},
   "outputs": [
    {
     "name": "stdout",
     "output_type": "stream",
     "text": [
      "5\n"
     ]
    },
    {
     "data": {
      "text/plain": [
       "array([[ 1,  2,  3,  4,  5],\n",
       "       [ 2,  4,  6,  8, 10],\n",
       "       [ 3,  6,  9, 12, 15],\n",
       "       [ 4,  8, 12, 16, 20],\n",
       "       [ 5, 10, 15, 20, 25]])"
      ]
     },
     "execution_count": 23,
     "metadata": {},
     "output_type": "execute_result"
    }
   ],
   "source": [
    "n = int(input())\n",
    "np.array([np.arange(i, i*(n+1), i) for i in range(1, n+1)])"
   ]
  },
  {
   "cell_type": "code",
   "execution_count": 24,
   "metadata": {},
   "outputs": [
    {
     "name": "stdout",
     "output_type": "stream",
     "text": [
      "7\n"
     ]
    },
    {
     "data": {
      "text/plain": [
       "array([[ 1,  2,  3,  4,  5,  6,  7],\n",
       "       [ 2,  4,  6,  8, 10, 12, 14],\n",
       "       [ 3,  6,  9, 12, 15, 18, 21],\n",
       "       [ 4,  8, 12, 16, 20, 24, 28],\n",
       "       [ 5, 10, 15, 20, 25, 30, 35],\n",
       "       [ 6, 12, 18, 24, 30, 36, 42],\n",
       "       [ 7, 14, 21, 28, 35, 42, 49]])"
      ]
     },
     "execution_count": 24,
     "metadata": {},
     "output_type": "execute_result"
    }
   ],
   "source": [
    "n = int(input())\n",
    "np.array([np.arange(i, i*(n+1), i) for i in range(1, n+1)])"
   ]
  },
  {
   "cell_type": "code",
   "execution_count": 43,
   "metadata": {},
   "outputs": [
    {
     "name": "stdout",
     "output_type": "stream",
     "text": [
      "number :  5\n"
     ]
    },
    {
     "data": {
      "text/plain": [
       "array([[ 1,  2,  3,  4,  5],\n",
       "       [ 2,  4,  6,  8, 10],\n",
       "       [ 3,  6,  9, 12, 15],\n",
       "       [ 4,  8, 12, 16, 20],\n",
       "       [ 5, 10, 15, 20, 25]])"
      ]
     },
     "execution_count": 43,
     "metadata": {},
     "output_type": "execute_result"
    }
   ],
   "source": [
    "# 강사님\n",
    "\n",
    "number = 5\n",
    "data = np.array([[ i*j for j in range(1, number + 1)] for i in range(1, number + 1)])\n",
    "print(\"number : \", number)\n",
    "data"
   ]
  },
  {
   "cell_type": "code",
   "execution_count": 44,
   "metadata": {},
   "outputs": [
    {
     "name": "stdout",
     "output_type": "stream",
     "text": [
      "number :  7\n"
     ]
    },
    {
     "data": {
      "text/plain": [
       "array([[ 1,  2,  3,  4,  5,  6,  7],\n",
       "       [ 2,  4,  6,  8, 10, 12, 14],\n",
       "       [ 3,  6,  9, 12, 15, 18, 21],\n",
       "       [ 4,  8, 12, 16, 20, 24, 28],\n",
       "       [ 5, 10, 15, 20, 25, 30, 35],\n",
       "       [ 6, 12, 18, 24, 30, 36, 42],\n",
       "       [ 7, 14, 21, 28, 35, 42, 49]])"
      ]
     },
     "execution_count": 44,
     "metadata": {},
     "output_type": "execute_result"
    }
   ],
   "source": [
    "number = 7\n",
    "data = np.array([[ i*j for j in range(1, number + 1)] for i in range(1, number + 1)])\n",
    "print(\"number : \", number)\n",
    "data"
   ]
  },
  {
   "cell_type": "code",
   "execution_count": null,
   "metadata": {},
   "outputs": [],
   "source": []
  }
 ],
 "metadata": {
  "kernelspec": {
   "display_name": "Python 3",
   "language": "python",
   "name": "python3"
  },
  "language_info": {
   "codemirror_mode": {
    "name": "ipython",
    "version": 3
   },
   "file_extension": ".py",
   "mimetype": "text/x-python",
   "name": "python",
   "nbconvert_exporter": "python",
   "pygments_lexer": "ipython3",
   "version": "3.6.2"
  }
 },
 "nbformat": 4,
 "nbformat_minor": 2
}
