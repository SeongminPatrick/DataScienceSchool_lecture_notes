{
 "cells": [
  {
   "cell_type": "markdown",
   "metadata": {},
   "source": [
    "# File"
   ]
  },
  {
   "cell_type": "markdown",
   "metadata": {},
   "source": [
    "- w : write new file / overwrites if already exists\n",
    "- x : write new file / error if already exists\n",
    "- r : read fiew\n",
    "- a : add file\n",
    "<br>\n",
    "<br>\n",
    "<br>\n",
    "- t : text type \n",
    "- b : binary type for list, object, variables ..."
   ]
  },
  {
   "cell_type": "markdown",
   "metadata": {},
   "source": [
    "### Writing files\n",
    "- text"
   ]
  },
  {
   "cell_type": "markdown",
   "metadata": {},
   "source": [
    "write"
   ]
  },
  {
   "cell_type": "code",
   "execution_count": 41,
   "metadata": {},
   "outputs": [],
   "source": [
    "s = \"\"\"datascience \n",
    "fast campus sungsoo\"\"\"\n",
    "f = open(\"/Users/Seoluca/Data_Analytics/FastCampus/Data_Science_School/1.Programming/file.txt\",\n",
    "        'wt') # 1. find path, 2. define action\n",
    "f.write(s)\n",
    "f.close() # always close at the end, and disconnect with the file to save memory capacity"
   ]
  },
  {
   "cell_type": "markdown",
   "metadata": {},
   "source": [
    "print"
   ]
  },
  {
   "cell_type": "code",
   "execution_count": 42,
   "metadata": {},
   "outputs": [],
   "source": [
    "s = \"\"\"datascience\n",
    "fast campus sungsoo\n",
    "located near sungsoo station\"\"\"\n",
    "f = open(\"/Users/Seoluca/Data_Analytics/FastCampus/Data_Science_School/1.Programming/file.txt\",\n",
    "        'wt')\n",
    "print(s, file=f, end=\"\")  # end for saving the lines\n",
    "f.close()"
   ]
  },
  {
   "cell_type": "code",
   "execution_count": 43,
   "metadata": {},
   "outputs": [],
   "source": [
    "# overwrite\n",
    "s = \"\"\"datascience\n",
    "fast campus sungsoo\n",
    "located near sungsoo station x\"\"\"\n",
    "f = open(\"/Users/Seoluca/Data_Analytics/FastCampus/Data_Science_School/1.Programming/file.txt\",\n",
    "        'wt')\n",
    "f.write(s)\n",
    "f.close()"
   ]
  },
  {
   "cell_type": "markdown",
   "metadata": {},
   "source": [
    "- binary\n",
    "    - bytes : switches into binary form"
   ]
  },
  {
   "cell_type": "code",
   "execution_count": 44,
   "metadata": {},
   "outputs": [],
   "source": [
    "data = bytes(range(0, 10))\n",
    "f = open(\"/Users/Seoluca/Data_Analytics/FastCampus/Data_Science_School/1.Programming/binary.b\",\n",
    "        'wb') # write, binary\n",
    "f.write(data)\n",
    "f.close()"
   ]
  },
  {
   "cell_type": "code",
   "execution_count": 45,
   "metadata": {},
   "outputs": [
    {
     "data": {
      "text/plain": [
       "b'\\x00\\x01\\x02\\x03\\x04\\x05\\x06\\x07\\x08\\t'"
      ]
     },
     "execution_count": 45,
     "metadata": {},
     "output_type": "execute_result"
    }
   ],
   "source": [
    "data"
   ]
  },
  {
   "cell_type": "markdown",
   "metadata": {},
   "source": [
    "### reading file"
   ]
  },
  {
   "cell_type": "code",
   "execution_count": 46,
   "metadata": {},
   "outputs": [
    {
     "name": "stdout",
     "output_type": "stream",
     "text": [
      "datascience\n",
      "fast campus sungsoo\n",
      "located near sungsoo station x\n"
     ]
    }
   ],
   "source": [
    "# read all\n",
    "f = open(\"/Users/Seoluca/Data_Analytics/FastCampus/Data_Science_School/1.Programming/file.txt\",\n",
    "        'rt')\n",
    "s = f.read()\n",
    "print(s)\n",
    "f.close()"
   ]
  },
  {
   "cell_type": "markdown",
   "metadata": {},
   "source": [
    "- reading only part of the lines"
   ]
  },
  {
   "cell_type": "code",
   "execution_count": 49,
   "metadata": {},
   "outputs": [
    {
     "name": "stdout",
     "output_type": "stream",
     "text": [
      "datascienc\n"
     ]
    }
   ],
   "source": [
    "f = open(\"/Users/Seoluca/Data_Analytics/FastCampus/Data_Science_School/1.Programming/file.txt\",\n",
    "        'rt')\n",
    "s = f.read(10)  #read only first 10 characters\n",
    "print(s)\n",
    "f.close()"
   ]
  },
  {
   "cell_type": "code",
   "execution_count": 51,
   "metadata": {},
   "outputs": [
    {
     "name": "stdout",
     "output_type": "stream",
     "text": [
      "datascience\n",
      "\n"
     ]
    }
   ],
   "source": [
    "f = open(\"/Users/Seoluca/Data_Analytics/FastCampus/Data_Science_School/1.Programming/file.txt\",\n",
    "        'rt')\n",
    "s = f.readline()  # read first line\n",
    "print(s)\n",
    "f.close()"
   ]
  },
  {
   "cell_type": "code",
   "execution_count": 53,
   "metadata": {},
   "outputs": [
    {
     "name": "stdout",
     "output_type": "stream",
     "text": [
      "datascience\n",
      "fast campus sungsoo\n"
     ]
    }
   ],
   "source": [
    "f = open(\"/Users/Seoluca/Data_Analytics/FastCampus/Data_Science_School/1.Programming/file.txt\",\n",
    "        'rt')\n",
    "for _ in range(2):   #read first 2 lines\n",
    "    s = f.readline()\n",
    "    print(s, end=\"\")\n",
    "f.close()"
   ]
  },
  {
   "cell_type": "code",
   "execution_count": 56,
   "metadata": {},
   "outputs": [
    {
     "name": "stdout",
     "output_type": "stream",
     "text": [
      "datascience\n",
      "fast campus sungsoo\n",
      "located near sungsoo station x"
     ]
    }
   ],
   "source": [
    "f = open(\"/Users/Seoluca/Data_Analytics/FastCampus/Data_Science_School/1.Programming/file.txt\",\n",
    "        'rt')\n",
    "while True:\n",
    "    s = f.readline()  #read until the end\n",
    "    if not s:\n",
    "        break\n",
    "    print(s, end=\"\")\n",
    "f.close()"
   ]
  },
  {
   "cell_type": "code",
   "execution_count": 58,
   "metadata": {},
   "outputs": [
    {
     "name": "stdout",
     "output_type": "stream",
     "text": [
      "['datascience\\n', 'fast campus sungsoo\\n', 'located near sungsoo station x']\n"
     ]
    }
   ],
   "source": [
    "f = f = open(\"/Users/Seoluca/Data_Analytics/FastCampus/Data_Science_School/1.Programming/file.txt\",\n",
    "        'rt')\n",
    "s = f.readlines()   #readline's' : print lines in string form\n",
    "print(s)\n",
    "f.close()"
   ]
  },
  {
   "cell_type": "markdown",
   "metadata": {},
   "source": [
    "- binary"
   ]
  },
  {
   "cell_type": "code",
   "execution_count": 59,
   "metadata": {},
   "outputs": [
    {
     "name": "stdout",
     "output_type": "stream",
     "text": [
      "[0, 1, 2, 3, 4, 5, 6, 7, 8, 9]\n"
     ]
    }
   ],
   "source": [
    "f = open(\"/Users/Seoluca/Data_Analytics/FastCampus/Data_Science_School/1.Programming/binary.b\",\n",
    "        'rb')  # read, binary\n",
    "data = f.read()\n",
    "print(list(data))\n",
    "f.close()"
   ]
  },
  {
   "cell_type": "markdown",
   "metadata": {},
   "source": [
    "### adding files"
   ]
  },
  {
   "cell_type": "code",
   "execution_count": 60,
   "metadata": {},
   "outputs": [],
   "source": [
    "s = \"\\nschool\"  # pay attention to \"\\n\" \n",
    "f = open(\"/Users/Seoluca/Data_Analytics/FastCampus/Data_Science_School/1.Programming/file2.txt\",\n",
    "        'at')\n",
    "f.write(s)\n",
    "f.close()"
   ]
  },
  {
   "cell_type": "markdown",
   "metadata": {},
   "source": [
    "- **with** : close file automatically"
   ]
  },
  {
   "cell_type": "code",
   "execution_count": 61,
   "metadata": {},
   "outputs": [
    {
     "name": "stdout",
     "output_type": "stream",
     "text": [
      "datascience\n",
      "fast campus sungsoo\n",
      "located near sungsoo station x\n"
     ]
    }
   ],
   "source": [
    "with open(\"/Users/Seoluca/Data_Analytics/FastCampus/Data_Science_School/1.Programming/file.txt\",\n",
    "        'rt') as f:\n",
    "    s = f.read()\n",
    "    print(s)"
   ]
  },
  {
   "cell_type": "markdown",
   "metadata": {},
   "source": [
    "## Pickle file"
   ]
  },
  {
   "cell_type": "markdown",
   "metadata": {},
   "source": [
    "Pickle : python module which saves, recover data in binary form through serialization\n",
    "- serialization : saving objects into file\n",
    "- `b`, `t` is not necessary when using Pickle"
   ]
  },
  {
   "cell_type": "code",
   "execution_count": 62,
   "metadata": {},
   "outputs": [],
   "source": [
    "import pickle"
   ]
  },
  {
   "cell_type": "code",
   "execution_count": 63,
   "metadata": {},
   "outputs": [],
   "source": [
    "class A():\n",
    "    \n",
    "    def __init__ (self, data):\n",
    "        self.data = data\n",
    "    \n",
    "    def disp(self):      # object which loads function\n",
    "        print(self.data)"
   ]
  },
  {
   "cell_type": "code",
   "execution_count": 64,
   "metadata": {},
   "outputs": [
    {
     "name": "stdout",
     "output_type": "stream",
     "text": [
      "pickle test\n"
     ]
    }
   ],
   "source": [
    "a = A(\"pickle test\")\n",
    "a.disp()"
   ]
  },
  {
   "cell_type": "code",
   "execution_count": 65,
   "metadata": {},
   "outputs": [],
   "source": [
    "# save as pickle file\n",
    "f = open(\"/Users/Seoluca/Data_Analytics/FastCampus/Data_Science_School/1.Programming/disp.p\",\n",
    "        'wb')  # save as pickle file 'p'\n",
    "pickle.dump(a, f) \n",
    "f.close()"
   ]
  },
  {
   "cell_type": "code",
   "execution_count": 66,
   "metadata": {},
   "outputs": [],
   "source": [
    "f = open(\"/Users/Seoluca/Data_Analytics/FastCampus/Data_Science_School/1.Programming/disp.p\",\n",
    "        'rb')  # read binary\n",
    "load_a = pickle.load(f)\n",
    "f.close()"
   ]
  },
  {
   "cell_type": "code",
   "execution_count": 67,
   "metadata": {},
   "outputs": [
    {
     "name": "stdout",
     "output_type": "stream",
     "text": [
      "pickle test\n"
     ]
    }
   ],
   "source": [
    "load_a.disp()"
   ]
  },
  {
   "cell_type": "code",
   "execution_count": 68,
   "metadata": {},
   "outputs": [
    {
     "data": {
      "text/plain": [
       "'pickle test'"
      ]
     },
     "execution_count": 68,
     "metadata": {},
     "output_type": "execute_result"
    }
   ],
   "source": [
    "load_a.data"
   ]
  },
  {
   "cell_type": "markdown",
   "metadata": {},
   "source": [
    "- Pickle file does not benefit security\n",
    "- Uses serialization\n",
    "- if object contains sensitive information such as password, pickle file comes handy inorder to hide it"
   ]
  },
  {
   "cell_type": "code",
   "execution_count": null,
   "metadata": {},
   "outputs": [],
   "source": []
  }
 ],
 "metadata": {
  "kernelspec": {
   "display_name": "Python 3",
   "language": "python",
   "name": "python3"
  },
  "language_info": {
   "codemirror_mode": {
    "name": "ipython",
    "version": 3
   },
   "file_extension": ".py",
   "mimetype": "text/x-python",
   "name": "python",
   "nbconvert_exporter": "python",
   "pygments_lexer": "ipython3",
   "version": "3.6.2"
  }
 },
 "nbformat": 4,
 "nbformat_minor": 2
}
