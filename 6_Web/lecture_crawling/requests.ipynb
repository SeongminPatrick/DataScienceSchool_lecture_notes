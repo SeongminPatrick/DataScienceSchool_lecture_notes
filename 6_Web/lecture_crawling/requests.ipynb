{
 "cells": [
  {
   "cell_type": "code",
   "execution_count": 20,
   "metadata": {},
   "outputs": [],
   "source": [
    "import requests\n",
    "import time\n",
    "from bs4 import BeautifulSoup"
   ]
  },
  {
   "cell_type": "markdown",
   "metadata": {},
   "source": [
    "- 크롤링할 때는 \n",
    "    - api 사용 (가장 권장)\n",
    "    - html 코드 데이터를 가져온다\n",
    "    - 셀레니움을 사용해서 직접 데이터를 가져온다  \n",
    "    \n",
    "    \n",
    "- 무엇을 가져오나?\n",
    "    - Json, XML"
   ]
  },
  {
   "cell_type": "markdown",
   "metadata": {},
   "source": [
    "### Requests\n",
    "- http://docs.python-requests.org/en/master/"
   ]
  },
  {
   "cell_type": "markdown",
   "metadata": {},
   "source": [
    "##### 네이버 주식 데이터 가져오기\n",
    "- api 사용 : json 파싱을 한다.\n",
    "- 네이버 주식 페이지에서 주식 데이터를 가져와 데이터 프레임으로 만들기\n",
    "- http://m.stock.naver.com  "
   ]
  },
  {
   "cell_type": "code",
   "execution_count": 4,
   "metadata": {},
   "outputs": [],
   "source": [
    "def make_url(pageSize=10, page=1):\n",
    "    return \"http://m.stock.naver.com/api/json/sise/siseListJson.nhn?menu=market_sum&sosok=0&pageSize=\" + str(pageSize) + \"&page=\" + str(page)\n",
    "\n",
    "def get_data(url):\n",
    "    response = requests.get(url)\n",
    "    json_info = response.json()\n",
    "    companys = json_info[\"result\"][\"itemList\"]\n",
    "    df = pd.DataFrame(columns=[\"종목\", \"시세\", \"전일비\", \"등락율\", \"시가총액\", \"거래량\"])\n",
    "    for company in companys:\n",
    "        df.loc[len(df)] = {\n",
    "            \"종목\":company[\"nm\"],\n",
    "            \"시세\":company[\"nv\"],\n",
    "            \"전일비\":company[\"cv\"],\n",
    "            \"등락율\":company[\"cr\"],\n",
    "            \"시가총액\":company[\"mks\"],\n",
    "            \"거래량\":company[\"aq\"],\n",
    "        }\n",
    "    return df"
   ]
  },
  {
   "cell_type": "code",
   "execution_count": 5,
   "metadata": {},
   "outputs": [
    {
     "data": {
      "text/html": [
       "<div>\n",
       "<style scoped>\n",
       "    .dataframe tbody tr th:only-of-type {\n",
       "        vertical-align: middle;\n",
       "    }\n",
       "\n",
       "    .dataframe tbody tr th {\n",
       "        vertical-align: top;\n",
       "    }\n",
       "\n",
       "    .dataframe thead th {\n",
       "        text-align: right;\n",
       "    }\n",
       "</style>\n",
       "<table border=\"1\" class=\"dataframe\">\n",
       "  <thead>\n",
       "    <tr style=\"text-align: right;\">\n",
       "      <th></th>\n",
       "      <th>종목</th>\n",
       "      <th>시세</th>\n",
       "      <th>전일비</th>\n",
       "      <th>등락율</th>\n",
       "      <th>시가총액</th>\n",
       "      <th>거래량</th>\n",
       "    </tr>\n",
       "  </thead>\n",
       "  <tbody>\n",
       "    <tr>\n",
       "      <th>95</th>\n",
       "      <td>포스코대우</td>\n",
       "      <td>22500</td>\n",
       "      <td>-1500</td>\n",
       "      <td>-6.25</td>\n",
       "      <td>27759</td>\n",
       "      <td>551956</td>\n",
       "    </tr>\n",
       "    <tr>\n",
       "      <th>96</th>\n",
       "      <td>동서</td>\n",
       "      <td>27750</td>\n",
       "      <td>-650</td>\n",
       "      <td>-2.29</td>\n",
       "      <td>27667</td>\n",
       "      <td>71019</td>\n",
       "    </tr>\n",
       "    <tr>\n",
       "      <th>97</th>\n",
       "      <td>메리츠화재</td>\n",
       "      <td>23850</td>\n",
       "      <td>-850</td>\n",
       "      <td>-3.44</td>\n",
       "      <td>26316</td>\n",
       "      <td>76310</td>\n",
       "    </tr>\n",
       "    <tr>\n",
       "      <th>98</th>\n",
       "      <td>대림산업</td>\n",
       "      <td>75500</td>\n",
       "      <td>-3100</td>\n",
       "      <td>-3.94</td>\n",
       "      <td>26274</td>\n",
       "      <td>216100</td>\n",
       "    </tr>\n",
       "    <tr>\n",
       "      <th>99</th>\n",
       "      <td>만도</td>\n",
       "      <td>275500</td>\n",
       "      <td>-1000</td>\n",
       "      <td>-0.36</td>\n",
       "      <td>25873</td>\n",
       "      <td>39923</td>\n",
       "    </tr>\n",
       "  </tbody>\n",
       "</table>\n",
       "</div>"
      ],
      "text/plain": [
       "       종목      시세    전일비   등락율   시가총액     거래량\n",
       "95  포스코대우   22500  -1500 -6.25  27759  551956\n",
       "96     동서   27750   -650 -2.29  27667   71019\n",
       "97  메리츠화재   23850   -850 -3.44  26316   76310\n",
       "98   대림산업   75500  -3100 -3.94  26274  216100\n",
       "99     만도  275500  -1000 -0.36  25873   39923"
      ]
     },
     "execution_count": 5,
     "metadata": {},
     "output_type": "execute_result"
    }
   ],
   "source": [
    "url = make_url(100,1)\n",
    "df = get_data(url)\n",
    "df.tail()"
   ]
  },
  {
   "cell_type": "markdown",
   "metadata": {},
   "source": [
    "##### Dark Sky API\n",
    "- 날씨 정보를 알려주는 api\n",
    "- https://darksky.net/dev\n",
    "- pip3 install python-forecastio\n",
    "- forcastio : "
   ]
  },
  {
   "cell_type": "code",
   "execution_count": 8,
   "metadata": {},
   "outputs": [],
   "source": [
    "import forecastio\n",
    "FORECAST_TOKEN = \"c259d4aeb593bc5e83d0c3f7ed916f5d\""
   ]
  },
  {
   "cell_type": "code",
   "execution_count": 9,
   "metadata": {},
   "outputs": [],
   "source": [
    "def forecast(lat,lng):\n",
    "    url = \"https://api.darksky.net/forecast/{}/{},{}\".format(FORECAST_TOKEN, lat, lng)\n",
    "    response = requests.get(url)\n",
    "    json_info = response.json()\n",
    "    return json_info[\"hourly\"][\"summary\"]"
   ]
  },
  {
   "cell_type": "code",
   "execution_count": 10,
   "metadata": {},
   "outputs": [
    {
     "data": {
      "text/plain": [
       "'Clear throughout the day.'"
      ]
     },
     "execution_count": 10,
     "metadata": {},
     "output_type": "execute_result"
    }
   ],
   "source": [
    "lat = 37.5124413\n",
    "lng = 126.9540519\n",
    "forecast(lat,lng)"
   ]
  },
  {
   "cell_type": "code",
   "execution_count": 11,
   "metadata": {},
   "outputs": [],
   "source": [
    "def forecast(lat,lng):\n",
    "    forecast = forecastio.load_forecast(FORECAST_TOKEN, lat, lng)\n",
    "    byHour = forecast.hourly()\n",
    "    return byHour.summary"
   ]
  },
  {
   "cell_type": "code",
   "execution_count": 12,
   "metadata": {},
   "outputs": [
    {
     "data": {
      "text/plain": [
       "'Clear throughout the day.'"
      ]
     },
     "execution_count": 12,
     "metadata": {},
     "output_type": "execute_result"
    }
   ],
   "source": [
    "lat = 37.5124413\n",
    "lng = 126.9540519\n",
    "forecast(lat,lng)"
   ]
  },
  {
   "cell_type": "markdown",
   "metadata": {},
   "source": [
    "### BeautifulSoup\n",
    "- https://www.crummy.com/software/BeautifulSoup/bs4/doc/\n",
    "- pip3 install bs4  \n",
    "\n",
    "\n",
    "- html 코드를 텍스트로 가져와서, parsing을 한다.\n",
    "- parsing 후, selector를 사용해서 데이터를 가져온다."
   ]
  },
  {
   "cell_type": "markdown",
   "metadata": {},
   "source": [
    "##### 네이버 검색어 순위\n",
    "- bs4 사용 : html element를 selector를 사용한다.\n",
    "- 네이버 검색어 순위를 가져와 데이터 프레임으로 만들기\n",
    "- http://naver.com"
   ]
  },
  {
   "cell_type": "code",
   "execution_count": 103,
   "metadata": {},
   "outputs": [],
   "source": [
    "def naver_top20():\n",
    "    df = pd.DataFrame(columns=[\"rank\",\"keyword\"])\n",
    "    response = requests.get(\"http://naver.com\")\n",
    "    dom = BeautifulSoup(response.content, \"html.parser\")\n",
    "    keywords = dom.select(\".ah_roll .ah_l .ah_item\")\n",
    "    for keyword in keywords:\n",
    "        df.loc[len(df)] = {\n",
    "            \"rank\":keyword.select_one(\".ah_r\").text,\n",
    "            \"keyword\":keyword.select_one(\".ah_k\").text,\n",
    "        }\n",
    "    return df\n",
    "\n",
    "#PM_ID_ct > div.header > div.section_navbar > div.area_hotkeyword.PM_CL_realtimeKeyword_base > div.ah_roll.PM_CL_realtimeKeyword_rolling_base > div > ul > li:nth-child(6) > a > span.ah_r"
   ]
  },
  {
   "cell_type": "code",
   "execution_count": 104,
   "metadata": {},
   "outputs": [
    {
     "data": {
      "text/html": [
       "<div>\n",
       "<style scoped>\n",
       "    .dataframe tbody tr th:only-of-type {\n",
       "        vertical-align: middle;\n",
       "    }\n",
       "\n",
       "    .dataframe tbody tr th {\n",
       "        vertical-align: top;\n",
       "    }\n",
       "\n",
       "    .dataframe thead th {\n",
       "        text-align: right;\n",
       "    }\n",
       "</style>\n",
       "<table border=\"1\" class=\"dataframe\">\n",
       "  <thead>\n",
       "    <tr style=\"text-align: right;\">\n",
       "      <th></th>\n",
       "      <th>rank</th>\n",
       "      <th>keyword</th>\n",
       "    </tr>\n",
       "  </thead>\n",
       "  <tbody>\n",
       "    <tr>\n",
       "      <th>0</th>\n",
       "      <td>1</td>\n",
       "      <td>생생정보 택시맛객</td>\n",
       "    </tr>\n",
       "    <tr>\n",
       "      <th>1</th>\n",
       "      <td>2</td>\n",
       "      <td>몰디브</td>\n",
       "    </tr>\n",
       "    <tr>\n",
       "      <th>2</th>\n",
       "      <td>3</td>\n",
       "      <td>윤영주</td>\n",
       "    </tr>\n",
       "    <tr>\n",
       "      <th>3</th>\n",
       "      <td>4</td>\n",
       "      <td>이열음</td>\n",
       "    </tr>\n",
       "    <tr>\n",
       "      <th>4</th>\n",
       "      <td>5</td>\n",
       "      <td>생생정보</td>\n",
       "    </tr>\n",
       "    <tr>\n",
       "      <th>5</th>\n",
       "      <td>6</td>\n",
       "      <td>으라차차 와이키키</td>\n",
       "    </tr>\n",
       "    <tr>\n",
       "      <th>6</th>\n",
       "      <td>7</td>\n",
       "      <td>nct</td>\n",
       "    </tr>\n",
       "    <tr>\n",
       "      <th>7</th>\n",
       "      <td>8</td>\n",
       "      <td>클로버필드 패러독스</td>\n",
       "    </tr>\n",
       "    <tr>\n",
       "      <th>8</th>\n",
       "      <td>9</td>\n",
       "      <td>브이앱</td>\n",
       "    </tr>\n",
       "    <tr>\n",
       "      <th>9</th>\n",
       "      <td>10</td>\n",
       "      <td>국가장학금 소득분위 금액</td>\n",
       "    </tr>\n",
       "    <tr>\n",
       "      <th>10</th>\n",
       "      <td>11</td>\n",
       "      <td>생생정보 킹크랩</td>\n",
       "    </tr>\n",
       "    <tr>\n",
       "      <th>11</th>\n",
       "      <td>12</td>\n",
       "      <td>나훈아</td>\n",
       "    </tr>\n",
       "    <tr>\n",
       "      <th>12</th>\n",
       "      <td>13</td>\n",
       "      <td>한국소방안전협회</td>\n",
       "    </tr>\n",
       "    <tr>\n",
       "      <th>13</th>\n",
       "      <td>14</td>\n",
       "      <td>에스토니아</td>\n",
       "    </tr>\n",
       "    <tr>\n",
       "      <th>14</th>\n",
       "      <td>15</td>\n",
       "      <td>유웨이 어플라이</td>\n",
       "    </tr>\n",
       "    <tr>\n",
       "      <th>15</th>\n",
       "      <td>16</td>\n",
       "      <td>더 이스트라이트</td>\n",
       "    </tr>\n",
       "    <tr>\n",
       "      <th>16</th>\n",
       "      <td>17</td>\n",
       "      <td>발렌타인데이</td>\n",
       "    </tr>\n",
       "    <tr>\n",
       "      <th>17</th>\n",
       "      <td>18</td>\n",
       "      <td>테더 청문회</td>\n",
       "    </tr>\n",
       "    <tr>\n",
       "      <th>18</th>\n",
       "      <td>19</td>\n",
       "      <td>제주공항</td>\n",
       "    </tr>\n",
       "    <tr>\n",
       "      <th>19</th>\n",
       "      <td>20</td>\n",
       "      <td>2018 나훈아 콘서트</td>\n",
       "    </tr>\n",
       "  </tbody>\n",
       "</table>\n",
       "</div>"
      ],
      "text/plain": [
       "   rank        keyword\n",
       "0     1      생생정보 택시맛객\n",
       "1     2            몰디브\n",
       "2     3            윤영주\n",
       "3     4            이열음\n",
       "4     5           생생정보\n",
       "5     6      으라차차 와이키키\n",
       "6     7            nct\n",
       "7     8     클로버필드 패러독스\n",
       "8     9            브이앱\n",
       "9    10  국가장학금 소득분위 금액\n",
       "10   11       생생정보 킹크랩\n",
       "11   12            나훈아\n",
       "12   13       한국소방안전협회\n",
       "13   14          에스토니아\n",
       "14   15       유웨이 어플라이\n",
       "15   16       더 이스트라이트\n",
       "16   17         발렌타인데이\n",
       "17   18         테더 청문회\n",
       "18   19           제주공항\n",
       "19   20   2018 나훈아 콘서트"
      ]
     },
     "execution_count": 104,
     "metadata": {},
     "output_type": "execute_result"
    }
   ],
   "source": [
    "naver_df = naver_top20()\n",
    "naver_df"
   ]
  },
  {
   "cell_type": "code",
   "execution_count": 109,
   "metadata": {},
   "outputs": [],
   "source": [
    "def navMusic_weekly():\n",
    "    df_test = pd.DataFrame(columns=[\"title\"])\n",
    "    response = requests.get(\"http://music.naver.com\")\n",
    "    dom = BeautifulSoup(response.content, \"html.parser\")\n",
    "#     keywords = dom.select(\n",
    "#         'table > tbody > tr > td > a > span '\n",
    "#     )\n",
    "    \n",
    "    keywords = dom.find_all(\n",
    "    \".ellipsis\"\n",
    "    )\n",
    "    \n",
    "    for keyword in keywords:\n",
    "        df_test.loc[len(df_test)] = {\n",
    "            \"title\":keyword.select_one(\".ellipsis\").text\n",
    "            \n",
    "        }\n",
    "    return df_test\n",
    "\n",
    "#content > div.NE\\3d a\\3a t1k > div._tracklist_mytrack.tracklist_table.tracklist_type1 > table > tbody > tr:nth-child(2) > td.name > a._title.title.NPI\\3d a\\3a track\\2c r\\3a 1\\2c i\\3a 20549608"
   ]
  },
  {
   "cell_type": "code",
   "execution_count": 110,
   "metadata": {
    "scrolled": true
   },
   "outputs": [
    {
     "data": {
      "text/html": [
       "<div>\n",
       "<style scoped>\n",
       "    .dataframe tbody tr th:only-of-type {\n",
       "        vertical-align: middle;\n",
       "    }\n",
       "\n",
       "    .dataframe tbody tr th {\n",
       "        vertical-align: top;\n",
       "    }\n",
       "\n",
       "    .dataframe thead th {\n",
       "        text-align: right;\n",
       "    }\n",
       "</style>\n",
       "<table border=\"1\" class=\"dataframe\">\n",
       "  <thead>\n",
       "    <tr style=\"text-align: right;\">\n",
       "      <th></th>\n",
       "      <th>title</th>\n",
       "    </tr>\n",
       "  </thead>\n",
       "  <tbody>\n",
       "  </tbody>\n",
       "</table>\n",
       "</div>"
      ],
      "text/plain": [
       "Empty DataFrame\n",
       "Columns: [title]\n",
       "Index: []"
      ]
     },
     "execution_count": 110,
     "metadata": {},
     "output_type": "execute_result"
    }
   ],
   "source": []
  },
  {
   "cell_type": "markdown",
   "metadata": {},
   "source": [
    "##### 다음 검색어 순위"
   ]
  },
  {
   "cell_type": "code",
   "execution_count": 13,
   "metadata": {},
   "outputs": [],
   "source": [
    "def daum_top10():\n",
    "    df = pd.DataFrame(columns=[\"rank\",\"keyword\"])\n",
    "    response = requests.get(\"http://daum.net\")\n",
    "    dom = BeautifulSoup(response.content, \"html.parser\")\n",
    "    keywords = dom.select(\"#mArticle ol.list_hotissue.issue_row.list_mini > li\")\n",
    "    for keyword in keywords:\n",
    "        df.loc[len(df)] = {\n",
    "            \"rank\":keyword.select_one(\".ir_wa\").text.replace(\"위\",\"\"),\n",
    "            \"keyword\":keyword.select_one(\".link_issue\").text,\n",
    "        }\n",
    "    return df"
   ]
  },
  {
   "cell_type": "code",
   "execution_count": 14,
   "metadata": {},
   "outputs": [
    {
     "data": {
      "text/html": [
       "<div>\n",
       "<style scoped>\n",
       "    .dataframe tbody tr th:only-of-type {\n",
       "        vertical-align: middle;\n",
       "    }\n",
       "\n",
       "    .dataframe tbody tr th {\n",
       "        vertical-align: top;\n",
       "    }\n",
       "\n",
       "    .dataframe thead th {\n",
       "        text-align: right;\n",
       "    }\n",
       "</style>\n",
       "<table border=\"1\" class=\"dataframe\">\n",
       "  <thead>\n",
       "    <tr style=\"text-align: right;\">\n",
       "      <th></th>\n",
       "      <th>rank</th>\n",
       "      <th>keyword</th>\n",
       "    </tr>\n",
       "  </thead>\n",
       "  <tbody>\n",
       "    <tr>\n",
       "      <th>0</th>\n",
       "      <td>1</td>\n",
       "      <td>몰디브</td>\n",
       "    </tr>\n",
       "    <tr>\n",
       "      <th>1</th>\n",
       "      <td>2</td>\n",
       "      <td>한국장학재단</td>\n",
       "    </tr>\n",
       "    <tr>\n",
       "      <th>2</th>\n",
       "      <td>3</td>\n",
       "      <td>김희애</td>\n",
       "    </tr>\n",
       "    <tr>\n",
       "      <th>3</th>\n",
       "      <td>4</td>\n",
       "      <td>선미</td>\n",
       "    </tr>\n",
       "    <tr>\n",
       "      <th>4</th>\n",
       "      <td>5</td>\n",
       "      <td>강수지</td>\n",
       "    </tr>\n",
       "    <tr>\n",
       "      <th>5</th>\n",
       "      <td>6</td>\n",
       "      <td>청와대 국민청원홈페이지</td>\n",
       "    </tr>\n",
       "    <tr>\n",
       "      <th>6</th>\n",
       "      <td>7</td>\n",
       "      <td>김국진</td>\n",
       "    </tr>\n",
       "    <tr>\n",
       "      <th>7</th>\n",
       "      <td>8</td>\n",
       "      <td>오세훈</td>\n",
       "    </tr>\n",
       "    <tr>\n",
       "      <th>8</th>\n",
       "      <td>9</td>\n",
       "      <td>건국대학교 입학처</td>\n",
       "    </tr>\n",
       "    <tr>\n",
       "      <th>9</th>\n",
       "      <td>10</td>\n",
       "      <td>제주공항</td>\n",
       "    </tr>\n",
       "  </tbody>\n",
       "</table>\n",
       "</div>"
      ],
      "text/plain": [
       "  rank       keyword\n",
       "0    1           몰디브\n",
       "1    2        한국장학재단\n",
       "2    3           김희애\n",
       "3    4            선미\n",
       "4    5           강수지\n",
       "5    6  청와대 국민청원홈페이지\n",
       "6    7           김국진\n",
       "7    8           오세훈\n",
       "8    9     건국대학교 입학처\n",
       "9   10          제주공항"
      ]
     },
     "execution_count": 14,
     "metadata": {},
     "output_type": "execute_result"
    }
   ],
   "source": [
    "daum_df = daum_top10()\n",
    "daum_df"
   ]
  },
  {
   "cell_type": "markdown",
   "metadata": {},
   "source": [
    "##### 중복된 키워드 찾아서 출력하기"
   ]
  },
  {
   "cell_type": "code",
   "execution_count": 18,
   "metadata": {},
   "outputs": [
    {
     "data": {
      "text/plain": [
       "['몰디브', '한국장학재단', '김희애', '선미', '제주공항']"
      ]
     },
     "execution_count": 18,
     "metadata": {},
     "output_type": "execute_result"
    }
   ],
   "source": [
    "result = [keyword for keyword in daum_df[\"keyword\"] if naver_df[\"keyword\"].str.contains(keyword).any() ]\n",
    "result"
   ]
  },
  {
   "cell_type": "markdown",
   "metadata": {},
   "source": [
    "### file download"
   ]
  },
  {
   "cell_type": "code",
   "execution_count": 19,
   "metadata": {},
   "outputs": [],
   "source": [
    "def download(title, download_link):\n",
    "    response = requests.get(download_link, stream=True)\n",
    "    download_path = \"./data/\" + title\n",
    "    size = 0\n",
    "    with open(download_path, 'wb') as f:     # write binary\n",
    "        for chunk in response.iter_content(chunk_size=1024): \n",
    "            if chunk:\n",
    "                size += 1024\n",
    "                f.write(chunk)\n",
    "    return size"
   ]
  },
  {
   "cell_type": "code",
   "execution_count": 15,
   "metadata": {},
   "outputs": [
    {
     "name": "stdout",
     "output_type": "stream",
     "text": [
      "download done : 7.12 Mbyte\n"
     ]
    }
   ],
   "source": [
    "title = \"iPhone X is Here — Apple.mp4\"\n",
    "download_link = \"http://bit.ly/2FLpRF9\"\n",
    "size = download(title, download_link)\n",
    "print(\"download done : {} Mbyte\".format(round(size/1024/1024,2)))"
   ]
  },
  {
   "cell_type": "code",
   "execution_count": null,
   "metadata": {},
   "outputs": [],
   "source": []
  },
  {
   "cell_type": "code",
   "execution_count": null,
   "metadata": {},
   "outputs": [],
   "source": []
  },
  {
   "cell_type": "code",
   "execution_count": null,
   "metadata": {},
   "outputs": [],
   "source": []
  },
  {
   "cell_type": "code",
   "execution_count": null,
   "metadata": {},
   "outputs": [],
   "source": []
  },
  {
   "cell_type": "code",
   "execution_count": null,
   "metadata": {},
   "outputs": [],
   "source": []
  },
  {
   "cell_type": "code",
   "execution_count": null,
   "metadata": {},
   "outputs": [],
   "source": []
  },
  {
   "cell_type": "markdown",
   "metadata": {},
   "source": [
    "# 연습"
   ]
  },
  {
   "cell_type": "code",
   "execution_count": 111,
   "metadata": {},
   "outputs": [],
   "source": [
    "def navMusic_weekly():\n",
    "    df_test = pd.DataFrame(columns=[\"title\"])\n",
    "    response = requests.get(\"http://music.naver.com\")\n",
    "    dom = BeautifulSoup(response.content, \"html.parser\")\n",
    "#     keywords = dom.select(\n",
    "#         'table > tbody > tr > td > a > span '\n",
    "#     )\n",
    "    \n",
    "    keywords = dom.find_all(\n",
    "    \".ellipsis\"\n",
    "    )\n",
    "    \n",
    "    for keyword in keywords:\n",
    "        df_test.loc[len(df_test)] = {\n",
    "            \"title\":keyword.select_one(\".ellipsis\").text\n",
    "            \n",
    "        }\n",
    "    return df_test\n",
    "\n",
    "#content > div.NE\\3d a\\3a t1k > div._tracklist_mytrack.tracklist_table.tracklist_type1 > table > tbody > tr:nth-child(2) > td.name > a._title.title.NPI\\3d a\\3a track\\2c r\\3a 1\\2c i\\3a 20549608"
   ]
  },
  {
   "cell_type": "code",
   "execution_count": 112,
   "metadata": {},
   "outputs": [
    {
     "data": {
      "text/html": [
       "<div>\n",
       "<style scoped>\n",
       "    .dataframe tbody tr th:only-of-type {\n",
       "        vertical-align: middle;\n",
       "    }\n",
       "\n",
       "    .dataframe tbody tr th {\n",
       "        vertical-align: top;\n",
       "    }\n",
       "\n",
       "    .dataframe thead th {\n",
       "        text-align: right;\n",
       "    }\n",
       "</style>\n",
       "<table border=\"1\" class=\"dataframe\">\n",
       "  <thead>\n",
       "    <tr style=\"text-align: right;\">\n",
       "      <th></th>\n",
       "      <th>title</th>\n",
       "    </tr>\n",
       "  </thead>\n",
       "  <tbody>\n",
       "  </tbody>\n",
       "</table>\n",
       "</div>"
      ],
      "text/plain": [
       "Empty DataFrame\n",
       "Columns: [title]\n",
       "Index: []"
      ]
     },
     "execution_count": 112,
     "metadata": {},
     "output_type": "execute_result"
    }
   ],
   "source": [
    "navMusic_weekly()"
   ]
  },
  {
   "cell_type": "code",
   "execution_count": null,
   "metadata": {},
   "outputs": [],
   "source": []
  }
 ],
 "metadata": {
  "kernelspec": {
   "display_name": "Python 3",
   "language": "python",
   "name": "python3"
  },
  "language_info": {
   "codemirror_mode": {
    "name": "ipython",
    "version": 3
   },
   "file_extension": ".py",
   "mimetype": "text/x-python",
   "name": "python",
   "nbconvert_exporter": "python",
   "pygments_lexer": "ipython3",
   "version": "3.6.2"
  }
 },
 "nbformat": 4,
 "nbformat_minor": 2
}
