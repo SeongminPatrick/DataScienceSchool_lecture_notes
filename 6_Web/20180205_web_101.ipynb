{
 "cells": [
  {
   "cell_type": "code",
   "execution_count": null,
   "metadata": {},
   "outputs": [],
   "source": []
  },
  {
   "cell_type": "code",
   "execution_count": null,
   "metadata": {},
   "outputs": [],
   "source": []
  },
  {
   "cell_type": "markdown",
   "metadata": {},
   "source": [
    "## 1. Server & Client Archetecture"
   ]
  },
  {
   "cell_type": "markdown",
   "metadata": {},
   "source": [
    "Client : 브라우저를 통해 서버에 데이터를 요청\n",
    "Server : Client가 데이터를 요청하면 요청에 따라 데이터를 전송\n",
    "\n",
    "- 데이터를 주고 받는 방식\n",
    "    - polling\n",
    "        - client의 요청, server의 응답\n",
    "        - ex) \n",
    "        - url을 입력하면 server로 요청\n",
    "    - socket\n",
    "        - client가 요청하지 않았지만, 서버가 일방적으로 전송할 때\n",
    "        - connecting이란 연결구조를 형성 후, 데이터 전송\n",
    "        - 주로 Nodejs를 통해 구현한다. (네트워크)\n",
    "        - 연결을 지속적으로 유지하고 있어야 함\n",
    "        - 사용 예) 채팅\n",
    "        "
   ]
  },
  {
   "cell_type": "markdown",
   "metadata": {},
   "source": [
    "## 2. URL"
   ]
  },
  {
   "cell_type": "markdown",
   "metadata": {},
   "source": [
    "URL의 구분\n",
    "\n",
    "예시)  \n",
    "http://news.naver.com:80/main/read.nhn?mode=LSD&mid=shm&sid1=105&oid=001&aid=0009847211#da_727145\n",
    "\n",
    "• Protocol - **https://**\n",
    "    - 클라이언트에 요청 (더불어 보안방식도 포함)  \n",
    "• Sub Domain - **news** (DNS로 도메인 서버를 찾음)  \n",
    "• Domain - **naver.com**  \n",
    "• Port - **80**\n",
    "    - 서버를 접속해서, 어떤 기능을 쓰는 지 포트에 지정 : http-80, mySQL-306 ...)  \n",
    "• Path - **/main/**  \n",
    "    - 경로\n",
    "• Page - **read.nhn** \n",
    "    - 경로 내 파일\n",
    "• Query - **?mode=LSD&mid=shm&sid1=105&oid=001&aid=0009847211** \n",
    "    - query : 데이터를 요청할 때 역할로 씀 (key, value로 구분)\n",
    "    - ? : 쿼리문과 주소를 구분해주는 역할\n",
    "    - & : mode=LSD ...  등등 데이터를 구분해주는 역할\n",
    "• Fragment - **#da_727145**\n",
    "\n",
    "\n",
    "\n",
    "\n",
    "## (어렵다 다시 한번 복습, 미싱 정보 채워야 함)"
   ]
  },
  {
   "cell_type": "markdown",
   "metadata": {},
   "source": [
    "## 3. Get & Post\n",
    "\n",
    "Get:\n",
    "    - URL에 데이터가 포함되어 요청한다. --> 데이터가 노출됨\n",
    "    - 길이 제한이 있음\n",
    "    \n",
    "Post:\n",
    "    - Body라는 영역에 데이터가 포함되어 있다. --> 데이터가 숨겨짐\n",
    "    - 큰 데이터도 요청이 가능하다.\n",
    "    - ID, Password 민감한 정보를 보낼 때 사용된다\n",
    "    \n",
    "    \n",
    "압축의 유무 :\n",
    "    - 압축 푸는 시간이 걸리고 안 걸리고에 대한 변수가 있다. \n",
    "    - 네트워크의 성능에 따라 속도와 연관이 있음\n",
    "    - 대부분의 서비스는 압축을 해서 보낸다\n"
   ]
  },
  {
   "cell_type": "markdown",
   "metadata": {},
   "source": [
    "## 4. Internet\n",
    "\n",
    "local -> 공유기 -> 통신사망 -> backbone network -> 해저케이블 ->다른 대륙"
   ]
  },
  {
   "cell_type": "markdown",
   "metadata": {},
   "source": [
    "## 5. OSI 7 Layer\n",
    "\n",
    "https://ko.wikipedia.org/wiki/OSI_모형\n",
    "\n",
    "모델이 위로 올라갈 수록 상위계층."
   ]
  },
  {
   "cell_type": "markdown",
   "metadata": {},
   "source": [
    "## 6. Cookie / Session / Cache\n",
    "\n",
    "Cookie\n",
    "    - 클라이언트에 저장하는 문자열 데이터.\n",
    "    \n",
    "Session\n",
    "    - 서버에 저장하는 데이터\n",
    "    - SessionID 값 생성 --> 서버에서 쿠키에 저장\n",
    "    - SessionID 값을 이용해서 로그인 연결을 유지할 수 있다.\n",
    "    - 서버 용량에 대비\n",
    "    - 예:\n",
    "    \n",
    "Cache\n",
    "    - 자주 요청하는 정보들은 ram에 저장해서 빠르게 데이터를 가져오는 저장소"
   ]
  },
  {
   "cell_type": "markdown",
   "metadata": {},
   "source": [
    "## 7. HTTP Status Code\n",
    "\n",
    "서버와 클라이언트가 데이터를 주고 받으며 주고 받은 결과로 상태 코드를 확인 가능\n",
    "\n",
    "\n",
    "- 2xx - success\n",
    "- 3xx - redirection (browser cache)\n",
    "- 4xx - request error\n",
    "- 5xx - server error\n",
    "\n",
    "http://bit.ly/2nlZM8L"
   ]
  },
  {
   "cell_type": "markdown",
   "metadata": {},
   "source": [
    "## 8. Web Language & Framework\n",
    "\n",
    "- Client  \n",
    "    • HTML  \n",
    "    • CSS - less, sass  \n",
    "    • Javascript - vue.js, react.js, angelar.js, backborn.js  \n",
    "    \n",
    "    \n",
    "\n",
    "\n",
    "- Server  \n",
    "    • Python - Django, Flask  \n",
    "    • Java - Spring  \n",
    "    • Ruby - Rails  \n",
    "    • Javascript - Nodejs (Express)  \n",
    "    • Scala - Play  "
   ]
  },
  {
   "cell_type": "code",
   "execution_count": null,
   "metadata": {},
   "outputs": [],
   "source": []
  }
 ],
 "metadata": {
  "kernelspec": {
   "display_name": "Python 3",
   "language": "python",
   "name": "python3"
  },
  "language_info": {
   "codemirror_mode": {
    "name": "ipython",
    "version": 3
   },
   "file_extension": ".py",
   "mimetype": "text/x-python",
   "name": "python",
   "nbconvert_exporter": "python",
   "pygments_lexer": "ipython3",
   "version": "3.6.2"
  }
 },
 "nbformat": 4,
 "nbformat_minor": 2
}
