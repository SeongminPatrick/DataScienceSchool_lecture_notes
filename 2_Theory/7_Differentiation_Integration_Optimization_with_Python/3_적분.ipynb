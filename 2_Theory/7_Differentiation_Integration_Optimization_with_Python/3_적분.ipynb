{
 "cells": [
  {
   "cell_type": "markdown",
   "metadata": {
    "school_cell_uuid": "92658b0f5e924bf0b36eecd33c4f7a90"
   },
   "source": [
    "# 적분"
   ]
  },
  {
   "cell_type": "markdown",
   "metadata": {
    "school_cell_uuid": "e74da5e7c80d4e75b743254445bfdd63"
   },
   "source": [
    "적분(integral)은 미분과 반대되는 개념이다. 적분에는 부정적분(indefinite integral)과 정적분(definite integral)이 있다. "
   ]
  },
  {
   "cell_type": "markdown",
   "metadata": {
    "school_cell_uuid": "2180357bb7a6458586881743fb5225ab"
   },
   "source": [
    "## 부정적분"
   ]
  },
  {
   "cell_type": "markdown",
   "metadata": {
    "school_cell_uuid": "2348d5a6dc204d7fb06d0d4db9c2f79c"
   },
   "source": [
    "**부정적분(indefinite integral)은 정확하게 미분과 반대되는 개념, 즉 반-미분(anti-derivative)**이다. 함수 $f(x)$가 어떤 함수를 미분하여 나온 결과인 도함수라고 가정하고 이 도함수 $f(x)$에 대한 미분되기 전의 원래의 함수를 찾는 과정(integration), 또는 그 결과(integral)를 말한다.\n",
    "\n",
    "부정적분으로 찾은 원래의 함수를 표기할 때는 도함수를 대문자화(capitalization)하여 표기할 때도 있지만 다음처럼 $\\int$ 기호(integral이라고 읽는다.)로 나타내는 것이 일반적이다. 여기에서 도함수가 $f(x)$이므로 미분하기 전의 함수를 $F(x)$ 또는 $\\int f(x)dx$로 쓴다. $dx$는 $x$라는 변수로 적분했다는 것을 나타내는 기호로 편미분에 대응하는 적분을 표기할 때 필요하다.\n",
    "\n",
    "$$ \\dfrac{dF(x)}{dx} = f(x) \\;\\;\\leftrightarrow\\;\\; F(x) = \\int_{}^{} f(x) dx + C $$\n",
    "\n",
    "$C$는 상수항을 뜻한다. 상수항은 미분하면 0이 되므로 부정적분은 무한 개의 해가 있다. $C$는 너무 당연하므로 생략하고 쓰는 경우도 있다."
   ]
  },
  {
   "cell_type": "markdown",
   "metadata": {
    "bootstrap": {
     "panel": {
      "class": "panel-default"
     }
    },
    "school_cell_uuid": "2044410e8baf42bca5a655e2b21aba59"
   },
   "source": [
    "#### 연습 문제 1\n",
    "\n",
    "다음 부정적분을 구하라.\n",
    "\n",
    "1.\n",
    "$$ \\int 3x^2 dx $$\n",
    "\n",
    "2.\n",
    "$$ \\int (3x^2 - 6x + 1)dx $$\n",
    "\n",
    "3.\n",
    "$$ \\int \\left( 2 + 6x + 4\\exp(x) + \\dfrac{5}{x} \\right) dx $$ \n",
    "\n",
    "4.\n",
    "$$ \\int \\frac{2x}{x^2 - 1} dx $$\n"
   ]
  },
  {
   "cell_type": "markdown",
   "metadata": {
    "school_cell_uuid": "2cca1f29a85b47c9ac760d8e8fad5ba3"
   },
   "source": [
    "## 편미분의 도함수"
   ]
  },
  {
   "cell_type": "markdown",
   "metadata": {
    "school_cell_uuid": "2acbc3752573465eb1c5b797ffbac657"
   },
   "source": [
    "편미분을 한 도함수에서 원래의 함수를 찾을 수도 있다. 다음 식은 $f(x, y)$가 원래의 함수를 어떻게 미분했는지에 따라 원래의 함수를 표기하는 방법이 달라진다는 것을 나타낸다. \n",
    "\n",
    "만약 $f(x, y)$가 함수 $F_1(x, y)$를 $x$로 편미분한 함수였다면 이 함수를 찾는 식은 다음과 같다.\n",
    "\n",
    "$$\n",
    "\\dfrac{\\partial F_1(x, y)}{\\partial x} = f(x, y) \\; \\leftrightarrow \\; F_1(x, y) = \\int_{}^{} f(x, y) dx + C(y)\n",
    "$$\n",
    "\n",
    "주의할 점은 상수항 $C(y)$가 $y$의 함수일 수 있다는 점이다. $C(y)$는 $x$없이 $y$만으로 이루어진 함수를 뜻한다. $y$만의 함수는 $x$로 편미분하면 0이 되기 때문이다. 물론 반드시 $y$의 함수이어야 하는 것은 아니고 단순한 숫자 상수일 수도 있다.\n",
    "\n",
    "마찬가지로 만약 $f(x, y)$가 함수 $F_2(x, y)$를 $y$로 편미분한 함수였다면 이 함수를 찾는 식은 다음과 같다.\n",
    "\n",
    "$$\n",
    "\\dfrac{\\partial F_2(x, y)}{\\partial y} = f(x, y) \\; \\leftrightarrow \\; F_2(x, y) = \\int_{}^{} f(x, y) dy + C(x) \\\\ \n",
    "$$\n",
    "\n",
    "상수항 $C(x)$가 $x$의 함수라는 점에 주의하라."
   ]
  },
  {
   "cell_type": "markdown",
   "metadata": {
    "bootstrap": {
     "panel": {
      "class": "panel-default"
     }
    },
    "school_cell_uuid": "2044410e8baf42bca5a655e2b21aba59"
   },
   "source": [
    "#### 연습 문제 2\n",
    "\n",
    "다음 부정적분을 구하라.\n",
    "\n",
    "1.\n",
    "$$ \\int \\left( 1 + xy \\right) dx $$\n",
    "\n",
    "2.\n",
    "$$ \\int xy\\exp({x^2 + y^2}) dx $$\n",
    "\n"
   ]
  },
  {
   "cell_type": "markdown",
   "metadata": {
    "school_cell_uuid": "b569589f9f7d4dd2a79f87ecee3c9957"
   },
   "source": [
    "## 다차 도함수과 다중 적분"
   ]
  },
  {
   "cell_type": "markdown",
   "metadata": {
    "school_cell_uuid": "8b3cfbe4d40c40ed8b9ab76a2d84a433"
   },
   "source": [
    "미분을 여러번 한 결과로 나온 다차 도함수로부터 원래의 함수를 찾아내려면 여러번 적분을 하는 다중 적분(multiple integration)이 필요하다.\n",
    "\n",
    "예를 들어 $f(x, y)$가 함수 $F_3(x, y)$를 $x$로 한번 편미분한 후 $y$로 다시 편미분하여 나온 이차 도함수였다면 이 함수를 찾는 식은 다음과 같다.\n",
    "\n",
    "$$ \n",
    "\\dfrac{\\partial^2 F_3(x)}{\\partial x \\partial y} = f(x, y) \\; \\leftrightarrow \\; F_3(x, y) = \\iint f(x, y) dxdy\n",
    "$$\n",
    "\n",
    "\n"
   ]
  },
  {
   "cell_type": "markdown",
   "metadata": {
    "bootstrap": {
     "panel": {
      "class": "panel-default"
     }
    },
    "school_cell_uuid": "2044410e8baf42bca5a655e2b21aba59"
   },
   "source": [
    "#### 연습 문제 3\n",
    "\n",
    "다음 부정적분을 구하라.\n",
    "\n",
    "$$ \\iint xy \\exp({x^2 + y^2}) dxdy $$\n"
   ]
  },
  {
   "cell_type": "markdown",
   "metadata": {
    "school_cell_uuid": "d68a07c6b29248fe99c3614cb26db11b"
   },
   "source": [
    "## SymPy를 이용한 부정적분"
   ]
  },
  {
   "cell_type": "markdown",
   "metadata": {
    "school_cell_uuid": "bda9398faa2a4209b59271b53548c5dc"
   },
   "source": [
    "다음은 SymPy의 `integrate` 명령으로 부정적분을 하는 예제이다. 상수항은 반환하지 않는다."
   ]
  },
  {
   "cell_type": "code",
   "execution_count": 5,
   "metadata": {
    "school_cell_uuid": "b606634af13e48e8bdc03d37ff9ce744"
   },
   "outputs": [],
   "source": [
    "import sympy\n",
    "\n",
    "sympy.init_printing(use_latex='mathjax')  "
   ]
  },
  {
   "cell_type": "code",
   "execution_count": 6,
   "metadata": {
    "school_cell_uuid": "ab4f772dfc464e2b85bda85b59d58ea0"
   },
   "outputs": [
    {
     "data": {
      "text/latex": [
       "$$x e^{x} + e^{x}$$"
      ],
      "text/plain": [
       "   x    x\n",
       "x⋅ℯ  + ℯ "
      ]
     },
     "execution_count": 6,
     "metadata": {},
     "output_type": "execute_result"
    }
   ],
   "source": [
    "x = sympy.symbols('x')\n",
    "f = x * sympy.exp(x) + sympy.exp(x)\n",
    "f"
   ]
  },
  {
   "cell_type": "code",
   "execution_count": 7,
   "metadata": {
    "school_cell_uuid": "b93a0eda222949fbb4e509ca6a5f1299"
   },
   "outputs": [
    {
     "data": {
      "text/latex": [
       "$$x e^{x}$$"
      ],
      "text/plain": [
       "   x\n",
       "x⋅ℯ "
      ]
     },
     "execution_count": 7,
     "metadata": {},
     "output_type": "execute_result"
    }
   ],
   "source": [
    "sympy.integrate(f)"
   ]
  },
  {
   "cell_type": "code",
   "execution_count": 8,
   "metadata": {
    "school_cell_uuid": "f26917ec6334484e988279cf3192c857"
   },
   "outputs": [
    {
     "data": {
      "text/latex": [
       "$$2 x + y$$"
      ],
      "text/plain": [
       "2⋅x + y"
      ]
     },
     "execution_count": 8,
     "metadata": {},
     "output_type": "execute_result"
    }
   ],
   "source": [
    "x, y = sympy.symbols('x y')\n",
    "f = 2 * x + y\n",
    "f"
   ]
  },
  {
   "cell_type": "code",
   "execution_count": 9,
   "metadata": {
    "school_cell_uuid": "3269c3177dce40ca8c05f11b0a3f780b"
   },
   "outputs": [
    {
     "data": {
      "text/latex": [
       "$$x^{2} + x y$$"
      ],
      "text/plain": [
       " 2      \n",
       "x  + x⋅y"
      ]
     },
     "execution_count": 9,
     "metadata": {},
     "output_type": "execute_result"
    }
   ],
   "source": [
    "sympy.integrate(f, x)"
   ]
  },
  {
   "cell_type": "markdown",
   "metadata": {
    "bootstrap": {
     "panel": {
      "class": "panel-default"
     }
    },
    "school_cell_uuid": "0aa74237664940298c49b27c1284029d"
   },
   "source": [
    "#### 연습 문제 4\n",
    "\n",
    "지금까지 구한 연습 문제의 답을 SymPy를 사용하여 구하라."
   ]
  },
  {
   "cell_type": "markdown",
   "metadata": {
    "school_cell_uuid": "7d75ad0db9cd4654b2acdca9f96b88a6"
   },
   "source": [
    "## 정적분"
   ]
  },
  {
   "cell_type": "markdown",
   "metadata": {
    "school_cell_uuid": "6f3af3a02b214f83a1d0dbf1f21afa80"
   },
   "source": [
    "**정적분(definite integral)은 독립변수 $x$가 어떤 구간 $[a, b]$ 사이일 때 그 구간에서 함수 $f(x)$의 값과 수평선(x 축)이 이루는 면적**을 구하는 행위(integration) 혹은 그 값(integral)을 말한다. 수학 기호로는 다음과 같이 표기한다.\n",
    "\n",
    "$$\\int_{a}^{b} f(x) dx $$"
   ]
  },
  {
   "cell_type": "code",
   "execution_count": 10,
   "metadata": {
    "school_cell_uuid": "3c6ba00b1e7c42a68350187472e6782f",
    "scrolled": false
   },
   "outputs": [
    {
     "data": {
      "image/png": "[encoded data removed]",
      "text/plain": [
       "<matplotlib.figure.Figure at 0x7f42393ad550>"
      ]
     },
     "metadata": {},
     "output_type": "display_data"
    }
   ],
   "source": [
    "from matplotlib.patches import Polygon\n",
    "\n",
    "def f(x):\n",
    "    return x ** 3 - 3 * x ** 2 + x + 6\n",
    "\n",
    "a, b = 0, 2\n",
    "\n",
    "x = np.linspace(a - 0.5, b + 0.5, 50)\n",
    "y = f(x)\n",
    "\n",
    "ax = plt.subplot(111)\n",
    "\n",
    "plt.plot(x, y, 'r', linewidth=2)\n",
    "plt.ylim(ymin=0)\n",
    "\n",
    "ix = np.linspace(a, b)\n",
    "iy = f(ix)\n",
    "verts = [(a, 0)] + list(zip(ix, iy)) + [(b, 0)]\n",
    "poly = Polygon(verts, facecolor='0.9', edgecolor='0.5')\n",
    "ax.add_patch(poly)\n",
    "\n",
    "plt.text(0.5 * (a + b), 0.2 * (f(a) + f(b)), r\"$\\int_a^b f(x)dx$\",\n",
    "         horizontalalignment='center', fontsize=20)\n",
    "\n",
    "plt.figtext(0.9, 0.05, '$x$')\n",
    "plt.figtext(0.1, 0.9, '$y$')\n",
    "\n",
    "ax.spines['right'].set_visible(False)\n",
    "ax.spines['top'].set_visible(False)\n",
    "ax.xaxis.set_ticks_position('bottom')\n",
    "\n",
    "ax.set_xticks((a, b))\n",
    "ax.set_xticklabels(('$a$', '$b$'))\n",
    "ax.set_yticks([])\n",
    "\n",
    "plt.show()"
   ]
  },
  {
   "cell_type": "markdown",
   "metadata": {
    "school_cell_uuid": "7faf0a7b6f25433aba410136e7e5d34a"
   },
   "source": [
    "정적분은 얼핏 미분과 아무런 상관이 없어 보이지만 부정적분으로 구한 함수 $F(x)$를 이용하면 다음처럼 정적분의 값을 구할 수 있다. 이를 **미적분학의 기본 정리(Fundamental Theorem of Calculus)**라고 부른다. "
   ]
  },
  {
   "cell_type": "markdown",
   "metadata": {
    "school_cell_uuid": "dde6eeba171849329d1ab1f76e304538"
   },
   "source": [
    "$$ \\int_{a}^{b} f(x) dx = F(b) - F(a)  $$"
   ]
  },
  {
   "cell_type": "markdown",
   "metadata": {
    "school_cell_uuid": "04e8df66a9dc442db018dea5d1a9e5db"
   },
   "source": [
    "정적분은 SymPy 등으로 부정적분을 한 뒤 미적분학의 기본 정리를 사용하여 푸는 방법과 원래 함수의 면적 부분을 실제로 잘게 쪼개어 면적을 근사하게 구하는 수치적 부정적분(numerical integration) 방법으로 구할 수 있다."
   ]
  },
  {
   "cell_type": "markdown",
   "metadata": {
    "school_cell_uuid": "67ed3b3aa15047e5b25677d999553dde"
   },
   "source": [
    "예를 들어 다음 정적분을 구하는 문제를 생각하자.\n",
    "\n",
    "$$ \\int_0^2 ( x^3 - 3x^2 + x + 6) dx $$ "
   ]
  },
  {
   "cell_type": "code",
   "execution_count": 11,
   "metadata": {
    "school_cell_uuid": "b6249ff4589d4120855617ed678e4828"
   },
   "outputs": [
    {
     "data": {
      "text/latex": [
       "$$x^{3} - 3 x^{2} + x + 6$$"
      ],
      "text/plain": [
       " 3      2        \n",
       "x  - 3⋅x  + x + 6"
      ]
     },
     "execution_count": 11,
     "metadata": {},
     "output_type": "execute_result"
    }
   ],
   "source": [
    "x, y = sympy.symbols('x y')\n",
    "f = x ** 3 - 3 * x ** 2 + x + 6\n",
    "f"
   ]
  },
  {
   "cell_type": "markdown",
   "metadata": {
    "school_cell_uuid": "9ab9017a58cf4c228da620f0e980177f"
   },
   "source": [
    "우선 부정 적분 방법으로 미분하기 전의 함수를 구한다."
   ]
  },
  {
   "cell_type": "code",
   "execution_count": 12,
   "metadata": {
    "school_cell_uuid": "d9141825bdec4e769971dd15e4d28c11"
   },
   "outputs": [
    {
     "data": {
      "text/latex": [
       "$$\\frac{x^{4}}{4} - x^{3} + \\frac{x^{2}}{2} + 6 x$$"
      ],
      "text/plain": [
       " 4         2      \n",
       "x     3   x       \n",
       "── - x  + ── + 6⋅x\n",
       "4         2       "
      ]
     },
     "execution_count": 12,
     "metadata": {},
     "output_type": "execute_result"
    }
   ],
   "source": [
    "# 부정 적분\n",
    "F = sympy.integrate(f)\n",
    "F"
   ]
  },
  {
   "cell_type": "markdown",
   "metadata": {
    "school_cell_uuid": "d697dbf29c84474ab2caf89690d4fec1"
   },
   "source": [
    "구해진 미분하기 전의 함수에 정적분 구간을 넣어 값을 계산한다. 심볼릭 함수의 변수에 실제 숫자를 넣어서 함수의 값을 계산하려면 `subs`, `evalf` 메서드를 사용한다."
   ]
  },
  {
   "cell_type": "code",
   "execution_count": 13,
   "metadata": {
    "school_cell_uuid": "91735988c8b9482187e6453d71ba1d4f"
   },
   "outputs": [
    {
     "data": {
      "text/latex": [
       "$$10.0$$"
      ],
      "text/plain": [
       "10.0000000000000"
      ]
     },
     "execution_count": 13,
     "metadata": {},
     "output_type": "execute_result"
    }
   ],
   "source": [
    "(F.subs(x, 2) - F.subs(x, 0)).evalf()"
   ]
  },
  {
   "cell_type": "markdown",
   "metadata": {
    "school_cell_uuid": "b22c4b37f0c847c0915f6c529ffee673"
   },
   "source": [
    "**수치 적분(numerical integration)**은 함수를 아주 작은 구간으로 나누어 실제 면적을 계산함으로써 정적분의 값을 구하는 방법이다.\n",
    "Scipy의 integrate 서브패키지의 `quad`(적분), `dblquad`(이중 적분), `tplquad`(삼중 적분) 함수 등은 수치 적분을 이용하여 정적분의 값을 계산한다."
   ]
  },
  {
   "cell_type": "code",
   "execution_count": 14,
   "metadata": {
    "school_cell_uuid": "44a5d46f1a584cf1a00c37b246efbd27"
   },
   "outputs": [
    {
     "data": {
      "text/latex": [
       "$$\\left ( 10.0, \\quad 1.1102230246251565e-13\\right )$$"
      ],
      "text/plain": [
       "(10.0, 1.1102230246251565e-13)"
      ]
     },
     "execution_count": 14,
     "metadata": {},
     "output_type": "execute_result"
    }
   ],
   "source": [
    "def f(x):\n",
    "    return x ** 3 - 3 * x ** 2 + x + 6\n",
    "\n",
    "sp.integrate.quad(f, 0, 2)  # 정적분 (수치적분)"
   ]
  },
  {
   "cell_type": "markdown",
   "metadata": {
    "school_cell_uuid": "a9acedba09644e0495844265c58347e8"
   },
   "source": [
    "수치적 정적분 결과값의 두번째 숫자는 오차의 상한값을 뜻한다. 수치적분으로 구한 값과 정적분으로 구한 값이 같다는 것을 알 수 있다."
   ]
  },
  {
   "cell_type": "markdown",
   "metadata": {
    "bootstrap": {
     "panel": {
      "class": "panel-default"
     }
    },
    "school_cell_uuid": "0aa74237664940298c49b27c1284029d"
   },
   "source": [
    "#### 연습 문제 5\n",
    "\n",
    "다음 정적분의 값을 부정적분과 수치적분 두 가지 방법으로 구하라.\n",
    "\n",
    "1.\n",
    "$$ \\int_0^1 (3x^2 - 6x + 1)dx $$\n",
    "2.\n",
    "$$ \\int_1^{10} \\left( 2 + 6x + 4\\exp(x) + \\dfrac{5}{x} \\right) dx $$ "
   ]
  },
  {
   "cell_type": "markdown",
   "metadata": {
    "school_cell_uuid": "bf88d43c115b4e4793ef3880c4cf312e"
   },
   "source": [
    "### 다변수 정적분"
   ]
  },
  {
   "cell_type": "markdown",
   "metadata": {
    "school_cell_uuid": "b1f37673ee364bd3bcc049fabefca414"
   },
   "source": [
    "입력 변수가 2개인 2차원 함수 $ f(x, y) $의 경우에는 정적분을 다양한 방법으로 정의할 수 있다."
   ]
  },
  {
   "cell_type": "markdown",
   "metadata": {
    "school_cell_uuid": "b6eb7fb073114546b00ea1ac86018382"
   },
   "source": [
    "#### 두 변수로 이중 적분하는 경우"
   ]
  },
  {
   "cell_type": "markdown",
   "metadata": {
    "school_cell_uuid": "f68839d14fa0496b9248520067446cf9"
   },
   "source": [
    "두 변수로 모두 적분하는 것은 다음과 같이 2차원 평면에서 주어진 사각형 영역 아래의 부피를 구하는 것과 같다.\n",
    "\n",
    "$$ \\text{부피} = \\int_{y=c}^{y=d} \\int_{x=a}^{x=b} f(x, y) dx dy $$"
   ]
  },
  {
   "cell_type": "markdown",
   "metadata": {
    "school_cell_uuid": "9e063428aed9464c8304f253418129aa"
   },
   "source": [
    "<img src=\"https://datascienceschool.net/upfiles/19e208495ee448a38bf55af511affe11.gif\">"
   ]
  },
  {
   "cell_type": "markdown",
   "metadata": {
    "school_cell_uuid": "517c86f8713144c3b61b2904e32c4bba"
   },
   "source": [
    "수치 이중 적분을 하려면 Scipy의 integrate 서브패키지의 `dblquad` 명령을 사용한다. 함수 사용법은 다음과 같다.\n",
    "\n",
    "```\n",
    "dblquad(func, a, b, gfun, hfun)\n",
    "```\n",
    "\n",
    "`a`, `b`은 x의 하한(lower bound)과 상한(upper bound)이고 `gfun`, `hfun`은 y의 하한과 상한이다.  `gfun`, `hfun`은 x의 함수이어야 한다. \n",
    "아래의 코드는 다음 정적분을 계산한다.\n",
    "\n",
    "$$ \\int_0^{\\infty} \\int_1^{\\infty} \\dfrac{\\exp(-xy)}{y^2} dx dy $$"
   ]
  },
  {
   "cell_type": "code",
   "execution_count": 6,
   "metadata": {
    "school_cell_uuid": "44a5d46f1a584cf1a00c37b246efbd27"
   },
   "outputs": [
    {
     "data": {
      "text/plain": [
       "(0.4999999999999961, 1.0684538743333441e-08)"
      ]
     },
     "execution_count": 6,
     "metadata": {},
     "output_type": "execute_result"
    }
   ],
   "source": [
    "def f(x, y):\n",
    "    return np.exp(-x * y) / y**2\n",
    "\n",
    "\n",
    "sp.integrate.dblquad(f, 1, np.inf, lambda x: 0, lambda x: np.inf)"
   ]
  },
  {
   "cell_type": "markdown",
   "metadata": {
    "school_cell_uuid": "af7db0fe86414384a0d6ff599465030f"
   },
   "source": [
    "#### 하나의 변수로 단일 적분하는 경우"
   ]
  },
  {
   "cell_type": "markdown",
   "metadata": {
    "school_cell_uuid": "daaf18186e414b1dbbf26cd9aff95987"
   },
   "source": [
    "$ f(x, y) $가 2차원 함수이지만 하나의 변수만 진짜 입력 변수로 보고 나머지 하나는 상수로 보는 방법이다. \n",
    "\n",
    "$$ \\int_a^b f(x, y) dx $$\n",
    "\n",
    "예를 들어 다음과 같은 함수를 생각하자.\n",
    "\n",
    "$$ f(x, y) = 4x^2 + 4xy + y^2 $$\n",
    "\n",
    "여기에서 변수 $x$ 만 진짜 입력 변수로 보고 $y$는 단순히 정해지지 않은 상수로 보면 이 함수는 다음과 같은 1차원 함수이다. 2차원 함수 $f(x,y)$를 $y$를 고정시켜 절단한 단면 함수로 볼 수 있다. $y$가 고정되어 있다는 것을 강조하기 위해 다음처럼 표기하기도 한다. $y$가 변수가 아니라는 점을 강조하기 위해 함수 표기에서 쉼표(, comma)가 아니라 세미콜론(; semicolon)이 씌여졌다는 점에 주의하라.\n",
    "\n",
    "$$ f(x; y) = 4x^2 + (4y)x + (y^2) $$"
   ]
  },
  {
   "cell_type": "markdown",
   "metadata": {
    "bootstrap": {
     "panel": {
      "class": "panel-default"
     }
    },
    "school_cell_uuid": "0aa74237664940298c49b27c1284029d"
   },
   "source": [
    "#### 연습 문제 6\n",
    "\n",
    "다음 정적분의 값을 구하라.\n",
    "\n",
    "$$ \\int_{-1}^1 \\int_{-1}^1 \\left( 1 + xy \\right) dxdy $$"
   ]
  }
 ],
 "metadata": {
  "kernelspec": {
   "display_name": "Python 3",
   "language": "python",
   "name": "python3"
  },
  "language_info": {
   "codemirror_mode": {
    "name": "ipython",
    "version": 3
   },
   "file_extension": ".py",
   "mimetype": "text/x-python",
   "name": "python",
   "nbconvert_exporter": "python",
   "pygments_lexer": "ipython3",
   "version": "3.6.3"
  },
  "toc": {
   "nav_menu": {},
   "number_sections": true,
   "sideBar": true,
   "skip_h1_title": false,
   "toc_cell": false,
   "toc_position": {},
   "toc_section_display": "block",
   "toc_window_display": false
  }
 },
 "nbformat": 4,
 "nbformat_minor": 2
}