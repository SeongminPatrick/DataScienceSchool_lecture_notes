{
 "cells": [
  {
   "cell_type": "markdown",
   "metadata": {
    "school_cell_uuid": "babbf3bc40f74ccf8d3dbf42372d9b7b"
   },
   "source": [
    "# 모멘트"
   ]
  },
  {
   "cell_type": "markdown",
   "metadata": {
    "school_cell_uuid": "d927c16065614b0c84f40e01bff70fa1"
   },
   "source": [
    "앞서 구한 기댓값, 분산 등의 특징값을 확률 분포의 **모멘트(moment)**라고 한다. 모멘트는 차수(order)를 가지는데 기댓값은 1차 모멘트, 분산은 2차 모멘트이다. 이외에도 3차 모멘트인 스큐니스, 4차 모멘트인 커토시스(Kurtosis) 등이 있다. "
   ]
  },
  {
   "cell_type": "markdown",
   "metadata": {
    "school_cell_uuid": "634393558c284cf4997410cbcc9a2e57"
   },
   "source": [
    "* 1차 모멘트 = $\\text{E}[X]$ : 기댓값 (Expectation)\n",
    "* 2차 모멘트 = $\\text{E}[(X-\\mu)^2]$ : 분산 (Variance)\n",
    "* 3차 모멘트 = $\\text{E}[(X-\\mu)^3]$ : 스큐니스 (Skewness)\n",
    "* 4차 모멘트 = $\\text{E}[(X-\\mu)^4]$ : 커토시스 (Kurtosis)"
   ]
  },
  {
   "cell_type": "markdown",
   "metadata": {
    "school_cell_uuid": "ebc392732bd84f6bb495ca9536fc4763"
   },
   "source": [
    "기댓값은 확률 변수의 값이 어느 값 근처에 나오는지를 나타내는 특징값이고, 분산은 그 값 근처에 어느 정도 조밀하게 모여있는지를 나타내는 특징값이었다.\n",
    "\n",
    "스큐니스는 전체 분포의 모양이 대칭(symmetric)인지 아닌지를 표현하는 특징값이다. 스큐니스가 0이면 대칭인 확률 분포이고 양수이면 오른쪽으로 치우쳐진 확률 분포이다.\n",
    "\n",
    "커토시스는 확률 분포가 중앙으로 얼마나 모여있는지 혹은 반대로 끝(꼬리, tail) 쪽에 얼마나 있는지를 나타내는 특징값이다. 커토시스는 눈으로 보아서는 분산과 구분하기 힘들다."
   ]
  },
  {
   "cell_type": "markdown",
   "metadata": {
    "school_cell_uuid": "d6a9c261caca409e86e96a7fb18d53b1"
   },
   "source": [
    "## 모멘트와 확률 분포"
   ]
  },
  {
   "cell_type": "markdown",
   "metadata": {
    "school_cell_uuid": "77f3c0dde7394c648c980828efc0ec4c"
   },
   "source": [
    "모멘트는 우리가 확률 분포에서 찾아낼 수 있는 특징값의 집합이다. 만약 두 개의 확률 분포가 있고 1차부터 무한대 차수에 이르기 까지 두 확률 분포의 모든 모멘트 값이 서로 같다면 두 확률 분포는 같은 확률 분포이다.\n",
    "\n",
    "$$\n",
    "\\begin{eqnarray}\n",
    "\\text{E}[X] &=& \\text{E}[Y] \\\\\n",
    "\\text{E}[(X-\\mu_X)^2] &=& \\text{E}[(Y-\\mu_Y)^2] \\\\\n",
    "\\text{E}[(X-\\mu_X)^3] &=& \\text{E}[(Y-\\mu_Y)^3] \\\\\n",
    "\\text{E}[(X-\\mu_X)^4] &=& \\text{E}[(Y-\\mu_Y)^4] \\\\\n",
    "\\text{E}[(X-\\mu_X)^5] &=& \\text{E}[(Y-\\mu_Y)^5] \\\\\n",
    "\\vdots &=& \\vdots \\\\\n",
    "\\end{eqnarray}\n",
    "$$\n",
    "\n",
    "이면 \n",
    "\n",
    "$$ X = Y $$"
   ]
  },
  {
   "cell_type": "markdown",
   "metadata": {
    "school_cell_uuid": "18840794e656415881e50e9de512e1a3"
   },
   "source": [
    "> 모든 차수의 모멘트 값이 같으면 같은 확률 분포이다."
   ]
  },
  {
   "cell_type": "markdown",
   "metadata": {
    "school_cell_uuid": "c5e84f3b1c9f404cb67a3cdc3ba8af64"
   },
   "source": [
    "## 샘플 모멘트"
   ]
  },
  {
   "cell_type": "markdown",
   "metadata": {
    "school_cell_uuid": "d845008fa36545c68315b27a4c067eea"
   },
   "source": [
    "샘플 모멘트 값이 유사하면 같은 확률 변수에서 나온 표본 데이터일 가능성이 높다."
   ]
  },
  {
   "cell_type": "markdown",
   "metadata": {
    "school_cell_uuid": "b6a26506aa5041b2b52cdf7118379029"
   },
   "source": [
    "유니 모달(uni-modal) 분포인 경우 4차 모멘트까지 같으면 실용적으로 같은 분포라고 볼 수 있다."
   ]
  }
 ],
 "metadata": {
  "kernelspec": {
   "display_name": "Python 3",
   "language": "python",
   "name": "python3"
  },
  "language_info": {
   "codemirror_mode": {
    "name": "ipython",
    "version": 3
   },
   "file_extension": ".py",
   "mimetype": "text/x-python",
   "name": "python",
   "nbconvert_exporter": "python",
   "pygments_lexer": "ipython3",
   "version": "3.6.2"
  }
 },
 "nbformat": 4,
 "nbformat_minor": 2
}