{
 "cells": [
  {
   "cell_type": "code",
   "execution_count": 5,
   "metadata": {
    "hidden": "all",
    "school_cell_uuid": "1714561f2caf45edb09b3e12e0a7b961"
   },
   "outputs": [
    {
     "name": "stdout",
     "output_type": "stream",
     "text": [
      "The tikzmagic extension is already loaded. To reload it, use:\n",
      "  %reload_ext tikzmagic\n"
     ]
    }
   ],
   "source": [
    "%load_ext tikzmagic"
   ]
  },
  {
   "cell_type": "markdown",
   "metadata": {
    "school_cell_uuid": "41e90d4eafb649758a0fe21b6fd4e32e"
   },
   "source": [
    "# 확률 변수"
   ]
  },
  {
   "cell_type": "markdown",
   "metadata": {
    "school_cell_uuid": "8b0154d36d8d4bc3a70909ea0ce7c096"
   },
   "source": [
    "## 확률 변수의 정의"
   ]
  },
  {
   "cell_type": "markdown",
   "metadata": {
    "school_cell_uuid": "0a31975ddce240debbf0ef2b80f02b49"
   },
   "source": [
    "확률 변수는 표본 공간의 모든 표본에 대해 어떤 실수 값을 붙인 것이다. 따라서 확률 변수는 표본 공간을 정의역(domain)으로 가지고 실수를 공역(range)으로 가지는 함수라고 할 수 있다. 보통 $X$, $Y$ 등의 대문자 알파벳을 사용하여 확률 변수를 표기한다. 확률 변수에 의해 할당된 실수는 $x$, $y$와 같이 소문자 알파벳으로 표시한다.\n",
    "\n",
    "$$ \\omega \\in \\Omega \\;\\;\\; \\xrightarrow{X} \\;\\;\\; \\text{실수 } x \\in \\mathbb{R} $$\n",
    "\n",
    "$$ X(\\omega) = x, \\;\\; x \\in \\mathbf{R} $$"
   ]
  },
  {
   "cell_type": "markdown",
   "metadata": {
    "school_cell_uuid": "1790a69f69454cc29d50a420e98a49d0"
   },
   "source": [
    "\n",
    "확률과 확률 변수의 차이점은 다음과 같다.\n",
    "\n",
    "* 확률은 표본으로 이루어진 집합 즉, 사건에 대해 할당된 숫자이지만 확률 변수는 표본 하나 하나에 대해 할당된 숫자이다.\n",
    "* 확률은 0부터 1사이의 숫자만 할당할 수 있지만 확률 변수는 모든 실수 범위의 숫자를 할당할 수 있다."
   ]
  },
  {
   "cell_type": "markdown",
   "metadata": {
    "school_cell_uuid": "fbbf727899de437499d4e37863fad4b6"
   },
   "source": [
    "확률 변수를 사용하면 모든 표본은 하나의 실수 숫자로 변하기 때문에 표본 공간을 실수의 집합 즉 **수직선(number line)**으로 표시할 수 있다. 일반적인 사건(event)은 이 수직선 상의 구간으로 표시된다.\n",
    "\n",
    "예를 들어 $a$보다 같거나 크고 $b$보다 작은 숫자의 집합인 사건 $A$는 다음과 같은 기호로 표시한다.\n",
    "\n",
    "$$ A = \\{ \\omega ; a \\leq X(\\omega) < b \\} = \\{ a \\leq X < b \\} $$"
   ]
  },
  {
   "cell_type": "markdown",
   "metadata": {
    "school_cell_uuid": "09926d730a0b4840a6b1fe2e1519ad8b"
   },
   "source": [
    "## 이산 확률 변수"
   ]
  },
  {
   "cell_type": "markdown",
   "metadata": {
    "school_cell_uuid": "2a486ad328624a798e70003b781e5720"
   },
   "source": [
    "예를 들어 주사위의 확률 문제에서 주사위에서 나올 수 있는 모든 면의 집합인 표본집합 $\\{⚀,⚁,⚂,⚃,⚄,⚅\\}$ 내의 모든 표본에 대해 다음과 같이 숫자를 할당하면 1부터 6까지 값을 가지는 확률변수가 된다. 이렇게 확률 변수값이 연속적(continuous)이지 않고 떨어져(discrete) 있는 경우를 **이산 확률 변수(discrete random variable)**라고 한다."
   ]
  },
  {
   "cell_type": "markdown",
   "metadata": {
    "school_cell_uuid": "4d9824661a3b4caaaded588cc28893c9"
   },
   "source": [
    "$$X(⚀) = 1$$\n",
    "$$X(⚁) = 2$$\n",
    "$$X(⚂) = 3$$\n",
    "$$X(⚃) = 4$$\n",
    "$$X(⚄) = 5$$\n",
    "$$X(⚅) = 6$$"
   ]
  },
  {
   "cell_type": "markdown",
   "metadata": {
    "school_cell_uuid": "b2fc875197054af8865cd24d30a728d1"
   },
   "source": [
    "주의 할 점은 이산 확률 변수의 정의는 값의 이산성이지 가능한 경우가 유한하다는 점이 아니라는 점이다. 이산 확률 변수도 연속 확률 변수와 같이 가능한 값 자체는 무한대의 경우의 수가 있을 수 있다. 예를 들어 [기하 분포(geometric distribution)](https://en.wikipedia.org/wiki/Geometric_distribution)는 양의 정수값을 가지는 이산 분포이지만 무한대의 양의 정수도 0이 아닌 확률을 가질 수 있다."
   ]
  },
  {
   "cell_type": "markdown",
   "metadata": {
    "school_cell_uuid": "1f325b6865364cfdbe9f57c44ae0ed6b"
   },
   "source": [
    "확률 변수를 정의한다는 것은 표본(sample)이라는 추상적이고 일반적인 개념대신 숫자라는 명확한 개념을 대신 사용하겠다는 의미이다. 현실적으로도 계산이 가능한 것은 숫자 뿐이므로 데이터 분석을 수행하기 위해서는 결국 표본의 특성(feature)을 숫자로 변환하는 단계가 필요하다."
   ]
  },
  {
   "cell_type": "markdown",
   "metadata": {
    "school_cell_uuid": "ba17dc143b4d4fb8bbaebdf824b09941"
   },
   "source": [
    "## 연속 확률 변수"
   ]
  },
  {
   "cell_type": "markdown",
   "metadata": {
    "school_cell_uuid": "5ebcfd0c8f384aa4ad23ae20cc3bf429"
   },
   "source": [
    "이번에는 주사위가 아닌 시계 바늘을 예로 들어보자. 시계 바늘이 특정한 위치를 가르키는 현상을 표본(sample)으로 생각하고 12시를 기준으로 해당 위치까지의 각도를 확률 변수로 하면 이 연속 확률 변수의 값은 실수(real number) 집합처럼 연속적이고 무한개의 경우의 수를 가진다. \n",
    "이러한 확률 변수를 **연속 확률 변수 (continuous random variable)**라고 한다."
   ]
  },
  {
   "cell_type": "markdown",
   "metadata": {
    "school_cell_uuid": "c2a3940658d24531bf78d4953e73af93"
   },
   "source": [
    "확률의 정의에서 다루었듯이 이 시계바늘 문제에서 시계바늘이 특정한 시각을 가리킬 확률은 0도이다. 따라서 확률을 정의할 때 특정한 각도에 대해 정의한 것이 아니라 구간(inteval)이라는 사건(event)에 대해 확률을 정의하였다."
   ]
  },
  {
   "cell_type": "markdown",
   "metadata": {
    "school_cell_uuid": "9cf26a7da9bd4fb4bb3183b2e22abd75"
   },
   "source": [
    "확률 변수를 사용하여 얻을 수 있는 또 다른 장점은 이와 같은 연속 확률 분포의 경우에 사건(event)을 수직선 상의 실수 구간(interval)으로 변환할 수 있다는 것이다. 구간은 시작점과 끝점이라는 두 개의 숫자로 묘사하는 것이 가능하므로 결국 두 개의 실수 숫자 쌍으로 사건을 정의 할 수 있다. \n",
    "\n",
    "예를 들어 $\\{ a \\leq X < b \\}$ 라는 사건은 사실 표본에 할당된 확률 변수의 값이 $a$ 보다 같거나 크고 $b$ 보다 작은 모든 표본들을 모아 놓은 부분집합인 사건을 가리키는 것으로 본다.\n",
    "\n",
    "$$ \\{ a \\leq X < b \\} = \\{ \\omega ; a \\leq X(\\omega) < b \\} $$"
   ]
  },
  {
   "cell_type": "markdown",
   "metadata": {
    "school_cell_uuid": "3fce75f417f84324870b10d903a7b31f"
   },
   "source": [
    "따라서 확률 자체도 원래의 정의처럼 사건 자체에 대해 정의할 필요 없이 다음과 같이 실수 구간에 대해 정의할 수 있다.\n",
    "\n",
    "$$P(\\{ a \\leq X < b \\}) = P(\\{ \\omega ; a \\leq X(\\omega) < b \\})  $$"
   ]
  },
  {
   "cell_type": "markdown",
   "metadata": {
    "school_cell_uuid": "e7855bbd2c1a4f68949f13b3e698e289"
   },
   "source": [
    "시계 바늘 확률 문제의 경우를 예로 들면 시계바늘이 가리키는 위치의 각도는 확률 변수가 된다. 또한 확률을 정의하기 위한 사건(event)은 다음과 같이 두 위치 사이의 각(degree)이 된다. 따라서 다음과 같은 사건 및 이에 해당하는 확률을 가질 수 있다.\n",
    "\n",
    "$$ P(\\{  30^{\\circ} \\leq \\theta < 60^{\\circ} \\})  $$\n",
    "$$ P(\\{  10^{\\circ} \\leq \\theta < 20^{\\circ} \\})  $$\n",
    "$$ P(\\{  90^{\\circ} \\leq \\theta < 180^{\\circ} \\})  $$"
   ]
  },
  {
   "cell_type": "markdown",
   "metadata": {
    "school_cell_uuid": "9a218573a47c4b7cb47a18ced10c1214"
   },
   "source": [
    "하나의 구간이 아니라 여러개의 구간으로 이루어진 복잡한 사건의 확률은 콜모고로프의 공리에 의해 각 단순 구간의 확률의 합으로 구할 수 있다.\n",
    "\n",
    "$$ P(\\{ x_1 \\leq x \\leq x_2 \\}, \\{ x_3 \\leq x \\leq x_4\\}) = P(\\{ x_1 \\leq x \\leq x_2 \\}) + P(\\{ x_3 \\leq x \\leq x_4\\}) $$\n",
    "\n",
    "$$ x_1 < x_2 < x_3 < x_4 $$ "
   ]
  }
 ],
 "metadata": {
  "celltoolbar": "Edit Metadata",
  "kernelspec": {
   "display_name": "Python 3",
   "language": "python",
   "name": "python3"
  },
  "language_info": {
   "codemirror_mode": {
    "name": "ipython",
    "version": 3
   },
   "file_extension": ".py",
   "mimetype": "text/x-python",
   "name": "python",
   "nbconvert_exporter": "python",
   "pygments_lexer": "ipython3",
   "version": "3.6.2"
  }
 },
 "nbformat": 4,
 "nbformat_minor": 1
}
