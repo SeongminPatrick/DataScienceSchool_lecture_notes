{
 "cells": [
  {
   "cell_type": "markdown",
   "metadata": {
    "school_cell_uuid": "2f4e024e218a4050aacf63b1903efa83"
   },
   "source": [
    "# 분포의 대표값"
   ]
  },
  {
   "cell_type": "markdown",
   "metadata": {
    "school_cell_uuid": "b8490921711b4b55b6031b34a0f371be"
   },
   "source": [
    "분포(distribution)은 데이터 전체의 특성을 나타내는 것이므로 히스토그램 등의 시각화 방법 또는 분포 함수 등의 수식을 사용하여 분포의 특성을 살펴보는 방법이 일반적이다. 하지만 전체적인 특성을 나타낼 수 있는 몇 개의 수치를 구할 수 있다면 분포의 특성을 빠르게 파악한다거나 두 개의 분포를 서로 비교하는데 도움이 될 수 있다. \n",
    "\n",
    "가장 먼저 생각할 수 있는 특성 수치는 분포를 하나의 숫자로 대표할 수 있는 값, 즉 대표값이다. "
   ]
  },
  {
   "cell_type": "markdown",
   "metadata": {
    "school_cell_uuid": "529422eaf5c6448ab902dab896f181d2"
   },
   "source": [
    "# 샘플 평균"
   ]
  },
  {
   "cell_type": "markdown",
   "metadata": {
    "school_cell_uuid": "fc8cfa4b2d4740dda20fbea982cdefaa"
   },
   "source": [
    "우리가 보통 데이터의 평균(mean, average)라고 하는 것은 정확하게는 **샘플 평균(sample mean, sample average)**을 말한다.\n",
    "\n",
    "샘플(sample)은 정확히는 이미 가지고 있는 자료 값의 집합이 어떤 확률 모형 또는 모집합으로 부터 생성된 것이라는 가정하에 부르는 용어이지만 유한한 갯수의 자료 값의 집합으로 부터 다음과 같은 식을 사용하여 계산한 값을 샘플 평균이라고 한다."
   ]
  },
  {
   "cell_type": "markdown",
   "metadata": {
    "school_cell_uuid": "d111316cc3874e23b452ce06351cc464"
   },
   "source": [
    "$$ m = \\bar{x} = \\dfrac{1}{N}\\sum_{i=1}^{N} x_i $$"
   ]
  },
  {
   "cell_type": "markdown",
   "metadata": {
    "school_cell_uuid": "b216646e5e6e490c94791fa50c6452dc"
   },
   "source": [
    "이 식에서 $N$는 자료의 갯수, $i = 1, \\cdots, N$는 자료의 순서 혹은 인덱스(index)를 뜻하고, $x_i$는 $i$번째 자료의 값을 뜻한다. "
   ]
  },
  {
   "cell_type": "markdown",
   "metadata": {
    "school_cell_uuid": "2242e52dda8a4c02a2a59c72e2513f72"
   },
   "source": [
    "이번에는 자료가 어떤 확률 분포를 따르는 확률 변수 $X$의 샘플이라고 가정하자. 이러한 경우에는 확률 변수 위에 bar를 추가하여 $\\bar{X}$와 같이 샘플 평균을 나타내기도 한다. $X_i$는 $i$번째로 실현된 샘플을 의미한다.\n",
    "\n",
    "$$ \\bar{X} = \\dfrac{1}{N}\\sum_{i=1}^{N} X_i $$\n",
    "\n",
    "\n",
    "샘플링을 한 번 해서 나온 자료 값의 집합에서 구한 샘플 평균 $\\bar{X}$이 있을 때, 샘플링을 다시 해서 또 다른 자료 값의 집합을 구하면 이 자료는 먼저 자료와 다르기 때문에 여기에서 구한 샘플 평균은 앞서 구한 샘플 평균과 갑이 달라진다. \n",
    "\n",
    "이렇게 샘플링 할 때마다 샘플 평균이 예측할 수 없는 값이 나오기 때문에 **샘플 평균 $\\bar{X}$도 원래의 확률 변수 $X$와 밀접한 관계를 가지는 다른 \n",
    " 하나의 확률 변수**라고 할 수 있다. 물론 이 확률 변수는 원래의 확률 변수 $X$와는 다른 분포 형태를 가진다."
   ]
  },
  {
   "cell_type": "markdown",
   "metadata": {
    "bootstrap": {
     "panel": {
      "class": "panel-default"
     }
    },
    "school_cell_uuid": "c30f1087bbd844e8a26ae8c3ed5040fd"
   },
   "source": [
    "#### 연습 문제 1\n",
    "\n",
    "1. NumPy를 사용하여 20개의 숫자를 무작위로 생성한 후 히스토그램을 그리고 샘플 평균을 구한다.\n",
    "2. 1번과 같이 20개의 숫자 생성 및 샘플 평균 계산을 10번 반복하여 10개의 샘플 평균을 구한다.\n",
    "3. 2번에서 구한 샘플 평균의 히스토그램을 그리고 샘플 평균을 구한다. \n"
   ]
  },
  {
   "cell_type": "markdown",
   "metadata": {
    "school_cell_uuid": "bc8daa7901094bf9a861ed485e86fd50"
   },
   "source": [
    "## 확률 분포의 기댓값"
   ]
  },
  {
   "cell_type": "markdown",
   "metadata": {
    "school_cell_uuid": "719db9fdd9a14712b8d4854f6afffb60"
   },
   "source": [
    "만일 확률 변수가 따르고 있는 확률 모형, 정확히는 확률 밀도 함수를 알고 있을 경우에는 다음과 같은 수식을 사용하여 이론적인 평균을 구할 수 있다. 이러한 이론적 평균을 확률 변수의 **기댓값(expectation)**이라고 한다. 확률 모형이 존재한다는 것이 문맥상으로 확실한 경우에는 단순히 평균(mean)이라고 말하기도 한다.\n",
    "\n",
    "확률 변수의 기대값을 구하는 연산자(operator)는 영어 Expection의 첫글자를 사용하여 $\\operatorname{E}[\\cdot]$로 표기한다. 기대값은 그리스 문자 $\\mu_X$ 로 표기한다. 확률 변수를 혼동할 경우가 없으면 확률 변수 이름은 생략하고 그냥 $\\mu$라고 써도 된다."
   ]
  },
  {
   "cell_type": "markdown",
   "metadata": {
    "school_cell_uuid": "7a7814a9c02d442c881c723e40bd63a6"
   },
   "source": [
    "$$ \\mu_X = \\mu = \\operatorname{E}[X] = \\int_{-\\infty}^{\\infty} x f(x) dx $$"
   ]
  },
  {
   "cell_type": "markdown",
   "metadata": {
    "school_cell_uuid": "4fd897418ffa4ddd849c3c9eb88d7077"
   },
   "source": [
    "이산 확률 변수의 경우에는 다음과 같이 확률 질량 함수 $P(x)$를 사용하여 기댓값을 구한다."
   ]
  },
  {
   "cell_type": "markdown",
   "metadata": {
    "school_cell_uuid": "cba82271f1e34e6eb8af404e8ce84063"
   },
   "source": [
    "$$ \\mu = \\operatorname{E}[X] = \\sum xP(x) $$"
   ]
  },
  {
   "cell_type": "markdown",
   "metadata": {
    "school_cell_uuid": "0986e78a559c446fbe83f6a640431f09"
   },
   "source": [
    "위 식으로부터 기댓값은 확률 $P(x)$ 또는 확률밀도 $f(x)$를 가중치로 하는 $x$의 가중합임을 알 수 있다. 확률의 값이 1보다 작기 때문에 가중 평균이라고도 할 수 있다."
   ]
  },
  {
   "cell_type": "markdown",
   "metadata": {
    "school_cell_uuid": "67da3f948116416ba8732b22e10ade68"
   },
   "source": [
    "## 기댓값의 성질"
   ]
  },
  {
   "cell_type": "markdown",
   "metadata": {
    "school_cell_uuid": "a82586c665fc42028fc1348862aa08d6"
   },
   "source": [
    "기댓값은 확률 모형이라는 수식을 사용한 것이므로 다음과 같은 성질을 가진다는 것을 수학적으로 증명할 수 있다.\n",
    "복잡한 수식을 가지는 확률 모형의 경우에는 이러한 성질을 이용하면 기댓값을 계산하는데 도움이 된다."
   ]
  },
  {
   "cell_type": "markdown",
   "metadata": {
    "school_cell_uuid": "0a32965d863a49f49261cd845e9e908f"
   },
   "source": [
    "\n",
    "* 랜덤 변수가 아닌 고정된 값 $c$에 대해 \n",
    "$$ \\operatorname{E}[c] = c$$\n",
    "\n",
    "* 선형성\n",
    "$$\n",
    "\\begin{align}\n",
    "  \\operatorname{E}[cX]    &= c \\operatorname{E}[X] \\\\\n",
    "  \\operatorname{E}[X + Y] &=   \\operatorname{E}[X] + \\operatorname{E}[Y] \n",
    "\\end{align}\n",
    "$$\n",
    "\n"
   ]
  },
  {
   "cell_type": "markdown",
   "metadata": {
    "school_cell_uuid": "1a9c9f77319242d08d635c5f5b114e28"
   },
   "source": [
    "## 독립인 두 확률 변수의 기댓값"
   ]
  },
  {
   "cell_type": "markdown",
   "metadata": {
    "school_cell_uuid": "6c152cb44c4f48159d86e2e3f3545f82"
   },
   "source": [
    " 두 확률 변수 $X$, $Y$가 서로 전혀 영향을 미치지 않으면 독립이라고 한다. 두 확률 변수가 독립이면 다음 식이 성립한다.\n",
    "\n",
    "$$ \\text{E}\\left[ (X-\\mu_X)(Y-\\mu_Y) \\right] = 0 $$\n",
    "\n",
    "위 식의 자세한 증명은 결합 확률 밀도 함수를 배운 이후에 다시 설명하기로 하고 일단은 위 식을 외워야 한다."
   ]
  },
  {
   "cell_type": "markdown",
   "metadata": {
    "school_cell_uuid": "36fb735547974f65a744e7f1528b837f"
   },
   "source": [
    "## 기댓값과 샘플 평균의 관계"
   ]
  },
  {
   "cell_type": "markdown",
   "metadata": {
    "school_cell_uuid": "6024fb91b28147869ee71a07c8300727"
   },
   "source": [
    "앞서 샘플 평균도 하나의 확률 변수라고 했다. 따라서 샘플 평균에도 기댓값이 존재한다. 또한 샘플 평균의 기댓값은 원래의 확률 변수의 기댓값과 일치함을 수학적으로 증명할 수 있다."
   ]
  },
  {
   "cell_type": "markdown",
   "metadata": {
    "school_cell_uuid": "8ba9fd50a9514bfaa769fc16e832d285"
   },
   "source": [
    "$$ \\operatorname{E}[ \\bar{X} ] = \\operatorname{E}[X] $$"
   ]
  },
  {
   "cell_type": "markdown",
   "metadata": {
    "school_cell_uuid": "e6fc72e84a1e4aabbe5bfc3ad206dfb1"
   },
   "source": [
    "(증명)\n",
    "\n",
    "$$ \n",
    "\\begin{eqnarray}\n",
    "\\operatorname{E}[\\bar{X}] \n",
    "&=& \\operatorname{E}\\left[\\dfrac{1}{N}\\sum_{1}^{N}X_i \\right]  \\\\\n",
    "&=& \\dfrac{1}{N}\\sum_{1}^{N}\\operatorname{E}[X_i]  \\\\\n",
    "&=& \\dfrac{1}{N}\\sum_{1}^{N}\\operatorname{E}[X]  \\\\\n",
    "&=& \\dfrac{1}{N} N \\operatorname{E}[X] \\\\ \n",
    "&=& \\operatorname{E}[X]  \\\\\n",
    "\\end{eqnarray}\n",
    "$$"
   ]
  },
  {
   "cell_type": "markdown",
   "metadata": {
    "school_cell_uuid": "9e15ad970de24569bc0344c687240eb3"
   },
   "source": [
    "## 중앙값"
   ]
  },
  {
   "cell_type": "markdown",
   "metadata": {
    "school_cell_uuid": "e93b037d32d44e5bab16bc77277c3255"
   },
   "source": [
    "**중앙값(median)**은 전체 자료를 크기별로 정렬하였을 때 가장 중앙에 위치하게 되는 값을 말한다. 중앙값에도 샘플 중앙값과 확률 분포로부터 계산한 이론적 중앙값이 존재한다."
   ]
  },
  {
   "cell_type": "markdown",
   "metadata": {
    "school_cell_uuid": "9d6ecc0178fb4eeeb211910df79b90cb"
   },
   "source": [
    "샘플 중앙값은 몇 개의 정의가 존재하지만 많이 쓰이는 정의는 다음과 같다.\n",
    "\n",
    "전체 샘플의 갯수가 $N$인 경우,\n",
    "\n",
    "* $N$이 홀수이면: 중간값은 $(n + 1)/2$번째 샘플의 값\n",
    "* $N$이 짝수이면: 중간값은 $n/2$번째 샘플의 값과 $n/2 + 1$번째 샘플의 값의 평균"
   ]
  },
  {
   "cell_type": "markdown",
   "metadata": {
    "school_cell_uuid": "a15e774dae454d5f96a9ec2db3ecbf08"
   },
   "source": [
    "확률 분포로부터 이론적 중앙값은 그 값보다 큰 값이 나올 확률과 작은 값이 나올 확률이 동일하게 0.5이여야 하므로 다음과 같이 누적 확률 분포 $F(x)$에서 계산할 수 있다.\n",
    "\n",
    "$$ \\text{median} = F^{-1}(0.5) $$\n",
    "\n",
    "$$ 0.5 = F(\\text{median}) $$\n"
   ]
  },
  {
   "cell_type": "markdown",
   "metadata": {
    "school_cell_uuid": "64a0832828c842d0a4d4dc4e04351efb"
   },
   "source": [
    "## 최빈값"
   ]
  },
  {
   "cell_type": "markdown",
   "metadata": {
    "school_cell_uuid": "e8e89146ba114ffeb2fa00d3b88f29db"
   },
   "source": [
    "최빈값(mode)은 직역하자면 가장 빈번하게 나올 수 있는 값을 말한다. 하지만 연속 확률 분포인 경우에는 어느 값에 대해서나 특정한 값이 나올 확률은 0(zero)이므로 다음과 같이 확률 밀도 함수의 값이 가장 큰 확률 변수의 값으로 정의한다. 즉, 확률 밀도 함수의 최댓값의 위치이다.\n",
    "\n",
    "$$ \\text{mode} = \\arg \\max_x f(x) $$"
   ]
  },
  {
   "cell_type": "markdown",
   "metadata": {
    "school_cell_uuid": "28176ec657b847eaa49c26980dbf4f71"
   },
   "source": [
    "이산 샘플 자료에 대해서는 최빈값을 구할 수 있으나 연속 샘플 자료는 최빈값이 존재하지 않거나 의미가 없기 때문에 히스토그램과 같이 구간을 분할하여 각 구간의 대표값으로 카테고리화하여 최빈값을 구해야 한다."
   ]
  },
  {
   "cell_type": "markdown",
   "metadata": {
    "school_cell_uuid": "b53a79c0587e4cd1a485ceeb22e4e718"
   },
   "source": [
    "## 기댓값, 중앙값, 최빈값의 비교"
   ]
  },
  {
   "cell_type": "markdown",
   "metadata": {
    "school_cell_uuid": "65d6c1825d1d4577a5c211e3c86d808b"
   },
   "source": [
    "확률 분포 즉, 확률 밀도 함수가 대칭인 경우에는 기댓값, 중앙값, 최빈값이 모두 같다. 그러나 분포가 어느 한쪽으로 찌그러진(skewed) 경우에는 다음 그림과 같이 달라질 수 있다.\n",
    "\n",
    "계산량으로 비교하면 기댓값이 가장 계산하기 쉽고 중앙값은 계산량이 기댓값보다 증가하며 최빈값은 최적화 과정을 통해서만 구할 수 있으므로 계산량이 가장 많으며 오차가 크다.\n",
    "\n",
    "그러나 기댓값은 이상값(outliner)이나 한쪽으로 찌그러진 상태에 큰 영향을 받지만 중앙값이나 최빈값은 이에 대한 영향이 적다는 장점이 있다."
   ]
  },
  {
   "cell_type": "markdown",
   "metadata": {
    "school_cell_uuid": "39f977f95acb49bd83a53c6562eb71f7"
   },
   "source": [
    "<img src=\"https://datascienceschool.net/upfiles/dd06ed356a03475cbe9cc14909be96d1.jpeg\" style=\"width: 100%;\">"
   ]
  },
  {
   "cell_type": "markdown",
   "metadata": {
    "school_cell_uuid": "471ab0b0a357480db123e58e2e8fea55"
   },
   "source": [
    "## 파이썬을 사용한 계산"
   ]
  },
  {
   "cell_type": "markdown",
   "metadata": {
    "school_cell_uuid": "712c83cb58f64c188cafe03dbef5782b"
   },
   "source": [
    "파이썬에서는 다음과 같은 numpy 함수를 사용하여 각종 기댓값을 계산할 수 있다.\n",
    "\n",
    "* [`mean()`](http://docs.scipy.org/doc/numpy/reference/generated/numpy.mean.html)\n",
    "* [`nanmean()`](http://docs.scipy.org/doc/numpy/reference/generated/numpy.nanmean.html)\n",
    "* [`median()`](http://docs.scipy.org/doc/numpy/reference/generated/numpy.median.html)\n",
    "* [`argmax()`](http://docs.scipy.org/doc/numpy/reference/generated/numpy.argmax.html)\n",
    "* [`histogram()`](http://docs.scipy.org/doc/numpy/reference/generated/numpy.histogram.html)"
   ]
  },
  {
   "cell_type": "code",
   "execution_count": 10,
   "metadata": {
    "collapsed": true,
    "school_cell_uuid": "d4dfb4f4745148b590e2fdf43109d125"
   },
   "outputs": [],
   "source": [
    "np.random.seed(0)\n",
    "x = np.random.normal(size=1000)"
   ]
  },
  {
   "cell_type": "code",
   "execution_count": 11,
   "metadata": {
    "school_cell_uuid": "b9c8e344804f479a94ccb02f53a9c4c6"
   },
   "outputs": [
    {
     "data": {
      "text/plain": [
       "(-0.045256707490195384, -0.058028034799627745)"
      ]
     },
     "execution_count": 11,
     "metadata": {},
     "output_type": "execute_result"
    }
   ],
   "source": [
    "np.mean(x), np.median(x)"
   ]
  },
  {
   "cell_type": "code",
   "execution_count": 12,
   "metadata": {
    "school_cell_uuid": "9e73d4cd3cdc470b825ac405d71edac3"
   },
   "outputs": [],
   "source": [
    "ns, bins = np.histogram(x, bins=np.linspace(-10,10,20))"
   ]
  },
  {
   "cell_type": "code",
   "execution_count": 13,
   "metadata": {
    "school_cell_uuid": "6c326e483ca84464a41bf2b36e93c9be"
   },
   "outputs": [
    {
     "data": {
      "text/plain": [
       "(-0.52631578947368496, 0.52631578947368318)"
      ]
     },
     "execution_count": 13,
     "metadata": {},
     "output_type": "execute_result"
    }
   ],
   "source": [
    "M = np.argmax(ns)\n",
    "bins[M], bins[M+1]"
   ]
  },
  {
   "cell_type": "markdown",
   "metadata": {
    "school_cell_uuid": "a323b0c6f0fe43f98484c69a3aa1f7b8"
   },
   "source": [
    "기술 통계 방법으로 Scipy나 Pandas를 사용하여 구하는 방법은 다음 노트북을 참조한다."
   ]
  },
  {
   "cell_type": "markdown",
   "metadata": {
    "school_cell_uuid": "5932e8e431fa4e70acfb7c19ecde8058"
   },
   "source": [
    "[[school_notebook:69b85ec9afb7415d8da4c8cd5e46d22e]]"
   ]
  }
 ],
 "metadata": {
  "kernelspec": {
   "display_name": "Python 3",
   "language": "python",
   "name": "python3"
  },
  "language_info": {
   "codemirror_mode": {
    "name": "ipython",
    "version": 3
   },
   "file_extension": ".py",
   "mimetype": "text/x-python",
   "name": "python",
   "nbconvert_exporter": "python",
   "pygments_lexer": "ipython3",
   "version": "3.6.2"
  }
 },
 "nbformat": 4,
 "nbformat_minor": 1
}
