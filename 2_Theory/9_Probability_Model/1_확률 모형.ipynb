{
 "cells": [
  {
   "cell_type": "code",
   "execution_count": 1,
   "metadata": {
    "collapsed": true,
    "hidden": "all",
    "school_cell_uuid": "bc78e0de3e024d4f9374c4bd4d341e05"
   },
   "outputs": [],
   "source": [
    "%load_ext tikzmagic"
   ]
  },
  {
   "cell_type": "markdown",
   "metadata": {
    "school_cell_uuid": "9873e1d90bb646a88d4428d9aa99dfdf"
   },
   "source": [
    "# 확률 모형"
   ]
  },
  {
   "cell_type": "markdown",
   "metadata": {
    "school_cell_uuid": "e365b43f14df4b218eb5a5d5ee62d2e6"
   },
   "source": [
    "## 확률 모형과 데이터 생성"
   ]
  },
  {
   "cell_type": "markdown",
   "metadata": {
    "school_cell_uuid": "927d104e8cc84f998da62026affa54cf"
   },
   "source": [
    "우리는 보통 조사(research) 또는 실험(experiment)를 통해 데이터를 하나 하나 수집한다. 이러한 과정은 주사위를 던지는 행위에 비유할 수 있다. 즉 조사를 통해 데이터를 하나 확보하는 일은 주사위를 던져 위를 향하는 눈금의 숫자를 종이에 적는 일과 같다고 보는 것이다. 예를 들어 다음 데이터를 보자."
   ]
  },
  {
   "cell_type": "code",
   "execution_count": 2,
   "metadata": {
    "collapsed": true,
    "school_cell_uuid": "b8ee3b3a07ce4829ac57bbb685014aa1"
   },
   "outputs": [],
   "source": [
    "x = np.array([5, 6, 1, 4, 4, 4, 2, 4, 6, 3, 5, 1, 1, 5, 3, 2, 1, 2, 6, 2, 6, 1, 2,\n",
    "              5, 4, 1, 4, 6, 1, 3, 4, 1, 2, 4, 6, 4, 4, 1, 2, 2, 2, 1, 3, 5, 4, 4,\n",
    "              3, 5, 3, 1, 1, 5, 6, 6, 1, 5, 2, 5, 2, 3, 3, 1, 2, 2, 2, 2, 4, 4, 3,\n",
    "              4, 1, 4, 6, 5, 2, 3, 5, 4, 5, 5, 5, 4, 5, 5, 5, 1, 5, 4, 3, 6, 6, 6])"
   ]
  },
  {
   "cell_type": "markdown",
   "metadata": {
    "school_cell_uuid": "a2054bb20d944312a5e671daf224f19b"
   },
   "source": [
    "이 데이터는 사실 컴퓨터  시뮬레이션으로 만든 숫자이다. 즉, 주사위를 던져 데이터를 만드는 것과 비슷하다. 이 숫자를 만드는 코드는 아래와 같다. 이 명령어에 대해서는 추후 자세히 다룬다."
   ]
  },
  {
   "cell_type": "code",
   "execution_count": 3,
   "metadata": {
    "school_cell_uuid": "36056a69e2a444e6b9b9fd9c09da206d"
   },
   "outputs": [
    {
     "data": {
      "text/plain": [
       "array([5, 6, 1, 4, 4, 4, 2, 4, 6, 3, 5, 1, 1, 5, 3, 2, 1, 2, 6, 2, 6, 1, 2,\n",
       "       5, 4, 1, 4, 6, 1, 3, 4, 1, 2, 4, 6, 4, 4, 1, 2, 2, 2, 1, 3, 5, 4, 4,\n",
       "       3, 5, 3, 1, 1, 5, 6, 6, 1, 5, 2, 5, 2, 3, 3, 1, 2, 2, 2, 2, 4, 4, 3,\n",
       "       4, 1, 4, 6, 5, 2, 3, 5, 4, 5, 5, 5, 4, 5, 5, 5, 1, 5, 4, 3, 6, 6, 6])"
      ]
     },
     "execution_count": 3,
     "metadata": {},
     "output_type": "execute_result"
    }
   ],
   "source": [
    "np.random.seed(0)\n",
    "np.random.randint(1, 7, 92)"
   ]
  },
  {
   "cell_type": "markdown",
   "metadata": {
    "school_cell_uuid": "258fab9abdc04ee5b76c4d3dec4d970b"
   },
   "source": [
    "확률 모형론을 사용한다는 것은 데이터를 생성하는 가상의 주사위 혹은 일종의 기계(machine)가 있다고 가정하는 것과 같다."
   ]
  },
  {
   "cell_type": "markdown",
   "metadata": {
    "school_cell_uuid": "ccd26d13eac6477f8687032e9158fea7"
   },
   "source": [
    "## 데이터의 특성과 확률 모형"
   ]
  },
  {
   "cell_type": "markdown",
   "metadata": {
    "school_cell_uuid": "e065871d903f445f8ec8061452ed7bd1"
   },
   "source": [
    "확률 모형론에서는 **데이터의 개별적인 값 하나 하나에는 의미가 없으며 데이터 전체의 특성만이 중요하다**고 생각한다. 또 특성이 같은 데이터는 실질적으로 동일한 정보를 주는 데이터라고 본다. 예를 들어 자동차 엔진을 대상으로 출력 실험을 하여 10개의 숫자를 수집하고 또 다시 같은 엔진을 대상으로 동일한 실험을 실시하여  10개의 숫자를 수집하면 두 데이터 집합에는 동일한 숫자가 하나도 없을 수도 있다. 그렇지만 우리는 그 데이터 들이 잘못되었거나 다른 정보를 가지고 있다고 보지 않는다. 왜냐하면 데이터로부터 우리가 알고 싶어하는 것은 10개의 숫자 그 자체가 아니라 그 10개의 숫자들이 나타내고 있는 **특성**이기 때문이다.\n",
    "\n",
    "따라서 우리가 해야 할 일은 우리가 현재 가지고 있는 데이터와 똑같은 특성의 데이터를 만들어내는 가상의 주사위를 찾아내고 그 주사위를 실제로 구현하는 것이다. 일단 이러한 주사위를 손에 넣으면 기존에 확보한 데이터가 없어진다고 해도 큰 문제가 없다. 주사위로부터 동일한 특성을 가진 새로운 데이터를 언제든지 얻을 수 있기 때문이다. 이렇게 특정한 특성을 가지는 데이터 표본을 만들어 내는 주사위 또는 기계를 **확률 모형**이라고 한다. "
   ]
  },
  {
   "cell_type": "markdown",
   "metadata": {
    "school_cell_uuid": "eddfb34e6d6b43bd8740e51f4552d9af"
   },
   "source": [
    "확률 모형과 데이터는 다음과 같은 관계가 있다.\n",
    "\n",
    "* 확률 모형으로부터 데이터를 여러번 생성하는 경우 데이터 값은 매번 달라질 수 있지만 확률 모형 자체는 변하지 않는다.\n",
    "* 확률 모형은 우리가 직접 관찰할 수 없다. 다만 확률 모형에서 만들어지는 데이터 값을 이용하여 확률 모형이 이러한 것일 거라고 추정하고 가정할 뿐이다.\n",
    "* 확률 모형에서 만들어 지는 데이터의 값은 확률 모형이 가진 특성을 반영하고 있다. 다만 데이터의 갯수가 적을 수록 부정확하여 확률 모형이 가진 특징을 정확하게 추정할 수 없다. \n",
    " "
   ]
  },
  {
   "cell_type": "code",
   "execution_count": 1,
   "metadata": {
    "hidden": "input",
    "school_cell_uuid": "1e6686974a214e21a5cf30ba9cc05fa6"
   },
   "outputs": [
    {
     "name": "stderr",
     "output_type": "stream",
     "text": [
      "UsageError: Cell magic `%%tikz` not found.\n"
     ]
    }
   ],
   "source": [
    "%%tikz -sc 1 -s 800,700 -l arrows.meta,shapes,decorations.pathmorphing,datavisualization,datavisualization.formats.functions -p pgfplots,kotex\n",
    "\n",
    "\\begin{scope}[local bounding box=scope1]\n",
    "\n",
    "\\draw[help lines, opacity=0] (1, -1) grid (18, 8);\n",
    "\\draw[decorate, decoration=zigzag] (10, 8) -- (10, -2);\n",
    "\\node at (14, 8) {이상 세계};\n",
    "\\node at (5, 8) {현실 세계};\n",
    "\\node[draw, rectangle, fill=gray!10, minimum width=1cm, minimum height=0.2cm] at (14, 7.1) {};\n",
    "\\node[draw, rectangle, fill=gray!10, minimum width=4cm, minimum height=4cm] (X) at (14, 5) {\\Huge X};\n",
    "\\node[draw, cloud, fill=gray!10, cloud puffs=1cm, minimum width=7cm, minimum height=5cm] at (5, 5) {};\n",
    "\\foreach[count=\\i] \\x/\\y in {3/5, 4/4, 5/5.5, 5.5/4, 7/5}\n",
    "  \\node[draw, circle, fill=gray!20, minimum width=1cm, minimum height=1cm] (x_\\i) at (\\x, \\y) {$x_\\i$};\n",
    "\\draw[-{Stealth[length=3mm]}, bend left] (X.south) to[out=80, in=120] node[below=1cm, near end] {실현(샘플링)} (x_5);\n",
    "\\node at (14, 6.5) {확률 변수(확률 모형)};\n",
    "\\node at (5, 6.5) {데이터};\n",
    "\n",
    "\\end{scope}\n",
    "\n",
    "\\begin{scope}[shift={(14.5, -1.4)}]\n",
    "\n",
    "\\datavisualization[school book axes, visualize as smooth line, all axes={ticks={major={at={}}}}]\n",
    "data [format=function] {\n",
    "    var x : interval [-2:2];\n",
    "    func y = 1.8 * exp(-2 * \\value x * \\value x);\n",
    "};\n",
    "\n",
    "\\end{scope}\n",
    "\\node at (15, -2) {직접 관측할 수 없지만 변하지 않는 특성};\n",
    "\n",
    "\\begin{scope}[shift={(3.5, -1.8)}]\n",
    "\n",
    "\\begin{axis}[width=5cm, height=5cm, xtick=0, ytick=0, hide x axis, hide y axis]\n",
    "\\addplot+[color=black, fill=gray!10, ybar interval, mark=no] \n",
    "plot coordinates { (0, 2) (5, 15) (10, 20) (15, 10) (20, 7) (25, 0) };\n",
    "\\end{axis}\n",
    "\n",
    "\\end{scope}\n",
    "\\node at (5.5, -2) {직접 관측할 수 있지만 부정확하고 계속 달라지는 특성};\n"
   ]
  },
  {
   "cell_type": "markdown",
   "metadata": {
    "school_cell_uuid": "061573d00ce944be9edcc3908d7bf3d9"
   },
   "source": [
    "## 샘플링, 실현"
   ]
  },
  {
   "cell_type": "markdown",
   "metadata": {
    "school_cell_uuid": "0c7dff68efd54e66b5d676f331528d89"
   },
   "source": [
    "우리가 가진 데이터가 확률모형이라고 하는 가상의 주사위에 의해 생성된 것이라고 할 때, 이 주사위를 던져서 데이터를 생성하는 과정을 **샘플링**(sampling) 또는 **실현**(realization)이라고 한다. 또한 샘플링을 통해 얻어진 데이터를 표본이라고 한다. \n",
    "\n",
    "샘플링은 다른 의미로도 사용되는데 많은 수의 데이터 집합에서 일부 데이터만 선택하는 과정도 샘플링이라고도 한다. "
   ]
  },
  {
   "cell_type": "markdown",
   "metadata": {
    "school_cell_uuid": "bfc3a7ef66de42acbb1cd9fad1fa7997"
   },
   "source": [
    "## 데이터 분석의 과정"
   ]
  },
  {
   "cell_type": "markdown",
   "metadata": {
    "school_cell_uuid": "92f4d942eca9487d9fbc2f264abbf534"
   },
   "source": [
    "확률 모형을 사용하는 경우, 대부분의 데이터 분석은 다음과 같은 과정을 거친다.\n",
    "\n",
    "1. 데이터를 확보한다.\n",
    "2. 확보된 데이터를 어떤 확률 모형의 표본으로 가정한다.\n",
    "3. 해당 확률 모형의 종류를 결정하고 모수를 추정한다.\n",
    "4. 구해진 확률 모형으로부터 다음에 생성될 데이터나 데이터 특성을 예측한다."
   ]
  }
 ],
 "metadata": {
  "celltoolbar": "Edit Metadata",
  "kernelspec": {
   "display_name": "Python 3",
   "language": "python",
   "name": "python3"
  },
  "language_info": {
   "codemirror_mode": {
    "name": "ipython",
    "version": 3
   },
   "file_extension": ".py",
   "mimetype": "text/x-python",
   "name": "python",
   "nbconvert_exporter": "python",
   "pygments_lexer": "ipython3",
   "version": "3.6.2"
  }
 },
 "nbformat": 4,
 "nbformat_minor": 1
}
