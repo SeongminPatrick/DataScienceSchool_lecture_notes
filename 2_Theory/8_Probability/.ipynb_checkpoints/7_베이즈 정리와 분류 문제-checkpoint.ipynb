{
 "cells": [
  {
   "cell_type": "markdown",
   "metadata": {
    "school_cell_uuid": "a2ae790168b542e68d4a04120b47c901"
   },
   "source": [
    "# 베이즈 정리와 분류 문제"
   ]
  },
  {
   "cell_type": "markdown",
   "metadata": {
    "school_cell_uuid": "44d1c379faf54eab94026835b7773b27"
   },
   "source": [
    "베이즈 정리는 머신 러닝 중 분류(classification) 문제를 해결하는데 사용될 수 있다. 분류 문제는 입력 자료 $X$의 값으로부터 카테고리 값인 출력 자료 $Y$의 값을 예측(prediction)하는 문제이다. 다음과 같은 문제는 분류 문제의 한 예이다."
   ]
  },
  {
   "cell_type": "markdown",
   "metadata": {
    "school_cell_uuid": "22715e86c5a84d5089489256b36d209d"
   },
   "source": [
    "## 과일 선택 문제\n",
    "\n",
    "어떤 과일 가게에서 사과와 오렌지를 팔고 있다. 사과와 오렌지는 Red 농장과 Blue 농장에서 공급받는다.\n",
    "\n",
    "어느날 Red 농장에서 붉은 상자에 사과 2개, 오렌지 6개를 담아서 보냈다.\n",
    "Blue 농장에서는 푸른 상자에 사과가 3, 오렌지가 1개를 담아서 공급했다.\n",
    "\n",
    "이 과일을 받은 과일 가게 주인은 이 과일들을 모두 상자에서 꺼내어 늘어놓고 판매를 시작하였다.\n",
    "이 때 어떤 손님이 와서 오렌지를 하나 선택했다($X=$ 오렌지). 이 오렌지는 Red 농장에서 온 것일까($Y=$Red), 아니면 Blue 농장에서 온 것일까($Y=$Blue)?\n",
    "만약 Red 농장과 Blue 농장 중 하나의 답을 정해야 한다면 여러분은 어느 농장을 선택하겠는가?"
   ]
  },
  {
   "cell_type": "markdown",
   "metadata": {
    "school_cell_uuid": "4cd6ed66cbf24b258bd5f242c39ff417"
   },
   "source": [
    "<img src=\"https://datascienceschool.net/upfiles/41cc9ae1d9c247b68fa6688189d9fa34.png\" style=\"width: 60%\">"
   ]
  },
  {
   "cell_type": "markdown",
   "metadata": {
    "school_cell_uuid": "0be7312a1de04a8495c70f45e9035486"
   },
   "source": [
    "이 문제의 답은 누구나 직관적으로 알 수 있다. 오렌지가 더 많은 상자가 붉은 상자(Red 농장)이기 때문에 꺼낸 과일이 오렌지라면 상자는 원산지가 Red 농장일 가능성이 높을 것이다. 그 가능성 즉, 확률을 수치화해보자."
   ]
  },
  {
   "cell_type": "markdown",
   "metadata": {
    "school_cell_uuid": "8e89fa5082a349cabbd754a88d0732d7"
   },
   "source": [
    "이 문제를 확률론의 용어로 다시 정리한다.\n",
    "\n",
    "* 손님이 선택한 과일이 사과인 사건 $X=A$\n",
    "* 손님이 선택한 과일이 오렌지인 사건 $X=O$\n",
    "* 손님이 선택한 과일이 Red 농장에서 왔을 사건 $Y=R$\n",
    "* 손님이 선택한 과일이 Blue 농장에서 왔을 사건 $Y=B$\n",
    "\n",
    "우리가 원하는 확률은 \"손님이 오렌지를 선택한 경우에 원산지가 Red 농장일 확률\"이므로 다음과 같은 조건부 확률이다.\n",
    "\n",
    "$$ P(Y=R|X=O)  $$"
   ]
  },
  {
   "cell_type": "markdown",
   "metadata": {
    "school_cell_uuid": "fe4311bbaf8142fdbf1e2531af24b581"
   },
   "source": [
    "이 조건부 확률 값을 구하기 위해 우선 다음과 같은 확률 값을 구한다.\n",
    "\n",
    "전체 샘플 12개 중에서 Red 농장에서 온 샘플이 8개이므로\n",
    "\n",
    "$$ P(Y=R) = \\dfrac{8}{8 + 4}  = \\dfrac{8}{12} $$\n",
    "\n",
    "Red 농장의 샘플 8개 중에서 오렌지가 6개이므로\n",
    "\n",
    "$$ P(X=O | Y=R) = \\dfrac{6}{2 + 6}  = \\dfrac{6}{8} $$"
   ]
  },
  {
   "cell_type": "markdown",
   "metadata": {
    "school_cell_uuid": "1023a5b1e9844cfba4ae7082989e5cfc"
   },
   "source": [
    "이 값과 베이즈 정리를 이용하여 조건부 확률을 계산하면 다음과 같다.\n",
    "\n",
    "$$ \n",
    "\\begin{eqnarray}\n",
    "P(Y=R|X=O) \n",
    "&=& \\dfrac{P(X=O|Y=R)P(Y=R)}{P(X=O)} \\\\\n",
    "&=& \\dfrac{P(X=O|Y=R)P(Y=R)}{P(X=O|Y=R)P(Y=R) + P(X=O|Y=B)P(Y=B)} \\\\\n",
    "&=& \\dfrac{6/8 \\cdot 8/12}{6/8 \\cdot 8/12 + 1/4 \\cdot 4/12 } \\\\\n",
    "&=& \\dfrac{1/2}{1/2 + 1/12} = 6/7\\\\\n",
    "\\end{eqnarray}\n",
    "$$\n",
    "\n",
    "\n",
    "농장이 두 개 뿐이므로 원상지가 Blue 농장인 확률은 $ 1 - P(Y=R|X=O) $이다.\n",
    "\n",
    "\n",
    " $$ P(Y=B|X=O) = 1 - P(Y=R|X=O) = 1/7 $$"
   ]
  },
  {
   "cell_type": "markdown",
   "metadata": {
    "school_cell_uuid": "8c314327c9f542878c58274dfee5bbeb"
   },
   "source": [
    "답이 Red 농장일 확률이 $6/7$, Blue 농장일 확률이 $1/7$이므로 예측 결과는 Red 농장이다.\n",
    "\n",
    "이러한 방식으로 분류 문제를 풀기 위해서는 각각의 출력 카테고리 $Y$ 에 대한 특징값 $X$의 분포, 즉 likelihood를 알고 있어야 한다. 이렇게 베이즈 정리와 likelihood를 이용하여 각각의 $Y$ 값에 대한 확률 값을 모두 구한 다음, 가장 확률 값이 높은 $Y$값을 선택하여 분류 문제를 푸는 방법을 생성론적 방법(generative method)라고 한다."
   ]
  },
  {
   "cell_type": "markdown",
   "metadata": {
    "school_cell_uuid": "62f4402395c64260957af0b7c7066557"
   },
   "source": [
    "pgmpy를 사용하여 위 문제를 풀면 다음과 같다."
   ]
  },
  {
   "cell_type": "code",
   "execution_count": 2,
   "metadata": {
    "school_cell_uuid": "608cc829a301470bad17b46a10186581"
   },
   "outputs": [],
   "source": [
    "from pgmpy.factors.discrete import TabularCPD"
   ]
  },
  {
   "cell_type": "markdown",
   "metadata": {
    "school_cell_uuid": "28b2101e43684a36853e459573af2417"
   },
   "source": [
    "여기에서는 확률 변수 Y를 Y=0인 경우가 Red 농장, Y=1인 경우가 Blue 농장으로 정의한다."
   ]
  },
  {
   "cell_type": "code",
   "execution_count": 3,
   "metadata": {
    "school_cell_uuid": "38b391bd3c3d4fd0a001d8d00045fa28"
   },
   "outputs": [
    {
     "name": "stdout",
     "output_type": "stream",
     "text": [
      "+-----+----------+\n",
      "| Y_0 | 0.666667 |\n",
      "+-----+----------+\n",
      "| Y_1 | 0.333333 |\n",
      "+-----+----------+\n"
     ]
    }
   ],
   "source": [
    "cpd_Y = TabularCPD('Y', 2, [[8/12, 4/12]])\n",
    "print(cpd_Y)"
   ]
  },
  {
   "cell_type": "markdown",
   "metadata": {
    "school_cell_uuid": "4242677d3b6a45338b09166cbe3ceca2"
   },
   "source": [
    "확률 변수 X는 X=0인 경우를 오렌지인 경우, X=1인 경우를 사과인 경우으로 정의한다."
   ]
  },
  {
   "cell_type": "code",
   "execution_count": 4,
   "metadata": {
    "school_cell_uuid": "35b3690059ec433cb11b098f7d13fdce"
   },
   "outputs": [
    {
     "name": "stdout",
     "output_type": "stream",
     "text": [
      "+-----+------+------+\n",
      "| Y   | Y_0  | Y_1  |\n",
      "+-----+------+------+\n",
      "| X_0 | 0.75 | 0.25 |\n",
      "+-----+------+------+\n",
      "| X_1 | 0.25 | 0.75 |\n",
      "+-----+------+------+\n"
     ]
    }
   ],
   "source": [
    "cpd_XY = TabularCPD('X', 2, np.array([[6/8, 1/4], [2/8, 3/4]]),\n",
    "                    evidence=['Y'], evidence_card=[2])\n",
    "print(cpd_XY)"
   ]
  },
  {
   "cell_type": "markdown",
   "metadata": {
    "school_cell_uuid": "5533502f5d02459db4d3b57df7723974"
   },
   "source": [
    "베이지안 네트워크 모형으로 사후확률을 계산하면 $0.1429 = \\frac{1}{7}$이 나온다."
   ]
  },
  {
   "cell_type": "code",
   "execution_count": 7,
   "metadata": {
    "school_cell_uuid": "eaa62a442c3a43a3917d3507a8933497"
   },
   "outputs": [
    {
     "data": {
      "text/plain": [
       "True"
      ]
     },
     "execution_count": 7,
     "metadata": {},
     "output_type": "execute_result"
    }
   ],
   "source": [
    "from pgmpy.models import BayesianModel\n",
    "\n",
    "model = BayesianModel([('Y', 'X')])\n",
    "model.add_cpds(cpd_Y, cpd_XY)\n",
    "model.check_model()"
   ]
  },
  {
   "cell_type": "code",
   "execution_count": 9,
   "metadata": {
    "school_cell_uuid": "84ff05f6854a4496bf6aa71772fccd01"
   },
   "outputs": [
    {
     "name": "stdout",
     "output_type": "stream",
     "text": [
      "+-----+----------+\n",
      "| Y   |   phi(Y) |\n",
      "+=====+==========+\n",
      "| Y_0 |   0.8571 |\n",
      "+-----+----------+\n",
      "| Y_1 |   0.1429 |\n",
      "+-----+----------+\n"
     ]
    }
   ],
   "source": [
    "from pgmpy.inference import VariableElimination\n",
    "\n",
    "infer = VariableElimination(model)\n",
    "posterior = infer.query(['Y'], evidence={'X': 0})\n",
    "print(posterior['Y'])"
   ]
  },
  {
   "cell_type": "code",
   "execution_count": 10,
   "metadata": {
    "school_cell_uuid": "e4d50adca99141f29f161f2848dc97a4"
   },
   "outputs": [
    {
     "data": {
      "text/plain": [
       "0.14285714285714285"
      ]
     },
     "execution_count": 10,
     "metadata": {},
     "output_type": "execute_result"
    }
   ],
   "source": [
    "1/7"
   ]
  }
 ],
 "metadata": {
  "kernelspec": {
   "display_name": "Python 3",
   "language": "python",
   "name": "python3"
  },
  "language_info": {
   "codemirror_mode": {
    "name": "ipython",
    "version": 3
   },
   "file_extension": ".py",
   "mimetype": "text/x-python",
   "name": "python",
   "nbconvert_exporter": "python",
   "pygments_lexer": "ipython3",
   "version": "3.6.2"
  }
 },
 "nbformat": 4,
 "nbformat_minor": 1
}
