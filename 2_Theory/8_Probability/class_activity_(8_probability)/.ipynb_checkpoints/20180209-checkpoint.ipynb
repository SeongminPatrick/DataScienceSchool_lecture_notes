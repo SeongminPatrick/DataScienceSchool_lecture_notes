{
 "cells": [
  {
   "cell_type": "code",
   "execution_count": 1,
   "metadata": {},
   "outputs": [],
   "source": [
    "import set_math_wy"
   ]
  },
  {
   "cell_type": "code",
   "execution_count": 2,
   "metadata": {},
   "outputs": [],
   "source": [
    "from pgmpy.factors.discrete import TabularCPD"
   ]
  },
  {
   "cell_type": "code",
   "execution_count": 9,
   "metadata": {},
   "outputs": [
    {
     "name": "stdout",
     "output_type": "stream",
     "text": [
      "╒═════╤═══════╕\n",
      "│ X_0 │ 0.998 │\n",
      "├─────┼───────┤\n",
      "│ X_1 │ 0.002 │\n",
      "╘═════╧═══════╛\n"
     ]
    }
   ],
   "source": [
    "cpd_D = TabularCPD('X', 2, [[1-0.002, 0.002]])\n",
    "print(cpd_D)"
   ]
  },
  {
   "cell_type": "code",
   "execution_count": 10,
   "metadata": {},
   "outputs": [
    {
     "name": "stdout",
     "output_type": "stream",
     "text": [
      "╒═════╤══════╤══════╕\n",
      "│ X   │ X_0  │ X_1  │\n",
      "├─────┼──────┼──────┤\n",
      "│ Y_0 │ 0.95 │ 0.01 │\n",
      "├─────┼──────┼──────┤\n",
      "│ Y_1 │ 0.05 │ 0.99 │\n",
      "╘═════╧══════╧══════╛\n"
     ]
    }
   ],
   "source": [
    "cpd_SD = TabularCPD('Y', 2, np.array([[0.95, 0.01], [0.05, 0.99]]),\n",
    "                    evidence=['X'], evidence_card=[2])  # evidence = condition, evidence_card = 몇가지? 2가지\n",
    "print(cpd_SD)"
   ]
  },
  {
   "cell_type": "code",
   "execution_count": 11,
   "metadata": {},
   "outputs": [],
   "source": [
    "from pgmpy.models import BayesianModel"
   ]
  },
  {
   "cell_type": "code",
   "execution_count": 14,
   "metadata": {},
   "outputs": [
    {
     "data": {
      "text/plain": [
       "True"
      ]
     },
     "execution_count": 14,
     "metadata": {},
     "output_type": "execute_result"
    }
   ],
   "source": [
    "model = BayesianModel([('X', 'Y')])  # X 때문에 Y가 발생한다\n",
    "model.add_cpds(cpd_D, cpd_SD)        # X의 확률과, X 때문에 Y가 발생한 확률\n",
    "model.check_model()"
   ]
  },
  {
   "cell_type": "code",
   "execution_count": 16,
   "metadata": {},
   "outputs": [
    {
     "name": "stdout",
     "output_type": "stream",
     "text": [
      "╒═════╤══════════╕\n",
      "│ X   │   phi(X) │\n",
      "╞═════╪══════════╡\n",
      "│ X_0 │   0.9618 │\n",
      "├─────┼──────────┤\n",
      "│ X_1 │   0.0382 │\n",
      "╘═════╧══════════╛\n"
     ]
    }
   ],
   "source": [
    "from pgmpy.inference import VariableElimination\n",
    "\n",
    "infer = VariableElimination(model)\n",
    "posterior = infer.query(['X'], evidence={'Y': 1})\n",
    "print(posterior['X'])"
   ]
  },
  {
   "cell_type": "markdown",
   "metadata": {},
   "source": [
    "#### 연습 문제 1\n",
    "\n",
    "다음 식을 증명하라.\n",
    "\n",
    "$$ P(A|B,C) = \\dfrac{P(B|A,C)P(A|C)}{P(B|C)} $$"
   ]
  },
  {
   "cell_type": "markdown",
   "metadata": {},
   "source": [
    "$$ P(A,B,C) = P(A|B,C)P(B,C) = P(A|B,C)P(B|C)P(C)$$  \n",
    "\n",
    "$$ P(A,B,C) = P(B|A,C)P(A,C) = P(B|A,C)P(A|C)P(C)$$\n",
    "\n",
    "$$ P(A|B,C)P(B|C)P(C) = P(B|A,C)P(A|C)P(C) $$\n",
    "\n",
    "$$ P(A|B,C) = \\dfrac{(B|A,C)P(A|C)}{P(B|C)} $$"
   ]
  },
  {
   "cell_type": "code",
   "execution_count": null,
   "metadata": {},
   "outputs": [],
   "source": []
  },
  {
   "cell_type": "code",
   "execution_count": null,
   "metadata": {},
   "outputs": [],
   "source": []
  }
 ],
 "metadata": {
  "kernelspec": {
   "display_name": "Python 3",
   "language": "python",
   "name": "python3"
  },
  "language_info": {
   "codemirror_mode": {
    "name": "ipython",
    "version": 3
   },
   "file_extension": ".py",
   "mimetype": "text/x-python",
   "name": "python",
   "nbconvert_exporter": "python",
   "pygments_lexer": "ipython3",
   "version": "3.6.2"
  }
 },
 "nbformat": 4,
 "nbformat_minor": 2
}
