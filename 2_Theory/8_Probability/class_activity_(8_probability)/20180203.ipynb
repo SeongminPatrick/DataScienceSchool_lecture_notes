{
 "cells": [
  {
   "cell_type": "markdown",
   "metadata": {},
   "source": [
    "### 연습 문제 3\n",
    "\n",
    "확률론으로 접근할 수 있는 문제와 그 표본 공간의 예를 4가지 더 만들어본다. 4가지 문제 중 2가지는 표본 공간의 크기가 무한대이어야 한다."
   ]
  },
  {
   "cell_type": "markdown",
   "metadata": {},
   "source": [
    "`1`. 축구 경기 시작 후, 몇 분 후 첫 골이 들어가는가?\n",
    "    - sample space : {0-90 사이 실수, 그외}\n",
    "\n",
    "\n",
    "`2`. 명동역 4번 출구를 지나가는 100명의 사람 중, 한국국적을 가진 사람은 몇 명인가?\n",
    "    - sample space : {1~100 의 자연수}\n",
    "\n",
    "\n",
    "`3`. 패스트캠퍼스 앞 백반집에 갔다. 불고기, 돼지갈비, 닭갈비, 제육볶음 중, 고기반찬으로 무엇이 나왔는가?\n",
    "    - sample space : {불고기, 돼지갈비, 제육볶음, 닭갈비, 그외}\n",
    "\n",
    "\n",
    "`4`. 주간 차트 1위 곡의 스트리밍 재생 횟수는?\n",
    "    - sample space : {모든 자연수}\n"
   ]
  },
  {
   "cell_type": "markdown",
   "metadata": {},
   "source": [
    "### 연습 문제 6\n",
    "\n",
    "위의 두 조건  \n",
    "P({1})=0.5  \n",
    "P({4})=0  \n",
    "을 만족하도록 주사위의 확률을 모든 부분집합에 대해 할당해 본다. 파이썬으로 구현한다."
   ]
  },
  {
   "cell_type": "code",
   "execution_count": 1,
   "metadata": {},
   "outputs": [
    {
     "data": {
      "text/plain": [
       "{frozenset(): 0,\n",
       " frozenset({1}): 0.5,\n",
       " frozenset({2}): 0.2,\n",
       " frozenset({3}): 0.3,\n",
       " frozenset({4}): 0,\n",
       " frozenset({1, 2}): 0.7,\n",
       " frozenset({1, 3}): 0.8,\n",
       " frozenset({1, 4}): 0.5,\n",
       " frozenset({2, 3}): 0.5,\n",
       " frozenset({2, 4}): 0.2,\n",
       " frozenset({3, 4}): 0.3,\n",
       " frozenset({1, 2, 3}): 1,\n",
       " frozenset({1, 2, 4}): 0.7,\n",
       " frozenset({1, 3, 4}): 0.8,\n",
       " frozenset({2, 3, 4}): 0.5,\n",
       " frozenset({1, 2, 3, 4}): 1}"
      ]
     },
     "execution_count": 1,
     "metadata": {},
     "output_type": "execute_result"
    }
   ],
   "source": [
    "P = {\n",
    "    frozenset(): 0,\n",
    "    frozenset({1}): 0.5,\n",
    "    frozenset({2}): 0.2,\n",
    "    frozenset({3}): 0.3,\n",
    "    frozenset({4}): 0,\n",
    "    frozenset({1, 2}): 0.7,\n",
    "    frozenset({1, 3}): 0.8,\n",
    "    frozenset({1, 4}): 0.5,\n",
    "    frozenset({2, 3}): 0.5, \n",
    "    frozenset({2, 4}): 0.2, \n",
    "    frozenset({3, 4}): 0.3, \n",
    "    frozenset({1, 2, 3}): 1,\n",
    "    frozenset({1, 2, 4}): 0.7,\n",
    "    frozenset({1, 3, 4}): 0.8,\n",
    "    frozenset({2, 3, 4}): 0.5,\n",
    "    frozenset({1, 2, 3, 4}): 1\n",
    "}\n",
    "\n",
    "\n",
    "P"
   ]
  },
  {
   "cell_type": "markdown",
   "metadata": {},
   "source": [
    "### 연습 문제 8\n",
    "\n",
    "위 시계바늘 문제에서 각자 여러가지 방법으로 확률을 할당해 보자.  \n",
    "그리고 이 결과를 다른 사람에게 요약하여 전달해 보자.  \n",
    "어떤 방법을 사용해야 효과적으로 그리고 정확하게 확률 할당 결과를 전달할 수 있겠는가?"
   ]
  },
  {
   "cell_type": "markdown",
   "metadata": {},
   "source": [
    "\n",
    "# 확률의 성질\n",
    "\n",
    "### 연습문제 1\n",
    "\n",
    "- 전체 사람들 중에서 남자들만의 모임은 부분집합이므로 사건이라고 부를 수 있다. 이를 사건  A라고 한다.\n",
    "- 전체 사람들 중에서 머리가 긴 사람들만의 모임도 부분집합이므로 사건이라고 부를 수 있다. 이를 사건  B라고 한다.\n",
    "- 나이가  i살인 사람들의 집합도 부분집합이므로 사건이다. 예를 들어 나이가 1살인 사람의 집합은  C1\n",
    " , 예를 들어 나이가 2살인 사람의 집합은 C2\n",
    " , 예를 들어 나이가 3살인 사람의 집합은  C3\n",
    " , ... 이런 식으로  C200\n",
    " 까지의 집합을 만들 수 있다.\n",
    "\n",
    "a1 = 남자, 머리 짧음, 26세  \n",
    "a2 = 남자, 머리 김, 25세  \n",
    "a3 = 여자, 머리 짧음, 40세  \n",
    "a4 = 여자, 머리 김, 36세  \n",
    "a5 = 여자, 머리 김, 17세  \n",
    "a6 = 여자, 머리 김, 23세  \n",
    "a7 = 남자, 머리 짧음, 54세  \n",
    "a8 = 여자, 머리 김, 22세  \n",
    "a9 = 여자, 머리 짧음, 28세  \n",
    "a10 = 남자, 머리 짧음, 31세  \n",
    "a11 = 여자, 머리 짧음, 19세  \n",
    "a12 = 여자, 머리 김, 37세  "
   ]
  },
  {
   "cell_type": "markdown",
   "metadata": {},
   "source": [
    "$$ P(A) = \\dfrac{card(A)}{card(\\Omega)} = \\dfrac{1}{3} $$"
   ]
  },
  {
   "cell_type": "markdown",
   "metadata": {},
   "source": [
    "$$ P(B) = \\dfrac{card(B)}{card(\\Omega)} = \\dfrac{1}{2} $$"
   ]
  },
  {
   "cell_type": "markdown",
   "metadata": {},
   "source": [
    "$$ P(A^C) = 1 - P(A) = \\dfrac{2}{3}$$"
   ]
  },
  {
   "cell_type": "markdown",
   "metadata": {},
   "source": [
    "$$ P(A \\cup B) = P(A) + P(B) – P(A \\cap B) = \\dfrac{1}{3} + \\dfrac{1}{2} - \\dfrac{1}{12}= \\dfrac{3}{4}$$"
   ]
  },
  {
   "cell_type": "markdown",
   "metadata": {},
   "source": [
    "$$ P(A) = \\sum_i P(A \\cap C_i) = P(A \\cap C_1) + P(A \\cap C_2) + P(A \\cap C_7) + P(A \\cap C_{10}) = \\dfrac{1}{3}$$"
   ]
  },
  {
   "cell_type": "code",
   "execution_count": null,
   "metadata": {},
   "outputs": [],
   "source": []
  },
  {
   "cell_type": "code",
   "execution_count": null,
   "metadata": {},
   "outputs": [],
   "source": []
  },
  {
   "cell_type": "code",
   "execution_count": null,
   "metadata": {},
   "outputs": [],
   "source": []
  },
  {
   "cell_type": "markdown",
   "metadata": {},
   "source": [
    "|x|Y| |\n",
    "|-|-|\n",
    "| 1|2 |3 |\n",
    "| 4| 5| 6|"
   ]
  },
  {
   "cell_type": "markdown",
   "metadata": {},
   "source": [
    "<table class=\"table-bordered\" style=\"width:90%\">\n",
    "  <tr>\n",
    "    <td></td>\n",
    "    <td>범인이 머리가 길다: $P(B)=\\dfrac{1}{2}$</td>\n",
    "    <td>범인이 머리가 길지 않다: $P(B^C)=\\dfrac{1}{2}$</td> \n",
    "    <td>계</td> \n",
    "  </tr>\n",
    "  <tr>\n",
    "    <td>범인이 남자다: $P(A)=\\dfrac{1}{3}$</td>\n",
    "    <td>1명 $\\;\\;\\;P(A,B) = \\dfrac{1}{12}$</td>\n",
    "    <td>3명 $\\;\\;\\;P(A,B^C) = \\dfrac{1}{4}$</td>\n",
    "    <td>4명</td>\n",
    "  </tr>\n",
    "  <tr>\n",
    "    <td>범인이 여자다 $P(A^C)=\\dfrac{2}{3}$</td> \n",
    "    <td>3명 $P(A^C,B) = \\dfrac{1}{4}$</td>\n",
    "    <td>5명 $P(A^C,B^C) = \\dfrac{5}{12}$</td> \n",
    "    <td>8명</td> \n",
    "  </tr>\n",
    "  <tr>\n",
    "    <td>계</td> \n",
    "    <td>6명 </td>\n",
    "    <td>6명</td> \n",
    "    <td></td> \n",
    "  </tr>\n",
    "</table>\n",
    "\n"
   ]
  },
  {
   "cell_type": "markdown",
   "metadata": {},
   "source": [
    "`1`. _사건 **A** 와 사건 **B** 는 서로 독립이 아니다_\n",
    "\n",
    "$ P(A) \\cdot P(B) = \\dfrac{1}{6} $  \n",
    "$ P(A,B) = \\dfrac{1}{12} $\n",
    "\n",
    "<br>\n",
    "<br>\n",
    "\n",
    "`2`. 조건부 결론\n",
    "\n",
    "$ P(A|B)=P(A,B)P(B)=\\dfrac{1}{12} \\cdot \\dfrac{1}{2} = \\dfrac{1}{24} $\n",
    "\n",
    "범인이 머리가 길 때, 남자일 확률은 $ \\dfrac{1}{24}$ 이다"
   ]
  },
  {
   "cell_type": "markdown",
   "metadata": {},
   "source": [
    "# 파이썬으로 구현"
   ]
  },
  {
   "cell_type": "code",
   "execution_count": 12,
   "metadata": {},
   "outputs": [],
   "source": [
    "from pgmpy.factors.discrete import JointProbabilityDistribution as JPD"
   ]
  },
  {
   "cell_type": "code",
   "execution_count": 19,
   "metadata": {},
   "outputs": [
    {
     "name": "stdout",
     "output_type": "stream",
     "text": [
      "╒═════╤═════╤══════════╕\n",
      "│ A   │ B   │   P(A,B) │\n",
      "╞═════╪═════╪══════════╡\n",
      "│ A_0 │ B_0 │   0.0833 │\n",
      "├─────┼─────┼──────────┤\n",
      "│ A_0 │ B_1 │   0.2500 │\n",
      "├─────┼─────┼──────────┤\n",
      "│ A_1 │ B_0 │   0.2500 │\n",
      "├─────┼─────┼──────────┤\n",
      "│ A_1 │ B_1 │   0.4167 │\n",
      "╘═════╧═════╧══════════╛\n"
     ]
    }
   ],
   "source": [
    "j1 = JPD(['A', 'B'], [2, 2], np.array([1, 3, 3, 5]) / 12)\n",
    "print(j1)"
   ]
  },
  {
   "cell_type": "markdown",
   "metadata": {},
   "source": [
    "연습해보기, 과제"
   ]
  },
  {
   "cell_type": "code",
   "execution_count": 20,
   "metadata": {},
   "outputs": [
    {
     "name": "stdout",
     "output_type": "stream",
     "text": [
      "╒═════╤════════╕\n",
      "│ A   │   P(A) │\n",
      "╞═════╪════════╡\n",
      "│ A_0 │ 0.3333 │\n",
      "├─────┼────────┤\n",
      "│ A_1 │ 0.6667 │\n",
      "╘═════╧════════╛\n"
     ]
    }
   ],
   "source": [
    "m1a = j1.marginal_distribution(['A'], inplace=False)\n",
    "print(m1a)"
   ]
  },
  {
   "cell_type": "code",
   "execution_count": 21,
   "metadata": {},
   "outputs": [
    {
     "name": "stdout",
     "output_type": "stream",
     "text": [
      "╒═════╤════════╕\n",
      "│ B   │   P(B) │\n",
      "╞═════╪════════╡\n",
      "│ B_0 │ 0.3333 │\n",
      "├─────┼────────┤\n",
      "│ B_1 │ 0.6667 │\n",
      "╘═════╧════════╛\n"
     ]
    }
   ],
   "source": [
    "m1b = j1.marginal_distribution(['B'], inplace=False)\n",
    "print(m1b)"
   ]
  },
  {
   "cell_type": "code",
   "execution_count": 22,
   "metadata": {},
   "outputs": [
    {
     "name": "stdout",
     "output_type": "stream",
     "text": [
      "╒═════╤════════╕\n",
      "│ B   │   P(B) │\n",
      "╞═════╪════════╡\n",
      "│ B_0 │ 0.2500 │\n",
      "├─────┼────────┤\n",
      "│ B_1 │ 0.7500 │\n",
      "╘═════╧════════╛\n"
     ]
    }
   ],
   "source": [
    "c1a0 = j1.conditional_distribution([('A', 0)], inplace=False)\n",
    "print(c1a0)"
   ]
  },
  {
   "cell_type": "code",
   "execution_count": 23,
   "metadata": {},
   "outputs": [
    {
     "name": "stdout",
     "output_type": "stream",
     "text": [
      "╒═════╤════════╕\n",
      "│ B   │   P(B) │\n",
      "╞═════╪════════╡\n",
      "│ B_0 │ 0.3750 │\n",
      "├─────┼────────┤\n",
      "│ B_1 │ 0.6250 │\n",
      "╘═════╧════════╛\n"
     ]
    }
   ],
   "source": [
    "c1a1 = j1.conditional_distribution([('A', 1)], inplace=False)\n",
    "print(c1a1)"
   ]
  },
  {
   "cell_type": "code",
   "execution_count": 24,
   "metadata": {},
   "outputs": [
    {
     "name": "stdout",
     "output_type": "stream",
     "text": [
      "╒═════╤════════╕\n",
      "│ A   │   P(A) │\n",
      "╞═════╪════════╡\n",
      "│ A_0 │ 0.2500 │\n",
      "├─────┼────────┤\n",
      "│ A_1 │ 0.7500 │\n",
      "╘═════╧════════╛\n"
     ]
    }
   ],
   "source": [
    "c1b0 = j1.conditional_distribution([('B', 0)], inplace=False)\n",
    "print(c1b0)"
   ]
  },
  {
   "cell_type": "code",
   "execution_count": 25,
   "metadata": {},
   "outputs": [
    {
     "name": "stdout",
     "output_type": "stream",
     "text": [
      "╒═════╤════════╕\n",
      "│ A   │   P(A) │\n",
      "╞═════╪════════╡\n",
      "│ A_0 │ 0.3750 │\n",
      "├─────┼────────┤\n",
      "│ A_1 │ 0.6250 │\n",
      "╘═════╧════════╛\n"
     ]
    }
   ],
   "source": [
    "c1b1 = j1.conditional_distribution([('B', 1)], inplace=False)\n",
    "print(c1b1)"
   ]
  },
  {
   "cell_type": "code",
   "execution_count": null,
   "metadata": {},
   "outputs": [],
   "source": []
  }
 ],
 "metadata": {
  "kernelspec": {
   "display_name": "Python 3",
   "language": "python",
   "name": "python3"
  },
  "language_info": {
   "codemirror_mode": {
    "name": "ipython",
    "version": 3
   },
   "file_extension": ".py",
   "mimetype": "text/x-python",
   "name": "python",
   "nbconvert_exporter": "python",
   "pygments_lexer": "ipython3",
   "version": "3.6.2"
  }
 },
 "nbformat": 4,
 "nbformat_minor": 2
}
