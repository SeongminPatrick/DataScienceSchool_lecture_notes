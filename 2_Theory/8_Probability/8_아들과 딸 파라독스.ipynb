{
 "cells": [
  {
   "cell_type": "markdown",
   "metadata": {
    "school_cell_uuid": "7386f91caf2e47e583ea8892c46499d8"
   },
   "source": [
    "# 아들과 딸 파라독스"
   ]
  },
  {
   "cell_type": "markdown",
   "metadata": {
    "school_cell_uuid": "a4d9e5b2452d4755be0d7ce0302735cf"
   },
   "source": [
    "다음 문제는 수학자인 마틴 가드너가 1959년 사이언티픽 아메리칸에 게재하였던 문제이다. \n",
    "\n",
    "원래 원문은 다음과 같다\n",
    "\n",
    "  * (Q1) Mr. Jones has two children. The older child is a boy. What is the probability that both children are boys?\n",
    "  * (Q2) Mr. Smith has two children. At least one of them is a boy. What is the probability that both children are boys?\n",
    "  \n",
    "문제의 본질을 바꾸지 않고 다음과 같이 번역할 수 있다.\n",
    "\n",
    "  * (문제 1) 두 아이가 있는 어떤 집에서 첫째 아이가 남자이다. 두 아이가 모두 남자일 확률은?\n",
    "  * (문제 2) 두 아이가 있는 어떤 집에서 두 아이 중 한 명이 남자이다. 두 아이가 모두 남자일 확률은?"
   ]
  },
  {
   "cell_type": "markdown",
   "metadata": {
    "school_cell_uuid": "d4ca137d51b147789b429a3fbc4bb6f2"
   },
   "source": [
    "두 아이의 성별에 대해 다음과 같은 경우가 있을 수 있다.\n",
    "\n",
    "\n",
    "<table class=\"table-bordered\">\n",
    "<tbody><tr>\n",
    "<tr>\n",
    "<td></td>\n",
    "<td>둘째=Boy</td>\n",
    "<td>둘째=Girl</td>\n",
    "</tr>\n",
    "<tr>\n",
    "<td>첫째=Boy</td>\n",
    "<td>BB</td>\n",
    "<td>BG</td>\n",
    "</tr>\n",
    "<tr>\n",
    "<td>첫째=Girl</td>\n",
    "<td>GB</td>\n",
    "<td>GG</td>\n",
    "</tr>\n",
    "</tbody></table>"
   ]
  },
  {
   "cell_type": "markdown",
   "metadata": {
    "school_cell_uuid": "61ceecbe38674420b2c2b27f5a3e98fe"
   },
   "source": [
    "첫번째 문제의 답은 $\\dfrac{1}{2}$ 이다.\n",
    "\n",
    "<table class=\"table-bordered\">\n",
    "<tbody><tr>\n",
    "<tr>\n",
    "<td></td>\n",
    "<td>둘째=Boy</td>\n",
    "<td>둘째=Girl</td>\n",
    "</tr>\n",
    "<tr>\n",
    "<td>첫째=Boy</td>\n",
    "<td>BB</td>\n",
    "<td>BG</td>\n",
    "</tr>\n",
    "<tr>\n",
    "<td><s>첫째=Girl</s></td>\n",
    "<td><s>GB</s></td>\n",
    "<td><s>GG</s></td>\n",
    "</tr>\n",
    "</tbody></table>"
   ]
  },
  {
   "cell_type": "markdown",
   "metadata": {
    "school_cell_uuid": "3c9865e7e2c74be0a41b33bede4527a2"
   },
   "source": [
    "이 문제가 파라독스가 된 이유는 두번째 문제의 답이 사실 두 가지가 있을 수 있기 때문이다. 이 답은 \"두 아이 중 한 명이 남자이다\"라는 정보의 질(quality)에 따라 달라진다.\n",
    "\n",
    "다음과 같은 두 가지 경우를 생각하자.\n",
    "\n",
    "* 경우 1: \"두 아이 중 적어도 한 명이 남자인가요\"라는 질문에 부모가 \"네\"라고 대답한 경우\n",
    "* 경우 2: 그 집에서 나오는 아이를 우연히 보았는데 그 아이가 남자인 경우 또는 그 집에 전화를 걸었는데 남자 어린 아이가 전화를 받은 경우"
   ]
  },
  {
   "cell_type": "markdown",
   "metadata": {
    "school_cell_uuid": "a3299aa544234c9387ce4e11a0f67c20"
   },
   "source": [
    "경우 1에서 두 아이가 모두 남자일 확률은 표에서 보듯이 $\\dfrac{1}{3}$이다.\n",
    "\n",
    "<table class=\"table-bordered\">\n",
    "<tbody><tr>\n",
    "<tr>\n",
    "<td></td>\n",
    "<td>둘째=Boy</td>\n",
    "<td>둘째=Girl</td>\n",
    "</tr>\n",
    "<tr>\n",
    "<td>첫째=Boy</td>\n",
    "<td>BB</td>\n",
    "<td>BG</td>\n",
    "</tr>\n",
    "<tr>\n",
    "<td>첫째=Girl</td>\n",
    "<td>GB</td>\n",
    "<td><s>GG</s></td>\n",
    "</tr>\n",
    "</tbody></table>"
   ]
  },
  {
   "cell_type": "markdown",
   "metadata": {
    "school_cell_uuid": "ddcbc6c4305e4258b65f66f948e4995a"
   },
   "source": [
    "이를 베이즈 정리로 풀면 다음과 같다. 이 식에서 $Y$는 \"두 아이 중 적어도 한 명이 남자인가요\"라는 질문에 부모가 \"네\"라고 대답한 경우를 뜻한다.\n",
    "\n",
    "\n",
    "$$ \n",
    "\\begin{eqnarray}\n",
    "P(BB|Y) \n",
    "&=& \\dfrac{P(Y|BB)P(BB)}{P(Y)} \\\\\n",
    "&=& \\dfrac{P(Y|BB)P(BB)}{P(Y|BB)P(BB) + P(Y|BG)P(BG) + P(Y|GB)P(GB) + P(Y|GG)P(GG)} \\\\\n",
    "&=& \\dfrac{1\\cdot 0.25}{1\\cdot 0.25 + 1\\cdot 0.25 + 1\\cdot 0.25 + 0\\cdot 0.25} \\\\\n",
    "&=& \\dfrac{0.25}{0.75} = \\dfrac{1}{3}\n",
    "\\end{eqnarray}\n",
    "$$"
   ]
  },
  {
   "cell_type": "markdown",
   "metadata": {
    "school_cell_uuid": "ffc578a1099c4dce892284c8979d7d83"
   },
   "source": [
    "경우 2에서는 남자 아이를 목격하지는 못해도 실제로는 남자 아이가 있는 경우도 있을 수 있기 때문에 답은 다음과 같이 $\\dfrac{1}{2}$가 된다.\n",
    "\n",
    "\n",
    "<table class=\"table-bordered\">\n",
    "<tbody><tr>\n",
    "<tr>\n",
    "<td></td>\n",
    "<td>둘째=Boy</td>\n",
    "<td>둘째=Girl</td>\n",
    "</tr>\n",
    "<tr>\n",
    "<td>첫째=Boy</td>\n",
    "<td>BB</td>\n",
    "<td>BG (남자 목격 확률 1/2) </td>\n",
    "</tr>\n",
    "<tr>\n",
    "<td>첫째=Girl</td>\n",
    "<td>GB (남자 목격 확률 1/2) </td>\n",
    "<td><s>GG</s></td>\n",
    "</tr>\n",
    "</tbody></table>"
   ]
  },
  {
   "cell_type": "markdown",
   "metadata": {
    "school_cell_uuid": "7c0c8152541a4752b38c093ec6195cb5"
   },
   "source": [
    "베이지 정리로 풀면 다음과 같다. 이 식에서 $Y$는 \"그 집에서 나오는 아이를 우연히 보았는데 그 아이가 남자인 경우\"를 뜻한다.\n",
    "\n",
    "\n",
    "$$ \n",
    "\\begin{eqnarray}\n",
    "P(BB|Y) \n",
    "&=& \\dfrac{P(Y|BB)P(BB)}{P(Y)} \\\\\n",
    "&=& \\dfrac{P(Y|BB)P(BB)}{P(Y|BB)P(BB) + P(Y|BG)P(BG) + P(Y|GB)P(GB) + P(Y|GG)P(GG)} \\\\\n",
    "&=& \\dfrac{1\\cdot 0.25}{1\\cdot 0.25 + 0.5\\cdot 0.25 + 0.5\\cdot 0.25 + 0\\cdot 0.25} \\\\\n",
    "&=& \\dfrac{0.25}{0.50} = \\dfrac{1}{2}\n",
    "\\end{eqnarray}\n",
    "$$"
   ]
  }
 ],
 "metadata": {
  "kernelspec": {
   "display_name": "Python [Root]",
   "language": "python",
   "name": "Python [Root]"
  },
  "language_info": {
   "codemirror_mode": {
    "name": "ipython",
    "version": 2
   },
   "file_extension": ".py",
   "mimetype": "text/x-python",
   "name": "python",
   "nbconvert_exporter": "python",
   "pygments_lexer": "ipython2",
   "version": "2.7.12"
  }
 },
 "nbformat": 4,
 "nbformat_minor": 0
}